{
 "cells": [
  {
   "cell_type": "code",
   "execution_count": null,
   "metadata": {},
   "outputs": [],
   "source": [
    "import numpy as np\n",
    "\n",
    "from sklearn.datasets import make_regression\n",
    "from sklearn.model_selection import train_test_split\n",
    "from sklearn.preprocessing import MinMaxScaler\n",
    "from sklearn.neural_network import MLPRegressor\n",
    "from sklearn.linear_model import LinearRegression\n",
    "from sklearn.metrics import mean_squared_error, r2_score\n",
    "import matplotlib.pyplot as plt\n"
   ]
  },
  {
   "cell_type": "code",
   "execution_count": null,
   "metadata": {},
   "outputs": [],
   "source": [
    "X_train = np.arange(0.0, 1.0, 0.1)\n",
    "y_train = np.exp(np.sin(10*X_train))\n",
    "X_train = X_train.reshape(-1, 1)\n",
    "\n",
    "X_test = np.arange(0.01, 1.0, 0.01)\n",
    "y_test = np.exp(np.sin(10*X_test))\n",
    "X_test = X_test.reshape(-1, 1)\n"
   ]
  },
  {
   "cell_type": "code",
   "execution_count": null,
   "metadata": {},
   "outputs": [],
   "source": [
    "\n",
    "\n",
    "from squlearn import Executor\n",
    "from squlearn.qelm import QELMRegressor\n",
    "\n",
    "from squlearn.encoding_circuit import ChebyshevPQC, HubregtsenEncodingCircuit, ChebyshevTower"
   ]
  },
  {
   "cell_type": "code",
   "execution_count": null,
   "metadata": {},
   "outputs": [],
   "source": [
    "#pqc = ChebyshevTower(4,1,num_chebyshev=2,num_layers=5)\n",
    "\n",
    "pqc = HubregtsenEncodingCircuit(10,1, num_layers=2)\n",
    "\n",
    "exec = Executor()\n",
    "\n",
    "qelm  = QELMRegressor(pqc,executor=exec, ml_model='linear',# ml_model_options={\"hidden_layer_sizes\":(10,), \"activation\":\"tanh\"},\n",
    "                      operators = \"single_paulis\",\n",
    "                      num_operators=20, parameter_seed=1234)"
   ]
  },
  {
   "cell_type": "code",
   "execution_count": null,
   "metadata": {},
   "outputs": [],
   "source": [
    "qelm.get_params(deep=True)"
   ]
  },
  {
   "cell_type": "code",
   "execution_count": null,
   "metadata": {},
   "outputs": [],
   "source": [
    "qelm.encoding_circuit.num_layers"
   ]
  },
  {
   "cell_type": "code",
   "execution_count": null,
   "metadata": {},
   "outputs": [],
   "source": [
    "qelm.set_params(num_layers=3)"
   ]
  },
  {
   "cell_type": "code",
   "execution_count": null,
   "metadata": {},
   "outputs": [],
   "source": [
    "qelm.encoding_circuit.num_layers"
   ]
  },
  {
   "cell_type": "code",
   "execution_count": null,
   "metadata": {},
   "outputs": [],
   "source": [
    "qelm.get_params()"
   ]
  },
  {
   "cell_type": "code",
   "execution_count": null,
   "metadata": {},
   "outputs": [],
   "source": [
    "qelm.fit(X_train, y_train)\n",
    "\n",
    "# Step 5: Make predictions and evaluate the model\n",
    "y_pred = qelm.predict(X_test)"
   ]
  },
  {
   "cell_type": "code",
   "execution_count": null,
   "metadata": {},
   "outputs": [],
   "source": [
    "# Step 6: Print the results\n",
    "print(\"Mean Squared Error:\", mean_squared_error(y_test, y_pred))\n",
    "print(\"R^2 Score:\", r2_score(y_test, y_pred))\n",
    "\n",
    "# Step 7: Plot the predictions against the true values\n",
    "plt.plot(X_test, y_test,'-', color='blue', label='True Values')\n",
    "plt.plot(X_test, y_pred,'-', color='red', label='Predictions')\n",
    "plt.plot(X_train, y_train, '-x',color='green', label='Training Set')\n",
    "plt.plot(X_train, qelm.predict(X_train),'o', color='orange', label='Predictions Test')\n",
    "plt.xlabel('Feature')\n",
    "plt.ylabel('Target')\n",
    "plt.title('MLP Regressor Predictions vs True Values')\n",
    "plt.legend()\n",
    "plt.show()"
   ]
  },
  {
   "cell_type": "code",
   "execution_count": null,
   "metadata": {},
   "outputs": [],
   "source": [
    "qelm.executor.set_shots(None)\n",
    "\n",
    "# Step 5: Make predictions and evaluate the model\n",
    "y_pred = qelm.predict(X_test)"
   ]
  },
  {
   "cell_type": "code",
   "execution_count": null,
   "metadata": {},
   "outputs": [],
   "source": [
    "# Step 6: Print the results\n",
    "print(\"Mean Squared Error:\", mean_squared_error(y_test, y_pred))\n",
    "print(\"R^2 Score:\", r2_score(y_test, y_pred))\n",
    "\n",
    "# Step 7: Plot the predictions against the true values\n",
    "plt.plot(X_test, y_test,'-', color='blue', label='True Values')\n",
    "plt.plot(X_test, y_pred,'-', color='red', label='Predictions')\n",
    "plt.plot(X_train, y_train, '-x',color='green', label='Training Set')\n",
    "plt.plot(X_train, qelm.predict(X_train),'o', color='orange', label='Predictions Test')\n",
    "plt.xlabel('Feature')\n",
    "plt.ylabel('Target')\n",
    "plt.title('MLP Regressor Predictions vs True Values')\n",
    "plt.legend()\n",
    "plt.show()"
   ]
  },
  {
   "cell_type": "code",
   "execution_count": null,
   "metadata": {},
   "outputs": [],
   "source": [
    "ml_model_options = {\"hidden_layer_sizes\":(5,5,2,),\"activation\":'tanh',\"random_state\":42,\"learning_rate_init\":0.01,\n",
    "                                         \"max_iter\":1000,\"solver\":'adam', \"random_state\":4}\n",
    "ml = MLPRegressor(**ml_model_options)\n",
    "\n",
    "ml = LinearRegression()\n",
    "\n",
    "ml.fit(X_train, y_train)\n",
    "\n",
    "# Step 5: Make predictions and evaluate the model\n",
    "y_pred = ml.predict(X_test)\n",
    "\n",
    "# Step 6: Print the results\n",
    "print(\"Mean Squared Error:\", mean_squared_error(y_test, y_pred))\n",
    "print(\"R^2 Score:\", r2_score(y_test, y_pred))\n",
    "\n",
    "# Step 7: Plot the predictions against the true values\n",
    "plt.plot(X_test, y_test,'-', color='blue', label='True Values')\n",
    "plt.plot(X_test, y_pred,'-', color='red', label='Predictions')\n",
    "plt.plot(X_train, y_train, '-x',color='green', label='Training Set')\n",
    "plt.xlabel('Feature')\n",
    "plt.ylabel('Target')\n",
    "plt.title('MLP Regressor Predictions vs True Values')\n",
    "plt.legend()\n",
    "plt.show()"
   ]
  }
 ],
 "metadata": {
  "kernelspec": {
   "display_name": ".venv",
   "language": "python",
   "name": "python3"
  },
  "language_info": {
   "codemirror_mode": {
    "name": "ipython",
    "version": 3
   },
   "file_extension": ".py",
   "mimetype": "text/x-python",
   "name": "python",
   "nbconvert_exporter": "python",
   "pygments_lexer": "ipython3",
   "version": "3.9.13"
  }
 },
 "nbformat": 4,
 "nbformat_minor": 2
}
