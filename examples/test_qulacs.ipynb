{
 "cells": [
  {
   "cell_type": "code",
   "execution_count": 29,
   "metadata": {},
   "outputs": [
    {
     "name": "stdout",
     "output_type": "stream",
     "text": [
      "test._operation_list [<function qulacs_gate_x at 0x000001C61BBA2A60>, <function qulacs_gate_x at 0x000001C61BBA2A60>, <function qulacs_gate_x at 0x000001C61BBA2A60>]\n",
      "test._param_list [None, None, None]\n",
      "test._qubit_list [[0], [1], [2]]\n",
      "test._func_list [None, None, None]\n",
      "test._func_grad_list [None, None, None]\n",
      "test._free_parameters set()\n"
     ]
    }
   ],
   "source": [
    "from qiskit import QuantumCircuit\n",
    "\n",
    "\n",
    "\n",
    "\n",
    "qc = QuantumCircuit(3)\n",
    "\n",
    "qc.x(0)\n",
    "qc.x(1)\n",
    "qc.x(2)\n",
    "\n",
    "\n",
    "from squlearn.util.qulacs import *\n",
    "\n",
    "\n",
    "\n",
    "test = QulacsCircuit(qc)\n",
    "\n",
    "\n",
    "print(\"test._operation_list\",test._operation_list)\n",
    "print(\"test._param_list\",test._param_list)\n",
    "print(\"test._qubit_list\",test._qubit_list)\n",
    "print(\"test._func_list\",test._func_list)\n",
    "print(\"test._func_grad_list\",test._func_grad_list)\n",
    "print(\"test._free_parameters\",test._free_parameters)"
   ]
  },
  {
   "cell_type": "code",
   "execution_count": 30,
   "metadata": {},
   "outputs": [
    {
     "data": {
      "text/plain": [
       "<function squlearn.util.qulacs.qulacs_circuit.QulacsCircuit.get_circuit_func.<locals>.qulacs_circuit(parameter)>"
      ]
     },
     "execution_count": 30,
     "metadata": {},
     "output_type": "execute_result"
    }
   ],
   "source": [
    "test.get_circuit_func()"
   ]
  },
  {
   "cell_type": "code",
   "execution_count": 31,
   "metadata": {},
   "outputs": [
    {
     "data": {
      "text/plain": [
       "<qulacs_core.ParametricQuantumCircuit at 0x1c61be66ab0>"
      ]
     },
     "execution_count": 31,
     "metadata": {},
     "output_type": "execute_result"
    }
   ],
   "source": [
    "test.get_circuit_func()(None)"
   ]
  },
  {
   "cell_type": "code",
   "execution_count": 32,
   "metadata": {},
   "outputs": [
    {
     "data": {
      "text/plain": [
       "(1+0j)"
      ]
     },
     "execution_count": 32,
     "metadata": {},
     "output_type": "execute_result"
    }
   ],
   "source": [
    "from qulacs import QuantumCircuitSimulator\n",
    "from qulacs import QuantumCircuit as QulacsQuantumCircuit\n",
    "from qulacs import QuantumState\n",
    "from qulacs import Observable\n",
    "from qulacs import GradCalculator\n",
    "\n",
    "state = QuantumState(3)\n",
    "sim = QuantumCircuitSimulator(test.get_circuit_func()(None), state)\n",
    "sim.initialize_state(0)\n",
    "sim.simulate()\n",
    "\n",
    "obs = Observable(3)\n",
    "obs.add_operator(1.0, \"Z 0 Z 1 Z 2\")\n",
    "sim.get_expectation_value(obs)"
   ]
  },
  {
   "cell_type": "code",
   "execution_count": null,
   "metadata": {},
   "outputs": [],
   "source": []
  },
  {
   "cell_type": "code",
   "execution_count": 33,
   "metadata": {},
   "outputs": [
    {
     "name": "stderr",
     "output_type": "stream",
     "text": [
      "C:\\Users\\DKR\\AppData\\Local\\Temp\\ipykernel_27632\\1296841515.py:6: DeprecationWarning: The class ``qiskit.primitives.estimator.Estimator`` is deprecated as of qiskit 1.2. It will be removed no earlier than 3 months after the release date. All implementations of the `BaseEstimatorV1` interface have been deprecated in favor of their V2 counterparts. The V2 alternative for the `Estimator` class is `StatevectorEstimator`.\n",
      "  est = Estimator()\n"
     ]
    },
    {
     "data": {
      "text/plain": [
       "array([-1.])"
      ]
     },
     "execution_count": 33,
     "metadata": {},
     "output_type": "execute_result"
    }
   ],
   "source": [
    "from qiskit.primitives import Estimator\n",
    "from qiskit.quantum_info import SparsePauliOp\n",
    "\n",
    "\n",
    "\n",
    "est = Estimator()\n",
    "\n",
    "est.run(qc,SparsePauliOp('ZZZ')).result().values"
   ]
  }
 ],
 "metadata": {
  "kernelspec": {
   "display_name": ".venv",
   "language": "python",
   "name": "python3"
  },
  "language_info": {
   "codemirror_mode": {
    "name": "ipython",
    "version": 3
   },
   "file_extension": ".py",
   "mimetype": "text/x-python",
   "name": "python",
   "nbconvert_exporter": "python",
   "pygments_lexer": "ipython3",
   "version": "3.9.13"
  }
 },
 "nbformat": 4,
 "nbformat_minor": 2
}
