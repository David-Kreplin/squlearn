{
 "cells": [
  {
   "cell_type": "code",
   "execution_count": 1,
   "metadata": {},
   "outputs": [],
   "source": [
    "import numpy as np\n",
    "import matplotlib.pyplot as plt\n",
    "from squlearn import Executor\n",
    "from squlearn.encoding_circuit import ChebyshevPQC\n",
    "from squlearn.observables import SummedPaulis\n",
    "from squlearn.qnn import (\n",
    "QNNRegressor,\n",
    "SquaredLoss,\n",
    "ShotsFromRSTD)\n",
    "from squlearn.optimizers import Adam\n",
    "\n",
    "import pennylane as qml"
   ]
  },
  {
   "cell_type": "code",
   "execution_count": 2,
   "metadata": {},
   "outputs": [],
   "source": [
    "# Initilize encoding circuit\n",
    "encoding_circuit = ChebyshevPQC(\n",
    "num_qubits=4, num_features=1, num_layers=1)\n",
    "\n",
    "# Initilize observable\n",
    "observable = SummedPaulis(num_qubits=4)"
   ]
  },
  {
   "cell_type": "code",
   "execution_count": 3,
   "metadata": {},
   "outputs": [
    {
     "name": "stdout",
     "output_type": "stream",
     "text": [
      "ennyLane: LowLevelQNNPennyLane\n",
      "self._pennylane_gates [<class 'pennylane.ops.qubit.parametric_ops_single_qubit.RY'>, <class 'pennylane.ops.qubit.parametric_ops_single_qubit.RY'>, <class 'pennylane.ops.qubit.parametric_ops_single_qubit.RY'>, <class 'pennylane.ops.qubit.parametric_ops_single_qubit.RY'>, <class 'pennylane.ops.qubit.parametric_ops_single_qubit.RX'>, <class 'pennylane.ops.qubit.parametric_ops_single_qubit.RX'>, <class 'pennylane.ops.qubit.parametric_ops_single_qubit.RX'>, <class 'pennylane.ops.qubit.parametric_ops_single_qubit.RX'>, <class 'pennylane.ops.qubit.parametric_ops_controlled.CRZ'>, <class 'pennylane.ops.qubit.parametric_ops_controlled.CRZ'>, <class 'pennylane.ops.qubit.parametric_ops_controlled.CRZ'>, <class 'pennylane.ops.qubit.parametric_ops_controlled.CRZ'>, <class 'pennylane.ops.qubit.parametric_ops_single_qubit.RY'>, <class 'pennylane.ops.qubit.parametric_ops_single_qubit.RY'>, <class 'pennylane.ops.qubit.parametric_ops_single_qubit.RY'>, <class 'pennylane.ops.qubit.parametric_ops_single_qubit.RY'>]\n",
      "self._pennylane_gates_param_function [(<function _lambdifygenerated at 0x0000013EC4F7F250>,), (<function _lambdifygenerated at 0x0000013F1D6D7010>,), (<function _lambdifygenerated at 0x0000013F1D6D4940>,), (<function _lambdifygenerated at 0x0000013F1D700B80>,), (<function _lambdifygenerated at 0x0000013F1D6D6A70>,), (<function _lambdifygenerated at 0x0000013F1D6D68C0>,), (<function _lambdifygenerated at 0x0000013F1D700AF0>,), (<function _lambdifygenerated at 0x0000013F1D6D76D0>,), (<function _lambdifygenerated at 0x0000013F1D6D77F0>,), (<function _lambdifygenerated at 0x0000013F1D701000>,), (<function _lambdifygenerated at 0x0000013F1D6D6B90>,), (<function _lambdifygenerated at 0x0000013F1D6D79A0>,), (<function _lambdifygenerated at 0x0000013F1D7012D0>,), (<function _lambdifygenerated at 0x0000013F1D6D6DD0>,), (<function _lambdifygenerated at 0x0000013F1D6D6B00>,), (<function _lambdifygenerated at 0x0000013F1D7027A0>,)]\n",
      "self._pennylane_gates_wires [[0], [1], [2], [3], [0], [1], [2], [3], [0, 1], [2, 3], [1, 2], [3, 0], [0], [1], [2], [3]]\n",
      "self._pennylane_gates_parameters ['param', 'x']\n",
      "self._pennylane_obs_param_function [<function _lambdifygenerated at 0x0000013F1D701FC0>, <function _lambdifygenerated at 0x0000013F1D702290>, <function _lambdifygenerated at 0x0000013F1D6D7130>, <function _lambdifygenerated at 0x0000013F1D702DD0>, <function _lambdifygenerated at 0x0000013F1D701EA0>]\n",
      "self._pennylane_words [Identity(wires=[0]), PauliZ(wires=[0]), PauliZ(wires=[1]), PauliZ(wires=[2]), PauliZ(wires=[3])]\n",
      "self._pennylane_obs_parameters ['param_obs']\n",
      "self._pennylane_gates [<class 'pennylane.ops.qubit.parametric_ops_single_qubit.RY'>, <class 'pennylane.ops.qubit.parametric_ops_single_qubit.RY'>, <class 'pennylane.ops.qubit.parametric_ops_single_qubit.RY'>, <class 'pennylane.ops.qubit.parametric_ops_single_qubit.RY'>, <class 'pennylane.ops.qubit.parametric_ops_single_qubit.RX'>, <class 'pennylane.ops.qubit.parametric_ops_single_qubit.RX'>, <class 'pennylane.ops.qubit.parametric_ops_single_qubit.RX'>, <class 'pennylane.ops.qubit.parametric_ops_single_qubit.RX'>, <class 'pennylane.ops.qubit.parametric_ops_controlled.CRZ'>, <class 'pennylane.ops.qubit.parametric_ops_controlled.CRZ'>, <class 'pennylane.ops.qubit.parametric_ops_controlled.CRZ'>, <class 'pennylane.ops.qubit.parametric_ops_controlled.CRZ'>, <class 'pennylane.ops.qubit.parametric_ops_single_qubit.RY'>, <class 'pennylane.ops.qubit.parametric_ops_single_qubit.RY'>, <class 'pennylane.ops.qubit.parametric_ops_single_qubit.RY'>, <class 'pennylane.ops.qubit.parametric_ops_single_qubit.RY'>]\n",
      "self._pennylane_gates_param_function [(<function _lambdifygenerated at 0x0000013F1D7028C0>,), (<function _lambdifygenerated at 0x0000013F1D6D7640>,), (<function _lambdifygenerated at 0x0000013F1D6D7760>,), (<function _lambdifygenerated at 0x0000013F1D701B40>,), (<function _lambdifygenerated at 0x0000013F1D6D6CB0>,), (<function _lambdifygenerated at 0x0000013F1D6D7490>,), (<function _lambdifygenerated at 0x0000013F1D700EE0>,), (<function _lambdifygenerated at 0x0000013F1D7005E0>,), (<function _lambdifygenerated at 0x0000013F1D702A70>,), (<function _lambdifygenerated at 0x0000013F1D7001F0>,), (<function _lambdifygenerated at 0x0000013F1D700C10>,), (<function _lambdifygenerated at 0x0000013F1D703880>,), (<function _lambdifygenerated at 0x0000013F1D702EF0>,), (<function _lambdifygenerated at 0x0000013F1D6D7F40>,), (<function _lambdifygenerated at 0x0000013F1D6D71C0>,), (<function _lambdifygenerated at 0x0000013F1D7000D0>,)]\n",
      "self._pennylane_gates_wires [[0], [1], [2], [3], [0], [1], [2], [3], [0, 1], [2, 3], [1, 2], [3, 0], [0], [1], [2], [3]]\n",
      "self._pennylane_gates_parameters ['param', 'x']\n",
      "self._pennylane_obs_param_function [<function _lambdifygenerated at 0x0000013F1D700A60>, <function _lambdifygenerated at 0x0000013F1CF08D30>, <function _lambdifygenerated at 0x0000013F1D702950>, <function _lambdifygenerated at 0x0000013F1D701870>, <function _lambdifygenerated at 0x0000013F1D7008B0>, <function _lambdifygenerated at 0x0000013F1D6D72E0>, <function _lambdifygenerated at 0x0000013F1D700940>, <function _lambdifygenerated at 0x0000013F1D7020E0>, <function _lambdifygenerated at 0x0000013F1D700310>, <function _lambdifygenerated at 0x0000013F1D6D70A0>, <function _lambdifygenerated at 0x0000013F1D700550>]\n",
      "self._pennylane_words [Identity(wires=[0]), PauliZ(wires=[0]), PauliZ(wires=[1]), PauliZ(wires=[2]), PauliZ(wires=[3]), PauliZ(wires=[0]) @ PauliZ(wires=[1]), PauliZ(wires=[0]) @ PauliZ(wires=[2]), PauliZ(wires=[0]) @ PauliZ(wires=[3]), PauliZ(wires=[1]) @ PauliZ(wires=[2]), PauliZ(wires=[1]) @ PauliZ(wires=[3]), PauliZ(wires=[2]) @ PauliZ(wires=[3])]\n",
      "self._pennylane_obs_parameters ['param_obs']\n"
     ]
    }
   ],
   "source": [
    "# Set-up QNN regression\n",
    "qnn = QNNRegressor(\n",
    "encoding_circuit,\n",
    "observable,\n",
    "Executor(qml.device(\"default.qubit\"),log_file=\"qnn_noshots_pl.log\"),\n",
    "SquaredLoss(),\n",
    "Adam(options={\"lr\": 0.3,\"log_file\":\"adam_noshots_pl.log\"}),\n",
    "variance=0.005\n",
    ")"
   ]
  },
  {
   "cell_type": "code",
   "execution_count": 4,
   "metadata": {},
   "outputs": [],
   "source": [
    "# Set training data\n",
    "x_train = np.arange(-0.7, 0.8, 0.1)\n",
    "y_train = np.abs(x_train)"
   ]
  },
  {
   "cell_type": "code",
   "execution_count": 5,
   "metadata": {},
   "outputs": [
    {
     "name": "stdout",
     "output_type": "stream",
     "text": [
      "fit:   7%|▋         | 7/100 [01:08<15:06,  9.74s/it]"
     ]
    }
   ],
   "source": [
    "# Train the model\n",
    "qnn.fit(x_train, y_train)"
   ]
  },
  {
   "cell_type": "code",
   "execution_count": null,
   "metadata": {},
   "outputs": [],
   "source": [
    "# Data for testing the trained model\n",
    "x_test = np.arange(-0.8, 0.81, 0.01)\n",
    "y_test = qnn.predict(x_test)\n",
    "# Generate a plot of the QNN inference\n",
    "plt.plot(x_train, y_train, \"x\", label=\"Training data\")\n",
    "plt.plot(x_test, y_test, label=\"Prediction\")\n",
    "plt.title(\"Inference of the QNN on a noisy simulator\")\n",
    "plt.xlabel(\"$x$\")\n",
    "plt.ylabel(\"QNN Output\")\n",
    "plt.legend()\n",
    "plt.show()\n"
   ]
  }
 ],
 "metadata": {
  "kernelspec": {
   "display_name": ".venv",
   "language": "python",
   "name": "python3"
  },
  "language_info": {
   "codemirror_mode": {
    "name": "ipython",
    "version": 3
   },
   "file_extension": ".py",
   "mimetype": "text/x-python",
   "name": "python",
   "nbconvert_exporter": "python",
   "pygments_lexer": "ipython3",
   "version": "3.10.2"
  }
 },
 "nbformat": 4,
 "nbformat_minor": 2
}
