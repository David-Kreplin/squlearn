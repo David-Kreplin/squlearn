{
 "cells": [
  {
   "cell_type": "code",
   "execution_count": 1,
   "metadata": {},
   "outputs": [
    {
     "name": "stdout",
     "output_type": "stream",
     "text": [
      "self._remote True\n"
     ]
    }
   ],
   "source": [
    "from squlearn.util import Executor\n",
    "from squlearn.util.execution import ParallelEstimator\n",
    "\n",
    "from qiskit_ibm_runtime import QiskitRuntimeService,Sampler,Session\n",
    "\n",
    "from qiskit import QuantumCircuit\n",
    "from qiskit.quantum_info import SparsePauliOp\n",
    "\n",
    "service = QiskitRuntimeService(channel=\"ibm_quantum\")\n",
    "\n",
    "exec = Executor(service.get_backend(\"ibm_cusco\"),max_session_time=4800)\n",
    "exec.set_shots(5000)\n",
    "estim = exec.get_estimator()"
   ]
  },
  {
   "cell_type": "code",
   "execution_count": 2,
   "metadata": {},
   "outputs": [],
   "source": [
    "qc = QuantumCircuit(3)\n",
    "qc.h(range(3))\n",
    "qc.ry(0.1,0)\n",
    "qc.cx(0,1)\n",
    "qc.cx(1,2)\n",
    "qc.cx(2,0)\n",
    "\n",
    "obs = SparsePauliOp(\"IXX\")\n",
    "\n",
    "estim.run(qc,obs).result()"
   ]
  },
  {
   "cell_type": "code",
   "execution_count": null,
   "metadata": {},
   "outputs": [],
   "source": [
    "pestimator = ParallelEstimator(estim, num_parallel=10)\n",
    "job = pestimator.run(qc,obs)\n",
    "job.result()"
   ]
  }
 ],
 "metadata": {
  "kernelspec": {
   "display_name": "Python 3",
   "language": "python",
   "name": "python3"
  },
  "language_info": {
   "codemirror_mode": {
    "name": "ipython",
    "version": 3
   },
   "file_extension": ".py",
   "mimetype": "text/x-python",
   "name": "python",
   "nbconvert_exporter": "python",
   "pygments_lexer": "ipython3",
   "version": "3.10.2"
  }
 },
 "nbformat": 4,
 "nbformat_minor": 2
}
