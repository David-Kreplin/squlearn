{
 "cells": [
  {
   "cell_type": "code",
   "execution_count": 1,
   "metadata": {},
   "outputs": [],
   "source": [
    "from squlearn.feature_map.layered_feature_map import LayeredPQC,VariableGroup,LayerPQC\n",
    "import numpy as np\n",
    "from qiskit.circuit import ParameterVector"
   ]
  },
  {
   "cell_type": "code",
   "execution_count": 2,
   "metadata": {},
   "outputs": [
    {
     "data": {
      "image/png": "[encoded data removed]",
      "text/plain": [
       "<Figure size 206.997x325.08 with 1 Axes>"
      ]
     },
     "execution_count": 2,
     "metadata": {},
     "output_type": "execute_result"
    }
   ],
   "source": [
    "\"\"\"Common mistakes and some non-trivial errors you should know about\"\"\"\n",
    "\n",
    "x_var = VariableGroup(\"x1\",size=2)\n",
    "x_var2 = VariableGroup(\"x2\",size = 3)\n",
    "p_var = VariableGroup(\"p\")\n",
    "p_var2 = VariableGroup(\"p2\")\n",
    "\n",
    "# As it was already said returning the circuit of a feature map requires you to put the parameter vector of each variable group used in the right order:\n",
    "feature_map_with_param = LayeredPQC(num_qubits = 5, variable_groups = (x_var,x_var2,p_var,p_var2))\n",
    "feature_map_with_param.Rx(p_var2)\n",
    "feature_map_with_param.Ry(p_var)\n",
    "x1 = ParameterVector(\"x1\", feature_map_with_param.get_number_of_variables(x_var))\n",
    "x2 = ParameterVector(\"x2\", feature_map_with_param.get_number_of_variables(x_var2))\n",
    "p = ParameterVector(\"p\", feature_map_with_param.get_number_of_variables(p_var))\n",
    "p2 = ParameterVector(\"p2\", feature_map_with_param.get_number_of_variables(p_var2))\n",
    "# be sure to use the name of the parameter vector for each variable group in the brackets:\n",
    "feature_map_with_param.get_circuit(x1,x2,p2,p).draw()# this will assign the parameter vector to the wrong variable group (p2 to p and p to p2)\n",
    "\n",
    "\n",
    "\n"
   ]
  },
  {
   "cell_type": "code",
   "execution_count": 3,
   "metadata": {},
   "outputs": [
    {
     "ename": "IndexError",
     "evalue": "list index out of range",
     "output_type": "error",
     "traceback": [
      "\u001b[1;31m---------------------------------------------------------------------------\u001b[0m",
      "\u001b[1;31mIndexError\u001b[0m                                Traceback (most recent call last)",
      "\u001b[1;32mc:\\Users\\DKR\\Documents\\Git Repositories\\squlearn\\examples\\layered_feature_map\\layered_pqc\\example6_common_mistakes.ipynb Cell 3\u001b[0m in \u001b[0;36m<cell line: 16>\u001b[1;34m()\u001b[0m\n\u001b[0;32m     <a href='vscode-notebook-cell:/c%3A/Users/DKR/Documents/Git%20Repositories/squlearn/examples/layered_feature_map/layered_pqc/example6_common_mistakes.ipynb#W2sZmlsZQ%3D%3D?line=13'>14</a>\u001b[0m p2 \u001b[39m=\u001b[39m ParameterVector(\u001b[39m\"\u001b[39m\u001b[39mp2\u001b[39m\u001b[39m\"\u001b[39m, feature_map_with_param\u001b[39m.\u001b[39mget_number_of_variables(p_var2))\n\u001b[0;32m     <a href='vscode-notebook-cell:/c%3A/Users/DKR/Documents/Git%20Repositories/squlearn/examples/layered_feature_map/layered_pqc/example6_common_mistakes.ipynb#W2sZmlsZQ%3D%3D?line=14'>15</a>\u001b[0m \u001b[39m# be sure to use the name of the parameter vector for each variable group in the brackets:\u001b[39;00m\n\u001b[1;32m---> <a href='vscode-notebook-cell:/c%3A/Users/DKR/Documents/Git%20Repositories/squlearn/examples/layered_feature_map/layered_pqc/example6_common_mistakes.ipynb#W2sZmlsZQ%3D%3D?line=15'>16</a>\u001b[0m feature_map_with_param\u001b[39m.\u001b[39;49mget_circuit(x1,x2,p2,p)\u001b[39m.\u001b[39mdraw()\n",
      "File \u001b[1;32mc:\\Users\\DKR\\Documents\\Git Repositories\\squlearn\\examples\\layered_feature_map\\layered_pqc\\..\\..\\..\\squlearn\\feature_map\\layered_feature_map.py:613\u001b[0m, in \u001b[0;36mLayeredPQC.get_circuit\u001b[1;34m(self, *args)\u001b[0m\n\u001b[0;32m    611\u001b[0m         QC \u001b[39m=\u001b[39m QC\u001b[39m.\u001b[39mcompose(operation_iter\u001b[39m.\u001b[39mget_circuit())\n\u001b[0;32m    612\u001b[0m     \u001b[39melse\u001b[39;00m:\n\u001b[1;32m--> 613\u001b[0m         QC \u001b[39m=\u001b[39m QC\u001b[39m.\u001b[39mcompose(operation_iter\u001b[39m.\u001b[39;49mget_circuit(var_param_assignment))\n\u001b[0;32m    614\u001b[0m \u001b[39mreturn\u001b[39;00m QC\n",
      "File \u001b[1;32mc:\\Users\\DKR\\Documents\\Git Repositories\\squlearn\\examples\\layered_feature_map\\layered_pqc\\..\\..\\..\\squlearn\\feature_map\\layered_feature_map.py:213\u001b[0m, in \u001b[0;36m_Rx_operation.get_circuit\u001b[1;34m(self, var_param_assignment)\u001b[0m\n\u001b[0;32m    206\u001b[0m \u001b[39m\"\"\"\u001b[39;00m\n\u001b[0;32m    207\u001b[0m \u001b[39mArgs:\u001b[39;00m\n\u001b[0;32m    208\u001b[0m \u001b[39m    var_param_assignment: a dictionary, that assigns hash values of variable groups with their parameter vectors (by qiskit)\u001b[39;00m\n\u001b[0;32m    209\u001b[0m \u001b[39mreturns:\u001b[39;00m\n\u001b[0;32m    210\u001b[0m \u001b[39m    QuantumCircuit (by qiskit)\u001b[39;00m\n\u001b[0;32m    211\u001b[0m \u001b[39m\"\"\"\u001b[39;00m\n\u001b[0;32m    212\u001b[0m QC \u001b[39m=\u001b[39m QuantumCircuit(\u001b[39mself\u001b[39m\u001b[39m.\u001b[39mnum_qubits)\n\u001b[1;32m--> 213\u001b[0m QC \u001b[39m=\u001b[39m \u001b[39mself\u001b[39;49m\u001b[39m.\u001b[39;49mapply_param_vectors(QC, RXGate, var_param_assignment)\n\u001b[0;32m    214\u001b[0m \u001b[39mreturn\u001b[39;00m QC\n",
      "File \u001b[1;32mc:\\Users\\DKR\\Documents\\Git Repositories\\squlearn\\examples\\layered_feature_map\\layered_pqc\\..\\..\\..\\squlearn\\feature_map\\layered_feature_map.py:184\u001b[0m, in \u001b[0;36m_rot_operation.apply_param_vectors\u001b[1;34m(self, QC, r_star, var_param_assignment)\u001b[0m\n\u001b[0;32m    182\u001b[0m \u001b[39mif\u001b[39;00m \u001b[39mself\u001b[39m\u001b[39m.\u001b[39mvariablegroup_tuple[\u001b[39m0\u001b[39m]\u001b[39m.\u001b[39msize \u001b[39m==\u001b[39m \u001b[39mNone\u001b[39;00m:\n\u001b[0;32m    183\u001b[0m     \u001b[39mfor\u001b[39;00m qubit \u001b[39min\u001b[39;00m \u001b[39mrange\u001b[39m(\u001b[39mself\u001b[39m\u001b[39m.\u001b[39mnum_qubits):\n\u001b[1;32m--> 184\u001b[0m         QC\u001b[39m.\u001b[39mappend(r_star(var_param_assignment[\u001b[39mhash\u001b[39;49m(\u001b[39mself\u001b[39;49m\u001b[39m.\u001b[39;49mvariablegroup_tuple[\u001b[39m0\u001b[39;49m])][\u001b[39mself\u001b[39;49m\u001b[39m.\u001b[39;49mvariablegroup_tuple[\u001b[39m0\u001b[39;49m]\u001b[39m.\u001b[39;49mindex]),[qubit],[])\n\u001b[0;32m    185\u001b[0m         \u001b[39mself\u001b[39m\u001b[39m.\u001b[39mvariablegroup_tuple[\u001b[39m0\u001b[39m]\u001b[39m.\u001b[39mincrease_index(\u001b[39m1\u001b[39m)\n\u001b[0;32m    186\u001b[0m \u001b[39melse\u001b[39;00m:\n",
      "File \u001b[1;32m~\\AppData\\Roaming\\Python\\Python310\\site-packages\\qiskit\\circuit\\parametervector.py:100\u001b[0m, in \u001b[0;36mParameterVector.__getitem__\u001b[1;34m(self, key)\u001b[0m\n\u001b[0;32m     98\u001b[0m \u001b[39mif\u001b[39;00m key \u001b[39m>\u001b[39m \u001b[39mself\u001b[39m\u001b[39m.\u001b[39m_size:\n\u001b[0;32m     99\u001b[0m     \u001b[39mraise\u001b[39;00m \u001b[39mIndexError\u001b[39;00m(\u001b[39mf\u001b[39m\u001b[39m\"\u001b[39m\u001b[39mIndex out of range: \u001b[39m\u001b[39m{\u001b[39;00mkey\u001b[39m}\u001b[39;00m\u001b[39m > \u001b[39m\u001b[39m{\u001b[39;00m\u001b[39mself\u001b[39m\u001b[39m.\u001b[39m_size\u001b[39m}\u001b[39;00m\u001b[39m\"\u001b[39m)\n\u001b[1;32m--> 100\u001b[0m \u001b[39mreturn\u001b[39;00m \u001b[39mself\u001b[39;49m\u001b[39m.\u001b[39;49mparams[key]\n",
      "\u001b[1;31mIndexError\u001b[0m: list index out of range"
     ]
    }
   ],
   "source": [
    "# The same example without the second operation will raise an error, because the parameter vector p_var2 has length 0 (it should have length 5 but p and p2 are in the wrong order)\n",
    "x_var = VariableGroup(\"x1\",size=2)\n",
    "x_var2 = VariableGroup(\"x2\",size = 3)\n",
    "p_var = VariableGroup(\"p\")\n",
    "p_var2 = VariableGroup(\"p2\")\n",
    "\n",
    "\n",
    "\n",
    "feature_map_with_param = LayeredPQC(num_qubits = 5, variable_groups = (x_var,x_var2,p_var,p_var2))\n",
    "feature_map_with_param.Rx(p_var2)\n",
    "x1 = ParameterVector(\"x1\", feature_map_with_param.get_number_of_variables(x_var))\n",
    "x2 = ParameterVector(\"x2\", feature_map_with_param.get_number_of_variables(x_var2))\n",
    "p = ParameterVector(\"p\", feature_map_with_param.get_number_of_variables(p_var))\n",
    "p2 = ParameterVector(\"p2\", feature_map_with_param.get_number_of_variables(p_var2))\n",
    "# be sure to use the name of the parameter vector for each variable group in the brackets:\n",
    "feature_map_with_param.get_circuit(x1,x2,p2,p).draw()# this will raise an error"
   ]
  },
  {
   "cell_type": "code",
   "execution_count": null,
   "metadata": {},
   "outputs": [],
   "source": [
    "# You should avoid it, to use the same variable group for a new feature map, which was already used for an old feature map, otherwise it might not work:\n",
    "# e.g.\n",
    "\n",
    "test_feature_map = LayeredPQC(number_of_qubits = 5, variable_groups = (x_var,x_var2,p_var, p_var2))\n",
    "test_feature_map.cu_entangling(x_var, x_var2, p_var, p_var2)\n",
    "\n",
    "error_string = \"-H-X-Y-Z-Rx(p)\"\n",
    "error_feature_map = LayeredPQC.from_string(number_of_qubits = 5, variable_groups = (x_var,x_var2,p_var), gate_layers = error_string)\n",
    "error_feature_map.get_circuit(x1,x2,p) # this will raise an index error\n"
   ]
  },
  {
   "cell_type": "code",
   "execution_count": null,
   "metadata": {},
   "outputs": [],
   "source": [
    "# the same error occurs if you declare a parameter vector of size n and check the nth entry\n",
    "\n",
    "param_error = ParameterVector(\"Error\",1)\n",
    "param_error[0]\n",
    "param_error[1] # this will raise the same index error as above\n",
    "\n",
    "# So always initialize new variable groups for a new feature map"
   ]
  },
  {
   "cell_type": "code",
   "execution_count": null,
   "metadata": {},
   "outputs": [],
   "source": [
    "# Always make sure to differentiate between upper case and lower case letters, if you use from_string:\n",
    "\n",
    "operation_string2 = \"-Y-Z-3[H-x]\" # x should be a capital letter\n",
    "feature_map_with_wrong_string = LayeredPQC.from_string(num_qubits=2, variable_groups=(x_var,x_var2,p_var), gate_layers=operation_string2)\n",
    "feature_map_with_wrong_string.get_circuit(x1,x2,p).draw()\n",
    "\n",
    "# So remember:\n",
    "# Single layer gates starts always with upper case letters followed by lower case letters:\n",
    "# X, Y, Z, Rx, Ry, Rz, P, U\n",
    "# Entangling layer gates have always lower case letters (but the strategies \"NN\" and \"AA\" are in capital letters)"
   ]
  }
 ],
 "metadata": {
  "kernelspec": {
   "display_name": "Python 3",
   "language": "python",
   "name": "python3"
  },
  "language_info": {
   "codemirror_mode": {
    "name": "ipython",
    "version": 3
   },
   "file_extension": ".py",
   "mimetype": "text/x-python",
   "name": "python",
   "nbconvert_exporter": "python",
   "pygments_lexer": "ipython3",
   "version": "3.10.2"
  },
  "orig_nbformat": 4
 },
 "nbformat": 4,
 "nbformat_minor": 2
}
