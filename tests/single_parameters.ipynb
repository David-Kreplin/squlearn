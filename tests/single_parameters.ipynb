{
 "cells": [
  {
   "cell_type": "code",
   "execution_count": 26,
   "metadata": {},
   "outputs": [],
   "source": [
    "import numpy as np\n",
    "from squlearn.encoding_circuit import ChebyshevRx\n",
    "from squlearn.observables import SummedPaulis\n",
    "from squlearn import Executor\n",
    "\n",
    "from squlearn.qnn.lowlevel_qnn_pennylane import LowLevelQNNPennyLane\n",
    "from squlearn.qnn.lowlevel_qnn_qiskit import LowLevelQNN"
   ]
  },
  {
   "cell_type": "code",
   "execution_count": 27,
   "metadata": {},
   "outputs": [
    {
     "name": "stdout",
     "output_type": "stream",
     "text": [
      "self._pennylane_gates [<class 'pennylane.ops.qubit.parametric_ops_single_qubit.RX'>, <class 'pennylane.ops.qubit.parametric_ops_single_qubit.RX'>, <class 'pennylane.ops.qubit.parametric_ops_single_qubit.RX'>, <class 'pennylane.ops.qubit.parametric_ops_single_qubit.RX'>, <class 'pennylane.ops.qubit.non_parametric_ops.CNOT'>]\n",
      "self._pennylane_gates_param_function [(<function _lambdifygenerated at 0x000001D919BAEE60>,), (<function _lambdifygenerated at 0x000001D919BAC3A0>,), (<function _lambdifygenerated at 0x000001D919C7E7A0>,), (<function _lambdifygenerated at 0x000001D919C7E440>,), None]\n",
      "self._pennylane_gates_wires [[0], [1], [0], [1], [0, 1]]\n",
      "self._pennylane_gates_parameters ['param', 'x']\n",
      "self._pennylane_obs_param_function [<function _lambdifygenerated at 0x000001D919C7C550>, <function _lambdifygenerated at 0x000001D919C7D090>, <function _lambdifygenerated at 0x000001D9179AD510>]\n",
      "self._pennylane_words [Identity(wires=[0]), PauliZ(wires=[0]), PauliZ(wires=[1])]\n",
      "self._pennylane_obs_parameters ['param_obs']\n",
      "self._pennylane_gates [<class 'pennylane.ops.qubit.parametric_ops_single_qubit.RX'>, <class 'pennylane.ops.qubit.parametric_ops_single_qubit.RX'>, <class 'pennylane.ops.qubit.parametric_ops_single_qubit.RX'>, <class 'pennylane.ops.qubit.parametric_ops_single_qubit.RX'>, <class 'pennylane.ops.qubit.non_parametric_ops.CNOT'>]\n",
      "self._pennylane_gates_param_function [(<function _lambdifygenerated at 0x000001D919BAFEB0>,), (<function _lambdifygenerated at 0x000001D919C7E290>,), (<function _lambdifygenerated at 0x000001D919C7FEB0>,), (<function _lambdifygenerated at 0x000001D919BAF010>,), None]\n",
      "self._pennylane_gates_wires [[0], [1], [0], [1], [0, 1]]\n",
      "self._pennylane_gates_parameters ['param', 'x']\n",
      "self._pennylane_obs_param_function [<function _lambdifygenerated at 0x000001D9179AC4C0>, <function _lambdifygenerated at 0x000001D919C7E710>, <function _lambdifygenerated at 0x000001D919C7C8B0>, <function _lambdifygenerated at 0x000001D919C7D480>]\n",
      "self._pennylane_words [Identity(wires=[0]), PauliZ(wires=[0]), PauliZ(wires=[1]), PauliZ(wires=[0]) @ PauliZ(wires=[1])]\n",
      "self._pennylane_obs_parameters ['param_obs']\n"
     ]
    }
   ],
   "source": [
    "pqc = ChebyshevRx(2,2)\n",
    "obs1 = SummedPaulis(2)\n",
    "obs2 = SummedPaulis(2,\"Y\")\n",
    "\n",
    "\n",
    "np.random.seed(0)\n",
    "param = np.random.rand(pqc.num_parameters)\n",
    "param_obs = np.random.rand(obs1.num_parameters)\n",
    "\n",
    "qnn_pl = LowLevelQNNPennyLane(pqc, obs1, None)"
   ]
  },
  {
   "cell_type": "code",
   "execution_count": 28,
   "metadata": {},
   "outputs": [],
   "source": [
    "qnn_qiskit = LowLevelQNN(pqc, obs1, Executor())"
   ]
  },
  {
   "cell_type": "code",
   "execution_count": 49,
   "metadata": {},
   "outputs": [
    {
     "name": "stdout",
     "output_type": "stream",
     "text": [
      "[[0.1893177  0.21407957]\n",
      " [0.21407957 0.08385421]]\n",
      "(2, 2)\n"
     ]
    }
   ],
   "source": [
    "val = qnn_pl.evaluate([0.5,0.6],param,param_obs,\"dfdxdx\")[\"dfdxdx\"]\n",
    "print(val)\n",
    "print(val.shape)"
   ]
  },
  {
   "cell_type": "code",
   "execution_count": null,
   "metadata": {},
   "outputs": [],
   "source": [
    "val = qnn_pl.evaluate([0.5,0.6],param,param_obs,\"laplace\")[\"laplace\"]\n",
    "print(val)\n",
    "print(val.shape)"
   ]
  },
  {
   "cell_type": "code",
   "execution_count": 30,
   "metadata": {},
   "outputs": [
    {
     "ename": "ValueError",
     "evalue": "Wrong format of an input variable.",
     "output_type": "error",
     "traceback": [
      "\u001b[1;31m---------------------------------------------------------------------------\u001b[0m",
      "\u001b[1;31mValueError\u001b[0m                                Traceback (most recent call last)",
      "Cell \u001b[1;32mIn[30], line 1\u001b[0m\n\u001b[1;32m----> 1\u001b[0m val \u001b[38;5;241m=\u001b[39m \u001b[43mqnn_qiskit\u001b[49m\u001b[38;5;241;43m.\u001b[39;49m\u001b[43mevaluate\u001b[49m\u001b[43m(\u001b[49m\u001b[38;5;241;43m0.5\u001b[39;49m\u001b[43m,\u001b[49m\u001b[43mparam\u001b[49m\u001b[43m,\u001b[49m\u001b[43mparam_obs\u001b[49m\u001b[43m,\u001b[49m\u001b[38;5;124;43m\"\u001b[39;49m\u001b[38;5;124;43mf\u001b[39;49m\u001b[38;5;124;43m\"\u001b[39;49m\u001b[43m)\u001b[49m[\u001b[38;5;124m\"\u001b[39m\u001b[38;5;124mf\u001b[39m\u001b[38;5;124m\"\u001b[39m]\n\u001b[0;32m      2\u001b[0m \u001b[38;5;28mprint\u001b[39m(val)\n\u001b[0;32m      3\u001b[0m \u001b[38;5;28mprint\u001b[39m(val\u001b[38;5;241m.\u001b[39mshape)\n",
      "File \u001b[1;32m~\\Documents\\Git Repositories\\squlearn_fork\\squlearn\\src\\squlearn\\qnn\\lowlevel_qnn_qiskit.py:862\u001b[0m, in \u001b[0;36mLowLevelQNN.evaluate\u001b[1;34m(self, x, param, param_op, *values)\u001b[0m\n\u001b[0;32m    857\u001b[0m     \u001b[38;5;28;01mreturn\u001b[39;00m real_todo_dic\n\u001b[0;32m    859\u001b[0m \u001b[38;5;66;03m# Done with the helper functions, start of the evaluate function\u001b[39;00m\n\u001b[0;32m    860\u001b[0m \n\u001b[0;32m    861\u001b[0m \u001b[38;5;66;03m# input adjustments for x, param, param_op to get correct stacking of values\u001b[39;00m\n\u001b[1;32m--> 862\u001b[0m x_inp, multi_x \u001b[38;5;241m=\u001b[39m \u001b[43madjust_features\u001b[49m\u001b[43m(\u001b[49m\u001b[43mx\u001b[49m\u001b[43m,\u001b[49m\u001b[43m \u001b[49m\u001b[38;5;28;43mself\u001b[39;49m\u001b[38;5;241;43m.\u001b[39;49m\u001b[43mnum_features\u001b[49m\u001b[43m)\u001b[49m\n\u001b[0;32m    863\u001b[0m param_inp, multi_param \u001b[38;5;241m=\u001b[39m adjust_parameters(param, \u001b[38;5;28mself\u001b[39m\u001b[38;5;241m.\u001b[39mnum_parameters)\n\u001b[0;32m    864\u001b[0m param_op_inp, multi_param_op \u001b[38;5;241m=\u001b[39m adjust_parameters(param_op, \u001b[38;5;28mself\u001b[39m\u001b[38;5;241m.\u001b[39mnum_parameters_observable)\n",
      "File \u001b[1;32m~\\Documents\\Git Repositories\\squlearn_fork\\squlearn\\src\\squlearn\\util\\data_preprocessing.py:16\u001b[0m, in \u001b[0;36madjust_features\u001b[1;34m(x, x_length)\u001b[0m\n\u001b[0;32m      5\u001b[0m \u001b[38;5;28;01mdef\u001b[39;00m \u001b[38;5;21madjust_features\u001b[39m(x: Union[np\u001b[38;5;241m.\u001b[39mndarray, \u001b[38;5;28mfloat\u001b[39m], x_length: \u001b[38;5;28mint\u001b[39m) \u001b[38;5;241m-\u001b[39m\u001b[38;5;241m>\u001b[39m Tuple[np\u001b[38;5;241m.\u001b[39mndarray, \u001b[38;5;28mbool\u001b[39m]:\n\u001b[0;32m      6\u001b[0m \u001b[38;5;250m    \u001b[39m\u001b[38;5;124;03m\"\"\"Adjust the feature vector to the form [[]] if necessary.\u001b[39;00m\n\u001b[0;32m      7\u001b[0m \n\u001b[0;32m      8\u001b[0m \u001b[38;5;124;03m    Args:\u001b[39;00m\n\u001b[1;32m   (...)\u001b[0m\n\u001b[0;32m     13\u001b[0m \u001b[38;5;124;03m        Adjusted feature array and a boolean flag for multiple inputs.\u001b[39;00m\n\u001b[0;32m     14\u001b[0m \u001b[38;5;124;03m    \"\"\"\u001b[39;00m\n\u001b[1;32m---> 16\u001b[0m     \u001b[38;5;28;01mreturn\u001b[39;00m \u001b[43m_adjust_input\u001b[49m\u001b[43m(\u001b[49m\u001b[43mx\u001b[49m\u001b[43m,\u001b[49m\u001b[43m \u001b[49m\u001b[43mx_length\u001b[49m\u001b[43m,\u001b[49m\u001b[43m \u001b[49m\u001b[43mallow_single_array\u001b[49m\u001b[38;5;241;43m=\u001b[39;49m\u001b[38;5;28;43;01mFalse\u001b[39;49;00m\u001b[43m)\u001b[49m\n",
      "File \u001b[1;32m~\\Documents\\Git Repositories\\squlearn_fork\\squlearn\\src\\squlearn\\util\\data_preprocessing.py:107\u001b[0m, in \u001b[0;36m_adjust_input\u001b[1;34m(x, x_length, allow_single_array)\u001b[0m\n\u001b[0;32m    104\u001b[0m     error \u001b[38;5;241m=\u001b[39m \u001b[38;5;28;01mTrue\u001b[39;00m\n\u001b[0;32m    106\u001b[0m \u001b[38;5;28;01mif\u001b[39;00m error:\n\u001b[1;32m--> 107\u001b[0m     \u001b[38;5;28;01mraise\u001b[39;00m \u001b[38;5;167;01mValueError\u001b[39;00m(\u001b[38;5;124m\"\u001b[39m\u001b[38;5;124mWrong format of an input variable.\u001b[39m\u001b[38;5;124m\"\u001b[39m)\n\u001b[0;32m    109\u001b[0m \u001b[38;5;28;01mreturn\u001b[39;00m xx, multiple_inputs\n",
      "\u001b[1;31mValueError\u001b[0m: Wrong format of an input variable."
     ]
    }
   ],
   "source": [
    "val = qnn_qiskit.evaluate(0.5,param,param_obs,\"f\")[\"f\"]\n",
    "print(val)\n",
    "print(val.shape)"
   ]
  },
  {
   "cell_type": "code",
   "execution_count": null,
   "metadata": {},
   "outputs": [
    {
     "name": "stdout",
     "output_type": "stream",
     "text": [
      "0.7170543287605057\n",
      "()\n"
     ]
    }
   ],
   "source": [
    "val = qnn_pl.evaluate(0.5,param,param_obs,\"f\")[\"f\"]\n",
    "print(val)\n",
    "print(val.shape)"
   ]
  },
  {
   "cell_type": "code",
   "execution_count": null,
   "metadata": {},
   "outputs": [
    {
     "name": "stdout",
     "output_type": "stream",
     "text": [
      "1.1913134128192306\n",
      "()\n"
     ]
    }
   ],
   "source": [
    "val = qnn_qiskit.evaluate(0.5,param,param_obs,\"fcc\")[\"fcc\"]\n",
    "print(val)\n",
    "print(val.shape)"
   ]
  },
  {
   "cell_type": "code",
   "execution_count": null,
   "metadata": {},
   "outputs": [
    {
     "name": "stdout",
     "output_type": "stream",
     "text": [
      "1.1913134128192306\n",
      "()\n"
     ]
    }
   ],
   "source": [
    "val = qnn_pl.evaluate(0.5,param,param_obs,\"fcc\")[\"fcc\"]\n",
    "print(val)\n",
    "print(val.shape)"
   ]
  },
  {
   "cell_type": "code",
   "execution_count": null,
   "metadata": {},
   "outputs": [
    {
     "name": "stdout",
     "output_type": "stream",
     "text": [
      "0.6771465024250511\n",
      "()\n"
     ]
    }
   ],
   "source": [
    "val = qnn_qiskit.evaluate(0.5,param,param_obs,\"var\")[\"var\"]\n",
    "print(val)\n",
    "print(val.shape)"
   ]
  },
  {
   "cell_type": "code",
   "execution_count": 47,
   "metadata": {},
   "outputs": [
    {
     "name": "stdout",
     "output_type": "stream",
     "text": [
      "0.7149527669096178\n",
      "()\n"
     ]
    }
   ],
   "source": [
    "val = qnn_pl.evaluate([0.5,0.6],param,param_obs,\"var\")[\"var\"]\n",
    "print(val)\n",
    "print(val.shape)"
   ]
  },
  {
   "cell_type": "code",
   "execution_count": null,
   "metadata": {},
   "outputs": [
    {
     "name": "stdout",
     "output_type": "stream",
     "text": [
      "[-0.62740436 -0.71252482 -0.59912703 -0.68041108]\n",
      "(4,)\n"
     ]
    }
   ],
   "source": [
    "val = qnn_qiskit.evaluate(0.5,param,param_obs,\"dfccdp\")[\"dfccdp\"]\n",
    "print(val)\n",
    "print(val.shape)"
   ]
  },
  {
   "cell_type": "code",
   "execution_count": null,
   "metadata": {},
   "outputs": [
    {
     "name": "stdout",
     "output_type": "stream",
     "text": [
      "[-0.62740436 -0.71252482 -0.59912703 -0.68041108]\n",
      "(4,)\n"
     ]
    }
   ],
   "source": [
    "val = qnn_pl.evaluate(0.5,param,param_obs,\"dfccdp\")[\"dfccdp\"]\n",
    "print(val)\n",
    "print(val.shape)"
   ]
  },
  {
   "cell_type": "code",
   "execution_count": null,
   "metadata": {},
   "outputs": [
    {
     "name": "stdout",
     "output_type": "stream",
     "text": [
      "[[0.74075555]]\n",
      "(1, 1)\n"
     ]
    }
   ],
   "source": [
    "val = qnn_qiskit.evaluate(0.5,param,param_obs,\"dfccdxdx\")[\"dfccdxdx\"]\n",
    "print(val)\n",
    "print(val.shape)"
   ]
  },
  {
   "cell_type": "code",
   "execution_count": null,
   "metadata": {},
   "outputs": [
    {
     "name": "stdout",
     "output_type": "stream",
     "text": [
      "[[0.74075555]]\n",
      "(1, 1)\n"
     ]
    }
   ],
   "source": [
    "val = qnn_pl.evaluate(0.5,param,param_obs,\"dfccdxdx\")[\"dfccdxdx\"]\n",
    "print(val)\n",
    "print(val.shape)"
   ]
  },
  {
   "cell_type": "code",
   "execution_count": null,
   "metadata": {},
   "outputs": [
    {
     "name": "stdout",
     "output_type": "stream",
     "text": [
      "[[0.58131502]\n",
      " [0.65477541]]\n",
      "(2, 1)\n"
     ]
    }
   ],
   "source": [
    "val = qnn_qiskit.evaluate([0.5,0.6],param,param_obs,\"dfdx\")[\"dfdx\"]\n",
    "print(val)\n",
    "print(val.shape)"
   ]
  },
  {
   "cell_type": "code",
   "execution_count": null,
   "metadata": {},
   "outputs": [
    {
     "name": "stdout",
     "output_type": "stream",
     "text": [
      "[[0.10791061 0.03624365]\n",
      " [0.08824191 0.00751844]]\n",
      "(2, 2)\n"
     ]
    }
   ],
   "source": [
    "val = qnn_qiskit.evaluate([0.5,0.6],param,param_obs,\"dvardx\")[\"dvardx\"]\n",
    "print(val)\n",
    "print(val.shape)"
   ]
  },
  {
   "cell_type": "code",
   "execution_count": null,
   "metadata": {},
   "outputs": [
    {
     "name": "stdout",
     "output_type": "stream",
     "text": [
      "[[0.10791061]\n",
      " [0.00751844]]\n",
      "(2, 1)\n"
     ]
    }
   ],
   "source": [
    "val = qnn_pl.evaluate([0.5,0.6],param,param_obs,\"dvardx\")[\"dvardx\"]\n",
    "print(val)\n",
    "print(val.shape)"
   ]
  },
  {
   "cell_type": "code",
   "execution_count": null,
   "metadata": {},
   "outputs": [
    {
     "name": "stdout",
     "output_type": "stream",
     "text": [
      "[[0.94157951]\n",
      " [1.02726099]]\n",
      "(2, 1)\n"
     ]
    }
   ],
   "source": [
    "val = qnn_pl.evaluate([0.5,0.6],param,param_obs,\"dfccdx\")[\"dfccdx\"]\n",
    "print(val)\n",
    "print(val.shape)"
   ]
  },
  {
   "cell_type": "code",
   "execution_count": null,
   "metadata": {},
   "outputs": [
    {
     "name": "stdout",
     "output_type": "stream",
     "text": [
      "[[ 0.67497686 -0.03206857 -0.13512663 -0.20849908]]\n",
      "(1, 4)\n"
     ]
    }
   ],
   "source": [
    "val = qnn_pl.evaluate(0.5,param,param_obs,\"dfdxdp\")[\"dfdxdp\"]\n",
    "print(val)\n",
    "print(val.shape)"
   ]
  },
  {
   "cell_type": "code",
   "execution_count": null,
   "metadata": {},
   "outputs": [
    {
     "name": "stdout",
     "output_type": "stream",
     "text": [
      "[[[1.3151589 ]]\n",
      "\n",
      " [[0.76431556]]\n",
      "\n",
      " [[0.43809934]]\n",
      "\n",
      " [[0.15147744]]]\n",
      "(4, 1, 1)\n"
     ]
    }
   ],
   "source": [
    "val = qnn_pl.evaluate(0.5,param,param_obs,\"dfdpdxdx\")[\"dfdpdxdx\"]\n",
    "print(val)\n",
    "print(val.shape)"
   ]
  },
  {
   "cell_type": "code",
   "execution_count": null,
   "metadata": {},
   "outputs": [
    {
     "name": "stdout",
     "output_type": "stream",
     "text": [
      "[[[1.3151589 ]\n",
      "  [0.76431556]\n",
      "  [0.43809934]\n",
      "  [0.15147744]]]\n",
      "(1, 4, 1)\n"
     ]
    }
   ],
   "source": [
    "val = qnn_pl.evaluate(0.5,param,param_obs,\"dfdxdpdx\")[\"dfdxdpdx\"]\n",
    "print(val)\n",
    "print(val.shape)"
   ]
  },
  {
   "cell_type": "code",
   "execution_count": null,
   "metadata": {},
   "outputs": [
    {
     "name": "stdout",
     "output_type": "stream",
     "text": [
      "[[0.64535985]]\n",
      "(1, 1)\n"
     ]
    }
   ],
   "source": [
    "val = qnn_qiskit.evaluate(0.5,param,param_obs,\"dfdxdx\")[\"dfdxdx\"]\n",
    "print(val)\n",
    "print(val.shape)"
   ]
  },
  {
   "cell_type": "code",
   "execution_count": null,
   "metadata": {},
   "outputs": [
    {
     "name": "stdout",
     "output_type": "stream",
     "text": [
      "[[0.64535985]]\n",
      "(1, 1)\n"
     ]
    }
   ],
   "source": [
    "val = qnn_pl.evaluate(0.5,param,param_obs,\"dfdxdx\")[\"dfdxdx\"]\n",
    "print(val)\n",
    "print(val.shape)"
   ]
  },
  {
   "cell_type": "code",
   "execution_count": null,
   "metadata": {},
   "outputs": [
    {
     "name": "stdout",
     "output_type": "stream",
     "text": [
      "[[-0.32174859  0.42633485 -0.30724727  0.4071198 ]\n",
      " [ 0.42633485 -0.05028892  0.4071198  -0.04802238]\n",
      " [-0.30724727  0.4071198  -0.29339953  0.38877077]\n",
      " [ 0.4071198  -0.04802238  0.38877077 -0.04585799]]\n",
      "(4, 4)\n"
     ]
    }
   ],
   "source": [
    "val = qnn_qiskit.evaluate(0.5,param,param_obs,\"dfdpdp\")[\"dfdpdp\"]\n",
    "print(val)\n",
    "print(val.shape)"
   ]
  },
  {
   "cell_type": "code",
   "execution_count": null,
   "metadata": {},
   "outputs": [
    {
     "name": "stdout",
     "output_type": "stream",
     "text": [
      "[[-0.32174859  0.42633485 -0.30724727  0.4071198 ]\n",
      " [ 0.42633485 -0.05028892  0.4071198  -0.04802238]\n",
      " [-0.30724727  0.4071198  -0.29339953  0.38877077]\n",
      " [ 0.4071198  -0.04802238  0.38877077 -0.04585799]]\n",
      "(4, 4)\n"
     ]
    }
   ],
   "source": [
    "val = qnn_pl.evaluate(0.5,param,param_obs,\"dfdpdp\")[\"dfdpdp\"]\n",
    "print(val)\n",
    "print(val.shape)"
   ]
  }
 ],
 "metadata": {
  "kernelspec": {
   "display_name": ".venv",
   "language": "python",
   "name": "python3"
  },
  "language_info": {
   "codemirror_mode": {
    "name": "ipython",
    "version": 3
   },
   "file_extension": ".py",
   "mimetype": "text/x-python",
   "name": "python",
   "nbconvert_exporter": "python",
   "pygments_lexer": "ipython3",
   "version": "3.10.2"
  }
 },
 "nbformat": 4,
 "nbformat_minor": 2
}
