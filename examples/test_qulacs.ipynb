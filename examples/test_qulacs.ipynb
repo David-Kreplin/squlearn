{
 "cells": [
  {
   "cell_type": "code",
   "execution_count": 1,
   "metadata": {},
   "outputs": [],
   "source": [
    "from qulacs import Observable, QuantumCircuit, QuantumState, ParametricQuantumCircuit,QuantumCircuitSimulator\n",
    "from qulacs.gate import Y,CNOT,merge"
   ]
  },
  {
   "cell_type": "code",
   "execution_count": 2,
   "metadata": {},
   "outputs": [],
   "source": [
    "import numpy as np"
   ]
  },
  {
   "cell_type": "code",
   "execution_count": 3,
   "metadata": {},
   "outputs": [
    {
     "data": {
      "image/png": "[encoded data removed]",
      "text/plain": [
       "<Figure size 287.496x284.278 with 1 Axes>"
      ]
     },
     "execution_count": 3,
     "metadata": {},
     "output_type": "execute_result"
    }
   ],
   "source": [
    "from qiskit import QuantumCircuit\n",
    "from qiskit.circuit import ParameterVector\n",
    "\n",
    "\n",
    "p = ParameterVector('p',1)\n",
    "x = ParameterVector('x',1)\n",
    "\n",
    "qc = QuantumCircuit(3)\n",
    "\n",
    "qc.x(0)\n",
    "#qc.rx(p[0],1)\n",
    "qc.crx(2.0*p[0],0,1)\n",
    "qc.x(2)\n",
    "\n",
    "\n",
    "\n",
    "#from qiskit.circuit.random import random_circuit\n",
    "#qc = random_circuit(3, 10, seed=41)\n",
    "qc.draw()"
   ]
  },
  {
   "cell_type": "code",
   "execution_count": 4,
   "metadata": {},
   "outputs": [
    {
     "name": "stdout",
     "output_type": "stream",
     "text": [
      "self._qiskit_circuit         ┌───┐                                                         »\n",
      "q_0: ───┤ X ├─────■───────────────────────────────────────────────────»\n",
      "     ┌──┴───┴──┐┌─┴─┐┌───────┐┌─────────┐┌────────────────┐┌─────────┐»\n",
      "q_1: ┤ Rz(π/2) ├┤ X ├┤ Rz(0) ├┤ Rx(π/2) ├┤ Rz(π - p[0]/2) ├┤ Rx(π/2) ├»\n",
      "     └──┬───┬──┘└───┘└───────┘└─────────┘└────────────────┘└─────────┘»\n",
      "q_2: ───┤ X ├─────────────────────────────────────────────────────────»\n",
      "        └───┘                                                         »\n",
      "«                                                                     »\n",
      "«q_0: ────────────■───────────────────────────────────────────────────»\n",
      "«     ┌────────┐┌─┴─┐┌───────┐┌─────────┐┌────────────────┐┌─────────┐»\n",
      "«q_1: ┤ Rz(3π) ├┤ X ├┤ Rz(0) ├┤ Rx(π/2) ├┤ Rz(p[0]/2 + π) ├┤ Rx(π/2) ├»\n",
      "«     └────────┘└───┘└───────┘└─────────┘└────────────────┘└─────────┘»\n",
      "«q_2: ────────────────────────────────────────────────────────────────»\n",
      "«                                                                     »\n",
      "«                 \n",
      "«q_0: ────────────\n",
      "«     ┌──────────┐\n",
      "«q_1: ┤ Rz(5π/2) ├\n",
      "«     └──────────┘\n",
      "«q_2: ────────────\n",
      "«                 \n",
      "wires [0]\n",
      "wires [1]\n",
      "len(op.operation.params) 1\n",
      "angle -1.5707963267948966\n",
      "type(angle) <class 'float'>\n",
      "wires [0, 1]\n",
      "wires [1]\n",
      "len(op.operation.params) 1\n",
      "angle -0.0\n",
      "type(angle) <class 'float'>\n",
      "wires [1]\n",
      "len(op.operation.params) 1\n",
      "angle -1.5707963267948966\n",
      "type(angle) <class 'float'>\n",
      "wires [1]\n",
      "len(op.operation.params) 1\n",
      "angle p[0]/2 - 3.14159265358979\n",
      "type(angle) <class 'qiskit.circuit.parameterexpression.ParameterExpression'>\n",
      "wires [1]\n",
      "len(op.operation.params) 1\n",
      "angle -1.5707963267948966\n",
      "type(angle) <class 'float'>\n",
      "wires [1]\n",
      "len(op.operation.params) 1\n",
      "angle -9.42477796076938\n",
      "type(angle) <class 'float'>\n",
      "wires [0, 1]\n",
      "wires [1]\n",
      "len(op.operation.params) 1\n",
      "angle -0.0\n",
      "type(angle) <class 'float'>\n",
      "wires [1]\n",
      "len(op.operation.params) 1\n",
      "angle -1.5707963267948966\n",
      "type(angle) <class 'float'>\n",
      "wires [1]\n",
      "len(op.operation.params) 1\n",
      "angle -p[0]/2 - 3.14159265358979\n",
      "type(angle) <class 'qiskit.circuit.parameterexpression.ParameterExpression'>\n",
      "wires [1]\n",
      "len(op.operation.params) 1\n",
      "angle -1.5707963267948966\n",
      "type(angle) <class 'float'>\n",
      "wires [1]\n",
      "len(op.operation.params) 1\n",
      "angle -7.853981633974483\n",
      "type(angle) <class 'float'>\n",
      "wires [2]\n",
      "test._operation_list [<function qulacs_gate_x at 0x0000021F9BD9F160>, <function qulacs_gate_rz at 0x0000021F9BD9F940>, <function qulacs_gate_cnot at 0x0000021F9BD9F5E0>, <function qulacs_gate_rz at 0x0000021F9BD9F940>, <function qulacs_gate_rx at 0x0000021F9BD9F700>, <function qulacs_param_gate_rz at 0x0000021F9BD9F9D0>, <function qulacs_gate_rx at 0x0000021F9BD9F700>, <function qulacs_gate_rz at 0x0000021F9BD9F940>, <function qulacs_gate_cnot at 0x0000021F9BD9F5E0>, <function qulacs_gate_rz at 0x0000021F9BD9F940>, <function qulacs_gate_rx at 0x0000021F9BD9F700>, <function qulacs_param_gate_rz at 0x0000021F9BD9F9D0>, <function qulacs_gate_rx at 0x0000021F9BD9F700>, <function qulacs_gate_rz at 0x0000021F9BD9F940>, <function qulacs_gate_x at 0x0000021F9BD9F160>]\n",
      "test._param_list [None, -1.5707963267948966, None, -0.0, -1.5707963267948966, [0], -1.5707963267948966, -9.42477796076938, None, -0.0, -1.5707963267948966, [0], -1.5707963267948966, -7.853981633974483, None]\n",
      "test._qubit_list [[0], [1], [0, 1], [1], [1], [1], [1], [1], [0, 1], [1], [1], [1], [1], [1], [2]]\n",
      "test._func_list [None, None, None, None, None, <function _lambdifygenerated at 0x0000021F9C2EA700>, None, None, None, None, None, <function _lambdifygenerated at 0x0000021F9C2EACA0>, None, None, None]\n",
      "test._func_grad_list [None, None, None, None, None, [<function QulacsCircuit._add_parameter_expression.<locals>.<lambda> at 0x0000021F9C2EAAF0>], None, None, None, None, None, [<function QulacsCircuit._add_parameter_expression.<locals>.<lambda> at 0x0000021F9C2EAE50>], None, None, None]\n",
      "test._free_parameters {ParameterVectorElement(p[0])}\n"
     ]
    }
   ],
   "source": [
    "\n",
    "from squlearn.util.qulacs import *\n",
    "\n",
    "\n",
    "\n",
    "test = QulacsCircuit(qc)\n",
    "\n",
    "\n",
    "print(\"test._operation_list\",test._operation_list)\n",
    "print(\"test._param_list\",test._param_list)\n",
    "print(\"test._qubit_list\",test._qubit_list)\n",
    "print(\"test._func_list\",test._func_list)\n",
    "print(\"test._func_grad_list\",test._func_grad_list)\n",
    "print(\"test._free_parameters\",test._free_parameters)"
   ]
  },
  {
   "cell_type": "code",
   "execution_count": 5,
   "metadata": {},
   "outputs": [
    {
     "name": "stdout",
     "output_type": "stream",
     "text": [
      "self._qualcs_gates_parameters ['p']\n"
     ]
    },
    {
     "data": {
      "text/plain": [
       "<function squlearn.util.qulacs.qulacs_circuit.QulacsCircuit.get_circuit_func.<locals>.qulacs_circuit(*args)>"
      ]
     },
     "execution_count": 5,
     "metadata": {},
     "output_type": "execute_result"
    }
   ],
   "source": [
    "test.get_circuit_func()"
   ]
  },
  {
   "cell_type": "code",
   "execution_count": 6,
   "metadata": {},
   "outputs": [
    {
     "name": "stdout",
     "output_type": "stream",
     "text": [
      "self._qualcs_gates_parameters ['p']\n",
      "Adding X gate on qubit 0\n",
      "Adding RZ gate with angle -1.5707963267948966 on qubit 1\n",
      "Adding CNOT gate with control qubit 0 and target qubit 1\n",
      "Adding RZ gate with angle -0.0 on qubit 1\n",
      "Adding RX gate with angle -1.5707963267948966 on qubit 1\n",
      "Adding Parameterized RZ gate with angle -2.89159265358979 on qubit 1\n",
      "Adding RX gate with angle -1.5707963267948966 on qubit 1\n",
      "Adding RZ gate with angle -9.42477796076938 on qubit 1\n",
      "Adding CNOT gate with control qubit 0 and target qubit 1\n",
      "Adding RZ gate with angle -0.0 on qubit 1\n",
      "Adding RX gate with angle -1.5707963267948966 on qubit 1\n",
      "Adding Parameterized RZ gate with angle -3.39159265358979 on qubit 1\n",
      "Adding RX gate with angle -1.5707963267948966 on qubit 1\n",
      "Adding RZ gate with angle -7.853981633974483 on qubit 1\n",
      "Adding X gate on qubit 2\n",
      "(0.877582561890374+0j)\n"
     ]
    }
   ],
   "source": [
    "param = np.array([0.5])\n",
    "\n",
    "circ = test.get_circuit_func()(param)\n",
    "\n",
    "state = QuantumState(3)\n",
    "sim = QuantumCircuitSimulator(circ, state)\n",
    "sim.initialize_state(0)\n",
    "sim.simulate()\n",
    "\n",
    "observable = Observable(3)\n",
    "observable.add_operator(1.0, \"Z 2 Z 1 Z 0\")\n",
    "\n",
    "print(sim.get_expectation_value(observable))\n",
    "\n"
   ]
  },
  {
   "cell_type": "code",
   "execution_count": 7,
   "metadata": {},
   "outputs": [
    {
     "name": "stderr",
     "output_type": "stream",
     "text": [
      "C:\\Users\\DKR\\AppData\\Local\\Temp\\ipykernel_22560\\940498755.py:6: DeprecationWarning: The class ``qiskit.primitives.estimator.Estimator`` is deprecated as of qiskit 1.2. It will be removed no earlier than 3 months after the release date. All implementations of the `BaseEstimatorV1` interface have been deprecated in favor of their V2 counterparts. The V2 alternative for the `Estimator` class is `StatevectorEstimator`.\n",
      "  est = Estimator()\n"
     ]
    },
    {
     "data": {
      "text/plain": [
       "array([0.87758256])"
      ]
     },
     "execution_count": 7,
     "metadata": {},
     "output_type": "execute_result"
    }
   ],
   "source": [
    "from qiskit.primitives import Estimator\n",
    "from qiskit.quantum_info import SparsePauliOp\n",
    "\n",
    "\n",
    "\n",
    "est = Estimator()\n",
    "\n",
    "est.run(qc,SparsePauliOp('ZZZ',),param).result().values"
   ]
  }
 ],
 "metadata": {
  "kernelspec": {
   "display_name": ".venv",
   "language": "python",
   "name": "python3"
  },
  "language_info": {
   "codemirror_mode": {
    "name": "ipython",
    "version": 3
   },
   "file_extension": ".py",
   "mimetype": "text/x-python",
   "name": "python",
   "nbconvert_exporter": "python",
   "pygments_lexer": "ipython3",
   "version": "3.9.13"
  }
 },
 "nbformat": 4,
 "nbformat_minor": 2
}
