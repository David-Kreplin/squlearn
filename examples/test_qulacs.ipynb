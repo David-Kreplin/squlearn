{
 "cells": [
  {
   "cell_type": "code",
   "execution_count": 8,
   "metadata": {},
   "outputs": [],
   "source": [
    "from qulacs import Observable, QuantumCircuit, QuantumState, ParametricQuantumCircuit,QuantumCircuitSimulator\n",
    "from qulacs.gate import Y,CNOT,merge"
   ]
  },
  {
   "cell_type": "code",
   "execution_count": 9,
   "metadata": {},
   "outputs": [],
   "source": [
    "import numpy as np"
   ]
  },
  {
   "cell_type": "code",
   "execution_count": 10,
   "metadata": {},
   "outputs": [
    {
     "data": {
      "image/png": "[encoded data removed]",
      "text/plain": [
       "<Figure size 287.496x284.278 with 1 Axes>"
      ]
     },
     "execution_count": 10,
     "metadata": {},
     "output_type": "execute_result"
    }
   ],
   "source": [
    "from qiskit import QuantumCircuit\n",
    "from qiskit.circuit import ParameterVector\n",
    "\n",
    "\n",
    "p = ParameterVector('p',1)\n",
    "\n",
    "qc = QuantumCircuit(3)\n",
    "\n",
    "qc.x(0)\n",
    "#qc.rx(p[0],1)\n",
    "qc.cry(p[0],0,1)\n",
    "qc.x(2)\n",
    "\n",
    "\n",
    "\n",
    "#from qiskit.circuit.random import random_circuit\n",
    "#qc = random_circuit(3, 10, seed=41)\n",
    "qc.draw()"
   ]
  },
  {
   "cell_type": "code",
   "execution_count": 11,
   "metadata": {},
   "outputs": [
    {
     "name": "stdout",
     "output_type": "stream",
     "text": [
      "self._qiskit_circuit         ┌───┐                           \n",
      "q_0: ───┤ X ├──────■─────────────────■──\n",
      "     ┌──┴───┴───┐┌─┴─┐┌───────────┐┌─┴─┐\n",
      "q_1: ┤ Ry(0.25) ├┤ X ├┤ Ry(-0.25) ├┤ X ├\n",
      "     └──┬───┬───┘└───┘└───────────┘└───┘\n",
      "q_2: ───┤ X ├───────────────────────────\n",
      "        └───┘                           \n",
      "wires [0]\n",
      "wires [1]\n",
      "len(op.operation.params) 1\n",
      "angle -0.25\n",
      "type(angle) <class 'float'>\n",
      "wires [0, 1]\n",
      "wires [1]\n",
      "len(op.operation.params) 1\n",
      "angle 0.25\n",
      "type(angle) <class 'float'>\n",
      "wires [0, 1]\n",
      "wires [2]\n",
      "test._operation_list [<function qulacs_gate_x at 0x000001571AB488B0>, <function qulacs_gate_ry at 0x000001571B3325E0>, <function qulacs_gate_cnot at 0x000001571B3323A0>, <function qulacs_gate_ry at 0x000001571B3325E0>, <function qulacs_gate_cnot at 0x000001571B3323A0>, <function qulacs_gate_x at 0x000001571AB488B0>]\n",
      "test._param_list [None, -0.25, None, 0.25, None, None]\n",
      "test._qubit_list [[0], [1], [0, 1], [1], [0, 1], [2]]\n",
      "test._func_list [None, None, None, None, None, None]\n",
      "test._func_grad_list [None, None, None, None, None, None]\n",
      "test._free_parameters set()\n"
     ]
    }
   ],
   "source": [
    "\n",
    "from squlearn.util.qulacs import *\n",
    "\n",
    "\n",
    "\n",
    "test = QulacsCircuit(qc)\n",
    "\n",
    "\n",
    "print(\"test._operation_list\",test._operation_list)\n",
    "print(\"test._param_list\",test._param_list)\n",
    "print(\"test._qubit_list\",test._qubit_list)\n",
    "print(\"test._func_list\",test._func_list)\n",
    "print(\"test._func_grad_list\",test._func_grad_list)\n",
    "print(\"test._free_parameters\",test._free_parameters)"
   ]
  },
  {
   "cell_type": "code",
   "execution_count": 12,
   "metadata": {},
   "outputs": [
    {
     "data": {
      "text/plain": [
       "<function squlearn.util.qulacs.qulacs_circuit.QulacsCircuit.get_circuit_func.<locals>.qulacs_circuit(parameter)>"
      ]
     },
     "execution_count": 12,
     "metadata": {},
     "output_type": "execute_result"
    }
   ],
   "source": [
    "test.get_circuit_func()"
   ]
  },
  {
   "cell_type": "code",
   "execution_count": 13,
   "metadata": {},
   "outputs": [
    {
     "name": "stdout",
     "output_type": "stream",
     "text": [
      "Adding X gate on qubit 0\n",
      "Adding RY gate with angle -0.25 on qubit 1\n",
      "Adding CNOT gate with control qubit 0 and target qubit 1\n",
      "Adding RY gate with angle 0.25 on qubit 1\n",
      "Adding CNOT gate with control qubit 0 and target qubit 1\n",
      "Adding X gate on qubit 2\n",
      "(0.8775825618903726+0j)\n"
     ]
    }
   ],
   "source": [
    "param = np.array([0.5])\n",
    "\n",
    "circ = test.get_circuit_func()(param)\n",
    "\n",
    "state = QuantumState(3)\n",
    "sim = QuantumCircuitSimulator(circ, state)\n",
    "sim.initialize_state(0)\n",
    "sim.simulate()\n",
    "\n",
    "observable = Observable(3)\n",
    "observable.add_operator(1.0, \"Z 2 Z 1 Z 0\")\n",
    "\n",
    "print(sim.get_expectation_value(observable))\n",
    "\n"
   ]
  },
  {
   "cell_type": "code",
   "execution_count": 14,
   "metadata": {},
   "outputs": [
    {
     "name": "stderr",
     "output_type": "stream",
     "text": [
      "C:\\Users\\DKR\\AppData\\Local\\Temp\\ipykernel_7964\\940498755.py:6: DeprecationWarning: The class ``qiskit.primitives.estimator.Estimator`` is deprecated as of qiskit 1.2. It will be removed no earlier than 3 months after the release date. All implementations of the `BaseEstimatorV1` interface have been deprecated in favor of their V2 counterparts. The V2 alternative for the `Estimator` class is `StatevectorEstimator`.\n",
      "  est = Estimator()\n"
     ]
    },
    {
     "ename": "ValueError",
     "evalue": "The number of values (1) does not match the number of parameters (0) for the 0-th circuit.",
     "output_type": "error",
     "traceback": [
      "\u001b[1;31m---------------------------------------------------------------------------\u001b[0m",
      "\u001b[1;31mValueError\u001b[0m                                Traceback (most recent call last)",
      "Cell \u001b[1;32mIn[14], line 8\u001b[0m\n\u001b[0;32m      2\u001b[0m \u001b[38;5;28;01mfrom\u001b[39;00m \u001b[38;5;21;01mqiskit\u001b[39;00m\u001b[38;5;21;01m.\u001b[39;00m\u001b[38;5;21;01mquantum_info\u001b[39;00m \u001b[38;5;28;01mimport\u001b[39;00m SparsePauliOp\n\u001b[0;32m      6\u001b[0m est \u001b[38;5;241m=\u001b[39m Estimator()\n\u001b[1;32m----> 8\u001b[0m \u001b[43mest\u001b[49m\u001b[38;5;241;43m.\u001b[39;49m\u001b[43mrun\u001b[49m\u001b[43m(\u001b[49m\u001b[43mqc\u001b[49m\u001b[43m,\u001b[49m\u001b[43mSparsePauliOp\u001b[49m\u001b[43m(\u001b[49m\u001b[38;5;124;43m'\u001b[39;49m\u001b[38;5;124;43mZZZ\u001b[39;49m\u001b[38;5;124;43m'\u001b[39;49m\u001b[43m,\u001b[49m\u001b[43m)\u001b[49m\u001b[43m,\u001b[49m\u001b[43mparam\u001b[49m\u001b[43m)\u001b[49m\u001b[38;5;241m.\u001b[39mresult()\u001b[38;5;241m.\u001b[39mvalues\n",
      "File \u001b[1;32mc:\\Users\\DKR\\Documents\\Git Repositories\\squlearn_fork\\squlearn\\.venv\\lib\\site-packages\\qiskit\\primitives\\base\\base_estimator.py:165\u001b[0m, in \u001b[0;36mBaseEstimatorV1.run\u001b[1;34m(self, circuits, observables, parameter_values, **run_options)\u001b[0m\n\u001b[0;32m    128\u001b[0m \u001b[38;5;250m\u001b[39m\u001b[38;5;124;03m\"\"\"Run the job of the estimation of expectation value(s).\u001b[39;00m\n\u001b[0;32m    129\u001b[0m \n\u001b[0;32m    130\u001b[0m \u001b[38;5;124;03m``circuits``, ``observables``, and ``parameter_values`` should have the same\u001b[39;00m\n\u001b[1;32m   (...)\u001b[0m\n\u001b[0;32m    162\u001b[0m \u001b[38;5;124;03m    ValueError: Invalid argument values given.\u001b[39;00m\n\u001b[0;32m    163\u001b[0m \u001b[38;5;124;03m\"\"\"\u001b[39;00m\n\u001b[0;32m    164\u001b[0m \u001b[38;5;66;03m# Validation\u001b[39;00m\n\u001b[1;32m--> 165\u001b[0m circuits, observables, parameter_values \u001b[38;5;241m=\u001b[39m \u001b[43mvalidation\u001b[49m\u001b[38;5;241;43m.\u001b[39;49m\u001b[43m_validate_estimator_args\u001b[49m\u001b[43m(\u001b[49m\n\u001b[0;32m    166\u001b[0m \u001b[43m    \u001b[49m\u001b[43mcircuits\u001b[49m\u001b[43m,\u001b[49m\u001b[43m \u001b[49m\u001b[43mobservables\u001b[49m\u001b[43m,\u001b[49m\u001b[43m \u001b[49m\u001b[43mparameter_values\u001b[49m\n\u001b[0;32m    167\u001b[0m \u001b[43m\u001b[49m\u001b[43m)\u001b[49m\n\u001b[0;32m    169\u001b[0m \u001b[38;5;66;03m# Options\u001b[39;00m\n\u001b[0;32m    170\u001b[0m run_opts \u001b[38;5;241m=\u001b[39m copy(\u001b[38;5;28mself\u001b[39m\u001b[38;5;241m.\u001b[39moptions)\n",
      "File \u001b[1;32mc:\\Users\\DKR\\Documents\\Git Repositories\\squlearn_fork\\squlearn\\.venv\\lib\\site-packages\\qiskit\\primitives\\base\\validation.py:63\u001b[0m, in \u001b[0;36m_validate_estimator_args\u001b[1;34m(circuits, observables, parameter_values)\u001b[0m\n\u001b[0;32m     57\u001b[0m parameter_values \u001b[38;5;241m=\u001b[39m _validate_parameter_values(\n\u001b[0;32m     58\u001b[0m     parameter_values,\n\u001b[0;32m     59\u001b[0m     default\u001b[38;5;241m=\u001b[39m[()] \u001b[38;5;241m*\u001b[39m \u001b[38;5;28mlen\u001b[39m(circuits),\n\u001b[0;32m     60\u001b[0m )\n\u001b[0;32m     62\u001b[0m \u001b[38;5;66;03m# Cross-validation\u001b[39;00m\n\u001b[1;32m---> 63\u001b[0m \u001b[43m_cross_validate_circuits_parameter_values\u001b[49m\u001b[43m(\u001b[49m\u001b[43mcircuits\u001b[49m\u001b[43m,\u001b[49m\u001b[43m \u001b[49m\u001b[43mparameter_values\u001b[49m\u001b[43m)\u001b[49m\n\u001b[0;32m     64\u001b[0m _cross_validate_circuits_observables(circuits, observables)\n\u001b[0;32m     66\u001b[0m \u001b[38;5;28;01mreturn\u001b[39;00m circuits, observables, parameter_values\n",
      "File \u001b[1;32mc:\\Users\\DKR\\Documents\\Git Repositories\\squlearn_fork\\squlearn\\.venv\\lib\\site-packages\\qiskit\\primitives\\base\\validation.py:188\u001b[0m, in \u001b[0;36m_cross_validate_circuits_parameter_values\u001b[1;34m(circuits, parameter_values)\u001b[0m\n\u001b[0;32m    186\u001b[0m \u001b[38;5;28;01mfor\u001b[39;00m i, (circuit, vector) \u001b[38;5;129;01min\u001b[39;00m \u001b[38;5;28menumerate\u001b[39m(\u001b[38;5;28mzip\u001b[39m(circuits, parameter_values)):\n\u001b[0;32m    187\u001b[0m     \u001b[38;5;28;01mif\u001b[39;00m \u001b[38;5;28mlen\u001b[39m(vector) \u001b[38;5;241m!=\u001b[39m circuit\u001b[38;5;241m.\u001b[39mnum_parameters:\n\u001b[1;32m--> 188\u001b[0m         \u001b[38;5;28;01mraise\u001b[39;00m \u001b[38;5;167;01mValueError\u001b[39;00m(\n\u001b[0;32m    189\u001b[0m             \u001b[38;5;124mf\u001b[39m\u001b[38;5;124m\"\u001b[39m\u001b[38;5;124mThe number of values (\u001b[39m\u001b[38;5;132;01m{\u001b[39;00m\u001b[38;5;28mlen\u001b[39m(vector)\u001b[38;5;132;01m}\u001b[39;00m\u001b[38;5;124m) does not match \u001b[39m\u001b[38;5;124m\"\u001b[39m\n\u001b[0;32m    190\u001b[0m             \u001b[38;5;124mf\u001b[39m\u001b[38;5;124m\"\u001b[39m\u001b[38;5;124mthe number of parameters (\u001b[39m\u001b[38;5;132;01m{\u001b[39;00mcircuit\u001b[38;5;241m.\u001b[39mnum_parameters\u001b[38;5;132;01m}\u001b[39;00m\u001b[38;5;124m) for the \u001b[39m\u001b[38;5;132;01m{\u001b[39;00mi\u001b[38;5;132;01m}\u001b[39;00m\u001b[38;5;124m-th circuit.\u001b[39m\u001b[38;5;124m\"\u001b[39m\n\u001b[0;32m    191\u001b[0m         )\n",
      "\u001b[1;31mValueError\u001b[0m: The number of values (1) does not match the number of parameters (0) for the 0-th circuit."
     ]
    }
   ],
   "source": [
    "from qiskit.primitives import Estimator\n",
    "from qiskit.quantum_info import SparsePauliOp\n",
    "\n",
    "\n",
    "\n",
    "est = Estimator()\n",
    "\n",
    "est.run(qc,SparsePauliOp('ZZZ',),param).result().values"
   ]
  }
 ],
 "metadata": {
  "kernelspec": {
   "display_name": ".venv",
   "language": "python",
   "name": "python3"
  },
  "language_info": {
   "codemirror_mode": {
    "name": "ipython",
    "version": 3
   },
   "file_extension": ".py",
   "mimetype": "text/x-python",
   "name": "python",
   "nbconvert_exporter": "python",
   "pygments_lexer": "ipython3",
   "version": "3.9.13"
  }
 },
 "nbformat": 4,
 "nbformat_minor": 2
}
