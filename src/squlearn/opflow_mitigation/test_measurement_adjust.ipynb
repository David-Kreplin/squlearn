{
 "cells": [
  {
   "cell_type": "code",
   "execution_count": 1,
   "metadata": {},
   "outputs": [
    {
     "data": {
      "text/plain": [
       "<qiskit.circuit.instructionset.InstructionSet at 0x1fb982d0430>"
      ]
     },
     "execution_count": 1,
     "metadata": {},
     "output_type": "execute_result"
    }
   ],
   "source": [
    "from qiskit.circuit.random import random_circuit\n",
    "from qiskit.quantum_info import SparsePauliOp\n",
    "from qiskit import QuantumCircuit\n",
    "\n",
    "from qiskit.primitives import BackendEstimator,Estimator,Sampler\n",
    "from qiskit import Aer\n",
    "\n",
    "from squlearn.util.optree import *\n",
    "from squlearn.util.optree.optree import *\n",
    "from squlearn.util.optree.optree_derivative import *\n",
    "from squlearn.util.optree.optree_evaluate import *\n",
    "\n",
    "#circuit = random_circuit(4, 2, seed=12)\n",
    "#circuit.draw()\n",
    "circuit = QuantumCircuit(4)\n",
    "circuit.h([0,1,2,3])\n",
    "circuit.u(0.5,0.5,0.5,[0,1,2,3])\n",
    "circuit.cx(0,1)\n",
    "circuit.cx(2,3)\n",
    "circuit.cx(1,2)"
   ]
  },
  {
   "cell_type": "code",
   "execution_count": 2,
   "metadata": {},
   "outputs": [],
   "source": [
    "op = SparsePauliOp([\"XXXX\",\"IIII\"],[0.1,0.2])"
   ]
  },
  {
   "cell_type": "code",
   "execution_count": 3,
   "metadata": {},
   "outputs": [
    {
     "name": "stdout",
     "output_type": "stream",
     "text": [
      "\n",
      "     ┌───┐┌────────────────┐          \n",
      "q_0: ┤ H ├┤ U(0.5,0.5,0.5) ├──■───────\n",
      "     ├───┤├────────────────┤┌─┴─┐     \n",
      "q_1: ┤ H ├┤ U(0.5,0.5,0.5) ├┤ X ├──■──\n",
      "     ├───┤├────────────────┤└───┘┌─┴─┐\n",
      "q_2: ┤ H ├┤ U(0.5,0.5,0.5) ├──■──┤ X ├\n",
      "     ├───┤├────────────────┤┌─┴─┐└───┘\n",
      "q_3: ┤ H ├┤ U(0.5,0.5,0.5) ├┤ X ├─────\n",
      "     └───┘└────────────────┘└───┘     \n",
      "\n",
      " with observable \n",
      "SparsePauliOp(['XXXX', 'IIII'],\n",
      "              coeffs=[0.1+0.j, 0.2+0.j])\n",
      "\n"
     ]
    }
   ],
   "source": [
    "tree = OpTreeLeafExpectationValue(circuit,op)\n",
    "print(tree)"
   ]
  },
  {
   "cell_type": "code",
   "execution_count": 4,
   "metadata": {},
   "outputs": [
    {
     "name": "stdout",
     "output_type": "stream",
     "text": [
      "(1.0*\n",
      "     ┌───┐┌────────────────┐     ┌───┐┌─┐           \n",
      "q_0: ┤ H ├┤ U(0.5,0.5,0.5) ├──■──┤ H ├┤M├───────────\n",
      "     ├───┤├────────────────┤┌─┴─┐└───┘└╥┘┌───┐┌─┐   \n",
      "q_1: ┤ H ├┤ U(0.5,0.5,0.5) ├┤ X ├──■───╫─┤ H ├┤M├───\n",
      "     ├───┤├────────────────┤└───┘┌─┴─┐ ║ ├───┤└╥┘┌─┐\n",
      "q_2: ┤ H ├┤ U(0.5,0.5,0.5) ├──■──┤ X ├─╫─┤ H ├─╫─┤M├\n",
      "     ├───┤├────────────────┤┌─┴─┐├───┤ ║ └┬─┬┘ ║ └╥┘\n",
      "q_3: ┤ H ├┤ U(0.5,0.5,0.5) ├┤ X ├┤ H ├─╫──┤M├──╫──╫─\n",
      "     └───┘└────────────────┘└───┘└───┘ ║  └╥┘  ║  ║ \n",
      "c: 4/══════════════════════════════════╩═══╩═══╩══╩═\n",
      "                                       0   3   1  2 \n",
      "\n",
      " with observable \n",
      "SparsePauliOp(['ZZZZ'],\n",
      "              coeffs=[0.1+0.j])\n",
      " + 1.0*\n",
      "     ┌───┐┌────────────────┐          ┌─┐\n",
      "q_0: ┤ H ├┤ U(0.5,0.5,0.5) ├──■───────┤M├\n",
      "     ├───┤├────────────────┤┌─┴─┐     └╥┘\n",
      "q_1: ┤ H ├┤ U(0.5,0.5,0.5) ├┤ X ├──■───╫─\n",
      "     ├───┤├────────────────┤└───┘┌─┴─┐ ║ \n",
      "q_2: ┤ H ├┤ U(0.5,0.5,0.5) ├──■──┤ X ├─╫─\n",
      "     ├───┤├────────────────┤┌─┴─┐└───┘ ║ \n",
      "q_3: ┤ H ├┤ U(0.5,0.5,0.5) ├┤ X ├──────╫─\n",
      "     └───┘└────────────────┘└───┘      ║ \n",
      "c: 1/══════════════════════════════════╩═\n",
      "                                       0 \n",
      "\n",
      " with observable \n",
      "SparsePauliOp(['I'],\n",
      "              coeffs=[0.2+0.j])\n",
      ")\n"
     ]
    }
   ],
   "source": [
    "adjust_tree = adjust_measurements(tree,abelian_grouping=False)\n",
    "print(adjust_tree)"
   ]
  },
  {
   "cell_type": "code",
   "execution_count": 5,
   "metadata": {},
   "outputs": [],
   "source": [
    "#evaluate_expectation_tree_from_sampler(tree,{},Sampler())"
   ]
  },
  {
   "cell_type": "code",
   "execution_count": 6,
   "metadata": {},
   "outputs": [
    {
     "name": "stdout",
     "output_type": "stream",
     "text": [
      "build_lists_and_index_tree 0.0\n",
      "run time 0.007002115249633789\n",
      "post processing 0.0\n",
      "expec [0.0198936 0.2      ]\n"
     ]
    },
    {
     "data": {
      "text/plain": [
       "0.2198935958794378"
      ]
     },
     "execution_count": 6,
     "metadata": {},
     "output_type": "execute_result"
    }
   ],
   "source": [
    "evaluate_expectation_tree_from_sampler(adjust_tree,{},Sampler())"
   ]
  },
  {
   "cell_type": "code",
   "execution_count": 7,
   "metadata": {},
   "outputs": [
    {
     "data": {
      "text/plain": [
       "array([0.2198936])"
      ]
     },
     "execution_count": 7,
     "metadata": {},
     "output_type": "execute_result"
    }
   ],
   "source": [
    "job = Estimator().run(circuit,op)\n",
    "job.result().values"
   ]
  },
  {
   "cell_type": "code",
   "execution_count": 8,
   "metadata": {},
   "outputs": [
    {
     "name": "stdout",
     "output_type": "stream",
     "text": [
      "obs.paulis.x [[ True  True  True  True]\n",
      " [False False False False]]\n",
      "obs.paulis.z [[False False False False]\n",
      " [False False False False]]\n",
      "paulis ['XXXX', 'IIII']\n",
      "     ┌───┐┌─┐         \n",
      "q_0: ┤ H ├┤M├─────────\n",
      "     ├───┤└╥┘┌─┐      \n",
      "q_1: ┤ H ├─╫─┤M├──────\n",
      "     ├───┤ ║ └╥┘┌─┐   \n",
      "q_2: ┤ H ├─╫──╫─┤M├───\n",
      "     ├───┤ ║  ║ └╥┘┌─┐\n",
      "q_3: ┤ H ├─╫──╫──╫─┤M├\n",
      "     └───┘ ║  ║  ║ └╥┘\n",
      "c: 4/══════╩══╩══╩══╩═\n",
      "           0  1  2  3 "
     ]
    }
   ],
   "source": [
    "# Create a backend estimator\n",
    "backend = Aer.get_backend('statevector_simulator')\n",
    "estimator = BackendEstimator(backend=backend,options={'shots':1000000})\n",
    "\n",
    "job = estimator.run(circuit,op)"
   ]
  },
  {
   "cell_type": "code",
   "execution_count": 9,
   "metadata": {},
   "outputs": [
    {
     "name": "stdout",
     "output_type": "stream",
     "text": [
      "\n",
      "['XXXX', 'IIII']\n",
      "[0.1 0.2]\n",
      "obs.paulis.x [[ True  True  True  True]\n",
      " [False False False False]]\n",
      "obs.paulis.z [[False False False False]\n",
      " [False False False False]]\n",
      "paulis ['XXXX', 'IIII']\n",
      "     ┌───┐┌─┐         \n",
      "q_0: ┤ H ├┤M├─────────\n",
      "     ├───┤└╥┘┌─┐      \n",
      "q_1: ┤ H ├─╫─┤M├──────\n",
      "     ├───┤ ║ └╥┘┌─┐   \n",
      "q_2: ┤ H ├─╫──╫─┤M├───\n",
      "     ├───┤ ║  ║ └╥┘┌─┐\n",
      "q_3: ┤ H ├─╫──╫──╫─┤M├\n",
      "     └───┘ ║  ║  ║ └╥┘\n",
      "c: 4/══════╩══╩══╩══╩═\n",
      "           0  1  2  3 \n",
      "['XXXX', 'IIII']\n",
      "[0.1 0.2]\n",
      "paulis ['XXXX', 'IIII']\n"
     ]
    },
    {
     "data": {
      "text/plain": [
       "array([0.2199196])"
      ]
     },
     "execution_count": 9,
     "metadata": {},
     "output_type": "execute_result"
    }
   ],
   "source": [
    "job.result().values"
   ]
  }
 ],
 "metadata": {
  "kernelspec": {
   "display_name": "Python 3",
   "language": "python",
   "name": "python3"
  },
  "language_info": {
   "codemirror_mode": {
    "name": "ipython",
    "version": 3
   },
   "file_extension": ".py",
   "mimetype": "text/x-python",
   "name": "python",
   "nbconvert_exporter": "python",
   "pygments_lexer": "ipython3",
   "version": "3.10.2"
  },
  "orig_nbformat": 4
 },
 "nbformat": 4,
 "nbformat_minor": 2
}
