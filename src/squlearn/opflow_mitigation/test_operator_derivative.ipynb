{
 "cells": [
  {
   "cell_type": "code",
   "execution_count": 1,
   "metadata": {},
   "outputs": [],
   "source": [
    "from squlearn.expectation_operator import SummedPaulis\n",
    "from squlearn.expectation_operator.expectation_operator_derivatives_optree import ExpectationOperatorDerivatives\n",
    "from squlearn.expectation_operator.expectation_operator_derivatives import ExpectationOperatorDerivatives as ExpectationOperatorDerivatives_old"
   ]
  },
  {
   "cell_type": "code",
   "execution_count": 2,
   "metadata": {},
   "outputs": [
    {
     "name": "stdout",
     "output_type": "stream",
     "text": [
      "SummedOp([\n",
      "  1.0*p[0] * III,\n",
      "  1.0*p[1] * IIZ,\n",
      "  1.0*p[2] * IZI,\n",
      "  1.0*p[3] * ZII\n",
      "])\n"
     ]
    }
   ],
   "source": [
    "op = SummedPaulis(3)\n",
    "print(op)"
   ]
  },
  {
   "cell_type": "code",
   "execution_count": 3,
   "metadata": {},
   "outputs": [],
   "source": [
    "opd = ExpectationOperatorDerivatives(op)"
   ]
  },
  {
   "cell_type": "code",
   "execution_count": 4,
   "metadata": {},
   "outputs": [
    {
     "name": "stdout",
     "output_type": "stream",
     "text": [
      "[1.0*SparsePauliOp(['III'],\n",
      "              coeffs=[1.+0.j]), 1.0*SparsePauliOp(['IIZ'],\n",
      "              coeffs=[1.+0.j]), 1.0*SparsePauliOp(['IZI'],\n",
      "              coeffs=[1.+0.j]), 1.0*SparsePauliOp(['ZII'],\n",
      "              coeffs=[1.+0.j])]\n"
     ]
    }
   ],
   "source": [
    "print(opd.get_derivative(\"dop\"))"
   ]
  },
  {
   "cell_type": "code",
   "execution_count": 5,
   "metadata": {},
   "outputs": [],
   "source": [
    "opd_old = ExpectationOperatorDerivatives_old(op)"
   ]
  },
  {
   "cell_type": "code",
   "execution_count": 6,
   "metadata": {},
   "outputs": [
    {
     "name": "stdout",
     "output_type": "stream",
     "text": [
      "OperatorMeasurement(SummedOp([\n",
      "  1.0*p_op[0]**2 + 1.0*p_op[1]**2 + 1.0*p_op[2]**2 + 1.0*p_op[3]**2 * III,\n",
      "  2.0*p_op[0]*p_op[1] * IIZ,\n",
      "  2.0*p_op[0]*p_op[2] * IZI,\n",
      "  2.0*p_op[0]*p_op[3] * ZII,\n",
      "  2.0*p_op[1]*p_op[2] * IZZ,\n",
      "  2.0*p_op[1]*p_op[3] * ZIZ,\n",
      "  2.0*p_op[2]*p_op[3] * ZZI\n",
      "]))\n"
     ]
    }
   ],
   "source": [
    "print(opd_old.get_derivative(\"OO\"))"
   ]
  },
  {
   "cell_type": "code",
   "execution_count": 7,
   "metadata": {},
   "outputs": [
    {
     "name": "stdout",
     "output_type": "stream",
     "text": [
      "[1.0*[1.0*SparsePauliOp(['III'],\n",
      "              coeffs=[2.+0.j]), 1.0*SparsePauliOp(['IIZ'],\n",
      "              coeffs=[2.+0.j]), 1.0*SparsePauliOp(['IZI'],\n",
      "              coeffs=[2.+0.j]), 1.0*SparsePauliOp(['ZII'],\n",
      "              coeffs=[2.+0.j])], 1.0*[1.0*SparsePauliOp(['IIZ'],\n",
      "              coeffs=[2.+0.j]), 1.0*SparsePauliOp(['III'],\n",
      "              coeffs=[2.+0.j]), 1.0*SparsePauliOp(['IZZ'],\n",
      "              coeffs=[2.+0.j]), 1.0*SparsePauliOp(['ZIZ'],\n",
      "              coeffs=[2.+0.j])], 1.0*[1.0*SparsePauliOp(['IZI'],\n",
      "              coeffs=[2.+0.j]), 1.0*SparsePauliOp(['IZZ'],\n",
      "              coeffs=[2.+0.j]), 1.0*SparsePauliOp(['III'],\n",
      "              coeffs=[2.+0.j]), 1.0*SparsePauliOp(['ZZI'],\n",
      "              coeffs=[2.+0.j])], 1.0*[1.0*SparsePauliOp(['ZII'],\n",
      "              coeffs=[2.+0.j]), 1.0*SparsePauliOp(['ZIZ'],\n",
      "              coeffs=[2.+0.j]), 1.0*SparsePauliOp(['ZZI'],\n",
      "              coeffs=[2.+0.j]), 1.0*SparsePauliOp(['III'],\n",
      "              coeffs=[2.+0.j])]]\n"
     ]
    }
   ],
   "source": [
    "print(opd.get_derivative(\"Odopdop\"))"
   ]
  },
  {
   "cell_type": "code",
   "execution_count": 8,
   "metadata": {},
   "outputs": [
    {
     "name": "stdout",
     "output_type": "stream",
     "text": [
      "ListOp([\n",
      "  ListOp([\n",
      "    OperatorMeasurement(2.0 * III),\n",
      "    OperatorMeasurement(2.0 * IIZ),\n",
      "    OperatorMeasurement(2.0 * IZI),\n",
      "    OperatorMeasurement(2.0 * ZII)\n",
      "  ]),\n",
      "  ListOp([\n",
      "    OperatorMeasurement(2.0 * IIZ),\n",
      "    OperatorMeasurement(2.0 * III),\n",
      "    OperatorMeasurement(2.0 * IZZ),\n",
      "    OperatorMeasurement(2.0 * ZIZ)\n",
      "  ]),\n",
      "  ListOp([\n",
      "    OperatorMeasurement(2.0 * IZI),\n",
      "    OperatorMeasurement(2.0 * IZZ),\n",
      "    OperatorMeasurement(2.0 * III),\n",
      "    OperatorMeasurement(2.0 * ZZI)\n",
      "  ]),\n",
      "  ListOp([\n",
      "    OperatorMeasurement(2.0 * ZII),\n",
      "    OperatorMeasurement(2.0 * ZIZ),\n",
      "    OperatorMeasurement(2.0 * ZZI),\n",
      "    OperatorMeasurement(2.0 * III)\n",
      "  ])\n",
      "])\n"
     ]
    }
   ],
   "source": [
    "print(opd_old.get_derivative(\"Odopdop\"))"
   ]
  }
 ],
 "metadata": {
  "kernelspec": {
   "display_name": "Python 3",
   "language": "python",
   "name": "python3"
  },
  "language_info": {
   "codemirror_mode": {
    "name": "ipython",
    "version": 3
   },
   "file_extension": ".py",
   "mimetype": "text/x-python",
   "name": "python",
   "nbconvert_exporter": "python",
   "pygments_lexer": "ipython3",
   "version": "3.10.2"
  },
  "orig_nbformat": 4
 },
 "nbformat": 4,
 "nbformat_minor": 2
}
