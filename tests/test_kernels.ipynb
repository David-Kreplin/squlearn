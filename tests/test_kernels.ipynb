{
 "cells": [
  {
   "cell_type": "code",
   "execution_count": 1,
   "metadata": {},
   "outputs": [],
   "source": [
    "from squlearn import Executor\n",
    "from squlearn.kernel import FidelityKernel, ProjectedQuantumKernel\n",
    "from squlearn.encoding_circuit import ChebyshevTower, ChebyshevPQC, HubregtsenEncodingCircuit\n",
    "\n",
    "\n",
    "import pennylane as qml\n",
    "\n",
    "import numpy as np"
   ]
  },
  {
   "cell_type": "code",
   "execution_count": 2,
   "metadata": {},
   "outputs": [],
   "source": [
    "#dev = qml.device('qiskit.ibmq', wires=4, shots=10000,backend='ibmq_qasm_simulator', ibmqx_token=\"1e1fcef3940bc7181262dbc135a052e83b17a669f187b1d6d7bde96ef3167078b55eb494f44f3b3de8ea934023da7a5eef3df4c6d27bf8ce7d48ca174c654cb7\")\n",
    "#print(dev.shots)\n",
    "\n",
    "#dev = qml.device(\"default.qubit\", wires=4)\n",
    "dev = qml.device(\"lightning.qubit\", wires=4)"
   ]
  },
  {
   "cell_type": "code",
   "execution_count": 3,
   "metadata": {},
   "outputs": [],
   "source": [
    "dev.shots=None"
   ]
  },
  {
   "cell_type": "code",
   "execution_count": 4,
   "metadata": {},
   "outputs": [
    {
     "name": "stdout",
     "output_type": "stream",
     "text": [
      "True\n"
     ]
    }
   ],
   "source": [
    "exec = Executor(dev)\n",
    "print(exec.is_statevector)"
   ]
  },
  {
   "cell_type": "markdown",
   "metadata": {},
   "source": []
  },
  {
   "cell_type": "code",
   "execution_count": 5,
   "metadata": {},
   "outputs": [
    {
     "name": "stderr",
     "output_type": "stream",
     "text": [
      "c:\\Users\\DKR\\Documents\\Git Repositories\\squlearn_fork\\squlearn\\.venv\\lib\\site-packages\\pennylane\\qnode.py:800: UserWarning: Requested adjoint differentiation to be computed with finite shots. Adjoint differentiation always calculated exactly.\n",
      "  warnings.warn(\n"
     ]
    },
    {
     "data": {
      "text/plain": [
       "8"
      ]
     },
     "execution_count": 5,
     "metadata": {},
     "output_type": "execute_result"
    }
   ],
   "source": [
    "fm = HubregtsenEncodingCircuit(4,1,1)\n",
    "kernel = FidelityKernel(fm, exec)\n",
    "fm.num_parameters"
   ]
  },
  {
   "cell_type": "code",
   "execution_count": 6,
   "metadata": {},
   "outputs": [
    {
     "name": "stderr",
     "output_type": "stream",
     "text": [
      "Traceback (most recent call last):\n",
      "  File \"C:\\Users\\DKR\\Documents\\Git Repositories\\squlearn_fork\\squlearn\\src\\squlearn\\util\\executor.py\", line 501, in pennylane_execute_cached\n",
      "    result = function()\n",
      "  File \"C:\\Users\\DKR\\Documents\\Git Repositories\\squlearn_fork\\squlearn\\src\\squlearn\\util\\executor.py\", line 556, in execute_circuit\n",
      "    return pennylane_circuit(*args, **kwargs)\n",
      "TypeError: PennyLaneCircuit.__call__() got an unexpected keyword argument 'shots'\n",
      "Traceback (most recent call last):\n",
      "  File \"C:\\Users\\DKR\\Documents\\Git Repositories\\squlearn_fork\\squlearn\\src\\squlearn\\util\\executor.py\", line 501, in pennylane_execute_cached\n",
      "    result = function()\n",
      "  File \"C:\\Users\\DKR\\Documents\\Git Repositories\\squlearn_fork\\squlearn\\src\\squlearn\\util\\executor.py\", line 556, in execute_circuit\n",
      "    return pennylane_circuit(*args, **kwargs)\n",
      "TypeError: PennyLaneCircuit.__call__() got an unexpected keyword argument 'shots'\n",
      "Traceback (most recent call last):\n",
      "  File \"C:\\Users\\DKR\\Documents\\Git Repositories\\squlearn_fork\\squlearn\\src\\squlearn\\util\\executor.py\", line 501, in pennylane_execute_cached\n",
      "    result = function()\n",
      "  File \"C:\\Users\\DKR\\Documents\\Git Repositories\\squlearn_fork\\squlearn\\src\\squlearn\\util\\executor.py\", line 556, in execute_circuit\n",
      "    return pennylane_circuit(*args, **kwargs)\n",
      "TypeError: PennyLaneCircuit.__call__() got an unexpected keyword argument 'shots'\n",
      "Traceback (most recent call last):\n",
      "  File \"C:\\Users\\DKR\\Documents\\Git Repositories\\squlearn_fork\\squlearn\\src\\squlearn\\util\\executor.py\", line 501, in pennylane_execute_cached\n",
      "    result = function()\n",
      "  File \"C:\\Users\\DKR\\Documents\\Git Repositories\\squlearn_fork\\squlearn\\src\\squlearn\\util\\executor.py\", line 556, in execute_circuit\n",
      "    return pennylane_circuit(*args, **kwargs)\n",
      "TypeError: PennyLaneCircuit.__call__() got an unexpected keyword argument 'shots'\n",
      "Traceback (most recent call last):\n",
      "  File \"C:\\Users\\DKR\\Documents\\Git Repositories\\squlearn_fork\\squlearn\\src\\squlearn\\util\\executor.py\", line 501, in pennylane_execute_cached\n",
      "    result = function()\n",
      "  File \"C:\\Users\\DKR\\Documents\\Git Repositories\\squlearn_fork\\squlearn\\src\\squlearn\\util\\executor.py\", line 556, in execute_circuit\n",
      "    return pennylane_circuit(*args, **kwargs)\n",
      "TypeError: PennyLaneCircuit.__call__() got an unexpected keyword argument 'shots'\n",
      "Traceback (most recent call last):\n",
      "  File \"C:\\Users\\DKR\\Documents\\Git Repositories\\squlearn_fork\\squlearn\\src\\squlearn\\util\\executor.py\", line 501, in pennylane_execute_cached\n",
      "    result = function()\n",
      "  File \"C:\\Users\\DKR\\Documents\\Git Repositories\\squlearn_fork\\squlearn\\src\\squlearn\\util\\executor.py\", line 556, in execute_circuit\n",
      "    return pennylane_circuit(*args, **kwargs)\n",
      "TypeError: PennyLaneCircuit.__call__() got an unexpected keyword argument 'shots'\n",
      "Traceback (most recent call last):\n",
      "  File \"C:\\Users\\DKR\\Documents\\Git Repositories\\squlearn_fork\\squlearn\\src\\squlearn\\util\\executor.py\", line 501, in pennylane_execute_cached\n",
      "    result = function()\n",
      "  File \"C:\\Users\\DKR\\Documents\\Git Repositories\\squlearn_fork\\squlearn\\src\\squlearn\\util\\executor.py\", line 556, in execute_circuit\n",
      "    return pennylane_circuit(*args, **kwargs)\n",
      "TypeError: PennyLaneCircuit.__call__() got an unexpected keyword argument 'shots'\n",
      "Traceback (most recent call last):\n",
      "  File \"C:\\Users\\DKR\\Documents\\Git Repositories\\squlearn_fork\\squlearn\\src\\squlearn\\util\\executor.py\", line 501, in pennylane_execute_cached\n",
      "    result = function()\n",
      "  File \"C:\\Users\\DKR\\Documents\\Git Repositories\\squlearn_fork\\squlearn\\src\\squlearn\\util\\executor.py\", line 556, in execute_circuit\n",
      "    return pennylane_circuit(*args, **kwargs)\n",
      "TypeError: PennyLaneCircuit.__call__() got an unexpected keyword argument 'shots'\n",
      "Traceback (most recent call last):\n",
      "  File \"C:\\Users\\DKR\\Documents\\Git Repositories\\squlearn_fork\\squlearn\\src\\squlearn\\util\\executor.py\", line 501, in pennylane_execute_cached\n",
      "    result = function()\n",
      "  File \"C:\\Users\\DKR\\Documents\\Git Repositories\\squlearn_fork\\squlearn\\src\\squlearn\\util\\executor.py\", line 556, in execute_circuit\n",
      "    return pennylane_circuit(*args, **kwargs)\n",
      "TypeError: PennyLaneCircuit.__call__() got an unexpected keyword argument 'shots'\n",
      "Traceback (most recent call last):\n",
      "  File \"C:\\Users\\DKR\\Documents\\Git Repositories\\squlearn_fork\\squlearn\\src\\squlearn\\util\\executor.py\", line 501, in pennylane_execute_cached\n",
      "    result = function()\n",
      "  File \"C:\\Users\\DKR\\Documents\\Git Repositories\\squlearn_fork\\squlearn\\src\\squlearn\\util\\executor.py\", line 556, in execute_circuit\n",
      "    return pennylane_circuit(*args, **kwargs)\n",
      "TypeError: PennyLaneCircuit.__call__() got an unexpected keyword argument 'shots'\n"
     ]
    },
    {
     "ename": "RuntimeError",
     "evalue": "Could not run job successfully after 10 retries",
     "output_type": "error",
     "traceback": [
      "\u001b[1;31m---------------------------------------------------------------------------\u001b[0m",
      "\u001b[1;31mRuntimeError\u001b[0m                              Traceback (most recent call last)",
      "Cell \u001b[1;32mIn[6], line 8\u001b[0m\n\u001b[0;32m      5\u001b[0m \u001b[38;5;66;03m#y[0] = 0.5\u001b[39;00m\n\u001b[0;32m      7\u001b[0m kernel\u001b[38;5;241m.\u001b[39massign_parameters(param)\n\u001b[1;32m----> 8\u001b[0m \u001b[38;5;28mprint\u001b[39m(\u001b[43mkernel\u001b[49m\u001b[38;5;241;43m.\u001b[39;49m\u001b[43mevaluate\u001b[49m\u001b[43m(\u001b[49m\u001b[43mx\u001b[49m\u001b[43m,\u001b[49m\u001b[43m \u001b[49m\u001b[43mx\u001b[49m\u001b[43m)\u001b[49m)\n\u001b[0;32m      9\u001b[0m \u001b[38;5;28mprint\u001b[39m(kernel\u001b[38;5;241m.\u001b[39mevaluate(x, y))\n",
      "File \u001b[1;32m~\\Documents\\Git Repositories\\squlearn_fork\\squlearn\\src\\squlearn\\kernel\\matrix\\fidelity_kernel.py:290\u001b[0m, in \u001b[0;36mFidelityKernel.evaluate\u001b[1;34m(self, x, y)\u001b[0m\n\u001b[0;32m    286\u001b[0m \u001b[38;5;28;01mif\u001b[39;00m \u001b[38;5;28mself\u001b[39m\u001b[38;5;241m.\u001b[39m_executor\u001b[38;5;241m.\u001b[39mquantum_framework \u001b[38;5;241m==\u001b[39m \u001b[38;5;124m\"\u001b[39m\u001b[38;5;124mpennylane\u001b[39m\u001b[38;5;124m\"\u001b[39m:\n\u001b[0;32m    287\u001b[0m     \u001b[38;5;66;03m# PennyLane implementation is found below, _pennylane_evaluate_kernel_sv replicates\u001b[39;00m\n\u001b[0;32m    288\u001b[0m     \u001b[38;5;66;03m# FidelityStatevectorKernel from Qiskit Machine Learning\u001b[39;00m\n\u001b[0;32m    289\u001b[0m     \u001b[38;5;28;01mif\u001b[39;00m \u001b[38;5;28mself\u001b[39m\u001b[38;5;241m.\u001b[39m_executor\u001b[38;5;241m.\u001b[39mis_statevector:\n\u001b[1;32m--> 290\u001b[0m         kernel_matrix \u001b[38;5;241m=\u001b[39m \u001b[38;5;28;43mself\u001b[39;49m\u001b[38;5;241;43m.\u001b[39;49m\u001b[43m_pennylane_evaluate_kernel_sv\u001b[49m\u001b[43m(\u001b[49m\u001b[43mx\u001b[49m\u001b[43m,\u001b[49m\u001b[43m \u001b[49m\u001b[43my\u001b[49m\u001b[43m)\u001b[49m\n\u001b[0;32m    291\u001b[0m     \u001b[38;5;28;01melse\u001b[39;00m:\n\u001b[0;32m    292\u001b[0m         kernel_matrix \u001b[38;5;241m=\u001b[39m \u001b[38;5;28mself\u001b[39m\u001b[38;5;241m.\u001b[39m_pennylane_evaluate_kernel(x, y)\n",
      "File \u001b[1;32m~\\Documents\\Git Repositories\\squlearn_fork\\squlearn\\src\\squlearn\\kernel\\matrix\\fidelity_kernel.py:451\u001b[0m, in \u001b[0;36mFidelityKernel._pennylane_evaluate_kernel_sv\u001b[1;34m(self, x, y)\u001b[0m\n\u001b[0;32m    446\u001b[0m     \u001b[38;5;28;01mif\u001b[39;00m \u001b[38;5;28mself\u001b[39m\u001b[38;5;241m.\u001b[39m_parameters \u001b[38;5;129;01mis\u001b[39;00m \u001b[38;5;28;01mNone\u001b[39;00m:\n\u001b[0;32m    447\u001b[0m         \u001b[38;5;28;01mraise\u001b[39;00m \u001b[38;5;167;01mValueError\u001b[39;00m(\n\u001b[0;32m    448\u001b[0m             \u001b[38;5;124m\"\u001b[39m\u001b[38;5;124mParameters have to been set with assign_parameters or as initial parameters!\u001b[39m\u001b[38;5;124m\"\u001b[39m\n\u001b[0;32m    449\u001b[0m         )\n\u001b[0;32m    450\u001b[0m     x_sv \u001b[38;5;241m=\u001b[39m np\u001b[38;5;241m.\u001b[39marray(\n\u001b[1;32m--> 451\u001b[0m         [\u001b[38;5;28mself\u001b[39m\u001b[38;5;241m.\u001b[39m_pennylane_circuit_cached(\u001b[38;5;28mtuple\u001b[39m(\u001b[38;5;28mself\u001b[39m\u001b[38;5;241m.\u001b[39m_parameters), \u001b[38;5;28mtuple\u001b[39m(x_)) \u001b[38;5;28;01mfor\u001b[39;00m x_ \u001b[38;5;129;01min\u001b[39;00m x]\n\u001b[0;32m    452\u001b[0m     )\n\u001b[0;32m    453\u001b[0m     y_sv \u001b[38;5;241m=\u001b[39m np\u001b[38;5;241m.\u001b[39marray(\n\u001b[0;32m    454\u001b[0m         [\u001b[38;5;28mself\u001b[39m\u001b[38;5;241m.\u001b[39m_pennylane_circuit_cached(\u001b[38;5;28mtuple\u001b[39m(\u001b[38;5;28mself\u001b[39m\u001b[38;5;241m.\u001b[39m_parameters), \u001b[38;5;28mtuple\u001b[39m(y_)) \u001b[38;5;28;01mfor\u001b[39;00m y_ \u001b[38;5;129;01min\u001b[39;00m y]\n\u001b[0;32m    455\u001b[0m     )\n\u001b[0;32m    456\u001b[0m \u001b[38;5;28;01melse\u001b[39;00m:\n",
      "File \u001b[1;32m~\\Documents\\Git Repositories\\squlearn_fork\\squlearn\\src\\squlearn\\kernel\\matrix\\fidelity_kernel.py:451\u001b[0m, in \u001b[0;36m<listcomp>\u001b[1;34m(.0)\u001b[0m\n\u001b[0;32m    446\u001b[0m     \u001b[38;5;28;01mif\u001b[39;00m \u001b[38;5;28mself\u001b[39m\u001b[38;5;241m.\u001b[39m_parameters \u001b[38;5;129;01mis\u001b[39;00m \u001b[38;5;28;01mNone\u001b[39;00m:\n\u001b[0;32m    447\u001b[0m         \u001b[38;5;28;01mraise\u001b[39;00m \u001b[38;5;167;01mValueError\u001b[39;00m(\n\u001b[0;32m    448\u001b[0m             \u001b[38;5;124m\"\u001b[39m\u001b[38;5;124mParameters have to been set with assign_parameters or as initial parameters!\u001b[39m\u001b[38;5;124m\"\u001b[39m\n\u001b[0;32m    449\u001b[0m         )\n\u001b[0;32m    450\u001b[0m     x_sv \u001b[38;5;241m=\u001b[39m np\u001b[38;5;241m.\u001b[39marray(\n\u001b[1;32m--> 451\u001b[0m         [\u001b[38;5;28;43mself\u001b[39;49m\u001b[38;5;241;43m.\u001b[39;49m\u001b[43m_pennylane_circuit_cached\u001b[49m\u001b[43m(\u001b[49m\u001b[38;5;28;43mtuple\u001b[39;49m\u001b[43m(\u001b[49m\u001b[38;5;28;43mself\u001b[39;49m\u001b[38;5;241;43m.\u001b[39;49m\u001b[43m_parameters\u001b[49m\u001b[43m)\u001b[49m\u001b[43m,\u001b[49m\u001b[43m \u001b[49m\u001b[38;5;28;43mtuple\u001b[39;49m\u001b[43m(\u001b[49m\u001b[43mx_\u001b[49m\u001b[43m)\u001b[49m\u001b[43m)\u001b[49m \u001b[38;5;28;01mfor\u001b[39;00m x_ \u001b[38;5;129;01min\u001b[39;00m x]\n\u001b[0;32m    452\u001b[0m     )\n\u001b[0;32m    453\u001b[0m     y_sv \u001b[38;5;241m=\u001b[39m np\u001b[38;5;241m.\u001b[39marray(\n\u001b[0;32m    454\u001b[0m         [\u001b[38;5;28mself\u001b[39m\u001b[38;5;241m.\u001b[39m_pennylane_circuit_cached(\u001b[38;5;28mtuple\u001b[39m(\u001b[38;5;28mself\u001b[39m\u001b[38;5;241m.\u001b[39m_parameters), \u001b[38;5;28mtuple\u001b[39m(y_)) \u001b[38;5;28;01mfor\u001b[39;00m y_ \u001b[38;5;129;01min\u001b[39;00m y]\n\u001b[0;32m    455\u001b[0m     )\n\u001b[0;32m    456\u001b[0m \u001b[38;5;28;01melse\u001b[39;00m:\n",
      "File \u001b[1;32m~\\Documents\\Git Repositories\\squlearn_fork\\squlearn\\src\\squlearn\\kernel\\matrix\\fidelity_kernel.py:123\u001b[0m, in \u001b[0;36mFidelityKernel.__init__.<locals>.pennylane_circuit_executor\u001b[1;34m(*args, **kwargs)\u001b[0m\n\u001b[0;32m    122\u001b[0m \u001b[38;5;28;01mdef\u001b[39;00m \u001b[38;5;21mpennylane_circuit_executor\u001b[39m(\u001b[38;5;241m*\u001b[39margs, \u001b[38;5;241m*\u001b[39m\u001b[38;5;241m*\u001b[39mkwargs):\n\u001b[1;32m--> 123\u001b[0m     \u001b[38;5;28;01mreturn\u001b[39;00m \u001b[38;5;28mself\u001b[39m\u001b[38;5;241m.\u001b[39m_executor\u001b[38;5;241m.\u001b[39mpennylane_execute(\n\u001b[0;32m    124\u001b[0m         \u001b[38;5;28mself\u001b[39m\u001b[38;5;241m.\u001b[39m_pennylane_circuit, \u001b[38;5;241m*\u001b[39margs, \u001b[38;5;241m*\u001b[39m\u001b[38;5;241m*\u001b[39mkwargs\n\u001b[0;32m    125\u001b[0m     )\n",
      "File \u001b[1;32m~\\Documents\\Git Repositories\\squlearn_fork\\squlearn\\src\\squlearn\\util\\executor.py:558\u001b[0m, in \u001b[0;36mExecutor.pennylane_execute\u001b[1;34m(self, pennylane_circuit, *args, **kwargs)\u001b[0m\n\u001b[0;32m    555\u001b[0m     kwargs[\u001b[38;5;124m'\u001b[39m\u001b[38;5;124mshots\u001b[39m\u001b[38;5;124m'\u001b[39m] \u001b[38;5;241m=\u001b[39m \u001b[38;5;28mself\u001b[39m\u001b[38;5;241m.\u001b[39mshots\n\u001b[0;32m    556\u001b[0m     \u001b[38;5;28;01mreturn\u001b[39;00m pennylane_circuit(\u001b[38;5;241m*\u001b[39margs, \u001b[38;5;241m*\u001b[39m\u001b[38;5;241m*\u001b[39mkwargs)\n\u001b[1;32m--> 558\u001b[0m \u001b[38;5;28;01mreturn\u001b[39;00m \u001b[38;5;28;43mself\u001b[39;49m\u001b[38;5;241;43m.\u001b[39;49m\u001b[43mpennylane_execute_cached\u001b[49m\u001b[43m(\u001b[49m\u001b[43mexecute_circuit\u001b[49m\u001b[43m,\u001b[49m\u001b[43m \u001b[49m\u001b[43mhash_value\u001b[49m\u001b[43m)\u001b[49m\n",
      "File \u001b[1;32m~\\Documents\\Git Repositories\\squlearn_fork\\squlearn\\src\\squlearn\\util\\executor.py:538\u001b[0m, in \u001b[0;36mExecutor.pennylane_execute_cached\u001b[1;34m(self, function, hash_value)\u001b[0m\n\u001b[0;32m    535\u001b[0m         \u001b[38;5;28;01mraise\u001b[39;00m critical_error_message\n\u001b[0;32m    537\u001b[0m \u001b[38;5;28;01mif\u001b[39;00m success \u001b[38;5;129;01mis\u001b[39;00m \u001b[38;5;129;01mnot\u001b[39;00m \u001b[38;5;28;01mTrue\u001b[39;00m:\n\u001b[1;32m--> 538\u001b[0m     \u001b[38;5;28;01mraise\u001b[39;00m \u001b[38;5;167;01mRuntimeError\u001b[39;00m(\n\u001b[0;32m    539\u001b[0m         \u001b[38;5;124mf\u001b[39m\u001b[38;5;124m\"\u001b[39m\u001b[38;5;124mCould not run job successfully after \u001b[39m\u001b[38;5;130;01m{{\u001b[39;00m\u001b[38;5;130;01m}}\u001b[39;00m\u001b[38;5;124m retries\u001b[39m\u001b[38;5;124m\"\u001b[39m\u001b[38;5;241m.\u001b[39mformat(\u001b[38;5;28mself\u001b[39m\u001b[38;5;241m.\u001b[39m_max_jobs_retries)\n\u001b[0;32m    540\u001b[0m     )\n\u001b[0;32m    542\u001b[0m \u001b[38;5;28;01mif\u001b[39;00m \u001b[38;5;28mself\u001b[39m\u001b[38;5;241m.\u001b[39m_caching \u001b[38;5;129;01mand\u001b[39;00m \u001b[38;5;129;01mnot\u001b[39;00m cached:\n\u001b[0;32m    543\u001b[0m     \u001b[38;5;28mself\u001b[39m\u001b[38;5;241m.\u001b[39m_cache\u001b[38;5;241m.\u001b[39mstore_file(hash_value, copy\u001b[38;5;241m.\u001b[39mcopy(result))\n",
      "\u001b[1;31mRuntimeError\u001b[0m: Could not run job successfully after 10 retries"
     ]
    }
   ],
   "source": [
    "np.random.seed(0)\n",
    "x = np.random.rand(10,1)\n",
    "y = np.random.rand(10,1)\n",
    "param = np.random.rand(fm.num_parameters)\n",
    "#y[0] = 0.5\n",
    " \n",
    "kernel.assign_parameters(param)\n",
    "print(kernel.evaluate(x, x))\n",
    "print(kernel.evaluate(x, y))"
   ]
  },
  {
   "cell_type": "code",
   "execution_count": null,
   "metadata": {},
   "outputs": [],
   "source": [
    "exec = Executor(\"statevector_simulator\")\n",
    "kernel2 = FidelityKernel(fm, exec)\n",
    "kernel2.assign_parameters(param)\n",
    "print(kernel2.evaluate(x, x))\n",
    "print(kernel2.evaluate(x, y))"
   ]
  }
 ],
 "metadata": {
  "kernelspec": {
   "display_name": ".venv",
   "language": "python",
   "name": "python3"
  },
  "language_info": {
   "codemirror_mode": {
    "name": "ipython",
    "version": 3
   },
   "file_extension": ".py",
   "mimetype": "text/x-python",
   "name": "python",
   "nbconvert_exporter": "python",
   "pygments_lexer": "ipython3",
   "version": "3.10.2"
  }
 },
 "nbformat": 4,
 "nbformat_minor": 2
}
