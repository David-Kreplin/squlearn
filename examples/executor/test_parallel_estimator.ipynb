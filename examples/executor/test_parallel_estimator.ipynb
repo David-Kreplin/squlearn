{
 "cells": [
  {
   "cell_type": "code",
   "execution_count": null,
   "metadata": {},
   "outputs": [],
   "source": [
    "from squlearn import Executor\n",
    "\n",
    "from squlearn.util.execution import ParallelEstimator, ParallelSampler\n",
    "\n",
    "\n",
    "from qiskit import QuantumCircuit, Aer\n",
    "from qiskit.quantum_info import SparsePauliOp\n",
    "from qiskit.primitives import Estimator as QEstimator\n",
    "from qiskit.primitives import BackendEstimator\n",
    "\n",
    "qc = QuantumCircuit(3)\n",
    "qc.h(range(3))\n",
    "qc.ry(0.1,0)\n",
    "qc.cx(0,1)\n",
    "qc.cx(1,2)\n",
    "\n",
    "obs = SparsePauliOp(\"IXX\")\n",
    "\n",
    "QEstimator().run(qc,obs).result()"
   ]
  },
  {
   "cell_type": "code",
   "execution_count": null,
   "metadata": {},
   "outputs": [],
   "source": [
    "bestimator = BackendEstimator(Aer.get_backend('qasm_simulator'))\n",
    "pestimator = ParallelEstimator(bestimator, num_parallel=3)\n",
    "job = pestimator.run(qc,obs,shots=4000)\n",
    "job.result()"
   ]
  },
  {
   "cell_type": "code",
   "execution_count": null,
   "metadata": {},
   "outputs": [],
   "source": [
    "psampler = ParallelEstimator(QEstimator(), num_parallel=3)\n",
    "job = psampler.run(qc,obs)\n",
    "job.result()"
   ]
  },
  {
   "cell_type": "code",
   "execution_count": null,
   "metadata": {},
   "outputs": [],
   "source": [
    "from qiskit_ibm_runtime import QiskitRuntimeService,Estimator,Session\n",
    "\n",
    "service = QiskitRuntimeService(channel=\"ibm_quantum\")\n",
    "\n",
    "session = Session(service, backend=service.get_backend(\"ibmq_qasm_simulator\"))\n",
    "sampler = Estimator(session=session)\n",
    "\n",
    "psampler = ParallelEstimator(sampler, num_parallel=3)\n",
    "job = psampler.run(qc,obs)\n",
    "job.result()"
   ]
  }
 ],
 "metadata": {
  "kernelspec": {
   "display_name": "Python 3",
   "language": "python",
   "name": "python3"
  },
  "language_info": {
   "codemirror_mode": {
    "name": "ipython",
    "version": 3
   },
   "file_extension": ".py",
   "mimetype": "text/x-python",
   "name": "python",
   "nbconvert_exporter": "python",
   "pygments_lexer": "ipython3",
   "version": "3.10.2"
  }
 },
 "nbformat": 4,
 "nbformat_minor": 2
}
