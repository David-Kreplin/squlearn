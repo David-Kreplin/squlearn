{
 "cells": [
  {
   "cell_type": "code",
   "execution_count": null,
   "metadata": {},
   "outputs": [],
   "source": [
    "import numpy as np\n",
    "from squlearn.encoding_circuit import ChebyshevRx\n",
    "from squlearn.observables import SummedPaulis\n",
    "from squlearn import Executor\n",
    "\n",
    "from squlearn.qnn.lowlevel_qnn_pennylane import LowLevelQNNPennyLane\n",
    "from squlearn.qnn.lowlevel_qnn_qiskit import LowLevelQNN\n",
    "\n",
    "import pennylane as qml\n",
    "import pennylane.numpy as pnp"
   ]
  },
  {
   "cell_type": "code",
   "execution_count": null,
   "metadata": {},
   "outputs": [],
   "source": [
    "pqc = ChebyshevRx(2,1)\n",
    "obs1 = SummedPaulis(2)\n",
    "obs2 = SummedPaulis(2)\n",
    "obs3 = SummedPaulis(2)\n",
    "\n",
    "np.random.seed(0)\n",
    "param = np.random.rand(pqc.num_parameters)\n",
    "param_obs = np.random.rand(obs1.num_parameters+obs2.num_parameters)\n",
    "\n",
    "qnn = LowLevelQNNPennyLane(pqc, [obs1,obs2], None)"
   ]
  },
  {
   "cell_type": "code",
   "execution_count": null,
   "metadata": {},
   "outputs": [],
   "source": [
    "xx = [[0.5],[0.6]]\n",
    "pp = [param,2*param]\n",
    "qq = [param_obs,2*param_obs]\n",
    "\n",
    "x_ = []\n",
    "p_ = []\n",
    "q_ = []\n",
    "\n",
    "\n",
    "for xxx in xx:\n",
    "    for ppp in pp:\n",
    "        for qqq in qq:\n",
    "            x_.append(xxx)\n",
    "            p_.append(ppp)\n",
    "            q_.append(qqq)\n",
    "\n",
    "x_ = pnp.array(x_,requires_grad=True).transpose()\n",
    "p_ = pnp.array(p_,requires_grad=False).transpose()\n",
    "q_ = pnp.array(q_,requires_grad=False).transpose()\n",
    "\n",
    "\n",
    "\n",
    "val = qml.jacobian(qnn._pennylane_circuit)(p_, x_, q_)\n",
    "\n",
    "\n",
    "vall = np.array(val)"
   ]
  },
  {
   "cell_type": "code",
   "execution_count": null,
   "metadata": {},
   "outputs": [],
   "source": [
    "vall = vall.sum(axis=0)"
   ]
  },
  {
   "cell_type": "code",
   "execution_count": null,
   "metadata": {},
   "outputs": [],
   "source": [
    "print(\"vall\",vall)"
   ]
  },
  {
   "cell_type": "code",
   "execution_count": null,
   "metadata": {},
   "outputs": [],
   "source": [
    "vall = vall.transpose()"
   ]
  },
  {
   "cell_type": "code",
   "execution_count": null,
   "metadata": {},
   "outputs": [],
   "source": [
    "print(\"vall\",vall)"
   ]
  },
  {
   "cell_type": "code",
   "execution_count": null,
   "metadata": {},
   "outputs": [],
   "source": [
    "vall.reshape(len(xx),len(pp),len(qq),qnn.num_operator)"
   ]
  },
  {
   "cell_type": "code",
   "execution_count": null,
   "metadata": {},
   "outputs": [],
   "source": [
    "qnn_qiskit = LowLevelQNN(pqc, [obs1,obs2], Executor())"
   ]
  },
  {
   "cell_type": "code",
   "execution_count": null,
   "metadata": {},
   "outputs": [],
   "source": [
    "qnn_qiskit.evaluate([0.5,0.6],[param,2*param],[param_obs,2*param_obs],\"dfdx\")[\"dfdx\"]"
   ]
  }
 ],
 "metadata": {
  "kernelspec": {
   "display_name": ".venv",
   "language": "python",
   "name": "python3"
  },
  "language_info": {
   "codemirror_mode": {
    "name": "ipython",
    "version": 3
   },
   "file_extension": ".py",
   "mimetype": "text/x-python",
   "name": "python",
   "nbconvert_exporter": "python",
   "pygments_lexer": "ipython3",
   "version": "3.10.2"
  }
 },
 "nbformat": 4,
 "nbformat_minor": 2
}
