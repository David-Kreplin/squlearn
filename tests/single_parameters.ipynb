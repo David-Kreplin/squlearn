{
 "cells": [
  {
   "cell_type": "code",
   "execution_count": 1,
   "metadata": {},
   "outputs": [],
   "source": [
    "import numpy as np\n",
    "from squlearn.encoding_circuit import ChebyshevRx\n",
    "from squlearn.observables import SummedPaulis\n",
    "from squlearn import Executor\n",
    "\n",
    "from squlearn.qnn.lowlevel_qnn_pennylane import LowLevelQNNPennyLane\n",
    "from squlearn.qnn.lowlevel_qnn_qiskit import LowLevelQNN"
   ]
  },
  {
   "cell_type": "code",
   "execution_count": 2,
   "metadata": {},
   "outputs": [
    {
     "name": "stdout",
     "output_type": "stream",
     "text": [
      "self._pennylane_gates [<class 'pennylane.ops.qubit.parametric_ops_single_qubit.RX'>, <class 'pennylane.ops.qubit.parametric_ops_single_qubit.RX'>, <class 'pennylane.ops.qubit.parametric_ops_single_qubit.RX'>, <class 'pennylane.ops.qubit.parametric_ops_single_qubit.RX'>, <class 'pennylane.ops.qubit.non_parametric_ops.CNOT'>]\n",
      "self._pennylane_gates_param_function [(<function _lambdifygenerated at 0x000002231A514820>,), (<function _lambdifygenerated at 0x000002231A515510>,), (<function _lambdifygenerated at 0x000002231A516320>,), (<function _lambdifygenerated at 0x000002231A515FC0>,), None]\n",
      "self._pennylane_gates_wires [[0], [1], [0], [1], [0, 1]]\n",
      "self._pennylane_gates_parameters ['param', 'x']\n",
      "self._pennylane_obs_param_function [<function _lambdifygenerated at 0x000002231A514A60>, <function _lambdifygenerated at 0x000002231A515000>, <function _lambdifygenerated at 0x000002231A5144C0>]\n",
      "self._pennylane_words [Identity(wires=[0]), PauliZ(wires=[0]), PauliZ(wires=[1])]\n",
      "self._pennylane_obs_parameters ['param_obs']\n",
      "self._pennylane_gates [<class 'pennylane.ops.qubit.parametric_ops_single_qubit.RX'>, <class 'pennylane.ops.qubit.parametric_ops_single_qubit.RX'>, <class 'pennylane.ops.qubit.parametric_ops_single_qubit.RX'>, <class 'pennylane.ops.qubit.parametric_ops_single_qubit.RX'>, <class 'pennylane.ops.qubit.non_parametric_ops.CNOT'>]\n",
      "self._pennylane_gates_param_function [(<function _lambdifygenerated at 0x000002231A514670>,), (<function _lambdifygenerated at 0x000002231A515F30>,), (<function _lambdifygenerated at 0x000002231A5167A0>,), (<function _lambdifygenerated at 0x000002231A517400>,), None]\n",
      "self._pennylane_gates_wires [[0], [1], [0], [1], [0, 1]]\n",
      "self._pennylane_gates_parameters ['param', 'x']\n",
      "self._pennylane_obs_param_function [<function _lambdifygenerated at 0x000002231A43BF40>, <function _lambdifygenerated at 0x000002231A516B00>, <function _lambdifygenerated at 0x000002231A515750>, <function _lambdifygenerated at 0x000002231A515630>]\n",
      "self._pennylane_words [Identity(wires=[0]), PauliZ(wires=[0]), PauliZ(wires=[1]), PauliZ(wires=[0]) @ PauliZ(wires=[1])]\n",
      "self._pennylane_obs_parameters ['param_obs']\n"
     ]
    }
   ],
   "source": [
    "pqc = ChebyshevRx(2,1)\n",
    "obs1 = SummedPaulis(2)\n",
    "obs2 = SummedPaulis(2,\"Y\")\n",
    "\n",
    "\n",
    "np.random.seed(0)\n",
    "param = np.random.rand(pqc.num_parameters)\n",
    "param_obs = np.random.rand(obs1.num_parameters)\n",
    "\n",
    "qnn_pl = LowLevelQNNPennyLane(pqc, obs1, None)"
   ]
  },
  {
   "cell_type": "code",
   "execution_count": 3,
   "metadata": {},
   "outputs": [],
   "source": [
    "qnn_qiskit = LowLevelQNN(pqc, obs1, Executor())"
   ]
  },
  {
   "cell_type": "code",
   "execution_count": 4,
   "metadata": {},
   "outputs": [
    {
     "name": "stdout",
     "output_type": "stream",
     "text": [
      "0.7170543287605058\n",
      "()\n"
     ]
    }
   ],
   "source": [
    "val = qnn_qiskit.evaluate(0.5,param,param_obs,\"f\")[\"f\"]\n",
    "print(val)\n",
    "print(val.shape)"
   ]
  },
  {
   "cell_type": "code",
   "execution_count": 5,
   "metadata": {},
   "outputs": [
    {
     "name": "stdout",
     "output_type": "stream",
     "text": [
      "0.7170543287605057\n",
      "()\n"
     ]
    }
   ],
   "source": [
    "val = qnn_pl.evaluate(0.5,param,param_obs,\"f\")[\"f\"]\n",
    "print(val)\n",
    "print(val.shape)"
   ]
  },
  {
   "cell_type": "code",
   "execution_count": 6,
   "metadata": {},
   "outputs": [
    {
     "name": "stdout",
     "output_type": "stream",
     "text": [
      "1.1913134128192306\n",
      "()\n"
     ]
    }
   ],
   "source": [
    "val = qnn_qiskit.evaluate(0.5,param,param_obs,\"fcc\")[\"fcc\"]\n",
    "print(val)\n",
    "print(val.shape)"
   ]
  },
  {
   "cell_type": "code",
   "execution_count": 7,
   "metadata": {},
   "outputs": [
    {
     "name": "stdout",
     "output_type": "stream",
     "text": [
      "1.1913134128192306\n",
      "()\n"
     ]
    }
   ],
   "source": [
    "val = qnn_pl.evaluate(0.5,param,param_obs,\"fcc\")[\"fcc\"]\n",
    "print(val)\n",
    "print(val.shape)"
   ]
  },
  {
   "cell_type": "code",
   "execution_count": 8,
   "metadata": {},
   "outputs": [
    {
     "name": "stdout",
     "output_type": "stream",
     "text": [
      "0.6771465024250511\n",
      "()\n"
     ]
    }
   ],
   "source": [
    "val = qnn_qiskit.evaluate(0.5,param,param_obs,\"var\")[\"var\"]\n",
    "print(val)\n",
    "print(val.shape)"
   ]
  },
  {
   "cell_type": "code",
   "execution_count": 9,
   "metadata": {},
   "outputs": [
    {
     "name": "stdout",
     "output_type": "stream",
     "text": [
      "[0.6771465  0.68317628]\n",
      "(2,)\n"
     ]
    }
   ],
   "source": [
    "val = qnn_pl.evaluate([0.5,0.6],param,param_obs,\"var\")[\"var\"]\n",
    "print(val)\n",
    "print(val.shape)"
   ]
  },
  {
   "cell_type": "code",
   "execution_count": 10,
   "metadata": {},
   "outputs": [
    {
     "name": "stdout",
     "output_type": "stream",
     "text": [
      "[-0.62740436 -0.71252482 -0.59912703 -0.68041108]\n",
      "(4,)\n"
     ]
    }
   ],
   "source": [
    "val = qnn_qiskit.evaluate(0.5,param,param_obs,\"dfccdp\")[\"dfccdp\"]\n",
    "print(val)\n",
    "print(val.shape)"
   ]
  },
  {
   "cell_type": "code",
   "execution_count": 11,
   "metadata": {},
   "outputs": [
    {
     "data": {
      "text/plain": [
       "'x[0]'"
      ]
     },
     "execution_count": 11,
     "metadata": {},
     "output_type": "execute_result"
    }
   ],
   "source": [
    "qnn_qiskit.features[0].name"
   ]
  },
  {
   "cell_type": "code",
   "execution_count": 12,
   "metadata": {},
   "outputs": [
    {
     "name": "stdout",
     "output_type": "stream",
     "text": [
      "[[ 1.11022302e-16  0.00000000e+00  0.00000000e+00  0.00000000e+00]\n",
      " [-9.67236655e-01 -2.77555756e-17 -9.23642968e-01  2.77555756e-17]\n",
      " [-2.64482188e-01 -3.86047038e-01 -2.52561885e-01 -3.68647767e-01]]\n",
      "(3, 4)\n"
     ]
    }
   ],
   "source": [
    "val = qnn_qiskit.evaluate(0.5,param,param_obs,(qnn_qiskit.parameters_operator,qnn_qiskit.parameters))[(qnn_qiskit.parameters_operator,qnn_qiskit.parameters)]\n",
    "print(val)\n",
    "print(val.shape)"
   ]
  },
  {
   "cell_type": "code",
   "execution_count": 13,
   "metadata": {},
   "outputs": [
    {
     "name": "stdout",
     "output_type": "stream",
     "text": [
      "sub_val.name p_op\n",
      "sub_val.name p\n",
      "order 2\n",
      "argnum []\n"
     ]
    },
    {
     "ename": "IndexError",
     "evalue": "pop from empty list",
     "output_type": "error",
     "traceback": [
      "\u001b[1;31m---------------------------------------------------------------------------\u001b[0m",
      "\u001b[1;31mIndexError\u001b[0m                                Traceback (most recent call last)",
      "Cell \u001b[1;32mIn[13], line 1\u001b[0m\n\u001b[1;32m----> 1\u001b[0m val \u001b[38;5;241m=\u001b[39m \u001b[43mqnn_pl\u001b[49m\u001b[38;5;241;43m.\u001b[39;49m\u001b[43mevaluate\u001b[49m\u001b[43m(\u001b[49m\u001b[38;5;241;43m0.5\u001b[39;49m\u001b[43m,\u001b[49m\u001b[43mparam\u001b[49m\u001b[43m,\u001b[49m\u001b[43mparam_obs\u001b[49m\u001b[43m,\u001b[49m\u001b[43m(\u001b[49m\u001b[43mqnn_qiskit\u001b[49m\u001b[38;5;241;43m.\u001b[39;49m\u001b[43mparameters_operator\u001b[49m\u001b[43m,\u001b[49m\u001b[43mqnn_qiskit\u001b[49m\u001b[38;5;241;43m.\u001b[39;49m\u001b[43mparameters\u001b[49m\u001b[43m)\u001b[49m\u001b[43m)\u001b[49m[(qnn_qiskit\u001b[38;5;241m.\u001b[39mparameters_operator,qnn_qiskit\u001b[38;5;241m.\u001b[39mparameters)]\n\u001b[0;32m      2\u001b[0m \u001b[38;5;28mprint\u001b[39m(val)\n\u001b[0;32m      3\u001b[0m \u001b[38;5;28mprint\u001b[39m(val\u001b[38;5;241m.\u001b[39mshape)\n",
      "File \u001b[1;32m~\\Documents\\Git Repositories\\squlearn_fork\\squlearn\\src\\squlearn\\qnn\\lowlevel_qnn_pennylane.py:538\u001b[0m, in \u001b[0;36mLowLevelQNNPennyLane.evaluate\u001b[1;34m(self, x, param, param_obs, *values)\u001b[0m\n\u001b[0;32m    534\u001b[0m     output \u001b[38;5;241m=\u001b[39m np\u001b[38;5;241m.\u001b[39marray(output)\n\u001b[0;32m    536\u001b[0m \u001b[38;5;28;01melse\u001b[39;00m:\n\u001b[0;32m    537\u001b[0m     \u001b[38;5;66;03m# evaluate only param, param_op combination separately and all x together\u001b[39;00m\n\u001b[1;32m--> 538\u001b[0m     output \u001b[38;5;241m=\u001b[39m [\n\u001b[0;32m    539\u001b[0m         _evaluate_todo_all_x(todo_class, x_inpT, param_inp_, param_obs_inp_)\n\u001b[0;32m    540\u001b[0m         \u001b[38;5;28;01mfor\u001b[39;00m param_inp_ \u001b[38;5;129;01min\u001b[39;00m param_inp\n\u001b[0;32m    541\u001b[0m         \u001b[38;5;28;01mfor\u001b[39;00m param_obs_inp_ \u001b[38;5;129;01min\u001b[39;00m param_obs_inp\n\u001b[0;32m    542\u001b[0m     ]\n\u001b[0;32m    543\u001b[0m     \u001b[38;5;66;03m# Restore order of _evaluate_todo_single_x\u001b[39;00m\n\u001b[0;32m    544\u001b[0m     output \u001b[38;5;241m=\u001b[39m np\u001b[38;5;241m.\u001b[39marray(output)\n",
      "File \u001b[1;32m~\\Documents\\Git Repositories\\squlearn_fork\\squlearn\\src\\squlearn\\qnn\\lowlevel_qnn_pennylane.py:539\u001b[0m, in \u001b[0;36m<listcomp>\u001b[1;34m(.0)\u001b[0m\n\u001b[0;32m    534\u001b[0m     output \u001b[38;5;241m=\u001b[39m np\u001b[38;5;241m.\u001b[39marray(output)\n\u001b[0;32m    536\u001b[0m \u001b[38;5;28;01melse\u001b[39;00m:\n\u001b[0;32m    537\u001b[0m     \u001b[38;5;66;03m# evaluate only param, param_op combination separately and all x together\u001b[39;00m\n\u001b[0;32m    538\u001b[0m     output \u001b[38;5;241m=\u001b[39m [\n\u001b[1;32m--> 539\u001b[0m         \u001b[43m_evaluate_todo_all_x\u001b[49m\u001b[43m(\u001b[49m\u001b[43mtodo_class\u001b[49m\u001b[43m,\u001b[49m\u001b[43m \u001b[49m\u001b[43mx_inpT\u001b[49m\u001b[43m,\u001b[49m\u001b[43m \u001b[49m\u001b[43mparam_inp_\u001b[49m\u001b[43m,\u001b[49m\u001b[43m \u001b[49m\u001b[43mparam_obs_inp_\u001b[49m\u001b[43m)\u001b[49m\n\u001b[0;32m    540\u001b[0m         \u001b[38;5;28;01mfor\u001b[39;00m param_inp_ \u001b[38;5;129;01min\u001b[39;00m param_inp\n\u001b[0;32m    541\u001b[0m         \u001b[38;5;28;01mfor\u001b[39;00m param_obs_inp_ \u001b[38;5;129;01min\u001b[39;00m param_obs_inp\n\u001b[0;32m    542\u001b[0m     ]\n\u001b[0;32m    543\u001b[0m     \u001b[38;5;66;03m# Restore order of _evaluate_todo_single_x\u001b[39;00m\n\u001b[0;32m    544\u001b[0m     output \u001b[38;5;241m=\u001b[39m np\u001b[38;5;241m.\u001b[39marray(output)\n",
      "File \u001b[1;32m~\\Documents\\Git Repositories\\squlearn_fork\\squlearn\\src\\squlearn\\qnn\\lowlevel_qnn_pennylane.py:468\u001b[0m, in \u001b[0;36mLowLevelQNNPennyLane.evaluate.<locals>._evaluate_todo_all_x\u001b[1;34m(todo_class, x, param, param_obs)\u001b[0m\n\u001b[0;32m    466\u001b[0m order \u001b[38;5;241m=\u001b[39m todo_class\u001b[38;5;241m.\u001b[39morder \u001b[38;5;241m-\u001b[39m \u001b[38;5;241m1\u001b[39m\n\u001b[0;32m    467\u001b[0m argnum \u001b[38;5;241m=\u001b[39m copy\u001b[38;5;241m.\u001b[39mcopy(todo_class\u001b[38;5;241m.\u001b[39margnum)\n\u001b[1;32m--> 468\u001b[0m deriv \u001b[38;5;241m=\u001b[39m qml\u001b[38;5;241m.\u001b[39mjacobian(func, argnum\u001b[38;5;241m=\u001b[39m\u001b[43margnum\u001b[49m\u001b[38;5;241;43m.\u001b[39;49m\u001b[43mpop\u001b[49m\u001b[43m(\u001b[49m\u001b[43m)\u001b[49m)\n\u001b[0;32m    469\u001b[0m \u001b[38;5;28;01mwhile\u001b[39;00m order \u001b[38;5;241m>\u001b[39m \u001b[38;5;241m0\u001b[39m:\n\u001b[0;32m    470\u001b[0m     deriv \u001b[38;5;241m=\u001b[39m qml\u001b[38;5;241m.\u001b[39mjacobian(deriv, argnum\u001b[38;5;241m=\u001b[39margnum\u001b[38;5;241m.\u001b[39mpop())\n",
      "\u001b[1;31mIndexError\u001b[0m: pop from empty list"
     ]
    }
   ],
   "source": [
    "val = qnn_pl.evaluate(0.5,param,param_obs,(qnn_pl.parameters_operator,qnn_pl.parameters))[(qnn_pl.parameters_operator,qnn_pl.parameters)]\n",
    "print(val)\n",
    "print(val.shape)"
   ]
  },
  {
   "cell_type": "code",
   "execution_count": null,
   "metadata": {},
   "outputs": [],
   "source": [
    "val = qnn_pl.evaluate(0.5,param,param_obs,\"dfccdp\")[\"dfccdp\"]\n",
    "print(val)\n",
    "print(val.shape)"
   ]
  },
  {
   "cell_type": "code",
   "execution_count": null,
   "metadata": {},
   "outputs": [],
   "source": [
    "val = qnn_qiskit.evaluate(0.5,param,param_obs,\"dfccdxdx\")[\"dfccdxdx\"]\n",
    "print(val)\n",
    "print(val.shape)"
   ]
  },
  {
   "cell_type": "code",
   "execution_count": null,
   "metadata": {},
   "outputs": [],
   "source": [
    "val = qnn_pl.evaluate(0.5,param,param_obs,\"dfccdxdx\")[\"dfccdxdx\"]\n",
    "print(val)\n",
    "print(val.shape)"
   ]
  },
  {
   "cell_type": "code",
   "execution_count": null,
   "metadata": {},
   "outputs": [],
   "source": [
    "val = qnn_qiskit.evaluate([0.5,0.6],param,param_obs,\"dfdx\")[\"dfdx\"]\n",
    "print(val)\n",
    "print(val.shape)"
   ]
  },
  {
   "cell_type": "code",
   "execution_count": null,
   "metadata": {},
   "outputs": [],
   "source": [
    "val = qnn_qiskit.evaluate([0.5,0.6],param,param_obs,\"dvardx\")[\"dvardx\"]\n",
    "print(val)\n",
    "print(val.shape)"
   ]
  },
  {
   "cell_type": "code",
   "execution_count": null,
   "metadata": {},
   "outputs": [],
   "source": [
    "val = qnn_pl.evaluate([0.5,0.6],param,param_obs,\"dvardx\")[\"dvardx\"]\n",
    "print(val)\n",
    "print(val.shape)"
   ]
  },
  {
   "cell_type": "code",
   "execution_count": null,
   "metadata": {},
   "outputs": [],
   "source": [
    "val = qnn_pl.evaluate([0.5,0.6],param,param_obs,\"dfccdx\")[\"dfccdx\"]\n",
    "print(val)\n",
    "print(val.shape)"
   ]
  },
  {
   "cell_type": "code",
   "execution_count": null,
   "metadata": {},
   "outputs": [],
   "source": [
    "val = qnn_pl.evaluate(0.5,param,param_obs,\"dfdxdp\")[\"dfdxdp\"]\n",
    "print(val)\n",
    "print(val.shape)"
   ]
  },
  {
   "cell_type": "code",
   "execution_count": null,
   "metadata": {},
   "outputs": [],
   "source": [
    "val = qnn_pl.evaluate(0.5,param,param_obs,\"dfdpdxdx\")[\"dfdpdxdx\"]\n",
    "print(val)\n",
    "print(val.shape)"
   ]
  },
  {
   "cell_type": "code",
   "execution_count": null,
   "metadata": {},
   "outputs": [],
   "source": [
    "val = qnn_pl.evaluate(0.5,param,param_obs,\"dfdxdpdx\")[\"dfdxdpdx\"]\n",
    "print(val)\n",
    "print(val.shape)"
   ]
  },
  {
   "cell_type": "code",
   "execution_count": null,
   "metadata": {},
   "outputs": [],
   "source": [
    "val = qnn_qiskit.evaluate(0.5,param,param_obs,\"dfdxdx\")[\"dfdxdx\"]\n",
    "print(val)\n",
    "print(val.shape)"
   ]
  },
  {
   "cell_type": "code",
   "execution_count": null,
   "metadata": {},
   "outputs": [],
   "source": [
    "val = qnn_pl.evaluate(0.5,param,param_obs,\"dfdxdx\")[\"dfdxdx\"]\n",
    "print(val)\n",
    "print(val.shape)"
   ]
  },
  {
   "cell_type": "code",
   "execution_count": null,
   "metadata": {},
   "outputs": [],
   "source": [
    "val = qnn_qiskit.evaluate(0.5,param,param_obs,\"dfdpdp\")[\"dfdpdp\"]\n",
    "print(val)\n",
    "print(val.shape)"
   ]
  },
  {
   "cell_type": "code",
   "execution_count": null,
   "metadata": {},
   "outputs": [],
   "source": [
    "val = qnn_pl.evaluate(0.5,param,param_obs,\"dfdpdp\")[\"dfdpdp\"]\n",
    "print(val)\n",
    "print(val.shape)"
   ]
  }
 ],
 "metadata": {
  "kernelspec": {
   "display_name": ".venv",
   "language": "python",
   "name": "python3"
  },
  "language_info": {
   "codemirror_mode": {
    "name": "ipython",
    "version": 3
   },
   "file_extension": ".py",
   "mimetype": "text/x-python",
   "name": "python",
   "nbconvert_exporter": "python",
   "pygments_lexer": "ipython3",
   "version": "3.10.2"
  }
 },
 "nbformat": 4,
 "nbformat_minor": 2
}
