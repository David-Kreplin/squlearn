{
 "cells": [
  {
   "cell_type": "code",
   "execution_count": 1,
   "metadata": {},
   "outputs": [],
   "source": [
    "import numpy as np\n",
    "from squlearn.encoding_circuit import ChebyshevRx\n",
    "from squlearn.observables import SummedPaulis\n",
    "from squlearn import Executor\n",
    "\n",
    "from squlearn.qnn.lowlevel_qnn_pennylane import LowLevelQNNPennyLane\n",
    "from squlearn.qnn.lowlevel_qnn_qiskit import LowLevelQNN"
   ]
  },
  {
   "cell_type": "code",
   "execution_count": 2,
   "metadata": {},
   "outputs": [
    {
     "name": "stdout",
     "output_type": "stream",
     "text": [
      "self._qiskit_observable_squared SparsePauliOp(['II', 'IZ', 'ZI', 'IZ', 'II', 'ZZ', 'ZI', 'ZZ', 'II'],\n",
      "              coeffs=[ParameterExpression(1.0*param_obs[0]**2),\n",
      " ParameterExpression(1.0*param_obs[0]*param_obs[1]),\n",
      " ParameterExpression(1.0*param_obs[0]*param_obs[2]),\n",
      " ParameterExpression(1.0*param_obs[0]*param_obs[1]),\n",
      " ParameterExpression(1.0*param_obs[1]**2),\n",
      " ParameterExpression(1.0*param_obs[1]*param_obs[2]),\n",
      " ParameterExpression(1.0*param_obs[0]*param_obs[2]),\n",
      " ParameterExpression(1.0*param_obs[1]*param_obs[2]),\n",
      " ParameterExpression(1.0*param_obs[2]**2)])\n",
      "self._pennylane_gates [<class 'pennylane.ops.qubit.parametric_ops_single_qubit.RX'>, <class 'pennylane.ops.qubit.parametric_ops_single_qubit.RX'>, <class 'pennylane.ops.qubit.parametric_ops_single_qubit.RX'>, <class 'pennylane.ops.qubit.parametric_ops_single_qubit.RX'>, <class 'pennylane.ops.qubit.non_parametric_ops.CNOT'>]\n",
      "self._pennylane_gates_param_function [(<function _lambdifygenerated at 0x0000023A195E4430>,), (<function _lambdifygenerated at 0x0000023A195E4040>,), (<function _lambdifygenerated at 0x0000023A195E5360>,), (<function _lambdifygenerated at 0x0000023A195E6050>,), None]\n",
      "self._pennylane_gates_wires [[0], [1], [0], [1], [0, 1]]\n",
      "self._pennylane_gates_parameters ['param', 'x']\n",
      "self._pennylane_obs_param_function [<function _lambdifygenerated at 0x0000023A1950BB50>, <function _lambdifygenerated at 0x0000023A195E67A0>, <function _lambdifygenerated at 0x0000023A195E5BD0>]\n",
      "self._pennylane_words [Identity(wires=[0]), PauliZ(wires=[0]), PauliZ(wires=[1])]\n",
      "self._pennylane_obs_parameters ['param_obs']\n",
      "self._pennylane_gates [<class 'pennylane.ops.qubit.parametric_ops_single_qubit.RX'>, <class 'pennylane.ops.qubit.parametric_ops_single_qubit.RX'>, <class 'pennylane.ops.qubit.parametric_ops_single_qubit.RX'>, <class 'pennylane.ops.qubit.parametric_ops_single_qubit.RX'>, <class 'pennylane.ops.qubit.non_parametric_ops.CNOT'>]\n",
      "self._pennylane_gates_param_function [(<function _lambdifygenerated at 0x0000023A195E5090>,), (<function _lambdifygenerated at 0x0000023A1950BBE0>,), (<function _lambdifygenerated at 0x0000023A195E4EE0>,), (<function _lambdifygenerated at 0x0000023A195E5480>,), None]\n",
      "self._pennylane_gates_wires [[0], [1], [0], [1], [0, 1]]\n",
      "self._pennylane_gates_parameters ['param', 'x']\n",
      "self._pennylane_obs_param_function [<function _lambdifygenerated at 0x0000023A195E4310>, <function _lambdifygenerated at 0x0000023A195E6E60>, <function _lambdifygenerated at 0x0000023A1950BEB0>, <function _lambdifygenerated at 0x0000023A195E6B90>, <function _lambdifygenerated at 0x0000023A195E68C0>, <function _lambdifygenerated at 0x0000023A195E5870>, <function _lambdifygenerated at 0x0000023A195E4CA0>, <function _lambdifygenerated at 0x0000023A195E4550>, <function _lambdifygenerated at 0x0000023A195E4940>]\n",
      "self._pennylane_words [Identity(wires=[0]), PauliZ(wires=[0]), PauliZ(wires=[1]), PauliZ(wires=[0]), Identity(wires=[0]), PauliZ(wires=[0]) @ PauliZ(wires=[1]), PauliZ(wires=[1]), PauliZ(wires=[0]) @ PauliZ(wires=[1]), Identity(wires=[0])]\n",
      "self._pennylane_obs_parameters ['param_obs']\n"
     ]
    }
   ],
   "source": [
    "pqc = ChebyshevRx(2,1)\n",
    "obs = SummedPaulis(2)\n",
    "\n",
    "\n",
    "np.random.seed(0)\n",
    "param = np.random.rand(pqc.num_parameters)\n",
    "param_obs = np.random.rand(obs.num_parameters)\n",
    "\n",
    "qnn_pl = LowLevelQNNPennyLane(pqc, obs, None)"
   ]
  },
  {
   "cell_type": "code",
   "execution_count": 3,
   "metadata": {},
   "outputs": [],
   "source": [
    "qnn_qiskit = LowLevelQNN(pqc, obs, Executor())"
   ]
  },
  {
   "cell_type": "code",
   "execution_count": 4,
   "metadata": {},
   "outputs": [
    {
     "name": "stdout",
     "output_type": "stream",
     "text": [
      "0.7170543287605058\n",
      "()\n"
     ]
    }
   ],
   "source": [
    "val = qnn_qiskit.evaluate(0.5,param,param_obs,\"f\")[\"f\"]\n",
    "print(val)\n",
    "print(val.shape)"
   ]
  },
  {
   "cell_type": "code",
   "execution_count": 5,
   "metadata": {},
   "outputs": [
    {
     "name": "stdout",
     "output_type": "stream",
     "text": [
      "0.7170543287605057\n",
      "()\n"
     ]
    }
   ],
   "source": [
    "val = qnn_pl.evaluate(0.5,param,param_obs,\"f\")[\"f\"]\n",
    "print(val)\n",
    "print(val.shape)"
   ]
  },
  {
   "cell_type": "code",
   "execution_count": 6,
   "metadata": {},
   "outputs": [
    {
     "name": "stdout",
     "output_type": "stream",
     "text": [
      "1.1913134128192306\n",
      "()\n"
     ]
    }
   ],
   "source": [
    "val = qnn_qiskit.evaluate(0.5,param,param_obs,\"fcc\")[\"fcc\"]\n",
    "print(val)\n",
    "print(val.shape)"
   ]
  },
  {
   "cell_type": "code",
   "execution_count": 7,
   "metadata": {},
   "outputs": [
    {
     "name": "stdout",
     "output_type": "stream",
     "text": [
      "1.1913134128192306\n",
      "()\n"
     ]
    }
   ],
   "source": [
    "val = qnn_pl.evaluate(0.5,param,param_obs,\"fcc\")[\"fcc\"]\n",
    "print(val)\n",
    "print(val.shape)"
   ]
  },
  {
   "cell_type": "code",
   "execution_count": 8,
   "metadata": {},
   "outputs": [
    {
     "name": "stdout",
     "output_type": "stream",
     "text": [
      "0.6771465024250511\n",
      "()\n"
     ]
    }
   ],
   "source": [
    "val = qnn_qiskit.evaluate(0.5,param,param_obs,\"var\")[\"var\"]\n",
    "print(val)\n",
    "print(val.shape)"
   ]
  },
  {
   "cell_type": "code",
   "execution_count": 9,
   "metadata": {},
   "outputs": [
    {
     "name": "stdout",
     "output_type": "stream",
     "text": [
      "0.6771465024250513\n",
      "()\n"
     ]
    }
   ],
   "source": [
    "val = qnn_pl.evaluate(0.5,param,param_obs,\"var\")[\"var\"]\n",
    "print(val)\n",
    "print(val.shape)"
   ]
  },
  {
   "cell_type": "code",
   "execution_count": 10,
   "metadata": {},
   "outputs": [
    {
     "name": "stdout",
     "output_type": "stream",
     "text": [
      "[-0.62740436 -0.71252482 -0.59912703 -0.68041108]\n",
      "(4,)\n"
     ]
    }
   ],
   "source": [
    "val = qnn_qiskit.evaluate(0.5,param,param_obs,\"dfccdp\")[\"dfccdp\"]\n",
    "print(val)\n",
    "print(val.shape)"
   ]
  },
  {
   "cell_type": "code",
   "execution_count": 11,
   "metadata": {},
   "outputs": [
    {
     "name": "stdout",
     "output_type": "stream",
     "text": [
      "[-0.62740436 -0.71252482 -0.59912703 -0.68041108]\n",
      "(4,)\n"
     ]
    }
   ],
   "source": [
    "val = qnn_pl.evaluate(0.5,param,param_obs,\"dfccdp\")[\"dfccdp\"]\n",
    "print(val)\n",
    "print(val.shape)"
   ]
  },
  {
   "cell_type": "code",
   "execution_count": 12,
   "metadata": {},
   "outputs": [
    {
     "name": "stdout",
     "output_type": "stream",
     "text": [
      "[[0.74075555]]\n",
      "(1, 1)\n"
     ]
    }
   ],
   "source": [
    "val = qnn_qiskit.evaluate(0.5,param,param_obs,\"dfccdxdx\")[\"dfccdxdx\"]\n",
    "print(val)\n",
    "print(val.shape)"
   ]
  },
  {
   "cell_type": "code",
   "execution_count": 13,
   "metadata": {},
   "outputs": [
    {
     "name": "stdout",
     "output_type": "stream",
     "text": [
      "[[0.74075555]]\n",
      "(1, 1)\n"
     ]
    }
   ],
   "source": [
    "val = qnn_pl.evaluate(0.5,param,param_obs,\"dfccdxdx\")[\"dfccdxdx\"]\n",
    "print(val)\n",
    "print(val.shape)"
   ]
  },
  {
   "cell_type": "code",
   "execution_count": 14,
   "metadata": {},
   "outputs": [
    {
     "name": "stdout",
     "output_type": "stream",
     "text": [
      "[0.58131502]\n",
      "(1,)\n"
     ]
    }
   ],
   "source": [
    "val = qnn_qiskit.evaluate(0.5,param,param_obs,\"dfdx\")[\"dfdx\"]\n",
    "print(val)\n",
    "print(val.shape)"
   ]
  },
  {
   "cell_type": "code",
   "execution_count": 15,
   "metadata": {},
   "outputs": [
    {
     "name": "stdout",
     "output_type": "stream",
     "text": [
      "[0.58131502]\n",
      "(1,)\n"
     ]
    }
   ],
   "source": [
    "val = qnn_pl.evaluate(0.5,param,param_obs,\"dfdx\")[\"dfdx\"]\n",
    "print(val)\n",
    "print(val.shape)"
   ]
  },
  {
   "cell_type": "code",
   "execution_count": 16,
   "metadata": {},
   "outputs": [
    {
     "name": "stdout",
     "output_type": "stream",
     "text": [
      "[[ 0.67497686]\n",
      " [-0.03206857]\n",
      " [-0.13512663]\n",
      " [-0.20849908]]\n",
      "(4, 1)\n"
     ]
    }
   ],
   "source": [
    "val = qnn_pl.evaluate(0.5,param,param_obs,\"dfdpdx\")[\"dfdpdx\"]\n",
    "print(val)\n",
    "print(val.shape)"
   ]
  },
  {
   "cell_type": "code",
   "execution_count": 17,
   "metadata": {},
   "outputs": [
    {
     "name": "stdout",
     "output_type": "stream",
     "text": [
      "[[ 0.67497686 -0.03206857 -0.13512663 -0.20849908]]\n",
      "(1, 4)\n"
     ]
    }
   ],
   "source": [
    "val = qnn_pl.evaluate(0.5,param,param_obs,\"dfdxdp\")[\"dfdxdp\"]\n",
    "print(val)\n",
    "print(val.shape)"
   ]
  },
  {
   "cell_type": "code",
   "execution_count": 18,
   "metadata": {},
   "outputs": [
    {
     "name": "stdout",
     "output_type": "stream",
     "text": [
      "[[[1.3151589  0.76431556 0.43809934 0.15147744]]]\n",
      "(1, 1, 4)\n"
     ]
    }
   ],
   "source": [
    "val = qnn_pl.evaluate(0.5,param,param_obs,\"dfdxdxdp\")[\"dfdxdxdp\"]\n",
    "print(val)\n",
    "print(val.shape)"
   ]
  },
  {
   "cell_type": "code",
   "execution_count": 19,
   "metadata": {},
   "outputs": [
    {
     "name": "stdout",
     "output_type": "stream",
     "text": [
      "[[[1.3151589 ]\n",
      "  [0.76431556]\n",
      "  [0.43809934]\n",
      "  [0.15147744]]]\n",
      "(1, 4, 1)\n"
     ]
    }
   ],
   "source": [
    "val = qnn_pl.evaluate(0.5,param,param_obs,\"dfdxdpdx\")[\"dfdxdpdx\"]\n",
    "print(val)\n",
    "print(val.shape)"
   ]
  },
  {
   "cell_type": "code",
   "execution_count": 20,
   "metadata": {},
   "outputs": [
    {
     "name": "stdout",
     "output_type": "stream",
     "text": [
      "[[0.64535985]]\n",
      "(1, 1)\n"
     ]
    }
   ],
   "source": [
    "val = qnn_qiskit.evaluate(0.5,param,param_obs,\"dfdxdx\")[\"dfdxdx\"]\n",
    "print(val)\n",
    "print(val.shape)"
   ]
  },
  {
   "cell_type": "code",
   "execution_count": 21,
   "metadata": {},
   "outputs": [
    {
     "name": "stdout",
     "output_type": "stream",
     "text": [
      "[[0.64535985]]\n",
      "(1, 1)\n"
     ]
    }
   ],
   "source": [
    "val = qnn_pl.evaluate(0.5,param,param_obs,\"dfdxdx\")[\"dfdxdx\"]\n",
    "print(val)\n",
    "print(val.shape)"
   ]
  },
  {
   "cell_type": "code",
   "execution_count": 22,
   "metadata": {},
   "outputs": [
    {
     "name": "stdout",
     "output_type": "stream",
     "text": [
      "[[-0.32174859  0.42633485 -0.30724727  0.4071198 ]\n",
      " [ 0.42633485 -0.05028892  0.4071198  -0.04802238]\n",
      " [-0.30724727  0.4071198  -0.29339953  0.38877077]\n",
      " [ 0.4071198  -0.04802238  0.38877077 -0.04585799]]\n",
      "(4, 4)\n"
     ]
    }
   ],
   "source": [
    "val = qnn_qiskit.evaluate(0.5,param,param_obs,\"dfdpdp\")[\"dfdpdp\"]\n",
    "print(val)\n",
    "print(val.shape)"
   ]
  },
  {
   "cell_type": "code",
   "execution_count": 23,
   "metadata": {},
   "outputs": [
    {
     "name": "stdout",
     "output_type": "stream",
     "text": [
      "[[-0.32174859  0.42633485 -0.30724727  0.4071198 ]\n",
      " [ 0.42633485 -0.05028892  0.4071198  -0.04802238]\n",
      " [-0.30724727  0.4071198  -0.29339953  0.38877077]\n",
      " [ 0.4071198  -0.04802238  0.38877077 -0.04585799]]\n",
      "(4, 4)\n"
     ]
    }
   ],
   "source": [
    "val = qnn_pl.evaluate(0.5,param,param_obs,\"dfdpdp\")[\"dfdpdp\"]\n",
    "print(val)\n",
    "print(val.shape)"
   ]
  }
 ],
 "metadata": {
  "kernelspec": {
   "display_name": ".venv",
   "language": "python",
   "name": "python3"
  },
  "language_info": {
   "codemirror_mode": {
    "name": "ipython",
    "version": 3
   },
   "file_extension": ".py",
   "mimetype": "text/x-python",
   "name": "python",
   "nbconvert_exporter": "python",
   "pygments_lexer": "ipython3",
   "version": "3.10.2"
  }
 },
 "nbformat": 4,
 "nbformat_minor": 2
}
