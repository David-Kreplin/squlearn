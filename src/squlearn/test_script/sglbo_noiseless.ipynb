{
 "cells": [
  {
   "cell_type": "markdown",
   "id": "9c9237fdfb6b9fbd",
   "metadata": {
    "collapsed": false
   },
   "source": [
    "### Imports"
   ]
  },
  {
   "cell_type": "code",
   "execution_count": null,
   "id": "initial_id",
   "metadata": {
    "ExecuteTime": {
     "end_time": "2023-11-09T16:18:54.130981500Z",
     "start_time": "2023-11-09T16:18:25.305280400Z"
    },
    "collapsed": true
   },
   "outputs": [],
   "source": [
    "import numpy as np\n",
    "from matplotlib import pyplot as plt\n",
    "\n",
    "from squlearn import Executor\n",
    "from squlearn.encoding_circuit import ChebyshevRx\n",
    "from squlearn.observables import IsingHamiltonian\n",
    "from squlearn.optimizers import SGLBO\n",
    "from squlearn.qnn import QNNRegressor, SquaredLoss\n"
   ]
  },
  {
   "cell_type": "code",
   "execution_count": null,
   "id": "2e65c1586afb313e",
   "metadata": {
    "collapsed": false
   },
   "outputs": [],
   "source": [
    "executor = Executor(\"statevector_simulator\")\n",
    "\n",
    "# define the PQC\n",
    "nqubits = 10\n",
    "number_of_layers = 3\n",
    "pqc = ChebyshevRx(nqubits, 1, num_layers=number_of_layers)\n",
    "\n",
    "# define the Observable\n",
    "ising_op = IsingHamiltonian(nqubits, I=\"S\", Z=\"S\", ZZ=\"S\")\n",
    "\n",
    "# define random initial parameters for the PQC and the cost operator\n",
    "np.random.seed(13)\n",
    "param_ini = np.random.rand(pqc.num_parameters)\n",
    "param_op_ini = np.random.rand(ising_op.num_parameters)"
   ]
  },
  {
   "cell_type": "markdown",
   "id": "969846d9c2769d2d",
   "metadata": {
    "collapsed": false
   },
   "source": [
    "### Optimizer options"
   ]
  },
  {
   "cell_type": "code",
   "execution_count": null,
   "id": "f7f670a5df322565",
   "metadata": {
    "collapsed": false
   },
   "outputs": [],
   "source": [
    "x0 = [[i * 0.02] for i in range(15)]\n",
    "optimizer_options = {\"bo_aqc_func\": \"EI\", \"bo_aqc_optimizer\": \"lbfgs\", \"bo_bounds\": [(0.0, 0.3)], \"log_file\": \"/data/log_sglbo_noiseless\",\n",
    "                     \"bo_n_calls\": 30, \"bo_x0_points\": x0, \"maxiter\": 200}"
   ]
  },
  {
   "cell_type": "markdown",
   "id": "5cac8ece965e3a0d",
   "metadata": {
    "collapsed": false
   },
   "source": [
    "### Training"
   ]
  },
  {
   "cell_type": "code",
   "execution_count": null,
   "id": "fc7c5268edf16078",
   "metadata": {
    "collapsed": false
   },
   "outputs": [],
   "source": [
    "# define the regressor\n",
    "reg = QNNRegressor(pqc, ising_op, executor, SquaredLoss(), SGLBO(optimizer_options), param_ini, param_op_ini)\n",
    "\n",
    "# train the regressor\n",
    "x_space = np.arange(0.1, 0.9, 0.1)\n",
    "ref_values = np.log(x_space)\n",
    "\n",
    "reg.fit(x_space, ref_values)"
   ]
  },
  {
   "cell_type": "markdown",
   "id": "1329c52d98644648",
   "metadata": {
    "collapsed": false
   },
   "source": [
    "### Result"
   ]
  },
  {
   "cell_type": "code",
   "execution_count": null,
   "id": "d89a72bd4b0fc300",
   "metadata": {
    "collapsed": false
   },
   "outputs": [],
   "source": [
    "# print the trained parameters for the PQC and the operator\n",
    "print(\"Result PQC params:\", reg.param)\n",
    "print(\"Result operator params:\", reg.param_op)"
   ]
  },
  {
   "cell_type": "markdown",
   "id": "41b3ed78eb6f1ecc",
   "metadata": {
    "collapsed": false
   },
   "source": [
    "### Plot"
   ]
  },
  {
   "cell_type": "code",
   "execution_count": null,
   "id": "718b6d928a441273",
   "metadata": {
    "collapsed": false
   },
   "outputs": [],
   "source": [
    "# plot the predicted function vs. the actual logarithm function\n",
    "x = np.arange(np.min(x_space), np.max(x_space), 0.005)\n",
    "y = reg.predict(x)\n",
    "plt.plot(x, np.log(x), label=\"Tatsächliche Log-Funktion\")\n",
    "plt.plot(x, y, label=\"Vorhergesagte Funktion\")\n",
    "\n",
    "# plot the error of the QNN\n",
    "plt.plot(x, np.abs(y - np.log(x)), label=\"Fehler\")\n",
    "plt.legend()\n",
    "plt.show()"
   ]
  }
 ],
 "metadata": {
  "kernelspec": {
   "display_name": "Python 3",
   "language": "python",
   "name": "python3"
  },
  "language_info": {
   "codemirror_mode": {
    "name": "ipython",
    "version": 2
   },
   "file_extension": ".py",
   "mimetype": "text/x-python",
   "name": "python",
   "nbconvert_exporter": "python",
   "pygments_lexer": "ipython2",
   "version": "2.7.6"
  }
 },
 "nbformat": 4,
 "nbformat_minor": 5
}
