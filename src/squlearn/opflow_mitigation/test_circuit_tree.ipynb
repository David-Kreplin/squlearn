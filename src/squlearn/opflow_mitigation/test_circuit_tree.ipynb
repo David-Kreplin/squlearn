{
 "cells": [
  {
   "cell_type": "code",
   "execution_count": 1,
   "metadata": {},
   "outputs": [],
   "source": [
    "from circuit_tree import *\n",
    "import copy\n",
    "\n",
    "from qiskit.primitives import Estimator\n",
    "from qiskit.quantum_info import Pauli"
   ]
  },
  {
   "cell_type": "code",
   "execution_count": 2,
   "metadata": {},
   "outputs": [
    {
     "data": {
      "image/png": "[encoded data removed]",
      "text/plain": [
       "<Figure size 387.452x144.48 with 1 Axes>"
      ]
     },
     "execution_count": 2,
     "metadata": {},
     "output_type": "execute_result"
    }
   ],
   "source": [
    "x = ParameterVector(\"x\",1)\n",
    "p = ParameterVector(\"p\",2)\n",
    "\n",
    "QC = QuantumCircuit(2)\n",
    "\n",
    "QC.h([0,1])\n",
    "\n",
    "QC.ry(p[0]*np.arccos(x[0]*x[0]),0)\n",
    "QC.ry(p[1]*np.arccos(x[0]*x[0]),1)\n",
    "\n",
    "QC.cx(0,1)\n",
    "QC.x([0,1])\n",
    "\n",
    "QC.draw()"
   ]
  },
  {
   "cell_type": "code",
   "execution_count": 3,
   "metadata": {},
   "outputs": [
    {
     "name": "stdout",
     "output_type": "stream",
     "text": [
      "[1.0*[1.0*(0.25*acos(x[0]**2)**2*\n",
      "     ┌───┐┌────────────────────────────┐     ┌───┐\n",
      "q_0: ┤ H ├┤ Ry(p[0]*acos(x[0]**2) + π) ├──■──┤ X ├\n",
      "     ├───┤└─┬────────────────────────┬─┘┌─┴─┐├───┤\n",
      "q_1: ┤ H ├──┤ Ry(p[1]*acos(x[0]**2)) ├──┤ X ├┤ X ├\n",
      "     └───┘  └────────────────────────┘  └───┘└───┘\n",
      " + -0.5*acos(x[0]**2)**2*\n",
      "     ┌───┐┌────────────────────────┐     ┌───┐\n",
      "q_0: ┤ H ├┤ Ry(p[0]*acos(x[0]**2)) ├──■──┤ X ├\n",
      "     ├───┤├────────────────────────┤┌─┴─┐├───┤\n",
      "q_1: ┤ H ├┤ Ry(p[1]*acos(x[0]**2)) ├┤ X ├┤ X ├\n",
      "     └───┘└────────────────────────┘└───┘└───┘\n",
      " + 0.25*acos(x[0]**2)**2*\n",
      "     ┌───┐┌────────────────────────────┐     ┌───┐\n",
      "q_0: ┤ H ├┤ Ry(p[0]*acos(x[0]**2) - π) ├──■──┤ X ├\n",
      "     ├───┤└─┬────────────────────────┬─┘┌─┴─┐├───┤\n",
      "q_1: ┤ H ├──┤ Ry(p[1]*acos(x[0]**2)) ├──┤ X ├┤ X ├\n",
      "     └───┘  └────────────────────────┘  └───┘└───┘\n",
      "), 1.0*(0.25*acos(x[0]**2)**2*\n",
      "     ┌───┐┌──────────────────────────────┐     ┌───┐\n",
      "q_0: ┤ H ├┤ Ry(p[0]*acos(x[0]**2) + π/2) ├──■──┤ X ├\n",
      "     ├───┤├──────────────────────────────┤┌─┴─┐├───┤\n",
      "q_1: ┤ H ├┤ Ry(p[1]*acos(x[0]**2) + π/2) ├┤ X ├┤ X ├\n",
      "     └───┘└──────────────────────────────┘└───┘└───┘\n",
      " + -0.25*acos(x[0]**2)**2*\n",
      "     ┌───┐┌──────────────────────────────┐     ┌───┐\n",
      "q_0: ┤ H ├┤ Ry(p[0]*acos(x[0]**2) - π/2) ├──■──┤ X ├\n",
      "     ├───┤├──────────────────────────────┤┌─┴─┐├───┤\n",
      "q_1: ┤ H ├┤ Ry(p[1]*acos(x[0]**2) + π/2) ├┤ X ├┤ X ├\n",
      "     └───┘└──────────────────────────────┘└───┘└───┘\n",
      " + -0.25*acos(x[0]**2)**2*\n",
      "     ┌───┐┌──────────────────────────────┐     ┌───┐\n",
      "q_0: ┤ H ├┤ Ry(p[0]*acos(x[0]**2) + π/2) ├──■──┤ X ├\n",
      "     ├───┤├──────────────────────────────┤┌─┴─┐├───┤\n",
      "q_1: ┤ H ├┤ Ry(p[1]*acos(x[0]**2) - π/2) ├┤ X ├┤ X ├\n",
      "     └───┘└──────────────────────────────┘└───┘└───┘\n",
      " + 0.25*acos(x[0]**2)**2*\n",
      "     ┌───┐┌──────────────────────────────┐     ┌───┐\n",
      "q_0: ┤ H ├┤ Ry(p[0]*acos(x[0]**2) - π/2) ├──■──┤ X ├\n",
      "     ├───┤├──────────────────────────────┤┌─┴─┐├───┤\n",
      "q_1: ┤ H ├┤ Ry(p[1]*acos(x[0]**2) - π/2) ├┤ X ├┤ X ├\n",
      "     └───┘└──────────────────────────────┘└───┘└───┘\n",
      ")], 1.0*[1.0*(0.25*acos(x[0]**2)**2*\n",
      "     ┌───┐┌──────────────────────────────┐     ┌───┐\n",
      "q_0: ┤ H ├┤ Ry(p[0]*acos(x[0]**2) + π/2) ├──■──┤ X ├\n",
      "     ├───┤├──────────────────────────────┤┌─┴─┐├───┤\n",
      "q_1: ┤ H ├┤ Ry(p[1]*acos(x[0]**2) + π/2) ├┤ X ├┤ X ├\n",
      "     └───┘└──────────────────────────────┘└───┘└───┘\n",
      " + -0.25*acos(x[0]**2)**2*\n",
      "     ┌───┐┌──────────────────────────────┐     ┌───┐\n",
      "q_0: ┤ H ├┤ Ry(p[0]*acos(x[0]**2) + π/2) ├──■──┤ X ├\n",
      "     ├───┤├──────────────────────────────┤┌─┴─┐├───┤\n",
      "q_1: ┤ H ├┤ Ry(p[1]*acos(x[0]**2) - π/2) ├┤ X ├┤ X ├\n",
      "     └───┘└──────────────────────────────┘└───┘└───┘\n",
      " + -0.25*acos(x[0]**2)**2*\n",
      "     ┌───┐┌──────────────────────────────┐     ┌───┐\n",
      "q_0: ┤ H ├┤ Ry(p[0]*acos(x[0]**2) - π/2) ├──■──┤ X ├\n",
      "     ├───┤├──────────────────────────────┤┌─┴─┐├───┤\n",
      "q_1: ┤ H ├┤ Ry(p[1]*acos(x[0]**2) + π/2) ├┤ X ├┤ X ├\n",
      "     └───┘└──────────────────────────────┘└───┘└───┘\n",
      " + 0.25*acos(x[0]**2)**2*\n",
      "     ┌───┐┌──────────────────────────────┐     ┌───┐\n",
      "q_0: ┤ H ├┤ Ry(p[0]*acos(x[0]**2) - π/2) ├──■──┤ X ├\n",
      "     ├───┤├──────────────────────────────┤┌─┴─┐├───┤\n",
      "q_1: ┤ H ├┤ Ry(p[1]*acos(x[0]**2) - π/2) ├┤ X ├┤ X ├\n",
      "     └───┘└──────────────────────────────┘└───┘└───┘\n",
      "), 1.0*(0.25*acos(x[0]**2)**2*\n",
      "     ┌───┐  ┌────────────────────────┐       ┌───┐\n",
      "q_0: ┤ H ├──┤ Ry(p[0]*acos(x[0]**2)) ├────■──┤ X ├\n",
      "     ├───┤┌─┴────────────────────────┴─┐┌─┴─┐├───┤\n",
      "q_1: ┤ H ├┤ Ry(p[1]*acos(x[0]**2) + π) ├┤ X ├┤ X ├\n",
      "     └───┘└────────────────────────────┘└───┘└───┘\n",
      " + -0.5*acos(x[0]**2)**2*\n",
      "     ┌───┐┌────────────────────────┐     ┌───┐\n",
      "q_0: ┤ H ├┤ Ry(p[0]*acos(x[0]**2)) ├──■──┤ X ├\n",
      "     ├───┤├────────────────────────┤┌─┴─┐├───┤\n",
      "q_1: ┤ H ├┤ Ry(p[1]*acos(x[0]**2)) ├┤ X ├┤ X ├\n",
      "     └───┘└────────────────────────┘└───┘└───┘\n",
      " + 0.25*acos(x[0]**2)**2*\n",
      "     ┌───┐  ┌────────────────────────┐       ┌───┐\n",
      "q_0: ┤ H ├──┤ Ry(p[0]*acos(x[0]**2)) ├────■──┤ X ├\n",
      "     ├───┤┌─┴────────────────────────┴─┐┌─┴─┐├───┤\n",
      "q_1: ┤ H ├┤ Ry(p[1]*acos(x[0]**2) - π) ├┤ X ├┤ X ├\n",
      "     └───┘└────────────────────────────┘└───┘└───┘\n",
      ")]]\n"
     ]
    }
   ],
   "source": [
    "test = simplify_copy(circuit_derivative(circuit_derivative(QC,p),p))\n",
    "print(test)"
   ]
  },
  {
   "cell_type": "code",
   "execution_count": 4,
   "metadata": {},
   "outputs": [
    {
     "name": "stdout",
     "output_type": "stream",
     "text": [
      "(0.5*acos(x[0]**2)*(0.5*acos(x[0]**2)*(0.5*acos(x[0]**2)*\n",
      "     ┌───┐┌───────────────────────────────┐     ┌───┐\n",
      "q_0: ┤ H ├┤ Ry(p[0]*acos(x[0]**2) + 3π/2) ├──■──┤ X ├\n",
      "     ├───┤└───┬────────────────────────┬──┘┌─┴─┐├───┤\n",
      "q_1: ┤ H ├────┤ Ry(p[1]*acos(x[0]**2)) ├───┤ X ├┤ X ├\n",
      "     └───┘    └────────────────────────┘   └───┘└───┘\n",
      " + -0.5*acos(x[0]**2)*\n",
      "     ┌───┐┌──────────────────────────────┐     ┌───┐\n",
      "q_0: ┤ H ├┤ Ry(p[0]*acos(x[0]**2) + π/2) ├──■──┤ X ├\n",
      "     ├───┤└──┬────────────────────────┬──┘┌─┴─┐├───┤\n",
      "q_1: ┤ H ├───┤ Ry(p[1]*acos(x[0]**2)) ├───┤ X ├┤ X ├\n",
      "     └───┘   └────────────────────────┘   └───┘└───┘\n",
      ") + -0.5*acos(x[0]**2)*(0.5*acos(x[0]**2)*\n",
      "     ┌───┐┌──────────────────────────────┐     ┌───┐\n",
      "q_0: ┤ H ├┤ Ry(p[0]*acos(x[0]**2) + π/2) ├──■──┤ X ├\n",
      "     ├───┤└──┬────────────────────────┬──┘┌─┴─┐├───┤\n",
      "q_1: ┤ H ├───┤ Ry(p[1]*acos(x[0]**2)) ├───┤ X ├┤ X ├\n",
      "     └───┘   └────────────────────────┘   └───┘└───┘\n",
      " + -0.5*acos(x[0]**2)*\n",
      "     ┌───┐┌──────────────────────────────┐     ┌───┐\n",
      "q_0: ┤ H ├┤ Ry(p[0]*acos(x[0]**2) - π/2) ├──■──┤ X ├\n",
      "     ├───┤└──┬────────────────────────┬──┘┌─┴─┐├───┤\n",
      "q_1: ┤ H ├───┤ Ry(p[1]*acos(x[0]**2)) ├───┤ X ├┤ X ├\n",
      "     └───┘   └────────────────────────┘   └───┘└───┘\n",
      ")) + -0.5*acos(x[0]**2)*(0.5*acos(x[0]**2)*(0.5*acos(x[0]**2)*\n",
      "     ┌───┐┌──────────────────────────────┐     ┌───┐\n",
      "q_0: ┤ H ├┤ Ry(p[0]*acos(x[0]**2) + π/2) ├──■──┤ X ├\n",
      "     ├───┤└──┬────────────────────────┬──┘┌─┴─┐├───┤\n",
      "q_1: ┤ H ├───┤ Ry(p[1]*acos(x[0]**2)) ├───┤ X ├┤ X ├\n",
      "     └───┘   └────────────────────────┘   └───┘└───┘\n",
      " + -0.5*acos(x[0]**2)*\n",
      "     ┌───┐┌──────────────────────────────┐     ┌───┐\n",
      "q_0: ┤ H ├┤ Ry(p[0]*acos(x[0]**2) - π/2) ├──■──┤ X ├\n",
      "     ├───┤└──┬────────────────────────┬──┘┌─┴─┐├───┤\n",
      "q_1: ┤ H ├───┤ Ry(p[1]*acos(x[0]**2)) ├───┤ X ├┤ X ├\n",
      "     └───┘   └────────────────────────┘   └───┘└───┘\n",
      ") + -0.5*acos(x[0]**2)*(0.5*acos(x[0]**2)*\n",
      "     ┌───┐┌──────────────────────────────┐     ┌───┐\n",
      "q_0: ┤ H ├┤ Ry(p[0]*acos(x[0]**2) - π/2) ├──■──┤ X ├\n",
      "     ├───┤└──┬────────────────────────┬──┘┌─┴─┐├───┤\n",
      "q_1: ┤ H ├───┤ Ry(p[1]*acos(x[0]**2)) ├───┤ X ├┤ X ├\n",
      "     └───┘   └────────────────────────┘   └───┘└───┘\n",
      " + -0.5*acos(x[0]**2)*\n",
      "     ┌───┐┌───────────────────────────────┐     ┌───┐\n",
      "q_0: ┤ H ├┤ Ry(p[0]*acos(x[0]**2) - 3π/2) ├──■──┤ X ├\n",
      "     ├───┤└───┬────────────────────────┬──┘┌─┴─┐├───┤\n",
      "q_1: ┤ H ├────┤ Ry(p[1]*acos(x[0]**2)) ├───┤ X ├┤ X ├\n",
      "     └───┘    └────────────────────────┘   └───┘└───┘\n",
      ")))\n"
     ]
    }
   ],
   "source": [
    "test = circuit_derivative(circuit_derivative_v2(circuit_derivative_v2(QC,p[0]),p[0]),p[0])\n",
    "print(test)"
   ]
  },
  {
   "cell_type": "code",
   "execution_count": null,
   "metadata": {},
   "outputs": [],
   "source": []
  },
  {
   "cell_type": "code",
   "execution_count": 5,
   "metadata": {},
   "outputs": [],
   "source": [
    "dic={}\n",
    "dic[p[0]] = 0.5\n",
    "dic[p[1]] = 1.0\n",
    "dic[x[0]] = 0.25"
   ]
  },
  {
   "cell_type": "code",
   "execution_count": 6,
   "metadata": {},
   "outputs": [
    {
     "data": {
      "text/plain": [
       "-6.31393506741645e-17"
      ]
     },
     "execution_count": 6,
     "metadata": {},
     "output_type": "execute_result"
    }
   ],
   "source": [
    "evaluate(test,Estimator(),Pauli(\"ZZ\"),dic,detect_circuit_duplicates=True)"
   ]
  },
  {
   "cell_type": "code",
   "execution_count": 7,
   "metadata": {},
   "outputs": [
    {
     "name": "stdout",
     "output_type": "stream",
     "text": [
      "(0.125*acos(x[0]**2)**3*\n",
      "     ┌───┐┌───────────────────────────────┐     ┌───┐\n",
      "q_0: ┤ H ├┤ Ry(p[0]*acos(x[0]**2) + 3π/2) ├──■──┤ X ├\n",
      "     ├───┤└───┬────────────────────────┬──┘┌─┴─┐├───┤\n",
      "q_1: ┤ H ├────┤ Ry(p[1]*acos(x[0]**2)) ├───┤ X ├┤ X ├\n",
      "     └───┘    └────────────────────────┘   └───┘└───┘\n",
      " + -0.375*acos(x[0]**2)**3*\n",
      "     ┌───┐┌──────────────────────────────┐     ┌───┐\n",
      "q_0: ┤ H ├┤ Ry(p[0]*acos(x[0]**2) + π/2) ├──■──┤ X ├\n",
      "     ├───┤└──┬────────────────────────┬──┘┌─┴─┐├───┤\n",
      "q_1: ┤ H ├───┤ Ry(p[1]*acos(x[0]**2)) ├───┤ X ├┤ X ├\n",
      "     └───┘   └────────────────────────┘   └───┘└───┘\n",
      " + 0.375*acos(x[0]**2)**3*\n",
      "     ┌───┐┌──────────────────────────────┐     ┌───┐\n",
      "q_0: ┤ H ├┤ Ry(p[0]*acos(x[0]**2) - π/2) ├──■──┤ X ├\n",
      "     ├───┤└──┬────────────────────────┬──┘┌─┴─┐├───┤\n",
      "q_1: ┤ H ├───┤ Ry(p[1]*acos(x[0]**2)) ├───┤ X ├┤ X ├\n",
      "     └───┘   └────────────────────────┘   └───┘└───┘\n",
      " + -0.125*acos(x[0]**2)**3*\n",
      "     ┌───┐┌───────────────────────────────┐     ┌───┐\n",
      "q_0: ┤ H ├┤ Ry(p[0]*acos(x[0]**2) - 3π/2) ├──■──┤ X ├\n",
      "     ├───┤└───┬────────────────────────┬──┘┌─┴─┐├───┤\n",
      "q_1: ┤ H ├────┤ Ry(p[1]*acos(x[0]**2)) ├───┤ X ├┤ X ├\n",
      "     └───┘    └────────────────────────┘   └───┘└───┘\n",
      ")\n"
     ]
    }
   ],
   "source": [
    "test2 = simplify_copy(test)\n",
    "print(test2)"
   ]
  },
  {
   "cell_type": "code",
   "execution_count": 8,
   "metadata": {},
   "outputs": [
    {
     "data": {
      "text/plain": [
       "1.6653345369377348e-16"
      ]
     },
     "execution_count": 8,
     "metadata": {},
     "output_type": "execute_result"
    }
   ],
   "source": [
    "evaluate(test2,Estimator(),Pauli(\"ZZ\"),dic)"
   ]
  },
  {
   "cell_type": "code",
   "execution_count": 9,
   "metadata": {},
   "outputs": [
    {
     "name": "stdout",
     "output_type": "stream",
     "text": [
      "(-1.0*p[0]*x[0]/sqrt(1 - x[0]**4)*\n",
      "     ┌───┐┌──────────────────────────────┐     ┌───┐\n",
      "q_0: ┤ H ├┤ Ry(p[0]*acos(x[0]**2) + π/2) ├──■──┤ X ├\n",
      "     ├───┤└──┬────────────────────────┬──┘┌─┴─┐├───┤\n",
      "q_1: ┤ H ├───┤ Ry(p[1]*acos(x[0]**2)) ├───┤ X ├┤ X ├\n",
      "     └───┘   └────────────────────────┘   └───┘└───┘\n",
      " + 1.0*p[0]*x[0]/sqrt(1 - x[0]**4)*\n",
      "     ┌───┐┌──────────────────────────────┐     ┌───┐\n",
      "q_0: ┤ H ├┤ Ry(p[0]*acos(x[0]**2) - π/2) ├──■──┤ X ├\n",
      "     ├───┤└──┬────────────────────────┬──┘┌─┴─┐├───┤\n",
      "q_1: ┤ H ├───┤ Ry(p[1]*acos(x[0]**2)) ├───┤ X ├┤ X ├\n",
      "     └───┘   └────────────────────────┘   └───┘└───┘\n",
      " + -1.0*p[1]*x[0]/sqrt(1 - x[0]**4)*\n",
      "     ┌───┐   ┌────────────────────────┐        ┌───┐\n",
      "q_0: ┤ H ├───┤ Ry(p[0]*acos(x[0]**2)) ├─────■──┤ X ├\n",
      "     ├───┤┌──┴────────────────────────┴──┐┌─┴─┐├───┤\n",
      "q_1: ┤ H ├┤ Ry(p[1]*acos(x[0]**2) + π/2) ├┤ X ├┤ X ├\n",
      "     └───┘└──────────────────────────────┘└───┘└───┘\n",
      " + 1.0*p[1]*x[0]/sqrt(1 - x[0]**4)*\n",
      "     ┌───┐   ┌────────────────────────┐        ┌───┐\n",
      "q_0: ┤ H ├───┤ Ry(p[0]*acos(x[0]**2)) ├─────■──┤ X ├\n",
      "     ├───┤┌──┴────────────────────────┴──┐┌─┴─┐├───┤\n",
      "q_1: ┤ H ├┤ Ry(p[1]*acos(x[0]**2) - π/2) ├┤ X ├┤ X ├\n",
      "     └───┘└──────────────────────────────┘└───┘└───┘\n",
      ")\n",
      "(-2.0*p[0]*x[0]**4/(1 - x[0]**4)**(3/2) - 1.0*p[0]/sqrt(1 - x[0]**4)*\n",
      "     ┌───┐┌──────────────────────────────┐     ┌───┐\n",
      "q_0: ┤ H ├┤ Ry(p[0]*acos(x[0]**2) + π/2) ├──■──┤ X ├\n",
      "     ├───┤└──┬────────────────────────┬──┘┌─┴─┐├───┤\n",
      "q_1: ┤ H ├───┤ Ry(p[1]*acos(x[0]**2)) ├───┤ X ├┤ X ├\n",
      "     └───┘   └────────────────────────┘   └───┘└───┘\n",
      " + -1.0*p[0]*x[0]/sqrt(1 - x[0]**4)*(-1.0*p[0]*x[0]/sqrt(1 - x[0]**4)*\n",
      "     ┌───┐┌────────────────────────────┐     ┌───┐\n",
      "q_0: ┤ H ├┤ Ry(p[0]*acos(x[0]**2) + π) ├──■──┤ X ├\n",
      "     ├───┤└─┬────────────────────────┬─┘┌─┴─┐├───┤\n",
      "q_1: ┤ H ├──┤ Ry(p[1]*acos(x[0]**2)) ├──┤ X ├┤ X ├\n",
      "     └───┘  └────────────────────────┘  └───┘└───┘\n",
      " + 1.0*p[0]*x[0]/sqrt(1 - x[0]**4)*\n",
      "     ┌───┐┌────────────────────────┐     ┌───┐\n",
      "q_0: ┤ H ├┤ Ry(p[0]*acos(x[0]**2)) ├──■──┤ X ├\n",
      "     ├───┤├────────────────────────┤┌─┴─┐├───┤\n",
      "q_1: ┤ H ├┤ Ry(p[1]*acos(x[0]**2)) ├┤ X ├┤ X ├\n",
      "     └───┘└────────────────────────┘└───┘└───┘\n",
      " + -1.0*p[1]*x[0]/sqrt(1 - x[0]**4)*\n",
      "     ┌───┐┌──────────────────────────────┐     ┌───┐\n",
      "q_0: ┤ H ├┤ Ry(p[0]*acos(x[0]**2) + π/2) ├──■──┤ X ├\n",
      "     ├───┤├──────────────────────────────┤┌─┴─┐├───┤\n",
      "q_1: ┤ H ├┤ Ry(p[1]*acos(x[0]**2) + π/2) ├┤ X ├┤ X ├\n",
      "     └───┘└──────────────────────────────┘└───┘└───┘\n",
      " + 1.0*p[1]*x[0]/sqrt(1 - x[0]**4)*\n",
      "     ┌───┐┌──────────────────────────────┐     ┌───┐\n",
      "q_0: ┤ H ├┤ Ry(p[0]*acos(x[0]**2) + π/2) ├──■──┤ X ├\n",
      "     ├───┤├──────────────────────────────┤┌─┴─┐├───┤\n",
      "q_1: ┤ H ├┤ Ry(p[1]*acos(x[0]**2) - π/2) ├┤ X ├┤ X ├\n",
      "     └───┘└──────────────────────────────┘└───┘└───┘\n",
      ") + 2.0*p[0]*x[0]**4/(1 - x[0]**4)**(3/2) + 1.0*p[0]/sqrt(1 - x[0]**4)*\n",
      "     ┌───┐┌──────────────────────────────┐     ┌───┐\n",
      "q_0: ┤ H ├┤ Ry(p[0]*acos(x[0]**2) - π/2) ├──■──┤ X ├\n",
      "     ├───┤└──┬────────────────────────┬──┘┌─┴─┐├───┤\n",
      "q_1: ┤ H ├───┤ Ry(p[1]*acos(x[0]**2)) ├───┤ X ├┤ X ├\n",
      "     └───┘   └────────────────────────┘   └───┘└───┘\n",
      " + 1.0*p[0]*x[0]/sqrt(1 - x[0]**4)*(-1.0*p[0]*x[0]/sqrt(1 - x[0]**4)*\n",
      "     ┌───┐┌────────────────────────┐     ┌───┐\n",
      "q_0: ┤ H ├┤ Ry(p[0]*acos(x[0]**2)) ├──■──┤ X ├\n",
      "     ├───┤├────────────────────────┤┌─┴─┐├───┤\n",
      "q_1: ┤ H ├┤ Ry(p[1]*acos(x[0]**2)) ├┤ X ├┤ X ├\n",
      "     └───┘└────────────────────────┘└───┘└───┘\n",
      " + 1.0*p[0]*x[0]/sqrt(1 - x[0]**4)*\n",
      "     ┌───┐┌────────────────────────────┐     ┌───┐\n",
      "q_0: ┤ H ├┤ Ry(p[0]*acos(x[0]**2) - π) ├──■──┤ X ├\n",
      "     ├───┤└─┬────────────────────────┬─┘┌─┴─┐├───┤\n",
      "q_1: ┤ H ├──┤ Ry(p[1]*acos(x[0]**2)) ├──┤ X ├┤ X ├\n",
      "     └───┘  └────────────────────────┘  └───┘└───┘\n",
      " + -1.0*p[1]*x[0]/sqrt(1 - x[0]**4)*\n",
      "     ┌───┐┌──────────────────────────────┐     ┌───┐\n",
      "q_0: ┤ H ├┤ Ry(p[0]*acos(x[0]**2) - π/2) ├──■──┤ X ├\n",
      "     ├───┤├──────────────────────────────┤┌─┴─┐├───┤\n",
      "q_1: ┤ H ├┤ Ry(p[1]*acos(x[0]**2) + π/2) ├┤ X ├┤ X ├\n",
      "     └───┘└──────────────────────────────┘└───┘└───┘\n",
      " + 1.0*p[1]*x[0]/sqrt(1 - x[0]**4)*\n",
      "     ┌───┐┌──────────────────────────────┐     ┌───┐\n",
      "q_0: ┤ H ├┤ Ry(p[0]*acos(x[0]**2) - π/2) ├──■──┤ X ├\n",
      "     ├───┤├──────────────────────────────┤┌─┴─┐├───┤\n",
      "q_1: ┤ H ├┤ Ry(p[1]*acos(x[0]**2) - π/2) ├┤ X ├┤ X ├\n",
      "     └───┘└──────────────────────────────┘└───┘└───┘\n",
      ") + -2.0*p[1]*x[0]**4/(1 - x[0]**4)**(3/2) - 1.0*p[1]/sqrt(1 - x[0]**4)*\n",
      "     ┌───┐   ┌────────────────────────┐        ┌───┐\n",
      "q_0: ┤ H ├───┤ Ry(p[0]*acos(x[0]**2)) ├─────■──┤ X ├\n",
      "     ├───┤┌──┴────────────────────────┴──┐┌─┴─┐├───┤\n",
      "q_1: ┤ H ├┤ Ry(p[1]*acos(x[0]**2) + π/2) ├┤ X ├┤ X ├\n",
      "     └───┘└──────────────────────────────┘└───┘└───┘\n",
      " + -1.0*p[1]*x[0]/sqrt(1 - x[0]**4)*(-1.0*p[0]*x[0]/sqrt(1 - x[0]**4)*\n",
      "     ┌───┐┌──────────────────────────────┐     ┌───┐\n",
      "q_0: ┤ H ├┤ Ry(p[0]*acos(x[0]**2) + π/2) ├──■──┤ X ├\n",
      "     ├───┤├──────────────────────────────┤┌─┴─┐├───┤\n",
      "q_1: ┤ H ├┤ Ry(p[1]*acos(x[0]**2) + π/2) ├┤ X ├┤ X ├\n",
      "     └───┘└──────────────────────────────┘└───┘└───┘\n",
      " + 1.0*p[0]*x[0]/sqrt(1 - x[0]**4)*\n",
      "     ┌───┐┌──────────────────────────────┐     ┌───┐\n",
      "q_0: ┤ H ├┤ Ry(p[0]*acos(x[0]**2) - π/2) ├──■──┤ X ├\n",
      "     ├───┤├──────────────────────────────┤┌─┴─┐├───┤\n",
      "q_1: ┤ H ├┤ Ry(p[1]*acos(x[0]**2) + π/2) ├┤ X ├┤ X ├\n",
      "     └───┘└──────────────────────────────┘└───┘└───┘\n",
      " + -1.0*p[1]*x[0]/sqrt(1 - x[0]**4)*\n",
      "     ┌───┐  ┌────────────────────────┐       ┌───┐\n",
      "q_0: ┤ H ├──┤ Ry(p[0]*acos(x[0]**2)) ├────■──┤ X ├\n",
      "     ├───┤┌─┴────────────────────────┴─┐┌─┴─┐├───┤\n",
      "q_1: ┤ H ├┤ Ry(p[1]*acos(x[0]**2) + π) ├┤ X ├┤ X ├\n",
      "     └───┘└────────────────────────────┘└───┘└───┘\n",
      " + 1.0*p[1]*x[0]/sqrt(1 - x[0]**4)*\n",
      "     ┌───┐┌────────────────────────┐     ┌───┐\n",
      "q_0: ┤ H ├┤ Ry(p[0]*acos(x[0]**2)) ├──■──┤ X ├\n",
      "     ├───┤├────────────────────────┤┌─┴─┐├───┤\n",
      "q_1: ┤ H ├┤ Ry(p[1]*acos(x[0]**2)) ├┤ X ├┤ X ├\n",
      "     └───┘└────────────────────────┘└───┘└───┘\n",
      ") + 2.0*p[1]*x[0]**4/(1 - x[0]**4)**(3/2) + 1.0*p[1]/sqrt(1 - x[0]**4)*\n",
      "     ┌───┐   ┌────────────────────────┐        ┌───┐\n",
      "q_0: ┤ H ├───┤ Ry(p[0]*acos(x[0]**2)) ├─────■──┤ X ├\n",
      "     ├───┤┌──┴────────────────────────┴──┐┌─┴─┐├───┤\n",
      "q_1: ┤ H ├┤ Ry(p[1]*acos(x[0]**2) - π/2) ├┤ X ├┤ X ├\n",
      "     └───┘└──────────────────────────────┘└───┘└───┘\n",
      " + 1.0*p[1]*x[0]/sqrt(1 - x[0]**4)*(-1.0*p[0]*x[0]/sqrt(1 - x[0]**4)*\n",
      "     ┌───┐┌──────────────────────────────┐     ┌───┐\n",
      "q_0: ┤ H ├┤ Ry(p[0]*acos(x[0]**2) + π/2) ├──■──┤ X ├\n",
      "     ├───┤├──────────────────────────────┤┌─┴─┐├───┤\n",
      "q_1: ┤ H ├┤ Ry(p[1]*acos(x[0]**2) - π/2) ├┤ X ├┤ X ├\n",
      "     └───┘└──────────────────────────────┘└───┘└───┘\n",
      " + 1.0*p[0]*x[0]/sqrt(1 - x[0]**4)*\n",
      "     ┌───┐┌──────────────────────────────┐     ┌───┐\n",
      "q_0: ┤ H ├┤ Ry(p[0]*acos(x[0]**2) - π/2) ├──■──┤ X ├\n",
      "     ├───┤├──────────────────────────────┤┌─┴─┐├───┤\n",
      "q_1: ┤ H ├┤ Ry(p[1]*acos(x[0]**2) - π/2) ├┤ X ├┤ X ├\n",
      "     └───┘└──────────────────────────────┘└───┘└───┘\n",
      " + -1.0*p[1]*x[0]/sqrt(1 - x[0]**4)*\n",
      "     ┌───┐┌────────────────────────┐     ┌───┐\n",
      "q_0: ┤ H ├┤ Ry(p[0]*acos(x[0]**2)) ├──■──┤ X ├\n",
      "     ├───┤├────────────────────────┤┌─┴─┐├───┤\n",
      "q_1: ┤ H ├┤ Ry(p[1]*acos(x[0]**2)) ├┤ X ├┤ X ├\n",
      "     └───┘└────────────────────────┘└───┘└───┘\n",
      " + 1.0*p[1]*x[0]/sqrt(1 - x[0]**4)*\n",
      "     ┌───┐  ┌────────────────────────┐       ┌───┐\n",
      "q_0: ┤ H ├──┤ Ry(p[0]*acos(x[0]**2)) ├────■──┤ X ├\n",
      "     ├───┤┌─┴────────────────────────┴─┐┌─┴─┐├───┤\n",
      "q_1: ┤ H ├┤ Ry(p[1]*acos(x[0]**2) - π) ├┤ X ├┤ X ├\n",
      "     └───┘└────────────────────────────┘└───┘└───┘\n",
      "))\n"
     ]
    }
   ],
   "source": [
    "grad = simplify_copy(circuit_derivative(QC,x[0]))\n",
    "print(grad)\n",
    "\n",
    "\n",
    "test = simplify_copy(circuit_derivative(grad,x[0]))\n",
    "print(test)"
   ]
  },
  {
   "cell_type": "code",
   "execution_count": 11,
   "metadata": {},
   "outputs": [
    {
     "data": {
      "text/plain": [
       "[<matplotlib.lines.Line2D at 0x2cc1f0363b0>]"
      ]
     },
     "execution_count": 11,
     "metadata": {},
     "output_type": "execute_result"
    },
    {
     "data": {
      "image/png": "[encoded data removed]",
      "text/plain": [
       "<Figure size 432x288 with 1 Axes>"
      ]
     },
     "metadata": {
      "needs_background": "light"
     },
     "output_type": "display_data"
    }
   ],
   "source": [
    "from squlearn.feature_map import QiskitFeatureMap\n",
    "from squlearn.expectation_operator import SinglePauli\n",
    "from squlearn.qnn.qnn import QNN\n",
    "from squlearn import Executor\n",
    "from qiskit.quantum_info import SparsePauliOp\n",
    "import matplotlib.pyplot as plt\n",
    "\n",
    "fm = QiskitFeatureMap(QC,decompose=False)\n",
    "fm.draw()\n",
    "\n",
    "qnn = QNN(fm,SinglePauli(2,0,'Z',False),Executor())\n",
    "\n",
    "x_fine= np.arange(-0.9,0.9,0.01)\n",
    "y_value = qnn.evaluate_f(x_fine,[0.5,0.24],[])\n",
    "dfdx_value = qnn.evaluate_dfdx(x_fine,[0.5,0.24],[])\n",
    "dfdxdx_value = qnn.evaluate_laplace(x_fine,[0.5,0.24],[])\n",
    "\n",
    "plt.plot(x_fine,y_value)\n",
    "plt.plot(x_fine,np.gradient(y_value,0.01))\n",
    "plt.plot(x_fine,np.gradient(np.gradient(y_value,0.01)))\n",
    "\n",
    "estimator = Estimator()\n",
    "op = SparsePauliOp(\"IZ\")\n",
    "yy_test=[]\n",
    "for xx in x_fine:\n",
    "    dictionary = {x[0]:xx,p[0]:0.5,p[1]:0.24}\n",
    "    yy_test.append(evaluate(grad,estimator,op,dictionary))\n",
    "\n",
    "plt.plot(x_fine,dfdx_value,'--')\n",
    "plt.plot(x_fine,dfdxdx_value,'--')\n",
    "plt.plot(x_fine,yy_test,'--')\n"
   ]
  }
 ],
 "metadata": {
  "kernelspec": {
   "display_name": "Python 3",
   "language": "python",
   "name": "python3"
  },
  "language_info": {
   "codemirror_mode": {
    "name": "ipython",
    "version": 3
   },
   "file_extension": ".py",
   "mimetype": "text/x-python",
   "name": "python",
   "nbconvert_exporter": "python",
   "pygments_lexer": "ipython3",
   "version": "3.10.2"
  },
  "orig_nbformat": 4
 },
 "nbformat": 4,
 "nbformat_minor": 2
}
