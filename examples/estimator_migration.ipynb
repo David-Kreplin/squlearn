{
 "cells": [
  {
   "cell_type": "code",
   "execution_count": 9,
   "metadata": {},
   "outputs": [
    {
     "data": {
      "text/plain": [
       "PrimitiveResult([PubResult(data=DataBin(evs=np.ndarray(<shape=(), dtype=float64>), stds=np.ndarray(<shape=(), dtype=float64>)), metadata={'target_precision': 0.03162277660168379, 'circuit_metadata': {}})], metadata={'version': 2})"
      ]
     },
     "execution_count": 9,
     "metadata": {},
     "output_type": "execute_result"
    }
   ],
   "source": [
    "import numpy as np\n",
    "from qiskit_aer import Aer\n",
    "from qiskit.primitives import StatevectorEstimator\n",
    "\n",
    "from qiskit import QuantumCircuit\n",
    "from qiskit.quantum_info import SparsePauliOp\n",
    "\n",
    "\n",
    "qc = QuantumCircuit(2)\n",
    "qc.h(0)\n",
    "qc.h(1)\n",
    "\n",
    "obs = SparsePauliOp(\"ZZ\")\n",
    "\n",
    "num_shots = 1000\n",
    "\n",
    "# Statevector Estimator\n",
    "# Dict for Options unfortunatly not available ...\n",
    "estimator = StatevectorEstimator(seed=1, default_precision=1 / np.sqrt(num_shots))\n",
    "job = estimator.run([(qc, obs)])\n",
    "result = job.result()\n",
    "result"
   ]
  },
  {
   "cell_type": "code",
   "execution_count": 10,
   "metadata": {},
   "outputs": [
    {
     "name": "stdout",
     "output_type": "stream",
     "text": [
      "Statevector Estimator detected, setting backend to Aer simulator\n"
     ]
    },
    {
     "data": {
      "text/plain": [
       "1000"
      ]
     },
     "execution_count": 2,
     "metadata": {},
     "output_type": "execute_result"
    }
   ],
   "source": [
    "from squlearn import Executor\n",
    "executor = Executor(estimator)\n",
    "executor.shots"
   ]
  },
  {
   "cell_type": "code",
   "execution_count": 3,
   "metadata": {},
   "outputs": [
    {
     "data": {
      "text/plain": [
       "array(-0.08951744)"
      ]
     },
     "execution_count": 3,
     "metadata": {},
     "output_type": "execute_result"
    }
   ],
   "source": [
    "# set seed after creation (probably not needed)\n",
    "estimator._seed = 1234\n",
    "num_shots = 321\n",
    "job = estimator.run([(qc, obs)], precision=1 / np.sqrt(num_shots))\n",
    "result = job.result()[0]\n",
    "result.data.evs"
   ]
  },
  {
   "cell_type": "code",
   "execution_count": 4,
   "metadata": {},
   "outputs": [
    {
     "name": "stdout",
     "output_type": "stream",
     "text": [
      "evs: -0.03805668016194332\n",
      "performed shots: 1235\n"
     ]
    }
   ],
   "source": [
    "from qiskit.primitives import BackendEstimatorV2  # Only available at Qiskit 1.2\n",
    "\n",
    "\n",
    "backend = Aer.get_backend(\"qasm_simulator\")\n",
    "# this is how to set a seed for the qasm simulator, default shots can be set with default_shots\n",
    "num_shots = 1234\n",
    "sampler = BackendEstimatorV2(\n",
    "    backend=backend, options={\"seed_simulator\": 1, \"default_precision\": 1 / np.sqrt(num_shots)}\n",
    ")\n",
    "\n",
    "\n",
    "job = sampler.run([(qc, obs)])  # , precision=1/np.sqrt(num_shots))\n",
    "result = job.result()[0]\n",
    "print(\"evs:\", result.data.evs)\n",
    "print(\"performed shots:\", result.metadata[\"shots\"])"
   ]
  },
  {
   "cell_type": "code",
   "execution_count": 5,
   "metadata": {},
   "outputs": [
    {
     "data": {
      "text/plain": [
       "array(-0.03481781)"
      ]
     },
     "execution_count": 5,
     "metadata": {},
     "output_type": "execute_result"
    }
   ],
   "source": [
    "from qiskit_ibm_runtime import EstimatorV2, EstimatorOptions\n",
    "from qiskit_ibm_runtime.fake_provider import FakeManilaV2\n",
    "from qiskit_ibm_runtime.options.utils import Unset\n",
    "\n",
    "# this is similar to the old optimization level of the V1 Primitives\n",
    "from qiskit.transpiler.preset_passmanagers import generate_preset_pass_manager\n",
    "\n",
    "fake_backend = FakeManilaV2()\n",
    "\n",
    "# In case of the fake backend, the seed and the default precision is set in the options\n",
    "# options = {\"simulator\": {\"seed_simulator\": 42}, \"default_precision\": 1 / np.sqrt(num_shots)}\n",
    "#options = EstimatorOptions(simulator={\"seed_simulator\": 42}, default_precision=1 / np.sqrt(num_shots))\n",
    "options = EstimatorOptions(simulator={\"seed_simulator\": 42}, default_shots=1234)\n",
    "\n",
    "estimator = EstimatorV2(mode=fake_backend, options=options)\n",
    "\n",
    "# transpiling has to be done before running the job :/\n",
    "pm = generate_preset_pass_manager(backend=fake_backend, optimization_level=1)\n",
    "isa_qc = pm.run(qc)\n",
    "isa_observables = obs.apply_layout(isa_qc.layout)\n",
    "\n",
    "job = estimator.run([(isa_qc, isa_observables)])\n",
    "result = job.result()[0]\n",
    "result.data.evs"
   ]
  },
  {
   "cell_type": "code",
   "execution_count": 6,
   "metadata": {},
   "outputs": [
    {
     "ename": "AttributeError",
     "evalue": "'EstimatorOptions' object has no attribute 'get'",
     "output_type": "error",
     "traceback": [
      "\u001b[1;31m---------------------------------------------------------------------------\u001b[0m",
      "\u001b[1;31mAttributeError\u001b[0m                            Traceback (most recent call last)",
      "Cell \u001b[1;32mIn[6], line 5\u001b[0m\n\u001b[0;32m      2\u001b[0m executor \u001b[38;5;241m=\u001b[39m Executor(estimator, qpu_parallelization\u001b[38;5;241m=\u001b[39m\u001b[38;5;124m\"\u001b[39m\u001b[38;5;124mauto\u001b[39m\u001b[38;5;124m\"\u001b[39m)\n\u001b[0;32m      3\u001b[0m estimator_exec \u001b[38;5;241m=\u001b[39m executor\u001b[38;5;241m.\u001b[39mget_estimator_v2()\n\u001b[1;32m----> 5\u001b[0m job \u001b[38;5;241m=\u001b[39m \u001b[43mestimator_exec\u001b[49m\u001b[38;5;241;43m.\u001b[39;49m\u001b[43mrun\u001b[49m\u001b[43m(\u001b[49m\u001b[43m[\u001b[49m\u001b[43m(\u001b[49m\u001b[43mqc\u001b[49m\u001b[43m,\u001b[49m\u001b[43m \u001b[49m\u001b[43mobs\u001b[49m\u001b[43m)\u001b[49m\u001b[43m]\u001b[49m\u001b[43m)\u001b[49m  \u001b[38;5;66;03m# , precision=1/np.sqrt(num_shots))\u001b[39;00m\n\u001b[0;32m      6\u001b[0m result \u001b[38;5;241m=\u001b[39m job\u001b[38;5;241m.\u001b[39mresult()[\u001b[38;5;241m0\u001b[39m]\n\u001b[0;32m      7\u001b[0m \u001b[38;5;28mprint\u001b[39m(\u001b[38;5;124m\"\u001b[39m\u001b[38;5;124mevs:\u001b[39m\u001b[38;5;124m\"\u001b[39m, result\u001b[38;5;241m.\u001b[39mdata\u001b[38;5;241m.\u001b[39mevs)\n",
      "File \u001b[1;32m~\\Documents\\AutoQML\\squlearn\\src\\squlearn\\util\\executor.py:2200\u001b[0m, in \u001b[0;36mExecutorEstimatorV2.run\u001b[1;34m(self, pubs, precision)\u001b[0m\n\u001b[0;32m   2199\u001b[0m \u001b[38;5;28;01mdef\u001b[39;00m \u001b[38;5;21mrun\u001b[39m(\u001b[38;5;28mself\u001b[39m, pubs, \u001b[38;5;241m*\u001b[39m, precision: Union[\u001b[38;5;28mfloat\u001b[39m, \u001b[38;5;28;01mNone\u001b[39;00m] \u001b[38;5;241m=\u001b[39m \u001b[38;5;28;01mNone\u001b[39;00m):\n\u001b[1;32m-> 2200\u001b[0m     \u001b[38;5;28;01mreturn\u001b[39;00m \u001b[38;5;28;43mself\u001b[39;49m\u001b[38;5;241;43m.\u001b[39;49m\u001b[43m_executor\u001b[49m\u001b[38;5;241;43m.\u001b[39;49m\u001b[43mestimator_v2_run\u001b[49m\u001b[43m(\u001b[49m\n\u001b[0;32m   2201\u001b[0m \u001b[43m        \u001b[49m\u001b[43mpubs\u001b[49m\u001b[38;5;241;43m=\u001b[39;49m\u001b[43mpubs\u001b[49m\u001b[43m,\u001b[49m\n\u001b[0;32m   2202\u001b[0m \u001b[43m        \u001b[49m\u001b[43mprecision\u001b[49m\u001b[38;5;241;43m=\u001b[39;49m\u001b[43mprecision\u001b[49m\u001b[43m,\u001b[49m\n\u001b[0;32m   2203\u001b[0m \u001b[43m    \u001b[49m\u001b[43m)\u001b[49m\n",
      "File \u001b[1;32m~\\Documents\\AutoQML\\squlearn\\src\\squlearn\\util\\executor.py:1503\u001b[0m, in \u001b[0;36mExecutor.estimator_v2_run\u001b[1;34m(self, pubs, precision)\u001b[0m\n\u001b[0;32m   1466\u001b[0m \u001b[38;5;250m\u001b[39m\u001b[38;5;124;03m\"\"\"\u001b[39;00m\n\u001b[0;32m   1467\u001b[0m \u001b[38;5;124;03mFunction similar to the Qiskit Sampler run function, but this one includes caching,\u001b[39;00m\n\u001b[0;32m   1468\u001b[0m \u001b[38;5;124;03mautomatic session handling, and restarts of failed jobs.\u001b[39;00m\n\u001b[1;32m   (...)\u001b[0m\n\u001b[0;32m   1477\u001b[0m \u001b[38;5;124;03m    A qiskit job containing the results of the run.\u001b[39;00m\n\u001b[0;32m   1478\u001b[0m \u001b[38;5;124;03m\"\"\"\u001b[39;00m\n\u001b[0;32m   1480\u001b[0m \u001b[38;5;66;03m# TODO V2 adapt\u001b[39;00m\n\u001b[0;32m   1481\u001b[0m \u001b[38;5;66;03m# # Checks and handles in-circuit measurements in the circuit\u001b[39;00m\n\u001b[0;32m   1482\u001b[0m \u001b[38;5;66;03m# containes_incircuit_measurement = False\u001b[39;00m\n\u001b[1;32m   (...)\u001b[0m\n\u001b[0;32m   1500\u001b[0m \u001b[38;5;66;03m#         if self.is_statevector:\u001b[39;00m\n\u001b[0;32m   1501\u001b[0m \u001b[38;5;66;03m#             self._swapp_to_BackendPrimitive(\"estimator\")\u001b[39;00m\n\u001b[1;32m-> 1503\u001b[0m \u001b[38;5;28;01mif\u001b[39;00m \u001b[38;5;28misinstance\u001b[39m(\u001b[38;5;28;43mself\u001b[39;49m\u001b[38;5;241;43m.\u001b[39;49m\u001b[43mestimator\u001b[49m, ParallelEstimator):\n\u001b[0;32m   1504\u001b[0m     \u001b[38;5;66;03m# TODO V2: Adapt\u001b[39;00m\n\u001b[0;32m   1505\u001b[0m     \u001b[38;5;66;03m# instance_estimator = self.estimator._estimator\u001b[39;00m\n\u001b[0;32m   1506\u001b[0m     \u001b[38;5;28;01mpass\u001b[39;00m\n\u001b[0;32m   1507\u001b[0m \u001b[38;5;28;01melif\u001b[39;00m \u001b[38;5;129;01mnot\u001b[39;00m \u001b[38;5;28misinstance\u001b[39m(\u001b[38;5;28mself\u001b[39m\u001b[38;5;241m.\u001b[39mestimator, BaseEstimatorV2):\n",
      "File \u001b[1;32m~\\Documents\\AutoQML\\squlearn\\src\\squlearn\\util\\executor.py:1053\u001b[0m, in \u001b[0;36mExecutor.estimator\u001b[1;34m(self)\u001b[0m\n\u001b[0;32m   1051\u001b[0m \u001b[38;5;28;01mif\u001b[39;00m \u001b[38;5;28misinstance\u001b[39m(\u001b[38;5;28mself\u001b[39m\u001b[38;5;241m.\u001b[39m_qpu_parallelization, \u001b[38;5;28mstr\u001b[39m):\n\u001b[0;32m   1052\u001b[0m     \u001b[38;5;28;01mif\u001b[39;00m \u001b[38;5;28mself\u001b[39m\u001b[38;5;241m.\u001b[39m_qpu_parallelization \u001b[38;5;241m==\u001b[39m \u001b[38;5;124m\"\u001b[39m\u001b[38;5;124mauto\u001b[39m\u001b[38;5;124m\"\u001b[39m:\n\u001b[1;32m-> 1053\u001b[0m         \u001b[38;5;28mself\u001b[39m\u001b[38;5;241m.\u001b[39m_estimator \u001b[38;5;241m=\u001b[39m \u001b[43mParallelEstimator\u001b[49m\u001b[43m(\u001b[49m\u001b[38;5;28;43mself\u001b[39;49m\u001b[38;5;241;43m.\u001b[39;49m\u001b[43m_estimator\u001b[49m\u001b[43m,\u001b[49m\u001b[43m \u001b[49m\u001b[43mnum_parallel\u001b[49m\u001b[38;5;241;43m=\u001b[39;49m\u001b[38;5;28;43;01mNone\u001b[39;49;00m\u001b[43m)\u001b[49m\n\u001b[0;32m   1054\u001b[0m     \u001b[38;5;28;01melse\u001b[39;00m:\n\u001b[0;32m   1055\u001b[0m         \u001b[38;5;28;01mraise\u001b[39;00m \u001b[38;5;167;01mValueError\u001b[39;00m(\n\u001b[0;32m   1056\u001b[0m             \u001b[38;5;124m\"\u001b[39m\u001b[38;5;124mUnknown qpu_parallelization value: \u001b[39m\u001b[38;5;124m\"\u001b[39m \u001b[38;5;241m+\u001b[39m \u001b[38;5;28mself\u001b[39m\u001b[38;5;241m.\u001b[39m_qpu_parallelization\n\u001b[0;32m   1057\u001b[0m         )\n",
      "File \u001b[1;32m~\\Documents\\AutoQML\\squlearn\\src\\squlearn\\util\\execution\\parallel_estimator.py:73\u001b[0m, in \u001b[0;36mParallelEstimator.__init__\u001b[1;34m(self, estimator, num_parallel, transpiler, options)\u001b[0m\n\u001b[0;32m     71\u001b[0m \u001b[38;5;28;01melse\u001b[39;00m:\n\u001b[0;32m     72\u001b[0m     \u001b[38;5;28mself\u001b[39m\u001b[38;5;241m.\u001b[39m_transpiler \u001b[38;5;241m=\u001b[39m transpiler\n\u001b[1;32m---> 73\u001b[0m \u001b[38;5;28;43mself\u001b[39;49m\u001b[38;5;241;43m.\u001b[39;49m\u001b[43m_check_estimator\u001b[49m\u001b[43m(\u001b[49m\u001b[43m)\u001b[49m\n\u001b[0;32m     74\u001b[0m \u001b[38;5;28mself\u001b[39m\u001b[38;5;241m.\u001b[39m_cache \u001b[38;5;241m=\u001b[39m {}\n",
      "File \u001b[1;32m~\\Documents\\AutoQML\\squlearn\\src\\squlearn\\util\\execution\\parallel_estimator.py:81\u001b[0m, in \u001b[0;36mParallelEstimator._check_estimator\u001b[1;34m(self)\u001b[0m\n\u001b[0;32m     79\u001b[0m \u001b[38;5;28mself\u001b[39m\u001b[38;5;241m.\u001b[39mshots \u001b[38;5;241m=\u001b[39m \u001b[38;5;28;01mNone\u001b[39;00m\n\u001b[0;32m     80\u001b[0m \u001b[38;5;28;01mif\u001b[39;00m \u001b[38;5;28mhasattr\u001b[39m(\u001b[38;5;28mself\u001b[39m\u001b[38;5;241m.\u001b[39m_estimator\u001b[38;5;241m.\u001b[39moptions, \u001b[38;5;124m\"\u001b[39m\u001b[38;5;124mexecution\u001b[39m\u001b[38;5;124m\"\u001b[39m):\n\u001b[1;32m---> 81\u001b[0m     \u001b[38;5;28mself\u001b[39m\u001b[38;5;241m.\u001b[39mshots \u001b[38;5;241m=\u001b[39m \u001b[38;5;28;43mself\u001b[39;49m\u001b[38;5;241;43m.\u001b[39;49m\u001b[43m_estimator\u001b[49m\u001b[38;5;241;43m.\u001b[39;49m\u001b[43moptions\u001b[49m\u001b[38;5;241;43m.\u001b[39;49m\u001b[43mget\u001b[49m(\u001b[38;5;124m\"\u001b[39m\u001b[38;5;124mexecution\u001b[39m\u001b[38;5;124m\"\u001b[39m)\u001b[38;5;241m.\u001b[39mget(\u001b[38;5;124m\"\u001b[39m\u001b[38;5;124mshots\u001b[39m\u001b[38;5;124m\"\u001b[39m, \u001b[38;5;28;01mNone\u001b[39;00m)\n\u001b[0;32m     83\u001b[0m \u001b[38;5;28;01mif\u001b[39;00m \u001b[38;5;28misinstance\u001b[39m(\u001b[38;5;28mself\u001b[39m\u001b[38;5;241m.\u001b[39m_estimator, qiskit_primitives_Estimator):\n\u001b[0;32m     84\u001b[0m     \u001b[38;5;66;03m# this is only a hack, there is no real backend in the Primitive Estimator class\u001b[39;00m\n\u001b[0;32m     85\u001b[0m     \u001b[38;5;28mself\u001b[39m\u001b[38;5;241m.\u001b[39m_backend \u001b[38;5;241m=\u001b[39m Aer\u001b[38;5;241m.\u001b[39mget_backend(\u001b[38;5;124m\"\u001b[39m\u001b[38;5;124mstatevector_simulator\u001b[39m\u001b[38;5;124m\"\u001b[39m)\n",
      "\u001b[1;31mAttributeError\u001b[0m: 'EstimatorOptions' object has no attribute 'get'"
     ]
    }
   ],
   "source": [
    "from squlearn import Executor\n",
    "executor = Executor(estimator, qpu_parallelization=\"auto\")\n",
    "estimator_exec = executor.get_estimator_v2()\n",
    "\n",
    "job = estimator_exec.run([(qc, obs)])  # , precision=1/np.sqrt(num_shots))\n",
    "result = job.result()[0]\n",
    "print(\"evs:\", result.data.evs)\n",
    "result"
   ]
  },
  {
   "cell_type": "code",
   "execution_count": null,
   "metadata": {},
   "outputs": [
    {
     "ename": "AttributeError",
     "evalue": "'EstimatorOptions' object has no attribute 'get'",
     "output_type": "error",
     "traceback": [
      "\u001b[1;31m---------------------------------------------------------------------------\u001b[0m",
      "\u001b[1;31mAttributeError\u001b[0m                            Traceback (most recent call last)",
      "Cell \u001b[1;32mIn[14], line 1\u001b[0m\n\u001b[1;32m----> 1\u001b[0m job \u001b[38;5;241m=\u001b[39m \u001b[43mestimator\u001b[49m\u001b[38;5;241;43m.\u001b[39;49m\u001b[43mrun\u001b[49m\u001b[43m(\u001b[49m\u001b[43m[\u001b[49m\u001b[43m(\u001b[49m\u001b[43misa_qc\u001b[49m\u001b[43m,\u001b[49m\u001b[43m \u001b[49m\u001b[43misa_observables\u001b[49m\u001b[43m)\u001b[49m\u001b[43m]\u001b[49m\u001b[43m,\u001b[49m\u001b[43m \u001b[49m\u001b[43mprecision\u001b[49m\u001b[38;5;241;43m=\u001b[39;49m\u001b[38;5;241;43m1\u001b[39;49m\u001b[43m \u001b[49m\u001b[38;5;241;43m/\u001b[39;49m\u001b[43m \u001b[49m\u001b[43mnp\u001b[49m\u001b[38;5;241;43m.\u001b[39;49m\u001b[43msqrt\u001b[49m\u001b[43m(\u001b[49m\u001b[38;5;241;43m100000\u001b[39;49m\u001b[43m)\u001b[49m\u001b[43m)\u001b[49m\n\u001b[0;32m      2\u001b[0m result \u001b[38;5;241m=\u001b[39m job\u001b[38;5;241m.\u001b[39mresult()[\u001b[38;5;241m0\u001b[39m]\n\u001b[0;32m      3\u001b[0m result\u001b[38;5;241m.\u001b[39mdata\u001b[38;5;241m.\u001b[39mevs\n",
      "File \u001b[1;32m~\\Documents\\AutoQML\\squlearn\\src\\squlearn\\util\\executor.py:2181\u001b[0m, in \u001b[0;36mExecutorEstimatorV2.run\u001b[1;34m(self, pubs, precision)\u001b[0m\n\u001b[0;32m   2180\u001b[0m \u001b[38;5;28;01mdef\u001b[39;00m \u001b[38;5;21mrun\u001b[39m(\u001b[38;5;28mself\u001b[39m, pubs, \u001b[38;5;241m*\u001b[39m, precision: Union[\u001b[38;5;28mfloat\u001b[39m, \u001b[38;5;28;01mNone\u001b[39;00m] \u001b[38;5;241m=\u001b[39m \u001b[38;5;28;01mNone\u001b[39;00m):\n\u001b[1;32m-> 2181\u001b[0m     \u001b[38;5;28;01mreturn\u001b[39;00m \u001b[38;5;28;43mself\u001b[39;49m\u001b[38;5;241;43m.\u001b[39;49m\u001b[43m_executor\u001b[49m\u001b[38;5;241;43m.\u001b[39;49m\u001b[43mestimator_v2_run\u001b[49m\u001b[43m(\u001b[49m\n\u001b[0;32m   2182\u001b[0m \u001b[43m        \u001b[49m\u001b[43mpubs\u001b[49m\u001b[38;5;241;43m=\u001b[39;49m\u001b[43mpubs\u001b[49m\u001b[43m,\u001b[49m\n\u001b[0;32m   2183\u001b[0m \u001b[43m        \u001b[49m\u001b[43mprecision\u001b[49m\u001b[38;5;241;43m=\u001b[39;49m\u001b[43mprecision\u001b[49m\u001b[43m,\u001b[49m\n\u001b[0;32m   2184\u001b[0m \u001b[43m    \u001b[49m\u001b[43m)\u001b[49m\n",
      "File \u001b[1;32m~\\Documents\\AutoQML\\squlearn\\src\\squlearn\\util\\executor.py:1484\u001b[0m, in \u001b[0;36mExecutor.estimator_v2_run\u001b[1;34m(self, pubs, precision)\u001b[0m\n\u001b[0;32m   1447\u001b[0m \u001b[38;5;250m\u001b[39m\u001b[38;5;124;03m\"\"\"\u001b[39;00m\n\u001b[0;32m   1448\u001b[0m \u001b[38;5;124;03mFunction similar to the Qiskit Sampler run function, but this one includes caching,\u001b[39;00m\n\u001b[0;32m   1449\u001b[0m \u001b[38;5;124;03mautomatic session handling, and restarts of failed jobs.\u001b[39;00m\n\u001b[1;32m   (...)\u001b[0m\n\u001b[0;32m   1458\u001b[0m \u001b[38;5;124;03m    A qiskit job containing the results of the run.\u001b[39;00m\n\u001b[0;32m   1459\u001b[0m \u001b[38;5;124;03m\"\"\"\u001b[39;00m\n\u001b[0;32m   1461\u001b[0m \u001b[38;5;66;03m# TODO V2 adapt\u001b[39;00m\n\u001b[0;32m   1462\u001b[0m \u001b[38;5;66;03m# # Checks and handles in-circuit measurements in the circuit\u001b[39;00m\n\u001b[0;32m   1463\u001b[0m \u001b[38;5;66;03m# containes_incircuit_measurement = False\u001b[39;00m\n\u001b[1;32m   (...)\u001b[0m\n\u001b[0;32m   1481\u001b[0m \u001b[38;5;66;03m#         if self.is_statevector:\u001b[39;00m\n\u001b[0;32m   1482\u001b[0m \u001b[38;5;66;03m#             self._swapp_to_BackendPrimitive(\"estimator\")\u001b[39;00m\n\u001b[1;32m-> 1484\u001b[0m \u001b[38;5;28;01mif\u001b[39;00m \u001b[38;5;28misinstance\u001b[39m(\u001b[38;5;28;43mself\u001b[39;49m\u001b[38;5;241;43m.\u001b[39;49m\u001b[43mestimator\u001b[49m, ParallelEstimator):\n\u001b[0;32m   1485\u001b[0m     \u001b[38;5;66;03m# TODO V2: Adapt\u001b[39;00m\n\u001b[0;32m   1486\u001b[0m     \u001b[38;5;66;03m# instance_estimator = self.estimator._estimator\u001b[39;00m\n\u001b[0;32m   1487\u001b[0m     \u001b[38;5;28;01mpass\u001b[39;00m\n\u001b[0;32m   1488\u001b[0m \u001b[38;5;28;01melif\u001b[39;00m \u001b[38;5;129;01mnot\u001b[39;00m \u001b[38;5;28misinstance\u001b[39m(\u001b[38;5;28mself\u001b[39m\u001b[38;5;241m.\u001b[39mestimator, BaseEstimatorV2):\n",
      "File \u001b[1;32m~\\Documents\\AutoQML\\squlearn\\src\\squlearn\\util\\executor.py:1034\u001b[0m, in \u001b[0;36mExecutor.estimator\u001b[1;34m(self)\u001b[0m\n\u001b[0;32m   1032\u001b[0m \u001b[38;5;28;01mif\u001b[39;00m \u001b[38;5;28misinstance\u001b[39m(\u001b[38;5;28mself\u001b[39m\u001b[38;5;241m.\u001b[39m_qpu_parallelization, \u001b[38;5;28mstr\u001b[39m):\n\u001b[0;32m   1033\u001b[0m     \u001b[38;5;28;01mif\u001b[39;00m \u001b[38;5;28mself\u001b[39m\u001b[38;5;241m.\u001b[39m_qpu_parallelization \u001b[38;5;241m==\u001b[39m \u001b[38;5;124m\"\u001b[39m\u001b[38;5;124mauto\u001b[39m\u001b[38;5;124m\"\u001b[39m:\n\u001b[1;32m-> 1034\u001b[0m         \u001b[38;5;28mself\u001b[39m\u001b[38;5;241m.\u001b[39m_estimator \u001b[38;5;241m=\u001b[39m \u001b[43mParallelEstimator\u001b[49m\u001b[43m(\u001b[49m\u001b[38;5;28;43mself\u001b[39;49m\u001b[38;5;241;43m.\u001b[39;49m\u001b[43m_estimator\u001b[49m\u001b[43m,\u001b[49m\u001b[43m \u001b[49m\u001b[43mnum_parallel\u001b[49m\u001b[38;5;241;43m=\u001b[39;49m\u001b[38;5;28;43;01mNone\u001b[39;49;00m\u001b[43m)\u001b[49m\n\u001b[0;32m   1035\u001b[0m     \u001b[38;5;28;01melse\u001b[39;00m:\n\u001b[0;32m   1036\u001b[0m         \u001b[38;5;28;01mraise\u001b[39;00m \u001b[38;5;167;01mValueError\u001b[39;00m(\n\u001b[0;32m   1037\u001b[0m             \u001b[38;5;124m\"\u001b[39m\u001b[38;5;124mUnknown qpu_parallelization value: \u001b[39m\u001b[38;5;124m\"\u001b[39m \u001b[38;5;241m+\u001b[39m \u001b[38;5;28mself\u001b[39m\u001b[38;5;241m.\u001b[39m_qpu_parallelization\n\u001b[0;32m   1038\u001b[0m         )\n",
      "File \u001b[1;32m~\\Documents\\AutoQML\\squlearn\\src\\squlearn\\util\\execution\\parallel_estimator.py:73\u001b[0m, in \u001b[0;36mParallelEstimator.__init__\u001b[1;34m(self, estimator, num_parallel, transpiler, options)\u001b[0m\n\u001b[0;32m     71\u001b[0m \u001b[38;5;28;01melse\u001b[39;00m:\n\u001b[0;32m     72\u001b[0m     \u001b[38;5;28mself\u001b[39m\u001b[38;5;241m.\u001b[39m_transpiler \u001b[38;5;241m=\u001b[39m transpiler\n\u001b[1;32m---> 73\u001b[0m \u001b[38;5;28;43mself\u001b[39;49m\u001b[38;5;241;43m.\u001b[39;49m\u001b[43m_check_estimator\u001b[49m\u001b[43m(\u001b[49m\u001b[43m)\u001b[49m\n\u001b[0;32m     74\u001b[0m \u001b[38;5;28mself\u001b[39m\u001b[38;5;241m.\u001b[39m_cache \u001b[38;5;241m=\u001b[39m {}\n",
      "File \u001b[1;32m~\\Documents\\AutoQML\\squlearn\\src\\squlearn\\util\\execution\\parallel_estimator.py:81\u001b[0m, in \u001b[0;36mParallelEstimator._check_estimator\u001b[1;34m(self)\u001b[0m\n\u001b[0;32m     79\u001b[0m \u001b[38;5;28mself\u001b[39m\u001b[38;5;241m.\u001b[39mshots \u001b[38;5;241m=\u001b[39m \u001b[38;5;28;01mNone\u001b[39;00m\n\u001b[0;32m     80\u001b[0m \u001b[38;5;28;01mif\u001b[39;00m \u001b[38;5;28mhasattr\u001b[39m(\u001b[38;5;28mself\u001b[39m\u001b[38;5;241m.\u001b[39m_estimator\u001b[38;5;241m.\u001b[39moptions, \u001b[38;5;124m\"\u001b[39m\u001b[38;5;124mexecution\u001b[39m\u001b[38;5;124m\"\u001b[39m):\n\u001b[1;32m---> 81\u001b[0m     \u001b[38;5;28mself\u001b[39m\u001b[38;5;241m.\u001b[39mshots \u001b[38;5;241m=\u001b[39m \u001b[38;5;28;43mself\u001b[39;49m\u001b[38;5;241;43m.\u001b[39;49m\u001b[43m_estimator\u001b[49m\u001b[38;5;241;43m.\u001b[39;49m\u001b[43moptions\u001b[49m\u001b[38;5;241;43m.\u001b[39;49m\u001b[43mget\u001b[49m(\u001b[38;5;124m\"\u001b[39m\u001b[38;5;124mexecution\u001b[39m\u001b[38;5;124m\"\u001b[39m)\u001b[38;5;241m.\u001b[39mget(\u001b[38;5;124m\"\u001b[39m\u001b[38;5;124mshots\u001b[39m\u001b[38;5;124m\"\u001b[39m, \u001b[38;5;28;01mNone\u001b[39;00m)\n\u001b[0;32m     83\u001b[0m \u001b[38;5;28;01mif\u001b[39;00m \u001b[38;5;28misinstance\u001b[39m(\u001b[38;5;28mself\u001b[39m\u001b[38;5;241m.\u001b[39m_estimator, qiskit_primitives_Estimator):\n\u001b[0;32m     84\u001b[0m     \u001b[38;5;66;03m# this is only a hack, there is no real backend in the Primitive Estimator class\u001b[39;00m\n\u001b[0;32m     85\u001b[0m     \u001b[38;5;28mself\u001b[39m\u001b[38;5;241m.\u001b[39m_backend \u001b[38;5;241m=\u001b[39m Aer\u001b[38;5;241m.\u001b[39mget_backend(\u001b[38;5;124m\"\u001b[39m\u001b[38;5;124mstatevector_simulator\u001b[39m\u001b[38;5;124m\"\u001b[39m)\n",
      "\u001b[1;31mAttributeError\u001b[0m: 'EstimatorOptions' object has no attribute 'get'"
     ]
    }
   ],
   "source": [
    "job = estimator.run([(isa_qc, isa_observables)], precision=1 / np.sqrt(100000))\n",
    "result = job.result()[0]\n",
    "result.data.evs"
   ]
  },
  {
   "cell_type": "code",
   "execution_count": null,
   "metadata": {},
   "outputs": [
    {
     "name": "stdout",
     "output_type": "stream",
     "text": [
      "evs: -0.03805668016194332\n"
     ]
    },
    {
     "data": {
      "text/plain": [
       "PubResult(data=DataBin(evs=np.ndarray(<shape=(), dtype=float64>), stds=0.028434905975046908), metadata={'target_precision': 0.028467047115478598, 'shots': 1235, 'circuit_metadata': {}})"
      ]
     },
     "execution_count": 7,
     "metadata": {},
     "output_type": "execute_result"
    }
   ],
   "source": [
    "from squlearn import Executor\n",
    "\n",
    "backend = Aer.get_backend(\"qasm_simulator\")\n",
    "# this is how to set a seed for the qasm simulator, default shots can be set with default_shots\n",
    "num_shots = 1234\n",
    "estimator = BackendEstimatorV2(\n",
    "    backend=backend, options={\"seed_simulator\": 1, \"default_precision\": 1 / np.sqrt(num_shots)}\n",
    ")\n",
    "\n",
    "executor = Executor(estimator, cache_dir=\"cache\", caching=True, log_file=\"log.txt\")\n",
    "\n",
    "\n",
    "estimator_exec = executor.get_estimator_v2()\n",
    "\n",
    "job = estimator_exec.run([(qc, obs)])  # , precision=1/np.sqrt(num_shots))\n",
    "result = job.result()[0]\n",
    "print(\"evs:\", result.data.evs)\n",
    "result"
   ]
  }
 ],
 "metadata": {
  "kernelspec": {
   "display_name": ".venv",
   "language": "python",
   "name": "python3"
  },
  "language_info": {
   "codemirror_mode": {
    "name": "ipython",
    "version": 3
   },
   "file_extension": ".py",
   "mimetype": "text/x-python",
   "name": "python",
   "nbconvert_exporter": "python",
   "pygments_lexer": "ipython3",
   "version": "3.12.4"
  }
 },
 "nbformat": 4,
 "nbformat_minor": 2
}
