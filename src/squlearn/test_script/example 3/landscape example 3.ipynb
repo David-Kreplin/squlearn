{
 "cells": [
  {
   "cell_type": "code",
   "execution_count": 1,
   "metadata": {
    "ExecuteTime": {
     "end_time": "2023-11-30T13:06:01.487172200Z",
     "start_time": "2023-11-30T13:05:54.203443Z"
    }
   },
   "outputs": [],
   "source": [
    "import numpy as np\n",
    "import matplotlib.pyplot as plt\n",
    "\n",
    "from qiskit import QuantumCircuit\n",
    "from qiskit.circuit import ParameterVector\n",
    "\n",
    "from qiskit_ibm_runtime import QiskitRuntimeService, Session, Options, Estimator, Sampler\n",
    "from qiskit_aer.noise import NoiseModel\n",
    "\n",
    "from squlearn import Executor\n",
    "from squlearn.encoding_circuit import QiskitEncodingCircuit\n",
    "from squlearn.observables import SinglePauli\n",
    "from squlearn.qnn import QNNRegressor, SquaredLoss\n",
    "from squlearn.optimizers import Adam, SLSQP, SGLBO\n",
    "\n",
    "import matplotlib.pyplot as plt\n",
    "import matplotlib as mpl"
   ]
  },
  {
   "cell_type": "code",
   "execution_count": 2,
   "metadata": {
    "ExecuteTime": {
     "end_time": "2023-11-30T13:06:01.564625800Z",
     "start_time": "2023-11-30T13:06:01.486171600Z"
    }
   },
   "outputs": [
    {
     "data": {
      "text/plain": "      ┌────────────────┐   ┌──────────┐           ┌───┐ ┌────────────────┐ »\nq_0: ─┤ Rx(acos(x[0])) ├───┤ Ry(p[0]) ├───■───────┤ X ├─┤ Rx(acos(x[0])) ├─»\n     ┌┴────────────────┴┐┌─┴──────────┴┐┌─┴─┐     └─┬─┘┌┴────────────────┴┐»\nq_1: ┤ Rx(2*acos(x[0])) ├┤ Ry(-1.3433) ├┤ X ├──■────┼──┤ Rx(2*acos(x[0])) ├»\n     ├──────────────────┤└┬────────────┤└───┘┌─┴─┐  │  ├──────────────────┤»\nq_2: ┤ Rx(3*acos(x[0])) ├─┤ Ry(2.4439) ├──■──┤ X ├──┼──┤ Rx(3*acos(x[0])) ├»\n     ├──────────────────┤ ├────────────┤┌─┴─┐└───┘  │  ├──────────────────┤»\nq_3: ┤ Rx(4*acos(x[0])) ├─┤ Ry(1.6441) ├┤ X ├───────■──┤ Rx(4*acos(x[0])) ├»\n     └──────────────────┘ └────────────┘└───┘          └──────────────────┘»\n«     ┌──────────────┐          ┌───┐\n«q_0: ┤ Ry(-0.36316) ├──■───────┤ X ├\n«     ├─────────────┬┘┌─┴─┐     └─┬─┘\n«q_1: ┤ Ry(0.45345) ├─┤ X ├──■────┼──\n«     ├─────────────┤ └───┘┌─┴─┐  │  \n«q_2: ┤ Ry(0.18577) ├───■──┤ X ├──┼──\n«     ├─────────────┴┐┌─┴─┐└───┘  │  \n«q_3: ┤ Ry(-0.13904) ├┤ X ├───────■──\n«     └──────────────┘└───┘          ",
      "text/html": "<pre style=\"word-wrap: normal;white-space: pre;background: #fff0;line-height: 1.1;font-family: &quot;Courier New&quot;,Courier,monospace\">      ┌────────────────┐   ┌──────────┐           ┌───┐ ┌────────────────┐ »\nq_0: ─┤ Rx(acos(x[0])) ├───┤ Ry(p[0]) ├───■───────┤ X ├─┤ Rx(acos(x[0])) ├─»\n     ┌┴────────────────┴┐┌─┴──────────┴┐┌─┴─┐     └─┬─┘┌┴────────────────┴┐»\nq_1: ┤ Rx(2*acos(x[0])) ├┤ Ry(-1.3433) ├┤ X ├──■────┼──┤ Rx(2*acos(x[0])) ├»\n     ├──────────────────┤└┬────────────┤└───┘┌─┴─┐  │  ├──────────────────┤»\nq_2: ┤ Rx(3*acos(x[0])) ├─┤ Ry(2.4439) ├──■──┤ X ├──┼──┤ Rx(3*acos(x[0])) ├»\n     ├──────────────────┤ ├────────────┤┌─┴─┐└───┘  │  ├──────────────────┤»\nq_3: ┤ Rx(4*acos(x[0])) ├─┤ Ry(1.6441) ├┤ X ├───────■──┤ Rx(4*acos(x[0])) ├»\n     └──────────────────┘ └────────────┘└───┘          └──────────────────┘»\n«     ┌──────────────┐          ┌───┐\n«q_0: ┤ Ry(-0.36316) ├──■───────┤ X ├\n«     ├─────────────┬┘┌─┴─┐     └─┬─┘\n«q_1: ┤ Ry(0.45345) ├─┤ X ├──■────┼──\n«     ├─────────────┤ └───┘┌─┴─┐  │  \n«q_2: ┤ Ry(0.18577) ├───■──┤ X ├──┼──\n«     ├─────────────┴┐┌─┴─┐└───┘  │  \n«q_3: ┤ Ry(-0.13904) ├┤ X ├───────■──\n«     └──────────────┘└───┘          </pre>"
     },
     "execution_count": 2,
     "metadata": {},
     "output_type": "execute_result"
    }
   ],
   "source": [
    "nqubits = 4\n",
    "\n",
    "qc = QuantumCircuit(4)\n",
    "p = ParameterVector('p', 8)\n",
    "x = ParameterVector('x', 1)\n",
    "\n",
    "p2 = np.array([-0.13005136, -1.34331017,  2.44392299, 1.64405423, -0.36315523, 0.45344925,\n",
    "  0.18577077, -0.13904446])\n",
    "\n",
    "qc.rx(1*np.arccos(x[0]), 0)\n",
    "qc.rx(2*np.arccos(x[0]), 1)\n",
    "qc.rx(3*np.arccos(x[0]), 2)\n",
    "qc.rx(4*np.arccos(x[0]), 3)\n",
    "\n",
    "qc.ry(p[0], 0)\n",
    "qc.ry(p2[1], 1)\n",
    "qc.ry(p2[2], 2)\n",
    "qc.ry(p2[3], 3)\n",
    "\n",
    "qc.cx(0, 1)\n",
    "qc.cx(2, 3)\n",
    "qc.cx(1, 2)\n",
    "qc.cx(3, 0)\n",
    "\n",
    "qc.rx(1*np.arccos(x[0]), 0)\n",
    "qc.rx(2*np.arccos(x[0]), 1)\n",
    "qc.rx(3*np.arccos(x[0]), 2)\n",
    "qc.rx(4*np.arccos(x[0]), 3)\n",
    "\n",
    "qc.ry(p2[4], 0)\n",
    "qc.ry(p2[5], 1)\n",
    "qc.ry(p2[6], 2)\n",
    "qc.ry(p2[7], 3)\n",
    "\n",
    "qc.cx(0, 1)\n",
    "qc.cx(2, 3)\n",
    "qc.cx(1, 2)\n",
    "qc.cx(3, 0)\n",
    "\n",
    "\n",
    "pqc = QiskitEncodingCircuit(qc)\n",
    "pqc.draw()"
   ]
  },
  {
   "cell_type": "code",
   "execution_count": 3,
   "metadata": {
    "ExecuteTime": {
     "end_time": "2023-11-30T13:06:01.582265100Z",
     "start_time": "2023-11-30T13:06:01.562624100Z"
    }
   },
   "outputs": [
    {
     "name": "stdout",
     "output_type": "stream",
     "text": [
      "SparsePauliOp(['IIIZ'],\n",
      "              coeffs=[ParameterExpression(1.0*p[0])])\n"
     ]
    }
   ],
   "source": [
    "op = SinglePauli(nqubits,qubit=0,parameterized=True)\n",
    "print(op)"
   ]
  },
  {
   "cell_type": "code",
   "execution_count": 4,
   "metadata": {
    "ExecuteTime": {
     "end_time": "2023-11-30T13:06:01.625446700Z",
     "start_time": "2023-11-30T13:06:01.578260700Z"
    }
   },
   "outputs": [
    {
     "data": {
      "text/plain": "1"
     },
     "execution_count": 4,
     "metadata": {},
     "output_type": "execute_result"
    }
   ],
   "source": [
    "op.num_parameters"
   ]
  },
  {
   "cell_type": "code",
   "execution_count": 5,
   "metadata": {
    "ExecuteTime": {
     "end_time": "2023-11-30T13:06:01.702486500Z",
     "start_time": "2023-11-30T13:06:01.595421300Z"
    }
   },
   "outputs": [],
   "source": [
    "# Randomly initialize parameters of the encoding circuit\n",
    "np.random.seed(13) #13\n",
    "param_ini =  np.random.rand(pqc.num_parameters)\n",
    "# Initialize parameters of the observable as ones\n",
    "param_op_ini = np.ones(op.num_parameters)\n",
    "x0 = [[i * 0.02] for i in range(15)]\n",
    "optimizer_options = {\"bo_aqc_func\": \"EI\", \"bo_aqc_optimizer\": \"lbfgs\", \"bo_bounds\": [(0.0, 0.3)], \"log_file\": \"adam_noiseless.log\",\n",
    "                     \"bo_n_calls\": 30, \"bo_x0_points\": x0, \"maxiter\": 100}\n",
    "\n",
    "qnn_simulator = QNNRegressor(\n",
    "    pqc,\n",
    "    op,\n",
    "    Executor(\"statevector_simulator\"),\n",
    "    SquaredLoss(),\n",
    "    SGLBO(optimizer_options),\n",
    "    #SLSQP(),\n",
    "    #Adam({\"lr\": 0.28,\"log_file\": \"adam_noiseless.log\"}),\n",
    "    param_ini,\n",
    "    param_op_ini=param_op_ini,\n",
    "    opt_param_op=True, # Keine Observablen optimierung\n",
    "    parameter_seed=124\n",
    ")"
   ]
  },
  {
   "cell_type": "code",
   "execution_count": 6,
   "metadata": {
    "ExecuteTime": {
     "end_time": "2023-11-30T13:06:01.718502300Z",
     "start_time": "2023-11-30T13:06:01.703487500Z"
    }
   },
   "outputs": [
    {
     "name": "stdout",
     "output_type": "stream",
     "text": [
      "[0.77770241]\n",
      "[1.]\n"
     ]
    }
   ],
   "source": [
    "print(param_ini)\n",
    "print(param_op_ini)"
   ]
  },
  {
   "cell_type": "code",
   "execution_count": 7,
   "metadata": {
    "ExecuteTime": {
     "end_time": "2023-11-30T13:06:01.761792Z",
     "start_time": "2023-11-30T13:06:01.718502300Z"
    }
   },
   "outputs": [],
   "source": [
    "# Data that is inputted to the QNN\n",
    "x_train = np.arange(-0.5, 0.6, 0.1)\n",
    "# Data that is fitted by the QNN\n",
    "y_train = np.sin(6.0*x_train)"
   ]
  },
  {
   "cell_type": "code",
   "execution_count": 8,
   "metadata": {
    "ExecuteTime": {
     "end_time": "2023-11-30T13:06:01.770801200Z",
     "start_time": "2023-11-30T13:06:01.735495300Z"
    }
   },
   "outputs": [],
   "source": [
    "def evaluate_loss(theta, qnn_regressor: QNNRegressor, X, y):\n",
    "    param = theta[: qnn_regressor._qnn.num_parameters]\n",
    "    param_op = theta[qnn_regressor._qnn.num_parameters :]\n",
    "\n",
    "    loss_values = qnn_regressor._qnn.evaluate(qnn_regressor.loss.loss_args_tuple, X, param, param_op)\n",
    "\n",
    "    loss_value = qnn_regressor.loss.value(\n",
    "        loss_values,\n",
    "        ground_truth=y,\n",
    "        weights=np.ones(len(y)),\n",
    "        iteration=0,\n",
    "    )\n",
    "\n",
    "    return loss_value\n",
    "\n",
    "\n"
   ]
  },
  {
   "cell_type": "code",
   "execution_count": 9,
   "metadata": {
    "ExecuteTime": {
     "end_time": "2023-11-30T13:06:03.141004600Z",
     "start_time": "2023-11-30T13:06:01.749777600Z"
    }
   },
   "outputs": [
    {
     "name": "stdout",
     "output_type": "stream",
     "text": [
      "fit:   0%|          | 0/100 [00:00<?, ?it/s]|   iter    |  target   |     x     |\n",
      "-------------------------------------\n"
     ]
    },
    {
     "ename": "ValueError",
     "evalue": "not enough values to unpack (expected 2, got 1)",
     "output_type": "error",
     "traceback": [
      "\u001B[1;31m---------------------------------------------------------------------------\u001B[0m",
      "\u001B[1;31mValueError\u001B[0m                                Traceback (most recent call last)",
      "Cell \u001B[1;32mIn[9], line 1\u001B[0m\n\u001B[1;32m----> 1\u001B[0m \u001B[43mqnn_simulator\u001B[49m\u001B[38;5;241;43m.\u001B[39;49m\u001B[43mfit\u001B[49m\u001B[43m(\u001B[49m\u001B[43mx_train\u001B[49m\u001B[43m,\u001B[49m\u001B[43m \u001B[49m\u001B[43my_train\u001B[49m\u001B[43m)\u001B[49m\n",
      "File \u001B[1;32m~\\PycharmProjects\\squlearn\\src\\squlearn\\qnn\\base_qnn.py:186\u001B[0m, in \u001B[0;36mBaseQNN.fit\u001B[1;34m(self, X, y, weights)\u001B[0m\n\u001B[0;32m    184\u001B[0m \u001B[38;5;28mself\u001B[39m\u001B[38;5;241m.\u001B[39m_param_op \u001B[38;5;241m=\u001B[39m \u001B[38;5;28mself\u001B[39m\u001B[38;5;241m.\u001B[39mparam_op_ini\u001B[38;5;241m.\u001B[39mcopy()\n\u001B[0;32m    185\u001B[0m \u001B[38;5;28mself\u001B[39m\u001B[38;5;241m.\u001B[39m_is_fitted \u001B[38;5;241m=\u001B[39m \u001B[38;5;28;01mFalse\u001B[39;00m\n\u001B[1;32m--> 186\u001B[0m \u001B[38;5;28;43mself\u001B[39;49m\u001B[38;5;241;43m.\u001B[39;49m\u001B[43m_fit\u001B[49m\u001B[43m(\u001B[49m\u001B[43mX\u001B[49m\u001B[43m,\u001B[49m\u001B[43m \u001B[49m\u001B[43my\u001B[49m\u001B[43m,\u001B[49m\u001B[43m \u001B[49m\u001B[43mweights\u001B[49m\u001B[43m)\u001B[49m\n",
      "File \u001B[1;32m~\\PycharmProjects\\squlearn\\src\\squlearn\\qnn\\qnnr.py:239\u001B[0m, in \u001B[0;36mQNNRegressor._fit\u001B[1;34m(self, X, y, weights)\u001B[0m\n\u001B[0;32m    237\u001B[0m \u001B[38;5;28;01mif\u001B[39;00m \u001B[38;5;28mself\u001B[39m\u001B[38;5;241m.\u001B[39mcallback \u001B[38;5;241m==\u001B[39m \u001B[38;5;124m\"\u001B[39m\u001B[38;5;124mpbar\u001B[39m\u001B[38;5;124m\"\u001B[39m:\n\u001B[0;32m    238\u001B[0m     \u001B[38;5;28mself\u001B[39m\u001B[38;5;241m.\u001B[39m_pbar \u001B[38;5;241m=\u001B[39m tqdm(total\u001B[38;5;241m=\u001B[39m\u001B[38;5;28mself\u001B[39m\u001B[38;5;241m.\u001B[39m_total_iterations, desc\u001B[38;5;241m=\u001B[39m\u001B[38;5;124m\"\u001B[39m\u001B[38;5;124mfit\u001B[39m\u001B[38;5;124m\"\u001B[39m, file\u001B[38;5;241m=\u001B[39msys\u001B[38;5;241m.\u001B[39mstdout)\n\u001B[1;32m--> 239\u001B[0m \u001B[38;5;28;43mself\u001B[39;49m\u001B[38;5;241;43m.\u001B[39;49m\u001B[43mpartial_fit\u001B[49m\u001B[43m(\u001B[49m\u001B[43mX\u001B[49m\u001B[43m,\u001B[49m\u001B[43m \u001B[49m\u001B[43my\u001B[49m\u001B[43m,\u001B[49m\u001B[43m \u001B[49m\u001B[43mweights\u001B[49m\u001B[43m)\u001B[49m\n",
      "File \u001B[1;32m~\\PycharmProjects\\squlearn\\src\\squlearn\\qnn\\qnnr.py:208\u001B[0m, in \u001B[0;36mQNNRegressor.partial_fit\u001B[1;34m(self, X, y, weights)\u001B[0m\n\u001B[0;32m    206\u001B[0m \u001B[38;5;28;01melse\u001B[39;00m:\n\u001B[0;32m    207\u001B[0m     \u001B[38;5;28;01mif\u001B[39;00m \u001B[38;5;28mself\u001B[39m\u001B[38;5;241m.\u001B[39mopt_param_op:\n\u001B[1;32m--> 208\u001B[0m         \u001B[38;5;28mself\u001B[39m\u001B[38;5;241m.\u001B[39m_param, \u001B[38;5;28mself\u001B[39m\u001B[38;5;241m.\u001B[39m_param_op \u001B[38;5;241m=\u001B[39m \u001B[43mtrain\u001B[49m\u001B[43m(\u001B[49m\n\u001B[0;32m    209\u001B[0m \u001B[43m            \u001B[49m\u001B[38;5;28;43mself\u001B[39;49m\u001B[38;5;241;43m.\u001B[39;49m\u001B[43m_qnn\u001B[49m\u001B[43m,\u001B[49m\n\u001B[0;32m    210\u001B[0m \u001B[43m            \u001B[49m\u001B[43mX\u001B[49m\u001B[43m,\u001B[49m\n\u001B[0;32m    211\u001B[0m \u001B[43m            \u001B[49m\u001B[43my\u001B[49m\u001B[43m,\u001B[49m\n\u001B[0;32m    212\u001B[0m \u001B[43m            \u001B[49m\u001B[38;5;28;43mself\u001B[39;49m\u001B[38;5;241;43m.\u001B[39;49m\u001B[43m_param\u001B[49m\u001B[43m,\u001B[49m\n\u001B[0;32m    213\u001B[0m \u001B[43m            \u001B[49m\u001B[38;5;28;43mself\u001B[39;49m\u001B[38;5;241;43m.\u001B[39;49m\u001B[43m_param_op\u001B[49m\u001B[43m,\u001B[49m\n\u001B[0;32m    214\u001B[0m \u001B[43m            \u001B[49m\u001B[43mloss\u001B[49m\u001B[43m,\u001B[49m\n\u001B[0;32m    215\u001B[0m \u001B[43m            \u001B[49m\u001B[38;5;28;43mself\u001B[39;49m\u001B[38;5;241;43m.\u001B[39;49m\u001B[43moptimizer\u001B[49m\u001B[43m,\u001B[49m\n\u001B[0;32m    216\u001B[0m \u001B[43m            \u001B[49m\u001B[38;5;28;43mself\u001B[39;49m\u001B[38;5;241;43m.\u001B[39;49m\u001B[43mshot_control\u001B[49m\u001B[43m,\u001B[49m\n\u001B[0;32m    217\u001B[0m \u001B[43m            \u001B[49m\u001B[43mweights\u001B[49m\u001B[43m,\u001B[49m\n\u001B[0;32m    218\u001B[0m \u001B[43m            \u001B[49m\u001B[38;5;28;43;01mTrue\u001B[39;49;00m\u001B[43m,\u001B[49m\n\u001B[0;32m    219\u001B[0m \u001B[43m        \u001B[49m\u001B[43m)\u001B[49m\n\u001B[0;32m    220\u001B[0m     \u001B[38;5;28;01melse\u001B[39;00m:\n\u001B[0;32m    221\u001B[0m         \u001B[38;5;28mself\u001B[39m\u001B[38;5;241m.\u001B[39m_param \u001B[38;5;241m=\u001B[39m train(\n\u001B[0;32m    222\u001B[0m             \u001B[38;5;28mself\u001B[39m\u001B[38;5;241m.\u001B[39m_qnn,\n\u001B[0;32m    223\u001B[0m             X,\n\u001B[1;32m   (...)\u001B[0m\n\u001B[0;32m    231\u001B[0m             \u001B[38;5;28;01mFalse\u001B[39;00m,\n\u001B[0;32m    232\u001B[0m         )\n",
      "File \u001B[1;32m~\\PycharmProjects\\squlearn\\src\\squlearn\\qnn\\training.py:364\u001B[0m, in \u001B[0;36mtrain\u001B[1;34m(qnn, input_values, ground_truth, param_ini, param_op_ini, loss, optimizer, shot_control, weights, opt_param_op)\u001B[0m\n\u001B[0;32m    351\u001B[0m     grad \u001B[38;5;241m=\u001B[39m np\u001B[38;5;241m.\u001B[39mconcatenate(\n\u001B[0;32m    352\u001B[0m         loss\u001B[38;5;241m.\u001B[39mgradient(\n\u001B[0;32m    353\u001B[0m             grad_values,\n\u001B[1;32m   (...)\u001B[0m\n\u001B[0;32m    360\u001B[0m         axis\u001B[38;5;241m=\u001B[39m\u001B[38;5;28;01mNone\u001B[39;00m,\n\u001B[0;32m    361\u001B[0m     )\n\u001B[0;32m    362\u001B[0m     \u001B[38;5;28;01mreturn\u001B[39;00m grad\n\u001B[1;32m--> 364\u001B[0m result \u001B[38;5;241m=\u001B[39m \u001B[43moptimizer\u001B[49m\u001B[38;5;241;43m.\u001B[39;49m\u001B[43mminimize\u001B[49m\u001B[43m(\u001B[49m\u001B[43m_fun\u001B[49m\u001B[43m,\u001B[49m\u001B[43m \u001B[49m\u001B[43mval_ini\u001B[49m\u001B[43m,\u001B[49m\u001B[43m \u001B[49m\u001B[43m_grad\u001B[49m\u001B[43m,\u001B[49m\u001B[43m \u001B[49m\u001B[43mbounds\u001B[49m\u001B[38;5;241;43m=\u001B[39;49m\u001B[38;5;28;43;01mNone\u001B[39;49;00m\u001B[43m)\u001B[49m\n\u001B[0;32m    366\u001B[0m \u001B[38;5;28;01mif\u001B[39;00m \u001B[38;5;28mhasattr\u001B[39m(result, \u001B[38;5;124m\"\u001B[39m\u001B[38;5;124mx\u001B[39m\u001B[38;5;124m\"\u001B[39m):\n\u001B[0;32m    367\u001B[0m     result \u001B[38;5;241m=\u001B[39m result\u001B[38;5;241m.\u001B[39mx\n",
      "File \u001B[1;32m~\\PycharmProjects\\squlearn\\src\\squlearn\\optimizers\\sglbo.py:123\u001B[0m, in \u001B[0;36mSGLBO.minimize\u001B[1;34m(self, fun, x0, grad, bounds)\u001B[0m\n\u001B[0;32m    120\u001B[0m \u001B[38;5;28;01mif\u001B[39;00m \u001B[38;5;28mself\u001B[39m\u001B[38;5;241m.\u001B[39mbo_bounds \u001B[38;5;129;01mis\u001B[39;00m \u001B[38;5;129;01mnot\u001B[39;00m \u001B[38;5;28;01mNone\u001B[39;00m \u001B[38;5;129;01mand\u001B[39;00m \u001B[38;5;28mself\u001B[39m\u001B[38;5;241m.\u001B[39mbo_x0_points \u001B[38;5;129;01mis\u001B[39;00m \u001B[38;5;129;01mnot\u001B[39;00m \u001B[38;5;28;01mNone\u001B[39;00m:\n\u001B[0;32m    121\u001B[0m     \u001B[38;5;28mself\u001B[39m\u001B[38;5;241m.\u001B[39mbo_bounds, \u001B[38;5;28mself\u001B[39m\u001B[38;5;241m.\u001B[39mbo_x0_points \u001B[38;5;241m=\u001B[39m \u001B[38;5;28mself\u001B[39m\u001B[38;5;241m.\u001B[39m__adapt_bounds(\u001B[38;5;28mself\u001B[39m\u001B[38;5;241m.\u001B[39mbo_bounds, \u001B[38;5;28mself\u001B[39m\u001B[38;5;241m.\u001B[39mbo_x0_points, gradient)\n\u001B[1;32m--> 123\u001B[0m x_updated \u001B[38;5;241m=\u001B[39m \u001B[38;5;28;43mself\u001B[39;49m\u001B[38;5;241;43m.\u001B[39;49m\u001B[43mstep\u001B[49m\u001B[43m(\u001B[49m\u001B[43mx\u001B[49m\u001B[38;5;241;43m=\u001B[39;49m\u001B[38;5;28;43mself\u001B[39;49m\u001B[38;5;241;43m.\u001B[39;49m\u001B[43mx\u001B[49m\u001B[43m,\u001B[49m\u001B[43m \u001B[49m\u001B[43mgrad\u001B[49m\u001B[38;5;241;43m=\u001B[39;49m\u001B[43mgradient\u001B[49m\u001B[43m)\u001B[49m\n\u001B[0;32m    125\u001B[0m \u001B[38;5;66;03m# check termination\u001B[39;00m\n\u001B[0;32m    126\u001B[0m \u001B[38;5;28;01mif\u001B[39;00m np\u001B[38;5;241m.\u001B[39mlinalg\u001B[38;5;241m.\u001B[39mnorm(\u001B[38;5;28mself\u001B[39m\u001B[38;5;241m.\u001B[39mx \u001B[38;5;241m-\u001B[39m x_updated) \u001B[38;5;241m<\u001B[39m \u001B[38;5;28mself\u001B[39m\u001B[38;5;241m.\u001B[39mtol:\n",
      "File \u001B[1;32m~\\PycharmProjects\\squlearn\\src\\squlearn\\optimizers\\optimizer_base.py:86\u001B[0m, in \u001B[0;36mSGDMixin.step\u001B[1;34m(self, **kwargs)\u001B[0m\n\u001B[0;32m     83\u001B[0m \u001B[38;5;28;01melse\u001B[39;00m:\n\u001B[0;32m     84\u001B[0m     \u001B[38;5;28;01mraise\u001B[39;00m \u001B[38;5;167;01mTypeError\u001B[39;00m(\u001B[38;5;124m\"\u001B[39m\u001B[38;5;124mgrad argument is missing in step function.\u001B[39m\u001B[38;5;124m\"\u001B[39m)\n\u001B[1;32m---> 86\u001B[0m update \u001B[38;5;241m=\u001B[39m \u001B[38;5;28;43mself\u001B[39;49m\u001B[38;5;241;43m.\u001B[39;49m\u001B[43m_get_update\u001B[49m\u001B[43m(\u001B[49m\u001B[43mgrad\u001B[49m\u001B[43m)\u001B[49m\n\u001B[0;32m     87\u001B[0m x_return \u001B[38;5;241m=\u001B[39m x \u001B[38;5;241m+\u001B[39m update\n\u001B[0;32m     88\u001B[0m \u001B[38;5;28mself\u001B[39m\u001B[38;5;241m.\u001B[39miteration \u001B[38;5;241m+\u001B[39m\u001B[38;5;241m=\u001B[39m \u001B[38;5;241m1\u001B[39m\n",
      "File \u001B[1;32m~\\PycharmProjects\\squlearn\\src\\squlearn\\optimizers\\sglbo.py:152\u001B[0m, in \u001B[0;36mSGLBO._get_update\u001B[1;34m(self, grad)\u001B[0m\n\u001B[0;32m    141\u001B[0m \u001B[38;5;28;01mdef\u001B[39;00m \u001B[38;5;21m_get_update\u001B[39m(\u001B[38;5;28mself\u001B[39m, grad: np\u001B[38;5;241m.\u001B[39mndarray) \u001B[38;5;241m-\u001B[39m\u001B[38;5;241m>\u001B[39m np\u001B[38;5;241m.\u001B[39mndarray:\n\u001B[0;32m    142\u001B[0m \u001B[38;5;250m    \u001B[39m\u001B[38;5;124;03m\"\"\"Function that returns the update for a given gradient.\u001B[39;00m\n\u001B[0;32m    143\u001B[0m \n\u001B[0;32m    144\u001B[0m \u001B[38;5;124;03m    Args:\u001B[39;00m\n\u001B[1;32m   (...)\u001B[0m\n\u001B[0;32m    149\u001B[0m \n\u001B[0;32m    150\u001B[0m \u001B[38;5;124;03m    \"\"\"\u001B[39;00m\n\u001B[1;32m--> 152\u001B[0m     optimal_step_size \u001B[38;5;241m=\u001B[39m \u001B[38;5;28;43mself\u001B[39;49m\u001B[38;5;241;43m.\u001B[39;49m\u001B[43m__optimal_step_size\u001B[49m\u001B[43m(\u001B[49m\u001B[38;5;28;43mself\u001B[39;49m\u001B[38;5;241;43m.\u001B[39;49m\u001B[43mfunc\u001B[49m\u001B[43m,\u001B[49m\u001B[43m \u001B[49m\u001B[38;5;28;43mself\u001B[39;49m\u001B[38;5;241;43m.\u001B[39;49m\u001B[43mx\u001B[49m\u001B[43m,\u001B[49m\u001B[43m \u001B[49m\u001B[43mgrad\u001B[49m\u001B[43m)\u001B[49m\n\u001B[0;32m    153\u001B[0m     update \u001B[38;5;241m=\u001B[39m optimal_step_size \u001B[38;5;241m*\u001B[39m grad\n\u001B[0;32m    154\u001B[0m     \u001B[38;5;28;01mreturn\u001B[39;00m \u001B[38;5;241m-\u001B[39mupdate\n",
      "File \u001B[1;32m~\\PycharmProjects\\squlearn\\src\\squlearn\\optimizers\\sglbo.py:165\u001B[0m, in \u001B[0;36mSGLBO.__optimal_step_size\u001B[1;34m(self, func, start_point, gradient)\u001B[0m\n\u001B[0;32m    162\u001B[0m     \u001B[38;5;28;01mreturn\u001B[39;00m \u001B[38;5;241m-\u001B[39mfunc(updated_point)\n\u001B[0;32m    164\u001B[0m opt \u001B[38;5;241m=\u001B[39m BayesianOptimization(f\u001B[38;5;241m=\u001B[39mstep_size_cost, pbounds\u001B[38;5;241m=\u001B[39m{\u001B[38;5;124m'\u001B[39m\u001B[38;5;124mx\u001B[39m\u001B[38;5;124m'\u001B[39m: \u001B[38;5;28mself\u001B[39m\u001B[38;5;241m.\u001B[39mbo_bounds})\n\u001B[1;32m--> 165\u001B[0m \u001B[43mopt\u001B[49m\u001B[38;5;241;43m.\u001B[39;49m\u001B[43mmaximize\u001B[49m\u001B[43m(\u001B[49m\u001B[43minit_points\u001B[49m\u001B[38;5;241;43m=\u001B[39;49m\u001B[38;5;28;43mlen\u001B[39;49m\u001B[43m(\u001B[49m\u001B[38;5;28;43mself\u001B[39;49m\u001B[38;5;241;43m.\u001B[39;49m\u001B[43mbo_x0_points\u001B[49m\u001B[43m)\u001B[49m\u001B[43m,\u001B[49m\u001B[43m \u001B[49m\u001B[43mn_iter\u001B[49m\u001B[38;5;241;43m=\u001B[39;49m\u001B[38;5;28;43mself\u001B[39;49m\u001B[38;5;241;43m.\u001B[39;49m\u001B[43mbo_n_calls\u001B[49m\u001B[43m)\u001B[49m\n\u001B[0;32m    166\u001B[0m \u001B[38;5;28mprint\u001B[39m(\u001B[38;5;124m'\u001B[39m\u001B[38;5;130;01m\\033\u001B[39;00m\u001B[38;5;124m[91m\u001B[39m\u001B[38;5;124m'\u001B[39m, opt\u001B[38;5;241m.\u001B[39mmax, \u001B[38;5;124m'\u001B[39m\u001B[38;5;130;01m\\033\u001B[39;00m\u001B[38;5;124m[0m\u001B[39m\u001B[38;5;124m'\u001B[39m)\n\u001B[0;32m    168\u001B[0m best_params \u001B[38;5;241m=\u001B[39m opt\u001B[38;5;241m.\u001B[39mmax[\u001B[38;5;124m'\u001B[39m\u001B[38;5;124mparams\u001B[39m\u001B[38;5;124m'\u001B[39m]\n",
      "File \u001B[1;32m~\\PycharmProjects\\squlearn\\venv\\lib\\site-packages\\bayes_opt\\bayesian_optimization.py:284\u001B[0m, in \u001B[0;36mBayesianOptimization.maximize\u001B[1;34m(self, init_points, n_iter, acquisition_function, acq, kappa, kappa_decay, kappa_decay_delay, xi, **gp_params)\u001B[0m\n\u001B[0;32m    282\u001B[0m \u001B[38;5;28mself\u001B[39m\u001B[38;5;241m.\u001B[39m_prime_subscriptions()\n\u001B[0;32m    283\u001B[0m \u001B[38;5;28mself\u001B[39m\u001B[38;5;241m.\u001B[39mdispatch(Events\u001B[38;5;241m.\u001B[39mOPTIMIZATION_START)\n\u001B[1;32m--> 284\u001B[0m \u001B[38;5;28;43mself\u001B[39;49m\u001B[38;5;241;43m.\u001B[39;49m\u001B[43m_prime_queue\u001B[49m\u001B[43m(\u001B[49m\u001B[43minit_points\u001B[49m\u001B[43m)\u001B[49m\n\u001B[0;32m    286\u001B[0m old_params_used \u001B[38;5;241m=\u001B[39m \u001B[38;5;28many\u001B[39m([param \u001B[38;5;129;01mis\u001B[39;00m \u001B[38;5;129;01mnot\u001B[39;00m \u001B[38;5;28;01mNone\u001B[39;00m \u001B[38;5;28;01mfor\u001B[39;00m param \u001B[38;5;129;01min\u001B[39;00m [acq, kappa, kappa_decay, kappa_decay_delay, xi]])\n\u001B[0;32m    287\u001B[0m \u001B[38;5;28;01mif\u001B[39;00m old_params_used \u001B[38;5;129;01mor\u001B[39;00m gp_params:\n",
      "File \u001B[1;32m~\\PycharmProjects\\squlearn\\venv\\lib\\site-packages\\bayes_opt\\bayesian_optimization.py:241\u001B[0m, in \u001B[0;36mBayesianOptimization._prime_queue\u001B[1;34m(self, init_points)\u001B[0m\n\u001B[0;32m    238\u001B[0m     init_points \u001B[38;5;241m=\u001B[39m \u001B[38;5;28mmax\u001B[39m(init_points, \u001B[38;5;241m1\u001B[39m)\n\u001B[0;32m    240\u001B[0m \u001B[38;5;28;01mfor\u001B[39;00m _ \u001B[38;5;129;01min\u001B[39;00m \u001B[38;5;28mrange\u001B[39m(init_points):\n\u001B[1;32m--> 241\u001B[0m     \u001B[38;5;28mself\u001B[39m\u001B[38;5;241m.\u001B[39m_queue\u001B[38;5;241m.\u001B[39madd(\u001B[38;5;28;43mself\u001B[39;49m\u001B[38;5;241;43m.\u001B[39;49m\u001B[43m_space\u001B[49m\u001B[38;5;241;43m.\u001B[39;49m\u001B[43mrandom_sample\u001B[49m\u001B[43m(\u001B[49m\u001B[43m)\u001B[49m)\n",
      "File \u001B[1;32m~\\PycharmProjects\\squlearn\\venv\\lib\\site-packages\\bayes_opt\\target_space.py:264\u001B[0m, in \u001B[0;36mTargetSpace.random_sample\u001B[1;34m(self)\u001B[0m\n\u001B[0;32m    247\u001B[0m \u001B[38;5;250m\u001B[39m\u001B[38;5;124;03m\"\"\"\u001B[39;00m\n\u001B[0;32m    248\u001B[0m \u001B[38;5;124;03mCreates random points within the bounds of the space.\u001B[39;00m\n\u001B[0;32m    249\u001B[0m \n\u001B[1;32m   (...)\u001B[0m\n\u001B[0;32m    261\u001B[0m \u001B[38;5;124;03marray([[ 55.33253689,   0.54488318]])\u001B[39;00m\n\u001B[0;32m    262\u001B[0m \u001B[38;5;124;03m\"\"\"\u001B[39;00m\n\u001B[0;32m    263\u001B[0m data \u001B[38;5;241m=\u001B[39m np\u001B[38;5;241m.\u001B[39mempty((\u001B[38;5;241m1\u001B[39m, \u001B[38;5;28mself\u001B[39m\u001B[38;5;241m.\u001B[39mdim))\n\u001B[1;32m--> 264\u001B[0m \u001B[38;5;28;01mfor\u001B[39;00m col, (lower, upper) \u001B[38;5;129;01min\u001B[39;00m \u001B[38;5;28menumerate\u001B[39m(\u001B[38;5;28mself\u001B[39m\u001B[38;5;241m.\u001B[39m_bounds):\n\u001B[0;32m    265\u001B[0m     data\u001B[38;5;241m.\u001B[39mT[col] \u001B[38;5;241m=\u001B[39m \u001B[38;5;28mself\u001B[39m\u001B[38;5;241m.\u001B[39mrandom_state\u001B[38;5;241m.\u001B[39muniform(lower, upper, size\u001B[38;5;241m=\u001B[39m\u001B[38;5;241m1\u001B[39m)\n\u001B[0;32m    266\u001B[0m \u001B[38;5;28;01mreturn\u001B[39;00m data\u001B[38;5;241m.\u001B[39mravel()\n",
      "\u001B[1;31mValueError\u001B[0m: not enough values to unpack (expected 2, got 1)"
     ]
    }
   ],
   "source": [
    "qnn_simulator.fit(x_train, y_train)"
   ]
  },
  {
   "cell_type": "code",
   "execution_count": null,
   "metadata": {
    "ExecuteTime": {
     "end_time": "2023-11-30T13:06:03.149523Z",
     "start_time": "2023-11-30T13:06:03.142005300Z"
    }
   },
   "outputs": [],
   "source": [
    "qnn_simulator.param"
   ]
  },
  {
   "cell_type": "code",
   "execution_count": null,
   "metadata": {
    "ExecuteTime": {
     "start_time": "2023-11-30T13:06:03.143007200Z"
    }
   },
   "outputs": [],
   "source": [
    "qnn_simulator.param_op"
   ]
  },
  {
   "cell_type": "code",
   "execution_count": null,
   "metadata": {
    "ExecuteTime": {
     "start_time": "2023-11-30T13:06:03.145008900Z"
    }
   },
   "outputs": [],
   "source": [
    "evaluate_loss([qnn_simulator.param,qnn_simulator.param_op], qnn_simulator, x_train, y_train)"
   ]
  },
  {
   "cell_type": "code",
   "execution_count": null,
   "metadata": {
    "ExecuteTime": {
     "start_time": "2023-11-30T13:06:03.147520300Z"
    }
   },
   "outputs": [],
   "source": [
    "x = np.arange(np.min(x_train), np.max(x_train) + 0.01, 0.01)\n",
    "y = qnn_simulator.predict(x)  # function for evaluating the prediction of the QNN\n",
    "plt.plot(x, np.sin(6.0*x), label=\"Parabola function\")\n",
    "plt.plot(x, y, label=\"QNN inference\")\n",
    "plt.plot(x_train, y_train, \"x\", label=\"training data\")\n",
    "plt.legend()\n",
    "plt.title(\"QNN inference of a parabola function\")\n",
    "plt.show()"
   ]
  },
  {
   "cell_type": "code",
   "execution_count": null,
   "metadata": {
    "ExecuteTime": {
     "start_time": "2023-11-30T13:06:03.148521600Z"
    }
   },
   "outputs": [],
   "source": [
    "# Lese die Optimierungskoordinaten aus der Datei \"params.log\"\n",
    "optimization_data = np.loadtxt(\"sglbo_noiseless_params2.log\")\n",
    "optimization_x = optimization_data[:, 0]\n",
    "optimization_y = optimization_data[:, 1]\n",
    "\n",
    "# plot the decision function for each datapoint on the grid\n",
    "xx, yy = np.meshgrid(np.linspace(-3, 3, 50), np.linspace(-1, 15, 50))\n",
    "Z = []\n",
    "for i in range(len(xx)):\n",
    "    for j in range(len(xx[i])):\n",
    "        param = np.array([xx[i][j], yy[i][j]])\n",
    "        Z.append(evaluate_loss(param, qnn_simulator, x_train, y_train))\n",
    "\n",
    "Z = np.array(Z)\n",
    "Z = Z.reshape(xx.shape)\n",
    "#norm = mpl.colors.Normalize(vmin=-max(abs(np.min(Z)),abs(np.max(Z))), vmax=max(abs(np.min(Z)),abs(np.max(Z))))\n",
    "im = plt.imshow(\n",
    "    Z,\n",
    "    interpolation=\"bilinear\",\n",
    "    extent=(xx.min(), xx.max(), yy.min(), yy.max()),\n",
    "    aspect=\"auto\",\n",
    "    origin=\"lower\",\n",
    "    cmap=plt.cm.PuOr_r,\n",
    "    #norm=norm\n",
    ")\n",
    "\n",
    "# Verbinde die Punkte im Scatter Plot mit einer Linie\n",
    "plt.plot(optimization_x, optimization_y, c='red', linestyle='-', linewidth=2, label='Convergence Line')\n",
    "\n",
    "# Plot backtransformed hyperplane\n",
    "contours = plt.contour(xx, yy, Z, levels=[0,0.5,1,2,3,4,5,6,7], linewidths=2, linestyles=\"dashed\")\n",
    "\n",
    "# Plot training data\n",
    "plt.axis([-3, 3, -1, 15])\n",
    "plt.xlabel('X-Axis')\n",
    "plt.ylabel('Y-Axis')\n",
    "plt.title('Contour Plot with Optimization Path')\n",
    "plt.legend()\n",
    "plt.show()"
   ]
  }
 ],
 "metadata": {
  "interpreter": {
   "hash": "26de051ba29f2982a8de78e945f0abaf191376122a1563185a90213a26c5da77"
  },
  "kernelspec": {
   "display_name": "Python 3.10.2 64-bit",
   "language": "python",
   "name": "python3"
  },
  "language_info": {
   "codemirror_mode": {
    "name": "ipython",
    "version": 3
   },
   "file_extension": ".py",
   "mimetype": "text/x-python",
   "name": "python",
   "nbconvert_exporter": "python",
   "pygments_lexer": "ipython3",
   "version": "3.10.2"
  },
  "orig_nbformat": 4
 },
 "nbformat": 4,
 "nbformat_minor": 2
}
