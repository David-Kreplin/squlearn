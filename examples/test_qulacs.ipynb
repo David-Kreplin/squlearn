{
 "cells": [
  {
   "cell_type": "code",
   "execution_count": 1,
   "metadata": {},
   "outputs": [],
   "source": [
    "from qulacs import Observable, QuantumCircuit, QuantumState, ParametricQuantumCircuit,QuantumCircuitSimulator\n",
    "from qulacs.gate import Y,CNOT,merge"
   ]
  },
  {
   "cell_type": "code",
   "execution_count": 2,
   "metadata": {},
   "outputs": [],
   "source": [
    "import numpy as np"
   ]
  },
  {
   "cell_type": "code",
   "execution_count": 3,
   "metadata": {},
   "outputs": [
    {
     "data": {
      "image/png": "[encoded data removed]",
      "text/plain": [
       "<Figure size 371.107x284.278 with 1 Axes>"
      ]
     },
     "execution_count": 3,
     "metadata": {},
     "output_type": "execute_result"
    }
   ],
   "source": [
    "from qiskit import QuantumCircuit\n",
    "from qiskit.circuit import ParameterVector\n",
    "\n",
    "\n",
    "p = ParameterVector('p',2)\n",
    "x = ParameterVector('x',3)\n",
    "\n",
    "qc = QuantumCircuit(3)\n",
    "\n",
    "qc.rx(np.cos(p[0]),0)\n",
    "qc.rx(np.sin(p[0]),1)\n",
    "qc.rx(p[1]*p[1],2)\n",
    "\n",
    "qc.ry(p[0]*x[0],0)\n",
    "qc.ry(p[1]*np.cos(x[1]),1)\n",
    "qc.ry(p[0]*np.sin(p[1])*x[2],2)\n",
    "\n",
    "#qc.rx(np.cos(p[0]),0)\n",
    "#qc.rx(np.sin(p[1]),1)\n",
    "#qc.rx(2.0*p[2],2)\n",
    "\n",
    "\n",
    "#from qiskit.circuit.random import random_circuit\n",
    "#qc = random_circuit(3, 10, seed=41)\n",
    "qc.draw()"
   ]
  },
  {
   "cell_type": "code",
   "execution_count": 4,
   "metadata": {},
   "outputs": [],
   "source": [
    "# from squlearn.encoding_circuit import HubregtsenEncodingCircuit\n",
    "# from qiskit.circuit import ParameterVector\n",
    "\n",
    "\n",
    "\n",
    "# pqc = HubregtsenEncodingCircuit(3,2,2)\n",
    "\n",
    "# p = ParameterVector('p',3)\n",
    "# x = ParameterVector('x',pqc.num_features)\n",
    "\n",
    "# qc = pqc.get_circuit(p,x)\n",
    "# qc.draw()"
   ]
  },
  {
   "cell_type": "code",
   "execution_count": 5,
   "metadata": {},
   "outputs": [],
   "source": [
    "np.random.seed(0)\n",
    "param = np.random.random(2)\n",
    "x_val = np.random.random(3)\n",
    "param_obs = np.random.random(8)\n",
    "\n",
    "#print(pqc.num_parameters)\n",
    "#print(pqc.num_features)"
   ]
  },
  {
   "cell_type": "code",
   "execution_count": 6,
   "metadata": {},
   "outputs": [
    {
     "data": {
      "text/plain": [
       "SparsePauliOp(['III', 'IIZ', 'IZI', 'ZII'],\n",
       "              coeffs=[ParameterExpression(1.0*p[0]), ParameterExpression(1.0*p[1]),\n",
       " ParameterExpression(1.0*p[2]), ParameterExpression(1.0*p[3])])"
      ]
     },
     "execution_count": 6,
     "metadata": {},
     "output_type": "execute_result"
    }
   ],
   "source": [
    "from squlearn.observables import SummedPaulis\n",
    "\n",
    "obs = SummedPaulis(3,)\n",
    "\n",
    "obs.get_operator(ParameterVector('p',4))"
   ]
  },
  {
   "cell_type": "code",
   "execution_count": 7,
   "metadata": {},
   "outputs": [],
   "source": [
    "from qiskit.quantum_info import SparsePauliOp\n",
    "\n",
    "p_obs = ParameterVector('p_obs',8)\n",
    "\n",
    "obs = SparsePauliOp('ZZZ',)\n",
    "\n",
    "obs2= [\n",
    "    SparsePauliOp('IIZ',p_obs[0])+SparsePauliOp('IZI',p_obs[1])+SparsePauliOp('ZII',p_obs[2]),\n",
    "    SparsePauliOp('IIX',p_obs[3])+SparsePauliOp('IXI',p_obs[4])+SparsePauliOp('XII',p_obs[5]),\n",
    "    SparsePauliOp('IIY',p_obs[6])+SparsePauliOp('IYI',p_obs[7]),\n",
    "]"
   ]
  },
  {
   "cell_type": "code",
   "execution_count": 8,
   "metadata": {},
   "outputs": [],
   "source": [
    "#obs2[0].parameters"
   ]
  },
  {
   "cell_type": "code",
   "execution_count": 9,
   "metadata": {},
   "outputs": [
    {
     "name": "stdout",
     "output_type": "stream",
     "text": [
      "test._operation_list ['rx', 'ry', 'rx', 'ry', 'rx', 'ry']\n",
      "test._param_list []\n",
      "test._qubit_list [[0], [0], [1], [1], [2], [2]]\n",
      "test._func_list [<function _lambdifygenerated at 0x000002609E5A0670>, <function _lambdifygenerated at 0x000002609E5A04C0>, <function _lambdifygenerated at 0x000002609E5ACF70>, <function _lambdifygenerated at 0x000002609E5A8040>, <function _lambdifygenerated at 0x000002609E5A0820>, <function _lambdifygenerated at 0x000002609E5ACD30>]\n",
      "test._func_grad_list [[<function _lambdifygenerated at 0x000002609E5A83A0>], [<function _lambdifygenerated at 0x000002609E5A8670>, <function _lambdifygenerated at 0x000002609E5AC3A0>], [<function _lambdifygenerated at 0x000002609E5AC5E0>], [<function _lambdifygenerated at 0x000002609E5A0280>, <function _lambdifygenerated at 0x000002609E5A0310>], [<function _lambdifygenerated at 0x000002609E5A8160>], [<function _lambdifygenerated at 0x000002609E5AC700>, <function _lambdifygenerated at 0x000002609E5ACDC0>, <function _lambdifygenerated at 0x000002609E5A8A60>]]\n",
      "test._used_parameters [[ParameterVectorElement(p[0])], [ParameterVectorElement(p[0]), ParameterVectorElement(x[0])], [ParameterVectorElement(p[0])], [ParameterVectorElement(p[1]), ParameterVectorElement(x[1])], [ParameterVectorElement(p[1])], [ParameterVectorElement(p[0]), ParameterVectorElement(p[1]), ParameterVectorElement(x[2])]]\n",
      "test._operators_imag [0.0, 0.0, 0.0]\n",
      "test._operators_real [0.0, 0.0, 0.0]\n",
      "test._operators_param [[<qulacs_core.Observable object at 0x000002609E3FF3B0>, <qulacs_core.Observable object at 0x000002609E187B30>, <qulacs_core.Observable object at 0x000002609E3D86B0>], [<qulacs_core.Observable object at 0x000002609E3F13F0>, <qulacs_core.Observable object at 0x000002609E3EBB70>, <qulacs_core.Observable object at 0x000002609E406770>], [<qulacs_core.Observable object at 0x000002609E407770>, <qulacs_core.Observable object at 0x000002609E3E2D30>]]\n",
      "test._operators_func [[<function _lambdifygenerated at 0x000002609E5A0AF0>, <function _lambdifygenerated at 0x000002609E51ADC0>, <function _lambdifygenerated at 0x000002609E5AC310>], [<function _lambdifygenerated at 0x000002609E5B4CA0>, <function _lambdifygenerated at 0x000002609E5AC8B0>, <function _lambdifygenerated at 0x000002609E5A84C0>], [<function _lambdifygenerated at 0x000002609E5CF430>, <function _lambdifygenerated at 0x000002609E5A88B0>]]\n"
     ]
    }
   ],
   "source": [
    "\n",
    "from squlearn.util.qulacs import *\n",
    "\n",
    "\n",
    "\n",
    "test = QulacsCircuit(qc, obs2)\n",
    "\n",
    "\n",
    "print(\"test._operation_list\",test._operation_list)\n",
    "print(\"test._param_list\",test._param_list)\n",
    "print(\"test._qubit_list\",test._qubit_list)\n",
    "print(\"test._func_list\",test._func_list)\n",
    "print(\"test._func_grad_list\",test._func_grad_list)\n",
    "print(\"test._used_parameters\",test._used_parameters)\n",
    "\n",
    "print(\"test._operators_imag\",test._operators_imag)\n",
    "print(\"test._operators_real\",test._operators_real)\n",
    "print(\"test._operators_param\",test._operators_param)\n",
    "print(\"test._operators_func\",test._operators_param_func)"
   ]
  },
  {
   "cell_type": "code",
   "execution_count": 10,
   "metadata": {},
   "outputs": [
    {
     "data": {
      "text/plain": [
       "<function squlearn.util.qulacs.qulacs_circuit.QulacsCircuit.get_circuit_func.<locals>.qulacs_circuit(*args)>"
      ]
     },
     "execution_count": 10,
     "metadata": {},
     "output_type": "execute_result"
    }
   ],
   "source": [
    "test.get_circuit_func()"
   ]
  },
  {
   "cell_type": "code",
   "execution_count": 11,
   "metadata": {},
   "outputs": [
    {
     "data": {
      "text/plain": [
       "['p_obs']"
      ]
     },
     "execution_count": 11,
     "metadata": {},
     "output_type": "execute_result"
    }
   ],
   "source": [
    "test._qualcs_obs_parameters"
   ]
  },
  {
   "cell_type": "code",
   "execution_count": 12,
   "metadata": {},
   "outputs": [
    {
     "name": "stdout",
     "output_type": "stream",
     "text": [
      "Adding RX gate with angle -0.8531440881779586 on qubit 0\n",
      "Adding RY gate with angle -0.33080468046094264 on qubit 0\n",
      "Adding RX gate with angle -0.5216753442582844 on qubit 1\n",
      "Adding RY gate with angle -0.6116212529902647 on qubit 1\n",
      "Adding RX gate with angle -0.5114958297721829 on qubit 2\n",
      "Adding RY gate with angle -0.15246919338440731 on qubit 2\n"
     ]
    },
    {
     "data": {
      "text/plain": [
       "array([ 1.48094534,  0.50157662, -0.68151945])"
      ]
     },
     "execution_count": 12,
     "metadata": {},
     "output_type": "execute_result"
    }
   ],
   "source": [
    "from squlearn.util.qulacs .qulacs_circuit import evaluate_circuit\n",
    "\n",
    "evaluate_circuit(test,param,x_val,param_obs)"
   ]
  },
  {
   "cell_type": "code",
   "execution_count": 13,
   "metadata": {},
   "outputs": [
    {
     "name": "stdout",
     "output_type": "stream",
     "text": [
      "Adding Parameterized RX gate with angle -0.8531440881779586 on qubit 0\n",
      "Adding Parameterized RY gate with angle -0.33080468046094264 on qubit 0\n",
      "Adding Parameterized RX gate with angle -0.5216753442582844 on qubit 1\n",
      "Adding Parameterized RY gate with angle -0.6116212529902647 on qubit 1\n",
      "Adding Parameterized RX gate with angle -0.5114958297721829 on qubit 2\n",
      "Adding Parameterized RY gate with angle -0.15246919338440731 on qubit 2\n",
      "outer_jacobian\n",
      " [[ 0.52167534  0.        ]\n",
      " [-0.60276338  0.        ]\n",
      " [-0.85314409  0.        ]\n",
      " [ 0.         -0.85518784]\n",
      " [ 0.         -1.43037873]\n",
      " [-0.27781604 -0.17553595]]\n"
     ]
    },
    {
     "data": {
      "text/plain": [
       "array([[-2.82076552e-02, -8.24152611e-01],\n",
       "       [ 5.80256988e-01,  2.68352451e-01],\n",
       "       [-2.38717594e-01,  9.97638867e-17]])"
      ]
     },
     "execution_count": 13,
     "metadata": {},
     "output_type": "execute_result"
    }
   ],
   "source": [
    "from squlearn.util.qulacs.qulacs_circuit import evaluate_circuit_gradient\n",
    "\n",
    "px = list(p)+list(x)\n",
    "\n",
    "evaluate_circuit_gradient(test,p,param,x_val,param_obs)"
   ]
  },
  {
   "cell_type": "code",
   "execution_count": 14,
   "metadata": {},
   "outputs": [
    {
     "name": "stdout",
     "output_type": "stream",
     "text": [
      "Adding RX gate with angle -0.8531440881779586 on qubit 0\n",
      "Adding Parameterized RY gate with angle -0.33080468046094264 on qubit 0\n",
      "Adding RX gate with angle -0.5216753442582844 on qubit 1\n",
      "Adding Parameterized RY gate with angle -0.6116212529902647 on qubit 1\n",
      "Adding RX gate with angle -0.5114958297721829 on qubit 2\n",
      "Adding Parameterized RY gate with angle -0.15246919338440731 on qubit 2\n",
      "outer_jacobian\n",
      " [[-0.5488135   0.          0.        ]\n",
      " [ 0.          0.37069566  0.        ]\n",
      " [ 0.          0.         -0.35989016]]\n"
     ]
    },
    {
     "data": {
      "text/plain": [
       "array([[-7.57148888e-02,  8.07520950e-02, -4.25055397e-02],\n",
       "       [ 3.28938069e-01, -1.00893436e-01,  2.45583843e-01],\n",
       "       [ 2.25370124e-17, -1.68918819e-17,  1.10430622e-17]])"
      ]
     },
     "execution_count": 14,
     "metadata": {},
     "output_type": "execute_result"
    }
   ],
   "source": [
    "evaluate_circuit_gradient(test,x,param,x_val,param_obs)"
   ]
  },
  {
   "cell_type": "code",
   "execution_count": 15,
   "metadata": {},
   "outputs": [
    {
     "name": "stdout",
     "output_type": "stream",
     "text": [
      "Adding RX gate with angle -0.8531440881779586 on qubit 0\n",
      "Adding RY gate with angle -0.33080468046094264 on qubit 0\n",
      "Adding RX gate with angle -0.5216753442582844 on qubit 1\n",
      "Adding Parameterized RY gate with angle -0.6116212529902647 on qubit 1\n",
      "Adding RX gate with angle -0.5114958297721829 on qubit 2\n",
      "Adding RY gate with angle -0.15246919338440731 on qubit 2\n",
      "outer_jacobian\n",
      " [[0.37069566]]\n"
     ]
    },
    {
     "data": {
      "text/plain": [
       "array([[ 8.07520950e-02],\n",
       "       [-1.00893436e-01],\n",
       "       [-1.68918819e-17]])"
      ]
     },
     "execution_count": 15,
     "metadata": {},
     "output_type": "execute_result"
    }
   ],
   "source": [
    "evaluate_circuit_gradient(test,x[1],param,x_val,param_obs)"
   ]
  },
  {
   "cell_type": "code",
   "execution_count": 16,
   "metadata": {},
   "outputs": [
    {
     "name": "stdout",
     "output_type": "stream",
     "text": [
      "Adding Parameterized RX gate with angle -0.8531440881779586 on qubit 0\n",
      "Adding Parameterized RY gate with angle -0.33080468046094264 on qubit 0\n",
      "Adding Parameterized RX gate with angle -0.5216753442582844 on qubit 1\n",
      "Adding Parameterized RY gate with angle -0.6116212529902647 on qubit 1\n",
      "Adding Parameterized RX gate with angle -0.5114958297721829 on qubit 2\n",
      "Adding Parameterized RY gate with angle -0.15246919338440731 on qubit 2\n",
      "outer_jacobian\n",
      " [[ 0.52167534  0.          0.          0.          0.        ]\n",
      " [-0.60276338  0.         -0.5488135   0.          0.        ]\n",
      " [-0.85314409  0.          0.          0.          0.        ]\n",
      " [ 0.         -0.85518784  0.          0.37069566  0.        ]\n",
      " [ 0.         -1.43037873  0.          0.          0.        ]\n",
      " [-0.27781604 -0.17553595  0.          0.         -0.35989016]]\n"
     ]
    },
    {
     "data": {
      "text/plain": [
       "array([[-2.82076552e-02, -8.24152611e-01, -7.57148888e-02,\n",
       "         8.07520950e-02, -4.25055397e-02],\n",
       "       [ 5.80256988e-01,  2.68352451e-01,  3.28938069e-01,\n",
       "        -1.00893436e-01,  2.45583843e-01],\n",
       "       [-2.38717594e-01,  9.97638867e-17,  2.25370124e-17,\n",
       "        -1.68918819e-17,  1.10430622e-17]])"
      ]
     },
     "execution_count": 16,
     "metadata": {},
     "output_type": "execute_result"
    }
   ],
   "source": [
    "evaluate_circuit_gradient(test,px,param,x_val,param_obs)"
   ]
  },
  {
   "cell_type": "code",
   "execution_count": 17,
   "metadata": {},
   "outputs": [
    {
     "name": "stdout",
     "output_type": "stream",
     "text": [
      "Adding RX gate with angle -0.8531440881779586 on qubit 0\n",
      "Adding RY gate with angle -0.33080468046094264 on qubit 0\n",
      "Adding RX gate with angle -0.5216753442582844 on qubit 1\n",
      "Adding RY gate with angle -0.6116212529902647 on qubit 1\n",
      "Adding RX gate with angle -0.5114958297721829 on qubit 2\n",
      "Adding RY gate with angle -0.15246919338440731 on qubit 2\n"
     ]
    },
    {
     "data": {
      "text/plain": [
       "array([[ 0.6219626 ,  0.7098168 ,  0.86189714,  0.        ,  0.        ,\n",
       "         0.        ,  0.        ,  0.        ],\n",
       "       [ 0.        ,  0.        ,  0.        ,  0.21359701,  0.49781924,\n",
       "         0.13244063,  0.        ,  0.        ],\n",
       "       [ 0.        ,  0.        ,  0.        ,  0.        ,  0.        ,\n",
       "         0.        , -0.75335173, -0.49833334]])"
      ]
     },
     "execution_count": 17,
     "metadata": {},
     "output_type": "execute_result"
    }
   ],
   "source": [
    "from squlearn.util.qulacs.qulacs_circuit import evaluate_operator_gradient\n",
    "\n",
    "evaluate_operator_gradient(test,p_obs,param,x_val,param_obs)"
   ]
  },
  {
   "cell_type": "code",
   "execution_count": null,
   "metadata": {},
   "outputs": [],
   "source": []
  },
  {
   "cell_type": "code",
   "execution_count": 18,
   "metadata": {},
   "outputs": [
    {
     "name": "stdout",
     "output_type": "stream",
     "text": [
      "f\n",
      " [ 1.48094534  0.50157662 -0.68151945]\n",
      "dfdp\n",
      " [[-2.82076552e-02 -8.24152611e-01]\n",
      " [ 5.80256988e-01  2.68352451e-01]\n",
      " [-2.38717594e-01  2.13001802e-17]]\n",
      "dfdx\n",
      " [[-7.57148888e-02  8.07520950e-02 -4.25055397e-02]\n",
      " [ 3.28938069e-01 -1.00893436e-01  2.45583843e-01]\n",
      " [ 0.00000000e+00 -1.02888714e-17 -4.99447927e-18]]\n",
      "dfdop\n",
      " [[ 0.6219626   0.7098168   0.86189714  0.          0.          0.\n",
      "   0.          0.        ]\n",
      " [ 0.          0.          0.          0.21359701  0.49781924  0.13244063\n",
      "   0.          0.        ]\n",
      " [ 0.          0.          0.          0.          0.          0.\n",
      "  -0.75335173 -0.49833334]]\n",
      "x[1]\n",
      " [[ 8.07520950e-02]\n",
      " [-1.00893436e-01]\n",
      " [-1.02888714e-17]]\n",
      "dop[0]\n",
      " [[0.6219626]\n",
      " [0.       ]\n",
      " [0.       ]]\n"
     ]
    }
   ],
   "source": [
    "from squlearn.qnn.lowlevel_qnn_pennylane import LowLevelQNNPennyLane\n",
    "from squlearn import Executor\n",
    "from squlearn.observables import CustomObservable\n",
    "\n",
    "from squlearn.encoding_circuit import QiskitEncodingCircuit\n",
    "\n",
    "ec = QiskitEncodingCircuit(qc)\n",
    "o1 = CustomObservable(3,'IIZ',parameterized=True)+CustomObservable(3,'IZI',parameterized=True)+CustomObservable(3,'ZII',parameterized=True)\n",
    "o2 = CustomObservable(3,'IIX',parameterized=True)+CustomObservable(3,'IXI',parameterized=True)+CustomObservable(3,'XII',parameterized=True)\n",
    "o3 = CustomObservable(3,'IIY',parameterized=True)+CustomObservable(3,'IYI',parameterized=True)#+CustomObservable(3,'YII',parameterized=True)\n",
    "\n",
    "qnn = LowLevelQNNPennyLane(ec,[o1,o2,o3],Executor('pennylane'))\n",
    "\n",
    "\n",
    "print(\"f\\n\",qnn.evaluate(x_val,param,param_obs,\"f\")[\"f\"])\n",
    "print(\"dfdp\\n\",qnn.evaluate(x_val,param,param_obs,\"dfdp\")[\"dfdp\"])\n",
    "print(\"dfdx\\n\",qnn.evaluate(x_val,param,param_obs,\"dfdx\")[\"dfdx\"])\n",
    "print(\"dfdop\\n\",qnn.evaluate(x_val,param,param_obs,\"dfdop\")[\"dfdop\"])\n",
    "print(\"x[1]\\n\",qnn.evaluate(x_val,param,param_obs,x[1])[x[1]])\n",
    "print(\"dop[0]\\n\",qnn.evaluate(x_val,param,param_obs,qnn.parameters_operator[0])[qnn.parameters_operator[0]])"
   ]
  }
 ],
 "metadata": {
  "kernelspec": {
   "display_name": ".venv",
   "language": "python",
   "name": "python3"
  },
  "language_info": {
   "codemirror_mode": {
    "name": "ipython",
    "version": 3
   },
   "file_extension": ".py",
   "mimetype": "text/x-python",
   "name": "python",
   "nbconvert_exporter": "python",
   "pygments_lexer": "ipython3",
   "version": "3.9.13"
  }
 },
 "nbformat": 4,
 "nbformat_minor": 2
}
