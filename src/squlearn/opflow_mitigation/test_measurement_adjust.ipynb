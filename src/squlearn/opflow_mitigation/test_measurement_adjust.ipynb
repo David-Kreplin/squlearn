{
 "cells": [
  {
   "cell_type": "code",
   "execution_count": null,
   "metadata": {},
   "outputs": [],
   "source": [
    "from qiskit.circuit.random import random_circuit\n",
    "from qiskit.quantum_info import SparsePauliOp\n",
    "from qiskit import QuantumCircuit\n",
    "\n",
    "from qiskit.primitives import BackendEstimator,Estimator,Sampler\n",
    "from qiskit import Aer\n",
    "\n",
    "from squlearn.util.optree import *\n",
    "from squlearn.util.optree.optree import *\n",
    "from squlearn.util.optree.optree_derivative import *\n",
    "from squlearn.util.optree.optree_evaluate import *\n",
    "\n",
    "#circuit = random_circuit(4, 2, seed=12)\n",
    "#circuit.draw()\n",
    "circuit = QuantumCircuit(4)\n",
    "circuit.h([0,1,2,3])\n",
    "circuit.u(0.5,0.5,0.5,[0,1,2,3])\n",
    "circuit.cx(0,1)\n",
    "circuit.cx(2,3)\n",
    "circuit.cx(1,2)"
   ]
  },
  {
   "cell_type": "code",
   "execution_count": null,
   "metadata": {},
   "outputs": [],
   "source": [
    "op = SparsePauliOp([\"XXXX\",\"YYYY\",\"IIYY\"],[0.1,0.2,0.3])"
   ]
  },
  {
   "cell_type": "code",
   "execution_count": null,
   "metadata": {},
   "outputs": [],
   "source": [
    "op.num_qubits"
   ]
  },
  {
   "cell_type": "code",
   "execution_count": null,
   "metadata": {},
   "outputs": [],
   "source": [
    "op_clean = SparsePauliOp([\"ZZZZ\",\"IZZZ\",\"IIZZ\"],[0.1,0.2,0.3])"
   ]
  },
  {
   "cell_type": "code",
   "execution_count": null,
   "metadata": {},
   "outputs": [],
   "source": [
    "test = transform_operator_to_zbasis(op)\n",
    "print(test)"
   ]
  },
  {
   "cell_type": "code",
   "execution_count": null,
   "metadata": {},
   "outputs": [],
   "source": [
    "print(gen_expectation_tree(circuit,test))"
   ]
  },
  {
   "cell_type": "markdown",
   "metadata": {},
   "source": []
  },
  {
   "cell_type": "code",
   "execution_count": null,
   "metadata": {},
   "outputs": [],
   "source": [
    "tree = OpTreeLeafExpectationValue(circuit,op)\n",
    "print(tree)"
   ]
  },
  {
   "cell_type": "code",
   "execution_count": null,
   "metadata": {},
   "outputs": [],
   "source": [
    "adjust_tree = transform_tree_to_zbasis(tree,abelian_grouping=False)\n",
    "print(adjust_tree)"
   ]
  },
  {
   "cell_type": "code",
   "execution_count": null,
   "metadata": {},
   "outputs": [],
   "source": [
    "evaluate_estimator(circuit,op_clean,{},{},Estimator())"
   ]
  },
  {
   "cell_type": "code",
   "execution_count": null,
   "metadata": {},
   "outputs": [],
   "source": [
    "evaluate_sampler_v2(circuit,op_clean,{},{},Sampler())"
   ]
  },
  {
   "cell_type": "code",
   "execution_count": null,
   "metadata": {},
   "outputs": [],
   "source": [
    "evaluate_sampler_v2(OpTreeNodeList([circuit,circuit]),OpTreeNodeList([test,op_clean,op_clean]),{},{},Sampler())"
   ]
  },
  {
   "cell_type": "code",
   "execution_count": null,
   "metadata": {},
   "outputs": [],
   "source": [
    "#evaluate_expectation_tree_from_sampler(tree,{},Sampler())"
   ]
  },
  {
   "cell_type": "code",
   "execution_count": null,
   "metadata": {},
   "outputs": [],
   "source": [
    "evaluate_expectation_tree_from_sampler(adjust_tree,{},Sampler())"
   ]
  },
  {
   "cell_type": "markdown",
   "metadata": {},
   "source": []
  },
  {
   "cell_type": "code",
   "execution_count": null,
   "metadata": {},
   "outputs": [],
   "source": [
    "job = Estimator().run(circuit,op)\n",
    "job.result().values"
   ]
  },
  {
   "cell_type": "code",
   "execution_count": null,
   "metadata": {},
   "outputs": [],
   "source": [
    "evaluate_expectation_tree_from_estimator(tree,{},Estimator())"
   ]
  },
  {
   "cell_type": "code",
   "execution_count": null,
   "metadata": {},
   "outputs": [],
   "source": [
    "# Create a backend estimator\n",
    "backend = Aer.get_backend('statevector_simulator')\n",
    "estimator = BackendEstimator(backend=backend,options={'shots':1000000})\n",
    "\n",
    "job = estimator.run(circuit,op)"
   ]
  },
  {
   "cell_type": "code",
   "execution_count": null,
   "metadata": {},
   "outputs": [],
   "source": [
    "job.result().values"
   ]
  }
 ],
 "metadata": {
  "kernelspec": {
   "display_name": "Python 3",
   "language": "python",
   "name": "python3"
  },
  "language_info": {
   "codemirror_mode": {
    "name": "ipython",
    "version": 3
   },
   "file_extension": ".py",
   "mimetype": "text/x-python",
   "name": "python",
   "nbconvert_exporter": "python",
   "pygments_lexer": "ipython3",
   "version": "3.10.2"
  },
  "orig_nbformat": 4
 },
 "nbformat": 4,
 "nbformat_minor": 2
}
