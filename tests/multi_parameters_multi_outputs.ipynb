{
 "cells": [
  {
   "cell_type": "code",
   "execution_count": 1,
   "metadata": {},
   "outputs": [],
   "source": [
    "import numpy as np\n",
    "from squlearn.encoding_circuit import ChebyshevRx\n",
    "from squlearn.observables import SummedPaulis\n",
    "from squlearn import Executor\n",
    "\n",
    "from squlearn.qnn.lowlevel_qnn_pennylane import LowLevelQNNPennyLane\n",
    "from squlearn.qnn.lowlevel_qnn_qiskit import LowLevelQNN"
   ]
  },
  {
   "cell_type": "code",
   "execution_count": 2,
   "metadata": {},
   "outputs": [
    {
     "name": "stdout",
     "output_type": "stream",
     "text": [
      "self._pennylane_gates [<class 'pennylane.ops.qubit.parametric_ops_single_qubit.RX'>, <class 'pennylane.ops.qubit.parametric_ops_single_qubit.RX'>, <class 'pennylane.ops.qubit.parametric_ops_single_qubit.RX'>, <class 'pennylane.ops.qubit.parametric_ops_single_qubit.RX'>, <class 'pennylane.ops.qubit.non_parametric_ops.CNOT'>]\n",
      "self._pennylane_gates_param_function [(<function _lambdifygenerated at 0x00000273992785E0>,), (<function _lambdifygenerated at 0x00000273992780D0>,), (<function _lambdifygenerated at 0x0000027399279510>,), (<function _lambdifygenerated at 0x000002739927A200>,), None]\n",
      "self._pennylane_gates_wires [[0], [1], [0], [1], [0, 1]]\n",
      "self._pennylane_gates_parameters ['param', 'x']\n"
     ]
    }
   ],
   "source": [
    "pqc = ChebyshevRx(2,1)\n",
    "obs1 = SummedPaulis(2)\n",
    "obs2 = SummedPaulis(2)\n",
    "\n",
    "np.random.seed(0)\n",
    "param = np.random.rand(pqc.num_parameters)\n",
    "param_obs = np.random.rand(obs1.num_parameters+obs2.num_parameters)\n",
    "\n",
    "qnn_pl = LowLevelQNNPennyLane(pqc, [obs1,obs2], None)"
   ]
  },
  {
   "cell_type": "code",
   "execution_count": 3,
   "metadata": {},
   "outputs": [],
   "source": [
    "qnn_qiskit = LowLevelQNN(pqc, [obs1,obs2], Executor())"
   ]
  },
  {
   "cell_type": "code",
   "execution_count": 4,
   "metadata": {},
   "outputs": [
    {
     "name": "stdout",
     "output_type": "stream",
     "text": [
      "[[[[0.71705433 1.30128432]\n",
      "   [1.43410866 2.60256865]]\n",
      "\n",
      "  [[0.23032806 0.44150654]\n",
      "   [0.46065613 0.88301307]]]\n",
      "\n",
      "\n",
      " [[[0.77869643 1.37912305]\n",
      "   [1.55739287 2.75824611]]\n",
      "\n",
      "  [[0.23026255 0.48082616]\n",
      "   [0.4605251  0.96165231]]]]\n",
      "(2, 2, 2, 2)\n"
     ]
    }
   ],
   "source": [
    "val = qnn_qiskit.evaluate([0.5,0.6],[param,param*2],[param_obs,param_obs*2],\"f\")[\"f\"]\n",
    "print(val)\n",
    "print(val.shape)"
   ]
  },
  {
   "cell_type": "code",
   "execution_count": 5,
   "metadata": {},
   "outputs": [
    {
     "name": "stdout",
     "output_type": "stream",
     "text": [
      "values.shape (8, 2)\n",
      "original values [[0.71705433 1.30128432]\n",
      " [1.43410866 2.60256865]\n",
      " [0.23032806 0.44150654]\n",
      " [0.46065613 0.88301307]\n",
      " [0.77869643 1.37912305]\n",
      " [1.55739287 2.75824611]\n",
      " [0.23026255 0.48082616]\n",
      " [0.4605251  0.96165231]]\n",
      "values.shape (4, 2, 2)\n",
      "new values [[[0.71705433 0.77869643]\n",
      "  [1.30128432 1.37912305]]\n",
      "\n",
      " [[1.43410866 1.55739287]\n",
      "  [2.60256865 2.75824611]]\n",
      "\n",
      " [[0.23032806 0.23026255]\n",
      "  [0.44150654 0.48082616]]\n",
      "\n",
      " [[0.46065613 0.4605251 ]\n",
      "  [0.88301307 0.96165231]]]\n",
      "values.shape (8, 2)\n",
      "new values [[0.71705433 1.30128432]\n",
      " [1.43410866 2.60256865]\n",
      " [0.23032806 0.44150654]\n",
      " [0.46065613 0.88301307]\n",
      " [0.77869643 1.37912305]\n",
      " [1.55739287 2.75824611]\n",
      " [0.23026255 0.48082616]\n",
      " [0.4605251  0.96165231]]\n",
      "[[[[0.71705433 1.30128432]\n",
      "   [1.43410866 2.60256865]]\n",
      "\n",
      "  [[0.23032806 0.44150654]\n",
      "   [0.46065613 0.88301307]]]\n",
      "\n",
      "\n",
      " [[[0.77869643 1.37912305]\n",
      "   [1.55739287 2.75824611]]\n",
      "\n",
      "  [[0.23026255 0.48082616]\n",
      "   [0.4605251  0.96165231]]]]\n",
      "(2, 2, 2, 2)\n"
     ]
    }
   ],
   "source": [
    "val = qnn_pl.evaluate([0.5,0.6],[param,param*2],[param_obs,param_obs*2],\"f\")[\"f\"]\n",
    "print(val)\n",
    "print(val.shape)"
   ]
  },
  {
   "cell_type": "code",
   "execution_count": 6,
   "metadata": {},
   "outputs": [
    {
     "name": "stdout",
     "output_type": "stream",
     "text": [
      "[[[[[-0.74046648 -0.16892925 -0.70709341 -0.16131555]\n",
      "    [-1.0335034  -0.14802646 -0.98692305 -0.14135486]]\n",
      "\n",
      "   [[-1.48093297 -0.33785849 -1.41418681 -0.3226311 ]\n",
      "    [-2.06700679 -0.29605293 -1.97384609 -0.28270972]]]\n",
      "\n",
      "\n",
      "  [[[-0.20295213  0.1702392  -0.19380501  0.16256646]\n",
      "    [-0.47268443  0.14917433 -0.45138038  0.14245099]]\n",
      "\n",
      "   [[-0.40590426  0.3404784  -0.38761002  0.32513292]\n",
      "    [-0.94536886  0.29834865 -0.90276076  0.28490198]]]]\n",
      "\n",
      "\n",
      "\n",
      " [[[[-0.6659767  -0.16812202 -0.71819275 -0.18130366]\n",
      "    [-0.91415696 -0.14731912 -0.98583163 -0.1588697 ]]\n",
      "\n",
      "   [[-1.33195341 -0.33624403 -1.4363855  -0.36260732]\n",
      "    [-1.82831392 -0.29463823 -1.97166327 -0.31773941]]]\n",
      "\n",
      "\n",
      "  [[[-0.23465263  0.16347324 -0.25305062  0.1762904 ]\n",
      "    [-0.49862265  0.14324557 -0.53771727  0.15447677]]\n",
      "\n",
      "   [[-0.46930526  0.32694649 -0.50610124  0.3525808 ]\n",
      "    [-0.99724531  0.28649114 -1.07543454  0.30895353]]]]]\n",
      "(2, 2, 2, 2, 4)\n"
     ]
    }
   ],
   "source": [
    "val = qnn_qiskit.evaluate([0.5,0.6],[param,param*2],[param_obs,param_obs*2],\"dfdp\")[\"dfdp\"]\n",
    "print(val)\n",
    "print(val.shape)"
   ]
  },
  {
   "cell_type": "code",
   "execution_count": 7,
   "metadata": {},
   "outputs": [
    {
     "name": "stdout",
     "output_type": "stream",
     "text": [
      "values.shape (8, 2, 4)\n",
      "original values [[[-0.74046648 -0.16892925 -0.70709341 -0.16131555]\n",
      "  [-1.0335034  -0.14802646 -0.98692305 -0.14135486]]\n",
      "\n",
      " [[-1.48093297 -0.33785849 -1.41418681 -0.3226311 ]\n",
      "  [-2.06700679 -0.29605293 -1.97384609 -0.28270972]]\n",
      "\n",
      " [[-0.20295213  0.1702392  -0.19380501  0.16256646]\n",
      "  [-0.47268443  0.14917433 -0.45138038  0.14245099]]\n",
      "\n",
      " [[-0.40590426  0.3404784  -0.38761002  0.32513292]\n",
      "  [-0.94536886  0.29834865 -0.90276076  0.28490198]]\n",
      "\n",
      " [[-0.6659767  -0.16812202 -0.71819275 -0.18130366]\n",
      "  [-0.91415696 -0.14731912 -0.98583163 -0.1588697 ]]\n",
      "\n",
      " [[-1.33195341 -0.33624403 -1.4363855  -0.36260732]\n",
      "  [-1.82831392 -0.29463823 -1.97166327 -0.31773941]]\n",
      "\n",
      " [[-0.23465263  0.16347324 -0.25305062  0.1762904 ]\n",
      "  [-0.49862265  0.14324557 -0.53771727  0.15447677]]\n",
      "\n",
      " [[-0.46930526  0.32694649 -0.50610124  0.3525808 ]\n",
      "  [-0.99724531  0.28649114 -1.07543454  0.30895353]]]\n",
      "values.shape (4, 2, 2, 4)\n",
      "new values [[[[-0.74046648 -0.16892925 -0.70709341 -0.16131555]\n",
      "   [-0.6659767  -0.16812202 -0.71819275 -0.18130366]]\n",
      "\n",
      "  [[-1.0335034  -0.14802646 -0.98692305 -0.14135486]\n",
      "   [-0.91415696 -0.14731912 -0.98583163 -0.1588697 ]]]\n",
      "\n",
      "\n",
      " [[[-1.48093297 -0.33785849 -1.41418681 -0.3226311 ]\n",
      "   [-1.33195341 -0.33624403 -1.4363855  -0.36260732]]\n",
      "\n",
      "  [[-2.06700679 -0.29605293 -1.97384609 -0.28270972]\n",
      "   [-1.82831392 -0.29463823 -1.97166327 -0.31773941]]]\n",
      "\n",
      "\n",
      " [[[-0.20295213  0.1702392  -0.19380501  0.16256646]\n",
      "   [-0.23465263  0.16347324 -0.25305062  0.1762904 ]]\n",
      "\n",
      "  [[-0.47268443  0.14917433 -0.45138038  0.14245099]\n",
      "   [-0.49862265  0.14324557 -0.53771727  0.15447677]]]\n",
      "\n",
      "\n",
      " [[[-0.40590426  0.3404784  -0.38761002  0.32513292]\n",
      "   [-0.46930526  0.32694649 -0.50610124  0.3525808 ]]\n",
      "\n",
      "  [[-0.94536886  0.29834865 -0.90276076  0.28490198]\n",
      "   [-0.99724531  0.28649114 -1.07543454  0.30895353]]]]\n"
     ]
    },
    {
     "ename": "ValueError",
     "evalue": "axes don't match array",
     "output_type": "error",
     "traceback": [
      "\u001b[1;31m---------------------------------------------------------------------------\u001b[0m",
      "\u001b[1;31mValueError\u001b[0m                                Traceback (most recent call last)",
      "Cell \u001b[1;32mIn[7], line 1\u001b[0m\n\u001b[1;32m----> 1\u001b[0m val \u001b[38;5;241m=\u001b[39m \u001b[43mqnn_pl\u001b[49m\u001b[38;5;241;43m.\u001b[39;49m\u001b[43mevaluate\u001b[49m\u001b[43m(\u001b[49m\u001b[43m[\u001b[49m\u001b[38;5;241;43m0.5\u001b[39;49m\u001b[43m,\u001b[49m\u001b[38;5;241;43m0.6\u001b[39;49m\u001b[43m]\u001b[49m\u001b[43m,\u001b[49m\u001b[43m[\u001b[49m\u001b[43mparam\u001b[49m\u001b[43m,\u001b[49m\u001b[43mparam\u001b[49m\u001b[38;5;241;43m*\u001b[39;49m\u001b[38;5;241;43m2\u001b[39;49m\u001b[43m]\u001b[49m\u001b[43m,\u001b[49m\u001b[43m[\u001b[49m\u001b[43mparam_obs\u001b[49m\u001b[43m,\u001b[49m\u001b[43mparam_obs\u001b[49m\u001b[38;5;241;43m*\u001b[39;49m\u001b[38;5;241;43m2\u001b[39;49m\u001b[43m]\u001b[49m\u001b[43m,\u001b[49m\u001b[38;5;124;43m\"\u001b[39;49m\u001b[38;5;124;43mdfdp\u001b[39;49m\u001b[38;5;124;43m\"\u001b[39;49m\u001b[43m)\u001b[49m[\u001b[38;5;124m\"\u001b[39m\u001b[38;5;124mdfdp\u001b[39m\u001b[38;5;124m\"\u001b[39m]\n\u001b[0;32m      2\u001b[0m \u001b[38;5;28mprint\u001b[39m(val)\n\u001b[0;32m      3\u001b[0m \u001b[38;5;28mprint\u001b[39m(val\u001b[38;5;241m.\u001b[39mshape)\n",
      "File \u001b[1;32m~\\Documents\\Git Repositories\\squlearn_fork\\squlearn\\src\\squlearn\\qnn\\lowlevel_qnn_pennylane.py:285\u001b[0m, in \u001b[0;36mLowLevelQNNPennyLane.evaluate\u001b[1;34m(self, x, param, param_obs, *values)\u001b[0m\n\u001b[0;32m    277\u001b[0m \u001b[38;5;28;01mdef\u001b[39;00m \u001b[38;5;21mevaluate\u001b[39m(\n\u001b[0;32m    278\u001b[0m     \u001b[38;5;28mself\u001b[39m,\n\u001b[0;32m    279\u001b[0m     x: Union[\u001b[38;5;28mfloat\u001b[39m, np\u001b[38;5;241m.\u001b[39mndarray],\n\u001b[1;32m   (...)\u001b[0m\n\u001b[0;32m    282\u001b[0m     \u001b[38;5;241m*\u001b[39mvalues,  \u001b[38;5;66;03m# TODO: data type definition missing Union[str,Expec,tuple,...]\u001b[39;00m\n\u001b[0;32m    283\u001b[0m ) \u001b[38;5;241m-\u001b[39m\u001b[38;5;241m>\u001b[39m \u001b[38;5;28mdict\u001b[39m:\n\u001b[1;32m--> 285\u001b[0m     \u001b[38;5;28;01mreturn\u001b[39;00m \u001b[38;5;28;43mself\u001b[39;49m\u001b[38;5;241;43m.\u001b[39;49m\u001b[43mevaluate_v1\u001b[49m\u001b[43m(\u001b[49m\u001b[43mx\u001b[49m\u001b[43m,\u001b[49m\u001b[43m \u001b[49m\u001b[43mparam\u001b[49m\u001b[43m,\u001b[49m\u001b[43m \u001b[49m\u001b[43mparam_obs\u001b[49m\u001b[43m,\u001b[49m\u001b[43m \u001b[49m\u001b[38;5;241;43m*\u001b[39;49m\u001b[43mvalues\u001b[49m\u001b[43m)\u001b[49m\n",
      "File \u001b[1;32m~\\Documents\\Git Repositories\\squlearn_fork\\squlearn\\src\\squlearn\\qnn\\lowlevel_qnn_pennylane.py:357\u001b[0m, in \u001b[0;36mLowLevelQNNPennyLane.evaluate_v1\u001b[1;34m(self, x, param, param_obs, *values)\u001b[0m\n\u001b[0;32m    355\u001b[0m \u001b[38;5;28mprint\u001b[39m(\u001b[38;5;124m\"\u001b[39m\u001b[38;5;124mvalues.shape\u001b[39m\u001b[38;5;124m\"\u001b[39m,values\u001b[38;5;241m.\u001b[39mshape)\n\u001b[0;32m    356\u001b[0m \u001b[38;5;28mprint\u001b[39m(\u001b[38;5;124m\"\u001b[39m\u001b[38;5;124mnew values\u001b[39m\u001b[38;5;124m\"\u001b[39m,values)\n\u001b[1;32m--> 357\u001b[0m values \u001b[38;5;241m=\u001b[39m \u001b[43mvalues\u001b[49m\u001b[38;5;241;43m.\u001b[39;49m\u001b[43mtranspose\u001b[49m\u001b[43m(\u001b[49m\u001b[43m[\u001b[49m\u001b[38;5;241;43m2\u001b[39;49m\u001b[43m,\u001b[49m\u001b[38;5;241;43m0\u001b[39;49m\u001b[43m,\u001b[49m\u001b[38;5;241;43m1\u001b[39;49m\u001b[43m]\u001b[49m\u001b[43m)\u001b[49m\n\u001b[0;32m    358\u001b[0m values \u001b[38;5;241m=\u001b[39m values\u001b[38;5;241m.\u001b[39mreshape((\u001b[38;5;241m8\u001b[39m,\u001b[38;5;241m2\u001b[39m))\n\u001b[0;32m    359\u001b[0m \u001b[38;5;28mprint\u001b[39m(\u001b[38;5;124m\"\u001b[39m\u001b[38;5;124mvalues.shape\u001b[39m\u001b[38;5;124m\"\u001b[39m,values\u001b[38;5;241m.\u001b[39mshape)\n",
      "\u001b[1;31mValueError\u001b[0m: axes don't match array"
     ]
    }
   ],
   "source": [
    "val = qnn_pl.evaluate([0.5,0.6],[param,param*2],[param_obs,param_obs*2],\"dfdp\")[\"dfdp\"]\n",
    "print(val)\n",
    "print(val.shape)"
   ]
  },
  {
   "cell_type": "code",
   "execution_count": null,
   "metadata": {},
   "outputs": [],
   "source": [
    "val = qnn_qiskit.evaluate([0.5,0.6],[param,param*2],[param_obs,param_obs*2],\"dfdop\")[\"dfdop\"]\n",
    "print(val)\n",
    "print(val.shape)"
   ]
  },
  {
   "cell_type": "code",
   "execution_count": null,
   "metadata": {},
   "outputs": [],
   "source": [
    "val = qnn_pl.evaluate([0.5,0.6],[param,param*2],[param_obs,param_obs*2],\"dfdop\")[\"dfdop\"]\n",
    "print(val)\n",
    "print(val.shape)"
   ]
  },
  {
   "cell_type": "code",
   "execution_count": null,
   "metadata": {},
   "outputs": [],
   "source": [
    "val = qnn_qiskit.evaluate([0.5,0.6],[param,param*2],[param_obs,param_obs*2],\"dfdx\")[\"dfdx\"]\n",
    "print(val)\n",
    "print(val.shape)"
   ]
  },
  {
   "cell_type": "code",
   "execution_count": null,
   "metadata": {},
   "outputs": [],
   "source": [
    "val = qnn_pl.evaluate([0.5,0.6],[param,param*2],[param_obs,param_obs*2],\"dfdx\")[\"dfdx\"]\n",
    "print(val)\n",
    "print(val.shape)"
   ]
  },
  {
   "cell_type": "code",
   "execution_count": null,
   "metadata": {},
   "outputs": [],
   "source": [
    "val = qnn_qiskit.evaluate([0.5,0.6],[param,param*2],[param_obs,param_obs*2],\"dfdpdp\")[\"dfdpdp\"]\n",
    "print(val)\n",
    "print(val.shape)"
   ]
  },
  {
   "cell_type": "code",
   "execution_count": null,
   "metadata": {},
   "outputs": [],
   "source": [
    "val = qnn_pl.evaluate([0.5,0.6],[param,param*2],[param_obs,param_obs*2],\"dfdpdp\")[\"dfdpdp\"]\n",
    "print(val)\n",
    "print(val.shape)"
   ]
  }
 ],
 "metadata": {
  "kernelspec": {
   "display_name": ".venv",
   "language": "python",
   "name": "python3"
  },
  "language_info": {
   "codemirror_mode": {
    "name": "ipython",
    "version": 3
   },
   "file_extension": ".py",
   "mimetype": "text/x-python",
   "name": "python",
   "nbconvert_exporter": "python",
   "pygments_lexer": "ipython3",
   "version": "3.10.2"
  }
 },
 "nbformat": 4,
 "nbformat_minor": 2
}
