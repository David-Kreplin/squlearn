{
 "cells": [
  {
   "cell_type": "code",
   "execution_count": null,
   "metadata": {},
   "outputs": [],
   "source": [
    "import numpy as np\n",
    "from squlearn.feature_map.layered_feature_map import LayeredFeatureMap\n",
    "from squlearn.feature_map.feature_map_derivatives import FeatureMapDerivatives\n",
    "from squlearn import Executor\n",
    "\n",
    "from qiskit import QuantumCircuit\n",
    "from qiskit.circuit import ParameterVector\n",
    "from squlearn.feature_map import QiskitFeatureMap"
   ]
  },
  {
   "cell_type": "code",
   "execution_count": null,
   "metadata": {},
   "outputs": [],
   "source": [
    "qc = QuantumCircuit(2)\n",
    "p = ParameterVector(\"p\", 3)\n",
    "qc.crz(p[0], 1, 0)\n",
    "qc.crz(np.arccos(p[1]), 0, 1)\n",
    "fm = QiskitFeatureMap(qc, decompose=False)\n",
    "fm.draw()"
   ]
  },
  {
   "cell_type": "code",
   "execution_count": null,
   "metadata": {},
   "outputs": [],
   "source": [
    "fmd = FeatureMapDerivatives(fm)\n",
    "print(fmd.get_derivative(\"dp\"))"
   ]
  },
  {
   "cell_type": "code",
   "execution_count": null,
   "metadata": {},
   "outputs": [],
   "source": []
  },
  {
   "cell_type": "markdown",
   "metadata": {},
   "source": []
  },
  {
   "cell_type": "code",
   "execution_count": null,
   "metadata": {},
   "outputs": [],
   "source": [
    "fm = LayeredFeatureMap.from_string(r\"Rz(p)-crz(p)-rzz(p;=2.0*x,{x}])-P(p)\", 4, 0)\n",
    "fm.draw()"
   ]
  },
  {
   "cell_type": "code",
   "execution_count": null,
   "metadata": {},
   "outputs": [],
   "source": [
    "fmd = FeatureMapDerivatives(fm)\n",
    "print(fmd.get_derivative(\"dp\"))"
   ]
  },
  {
   "cell_type": "code",
   "execution_count": null,
   "metadata": {},
   "outputs": [],
   "source": [
    "from qiskit.compiler import transpile\n",
    "\n",
    "\n",
    "def trans_support(circuit):\n",
    "    SUPPORTED_GATES = {\n",
    "        \"s\",\n",
    "        \"sdg\",\n",
    "        \"t\",\n",
    "        \"tdg\",\n",
    "        \"ecr\",\n",
    "        \"sx\",\n",
    "        \"x\",\n",
    "        \"y\",\n",
    "        \"z\",\n",
    "        \"h\",\n",
    "        \"rx\",\n",
    "        \"ry\",\n",
    "        \"rz\",\n",
    "        \"p\",\n",
    "        \"cx\",\n",
    "        \"cy\",\n",
    "        \"cz\",\n",
    "    }\n",
    "\n",
    "    return transpile(\n",
    "        circuit,\n",
    "        basis_gates=list(SUPPORTED_GATES),\n",
    "        optimization_level=0,\n",
    "        layout_method=\"trivial\",\n",
    "    )\n",
    "\n",
    "\n",
    "qc = QuantumCircuit(2)\n",
    "\n",
    "\n",
    "qc.crx(p[0], 0, 1)\n",
    "qc.barrier()\n",
    "qc.cry(p[0], 0, 1)\n",
    "qc.barrier()\n",
    "qc.crz(p[0], 0, 1)\n",
    "qc.barrier()\n",
    "qc.cp(p[0], 0, 1)\n",
    "qc.barrier()\n",
    "qc.rxx(p[0], 0, 1)\n",
    "qc.barrier()\n",
    "qc.ryy(p[0], 0, 1)\n",
    "qc.barrier()\n",
    "qc.rzz(p[0], 0, 1)\n",
    "qc.barrier()\n",
    "qc.rzx(p[0], 0, 1)\n",
    "qc.barrier()\n",
    "qc.u(p[0], p[1], p[2], 1)\n",
    "\n",
    "qc.draw()"
   ]
  },
  {
   "cell_type": "code",
   "execution_count": null,
   "metadata": {},
   "outputs": [],
   "source": [
    "qc2 = trans_support(qc)\n",
    "qc2.draw()"
   ]
  },
  {
   "cell_type": "code",
   "execution_count": null,
   "metadata": {},
   "outputs": [],
   "source": [
    "# fm=QiskitFeatureMap(qc,decompose=False)\n",
    "# fm.draw()"
   ]
  },
  {
   "cell_type": "code",
   "execution_count": null,
   "metadata": {},
   "outputs": [],
   "source": [
    "# fmd = FeatureMapDerivatives(fm)\n",
    "# print(fmd.get_derivative(\"dp\"))"
   ]
  }
 ],
 "metadata": {
  "kernelspec": {
   "display_name": "Python 3",
   "language": "python",
   "name": "python3"
  },
  "language_info": {
   "codemirror_mode": {
    "name": "ipython",
    "version": 3
   },
   "file_extension": ".py",
   "mimetype": "text/x-python",
   "name": "python",
   "nbconvert_exporter": "python",
   "pygments_lexer": "ipython3",
   "version": "3.10.2"
  },
  "orig_nbformat": 4
 },
 "nbformat": 4,
 "nbformat_minor": 2
}
