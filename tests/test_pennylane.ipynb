{
 "cells": [
  {
   "cell_type": "code",
   "execution_count": null,
   "metadata": {},
   "outputs": [],
   "source": [
    "from squlearn.util.pennylane.pennylane_device import PennyLaneDevice\n",
    "from squlearn.util.pennylane.pennylane_circuit import PennyLaneCircuit\n",
    "\n",
    "from qiskit.circuit import QuantumCircuit\n",
    "\n",
    "circuit = QuantumCircuit(2, 2)\n",
    "circuit.h(0)\n",
    "circuit.cx(0, 1)\n",
    "circuit.x(0)\n",
    "circuit.y(1)\n",
    "\n",
    "device = PennyLaneDevice()\n",
    "\n",
    "#pcirc = PennyLaneCircuit(device, circuit)\n",
    "\n",
    "\n",
    "\n",
    "#pcirc()"
   ]
  }
 ],
 "metadata": {
  "kernelspec": {
   "display_name": "Python 3",
   "language": "python",
   "name": "python3"
  },
  "language_info": {
   "codemirror_mode": {
    "name": "ipython",
    "version": 3
   },
   "file_extension": ".py",
   "mimetype": "text/x-python",
   "name": "python",
   "nbconvert_exporter": "python",
   "pygments_lexer": "ipython3",
   "version": "3.10.2"
  }
 },
 "nbformat": 4,
 "nbformat_minor": 2
}
