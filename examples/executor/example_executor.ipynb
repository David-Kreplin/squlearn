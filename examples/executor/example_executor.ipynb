{
 "cells": [
  {
   "cell_type": "markdown",
   "metadata": {},
   "source": [
    "## Example: Various initilizations of the Executor\n",
    "\n",
    "This example shows different ways to initialize the Executor und run various jobs."
   ]
  },
  {
   "cell_type": "code",
   "execution_count": 1,
   "metadata": {},
   "outputs": [],
   "source": [
    "from qiskit import Aer\n",
    "from qiskit.quantum_info import SparsePauliOp\n",
    "from qiskit.circuit.random import random_circuit\n",
    "\n",
    "from squlearn.util import Executor\n",
    "\n",
    "#import logging\n",
    "#logging.basicConfig(level=logging.INFO, filename=\"qiskit.log\", filemode=\"w\")"
   ]
  },
  {
   "cell_type": "markdown",
   "metadata": {},
   "source": [
    "Different initializations of the ``Executor`` class from different backends or services."
   ]
  },
  {
   "cell_type": "code",
   "execution_count": 2,
   "metadata": {},
   "outputs": [],
   "source": [
    "# from a string representing the simple Qiskit simulators:\n",
    "executor = Executor(\"statevector_simulator\")\n",
    "executor = Executor(\"qasm_simulator\")\n",
    "\n",
    "# from a given backend:\n",
    "executor = Executor(Aer.get_backend(\"statevector_simulator\"))\n",
    "\n",
    "# # from a Service and the backend (here, a token has been placed in qiskitrc):\n",
    "# from qiskit_ibm_runtime import QiskitRuntimeService\n",
    "# service = QiskitRuntimeService(channel=\"ibm_quantum\")\n",
    "# # Alternative: service = QiskitRuntimeService(channel=\"ibm_quantum\",token=\"YOUR_TOKEN_HERE\")\n",
    "# executor = Executor(service.get_backend('ibm_nairobi'))\n",
    "\n",
    "# # from a session\n",
    "# from qiskit_ibm_runtime import Session\n",
    "# session = Session(service, backend=service.get_backend('ibm_nairobi'),max_time=28800)\n",
    "# executor = Executor(session)\n",
    "\n",
    "# # from the qiskit-ibm-runtime Estimator\n",
    "# from qiskit_ibm_runtime import Estimator\n",
    "# estimator = Estimator(session)\n",
    "# executor = Executor(estimator)\n",
    "\n",
    "# from a Qiskit primitive:\n",
    "from qiskit.primitives import Sampler, Estimator, BackendSampler, BackendEstimator\n",
    "executor = Executor(Estimator())\n",
    "executor = Executor(Sampler())\n",
    "executor = Executor(BackendEstimator(Aer.get_backend(\"qasm_simulator\")))\n",
    "executor = Executor(BackendSampler(Aer.get_backend(\"qasm_simulator\"), {\"shots\": 1000}))"
   ]
  },
  {
   "cell_type": "code",
   "execution_count": 3,
   "metadata": {},
   "outputs": [
    {
     "name": "stdout",
     "output_type": "stream",
     "text": [
      "Current shots as set before: 1000\n",
      "Adjusted shots: 1234\n",
      "Reset shots: 1000\n"
     ]
    }
   ],
   "source": [
    "# Shots can be set by the executor:\n",
    "print(\"Current shots as set before:\", executor.get_shots())\n",
    "# Set shots\n",
    "executor.set_shots(1234)\n",
    "print(\"Adjusted shots:\", executor.get_shots())\n",
    "# Reset shots to initial ones:\n",
    "executor.reset_shots()\n",
    "print(\"Reset shots:\", executor.get_shots())"
   ]
  },
  {
   "cell_type": "code",
   "execution_count": 4,
   "metadata": {},
   "outputs": [
    {
     "name": "stdout",
     "output_type": "stream",
     "text": [
      "EstimatorResult(values=array([-0.13029391]), metadata=[{'variance': 0.9830234961189362, 'shots': 4321}])\n",
      "SamplerResult(quasi_dists=[{3: 0.509, 2: 0.044, 0: 0.411, 1: 0.036}], metadata=[{'shots': 1000}])\n"
     ]
    }
   ],
   "source": [
    "# The executor generates modified Primitives that can be used as usual:\n",
    "# The modified primitives allow caching, automatic session handling and logging.\n",
    "\n",
    "# Generate a random circuit:\n",
    "circuit = random_circuit(2, 2, seed=0).decompose(reps=1)\n",
    "\n",
    "# Generate a observable:\n",
    "observable = SparsePauliOp(\"ZI\")\n",
    "\n",
    "# Get the Executor Estimator Primitive and call run:\n",
    "estimator = executor.get_estimator()\n",
    "print(estimator.run(circuit, observable, shots=4321).result())\n",
    "\n",
    "# Get the Executor Sampler Primitive and call run:\n",
    "sampler = executor.get_sampler()\n",
    "print(sampler.run(circuit.measure_all(inplace=False)).result())\n",
    "\n",
    "circuit.measure_all()"
   ]
  },
  {
   "cell_type": "code",
   "execution_count": 5,
   "metadata": {},
   "outputs": [
    {
     "data": {
      "text/plain": [
       "Result(backend_name='qasm_simulator', backend_version='0.12.0', qobj_id='', job_id='3782e27c-0c8a-47f6-8377-9ce8c0927b0b', success=True, results=[ExperimentResult(shots=1000, success=True, meas_level=2, data=ExperimentResultData(counts={'0x3': 516, '0x0': 397, '0x1': 40, '0x2': 47}), header=QobjExperimentHeader(creg_sizes=[['meas', 2]], global_phase=0.0, memory_slots=2, metadata=None, n_qubits=2, name='circuit-131', qreg_sizes=[['q', 2]]), status=DONE, seed_simulator=4094219017, metadata={'batched_shots_optimization': False, 'method': 'statevector', 'active_input_qubits': [0, 1], 'device': 'CPU', 'remapped_qubits': False, 'num_qubits': 2, 'num_clbits': 2, 'sample_measure_time': 0.0002881, 'input_qubit_map': [[0, 0], [1, 1]], 'measure_sampling': True, 'noise': 'ideal', 'parallel_shots': 1, 'parallel_state_update': 12, 'fusion': {'enabled': True, 'threshold': 14, 'max_fused_qubits': 5, 'applied': False}}, time_taken=0.0015462)], date=2023-09-28T13:29:35.499427, status=COMPLETED, header=None, metadata={'parallel_experiments': 1, 'omp_enabled': True, 'max_memory_mb': 16135, 'max_gpu_memory_mb': 0, 'num_processes_per_experiments': 1, 'mpi_rank': 0, 'num_mpi_processes': 1, 'time_taken_execute': 0.001596}, time_taken=0.0019974708557128906)"
      ]
     },
     "execution_count": 5,
     "metadata": {},
     "output_type": "execute_result"
    }
   ],
   "source": [
    "# The executor can also be used to execute backend.run() (caching not implemented yet)\n",
    "job = executor.backend_run(circuit)\n",
    "job.result()"
   ]
  },
  {
   "cell_type": "code",
   "execution_count": 6,
   "metadata": {},
   "outputs": [
    {
     "ename": "QiskitError",
     "evalue": "'Cannot apply instruction with classical bits: measure'",
     "output_type": "error",
     "traceback": [
      "\u001b[1;31m---------------------------------------------------------------------------\u001b[0m",
      "\u001b[1;31mAttributeError\u001b[0m                            Traceback (most recent call last)",
      "File \u001b[1;32m~\\Documents\\Git Repositories\\squlearn_fork\\squlearn\\src\\squlearn\\util\\executor.py:565\u001b[0m, in \u001b[0;36mExecutor._primitive_run\u001b[1;34m(self, run, label, hash_value)\u001b[0m\n\u001b[0;32m    564\u001b[0m \u001b[39mtry\u001b[39;00m:\n\u001b[1;32m--> 565\u001b[0m     \u001b[39mself\u001b[39m\u001b[39m.\u001b[39m_logger\u001b[39m.\u001b[39minfo(\u001b[39mf\u001b[39m\u001b[39m\"\u001b[39m\u001b[39mError message: \u001b[39m\u001b[39m{{\u001b[39;00m\u001b[39m}}\u001b[39;00m\u001b[39m\"\u001b[39m\u001b[39m.\u001b[39mformat(job\u001b[39m.\u001b[39;49merror_message()))\n\u001b[0;32m    566\u001b[0m \u001b[39mexcept\u001b[39;00m \u001b[39mException\u001b[39;00m \u001b[39mas\u001b[39;00m e:\n",
      "\u001b[1;31mAttributeError\u001b[0m: 'PrimitiveJob' object has no attribute 'error_message'",
      "\nDuring handling of the above exception, another exception occurred:\n",
      "\u001b[1;31mQiskitError\u001b[0m                               Traceback (most recent call last)",
      "\u001b[1;32mc:\\Users\\DKR\\Documents\\Git Repositories\\squlearn_fork\\squlearn\\examples\\executor\\example_executor.ipynb Cell 8\u001b[0m in \u001b[0;36m<cell line: 10>\u001b[1;34m()\u001b[0m\n\u001b[0;32m      <a href='vscode-notebook-cell:/c%3A/Users/DKR/Documents/Git%20Repositories/squlearn_fork/squlearn/examples/executor/example_executor.ipynb#X10sZmlsZQ%3D%3D?line=4'>5</a>\u001b[0m estimator \u001b[39m=\u001b[39m executor\u001b[39m.\u001b[39mget_estimator()\n\u001b[0;32m      <a href='vscode-notebook-cell:/c%3A/Users/DKR/Documents/Git%20Repositories/squlearn_fork/squlearn/examples/executor/example_executor.ipynb#X10sZmlsZQ%3D%3D?line=6'>7</a>\u001b[0m \u001b[39m#j=Estimator().run(circuit, observable, shots=4321)\u001b[39;00m\n\u001b[0;32m      <a href='vscode-notebook-cell:/c%3A/Users/DKR/Documents/Git%20Repositories/squlearn_fork/squlearn/examples/executor/example_executor.ipynb#X10sZmlsZQ%3D%3D?line=7'>8</a>\u001b[0m \u001b[39m#j.result()\u001b[39;00m\n\u001b[1;32m---> <a href='vscode-notebook-cell:/c%3A/Users/DKR/Documents/Git%20Repositories/squlearn_fork/squlearn/examples/executor/example_executor.ipynb#X10sZmlsZQ%3D%3D?line=9'>10</a>\u001b[0m \u001b[39mprint\u001b[39m(estimator\u001b[39m.\u001b[39;49mrun(circuit, observable, shots\u001b[39m=\u001b[39;49m\u001b[39m4321\u001b[39;49m)\u001b[39m.\u001b[39mresult())\n",
      "File \u001b[1;32m~\\Documents\\Git Repositories\\squlearn_fork\\squlearn\\src\\squlearn\\util\\executor.py:1032\u001b[0m, in \u001b[0;36mExecutorEstimator.run\u001b[1;34m(self, circuits, observables, parameter_values, **run_options)\u001b[0m\n\u001b[0;32m   1018\u001b[0m \u001b[39mdef\u001b[39;00m \u001b[39mrun\u001b[39m(\n\u001b[0;32m   1019\u001b[0m     \u001b[39mself\u001b[39m,\n\u001b[0;32m   1020\u001b[0m     circuits,\n\u001b[1;32m   (...)\u001b[0m\n\u001b[0;32m   1023\u001b[0m     \u001b[39m*\u001b[39m\u001b[39m*\u001b[39mrun_options,\n\u001b[0;32m   1024\u001b[0m ) \u001b[39m-\u001b[39m\u001b[39m>\u001b[39m Job:\n\u001b[0;32m   1025\u001b[0m \u001b[39m    \u001b[39m\u001b[39m\"\"\"\u001b[39;00m\n\u001b[0;32m   1026\u001b[0m \u001b[39m    Overwrites the sampler primitive run method, to evaluate expectation values.\u001b[39;00m\n\u001b[0;32m   1027\u001b[0m \u001b[39m    Uses the Executor class for automatic session handling.\u001b[39;00m\n\u001b[1;32m   (...)\u001b[0m\n\u001b[0;32m   1030\u001b[0m \n\u001b[0;32m   1031\u001b[0m \u001b[39m    \"\"\"\u001b[39;00m\n\u001b[1;32m-> 1032\u001b[0m     \u001b[39mreturn\u001b[39;00m \u001b[39mself\u001b[39m\u001b[39m.\u001b[39m_executor\u001b[39m.\u001b[39mestimator_run(\n\u001b[0;32m   1033\u001b[0m         circuits\u001b[39m=\u001b[39mcircuits,\n\u001b[0;32m   1034\u001b[0m         observables\u001b[39m=\u001b[39mobservables,\n\u001b[0;32m   1035\u001b[0m         parameter_values\u001b[39m=\u001b[39mparameter_values,\n\u001b[0;32m   1036\u001b[0m         \u001b[39m*\u001b[39m\u001b[39m*\u001b[39mrun_options,\n\u001b[0;32m   1037\u001b[0m     )\n",
      "File \u001b[1;32m~\\Documents\\Git Repositories\\squlearn_fork\\squlearn\\src\\squlearn\\util\\executor.py:672\u001b[0m, in \u001b[0;36mExecutor.estimator_run\u001b[1;34m(self, circuits, observables, parameter_values, **kwargs)\u001b[0m\n\u001b[0;32m    669\u001b[0m \u001b[39melse\u001b[39;00m:\n\u001b[0;32m    670\u001b[0m     hash_value \u001b[39m=\u001b[39m \u001b[39mNone\u001b[39;00m\n\u001b[1;32m--> 672\u001b[0m \u001b[39mreturn\u001b[39;00m \u001b[39mself\u001b[39;49m\u001b[39m.\u001b[39;49m_primitive_run(run, \u001b[39m\"\u001b[39;49m\u001b[39mestimator\u001b[39;49m\u001b[39m\"\u001b[39;49m, hash_value)\n",
      "File \u001b[1;32m~\\Documents\\Git Repositories\\squlearn_fork\\squlearn\\src\\squlearn\\util\\executor.py:609\u001b[0m, in \u001b[0;36mExecutor._primitive_run\u001b[1;34m(self, run, label, hash_value)\u001b[0m\n\u001b[0;32m    607\u001b[0m     \u001b[39mif\u001b[39;00m critical_error:\n\u001b[0;32m    608\u001b[0m         \u001b[39mself\u001b[39m\u001b[39m.\u001b[39m_logger\u001b[39m.\u001b[39minfo(\u001b[39mf\u001b[39m\u001b[39m\"\u001b[39m\u001b[39mCritical error detected; abort execution\u001b[39m\u001b[39m\"\u001b[39m)\n\u001b[1;32m--> 609\u001b[0m         \u001b[39mraise\u001b[39;00m critical_error_message\n\u001b[0;32m    611\u001b[0m \u001b[39mif\u001b[39;00m success \u001b[39mis\u001b[39;00m \u001b[39mnot\u001b[39;00m \u001b[39mTrue\u001b[39;00m:\n\u001b[0;32m    612\u001b[0m     \u001b[39mraise\u001b[39;00m \u001b[39mRuntimeError\u001b[39;00m(\n\u001b[0;32m    613\u001b[0m         \u001b[39mf\u001b[39m\u001b[39m\"\u001b[39m\u001b[39mCould not run job successfully after \u001b[39m\u001b[39m{{\u001b[39;00m\u001b[39m}}\u001b[39;00m\u001b[39m retries\u001b[39m\u001b[39m\"\u001b[39m\u001b[39m.\u001b[39mformat(\u001b[39mself\u001b[39m\u001b[39m.\u001b[39m_max_jobs_retries)\n\u001b[0;32m    614\u001b[0m     )\n",
      "File \u001b[1;32m~\\Documents\\Git Repositories\\squlearn_fork\\squlearn\\src\\squlearn\\util\\executor.py:568\u001b[0m, in \u001b[0;36mExecutor._primitive_run\u001b[1;34m(self, run, label, hash_value)\u001b[0m\n\u001b[0;32m    566\u001b[0m \u001b[39mexcept\u001b[39;00m \u001b[39mException\u001b[39;00m \u001b[39mas\u001b[39;00m e:\n\u001b[0;32m    567\u001b[0m     \u001b[39mtry\u001b[39;00m:\n\u001b[1;32m--> 568\u001b[0m         job\u001b[39m.\u001b[39;49mresult()\n\u001b[0;32m    569\u001b[0m     \u001b[39mexcept\u001b[39;00m \u001b[39mException\u001b[39;00m \u001b[39mas\u001b[39;00m e2:\n\u001b[0;32m    570\u001b[0m         \u001b[39mpass\u001b[39;00m\n",
      "File \u001b[1;32m~\\AppData\\Roaming\\Python\\Python310\\site-packages\\qiskit\\primitives\\primitive_job.py:55\u001b[0m, in \u001b[0;36mPrimitiveJob.result\u001b[1;34m(self)\u001b[0m\n\u001b[0;32m     53\u001b[0m \u001b[39m\u001b[39m\u001b[39m\"\"\"Return the results of the job.\"\"\"\u001b[39;00m\n\u001b[0;32m     54\u001b[0m \u001b[39mself\u001b[39m\u001b[39m.\u001b[39m_check_submitted()\n\u001b[1;32m---> 55\u001b[0m \u001b[39mreturn\u001b[39;00m \u001b[39mself\u001b[39;49m\u001b[39m.\u001b[39;49m_future\u001b[39m.\u001b[39;49mresult()\n",
      "File \u001b[1;32mc:\\Program Files\\Python310\\lib\\concurrent\\futures\\_base.py:439\u001b[0m, in \u001b[0;36mFuture.result\u001b[1;34m(self, timeout)\u001b[0m\n\u001b[0;32m    437\u001b[0m     \u001b[39mraise\u001b[39;00m CancelledError()\n\u001b[0;32m    438\u001b[0m \u001b[39melif\u001b[39;00m \u001b[39mself\u001b[39m\u001b[39m.\u001b[39m_state \u001b[39m==\u001b[39m FINISHED:\n\u001b[1;32m--> 439\u001b[0m     \u001b[39mreturn\u001b[39;00m \u001b[39mself\u001b[39;49m\u001b[39m.\u001b[39;49m__get_result()\n\u001b[0;32m    441\u001b[0m \u001b[39mself\u001b[39m\u001b[39m.\u001b[39m_condition\u001b[39m.\u001b[39mwait(timeout)\n\u001b[0;32m    443\u001b[0m \u001b[39mif\u001b[39;00m \u001b[39mself\u001b[39m\u001b[39m.\u001b[39m_state \u001b[39min\u001b[39;00m [CANCELLED, CANCELLED_AND_NOTIFIED]:\n",
      "File \u001b[1;32mc:\\Program Files\\Python310\\lib\\concurrent\\futures\\_base.py:391\u001b[0m, in \u001b[0;36mFuture.__get_result\u001b[1;34m(self)\u001b[0m\n\u001b[0;32m    389\u001b[0m \u001b[39mif\u001b[39;00m \u001b[39mself\u001b[39m\u001b[39m.\u001b[39m_exception:\n\u001b[0;32m    390\u001b[0m     \u001b[39mtry\u001b[39;00m:\n\u001b[1;32m--> 391\u001b[0m         \u001b[39mraise\u001b[39;00m \u001b[39mself\u001b[39m\u001b[39m.\u001b[39m_exception\n\u001b[0;32m    392\u001b[0m     \u001b[39mfinally\u001b[39;00m:\n\u001b[0;32m    393\u001b[0m         \u001b[39m# Break a reference cycle with the exception in self._exception\u001b[39;00m\n\u001b[0;32m    394\u001b[0m         \u001b[39mself\u001b[39m \u001b[39m=\u001b[39m \u001b[39mNone\u001b[39;00m\n",
      "File \u001b[1;32mc:\\Program Files\\Python310\\lib\\concurrent\\futures\\thread.py:58\u001b[0m, in \u001b[0;36m_WorkItem.run\u001b[1;34m(self)\u001b[0m\n\u001b[0;32m     55\u001b[0m     \u001b[39mreturn\u001b[39;00m\n\u001b[0;32m     57\u001b[0m \u001b[39mtry\u001b[39;00m:\n\u001b[1;32m---> 58\u001b[0m     result \u001b[39m=\u001b[39m \u001b[39mself\u001b[39m\u001b[39m.\u001b[39mfn(\u001b[39m*\u001b[39m\u001b[39mself\u001b[39m\u001b[39m.\u001b[39margs, \u001b[39m*\u001b[39m\u001b[39m*\u001b[39m\u001b[39mself\u001b[39m\u001b[39m.\u001b[39mkwargs)\n\u001b[0;32m     59\u001b[0m \u001b[39mexcept\u001b[39;00m \u001b[39mBaseException\u001b[39;00m \u001b[39mas\u001b[39;00m exc:\n\u001b[0;32m     60\u001b[0m     \u001b[39mself\u001b[39m\u001b[39m.\u001b[39mfuture\u001b[39m.\u001b[39mset_exception(exc)\n",
      "File \u001b[1;32m~\\AppData\\Roaming\\Python\\Python310\\site-packages\\qiskit\\primitives\\estimator.py:109\u001b[0m, in \u001b[0;36mEstimator._call\u001b[1;34m(self, circuits, observables, parameter_values, **run_options)\u001b[0m\n\u001b[0;32m    104\u001b[0m \u001b[39mif\u001b[39;00m circ\u001b[39m.\u001b[39mnum_qubits \u001b[39m!=\u001b[39m obs\u001b[39m.\u001b[39mnum_qubits:\n\u001b[0;32m    105\u001b[0m     \u001b[39mraise\u001b[39;00m QiskitError(\n\u001b[0;32m    106\u001b[0m         \u001b[39mf\u001b[39m\u001b[39m\"\u001b[39m\u001b[39mThe number of qubits of a circuit (\u001b[39m\u001b[39m{\u001b[39;00mcirc\u001b[39m.\u001b[39mnum_qubits\u001b[39m}\u001b[39;00m\u001b[39m) does not match \u001b[39m\u001b[39m\"\u001b[39m\n\u001b[0;32m    107\u001b[0m         \u001b[39mf\u001b[39m\u001b[39m\"\u001b[39m\u001b[39mthe number of qubits of a observable (\u001b[39m\u001b[39m{\u001b[39;00mobs\u001b[39m.\u001b[39mnum_qubits\u001b[39m}\u001b[39;00m\u001b[39m).\u001b[39m\u001b[39m\"\u001b[39m\n\u001b[0;32m    108\u001b[0m     )\n\u001b[1;32m--> 109\u001b[0m final_state \u001b[39m=\u001b[39m Statevector(bound_circuit_to_instruction(circ))\n\u001b[0;32m    110\u001b[0m expectation_value \u001b[39m=\u001b[39m final_state\u001b[39m.\u001b[39mexpectation_value(obs)\n\u001b[0;32m    111\u001b[0m \u001b[39mif\u001b[39;00m shots \u001b[39mis\u001b[39;00m \u001b[39mNone\u001b[39;00m:\n",
      "File \u001b[1;32m~\\AppData\\Roaming\\Python\\Python310\\site-packages\\qiskit\\quantum_info\\states\\statevector.py:91\u001b[0m, in \u001b[0;36mStatevector.__init__\u001b[1;34m(self, data, dims)\u001b[0m\n\u001b[0;32m     89\u001b[0m     \u001b[39mself\u001b[39m\u001b[39m.\u001b[39m_data \u001b[39m=\u001b[39m np\u001b[39m.\u001b[39mravel(data\u001b[39m.\u001b[39mdata)\n\u001b[0;32m     90\u001b[0m \u001b[39melif\u001b[39;00m \u001b[39misinstance\u001b[39m(data, (QuantumCircuit, Instruction)):\n\u001b[1;32m---> 91\u001b[0m     \u001b[39mself\u001b[39m\u001b[39m.\u001b[39m_data \u001b[39m=\u001b[39m Statevector\u001b[39m.\u001b[39;49mfrom_instruction(data)\u001b[39m.\u001b[39mdata\n\u001b[0;32m     92\u001b[0m \u001b[39melse\u001b[39;00m:\n\u001b[0;32m     93\u001b[0m     \u001b[39mraise\u001b[39;00m QiskitError(\u001b[39m\"\u001b[39m\u001b[39mInvalid input data format for Statevector\u001b[39m\u001b[39m\"\u001b[39m)\n",
      "File \u001b[1;32m~\\AppData\\Roaming\\Python\\Python310\\site-packages\\qiskit\\quantum_info\\states\\statevector.py:768\u001b[0m, in \u001b[0;36mStatevector.from_instruction\u001b[1;34m(cls, instruction)\u001b[0m\n\u001b[0;32m    766\u001b[0m init[\u001b[39m0\u001b[39m] \u001b[39m=\u001b[39m \u001b[39m1.0\u001b[39m\n\u001b[0;32m    767\u001b[0m vec \u001b[39m=\u001b[39m Statevector(init, dims\u001b[39m=\u001b[39minstruction\u001b[39m.\u001b[39mnum_qubits \u001b[39m*\u001b[39m (\u001b[39m2\u001b[39m,))\n\u001b[1;32m--> 768\u001b[0m \u001b[39mreturn\u001b[39;00m Statevector\u001b[39m.\u001b[39;49m_evolve_instruction(vec, instruction)\n",
      "File \u001b[1;32m~\\AppData\\Roaming\\Python\\Python310\\site-packages\\qiskit\\quantum_info\\states\\statevector.py:952\u001b[0m, in \u001b[0;36mStatevector._evolve_instruction\u001b[1;34m(statevec, obj, qargs)\u001b[0m\n\u001b[0;32m    950\u001b[0m \u001b[39mfor\u001b[39;00m instruction \u001b[39min\u001b[39;00m obj\u001b[39m.\u001b[39mdefinition:\n\u001b[0;32m    951\u001b[0m     \u001b[39mif\u001b[39;00m instruction\u001b[39m.\u001b[39mclbits:\n\u001b[1;32m--> 952\u001b[0m         \u001b[39mraise\u001b[39;00m QiskitError(\n\u001b[0;32m    953\u001b[0m             \u001b[39mf\u001b[39m\u001b[39m\"\u001b[39m\u001b[39mCannot apply instruction with classical bits: \u001b[39m\u001b[39m{\u001b[39;00minstruction\u001b[39m.\u001b[39moperation\u001b[39m.\u001b[39mname\u001b[39m}\u001b[39;00m\u001b[39m\"\u001b[39m\n\u001b[0;32m    954\u001b[0m         )\n\u001b[0;32m    955\u001b[0m     \u001b[39m# Get the integer position of the flat register\u001b[39;00m\n\u001b[0;32m    956\u001b[0m     \u001b[39mif\u001b[39;00m qargs \u001b[39mis\u001b[39;00m \u001b[39mNone\u001b[39;00m:\n",
      "\u001b[1;31mQiskitError\u001b[0m: 'Cannot apply instruction with classical bits: measure'"
     ]
    }
   ],
   "source": [
    "# The executor features a log of what is done in the background (useful for real backends):\n",
    "\n",
    "executor = Executor(\"qasm_simulator\", log_file=\"example_log.log\")\n",
    "executor.set_shots(1234)\n",
    "estimator = executor.get_estimator()\n",
    "\n",
    "#j=Estimator().run(circuit, observable, shots=4321)\n",
    "#j.result()\n",
    "\n",
    "print(estimator.run(circuit, observable, shots=4321).result())"
   ]
  },
  {
   "cell_type": "code",
   "execution_count": null,
   "metadata": {},
   "outputs": [],
   "source": [
    "# The executor features a cache where the result of jobs are stored and can be reused:\n",
    "\n",
    "executor = Executor(\n",
    "    BackendSampler(Aer.get_backend(\"qasm_simulator\")),\n",
    "    log_file=\"example_log_cache.log\",\n",
    "    caching=True,\n",
    "    cache_dir=\"_cache\",\n",
    ")\n",
    "executor.set_shots(1234)\n",
    "estimator = executor.get_estimator()\n",
    "print(estimator.run(circuit, observable, shots=4321).result())\n",
    "print(estimator.run(circuit, observable, shots=1234).result())\n",
    "print(estimator.run(circuit, observable, shots=4321).result())"
   ]
  }
 ],
 "metadata": {
  "kernelspec": {
   "display_name": "Python 3.10.2 64-bit",
   "language": "python",
   "name": "python3"
  },
  "language_info": {
   "codemirror_mode": {
    "name": "ipython",
    "version": 3
   },
   "file_extension": ".py",
   "mimetype": "text/x-python",
   "name": "python",
   "nbconvert_exporter": "python",
   "pygments_lexer": "ipython3",
   "version": "3.10.2"
  },
  "orig_nbformat": 4,
  "vscode": {
   "interpreter": {
    "hash": "26de051ba29f2982a8de78e945f0abaf191376122a1563185a90213a26c5da77"
   }
  }
 },
 "nbformat": 4,
 "nbformat_minor": 2
}
