{
 "cells": [
  {
   "cell_type": "code",
   "execution_count": null,
   "metadata": {},
   "outputs": [],
   "source": [
    "from squlearn import Executor\n",
    "from squlearn.kernel import FidelityKernel, ProjectedQuantumKernel\n",
    "from squlearn.encoding_circuit import ChebyshevTower, ChebyshevPQC, HubregtsenEncodingCircuit\n",
    "\n",
    "\n",
    "import pennylane as qml\n",
    "\n",
    "import numpy as np"
   ]
  },
  {
   "cell_type": "code",
   "execution_count": null,
   "metadata": {},
   "outputs": [],
   "source": [
    "#dev = qml.device('qiskit.ibmq', wires=14, shots=100000,backend='ibmq_qasm_simulator', ibmqx_token=\"1e1fcef3940bc7181262dbc135a052e83b17a669f187b1d6d7bde96ef3167078b55eb494f44f3b3de8ea934023da7a5eef3df4c6d27bf8ce7d48ca174c654cb7\")\n",
    "#print(dev.shots)\n",
    "\n",
    "dev = qml.device(\"default.qubit\", wires=4)\n",
    "#dev = qml.device(\"lightning.qubit\", wires=4)"
   ]
  },
  {
   "cell_type": "code",
   "execution_count": null,
   "metadata": {},
   "outputs": [],
   "source": [
    "print(dev.shots)"
   ]
  },
  {
   "cell_type": "code",
   "execution_count": null,
   "metadata": {},
   "outputs": [],
   "source": [
    "exec = Executor(dev,log_file=\"log.txt\")\n",
    "print(exec.is_statevector)"
   ]
  },
  {
   "cell_type": "markdown",
   "metadata": {},
   "source": []
  },
  {
   "cell_type": "code",
   "execution_count": null,
   "metadata": {},
   "outputs": [],
   "source": [
    "fm = ChebyshevTower(4,1,1)\n",
    "kernel = FidelityKernel(fm, exec)\n",
    "fm.num_parameters"
   ]
  },
  {
   "cell_type": "code",
   "execution_count": null,
   "metadata": {},
   "outputs": [],
   "source": [
    "np.random.seed(0)\n",
    "x = np.random.rand(25,1)\n",
    "y = np.random.rand(100,1)\n",
    "param = np.random.rand(fm.num_parameters)\n",
    "\n",
    "kernel.assign_parameters(param)\n",
    "print(kernel.evaluate(x, x))\n",
    "print(kernel.evaluate(x, y))"
   ]
  },
  {
   "cell_type": "markdown",
   "metadata": {},
   "source": []
  },
  {
   "cell_type": "code",
   "execution_count": null,
   "metadata": {},
   "outputs": [],
   "source": [
    "exec = Executor(\"statevector_simulator\",shots=1234)\n",
    "kernel2 = FidelityKernel(fm, exec)\n",
    "kernel2.assign_parameters(param)\n",
    "print(kernel2.evaluate(x, x))\n",
    "print(kernel2.evaluate(x, y))"
   ]
  }
 ],
 "metadata": {
  "kernelspec": {
   "display_name": ".venv",
   "language": "python",
   "name": "python3"
  },
  "language_info": {
   "codemirror_mode": {
    "name": "ipython",
    "version": 3
   },
   "file_extension": ".py",
   "mimetype": "text/x-python",
   "name": "python",
   "nbconvert_exporter": "python",
   "pygments_lexer": "ipython3",
   "version": "3.10.2"
  }
 },
 "nbformat": 4,
 "nbformat_minor": 2
}
