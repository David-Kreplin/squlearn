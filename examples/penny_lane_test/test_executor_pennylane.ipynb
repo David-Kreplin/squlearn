{
 "cells": [
  {
   "cell_type": "code",
   "execution_count": null,
   "metadata": {},
   "outputs": [],
   "source": [
    "import numpy as np\n",
    "import matplotlib.pyplot as plt\n",
    "\n",
    "from squlearn import Executor\n",
    "from squlearn.encoding_circuit import ChebyshevPQC\n",
    "from squlearn.observables import IsingHamiltonian, SummedPaulis\n",
    "from squlearn.qnn import QNNRegressor, SquaredLoss\n",
    "from squlearn.optimizers import SLSQP, Adam, SPSA#\n",
    "\n",
    "import pennylane as qml"
   ]
  },
  {
   "cell_type": "code",
   "execution_count": null,
   "metadata": {},
   "outputs": [],
   "source": [
    "executor = Executor(qml.device(\"default.qubit\",wires=4),caching=True)\n",
    "nqubits = 4\n",
    "number_of_layers = 3\n",
    "pqc = ChebyshevPQC(nqubits, 1, num_layers=number_of_layers)\n",
    "ising_op = SummedPaulis(nqubits)#, I=\"S\", Z=\"S\", ZZ=\"S\")\n",
    "np.random.seed(13)\n",
    "param_ini = np.random.rand(pqc.num_parameters)\n",
    "param_op_ini = np.random.rand(ising_op.num_parameters)\n",
    "reg = QNNRegressor(pqc, ising_op, executor, SquaredLoss(), SLSQP({\"maxiter\":20}), param_ini, param_op_ini,variance=0.005)\n",
    "x_space = np.arange(0.1, 0.9, 0.1)\n",
    "ref_values = np.log(x_space)\n",
    "reg.fit(x_space, ref_values)\n",
    "reg.param"
   ]
  }
 ],
 "metadata": {
  "language_info": {
   "name": "python"
  }
 },
 "nbformat": 4,
 "nbformat_minor": 2
}
