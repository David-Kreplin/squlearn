{
 "cells": [
  {
   "cell_type": "code",
   "execution_count": 1,
   "metadata": {},
   "outputs": [],
   "source": [
    "import numpy as np\n",
    "from squlearn.encoding_circuit import ChebyshevRx\n",
    "from squlearn.observables import SummedPaulis\n",
    "from squlearn.qnn import QNNRegressor,SquaredLoss\n",
    "from squlearn.util import Executor\n",
    "from squlearn.optimizers import Adam\n",
    "\n",
    "from qiskit_ibm_runtime import QiskitRuntimeService,Sampler,Session\n",
    "\n",
    "from qiskit import QuantumCircuit\n",
    "\n",
    "service = QiskitRuntimeService(channel=\"ibm_quantum\")"
   ]
  },
  {
   "cell_type": "code",
   "execution_count": 2,
   "metadata": {},
   "outputs": [
    {
     "name": "stdout",
     "output_type": "stream",
     "text": [
      "self._remote True\n",
      "Number of backends available with given parameters:12\n",
      "Mode: speed using Mapomatic\n",
      "Input circuit needs 4 qubits\n",
      "Least busy backend: ibm_algiers with 27 qubits\n",
      "Transpiled circuit needs 4 qubits on ibm_algiers\n",
      "Best sub-layout: [2, 3, 5, 8]. Error_rate: 0.01860819544865422\n",
      "self._qubit_map {0: 2, 1: 3, 2: 5, 3: 8}\n"
     ]
    }
   ],
   "source": [
    "exec = Executor( service, auto_backend_mode=\"speed\", log_file=\"qnn.log\")\n",
    "pqc = ChebyshevRx(4,1)\n",
    "obs = SummedPaulis(4)\n",
    "qnn = QNNRegressor(pqc, obs, exec, SquaredLoss(),Adam())"
   ]
  },
  {
   "cell_type": "code",
   "execution_count": 3,
   "metadata": {},
   "outputs": [
    {
     "name": "stderr",
     "output_type": "stream",
     "text": [
      "C:\\Users\\DKR\\Documents\\Git Repositories\\squlearn_fork\\squlearn\\src\\squlearn\\qnn\\qnnr.py:149: UserWarning: The model is not fitted.\n",
      "  warn(\"The model is not fitted.\")\n"
     ]
    },
    {
     "name": "stdout",
     "output_type": "stream",
     "text": [
      "[2.24812265 1.05266906 1.11497395]\n"
     ]
    }
   ],
   "source": [
    "x = np.array([[0.1],[0.5],[0.6]])\n",
    "y = qnn.predict(x)\n",
    "print(y)"
   ]
  }
 ],
 "metadata": {
  "kernelspec": {
   "display_name": "Python 3",
   "language": "python",
   "name": "python3"
  },
  "language_info": {
   "codemirror_mode": {
    "name": "ipython",
    "version": 3
   },
   "file_extension": ".py",
   "mimetype": "text/x-python",
   "name": "python",
   "nbconvert_exporter": "python",
   "pygments_lexer": "ipython3",
   "version": "3.10.2"
  }
 },
 "nbformat": 4,
 "nbformat_minor": 2
}
