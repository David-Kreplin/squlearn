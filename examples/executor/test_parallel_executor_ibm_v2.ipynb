{
 "cells": [
  {
   "cell_type": "code",
   "execution_count": 1,
   "metadata": {},
   "outputs": [
    {
     "name": "stdout",
     "output_type": "stream",
     "text": [
      "self._remote True\n",
      "self._estimator None\n",
      "type(self._estimator) <class 'NoneType'>\n"
     ]
    }
   ],
   "source": [
    "from squlearn.util import Executor\n",
    "from squlearn.util.execution import ParallelEstimator\n",
    "\n",
    "from qiskit_ibm_runtime import QiskitRuntimeService,Estimator,Session\n",
    "\n",
    "from qiskit import QuantumCircuit\n",
    "from qiskit.quantum_info import SparsePauliOp\n",
    "\n",
    "service = QiskitRuntimeService(channel=\"ibm_quantum\")\n",
    "executor = Executor(service.get_backend(\"ibm_hanoi\"),qpu_parallelization=3,caching=False)\n",
    "estim = executor.get_estimator()\n",
    "sampl = executor.get_sampler()"
   ]
  },
  {
   "cell_type": "code",
   "execution_count": 2,
   "metadata": {},
   "outputs": [
    {
     "name": "stdout",
     "output_type": "stream",
     "text": [
      "self._estimator None\n",
      "type(self._estimator) <class 'NoneType'>\n"
     ]
    }
   ],
   "source": [
    "executor.set_shots(1000)"
   ]
  },
  {
   "cell_type": "code",
   "execution_count": 3,
   "metadata": {},
   "outputs": [
    {
     "name": "stdout",
     "output_type": "stream",
     "text": [
      "self._estimator <qiskit_ibm_runtime.estimator.Estimator object at 0x000001529AAA90F0>\n",
      "type(self._estimator) <class 'qiskit_ibm_runtime.estimator.Estimator'>\n",
      "c\n",
      "Circuit with 3 qubits has been duplicated 3 times.\n",
      "Reducing shots from 1000 to 333\n",
      "Backend has 27 qubits.\n",
      "\n"
     ]
    },
    {
     "data": {
      "text/plain": [
       "EstimatorResult(values=array([0.96793023]), metadata=[{'variance': 0.052560042258521636, 'shots': 1000, 'readout_mitigation_num_twirled_circuits': 16, 'readout_mitigation_shots_calibration': 8192, 'warning': 'Optimization level clipped from 3 to 1'}])"
      ]
     },
     "execution_count": 3,
     "metadata": {},
     "output_type": "execute_result"
    }
   ],
   "source": [
    "qc = QuantumCircuit(3)\n",
    "qc.h(range(3))\n",
    "qc.ry(0.1,0)\n",
    "qc.cx(0,1)\n",
    "qc.cx(1,2)\n",
    "\n",
    "obs = SparsePauliOp(\"IXX\")\n",
    "\n",
    "estim.run(qc,obs).result()"
   ]
  },
  {
   "cell_type": "code",
   "execution_count": 4,
   "metadata": {},
   "outputs": [
    {
     "name": "stdout",
     "output_type": "stream",
     "text": [
      "self._estimator <squlearn.util.execution.parallel_estimator.ParallelEstimator object at 0x000001529AAA8AF0>\n",
      "type(self._estimator) <class 'squlearn.util.execution.parallel_estimator.ParallelEstimator'>\n",
      "d\n",
      "Circuit with 3 qubits has been duplicated 3 times.\n",
      "Reducing shots from 1234 to 411\n",
      "Backend has 27 qubits.\n",
      "\n"
     ]
    },
    {
     "data": {
      "text/plain": [
       "EstimatorResult(values=array([0.88091588]), metadata=[{'variance': 0.10173900571017697, 'shots': 1234, 'readout_mitigation_num_twirled_circuits': 16, 'readout_mitigation_shots_calibration': 8192, 'warning': 'Optimization level clipped from 3 to 1'}])"
      ]
     },
     "execution_count": 4,
     "metadata": {},
     "output_type": "execute_result"
    }
   ],
   "source": [
    "executor.set_shots(1234)\n",
    "\n",
    "estim.run(qc,obs).result()"
   ]
  },
  {
   "cell_type": "code",
   "execution_count": 5,
   "metadata": {},
   "outputs": [
    {
     "name": "stdout",
     "output_type": "stream",
     "text": [
      "self._estimator <squlearn.util.execution.parallel_estimator.ParallelEstimator object at 0x000001529AAA8AF0>\n",
      "type(self._estimator) <class 'squlearn.util.execution.parallel_estimator.ParallelEstimator'>\n",
      "d\n",
      "max_qubits 27\n",
      "\n",
      "Circuit with 3 qubits has been duplicated 3 times.\n",
      "Reducing shots from 1234 to 411\n",
      "Backend has 27 qubits.\n"
     ]
    },
    {
     "data": {
      "text/plain": [
       "SamplerResult(quasi_dists=[{0: 0.11574242408662311, 1: 0.14230100538711168, 2: 0.11751978249686633, 3: 0.10993493452159682, 4: 0.11287216233562042, 5: 0.12251835008314076, 6: 0.12936966039813927, 7: 0.14974168069090157}], metadata=[{'shots': 1234, 'circuit_metadata': {}, 'readout_mitigation_overhead': 1.5267393659497854, 'readout_mitigation_time': 0.3442540280520916, 'warning': 'Optimization level clipped from 3 to 1'}])"
      ]
     },
     "execution_count": 5,
     "metadata": {},
     "output_type": "execute_result"
    }
   ],
   "source": [
    "sampl.run(qc.measure_all(inplace=False)).result()"
   ]
  }
 ],
 "metadata": {
  "kernelspec": {
   "display_name": "Python 3",
   "language": "python",
   "name": "python3"
  },
  "language_info": {
   "codemirror_mode": {
    "name": "ipython",
    "version": 3
   },
   "file_extension": ".py",
   "mimetype": "text/x-python",
   "name": "python",
   "nbconvert_exporter": "python",
   "pygments_lexer": "ipython3",
   "version": "3.10.2"
  }
 },
 "nbformat": 4,
 "nbformat_minor": 2
}
