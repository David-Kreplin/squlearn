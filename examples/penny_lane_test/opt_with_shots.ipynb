{
 "cells": [
  {
   "cell_type": "code",
   "execution_count": null,
   "metadata": {},
   "outputs": [],
   "source": [
    "import numpy as np\n",
    "import matplotlib.pyplot as plt\n",
    "from squlearn import Executor\n",
    "from squlearn.encoding_circuit import ChebyshevPQC\n",
    "from squlearn.observables import SummedPaulis\n",
    "from squlearn.qnn import (\n",
    "QNNRegressor,\n",
    "SquaredLoss,\n",
    "ShotsFromRSTD)\n",
    "from squlearn.optimizers import Adam"
   ]
  },
  {
   "cell_type": "code",
   "execution_count": null,
   "metadata": {},
   "outputs": [],
   "source": [
    "# Initilize encoding circuit\n",
    "encoding_circuit = ChebyshevPQC(\n",
    "num_qubits=4, num_features=1, num_layers=1)\n",
    "\n",
    "# Initilize observable\n",
    "observable = SummedPaulis(num_qubits=4)"
   ]
  },
  {
   "cell_type": "code",
   "execution_count": null,
   "metadata": {},
   "outputs": [],
   "source": [
    "# Set-up QNN regression\n",
    "qnn = QNNRegressor(\n",
    "encoding_circuit,\n",
    "observable,\n",
    "Executor(\"qasm_simulator\",log_file=\"qnn.log\"),\n",
    "SquaredLoss(),\n",
    "Adam(options={\"lr\": 0.3,\"log_file\":\"adam.log\"}),\n",
    "variance=0.005,\n",
    "shot_control=ShotsFromRSTD()\n",
    ")"
   ]
  },
  {
   "cell_type": "code",
   "execution_count": null,
   "metadata": {},
   "outputs": [],
   "source": [
    "# Set training data\n",
    "x_train = np.arange(-0.7, 0.8, 0.1)\n",
    "y_train = np.abs(x_train)"
   ]
  },
  {
   "cell_type": "code",
   "execution_count": 5,
   "metadata": {},
   "outputs": [],
   "source": [
    "# Train the model\n",
    "qnn.fit(x_train, y_train)"
   ]
  },
  {
   "cell_type": "code",
   "execution_count": null,
   "metadata": {},
   "outputs": [],
   "source": [
    "# Data for testing the trained model\n",
    "x_test = np.arange(-0.8, 0.81, 0.01)\n",
    "y_test = qnn.predict(x_test)\n",
    "# Generate a plot of the QNN inference\n",
    "plt.plot(x_train, y_train, \"x\", label=\"Training data\")\n",
    "plt.plot(x_test, y_test, label=\"Prediction\")\n",
    "plt.title(\"Inference of the QNN on a noisy simulator\")\n",
    "plt.xlabel(\"$x$\")\n",
    "plt.ylabel(\"QNN Output\")\n",
    "plt.legend()\n",
    "plt.show()\n"
   ]
  }
 ],
 "metadata": {
  "kernelspec": {
   "display_name": ".venv",
   "language": "python",
   "name": "python3"
  },
  "language_info": {
   "codemirror_mode": {
    "name": "ipython",
    "version": 3
   },
   "file_extension": ".py",
   "mimetype": "text/x-python",
   "name": "python",
   "nbconvert_exporter": "python",
   "pygments_lexer": "ipython3",
   "version": "3.10.2"
  }
 },
 "nbformat": 4,
 "nbformat_minor": 2
}
