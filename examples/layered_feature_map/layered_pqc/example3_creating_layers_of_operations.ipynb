{
 "cells": [
  {
   "cell_type": "code",
   "execution_count": 1,
   "metadata": {},
   "outputs": [],
   "source": [
    "from squlearn.feature_map.layered_feature_map import LayeredPQC,VariableGroup,LayerPQC\n",
    "import numpy as np\n",
    "from qiskit.circuit import ParameterVector"
   ]
  },
  {
   "cell_type": "code",
   "execution_count": 2,
   "metadata": {},
   "outputs": [
    {
     "ename": "NameError",
     "evalue": "name 'LayerPQC' is not defined",
     "output_type": "error",
     "traceback": [
      "\u001b[1;31m---------------------------------------------------------------------------\u001b[0m",
      "\u001b[1;31mNameError\u001b[0m                                 Traceback (most recent call last)",
      "\u001b[1;32mc:\\Users\\DKR\\Documents\\Git Repositories\\squlearn\\examples\\layered_feature_map\\layered_pqc\\example3_creating_layers_of_operations.ipynb Cell 2\u001b[0m in \u001b[0;36m<cell line: 11>\u001b[1;34m()\u001b[0m\n\u001b[0;32m      <a href='vscode-notebook-cell:/c%3A/Users/DKR/Documents/Git%20Repositories/squlearn/examples/layered_feature_map/layered_pqc/example3_creating_layers_of_operations.ipynb#W1sZmlsZQ%3D%3D?line=6'>7</a>\u001b[0m feature_map_with_map \u001b[39m=\u001b[39m LayeredPQC(num_qubits\u001b[39m=\u001b[39m\u001b[39m4\u001b[39m, variable_groups\u001b[39m=\u001b[39m(a_var,b_var,c_var,d_var))\n\u001b[0;32m      <a href='vscode-notebook-cell:/c%3A/Users/DKR/Documents/Git%20Repositories/squlearn/examples/layered_feature_map/layered_pqc/example3_creating_layers_of_operations.ipynb#W1sZmlsZQ%3D%3D?line=8'>9</a>\u001b[0m \u001b[39m# -----------------------------------------------------------------------------------------------------------------------------------\u001b[39;00m\n\u001b[0;32m     <a href='vscode-notebook-cell:/c%3A/Users/DKR/Documents/Git%20Repositories/squlearn/examples/layered_feature_map/layered_pqc/example3_creating_layers_of_operations.ipynb#W1sZmlsZQ%3D%3D?line=9'>10</a>\u001b[0m \u001b[39m# You can create layers of operations:\u001b[39;00m\n\u001b[1;32m---> <a href='vscode-notebook-cell:/c%3A/Users/DKR/Documents/Git%20Repositories/squlearn/examples/layered_feature_map/layered_pqc/example3_creating_layers_of_operations.ipynb#W1sZmlsZQ%3D%3D?line=10'>11</a>\u001b[0m example_layer \u001b[39m=\u001b[39m LayerPQC(feature_map_with_map)\n\u001b[0;32m     <a href='vscode-notebook-cell:/c%3A/Users/DKR/Documents/Git%20Repositories/squlearn/examples/layered_feature_map/layered_pqc/example3_creating_layers_of_operations.ipynb#W1sZmlsZQ%3D%3D?line=11'>12</a>\u001b[0m example_layer\u001b[39m.\u001b[39mH()\n\u001b[0;32m     <a href='vscode-notebook-cell:/c%3A/Users/DKR/Documents/Git%20Repositories/squlearn/examples/layered_feature_map/layered_pqc/example3_creating_layers_of_operations.ipynb#W1sZmlsZQ%3D%3D?line=12'>13</a>\u001b[0m example_layer\u001b[39m.\u001b[39mRx(d_var)\n",
      "\u001b[1;31mNameError\u001b[0m: name 'LayerPQC' is not defined"
     ]
    }
   ],
   "source": [
    "\"\"\"Creating own layers of operations\"\"\"\n",
    "a_var = VariableGroup(\"a\",size = 4)\n",
    "b_var = VariableGroup(\"b\", size = 10)\n",
    "c_var = VariableGroup(\"c\")\n",
    "d_var = VariableGroup(\"d\")\n",
    "\n",
    "feature_map_with_map = LayeredPQC(num_qubits=4, variable_groups=(a_var,b_var,c_var,d_var))\n",
    "\n",
    "# -----------------------------------------------------------------------------------------------------------------------------------\n",
    "# You can create layers of operations:\n",
    "example_layer = LayerPQC(feature_map_with_map)\n",
    "example_layer.H()\n",
    "example_layer.Rx(d_var)\n",
    "example_layer.ch_entangling()\n",
    "# You can set the number of layers by num_layers = <number of layers you want>\n",
    "feature_map_with_map.add_layer(example_layer, num_layers=5)\n",
    "# -----------------------------------------------------------------------------------------------------------------------------------\n",
    "\n",
    "\n",
    "a1 = ParameterVector(\"a\",feature_map_with_map.get_number_of_variables(a_var))\n",
    "b1 = ParameterVector(\"b\",feature_map_with_map.get_number_of_variables(b_var))\n",
    "c1 = ParameterVector(\"c\",feature_map_with_map.get_number_of_variables(c_var))\n",
    "d1 = ParameterVector(\"d\",feature_map_with_map.get_number_of_variables(d_var))\n",
    "\n",
    "feature_map_with_map.get_circuit(a1,b1,c1,d1).draw()"
   ]
  }
 ],
 "metadata": {
  "kernelspec": {
   "display_name": "Python 3",
   "language": "python",
   "name": "python3"
  },
  "language_info": {
   "codemirror_mode": {
    "name": "ipython",
    "version": 3
   },
   "file_extension": ".py",
   "mimetype": "text/x-python",
   "name": "python",
   "nbconvert_exporter": "python",
   "pygments_lexer": "ipython3",
   "version": "3.10.2"
  },
  "orig_nbformat": 4
 },
 "nbformat": 4,
 "nbformat_minor": 2
}
