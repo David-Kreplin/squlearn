{
 "cells": [
  {
   "cell_type": "code",
   "execution_count": 1,
   "metadata": {},
   "outputs": [],
   "source": [
    "import numpy as np\n",
    "from qiskit.circuit import ParameterVector\n",
    "from squlearn.expectation_operator import SummedPaulis\n",
    "from qiskit.quantum_info import SparsePauliOp\n",
    "\n",
    "from squlearn.util.optree.optree_derivative import operator_derivative"
   ]
  },
  {
   "cell_type": "code",
   "execution_count": 2,
   "metadata": {},
   "outputs": [
    {
     "name": "stdout",
     "output_type": "stream",
     "text": [
      "SummedOp([\n",
      "  1.0*x[0] * IIIII,\n",
      "  1.0*x[1] * IIIIZ,\n",
      "  1.0*x[2] * IIIZI,\n",
      "  1.0*x[3] * IIZII,\n",
      "  1.0*x[4] * IZIII,\n",
      "  1.0*x[5] * ZIIII\n",
      "])\n"
     ]
    }
   ],
   "source": [
    "\n",
    "op = SummedPaulis(5)\n",
    "x=ParameterVector('x', op.num_parameters)\n",
    "e = op.get_pauli(x)\n",
    "print(e)"
   ]
  },
  {
   "cell_type": "code",
   "execution_count": 3,
   "metadata": {},
   "outputs": [
    {
     "name": "stdout",
     "output_type": "stream",
     "text": [
      "SparsePauliOp(['IIIII', 'IIIIZ', 'IIIZI', 'IIZII', 'IZIII', 'ZIIII'],\n",
      "              coeffs=[ParameterExpression(1.0*x[0]), ParameterExpression(1.0*x[1]),\n",
      " ParameterExpression(1.0*x[2]), ParameterExpression(1.0*x[3]),\n",
      " ParameterExpression(1.0*x[4]), ParameterExpression(1.0*x[5])])\n"
     ]
    }
   ],
   "source": [
    "e_sparse = op.get_pauli_new(x)\n",
    "print(e_sparse)"
   ]
  },
  {
   "cell_type": "code",
   "execution_count": 4,
   "metadata": {},
   "outputs": [
    {
     "data": {
      "text/plain": [
       "array([ParameterExpression(1.0*x[0]), ParameterExpression(1.0*x[1]),\n",
       "       ParameterExpression(1.0*x[2]), ParameterExpression(1.0*x[3]),\n",
       "       ParameterExpression(1.0*x[4]), ParameterExpression(1.0*x[5])],\n",
       "      dtype=object)"
      ]
     },
     "execution_count": 4,
     "metadata": {},
     "output_type": "execute_result"
    }
   ],
   "source": [
    "e_sparse.coeffs\n"
   ]
  },
  {
   "cell_type": "code",
   "execution_count": 5,
   "metadata": {},
   "outputs": [
    {
     "name": "stdout",
     "output_type": "stream",
     "text": [
      "debug\n"
     ]
    }
   ],
   "source": [
    "test = e_sparse.coeffs[0]._symbol_expr\n",
    "print(\"debug\")"
   ]
  },
  {
   "cell_type": "code",
   "execution_count": 6,
   "metadata": {},
   "outputs": [
    {
     "data": {
      "text/plain": [
       "PauliList(['IIIII', 'IIIIZ', 'IIIZI', 'IIZII', 'IZIII', 'ZIIII'])"
      ]
     },
     "execution_count": 6,
     "metadata": {},
     "output_type": "execute_result"
    }
   ],
   "source": [
    "e_sparse.paulis"
   ]
  },
  {
   "cell_type": "code",
   "execution_count": 7,
   "metadata": {},
   "outputs": [
    {
     "name": "stdout",
     "output_type": "stream",
     "text": [
      "d_coeff 0.0 <class 'float'> IIIII\n",
      "d_coeff 0.0 <class 'float'> IIIIZ\n",
      "d_coeff 1.0 <class 'float'> IIIZI\n",
      "d_coeff 0.0 <class 'float'> IIZII\n",
      "d_coeff 0.0 <class 'float'> IZIII\n",
      "d_coeff 0.0 <class 'float'> ZIIII\n"
     ]
    },
    {
     "data": {
      "text/plain": [
       "SparsePauliOp(['IIIZI'],\n",
       "              coeffs=[1.+0.j])"
      ]
     },
     "execution_count": 7,
     "metadata": {},
     "output_type": "execute_result"
    }
   ],
   "source": [
    "operator_derivative(e_sparse,x[2])"
   ]
  },
  {
   "cell_type": "code",
   "execution_count": 8,
   "metadata": {},
   "outputs": [
    {
     "name": "stdout",
     "output_type": "stream",
     "text": [
      "d_coeff x[2]*(0.5 + 1.0*I) <class 'qiskit.circuit.parameterexpression.ParameterExpression'> II\n",
      "d_coeff 1.0*x[2] <class 'qiskit.circuit.parameterexpression.ParameterExpression'> ZZ\n"
     ]
    },
    {
     "data": {
      "text/plain": [
       "SparsePauliOp(['II', 'ZZ'],\n",
       "              coeffs=[ParameterExpression(x[2]*(0.5 + 1.0*I)), ParameterExpression(1.0*x[2])])"
      ]
     },
     "execution_count": 8,
     "metadata": {},
     "output_type": "execute_result"
    }
   ],
   "source": [
    "op = SparsePauliOp([\"II\",\"ZZ\"],[(0.5+1j)*x[0]*x[2],np.arccos(x[0])*x[2]])\n",
    "operator_derivative(op,x[0])\n"
   ]
  },
  {
   "cell_type": "code",
   "execution_count": 9,
   "metadata": {},
   "outputs": [
    {
     "ename": "QiskitError",
     "evalue": "'Input Pauli list is empty.'",
     "output_type": "error",
     "traceback": [
      "\u001b[1;31m---------------------------------------------------------------------------\u001b[0m",
      "\u001b[1;31mQiskitError\u001b[0m                               Traceback (most recent call last)",
      "\u001b[1;32mc:\\Users\\DKR\\Documents\\Git Repositories\\squlearn_fork\\squlearn\\src\\squlearn\\opflow_mitigation\\test_op_derivative.ipynb Cell 9\u001b[0m in \u001b[0;36m<cell line: 1>\u001b[1;34m()\u001b[0m\n\u001b[1;32m----> <a href='vscode-notebook-cell:/c%3A/Users/DKR/Documents/Git%20Repositories/squlearn_fork/squlearn/src/squlearn/opflow_mitigation/test_op_derivative.ipynb#X20sZmlsZQ%3D%3D?line=0'>1</a>\u001b[0m SparsePauliOp([],[])\n",
      "File \u001b[1;32m~\\AppData\\Roaming\\Python\\Python310\\site-packages\\qiskit\\quantum_info\\operators\\symplectic\\sparse_pauli_op.py:127\u001b[0m, in \u001b[0;36mSparsePauliOp.__init__\u001b[1;34m(self, data, coeffs, ignore_pauli_phase, copy)\u001b[0m\n\u001b[0;32m    123\u001b[0m     \u001b[39m# `SparsePauliOp._pauli_list` is already compatible with the internal ZX-phase\u001b[39;00m\n\u001b[0;32m    124\u001b[0m     \u001b[39m# convention.  See `BasePauli._from_array` for the internal ZX-phase convention.\u001b[39;00m\n\u001b[0;32m    125\u001b[0m     ignore_pauli_phase \u001b[39m=\u001b[39m \u001b[39mTrue\u001b[39;00m\n\u001b[1;32m--> 127\u001b[0m pauli_list \u001b[39m=\u001b[39m PauliList(data\u001b[39m.\u001b[39;49mcopy() \u001b[39mif\u001b[39;49;00m copy \u001b[39mand\u001b[39;49;00m \u001b[39mhasattr\u001b[39;49m(data, \u001b[39m\"\u001b[39;49m\u001b[39mcopy\u001b[39;49m\u001b[39m\"\u001b[39;49m) \u001b[39melse\u001b[39;49;00m data)\n\u001b[0;32m    129\u001b[0m \u001b[39mif\u001b[39;00m \u001b[39misinstance\u001b[39m(coeffs, np\u001b[39m.\u001b[39mndarray) \u001b[39mand\u001b[39;00m coeffs\u001b[39m.\u001b[39mdtype \u001b[39m==\u001b[39m \u001b[39mobject\u001b[39m:\n\u001b[0;32m    130\u001b[0m     dtype \u001b[39m=\u001b[39m \u001b[39mobject\u001b[39m\n",
      "File \u001b[1;32m~\\AppData\\Roaming\\Python\\Python310\\site-packages\\qiskit\\quantum_info\\operators\\symplectic\\pauli_list.py:145\u001b[0m, in \u001b[0;36mPauliList.__init__\u001b[1;34m(self, data)\u001b[0m\n\u001b[0;32m    142\u001b[0m     base_z, base_x, base_phase \u001b[39m=\u001b[39m \u001b[39mself\u001b[39m\u001b[39m.\u001b[39m_from_array(data\u001b[39m.\u001b[39mZ, data\u001b[39m.\u001b[39mX)\n\u001b[0;32m    143\u001b[0m \u001b[39melse\u001b[39;00m:\n\u001b[0;32m    144\u001b[0m     \u001b[39m# Conversion as iterable of Paulis\u001b[39;00m\n\u001b[1;32m--> 145\u001b[0m     base_z, base_x, base_phase \u001b[39m=\u001b[39m \u001b[39mself\u001b[39;49m\u001b[39m.\u001b[39;49m_from_paulis(data)\n\u001b[0;32m    147\u001b[0m \u001b[39m# Initialize BasePauli\u001b[39;00m\n\u001b[0;32m    148\u001b[0m \u001b[39msuper\u001b[39m()\u001b[39m.\u001b[39m\u001b[39m__init__\u001b[39m(base_z, base_x, base_phase)\n",
      "File \u001b[1;32m~\\AppData\\Roaming\\Python\\Python310\\site-packages\\qiskit\\quantum_info\\operators\\symplectic\\pauli_list.py:186\u001b[0m, in \u001b[0;36mPauliList._from_paulis\u001b[1;34m(data)\u001b[0m\n\u001b[0;32m    184\u001b[0m num_paulis \u001b[39m=\u001b[39m \u001b[39mlen\u001b[39m(data)\n\u001b[0;32m    185\u001b[0m \u001b[39mif\u001b[39;00m num_paulis \u001b[39m==\u001b[39m \u001b[39m0\u001b[39m:\n\u001b[1;32m--> 186\u001b[0m     \u001b[39mraise\u001b[39;00m QiskitError(\u001b[39m\"\u001b[39m\u001b[39mInput Pauli list is empty.\u001b[39m\u001b[39m\"\u001b[39m)\n\u001b[0;32m    187\u001b[0m paulis \u001b[39m=\u001b[39m []\n\u001b[0;32m    188\u001b[0m \u001b[39mfor\u001b[39;00m i \u001b[39min\u001b[39;00m data:\n",
      "\u001b[1;31mQiskitError\u001b[0m: 'Input Pauli list is empty.'"
     ]
    }
   ],
   "source": [
    "SparsePauliOp([],[])"
   ]
  },
  {
   "cell_type": "code",
   "execution_count": null,
   "metadata": {},
   "outputs": [],
   "source": [
    "test = np.array([1.0*x[0],1.0*x[1]])\n",
    "test"
   ]
  },
  {
   "cell_type": "code",
   "execution_count": null,
   "metadata": {},
   "outputs": [],
   "source": [
    "for i,c in enumerate(test):\n",
    "    print(i,c,c._symbol_expr)\n",
    "    print(c.gradient(x[1]))"
   ]
  },
  {
   "cell_type": "code",
   "execution_count": null,
   "metadata": {},
   "outputs": [],
   "source": [
    "test = e_sparse.coeffs\n",
    "test"
   ]
  },
  {
   "cell_type": "code",
   "execution_count": null,
   "metadata": {},
   "outputs": [],
   "source": []
  },
  {
   "cell_type": "code",
   "execution_count": null,
   "metadata": {},
   "outputs": [],
   "source": [
    "for i,c in enumerate(test):\n",
    "    print(i,c)\n",
    "    print(c.gradient(x[1]))"
   ]
  },
  {
   "cell_type": "code",
   "execution_count": null,
   "metadata": {},
   "outputs": [],
   "source": []
  }
 ],
 "metadata": {
  "kernelspec": {
   "display_name": "Python 3",
   "language": "python",
   "name": "python3"
  },
  "language_info": {
   "codemirror_mode": {
    "name": "ipython",
    "version": 3
   },
   "file_extension": ".py",
   "mimetype": "text/x-python",
   "name": "python",
   "nbconvert_exporter": "python",
   "pygments_lexer": "ipython3",
   "version": "3.10.2"
  },
  "orig_nbformat": 4
 },
 "nbformat": 4,
 "nbformat_minor": 2
}
