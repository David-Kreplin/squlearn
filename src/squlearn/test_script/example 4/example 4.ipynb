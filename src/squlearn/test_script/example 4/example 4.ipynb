{
 "cells": [
  {
   "cell_type": "code",
   "execution_count": null,
   "metadata": {},
   "outputs": [],
   "source": [
    "import numpy as np\n",
    "import matplotlib.pyplot as plt\n",
    "\n",
    "from qiskit import QuantumCircuit\n",
    "from qiskit.circuit import ParameterVector\n",
    "\n",
    "from squlearn import Executor\n",
    "from squlearn.encoding_circuit import QiskitEncodingCircuit\n",
    "from squlearn.observables import SinglePauli\n",
    "from squlearn.qnn import QNNRegressor, SquaredLoss\n",
    "from squlearn.optimizers import Adam, SLSQP, SGLBO"
   ]
  },
  {
   "cell_type": "code",
   "execution_count": null,
   "metadata": {},
   "outputs": [],
   "source": [
    "nqubits = 4\n",
    "\n",
    "qc = QuantumCircuit(4)\n",
    "p = ParameterVector('p', 8)\n",
    "x = ParameterVector('x', 1)\n",
    "\n",
    "p2 = np.array([-0.13005136, -1.34331017,  2.44392299, 1.64405423, -0.36315523, 0.45344925,\n",
    "  0.18577077, -0.13904446])\n",
    "\n",
    "qc.rx(1*np.arccos(x[0]), 0)\n",
    "qc.rx(2*np.arccos(x[0]), 1)\n",
    "qc.rx(3*np.arccos(x[0]), 2)\n",
    "qc.rx(4*np.arccos(x[0]), 3)\n",
    "\n",
    "qc.ry(p[0], 0)\n",
    "qc.ry(p[1], 1)\n",
    "qc.ry(p[2], 2)\n",
    "qc.ry(p[3], 3)\n",
    "\n",
    "qc.cx(0, 1)\n",
    "qc.cx(2, 3)\n",
    "qc.cx(1, 2)\n",
    "qc.cx(3, 0)\n",
    "\n",
    "qc.rx(1*np.arccos(x[0]), 0)\n",
    "qc.rx(2*np.arccos(x[0]), 1)\n",
    "qc.rx(3*np.arccos(x[0]), 2)\n",
    "qc.rx(4*np.arccos(x[0]), 3)\n",
    "\n",
    "qc.ry(p[4], 0)\n",
    "qc.ry(p[5], 1)\n",
    "qc.ry(p[6], 2)\n",
    "qc.ry(p[7], 3)\n",
    "\n",
    "qc.cx(0, 1)\n",
    "qc.cx(2, 3)\n",
    "qc.cx(1, 2)\n",
    "qc.cx(3, 0)\n",
    "\n",
    "\n",
    "pqc = QiskitEncodingCircuit(qc)\n",
    "pqc.draw()"
   ]
  },
  {
   "cell_type": "code",
   "execution_count": null,
   "metadata": {},
   "outputs": [],
   "source": [
    "op = SinglePauli(nqubits,qubit=0,parameterized=True)\n",
    "print(op)"
   ]
  },
  {
   "cell_type": "code",
   "execution_count": null,
   "metadata": {},
   "outputs": [],
   "source": [
    "op.num_parameters"
   ]
  },
  {
   "cell_type": "code",
   "execution_count": null,
   "metadata": {},
   "outputs": [],
   "source": [
    "# Randomly initialize parameters of the encoding circuit\n",
    "np.random.seed(13)\n",
    "param_ini =  np.random.rand(pqc.num_parameters)\n",
    "# Initialize parameters of the observable as ones\n",
    "param_op_ini = np.ones(op.num_parameters)\n",
    "x0 = [[i * 0.3] for i in range(15)]\n",
    "optimizer_options = {\"bo_aqc_func\": \"EI\", \"bo_aqc_optimizer\": \"lbfgs\", \"bo_bounds\": [(0.0, 5.0)], \"log_file\": \"sglbo_noiseless.log\",\n",
    "                     \"bo_n_calls\": 30, \"bo_x0_points\": x0, \"maxiter\": 100}\n",
    "\n",
    "qnn_simulator = QNNRegressor(\n",
    "    pqc,\n",
    "    op,\n",
    "    Executor(\"qasm_simulator\"),\n",
    "    SquaredLoss(),\n",
    "    #SGLBO(optimizer_options),\n",
    "    #SLSQP(),\n",
    "    Adam({\"lr\": 0.2,\"log_file\": \"adam_noiseless.log\"}),\n",
    "    param_ini,\n",
    "    param_op_ini=param_op_ini,\n",
    "    opt_param_op=True, # Keine Observablen optimierung\n",
    "    parameter_seed=124\n",
    ")"
   ]
  },
  {
   "cell_type": "code",
   "execution_count": null,
   "metadata": {},
   "outputs": [],
   "source": [
    "# Data that is inputted to the QNN\n",
    "x_train = np.arange(-0.5, 0.6, 0.1)\n",
    "# Data that is fitted by the QNN\n",
    "y_train = np.sin(6.0*x_train)"
   ]
  },
  {
   "cell_type": "code",
   "execution_count": 7,
   "metadata": {},
   "outputs": [
    {
     "ename": "KeyboardInterrupt",
     "evalue": "",
     "output_type": "error",
     "traceback": [
      "\u001b[1;31m---------------------------------------------------------------------------\u001b[0m",
      "\u001b[1;31mKeyboardInterrupt\u001b[0m                         Traceback (most recent call last)",
      "\u001b[1;32mc:\\Users\\DKR\\Documents\\Git Repositories\\squlearn_fork\\squlearn\\src\\squlearn\\test_script\\example 4\\example 4.ipynb Cell 7\u001b[0m line \u001b[0;36m<cell line: 1>\u001b[1;34m()\u001b[0m\n\u001b[1;32m----> <a href='vscode-notebook-cell:/c%3A/Users/DKR/Documents/Git%20Repositories/squlearn_fork/squlearn/src/squlearn/test_script/example%204/example%204.ipynb#W6sZmlsZQ%3D%3D?line=0'>1</a>\u001b[0m qnn_simulator\u001b[39m.\u001b[39;49mfit(x_train, y_train)\n",
      "File \u001b[1;32m~\\Documents\\Git Repositories\\squlearn_fork\\squlearn\\src\\squlearn\\qnn\\base_qnn.py:196\u001b[0m, in \u001b[0;36mBaseQNN.fit\u001b[1;34m(self, X, y, weights)\u001b[0m\n\u001b[0;32m    194\u001b[0m \u001b[39mself\u001b[39m\u001b[39m.\u001b[39m_param_op \u001b[39m=\u001b[39m \u001b[39mself\u001b[39m\u001b[39m.\u001b[39mparam_op_ini\u001b[39m.\u001b[39mcopy()\n\u001b[0;32m    195\u001b[0m \u001b[39mself\u001b[39m\u001b[39m.\u001b[39m_is_fitted \u001b[39m=\u001b[39m \u001b[39mFalse\u001b[39;00m\n\u001b[1;32m--> 196\u001b[0m \u001b[39mself\u001b[39;49m\u001b[39m.\u001b[39;49m_fit(X, y, weights)\n",
      "File \u001b[1;32m~\\Documents\\Git Repositories\\squlearn_fork\\squlearn\\src\\squlearn\\qnn\\qnnr.py:239\u001b[0m, in \u001b[0;36mQNNRegressor._fit\u001b[1;34m(self, X, y, weights)\u001b[0m\n\u001b[0;32m    237\u001b[0m \u001b[39mif\u001b[39;00m \u001b[39mself\u001b[39m\u001b[39m.\u001b[39mcallback \u001b[39m==\u001b[39m \u001b[39m\"\u001b[39m\u001b[39mpbar\u001b[39m\u001b[39m\"\u001b[39m:\n\u001b[0;32m    238\u001b[0m     \u001b[39mself\u001b[39m\u001b[39m.\u001b[39m_pbar \u001b[39m=\u001b[39m tqdm(total\u001b[39m=\u001b[39m\u001b[39mself\u001b[39m\u001b[39m.\u001b[39m_total_iterations, desc\u001b[39m=\u001b[39m\u001b[39m\"\u001b[39m\u001b[39mfit\u001b[39m\u001b[39m\"\u001b[39m, file\u001b[39m=\u001b[39msys\u001b[39m.\u001b[39mstdout)\n\u001b[1;32m--> 239\u001b[0m \u001b[39mself\u001b[39;49m\u001b[39m.\u001b[39;49mpartial_fit(X, y, weights)\n",
      "File \u001b[1;32m~\\Documents\\Git Repositories\\squlearn_fork\\squlearn\\src\\squlearn\\qnn\\qnnr.py:208\u001b[0m, in \u001b[0;36mQNNRegressor.partial_fit\u001b[1;34m(self, X, y, weights)\u001b[0m\n\u001b[0;32m    206\u001b[0m \u001b[39melse\u001b[39;00m:\n\u001b[0;32m    207\u001b[0m     \u001b[39mif\u001b[39;00m \u001b[39mself\u001b[39m\u001b[39m.\u001b[39mopt_param_op:\n\u001b[1;32m--> 208\u001b[0m         \u001b[39mself\u001b[39m\u001b[39m.\u001b[39m_param, \u001b[39mself\u001b[39m\u001b[39m.\u001b[39m_param_op \u001b[39m=\u001b[39m train(\n\u001b[0;32m    209\u001b[0m             \u001b[39mself\u001b[39;49m\u001b[39m.\u001b[39;49m_qnn,\n\u001b[0;32m    210\u001b[0m             X,\n\u001b[0;32m    211\u001b[0m             y,\n\u001b[0;32m    212\u001b[0m             \u001b[39mself\u001b[39;49m\u001b[39m.\u001b[39;49m_param,\n\u001b[0;32m    213\u001b[0m             \u001b[39mself\u001b[39;49m\u001b[39m.\u001b[39;49m_param_op,\n\u001b[0;32m    214\u001b[0m             loss,\n\u001b[0;32m    215\u001b[0m             \u001b[39mself\u001b[39;49m\u001b[39m.\u001b[39;49moptimizer,\n\u001b[0;32m    216\u001b[0m             \u001b[39mself\u001b[39;49m\u001b[39m.\u001b[39;49mshot_control,\n\u001b[0;32m    217\u001b[0m             weights,\n\u001b[0;32m    218\u001b[0m             \u001b[39mTrue\u001b[39;49;00m,\n\u001b[0;32m    219\u001b[0m         )\n\u001b[0;32m    220\u001b[0m     \u001b[39melse\u001b[39;00m:\n\u001b[0;32m    221\u001b[0m         \u001b[39mself\u001b[39m\u001b[39m.\u001b[39m_param \u001b[39m=\u001b[39m train(\n\u001b[0;32m    222\u001b[0m             \u001b[39mself\u001b[39m\u001b[39m.\u001b[39m_qnn,\n\u001b[0;32m    223\u001b[0m             X,\n\u001b[1;32m   (...)\u001b[0m\n\u001b[0;32m    231\u001b[0m             \u001b[39mFalse\u001b[39;00m,\n\u001b[0;32m    232\u001b[0m         )\n",
      "File \u001b[1;32m~\\Documents\\Git Repositories\\squlearn_fork\\squlearn\\src\\squlearn\\qnn\\training.py:383\u001b[0m, in \u001b[0;36mtrain\u001b[1;34m(qnn, input_values, ground_truth, param_ini, param_op_ini, loss, optimizer, shot_control, weights, opt_param_op)\u001b[0m\n\u001b[0;32m    380\u001b[0m     \u001b[39melse\u001b[39;00m:\n\u001b[0;32m    381\u001b[0m         \u001b[39mreturn\u001b[39;00m np\u001b[39m.\u001b[39marray([])\n\u001b[1;32m--> 383\u001b[0m result \u001b[39m=\u001b[39m optimizer\u001b[39m.\u001b[39;49mminimize(_fun, val_ini, _grad, bounds\u001b[39m=\u001b[39;49m\u001b[39mNone\u001b[39;49;00m)\n\u001b[0;32m    385\u001b[0m \u001b[39mif\u001b[39;00m \u001b[39mhasattr\u001b[39m(result, \u001b[39m\"\u001b[39m\u001b[39mx\u001b[39m\u001b[39m\"\u001b[39m):\n\u001b[0;32m    386\u001b[0m     result \u001b[39m=\u001b[39m result\u001b[39m.\u001b[39mx\n",
      "File \u001b[1;32m~\\Documents\\Git Repositories\\squlearn_fork\\squlearn\\src\\squlearn\\optimizers\\adam.py:129\u001b[0m, in \u001b[0;36mAdam.minimize\u001b[1;34m(self, fun, x0, grad, bounds)\u001b[0m\n\u001b[0;32m    125\u001b[0m     fval \u001b[39m=\u001b[39m fun(\u001b[39mself\u001b[39m\u001b[39m.\u001b[39mx)\n\u001b[0;32m    127\u001b[0m \u001b[39m# Calculate the gradient and average it over the last num_average gradients\u001b[39;00m\n\u001b[0;32m    128\u001b[0m \u001b[39m# (1 is default: no averaging)\u001b[39;00m\n\u001b[1;32m--> 129\u001b[0m \u001b[39mself\u001b[39m\u001b[39m.\u001b[39mgradient_deque\u001b[39m.\u001b[39mappend(grad(\u001b[39mself\u001b[39;49m\u001b[39m.\u001b[39;49mx))\n\u001b[0;32m    130\u001b[0m gradient \u001b[39m=\u001b[39m np\u001b[39m.\u001b[39maverage(\u001b[39mself\u001b[39m\u001b[39m.\u001b[39mgradient_deque, axis\u001b[39m=\u001b[39m\u001b[39m0\u001b[39m)\n\u001b[0;32m    132\u001b[0m x_updated \u001b[39m=\u001b[39m \u001b[39mself\u001b[39m\u001b[39m.\u001b[39mstep(x\u001b[39m=\u001b[39m\u001b[39mself\u001b[39m\u001b[39m.\u001b[39mx, grad\u001b[39m=\u001b[39mgradient)\n",
      "File \u001b[1;32m~\\Documents\\Git Repositories\\squlearn_fork\\squlearn\\src\\squlearn\\qnn\\training.py:357\u001b[0m, in \u001b[0;36mtrain.<locals>._grad\u001b[1;34m(theta)\u001b[0m\n\u001b[0;32m    354\u001b[0m         \u001b[39melse\u001b[39;00m:\n\u001b[0;32m    355\u001b[0m             \u001b[39mraise\u001b[39;00m \u001b[39mValueError\u001b[39;00m(\u001b[39m\"\u001b[39m\u001b[39mLoss variance necessary for ShotsFromRSTD shot control\u001b[39m\u001b[39m\"\u001b[39m)\n\u001b[1;32m--> 357\u001b[0m grad_values \u001b[39m=\u001b[39m qnn\u001b[39m.\u001b[39;49mevaluate(loss\u001b[39m.\u001b[39;49mgradient_args_tuple, input_values, param_, param_op_)\n\u001b[0;32m    358\u001b[0m grad \u001b[39m=\u001b[39m np\u001b[39m.\u001b[39mconcatenate(\n\u001b[0;32m    359\u001b[0m     loss\u001b[39m.\u001b[39mgradient(\n\u001b[0;32m    360\u001b[0m         grad_values,\n\u001b[1;32m   (...)\u001b[0m\n\u001b[0;32m    367\u001b[0m     axis\u001b[39m=\u001b[39m\u001b[39mNone\u001b[39;00m,\n\u001b[0;32m    368\u001b[0m )\n\u001b[0;32m    370\u001b[0m \u001b[39mwith\u001b[39;00m \u001b[39mopen\u001b[39m(\u001b[39m\"\u001b[39m\u001b[39msglbo_noiseless_gradient2.log\u001b[39m\u001b[39m\"\u001b[39m, \u001b[39m'\u001b[39m\u001b[39ma\u001b[39m\u001b[39m'\u001b[39m) \u001b[39mas\u001b[39;00m datei:\n",
      "File \u001b[1;32m~\\Documents\\Git Repositories\\squlearn_fork\\squlearn\\src\\squlearn\\qnn\\qnn.py:935\u001b[0m, in \u001b[0;36mQNN.evaluate\u001b[1;34m(self, values, x, param, param_op)\u001b[0m\n\u001b[0;32m    931\u001b[0m     val \u001b[39m=\u001b[39m OpTree\u001b[39m.\u001b[39mevaluate\u001b[39m.\u001b[39mevaluate_with_sampler(\n\u001b[0;32m    932\u001b[0m         pqc_optree, operators, dict_encoding_circuit, dict_operator, \u001b[39mself\u001b[39m\u001b[39m.\u001b[39m_sampler\n\u001b[0;32m    933\u001b[0m     )\n\u001b[0;32m    934\u001b[0m \u001b[39melif\u001b[39;00m \u001b[39mself\u001b[39m\u001b[39m.\u001b[39m_estimator \u001b[39mis\u001b[39;00m \u001b[39mnot\u001b[39;00m \u001b[39mNone\u001b[39;00m:\n\u001b[1;32m--> 935\u001b[0m     val \u001b[39m=\u001b[39m OpTree\u001b[39m.\u001b[39;49mevaluate\u001b[39m.\u001b[39;49mevaluate_with_estimator(\n\u001b[0;32m    936\u001b[0m         pqc_optree, operators, dict_encoding_circuit, dict_operator, \u001b[39mself\u001b[39;49m\u001b[39m.\u001b[39;49m_estimator\n\u001b[0;32m    937\u001b[0m     )\n\u001b[0;32m    938\u001b[0m \u001b[39melse\u001b[39;00m:\n\u001b[0;32m    939\u001b[0m     \u001b[39mraise\u001b[39;00m \u001b[39mValueError\u001b[39;00m(\u001b[39m\"\u001b[39m\u001b[39mNo execution is set!\u001b[39m\u001b[39m\"\u001b[39m)\n",
      "File \u001b[1;32m~\\Documents\\Git Repositories\\squlearn_fork\\squlearn\\src\\squlearn\\util\\optree\\optree_evaluate.py:1222\u001b[0m, in \u001b[0;36mOpTreeEvaluate.evaluate_with_estimator\u001b[1;34m(circuit, operator, dictionary_circuit, dictionary_operator, estimator, dictionaries_combined, detect_duplicates)\u001b[0m\n\u001b[0;32m   1218\u001b[0m \u001b[39mif\u001b[39;00m \u001b[39mlen\u001b[39m(total_circuit_list) \u001b[39m==\u001b[39m \u001b[39m0\u001b[39m:\n\u001b[0;32m   1219\u001b[0m     \u001b[39mreturn\u001b[39;00m np\u001b[39m.\u001b[39marray([])\n\u001b[0;32m   1221\u001b[0m estimator_result \u001b[39m=\u001b[39m (\n\u001b[1;32m-> 1222\u001b[0m     estimator\u001b[39m.\u001b[39;49mrun(total_circuit_list, total_operator_list, total_parameter_list)\n\u001b[0;32m   1223\u001b[0m     \u001b[39m.\u001b[39mresult()\n\u001b[0;32m   1224\u001b[0m     \u001b[39m.\u001b[39mvalues\n\u001b[0;32m   1225\u001b[0m )\n\u001b[0;32m   1226\u001b[0m \u001b[39m# print(\"Estimator run time: \", time.time() - start)\u001b[39;00m\n\u001b[0;32m   1227\u001b[0m \n\u001b[0;32m   1228\u001b[0m \u001b[39m# Assembly the final values from the evaluation tree\u001b[39;00m\n\u001b[0;32m   1229\u001b[0m start \u001b[39m=\u001b[39m time\u001b[39m.\u001b[39mtime()\n",
      "File \u001b[1;32m~\\Documents\\Git Repositories\\squlearn_fork\\squlearn\\src\\squlearn\\util\\executor.py:1177\u001b[0m, in \u001b[0;36mExecutorEstimator.run\u001b[1;34m(self, circuits, observables, parameter_values, **run_options)\u001b[0m\n\u001b[0;32m   1163\u001b[0m \u001b[39mdef\u001b[39;00m \u001b[39mrun\u001b[39m(\n\u001b[0;32m   1164\u001b[0m     \u001b[39mself\u001b[39m,\n\u001b[0;32m   1165\u001b[0m     circuits,\n\u001b[1;32m   (...)\u001b[0m\n\u001b[0;32m   1168\u001b[0m     \u001b[39m*\u001b[39m\u001b[39m*\u001b[39mrun_options,\n\u001b[0;32m   1169\u001b[0m ) \u001b[39m-\u001b[39m\u001b[39m>\u001b[39m Job:\n\u001b[0;32m   1170\u001b[0m \u001b[39m    \u001b[39m\u001b[39m\"\"\"\u001b[39;00m\n\u001b[0;32m   1171\u001b[0m \u001b[39m    Overwrites the sampler primitive run method, to evaluate expectation values.\u001b[39;00m\n\u001b[0;32m   1172\u001b[0m \u001b[39m    Uses the Executor class for automatic session handling.\u001b[39;00m\n\u001b[1;32m   (...)\u001b[0m\n\u001b[0;32m   1175\u001b[0m \n\u001b[0;32m   1176\u001b[0m \u001b[39m    \"\"\"\u001b[39;00m\n\u001b[1;32m-> 1177\u001b[0m     \u001b[39mreturn\u001b[39;00m \u001b[39mself\u001b[39m\u001b[39m.\u001b[39m_executor\u001b[39m.\u001b[39mestimator_run(\n\u001b[0;32m   1178\u001b[0m         circuits\u001b[39m=\u001b[39mcircuits,\n\u001b[0;32m   1179\u001b[0m         observables\u001b[39m=\u001b[39mobservables,\n\u001b[0;32m   1180\u001b[0m         parameter_values\u001b[39m=\u001b[39mparameter_values,\n\u001b[0;32m   1181\u001b[0m         \u001b[39m*\u001b[39m\u001b[39m*\u001b[39mrun_options,\n\u001b[0;32m   1182\u001b[0m     )\n",
      "File \u001b[1;32m~\\Documents\\Git Repositories\\squlearn_fork\\squlearn\\src\\squlearn\\util\\executor.py:748\u001b[0m, in \u001b[0;36mExecutor.estimator_run\u001b[1;34m(self, circuits, observables, parameter_values, **kwargs)\u001b[0m\n\u001b[0;32m    745\u001b[0m \u001b[39melse\u001b[39;00m:\n\u001b[0;32m    746\u001b[0m     \u001b[39mself\u001b[39m\u001b[39m.\u001b[39m_total_shots \u001b[39m+\u001b[39m\u001b[39m=\u001b[39m number_of_shots\n\u001b[1;32m--> 748\u001b[0m \u001b[39mreturn\u001b[39;00m \u001b[39mself\u001b[39;49m\u001b[39m.\u001b[39;49m_primitive_run(run, \u001b[39m\"\u001b[39;49m\u001b[39mestimator\u001b[39;49m\u001b[39m\"\u001b[39;49m, hash_value)\n",
      "File \u001b[1;32m~\\Documents\\Git Repositories\\squlearn_fork\\squlearn\\src\\squlearn\\util\\executor.py:611\u001b[0m, in \u001b[0;36mExecutor._primitive_run\u001b[1;34m(self, run, label, hash_value)\u001b[0m\n\u001b[0;32m    609\u001b[0m         time\u001b[39m.\u001b[39msleep(\u001b[39m1\u001b[39m)\n\u001b[0;32m    610\u001b[0m     \u001b[39melse\u001b[39;00m:\n\u001b[1;32m--> 611\u001b[0m         time\u001b[39m.\u001b[39;49msleep(\u001b[39m0.01\u001b[39;49m)\n\u001b[0;32m    613\u001b[0m \u001b[39m# Job is completed, check if it was successful\u001b[39;00m\n\u001b[0;32m    614\u001b[0m \u001b[39mif\u001b[39;00m status \u001b[39m==\u001b[39m JobStatus\u001b[39m.\u001b[39mERROR:\n",
      "\u001b[1;31mKeyboardInterrupt\u001b[0m: "
     ]
    }
   ],
   "source": [
    "qnn_simulator.fit(x_train, y_train)"
   ]
  },
  {
   "cell_type": "code",
   "execution_count": null,
   "metadata": {},
   "outputs": [],
   "source": [
    "print(\"Result encoding parameters:\", qnn_simulator.param)\n",
    "print(\"Result observable parameters:\", qnn_simulator.param_op)"
   ]
  },
  {
   "cell_type": "code",
   "execution_count": null,
   "metadata": {},
   "outputs": [],
   "source": [
    "x = np.arange(np.min(x_train), np.max(x_train) + 0.01, 0.01)\n",
    "y = qnn_simulator.predict(x)  # function for evaluating the prediction of the QNN\n",
    "plt.plot(x, np.sin(6.0*x), label=\"Parabola function\")\n",
    "plt.plot(x, y, label=\"QNN inference\")\n",
    "plt.plot(x_train, y_train, \"x\", label=\"training data\")\n",
    "plt.legend()\n",
    "plt.title(\"QNN inference of a parabola function\")\n",
    "plt.show()"
   ]
  }
 ],
 "metadata": {
  "interpreter": {
   "hash": "26de051ba29f2982a8de78e945f0abaf191376122a1563185a90213a26c5da77"
  },
  "kernelspec": {
   "display_name": "Python 3.10.2 64-bit",
   "language": "python",
   "name": "python3"
  },
  "language_info": {
   "codemirror_mode": {
    "name": "ipython",
    "version": 3
   },
   "file_extension": ".py",
   "mimetype": "text/x-python",
   "name": "python",
   "nbconvert_exporter": "python",
   "pygments_lexer": "ipython3",
   "version": "3.10.2"
  },
  "orig_nbformat": 4
 },
 "nbformat": 4,
 "nbformat_minor": 2
}
