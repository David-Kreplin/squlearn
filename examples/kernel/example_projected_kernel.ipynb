{
 "cells": [
  {
   "attachments": {},
   "cell_type": "markdown",
   "metadata": {},
   "source": [
    "This notebook demonstrates how to calculate a projected quantum kernel. It applies the kernel to classify a two-moon dataset using an SVM algorithm. The kernel is defined using a quantum neural network (QNN) and a Chebyshev polynomial parameterized quantum circuit (PQC) feature map. The QNN includes Pauli Z, X, and Y expectation values as cost operators, which are used to estimate the kernel matrix elements. The kernel is evaluated for a given set of parameters and used to train an SVM classifier. Finally, the accuracy score and decision function of the classifier are plotted."
   ]
  },
  {
   "cell_type": "code",
   "execution_count": 1,
   "metadata": {},
   "outputs": [],
   "source": [
    "import numpy as np\n",
    "from qiskit import Aer\n",
    "from qiskit.circuit import ParameterVector\n",
    "from qiskit.primitives import Estimator\n",
    "import matplotlib as mpl\n",
    "import matplotlib.pyplot as plt\n",
    "from sklearn.datasets import make_moons\n",
    "from sklearn.preprocessing import MinMaxScaler\n",
    "from sklearn import svm\n",
    "from sklearn.metrics import accuracy_score\n",
    "\n",
    "from squlearn.kernel.matrix import ProjectedQuantumKernel\n",
    "from squlearn.feature_map import ChebPQC,LayeredFeatureMap\n",
    "from squlearn.util import Executor"
   ]
  },
  {
   "cell_type": "code",
   "execution_count": 2,
   "metadata": {},
   "outputs": [
    {
     "data": {
      "image/png": "[encoded data removed]",
      "text/plain": [
       "<Figure size 146.797x264.88 with 1 Axes>"
      ]
     },
     "execution_count": 2,
     "metadata": {},
     "output_type": "execute_result"
    }
   ],
   "source": [
    "nqubits = 4\n",
    "number_of_layers = 3\n",
    "pqc = LayeredFeatureMap.from_string(\"Ry(x)\",num_qubits=4,num_features=1)\n",
    "pqc.draw()"
   ]
  },
  {
   "cell_type": "code",
   "execution_count": 3,
   "metadata": {},
   "outputs": [],
   "source": [
    "kernel_matrix = ProjectedQuantumKernel(\n",
    "    feature_map=pqc, measurement=\"XYZ\", executor=Executor(Estimator()), gamma=0.5\n",
    ")"
   ]
  },
  {
   "cell_type": "code",
   "execution_count": 4,
   "metadata": {},
   "outputs": [
    {
     "data": {
      "text/plain": [
       "{'gamma': 0.5,\n",
       " 'num_qubits': 4,\n",
       " 'qubit': 3,\n",
       " 'op_str': 'Z',\n",
       " 'parameterized': False,\n",
       " 'measurement': 'XYZ'}"
      ]
     },
     "execution_count": 4,
     "metadata": {},
     "output_type": "execute_result"
    }
   ],
   "source": [
    "kernel_matrix.get_params()"
   ]
  },
  {
   "cell_type": "code",
   "execution_count": 5,
   "metadata": {},
   "outputs": [
    {
     "data": {
      "text/plain": [
       "array([[1.        , 0.72923734],\n",
       "       [0.72923734, 1.        ]])"
      ]
     },
     "execution_count": 5,
     "metadata": {},
     "output_type": "execute_result"
    }
   ],
   "source": [
    "kernel_matrix.evaluate(np.array([[0.1],[0.5]]), np.array([[0.1],[0.5]]))"
   ]
  },
  {
   "cell_type": "code",
   "execution_count": 6,
   "metadata": {},
   "outputs": [
    {
     "data": {
      "text/plain": [
       "array([[1.        , 0.93880151],\n",
       "       [0.93880151, 1.        ]])"
      ]
     },
     "execution_count": 6,
     "metadata": {},
     "output_type": "execute_result"
    }
   ],
   "source": [
    "kernel_matrix.set_params(gamma=0.1)\n",
    "kernel_matrix.evaluate(np.array([[0.1],[0.5]]), np.array([[0.1],[0.5]]))"
   ]
  },
  {
   "cell_type": "code",
   "execution_count": null,
   "metadata": {},
   "outputs": [],
   "source": [
    "kernel_matrix.set_params(measurement=\"X\")\n",
    "kernel_matrix.evaluate(np.array([[0.1],[0.5]]), np.array([[0.1],[0.5]]))"
   ]
  },
  {
   "cell_type": "code",
   "execution_count": null,
   "metadata": {},
   "outputs": [],
   "source": [
    "kernel_matrix.set_params(measurement=\"Y\")\n",
    "kernel_matrix.evaluate(np.array([[0.1],[0.5]]), np.array([[0.1],[0.5]]))"
   ]
  },
  {
   "cell_type": "code",
   "execution_count": null,
   "metadata": {},
   "outputs": [],
   "source": [
    "kernel_matrix.set_params(measurement=\"Z\")\n",
    "kernel_matrix.evaluate(np.array([[0.1],[0.5]]), np.array([[0.1],[0.5]]))"
   ]
  }
 ],
 "metadata": {
  "kernelspec": {
   "display_name": "Python 3",
   "language": "python",
   "name": "python3"
  },
  "language_info": {
   "codemirror_mode": {
    "name": "ipython",
    "version": 3
   },
   "file_extension": ".py",
   "mimetype": "text/x-python",
   "name": "python",
   "nbconvert_exporter": "python",
   "pygments_lexer": "ipython3",
   "version": "3.10.2"
  },
  "orig_nbformat": 4,
  "vscode": {
   "interpreter": {
    "hash": "26de051ba29f2982a8de78e945f0abaf191376122a1563185a90213a26c5da77"
   }
  }
 },
 "nbformat": 4,
 "nbformat_minor": 2
}
