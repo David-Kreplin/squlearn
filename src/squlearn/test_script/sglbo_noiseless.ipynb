{
 "cells": [
  {
   "cell_type": "markdown",
   "source": [
    "### Imports"
   ],
   "metadata": {
    "collapsed": false
   },
   "id": "9c9237fdfb6b9fbd"
  },
  {
   "cell_type": "code",
   "execution_count": 1,
   "id": "initial_id",
   "metadata": {
    "collapsed": true,
    "ExecuteTime": {
     "end_time": "2023-11-09T16:18:54.130981500Z",
     "start_time": "2023-11-09T16:18:25.305280400Z"
    }
   },
   "outputs": [
    {
     "name": "stdout",
     "output_type": "stream",
     "text": [
      "fit:   0%|          | 0/200 [00:00<?, ?it/s]"
     ]
    },
    {
     "ename": "KeyboardInterrupt",
     "evalue": "",
     "output_type": "error",
     "traceback": [
      "\u001B[1;31m---------------------------------------------------------------------------\u001B[0m",
      "\u001B[1;31mKeyboardInterrupt\u001B[0m                         Traceback (most recent call last)",
      "Cell \u001B[1;32mIn[1], line 36\u001B[0m\n\u001B[0;32m     33\u001B[0m x_space \u001B[38;5;241m=\u001B[39m np\u001B[38;5;241m.\u001B[39marange(\u001B[38;5;241m0.1\u001B[39m, \u001B[38;5;241m0.9\u001B[39m, \u001B[38;5;241m0.1\u001B[39m)\n\u001B[0;32m     34\u001B[0m ref_values \u001B[38;5;241m=\u001B[39m np\u001B[38;5;241m.\u001B[39mlog(x_space)\n\u001B[1;32m---> 36\u001B[0m \u001B[43mreg\u001B[49m\u001B[38;5;241;43m.\u001B[39;49m\u001B[43mfit\u001B[49m\u001B[43m(\u001B[49m\u001B[43mx_space\u001B[49m\u001B[43m,\u001B[49m\u001B[43m \u001B[49m\u001B[43mref_values\u001B[49m\u001B[43m)\u001B[49m\n\u001B[0;32m     38\u001B[0m \u001B[38;5;66;03m# print the trained parameters for the PQC and the operator\u001B[39;00m\n\u001B[0;32m     39\u001B[0m \u001B[38;5;28mprint\u001B[39m(\u001B[38;5;124m\"\u001B[39m\u001B[38;5;124mResult PQC params:\u001B[39m\u001B[38;5;124m\"\u001B[39m, reg\u001B[38;5;241m.\u001B[39mparam)\n",
      "File \u001B[1;32m~\\SynologyDrive\\Development\\Bachelorarbeit\\squlearn\\src\\squlearn\\qnn\\base_qnn.py:177\u001B[0m, in \u001B[0;36mBaseQNN.fit\u001B[1;34m(self, X, y, weights)\u001B[0m\n\u001B[0;32m    175\u001B[0m \u001B[38;5;28mself\u001B[39m\u001B[38;5;241m.\u001B[39m_param_op \u001B[38;5;241m=\u001B[39m \u001B[38;5;28mself\u001B[39m\u001B[38;5;241m.\u001B[39mparam_op_ini\u001B[38;5;241m.\u001B[39mcopy()\n\u001B[0;32m    176\u001B[0m \u001B[38;5;28mself\u001B[39m\u001B[38;5;241m.\u001B[39m_is_fitted \u001B[38;5;241m=\u001B[39m \u001B[38;5;28;01mFalse\u001B[39;00m\n\u001B[1;32m--> 177\u001B[0m \u001B[38;5;28;43mself\u001B[39;49m\u001B[38;5;241;43m.\u001B[39;49m\u001B[43m_fit\u001B[49m\u001B[43m(\u001B[49m\u001B[43mX\u001B[49m\u001B[43m,\u001B[49m\u001B[43m \u001B[49m\u001B[43my\u001B[49m\u001B[43m,\u001B[49m\u001B[43m \u001B[49m\u001B[43mweights\u001B[49m\u001B[43m)\u001B[49m\n",
      "File \u001B[1;32m~\\SynologyDrive\\Development\\Bachelorarbeit\\squlearn\\src\\squlearn\\qnn\\qnnr.py:235\u001B[0m, in \u001B[0;36mQNNRegressor._fit\u001B[1;34m(self, X, y, weights)\u001B[0m\n\u001B[0;32m    233\u001B[0m \u001B[38;5;28;01mif\u001B[39;00m \u001B[38;5;28mself\u001B[39m\u001B[38;5;241m.\u001B[39mcallback \u001B[38;5;241m==\u001B[39m \u001B[38;5;124m\"\u001B[39m\u001B[38;5;124mpbar\u001B[39m\u001B[38;5;124m\"\u001B[39m:\n\u001B[0;32m    234\u001B[0m     \u001B[38;5;28mself\u001B[39m\u001B[38;5;241m.\u001B[39m_pbar \u001B[38;5;241m=\u001B[39m tqdm(total\u001B[38;5;241m=\u001B[39m\u001B[38;5;28mself\u001B[39m\u001B[38;5;241m.\u001B[39m_total_iterations, desc\u001B[38;5;241m=\u001B[39m\u001B[38;5;124m\"\u001B[39m\u001B[38;5;124mfit\u001B[39m\u001B[38;5;124m\"\u001B[39m, file\u001B[38;5;241m=\u001B[39msys\u001B[38;5;241m.\u001B[39mstdout)\n\u001B[1;32m--> 235\u001B[0m \u001B[38;5;28;43mself\u001B[39;49m\u001B[38;5;241;43m.\u001B[39;49m\u001B[43mpartial_fit\u001B[49m\u001B[43m(\u001B[49m\u001B[43mX\u001B[49m\u001B[43m,\u001B[49m\u001B[43m \u001B[49m\u001B[43my\u001B[49m\u001B[43m,\u001B[49m\u001B[43m \u001B[49m\u001B[43mweights\u001B[49m\u001B[43m)\u001B[49m\n",
      "File \u001B[1;32m~\\SynologyDrive\\Development\\Bachelorarbeit\\squlearn\\src\\squlearn\\qnn\\qnnr.py:204\u001B[0m, in \u001B[0;36mQNNRegressor.partial_fit\u001B[1;34m(self, X, y, weights)\u001B[0m\n\u001B[0;32m    202\u001B[0m \u001B[38;5;28;01melse\u001B[39;00m:\n\u001B[0;32m    203\u001B[0m     \u001B[38;5;28;01mif\u001B[39;00m \u001B[38;5;28mself\u001B[39m\u001B[38;5;241m.\u001B[39mopt_param_op:\n\u001B[1;32m--> 204\u001B[0m         \u001B[38;5;28mself\u001B[39m\u001B[38;5;241m.\u001B[39m_param, \u001B[38;5;28mself\u001B[39m\u001B[38;5;241m.\u001B[39m_param_op \u001B[38;5;241m=\u001B[39m \u001B[43mtrain\u001B[49m\u001B[43m(\u001B[49m\n\u001B[0;32m    205\u001B[0m \u001B[43m            \u001B[49m\u001B[38;5;28;43mself\u001B[39;49m\u001B[38;5;241;43m.\u001B[39;49m\u001B[43m_qnn\u001B[49m\u001B[43m,\u001B[49m\n\u001B[0;32m    206\u001B[0m \u001B[43m            \u001B[49m\u001B[43mX\u001B[49m\u001B[43m,\u001B[49m\n\u001B[0;32m    207\u001B[0m \u001B[43m            \u001B[49m\u001B[43my\u001B[49m\u001B[43m,\u001B[49m\n\u001B[0;32m    208\u001B[0m \u001B[43m            \u001B[49m\u001B[38;5;28;43mself\u001B[39;49m\u001B[38;5;241;43m.\u001B[39;49m\u001B[43m_param\u001B[49m\u001B[43m,\u001B[49m\n\u001B[0;32m    209\u001B[0m \u001B[43m            \u001B[49m\u001B[38;5;28;43mself\u001B[39;49m\u001B[38;5;241;43m.\u001B[39;49m\u001B[43m_param_op\u001B[49m\u001B[43m,\u001B[49m\n\u001B[0;32m    210\u001B[0m \u001B[43m            \u001B[49m\u001B[43mloss\u001B[49m\u001B[43m,\u001B[49m\n\u001B[0;32m    211\u001B[0m \u001B[43m            \u001B[49m\u001B[38;5;28;43mself\u001B[39;49m\u001B[38;5;241;43m.\u001B[39;49m\u001B[43moptimizer\u001B[49m\u001B[43m,\u001B[49m\n\u001B[0;32m    212\u001B[0m \u001B[43m            \u001B[49m\u001B[38;5;28;43mself\u001B[39;49m\u001B[38;5;241;43m.\u001B[39;49m\u001B[43mshot_control\u001B[49m\u001B[43m,\u001B[49m\n\u001B[0;32m    213\u001B[0m \u001B[43m            \u001B[49m\u001B[43mweights\u001B[49m\u001B[43m,\u001B[49m\n\u001B[0;32m    214\u001B[0m \u001B[43m            \u001B[49m\u001B[38;5;28;43;01mTrue\u001B[39;49;00m\u001B[43m,\u001B[49m\n\u001B[0;32m    215\u001B[0m \u001B[43m        \u001B[49m\u001B[43m)\u001B[49m\n\u001B[0;32m    216\u001B[0m     \u001B[38;5;28;01melse\u001B[39;00m:\n\u001B[0;32m    217\u001B[0m         \u001B[38;5;28mself\u001B[39m\u001B[38;5;241m.\u001B[39m_param \u001B[38;5;241m=\u001B[39m train(\n\u001B[0;32m    218\u001B[0m             \u001B[38;5;28mself\u001B[39m\u001B[38;5;241m.\u001B[39m_qnn,\n\u001B[0;32m    219\u001B[0m             X,\n\u001B[1;32m   (...)\u001B[0m\n\u001B[0;32m    227\u001B[0m             \u001B[38;5;28;01mFalse\u001B[39;00m,\n\u001B[0;32m    228\u001B[0m         )\n",
      "File \u001B[1;32m~\\SynologyDrive\\Development\\Bachelorarbeit\\squlearn\\src\\squlearn\\qnn\\training.py:332\u001B[0m, in \u001B[0;36mtrain\u001B[1;34m(qnn, input_values, ground_truth, param_ini, param_op_ini, loss, optimizer, shot_control, weights, opt_param_op)\u001B[0m\n\u001B[0;32m    319\u001B[0m     grad_values \u001B[38;5;241m=\u001B[39m qnn\u001B[38;5;241m.\u001B[39mevaluate(loss\u001B[38;5;241m.\u001B[39mgradient_args_tuple, input_values, param, param_op)\n\u001B[0;32m    320\u001B[0m     \u001B[38;5;28;01mreturn\u001B[39;00m np\u001B[38;5;241m.\u001B[39mconcatenate(\n\u001B[0;32m    321\u001B[0m         loss\u001B[38;5;241m.\u001B[39mgradient(\n\u001B[0;32m    322\u001B[0m             grad_values,\n\u001B[1;32m   (...)\u001B[0m\n\u001B[0;32m    329\u001B[0m         axis\u001B[38;5;241m=\u001B[39m\u001B[38;5;28;01mNone\u001B[39;00m,\n\u001B[0;32m    330\u001B[0m     )\n\u001B[1;32m--> 332\u001B[0m result \u001B[38;5;241m=\u001B[39m \u001B[43moptimizer\u001B[49m\u001B[38;5;241;43m.\u001B[39;49m\u001B[43mminimize\u001B[49m\u001B[43m(\u001B[49m\u001B[43m_fun\u001B[49m\u001B[43m,\u001B[49m\u001B[43m \u001B[49m\u001B[43mval_ini\u001B[49m\u001B[43m,\u001B[49m\u001B[43m \u001B[49m\u001B[43m_grad\u001B[49m\u001B[43m,\u001B[49m\u001B[43m \u001B[49m\u001B[43mbounds\u001B[49m\u001B[38;5;241;43m=\u001B[39;49m\u001B[38;5;28;43;01mNone\u001B[39;49;00m\u001B[43m)\u001B[49m\n\u001B[0;32m    334\u001B[0m \u001B[38;5;28;01mif\u001B[39;00m \u001B[38;5;28mhasattr\u001B[39m(result, \u001B[38;5;124m\"\u001B[39m\u001B[38;5;124mx\u001B[39m\u001B[38;5;124m\"\u001B[39m):\n\u001B[0;32m    335\u001B[0m     result \u001B[38;5;241m=\u001B[39m result\u001B[38;5;241m.\u001B[39mx\n",
      "File \u001B[1;32m~\\SynologyDrive\\Development\\Bachelorarbeit\\squlearn\\src\\squlearn\\optimizers\\adam.py:129\u001B[0m, in \u001B[0;36mAdam.minimize\u001B[1;34m(self, fun, x0, grad, bounds)\u001B[0m\n\u001B[0;32m    125\u001B[0m     fval \u001B[38;5;241m=\u001B[39m fun(\u001B[38;5;28mself\u001B[39m\u001B[38;5;241m.\u001B[39mx)\n\u001B[0;32m    127\u001B[0m \u001B[38;5;66;03m# Calculate the gradient and average it over the last num_average gradients\u001B[39;00m\n\u001B[0;32m    128\u001B[0m \u001B[38;5;66;03m# (1 is default: no averaging)\u001B[39;00m\n\u001B[1;32m--> 129\u001B[0m \u001B[38;5;28mself\u001B[39m\u001B[38;5;241m.\u001B[39mgradient_deque\u001B[38;5;241m.\u001B[39mappend(\u001B[43mgrad\u001B[49m\u001B[43m(\u001B[49m\u001B[38;5;28;43mself\u001B[39;49m\u001B[38;5;241;43m.\u001B[39;49m\u001B[43mx\u001B[49m\u001B[43m)\u001B[49m)\n\u001B[0;32m    130\u001B[0m gradient \u001B[38;5;241m=\u001B[39m np\u001B[38;5;241m.\u001B[39maverage(\u001B[38;5;28mself\u001B[39m\u001B[38;5;241m.\u001B[39mgradient_deque, axis\u001B[38;5;241m=\u001B[39m\u001B[38;5;241m0\u001B[39m)\n\u001B[0;32m    132\u001B[0m x_updated \u001B[38;5;241m=\u001B[39m \u001B[38;5;28mself\u001B[39m\u001B[38;5;241m.\u001B[39mstep(x\u001B[38;5;241m=\u001B[39m\u001B[38;5;28mself\u001B[39m\u001B[38;5;241m.\u001B[39mx, grad\u001B[38;5;241m=\u001B[39mgradient)\n",
      "File \u001B[1;32m~\\SynologyDrive\\Development\\Bachelorarbeit\\squlearn\\src\\squlearn\\qnn\\training.py:319\u001B[0m, in \u001B[0;36mtrain.<locals>._grad\u001B[1;34m(theta)\u001B[0m\n\u001B[0;32m    316\u001B[0m         \u001B[38;5;28;01melse\u001B[39;00m:\n\u001B[0;32m    317\u001B[0m             \u001B[38;5;28;01mraise\u001B[39;00m \u001B[38;5;167;01mValueError\u001B[39;00m(\u001B[38;5;124m\"\u001B[39m\u001B[38;5;124mLoss variance necessary for ShotsFromRSTD shot control\u001B[39m\u001B[38;5;124m\"\u001B[39m)\n\u001B[1;32m--> 319\u001B[0m grad_values \u001B[38;5;241m=\u001B[39m \u001B[43mqnn\u001B[49m\u001B[38;5;241;43m.\u001B[39;49m\u001B[43mevaluate\u001B[49m\u001B[43m(\u001B[49m\u001B[43mloss\u001B[49m\u001B[38;5;241;43m.\u001B[39;49m\u001B[43mgradient_args_tuple\u001B[49m\u001B[43m,\u001B[49m\u001B[43m \u001B[49m\u001B[43minput_values\u001B[49m\u001B[43m,\u001B[49m\u001B[43m \u001B[49m\u001B[43mparam\u001B[49m\u001B[43m,\u001B[49m\u001B[43m \u001B[49m\u001B[43mparam_op\u001B[49m\u001B[43m)\u001B[49m\n\u001B[0;32m    320\u001B[0m \u001B[38;5;28;01mreturn\u001B[39;00m np\u001B[38;5;241m.\u001B[39mconcatenate(\n\u001B[0;32m    321\u001B[0m     loss\u001B[38;5;241m.\u001B[39mgradient(\n\u001B[0;32m    322\u001B[0m         grad_values,\n\u001B[1;32m   (...)\u001B[0m\n\u001B[0;32m    329\u001B[0m     axis\u001B[38;5;241m=\u001B[39m\u001B[38;5;28;01mNone\u001B[39;00m,\n\u001B[0;32m    330\u001B[0m )\n",
      "File \u001B[1;32m~\\SynologyDrive\\Development\\Bachelorarbeit\\squlearn\\src\\squlearn\\qnn\\qnn.py:931\u001B[0m, in \u001B[0;36mQNN.evaluate\u001B[1;34m(self, values, x, param, param_op)\u001B[0m\n\u001B[0;32m    927\u001B[0m     val \u001B[38;5;241m=\u001B[39m OpTree\u001B[38;5;241m.\u001B[39mevaluate\u001B[38;5;241m.\u001B[39mevaluate_with_sampler(\n\u001B[0;32m    928\u001B[0m         pqc_optree, operators, dict_encoding_circuit, dict_operator, \u001B[38;5;28mself\u001B[39m\u001B[38;5;241m.\u001B[39m_sampler\n\u001B[0;32m    929\u001B[0m     )\n\u001B[0;32m    930\u001B[0m \u001B[38;5;28;01melif\u001B[39;00m \u001B[38;5;28mself\u001B[39m\u001B[38;5;241m.\u001B[39m_estimator \u001B[38;5;129;01mis\u001B[39;00m \u001B[38;5;129;01mnot\u001B[39;00m \u001B[38;5;28;01mNone\u001B[39;00m:\n\u001B[1;32m--> 931\u001B[0m     val \u001B[38;5;241m=\u001B[39m \u001B[43mOpTree\u001B[49m\u001B[38;5;241;43m.\u001B[39;49m\u001B[43mevaluate\u001B[49m\u001B[38;5;241;43m.\u001B[39;49m\u001B[43mevaluate_with_estimator\u001B[49m\u001B[43m(\u001B[49m\n\u001B[0;32m    932\u001B[0m \u001B[43m        \u001B[49m\u001B[43mpqc_optree\u001B[49m\u001B[43m,\u001B[49m\u001B[43m \u001B[49m\u001B[43moperators\u001B[49m\u001B[43m,\u001B[49m\u001B[43m \u001B[49m\u001B[43mdict_encoding_circuit\u001B[49m\u001B[43m,\u001B[49m\u001B[43m \u001B[49m\u001B[43mdict_operator\u001B[49m\u001B[43m,\u001B[49m\u001B[43m \u001B[49m\u001B[38;5;28;43mself\u001B[39;49m\u001B[38;5;241;43m.\u001B[39;49m\u001B[43m_estimator\u001B[49m\n\u001B[0;32m    933\u001B[0m \u001B[43m    \u001B[49m\u001B[43m)\u001B[49m\n\u001B[0;32m    934\u001B[0m \u001B[38;5;28;01melse\u001B[39;00m:\n\u001B[0;32m    935\u001B[0m     \u001B[38;5;28;01mraise\u001B[39;00m \u001B[38;5;167;01mValueError\u001B[39;00m(\u001B[38;5;124m\"\u001B[39m\u001B[38;5;124mNo execution is set!\u001B[39m\u001B[38;5;124m\"\u001B[39m)\n",
      "File \u001B[1;32m~\\SynologyDrive\\Development\\Bachelorarbeit\\squlearn\\src\\squlearn\\util\\optree\\optree_evaluate.py:1210\u001B[0m, in \u001B[0;36mOpTreeEvaluate.evaluate_with_estimator\u001B[1;34m(circuit, operator, dictionary_circuit, dictionary_operator, estimator, dictionaries_combined, detect_duplicates)\u001B[0m\n\u001B[0;32m   1207\u001B[0m start \u001B[38;5;241m=\u001B[39m time\u001B[38;5;241m.\u001B[39mtime()\n\u001B[0;32m   1208\u001B[0m \u001B[38;5;66;03m# print(\"Number of circuits for estimator: \", len(total_circuit_list))\u001B[39;00m\n\u001B[0;32m   1209\u001B[0m estimator_result \u001B[38;5;241m=\u001B[39m (\n\u001B[1;32m-> 1210\u001B[0m     \u001B[43mestimator\u001B[49m\u001B[38;5;241;43m.\u001B[39;49m\u001B[43mrun\u001B[49m\u001B[43m(\u001B[49m\u001B[43mtotal_circuit_list\u001B[49m\u001B[43m,\u001B[49m\u001B[43m \u001B[49m\u001B[43mtotal_operator_list\u001B[49m\u001B[43m,\u001B[49m\u001B[43m \u001B[49m\u001B[43mtotal_parameter_list\u001B[49m\u001B[43m)\u001B[49m\n\u001B[0;32m   1211\u001B[0m     \u001B[38;5;241m.\u001B[39mresult()\n\u001B[0;32m   1212\u001B[0m     \u001B[38;5;241m.\u001B[39mvalues\n\u001B[0;32m   1213\u001B[0m )\n\u001B[0;32m   1214\u001B[0m \u001B[38;5;66;03m# print(\"Estimator run time: \", time.time() - start)\u001B[39;00m\n\u001B[0;32m   1215\u001B[0m \n\u001B[0;32m   1216\u001B[0m \u001B[38;5;66;03m# Assembly the final values from the evaluation tree\u001B[39;00m\n\u001B[0;32m   1217\u001B[0m start \u001B[38;5;241m=\u001B[39m time\u001B[38;5;241m.\u001B[39mtime()\n",
      "File \u001B[1;32m~\\SynologyDrive\\Development\\Bachelorarbeit\\squlearn\\src\\squlearn\\util\\executor.py:1019\u001B[0m, in \u001B[0;36mExecutorEstimator.run\u001B[1;34m(self, circuits, observables, parameter_values, **run_options)\u001B[0m\n\u001B[0;32m   1005\u001B[0m \u001B[38;5;28;01mdef\u001B[39;00m \u001B[38;5;21mrun\u001B[39m(\n\u001B[0;32m   1006\u001B[0m     \u001B[38;5;28mself\u001B[39m,\n\u001B[0;32m   1007\u001B[0m     circuits,\n\u001B[1;32m   (...)\u001B[0m\n\u001B[0;32m   1010\u001B[0m     \u001B[38;5;241m*\u001B[39m\u001B[38;5;241m*\u001B[39mrun_options,\n\u001B[0;32m   1011\u001B[0m ) \u001B[38;5;241m-\u001B[39m\u001B[38;5;241m>\u001B[39m Job:\n\u001B[0;32m   1012\u001B[0m \u001B[38;5;250m    \u001B[39m\u001B[38;5;124;03m\"\"\"\u001B[39;00m\n\u001B[0;32m   1013\u001B[0m \u001B[38;5;124;03m    Overwrites the sampler primitive run method, to evaluate expectation values.\u001B[39;00m\n\u001B[0;32m   1014\u001B[0m \u001B[38;5;124;03m    Uses the Executor class for automatic session handling.\u001B[39;00m\n\u001B[1;32m   (...)\u001B[0m\n\u001B[0;32m   1017\u001B[0m \n\u001B[0;32m   1018\u001B[0m \u001B[38;5;124;03m    \"\"\"\u001B[39;00m\n\u001B[1;32m-> 1019\u001B[0m     \u001B[38;5;28;01mreturn\u001B[39;00m \u001B[38;5;28mself\u001B[39m\u001B[38;5;241m.\u001B[39m_executor\u001B[38;5;241m.\u001B[39mestimator_run(\n\u001B[0;32m   1020\u001B[0m         circuits\u001B[38;5;241m=\u001B[39mcircuits,\n\u001B[0;32m   1021\u001B[0m         observables\u001B[38;5;241m=\u001B[39mobservables,\n\u001B[0;32m   1022\u001B[0m         parameter_values\u001B[38;5;241m=\u001B[39mparameter_values,\n\u001B[0;32m   1023\u001B[0m         \u001B[38;5;241m*\u001B[39m\u001B[38;5;241m*\u001B[39mrun_options,\n\u001B[0;32m   1024\u001B[0m     )\n",
      "File \u001B[1;32m~\\SynologyDrive\\Development\\Bachelorarbeit\\squlearn\\src\\squlearn\\util\\executor.py:683\u001B[0m, in \u001B[0;36mExecutor.estimator_run\u001B[1;34m(self, circuits, observables, parameter_values, **kwargs)\u001B[0m\n\u001B[0;32m    680\u001B[0m \u001B[38;5;28;01melse\u001B[39;00m:\n\u001B[0;32m    681\u001B[0m     hash_value \u001B[38;5;241m=\u001B[39m \u001B[38;5;28;01mNone\u001B[39;00m\n\u001B[1;32m--> 683\u001B[0m \u001B[38;5;28;01mreturn\u001B[39;00m \u001B[38;5;28;43mself\u001B[39;49m\u001B[38;5;241;43m.\u001B[39;49m\u001B[43m_primitive_run\u001B[49m\u001B[43m(\u001B[49m\u001B[43mrun\u001B[49m\u001B[43m,\u001B[49m\u001B[43m \u001B[49m\u001B[38;5;124;43m\"\u001B[39;49m\u001B[38;5;124;43mestimator\u001B[39;49m\u001B[38;5;124;43m\"\u001B[39;49m\u001B[43m,\u001B[49m\u001B[43m \u001B[49m\u001B[43mhash_value\u001B[49m\u001B[43m)\u001B[49m\n",
      "File \u001B[1;32m~\\SynologyDrive\\Development\\Bachelorarbeit\\squlearn\\src\\squlearn\\util\\executor.py:566\u001B[0m, in \u001B[0;36mExecutor._primitive_run\u001B[1;34m(self, run, label, hash_value)\u001B[0m\n\u001B[0;32m    564\u001B[0m         time\u001B[38;5;241m.\u001B[39msleep(\u001B[38;5;241m1\u001B[39m)\n\u001B[0;32m    565\u001B[0m     \u001B[38;5;28;01melse\u001B[39;00m:\n\u001B[1;32m--> 566\u001B[0m         \u001B[43mtime\u001B[49m\u001B[38;5;241;43m.\u001B[39;49m\u001B[43msleep\u001B[49m\u001B[43m(\u001B[49m\u001B[38;5;241;43m0.01\u001B[39;49m\u001B[43m)\u001B[49m\n\u001B[0;32m    568\u001B[0m \u001B[38;5;66;03m# Job is completed, check if it was successful\u001B[39;00m\n\u001B[0;32m    569\u001B[0m \u001B[38;5;28;01mif\u001B[39;00m status \u001B[38;5;241m==\u001B[39m JobStatus\u001B[38;5;241m.\u001B[39mERROR:\n",
      "\u001B[1;31mKeyboardInterrupt\u001B[0m: "
     ]
    }
   ],
   "source": [
    "import numpy as np\n",
    "from matplotlib import pyplot as plt\n",
    "\n",
    "from src.squlearn import Executor\n",
    "from src.squlearn.encoding_circuit import ChebyshevRx\n",
    "from src.squlearn.observables import IsingHamiltonian\n",
    "from src.squlearn.optimizers import SGLBO\n",
    "from src.squlearn.qnn import QNNRegressor, SquaredLoss\n"
   ]
  },
  {
   "cell_type": "code",
   "execution_count": null,
   "outputs": [],
   "source": [
    "executor = Executor(\"statevector_simulator\")\n",
    "\n",
    "# define the PQC\n",
    "nqubits = 12\n",
    "number_of_layers = 2\n",
    "pqc = ChebyshevRx(nqubits, 1, num_layers=number_of_layers)\n",
    "\n",
    "# define the Observable\n",
    "ising_op = IsingHamiltonian(nqubits, I=\"S\", Z=\"S\", ZZ=\"S\")\n",
    "\n",
    "# define random initial parameters for the PQC and the cost operator\n",
    "np.random.seed(13)\n",
    "param_ini = np.random.rand(pqc.num_parameters)\n",
    "param_op_ini = np.random.rand(ising_op.num_parameters)"
   ],
   "metadata": {
    "collapsed": false
   },
   "id": "2e65c1586afb313e"
  },
  {
   "cell_type": "markdown",
   "source": [
    "### Optimizer options"
   ],
   "metadata": {
    "collapsed": false
   },
   "id": "969846d9c2769d2d"
  },
  {
   "cell_type": "code",
   "execution_count": null,
   "outputs": [],
   "source": [
    "x0 = [[i * 0.02] for i in range(15)]\n",
    "optimizer_options = {\"bo_aqc_func\": \"EI\", \"bo_aqc_optimizer\": \"lbfgs\", \"bo_bounds\": [(0.0, 0.3)], \"log_file\": \"log_sglbo_noiseless\",\n",
    "                     \"bo_n_calls\": 30, \"bo_x0_points\": x0, \"maxiter\": 200}"
   ],
   "metadata": {
    "collapsed": false
   },
   "id": "f7f670a5df322565"
  },
  {
   "cell_type": "markdown",
   "source": [
    "### Training"
   ],
   "metadata": {
    "collapsed": false
   },
   "id": "5cac8ece965e3a0d"
  },
  {
   "cell_type": "code",
   "execution_count": null,
   "outputs": [],
   "source": [
    "# define the regressor\n",
    "reg = QNNRegressor(pqc, ising_op, executor, SquaredLoss(), SGLBO(optimizer_options), param_ini, param_op_ini)\n",
    "\n",
    "# train the regressor\n",
    "x_space = np.arange(0.1, 0.9, 0.1)\n",
    "ref_values = np.log(x_space)\n",
    "\n",
    "reg.fit(x_space, ref_values)"
   ],
   "metadata": {
    "collapsed": false
   },
   "id": "fc7c5268edf16078"
  },
  {
   "cell_type": "markdown",
   "source": [
    "### Result"
   ],
   "metadata": {
    "collapsed": false
   },
   "id": "1329c52d98644648"
  },
  {
   "cell_type": "code",
   "execution_count": null,
   "outputs": [],
   "source": [
    "# print the trained parameters for the PQC and the operator\n",
    "print(\"Result PQC params:\", reg.param)\n",
    "print(\"Result operator params:\", reg.param_op)"
   ],
   "metadata": {
    "collapsed": false
   },
   "id": "d89a72bd4b0fc300"
  },
  {
   "cell_type": "markdown",
   "source": [
    "### Plot"
   ],
   "metadata": {
    "collapsed": false
   },
   "id": "41b3ed78eb6f1ecc"
  },
  {
   "cell_type": "code",
   "execution_count": null,
   "outputs": [],
   "source": [
    "# plot the predicted function vs. the actual logarithm function\n",
    "x = np.arange(np.min(x_space), np.max(x_space), 0.005)\n",
    "y = reg.predict(x)\n",
    "plt.plot(x, np.log(x), label=\"Tatsächliche Log-Funktion\")\n",
    "plt.plot(x, y, label=\"Vorhergesagte Funktion\")\n",
    "\n",
    "# plot the error of the QNN\n",
    "plt.plot(x, np.abs(y - np.log(x)), label=\"Fehler\")\n",
    "plt.legend()\n",
    "plt.show()"
   ],
   "metadata": {
    "collapsed": false
   },
   "id": "718b6d928a441273"
  }
 ],
 "metadata": {
  "kernelspec": {
   "display_name": "Python 3",
   "language": "python",
   "name": "python3"
  },
  "language_info": {
   "codemirror_mode": {
    "name": "ipython",
    "version": 2
   },
   "file_extension": ".py",
   "mimetype": "text/x-python",
   "name": "python",
   "nbconvert_exporter": "python",
   "pygments_lexer": "ipython2",
   "version": "2.7.6"
  }
 },
 "nbformat": 4,
 "nbformat_minor": 5
}
