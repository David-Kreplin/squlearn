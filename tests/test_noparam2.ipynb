{
 "cells": [
  {
   "cell_type": "code",
   "execution_count": 1,
   "metadata": {},
   "outputs": [],
   "source": [
    "\"\"\"Tests for training methods.\"\"\"\n",
    "\n",
    "import numpy as np\n",
    "\n",
    "import pytest\n",
    "\n",
    "from squlearn import Executor\n",
    "from squlearn.observables import SummedPaulis, SinglePauli\n",
    "from squlearn.encoding_circuit import ChebyshevPQC, HighDimEncodingCircuit\n",
    "from squlearn.optimizers import SLSQP, Adam\n",
    "from squlearn.qnn.loss import SquaredLoss\n",
    "from squlearn.qnn.lowlevel_qnn_qiskit import LowLevelQNN as QNN\n",
    "from squlearn.qnn.lowlevel_qnn_pennylane import LowLevelQNNPennyLane\n",
    "from squlearn.qnn import QNNRegressor, QNNClassifier\n",
    "from squlearn.qnn.training import train_mini_batch, ShotsFromRSTD\n",
    "\n",
    "executor = Executor(\"statevector_simulator\")"
   ]
  },
  {
   "cell_type": "code",
   "execution_count": 2,
   "metadata": {},
   "outputs": [],
   "source": [
    "executor = Executor(\"statevector_simulator\")\n",
    "\n",
    "pqc = ChebyshevPQC(2, 1, 1)\n",
    "ob = SinglePauli(2, 0, \"Z\",parameterized=False)"
   ]
  },
  {
   "cell_type": "code",
   "execution_count": 3,
   "metadata": {},
   "outputs": [
    {
     "name": "stdout",
     "output_type": "stream",
     "text": [
      "self._pennylane_gates [<class 'pennylane.ops.qubit.parametric_ops_single_qubit.RY'>, <class 'pennylane.ops.qubit.parametric_ops_single_qubit.RY'>, <class 'pennylane.ops.qubit.parametric_ops_single_qubit.RX'>, <class 'pennylane.ops.qubit.parametric_ops_single_qubit.RX'>, <class 'pennylane.ops.qubit.parametric_ops_controlled.CRZ'>, <class 'pennylane.ops.qubit.parametric_ops_single_qubit.RY'>, <class 'pennylane.ops.qubit.parametric_ops_single_qubit.RY'>]\n",
      "self._pennylane_gates_param_function [(<function _lambdifygenerated at 0x000001AB179E3AC0>,), (<function _lambdifygenerated at 0x000001AB17A08EE0>,), (<function _lambdifygenerated at 0x000001AB179E35B0>,), (<function _lambdifygenerated at 0x000001AB17A08F70>,), (<function _lambdifygenerated at 0x000001AB17A09D80>,), (<function _lambdifygenerated at 0x000001AB179E3F40>,), (<function _lambdifygenerated at 0x000001AB17A08A60>,)]\n",
      "self._pennylane_gates_wires [[0], [1], [0], [1], [0, 1], [0], [1]]\n",
      "self._pennylane_gates_parameters ['param', 'x']\n",
      "self._pennylane_obs_param_function [1.0]\n",
      "self._pennylane_words [PauliZ(wires=[0])]\n",
      "self._pennylane_obs_parameters []\n",
      "self._pennylane_gates [<class 'pennylane.ops.qubit.parametric_ops_single_qubit.RY'>, <class 'pennylane.ops.qubit.parametric_ops_single_qubit.RY'>, <class 'pennylane.ops.qubit.parametric_ops_single_qubit.RX'>, <class 'pennylane.ops.qubit.parametric_ops_single_qubit.RX'>, <class 'pennylane.ops.qubit.parametric_ops_controlled.CRZ'>, <class 'pennylane.ops.qubit.parametric_ops_single_qubit.RY'>, <class 'pennylane.ops.qubit.parametric_ops_single_qubit.RY'>]\n",
      "self._pennylane_gates_param_function [(<function _lambdifygenerated at 0x000001AB179E36D0>,), (<function _lambdifygenerated at 0x000001AB17A09000>,), (<function _lambdifygenerated at 0x000001AB17A08CA0>,), (<function _lambdifygenerated at 0x000001AB179E3910>,), (<function _lambdifygenerated at 0x000001AB17A09120>,), (<function _lambdifygenerated at 0x000001AB17A096C0>,), (<function _lambdifygenerated at 0x000001AB179E2E60>,)]\n",
      "self._pennylane_gates_wires [[0], [1], [0], [1], [0, 1], [0], [1]]\n",
      "self._pennylane_gates_parameters ['param', 'x']\n",
      "self._pennylane_obs_param_function [1.0]\n",
      "self._pennylane_words [Identity(wires=[0])]\n",
      "self._pennylane_obs_parameters []\n"
     ]
    },
    {
     "data": {
      "text/plain": [
       "0.28350923986882903"
      ]
     },
     "execution_count": 3,
     "metadata": {},
     "output_type": "execute_result"
    }
   ],
   "source": [
    "np.random.seed(0)\n",
    "param = np.random.rand(pqc.num_parameters)\n",
    "param_ob = np.ones(ob.num_parameters)\n",
    "\n",
    "qnn_pl = LowLevelQNNPennyLane(pqc, ob, executor)\n",
    "qnn_pl.evaluate(0.5, param, param_ob,\"f\")[\"f\"]"
   ]
  },
  {
   "cell_type": "code",
   "execution_count": 4,
   "metadata": {},
   "outputs": [
    {
     "data": {
      "text/plain": [
       "array([-8.63111786e-01, -3.51615065e-02, -3.63026677e-01, -2.72076175e-02,\n",
       "        1.27127505e-01, -7.68141908e-01, -1.38777878e-17])"
      ]
     },
     "execution_count": 4,
     "metadata": {},
     "output_type": "execute_result"
    }
   ],
   "source": [
    "qnn_pl.evaluate(0.5, param, param_ob,\"dfdp\")[\"dfdp\"]"
   ]
  },
  {
   "cell_type": "code",
   "execution_count": 5,
   "metadata": {},
   "outputs": [
    {
     "name": "stdout",
     "output_type": "stream",
     "text": [
      "self._pennylane_gates [<class 'pennylane.ops.qubit.parametric_ops_single_qubit.RY'>, <class 'pennylane.ops.qubit.parametric_ops_single_qubit.RY'>, <class 'pennylane.ops.qubit.parametric_ops_single_qubit.RX'>, <class 'pennylane.ops.qubit.parametric_ops_single_qubit.RX'>, <class 'pennylane.ops.qubit.parametric_ops_controlled.CRZ'>, <class 'pennylane.ops.qubit.parametric_ops_single_qubit.RY'>, <class 'pennylane.ops.qubit.parametric_ops_single_qubit.RY'>]\n",
      "self._pennylane_gates_param_function [(<function _lambdifygenerated at 0x000001AB17A0A4D0>,), (<function _lambdifygenerated at 0x000001AB17A08C10>,), (<function _lambdifygenerated at 0x000001AB17A0BAC0>,), (<function _lambdifygenerated at 0x000001AB17A085E0>,), (<function _lambdifygenerated at 0x000001AB17A0A050>,), (<function _lambdifygenerated at 0x000001AB17A0B010>,), (<function _lambdifygenerated at 0x000001AB17A0A3B0>,)]\n",
      "self._pennylane_gates_wires [[0], [1], [0], [1], [0, 1], [0], [1]]\n",
      "self._pennylane_gates_parameters ['param', 'x']\n",
      "self._pennylane_obs_param_function [1.0]\n",
      "self._pennylane_words [PauliZ(wires=[0])]\n",
      "self._pennylane_obs_parameters []\n",
      "self._pennylane_gates [<class 'pennylane.ops.qubit.parametric_ops_single_qubit.RY'>, <class 'pennylane.ops.qubit.parametric_ops_single_qubit.RY'>, <class 'pennylane.ops.qubit.parametric_ops_single_qubit.RX'>, <class 'pennylane.ops.qubit.parametric_ops_single_qubit.RX'>, <class 'pennylane.ops.qubit.parametric_ops_controlled.CRZ'>, <class 'pennylane.ops.qubit.parametric_ops_single_qubit.RY'>, <class 'pennylane.ops.qubit.parametric_ops_single_qubit.RY'>]\n",
      "self._pennylane_gates_param_function [(<function _lambdifygenerated at 0x000001AB17A0ADD0>,), (<function _lambdifygenerated at 0x000001AB17A0AF80>,), (<function _lambdifygenerated at 0x000001AB17A08DC0>,), (<function _lambdifygenerated at 0x000001AB17A08D30>,), (<function _lambdifygenerated at 0x000001AB17A0BC70>,), (<function _lambdifygenerated at 0x000001AB17A08040>,), (<function _lambdifygenerated at 0x000001AB17A093F0>,)]\n",
      "self._pennylane_gates_wires [[0], [1], [0], [1], [0, 1], [0], [1]]\n",
      "self._pennylane_gates_parameters ['param', 'x']\n",
      "self._pennylane_obs_param_function [1.0]\n",
      "self._pennylane_words [Identity(wires=[0])]\n",
      "self._pennylane_obs_parameters []\n"
     ]
    }
   ],
   "source": [
    "\n",
    "qnn = QNNRegressor(\n",
    "    pqc,\n",
    "    ob,\n",
    "    executor,\n",
    "    SquaredLoss(),\n",
    "    SLSQP({\"maxiter\": 10}),\n",
    "    variance=0.005,\n",
    "    parameter_seed=0,\n",
    "    opt_param_op =False,\n",
    ")\n",
    "x_train = np.arange(-0.2, 0.3, 0.1)\n",
    "y_train = np.abs(x_train)\n"
   ]
  },
  {
   "cell_type": "code",
   "execution_count": 6,
   "metadata": {},
   "outputs": [
    {
     "name": "stdout",
     "output_type": "stream",
     "text": [
      "fit: 100%|██████████| 10/10 [00:00<00:00, 14.79it/s]"
     ]
    },
    {
     "name": "stdout",
     "output_type": "stream",
     "text": [
      "fit: 100%|██████████| 10/10 [00:20<00:00, 14.79it/s]"
     ]
    }
   ],
   "source": [
    "qnn.fit(x_train, y_train)\n"
   ]
  }
 ],
 "metadata": {
  "kernelspec": {
   "display_name": ".venv",
   "language": "python",
   "name": "python3"
  },
  "language_info": {
   "codemirror_mode": {
    "name": "ipython",
    "version": 3
   },
   "file_extension": ".py",
   "mimetype": "text/x-python",
   "name": "python",
   "nbconvert_exporter": "python",
   "pygments_lexer": "ipython3",
   "version": "3.10.2"
  }
 },
 "nbformat": 4,
 "nbformat_minor": 2
}
