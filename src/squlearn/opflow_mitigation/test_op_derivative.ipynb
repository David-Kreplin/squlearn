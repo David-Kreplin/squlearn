{
 "cells": [
  {
   "cell_type": "code",
   "execution_count": 1,
   "metadata": {},
   "outputs": [],
   "source": [
    "import numpy as np\n",
    "from qiskit.circuit import ParameterVector\n",
    "from qiskit.quantum_info import SparsePauliOp\n",
    "from qiskit.primitives import Estimator,Sampler\n",
    "\n",
    "from squlearn.util.optree.optree_derivative import derivative\n",
    "from squlearn.util.optree.optree_evaluate import build_operator_list,evaluate_estimator,evaluate_sampler\n",
    "from squlearn.util.optree import *\n",
    "\n",
    "from squlearn.expectation_operator import SummedPaulis\n",
    "from squlearn.feature_map import ChebRx"
   ]
  },
  {
   "cell_type": "code",
   "execution_count": 2,
   "metadata": {},
   "outputs": [
    {
     "name": "stdout",
     "output_type": "stream",
     "text": [
      "SparsePauliOp(['II', 'IZ', 'ZI', 'ZZ'],\n",
      "              coeffs=[ParameterExpression(1.0*pop[0]**2 + 1.0*pop[1]**2 + 1.0*pop[2]**2),\n",
      " ParameterExpression(2.0*pop[0]*pop[1]),\n",
      " ParameterExpression(2.0*pop[0]*pop[2]),\n",
      " ParameterExpression(2.0*pop[1]*pop[2])])\n"
     ]
    }
   ],
   "source": [
    "op = SummedPaulis(2)\n",
    "pop=ParameterVector('pop', op.num_parameters)\n",
    "e = simplify_copy(op.get_pauli_new(pop).power(2))\n",
    "print(e)"
   ]
  },
  {
   "cell_type": "code",
   "execution_count": 3,
   "metadata": {},
   "outputs": [
    {
     "name": "stdout",
     "output_type": "stream",
     "text": [
      "[1.0*SparsePauliOp(['II', 'IZ', 'ZI'],\n",
      "              coeffs=[ParameterExpression(2.0*pop[0]), ParameterExpression(2.0*pop[1]),\n",
      " ParameterExpression(2.0*pop[2])]), 1.0*SparsePauliOp(['II', 'IZ', 'ZZ'],\n",
      "              coeffs=[ParameterExpression(2.0*pop[1]), ParameterExpression(2.0*pop[0]),\n",
      " ParameterExpression(2.0*pop[2])]), 1.0*SparsePauliOp(['II', 'ZI', 'ZZ'],\n",
      "              coeffs=[ParameterExpression(2.0*pop[2]), ParameterExpression(2.0*pop[0]),\n",
      " ParameterExpression(2.0*pop[1])])]\n"
     ]
    }
   ],
   "source": [
    "op_grad = derivative(e,pop)\n",
    "print(op_grad)\n",
    "\n",
    "op_grad = OpTreeNodeSum([op_grad,op_grad])"
   ]
  },
  {
   "cell_type": "code",
   "execution_count": 4,
   "metadata": {},
   "outputs": [
    {
     "name": "stdout",
     "output_type": "stream",
     "text": [
      "[1.0*(0.5*acos(x[0])*\n",
      "     ┌───────────────────────────┐┌──────────┐     \n",
      "q_0: ┤ Rx(p[0]*acos(x[0]) + π/2) ├┤ Rx(p[2]) ├──■──\n",
      "     └──┬─────────────────────┬──┘├──────────┤┌─┴─┐\n",
      "q_1: ───┤ Rx(p[1]*acos(x[0])) ├───┤ Rx(p[3]) ├┤ X ├\n",
      "        └─────────────────────┘   └──────────┘└───┘\n",
      " + -0.5*acos(x[0])*\n",
      "     ┌───────────────────────────┐┌──────────┐     \n",
      "q_0: ┤ Rx(p[0]*acos(x[0]) - π/2) ├┤ Rx(p[2]) ├──■──\n",
      "     └──┬─────────────────────┬──┘├──────────┤┌─┴─┐\n",
      "q_1: ───┤ Rx(p[1]*acos(x[0])) ├───┤ Rx(p[3]) ├┤ X ├\n",
      "        └─────────────────────┘   └──────────┘└───┘\n",
      "), 1.0*(0.5*acos(x[0])*\n",
      "        ┌─────────────────────┐   ┌──────────┐     \n",
      "q_0: ───┤ Rx(p[0]*acos(x[0])) ├───┤ Rx(p[2]) ├──■──\n",
      "     ┌──┴─────────────────────┴──┐├──────────┤┌─┴─┐\n",
      "q_1: ┤ Rx(p[1]*acos(x[0]) + π/2) ├┤ Rx(p[3]) ├┤ X ├\n",
      "     └───────────────────────────┘└──────────┘└───┘\n",
      " + -0.5*acos(x[0])*\n",
      "        ┌─────────────────────┐   ┌──────────┐     \n",
      "q_0: ───┤ Rx(p[0]*acos(x[0])) ├───┤ Rx(p[2]) ├──■──\n",
      "     ┌──┴─────────────────────┴──┐├──────────┤┌─┴─┐\n",
      "q_1: ┤ Rx(p[1]*acos(x[0]) - π/2) ├┤ Rx(p[3]) ├┤ X ├\n",
      "     └───────────────────────────┘└──────────┘└───┘\n",
      "), 1.0*(0.5*\n",
      "     ┌─────────────────────┐┌────────────────┐     \n",
      "q_0: ┤ Rx(p[0]*acos(x[0])) ├┤ Rx(p[2] + π/2) ├──■──\n",
      "     ├─────────────────────┤└──┬──────────┬──┘┌─┴─┐\n",
      "q_1: ┤ Rx(p[1]*acos(x[0])) ├───┤ Rx(p[3]) ├───┤ X ├\n",
      "     └─────────────────────┘   └──────────┘   └───┘\n",
      " + -0.5*\n",
      "     ┌─────────────────────┐┌────────────────┐     \n",
      "q_0: ┤ Rx(p[0]*acos(x[0])) ├┤ Rx(p[2] - π/2) ├──■──\n",
      "     ├─────────────────────┤└──┬──────────┬──┘┌─┴─┐\n",
      "q_1: ┤ Rx(p[1]*acos(x[0])) ├───┤ Rx(p[3]) ├───┤ X ├\n",
      "     └─────────────────────┘   └──────────┘   └───┘\n",
      "), 1.0*(0.5*\n",
      "     ┌─────────────────────┐   ┌──────────┐        \n",
      "q_0: ┤ Rx(p[0]*acos(x[0])) ├───┤ Rx(p[2]) ├─────■──\n",
      "     ├─────────────────────┤┌──┴──────────┴──┐┌─┴─┐\n",
      "q_1: ┤ Rx(p[1]*acos(x[0])) ├┤ Rx(p[3] + π/2) ├┤ X ├\n",
      "     └─────────────────────┘└────────────────┘└───┘\n",
      " + -0.5*\n",
      "     ┌─────────────────────┐   ┌──────────┐        \n",
      "q_0: ┤ Rx(p[0]*acos(x[0])) ├───┤ Rx(p[2]) ├─────■──\n",
      "     ├─────────────────────┤┌──┴──────────┴──┐┌─┴─┐\n",
      "q_1: ┤ Rx(p[1]*acos(x[0])) ├┤ Rx(p[3] - π/2) ├┤ X ├\n",
      "     └─────────────────────┘└────────────────┘└───┘\n",
      ")]\n"
     ]
    }
   ],
   "source": [
    "fm = ChebRx(2,1)\n",
    "x = ParameterVector(\"x\",fm.num_features)\n",
    "p = ParameterVector(\"p\",fm.num_parameters)\n",
    "fm_circ = fm.get_circuit(x,p)\n",
    "\n",
    "fm_grad = derivative(fm_circ,p)\n",
    "print(fm_grad)"
   ]
  },
  {
   "cell_type": "code",
   "execution_count": 5,
   "metadata": {},
   "outputs": [],
   "source": [
    "#dictionary1={pop[0]: 0.5,pop[1]:0.75, pop[2]:1.0, x[0]:-0.5,p[0]:10.0,p[1]:20.0,p[2]:30.0,p[3]:40.0}\n",
    "\n",
    "#estim = Estimator()\n",
    "\n",
    "#evaluate_estimator(fm_grad,op_grad,dictionary1,estim)"
   ]
  },
  {
   "cell_type": "code",
   "execution_count": 6,
   "metadata": {},
   "outputs": [
    {
     "name": "stdout",
     "output_type": "stream",
     "text": [
      "run time 0.07799911499023438\n",
      "estimator_result [-1.16993962  2.82991043  2.85386524 -1.16993962  2.82991043  2.85386524\n",
      "  3.16993962  4.0851134   4.08240263  3.16993962  4.0851134   4.08240263\n",
      "  1.84855816  1.86847731  1.53283493  1.84855816  1.86847731  1.53283493\n",
      "  2.48704612  2.68859221  2.46716507  2.48704612  2.68859221  2.46716507\n",
      " -1.16993962  2.82991043  2.85386524 -1.16993962  2.82991043  2.85386524\n",
      "  3.16993962  4.0851134   4.08240263  3.16993962  4.0851134   4.08240263\n",
      "  1.84855816  1.86847731  1.53283493  1.84855816  1.86847731  1.53283493\n",
      "  2.48704612  2.68859221  2.46716507  2.48704612  2.68859221  2.46716507\n",
      " -1.26012278  2.74974076  2.800815   -1.26012278  2.74974076  2.800815\n",
      "  3.26012278  4.07450186  4.06736696  3.26012278  4.07450186  4.06736696\n",
      "  1.68448602  1.66282968  1.34061395  1.68448602  1.66282968  1.34061395\n",
      "  2.56301661  2.83550541  2.65938605  2.56301661  2.83550541  2.65938605\n",
      " -1.26012278  2.74974076  2.800815   -1.26012278  2.74974076  2.800815\n",
      "  3.26012278  4.07450186  4.06736696  3.26012278  4.07450186  4.06736696\n",
      "  1.68448602  1.66282968  1.34061395  1.68448602  1.66282968  1.34061395\n",
      "  2.56301661  2.83550541  2.65938605  2.56301661  2.83550541  2.65938605]\n",
      "evaluation_tree [1.0*[1.0*(1.0471975511965979*(1.0*[1.0*0, 1.0*1, 1.0*2] + 1.0*[1.0*3, 1.0*4, 1.0*5]) + -1.0471975511965979*(1.0*[1.0*6, 1.0*7, 1.0*8] + 1.0*[1.0*9, 1.0*10, 1.0*11])), 1.0*(1.0471975511965979*(1.0*[1.0*12, 1.0*13, 1.0*14] + 1.0*[1.0*15, 1.0*16, 1.0*17]) + -1.0471975511965979*(1.0*[1.0*18, 1.0*19, 1.0*20] + 1.0*[1.0*21, 1.0*22, 1.0*23])), 1.0*(0.5*(1.0*[1.0*24, 1.0*25, 1.0*26] + 1.0*[1.0*27, 1.0*28, 1.0*29]) + -0.5*(1.0*[1.0*30, 1.0*31, 1.0*32] + 1.0*[1.0*33, 1.0*34, 1.0*35])), 1.0*(0.5*(1.0*[1.0*36, 1.0*37, 1.0*38] + 1.0*[1.0*39, 1.0*40, 1.0*41]) + -0.5*(1.0*[1.0*42, 1.0*43, 1.0*44] + 1.0*[1.0*45, 1.0*46, 1.0*47]))], 1.0*[1.0*(0.7353144528166684*(1.0*[1.0*48, 1.0*49, 1.0*50] + 1.0*[1.0*51, 1.0*52, 1.0*53]) + -0.7353144528166684*(1.0*[1.0*54, 1.0*55, 1.0*56] + 1.0*[1.0*57, 1.0*58, 1.0*59])), 1.0*(0.7353144528166684*(1.0*[1.0*60, 1.0*61, 1.0*62] + 1.0*[1.0*63, 1.0*64, 1.0*65]) + -0.7353144528166684*(1.0*[1.0*66, 1.0*67, 1.0*68] + 1.0*[1.0*69, 1.0*70, 1.0*71])), 1.0*(0.5*(1.0*[1.0*72, 1.0*73, 1.0*74] + 1.0*[1.0*75, 1.0*76, 1.0*77]) + -0.5*(1.0*[1.0*78, 1.0*79, 1.0*80] + 1.0*[1.0*81, 1.0*82, 1.0*83])), 1.0*(0.5*(1.0*[1.0*84, 1.0*85, 1.0*86] + 1.0*[1.0*87, 1.0*88, 1.0*89]) + -0.5*(1.0*[1.0*90, 1.0*91, 1.0*92] + 1.0*[1.0*93, 1.0*94, 1.0*95]))]]\n"
     ]
    },
    {
     "data": {
      "text/plain": [
       "array([[[-9.08942181, -2.62889096, -2.57304268],\n",
       "        [-1.33724604, -1.71764462, -1.95685649],\n",
       "        [-4.33987923, -1.25520297, -1.22853739],\n",
       "        [-0.63848795, -0.8201149 , -0.93433015]],\n",
       "\n",
       "       [[-6.64760379, -1.94823196, -1.86262793],\n",
       "        [-1.29199249, -1.72457083, -1.93942436],\n",
       "        [-4.52024557, -1.3247611 , -1.26655196],\n",
       "        [-0.8785306 , -1.17267573, -1.3187721 ]]])"
      ]
     },
     "execution_count": 6,
     "metadata": {},
     "output_type": "execute_result"
    }
   ],
   "source": [
    "dictionary_c1 = {x[0]:-0.5,p[0]:10.0,p[1]:20.0,p[2]:30.0,p[3]:40.0}\n",
    "dictionary_c2 = {x[0]: 0.1,p[0]:10.0,p[1]:20.0,p[2]:30.0,p[3]:40.0}\n",
    "\n",
    "dictionary_op = {pop[0]: 0.5,pop[1]:0.75, pop[2]:1.0}\n",
    "\n",
    "estim = Estimator()\n",
    "\n",
    "evaluate_estimator(fm_grad,op_grad,[dictionary_c1,dictionary_c2],dictionary_op,estim)"
   ]
  },
  {
   "cell_type": "code",
   "execution_count": 7,
   "metadata": {},
   "outputs": [
    {
     "name": "stdout",
     "output_type": "stream",
     "text": [
      "run time 0.06499600410461426\n",
      "estimator_result [-1.16993962  2.82991043  2.85386524 -1.16993962  2.82991043  2.85386524\n",
      "  3.16993962  4.0851134   4.08240263  3.16993962  4.0851134   4.08240263\n",
      "  1.84855816  1.86847731  1.53283493  1.84855816  1.86847731  1.53283493\n",
      "  2.48704612  2.68859221  2.46716507  2.48704612  2.68859221  2.46716507\n",
      " -1.16993962  2.82991043  2.85386524 -1.16993962  2.82991043  2.85386524\n",
      "  3.16993962  4.0851134   4.08240263  3.16993962  4.0851134   4.08240263\n",
      "  1.84855816  1.86847731  1.53283493  1.84855816  1.86847731  1.53283493\n",
      "  2.48704612  2.68859221  2.46716507  2.48704612  2.68859221  2.46716507\n",
      " -0.46446626  1.12487038  1.16139234 -0.46446626  1.12487038  1.16139234\n",
      "  1.46446626  1.78725093  1.79466832  1.46446626  1.78725093  1.79466832\n",
      "  0.65495112  0.58141484  0.74359921  0.65495112  0.58141484  0.74359921\n",
      "  1.09421642  1.1677527   1.25640079  1.09421642  1.1677527   1.25640079\n",
      " -0.46446626  1.12487038  1.16139234 -0.46446626  1.12487038  1.16139234\n",
      "  1.46446626  1.78725093  1.79466832  1.46446626  1.78725093  1.79466832\n",
      "  0.65495112  0.58141484  0.74359921  0.65495112  0.58141484  0.74359921\n",
      "  1.09421642  1.1677527   1.25640079  1.09421642  1.1677527   1.25640079]\n",
      "evaluation_tree [1.0*[1.0*(1.0471975511965979*(1.0*[1.0*0, 1.0*1, 1.0*2] + 1.0*[1.0*3, 1.0*4, 1.0*5]) + -1.0471975511965979*(1.0*[1.0*6, 1.0*7, 1.0*8] + 1.0*[1.0*9, 1.0*10, 1.0*11])), 1.0*(1.0471975511965979*(1.0*[1.0*12, 1.0*13, 1.0*14] + 1.0*[1.0*15, 1.0*16, 1.0*17]) + -1.0471975511965979*(1.0*[1.0*18, 1.0*19, 1.0*20] + 1.0*[1.0*21, 1.0*22, 1.0*23])), 1.0*(0.5*(1.0*[1.0*24, 1.0*25, 1.0*26] + 1.0*[1.0*27, 1.0*28, 1.0*29]) + -0.5*(1.0*[1.0*30, 1.0*31, 1.0*32] + 1.0*[1.0*33, 1.0*34, 1.0*35])), 1.0*(0.5*(1.0*[1.0*36, 1.0*37, 1.0*38] + 1.0*[1.0*39, 1.0*40, 1.0*41]) + -0.5*(1.0*[1.0*42, 1.0*43, 1.0*44] + 1.0*[1.0*45, 1.0*46, 1.0*47]))], 1.0*[1.0*(0.7353144528166684*(1.0*[1.0*48, 1.0*49, 1.0*50] + 1.0*[1.0*51, 1.0*52, 1.0*53]) + -0.7353144528166684*(1.0*[1.0*54, 1.0*55, 1.0*56] + 1.0*[1.0*57, 1.0*58, 1.0*59])), 1.0*(0.7353144528166684*(1.0*[1.0*60, 1.0*61, 1.0*62] + 1.0*[1.0*63, 1.0*64, 1.0*65]) + -0.7353144528166684*(1.0*[1.0*66, 1.0*67, 1.0*68] + 1.0*[1.0*69, 1.0*70, 1.0*71])), 1.0*(0.5*(1.0*[1.0*72, 1.0*73, 1.0*74] + 1.0*[1.0*75, 1.0*76, 1.0*77]) + -0.5*(1.0*[1.0*78, 1.0*79, 1.0*80] + 1.0*[1.0*81, 1.0*82, 1.0*83])), 1.0*(0.5*(1.0*[1.0*84, 1.0*85, 1.0*86] + 1.0*[1.0*87, 1.0*88, 1.0*89]) + -0.5*(1.0*[1.0*90, 1.0*91, 1.0*92] + 1.0*[1.0*93, 1.0*94, 1.0*95]))]]\n"
     ]
    },
    {
     "data": {
      "text/plain": [
       "array([[[-9.08942181, -2.62889096, -2.57304268],\n",
       "        [-1.33724604, -1.71764462, -1.95685649],\n",
       "        [-4.33987923, -1.25520297, -1.22853739],\n",
       "        [-0.63848795, -0.8201149 , -0.93433015]],\n",
       "\n",
       "       [[-2.83674391, -0.97411598, -0.93131396],\n",
       "        [-0.64599625, -0.86228541, -0.75414083],\n",
       "        [-1.92893251, -0.66238055, -0.63327598],\n",
       "        [-0.4392653 , -0.58633786, -0.51280158]]])"
      ]
     },
     "execution_count": 7,
     "metadata": {},
     "output_type": "execute_result"
    }
   ],
   "source": [
    "dictionary_c1 = {x[0]:-0.5,p[0]:10.0,p[1]:20.0,p[2]:30.0,p[3]:40.0}\n",
    "dictionary_c2 = {x[0]: 0.1,p[0]:10.0,p[1]:20.0,p[2]:30.0,p[3]:40.0}\n",
    "\n",
    "dictionary_op1 = {pop[0]: 0.5,pop[1]:0.75, pop[2]:1.0}\n",
    "dictionary_op2 = {pop[0]: 0.25,pop[1]:0.25, pop[2]:0.5}\n",
    "\n",
    "estim = Estimator()\n",
    "\n",
    "evaluate_estimator(fm_grad,op_grad,[dictionary_c1,dictionary_c2],[dictionary_op1,dictionary_op2],estim,dictionaries_combined=True)"
   ]
  },
  {
   "cell_type": "code",
   "execution_count": 8,
   "metadata": {},
   "outputs": [
    {
     "name": "stdout",
     "output_type": "stream",
     "text": [
      "[[ 0.00000000e+00 -1.31444548e+00 -1.28652134e+00]\n",
      " [ 0.00000000e+00  2.22044605e-16 -3.34311511e-01]\n",
      " [ 0.00000000e+00 -6.27601486e-01 -6.14268693e-01]\n",
      " [ 5.55111512e-17  5.55111512e-17 -1.59621989e-01]]\n",
      "[[ 1.11022302e-16 -9.74115981e-01 -9.31313963e-01]\n",
      " [ 0.00000000e+00  1.11022302e-16 -3.22998123e-01]\n",
      " [ 0.00000000e+00 -6.62380548e-01 -6.33275981e-01]\n",
      " [ 1.11022302e-16  1.66533454e-16 -2.19632649e-01]]\n"
     ]
    }
   ],
   "source": [
    "from squlearn.util import Executor\n",
    "from squlearn.qnn.qnn import QNN\n",
    "\n",
    "executor = Executor(Estimator())\n",
    "qnn = QNN(fm,op,executor)\n",
    "\n",
    "res = qnn.evaluate_from_string(\"dfdopdp\",x=[-0.5,0.1],param=[10,20,30,40],param_op=[0.5,0.75,1.0])\n",
    "\n",
    "\n",
    "\n",
    "print(res[0].transpose())\n",
    "print(res[1].transpose())"
   ]
  },
  {
   "cell_type": "code",
   "execution_count": 9,
   "metadata": {},
   "outputs": [
    {
     "name": "stdout",
     "output_type": "stream",
     "text": [
      "[1.0*(0.5*acos(x[0])*\n",
      "     ┌───────────────────────────┐┌──────────┐     \n",
      "q_0: ┤ Rx(p[0]*acos(x[0]) + π/2) ├┤ Rx(p[2]) ├──■──\n",
      "     └──┬─────────────────────┬──┘├──────────┤┌─┴─┐\n",
      "q_1: ───┤ Rx(p[1]*acos(x[0])) ├───┤ Rx(p[3]) ├┤ X ├\n",
      "        └─────────────────────┘   └──────────┘└───┘\n",
      " + -0.5*acos(x[0])*\n",
      "     ┌───────────────────────────┐┌──────────┐     \n",
      "q_0: ┤ Rx(p[0]*acos(x[0]) - π/2) ├┤ Rx(p[2]) ├──■──\n",
      "     └──┬─────────────────────┬──┘├──────────┤┌─┴─┐\n",
      "q_1: ───┤ Rx(p[1]*acos(x[0])) ├───┤ Rx(p[3]) ├┤ X ├\n",
      "        └─────────────────────┘   └──────────┘└───┘\n",
      "), 1.0*(0.5*acos(x[0])*\n",
      "        ┌─────────────────────┐   ┌──────────┐     \n",
      "q_0: ───┤ Rx(p[0]*acos(x[0])) ├───┤ Rx(p[2]) ├──■──\n",
      "     ┌──┴─────────────────────┴──┐├──────────┤┌─┴─┐\n",
      "q_1: ┤ Rx(p[1]*acos(x[0]) + π/2) ├┤ Rx(p[3]) ├┤ X ├\n",
      "     └───────────────────────────┘└──────────┘└───┘\n",
      " + -0.5*acos(x[0])*\n",
      "        ┌─────────────────────┐   ┌──────────┐     \n",
      "q_0: ───┤ Rx(p[0]*acos(x[0])) ├───┤ Rx(p[2]) ├──■──\n",
      "     ┌──┴─────────────────────┴──┐├──────────┤┌─┴─┐\n",
      "q_1: ┤ Rx(p[1]*acos(x[0]) - π/2) ├┤ Rx(p[3]) ├┤ X ├\n",
      "     └───────────────────────────┘└──────────┘└───┘\n",
      "), 1.0*(0.5*\n",
      "     ┌─────────────────────┐┌────────────────┐     \n",
      "q_0: ┤ Rx(p[0]*acos(x[0])) ├┤ Rx(p[2] + π/2) ├──■──\n",
      "     ├─────────────────────┤└──┬──────────┬──┘┌─┴─┐\n",
      "q_1: ┤ Rx(p[1]*acos(x[0])) ├───┤ Rx(p[3]) ├───┤ X ├\n",
      "     └─────────────────────┘   └──────────┘   └───┘\n",
      " + -0.5*\n",
      "     ┌─────────────────────┐┌────────────────┐     \n",
      "q_0: ┤ Rx(p[0]*acos(x[0])) ├┤ Rx(p[2] - π/2) ├──■──\n",
      "     ├─────────────────────┤└──┬──────────┬──┘┌─┴─┐\n",
      "q_1: ┤ Rx(p[1]*acos(x[0])) ├───┤ Rx(p[3]) ├───┤ X ├\n",
      "     └─────────────────────┘   └──────────┘   └───┘\n",
      "), 1.0*(0.5*\n",
      "     ┌─────────────────────┐   ┌──────────┐        \n",
      "q_0: ┤ Rx(p[0]*acos(x[0])) ├───┤ Rx(p[2]) ├─────■──\n",
      "     ├─────────────────────┤┌──┴──────────┴──┐┌─┴─┐\n",
      "q_1: ┤ Rx(p[1]*acos(x[0])) ├┤ Rx(p[3] + π/2) ├┤ X ├\n",
      "     └─────────────────────┘└────────────────┘└───┘\n",
      " + -0.5*\n",
      "     ┌─────────────────────┐   ┌──────────┐        \n",
      "q_0: ┤ Rx(p[0]*acos(x[0])) ├───┤ Rx(p[2]) ├─────■──\n",
      "     ├─────────────────────┤┌──┴──────────┴──┐┌─┴─┐\n",
      "q_1: ┤ Rx(p[1]*acos(x[0])) ├┤ Rx(p[3] - π/2) ├┤ X ├\n",
      "     └─────────────────────┘└────────────────┘└───┘\n",
      ")]\n"
     ]
    }
   ],
   "source": [
    "print(fm_grad)"
   ]
  },
  {
   "cell_type": "code",
   "execution_count": 10,
   "metadata": {},
   "outputs": [
    {
     "ename": "IndexError",
     "evalue": "list index out of range",
     "output_type": "error",
     "traceback": [
      "\u001b[1;31m---------------------------------------------------------------------------\u001b[0m",
      "\u001b[1;31mIndexError\u001b[0m                                Traceback (most recent call last)",
      "\u001b[1;32mc:\\Users\\DKR\\Documents\\Git Repositories\\squlearn_fork\\squlearn\\src\\squlearn\\opflow_mitigation\\test_op_derivative.ipynb Cell 10\u001b[0m in \u001b[0;36m<cell line: 3>\u001b[1;34m()\u001b[0m\n\u001b[0;32m      <a href='vscode-notebook-cell:/c%3A/Users/DKR/Documents/Git%20Repositories/squlearn_fork/squlearn/src/squlearn/opflow_mitigation/test_op_derivative.ipynb#X12sZmlsZQ%3D%3D?line=0'>1</a>\u001b[0m sampler \u001b[39m=\u001b[39m Sampler()\n\u001b[1;32m----> <a href='vscode-notebook-cell:/c%3A/Users/DKR/Documents/Git%20Repositories/squlearn_fork/squlearn/src/squlearn/opflow_mitigation/test_op_derivative.ipynb#X12sZmlsZQ%3D%3D?line=2'>3</a>\u001b[0m evaluate_sampler(fm_grad,op_grad,[dictionary_c1,dictionary_c2],[dictionary_op1,dictionary_op2],sampler,dictionaries_combined\u001b[39m=\u001b[39;49m\u001b[39mTrue\u001b[39;49;00m)\n",
      "File \u001b[1;32m~\\Documents\\Git Repositories\\squlearn_fork\\squlearn\\src\\squlearn\\util\\optree\\optree_evaluate.py:416\u001b[0m, in \u001b[0;36mevaluate_sampler\u001b[1;34m(circuit, operator, dictionary_circuit, dictionary_operator, sampler, detect_circuit_duplicates, detect_operator_duplicates, dictionaries_combined)\u001b[0m\n\u001b[0;32m    414\u001b[0m     expec \u001b[39m=\u001b[39m evaluate_expectation_from_sampler(operator_list, sampler_result,i)\n\u001b[0;32m    415\u001b[0m     expec2 \u001b[39m=\u001b[39m [_evaluate_index_tree(operator_tree, expec)]\n\u001b[1;32m--> 416\u001b[0m     final_result\u001b[39m.\u001b[39mappend(_evaluate_index_tree(evaluation_tree\u001b[39m.\u001b[39;49mchildren[i], expec2))\n\u001b[0;32m    417\u001b[0m \u001b[39melse\u001b[39;00m:\n\u001b[0;32m    418\u001b[0m     expec \u001b[39m=\u001b[39m evaluate_expectation_from_sampler(operator_list, sampler_result)\n",
      "File \u001b[1;32m~\\Documents\\Git Repositories\\squlearn_fork\\squlearn\\src\\squlearn\\util\\optree\\optree_evaluate.py:49\u001b[0m, in \u001b[0;36m_evaluate_index_tree\u001b[1;34m(element, result_array)\u001b[0m\n\u001b[0;32m     45\u001b[0m     \u001b[39mraise\u001b[39;00m \u001b[39mValueError\u001b[39;00m(\u001b[39m\"\u001b[39m\u001b[39mAll factors must be numeric for evaluation\u001b[39m\u001b[39m\"\u001b[39m)\n\u001b[0;32m     47\u001b[0m \u001b[39m# Recursive construction of the data array\u001b[39;00m\n\u001b[0;32m     48\u001b[0m temp \u001b[39m=\u001b[39m np\u001b[39m.\u001b[39marray(\n\u001b[1;32m---> 49\u001b[0m     [\n\u001b[0;32m     50\u001b[0m         element\u001b[39m.\u001b[39mfactor[i] \u001b[39m*\u001b[39m _evaluate_index_tree(child, result_array)\n\u001b[0;32m     51\u001b[0m         \u001b[39mfor\u001b[39;00m i, child \u001b[39min\u001b[39;00m \u001b[39menumerate\u001b[39m(element\u001b[39m.\u001b[39mchildren)\n\u001b[0;32m     52\u001b[0m     ]\n\u001b[0;32m     53\u001b[0m )\n\u001b[0;32m     54\u001b[0m \u001b[39mif\u001b[39;00m \u001b[39misinstance\u001b[39m(element, OpTreeNodeSum):\n\u001b[0;32m     55\u001b[0m     \u001b[39m# OpTreeNodeSum -> sum over the array\u001b[39;00m\n\u001b[0;32m     56\u001b[0m     \u001b[39mreturn\u001b[39;00m np\u001b[39m.\u001b[39msum(temp, axis\u001b[39m=\u001b[39m\u001b[39m0\u001b[39m)\n",
      "File \u001b[1;32m~\\Documents\\Git Repositories\\squlearn_fork\\squlearn\\src\\squlearn\\util\\optree\\optree_evaluate.py:50\u001b[0m, in \u001b[0;36m<listcomp>\u001b[1;34m(.0)\u001b[0m\n\u001b[0;32m     45\u001b[0m     \u001b[39mraise\u001b[39;00m \u001b[39mValueError\u001b[39;00m(\u001b[39m\"\u001b[39m\u001b[39mAll factors must be numeric for evaluation\u001b[39m\u001b[39m\"\u001b[39m)\n\u001b[0;32m     47\u001b[0m \u001b[39m# Recursive construction of the data array\u001b[39;00m\n\u001b[0;32m     48\u001b[0m temp \u001b[39m=\u001b[39m np\u001b[39m.\u001b[39marray(\n\u001b[0;32m     49\u001b[0m     [\n\u001b[1;32m---> 50\u001b[0m         element\u001b[39m.\u001b[39mfactor[i] \u001b[39m*\u001b[39m _evaluate_index_tree(child, result_array)\n\u001b[0;32m     51\u001b[0m         \u001b[39mfor\u001b[39;00m i, child \u001b[39min\u001b[39;00m \u001b[39menumerate\u001b[39m(element\u001b[39m.\u001b[39mchildren)\n\u001b[0;32m     52\u001b[0m     ]\n\u001b[0;32m     53\u001b[0m )\n\u001b[0;32m     54\u001b[0m \u001b[39mif\u001b[39;00m \u001b[39misinstance\u001b[39m(element, OpTreeNodeSum):\n\u001b[0;32m     55\u001b[0m     \u001b[39m# OpTreeNodeSum -> sum over the array\u001b[39;00m\n\u001b[0;32m     56\u001b[0m     \u001b[39mreturn\u001b[39;00m np\u001b[39m.\u001b[39msum(temp, axis\u001b[39m=\u001b[39m\u001b[39m0\u001b[39m)\n",
      "File \u001b[1;32m~\\Documents\\Git Repositories\\squlearn_fork\\squlearn\\src\\squlearn\\util\\optree\\optree_evaluate.py:49\u001b[0m, in \u001b[0;36m_evaluate_index_tree\u001b[1;34m(element, result_array)\u001b[0m\n\u001b[0;32m     45\u001b[0m     \u001b[39mraise\u001b[39;00m \u001b[39mValueError\u001b[39;00m(\u001b[39m\"\u001b[39m\u001b[39mAll factors must be numeric for evaluation\u001b[39m\u001b[39m\"\u001b[39m)\n\u001b[0;32m     47\u001b[0m \u001b[39m# Recursive construction of the data array\u001b[39;00m\n\u001b[0;32m     48\u001b[0m temp \u001b[39m=\u001b[39m np\u001b[39m.\u001b[39marray(\n\u001b[1;32m---> 49\u001b[0m     [\n\u001b[0;32m     50\u001b[0m         element\u001b[39m.\u001b[39mfactor[i] \u001b[39m*\u001b[39m _evaluate_index_tree(child, result_array)\n\u001b[0;32m     51\u001b[0m         \u001b[39mfor\u001b[39;00m i, child \u001b[39min\u001b[39;00m \u001b[39menumerate\u001b[39m(element\u001b[39m.\u001b[39mchildren)\n\u001b[0;32m     52\u001b[0m     ]\n\u001b[0;32m     53\u001b[0m )\n\u001b[0;32m     54\u001b[0m \u001b[39mif\u001b[39;00m \u001b[39misinstance\u001b[39m(element, OpTreeNodeSum):\n\u001b[0;32m     55\u001b[0m     \u001b[39m# OpTreeNodeSum -> sum over the array\u001b[39;00m\n\u001b[0;32m     56\u001b[0m     \u001b[39mreturn\u001b[39;00m np\u001b[39m.\u001b[39msum(temp, axis\u001b[39m=\u001b[39m\u001b[39m0\u001b[39m)\n",
      "File \u001b[1;32m~\\Documents\\Git Repositories\\squlearn_fork\\squlearn\\src\\squlearn\\util\\optree\\optree_evaluate.py:50\u001b[0m, in \u001b[0;36m<listcomp>\u001b[1;34m(.0)\u001b[0m\n\u001b[0;32m     45\u001b[0m     \u001b[39mraise\u001b[39;00m \u001b[39mValueError\u001b[39;00m(\u001b[39m\"\u001b[39m\u001b[39mAll factors must be numeric for evaluation\u001b[39m\u001b[39m\"\u001b[39m)\n\u001b[0;32m     47\u001b[0m \u001b[39m# Recursive construction of the data array\u001b[39;00m\n\u001b[0;32m     48\u001b[0m temp \u001b[39m=\u001b[39m np\u001b[39m.\u001b[39marray(\n\u001b[0;32m     49\u001b[0m     [\n\u001b[1;32m---> 50\u001b[0m         element\u001b[39m.\u001b[39mfactor[i] \u001b[39m*\u001b[39m _evaluate_index_tree(child, result_array)\n\u001b[0;32m     51\u001b[0m         \u001b[39mfor\u001b[39;00m i, child \u001b[39min\u001b[39;00m \u001b[39menumerate\u001b[39m(element\u001b[39m.\u001b[39mchildren)\n\u001b[0;32m     52\u001b[0m     ]\n\u001b[0;32m     53\u001b[0m )\n\u001b[0;32m     54\u001b[0m \u001b[39mif\u001b[39;00m \u001b[39misinstance\u001b[39m(element, OpTreeNodeSum):\n\u001b[0;32m     55\u001b[0m     \u001b[39m# OpTreeNodeSum -> sum over the array\u001b[39;00m\n\u001b[0;32m     56\u001b[0m     \u001b[39mreturn\u001b[39;00m np\u001b[39m.\u001b[39msum(temp, axis\u001b[39m=\u001b[39m\u001b[39m0\u001b[39m)\n",
      "File \u001b[1;32m~\\Documents\\Git Repositories\\squlearn_fork\\squlearn\\src\\squlearn\\util\\optree\\optree_evaluate.py:64\u001b[0m, in \u001b[0;36m_evaluate_index_tree\u001b[1;34m(element, result_array)\u001b[0m\n\u001b[0;32m     61\u001b[0m         \u001b[39mraise\u001b[39;00m \u001b[39mValueError\u001b[39;00m(\u001b[39m\"\u001b[39m\u001b[39melement must be a OpTreeNodeSum or a OpTreeNodeList\u001b[39m\u001b[39m\"\u001b[39m)\n\u001b[0;32m     62\u001b[0m \u001b[39melif\u001b[39;00m \u001b[39misinstance\u001b[39m(element, OpTreeLeafContainer):\n\u001b[0;32m     63\u001b[0m     \u001b[39m# Return value from the result array\u001b[39;00m\n\u001b[1;32m---> 64\u001b[0m     \u001b[39mreturn\u001b[39;00m result_array[element\u001b[39m.\u001b[39;49mitem]\n\u001b[0;32m     65\u001b[0m \u001b[39melse\u001b[39;00m:\n\u001b[0;32m     66\u001b[0m     \u001b[39mprint\u001b[39m(\u001b[39mtype\u001b[39m(element))\n",
      "\u001b[1;31mIndexError\u001b[0m: list index out of range"
     ]
    }
   ],
   "source": [
    "sampler = Sampler()\n",
    "\n",
    "evaluate_sampler(fm_grad,op_grad,[dictionary_c1,dictionary_c2],[dictionary_op1,dictionary_op2],sampler,dictionaries_combined=False)"
   ]
  }
 ],
 "metadata": {
  "kernelspec": {
   "display_name": "Python 3",
   "language": "python",
   "name": "python3"
  },
  "language_info": {
   "codemirror_mode": {
    "name": "ipython",
    "version": 3
   },
   "file_extension": ".py",
   "mimetype": "text/x-python",
   "name": "python",
   "nbconvert_exporter": "python",
   "pygments_lexer": "ipython3",
   "version": "3.10.2"
  },
  "orig_nbformat": 4
 },
 "nbformat": 4,
 "nbformat_minor": 2
}
