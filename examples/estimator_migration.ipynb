{
 "cells": [
  {
   "cell_type": "code",
   "execution_count": 1,
   "metadata": {},
   "outputs": [
    {
     "data": {
      "text/plain": [
       "array(0.01092833)"
      ]
     },
     "execution_count": 1,
     "metadata": {},
     "output_type": "execute_result"
    }
   ],
   "source": [
    "import numpy as np\n",
    "from qiskit_aer import Aer\n",
    "from qiskit.primitives import StatevectorEstimator\n",
    "\n",
    "from qiskit import QuantumCircuit\n",
    "from qiskit.quantum_info import SparsePauliOp\n",
    "\n",
    "\n",
    "qc = QuantumCircuit(2)\n",
    "qc.h(0)\n",
    "qc.h(1)\n",
    "\n",
    "obs = SparsePauliOp(\"ZZ\")\n",
    "\n",
    "num_shots = 1000\n",
    "\n",
    "# Statevector Estimator\n",
    "# Dict for Options unfortunatly not available ...\n",
    "estimator = StatevectorEstimator(seed=1, default_precision=1 / np.sqrt(num_shots))\n",
    "job = estimator.run([(qc, obs)])\n",
    "result = job.result()[0]\n",
    "result.data.evs"
   ]
  },
  {
   "cell_type": "code",
   "execution_count": 2,
   "metadata": {},
   "outputs": [
    {
     "data": {
      "text/plain": [
       "array(-0.08951744)"
      ]
     },
     "execution_count": 2,
     "metadata": {},
     "output_type": "execute_result"
    }
   ],
   "source": [
    "# set seed after creation (probably not needed)\n",
    "estimator._seed = 1234\n",
    "num_shots = 321\n",
    "job = estimator.run([(qc, obs)], precision=1 / np.sqrt(num_shots))\n",
    "result = job.result()[0]\n",
    "result.data.evs"
   ]
  },
  {
   "cell_type": "code",
   "execution_count": 3,
   "metadata": {},
   "outputs": [
    {
     "name": "stdout",
     "output_type": "stream",
     "text": [
      "evs: -0.03805668016194332\n",
      "performed shots: 1235\n"
     ]
    }
   ],
   "source": [
    "from qiskit.primitives import BackendEstimatorV2  # Only available at Qiskit 1.2\n",
    "\n",
    "\n",
    "backend = Aer.get_backend(\"qasm_simulator\")\n",
    "# this is how to set a seed for the qasm simulator, default shots can be set with default_shots\n",
    "num_shots = 1234\n",
    "sampler = BackendEstimatorV2(\n",
    "    backend=backend, options={\"seed_simulator\": 1, \"default_precision\": 1 / np.sqrt(num_shots)}\n",
    ")\n",
    "\n",
    "\n",
    "job = sampler.run([(qc, obs)])  # , precision=1/np.sqrt(num_shots))\n",
    "result = job.result()[0]\n",
    "print(\"evs:\", result.data.evs)\n",
    "print(\"performed shots:\", result.metadata[\"shots\"])"
   ]
  },
  {
   "cell_type": "code",
   "execution_count": 4,
   "metadata": {},
   "outputs": [
    {
     "data": {
      "text/plain": [
       "array(-0.01376518)"
      ]
     },
     "execution_count": 4,
     "metadata": {},
     "output_type": "execute_result"
    }
   ],
   "source": [
    "from qiskit_ibm_runtime import EstimatorV2\n",
    "from qiskit_ibm_runtime.fake_provider import FakeManilaV2\n",
    "\n",
    "# this is similar to the old optimization level of the V1 Primitives\n",
    "from qiskit.transpiler.preset_passmanagers import generate_preset_pass_manager\n",
    "\n",
    "fake_backend = FakeManilaV2()\n",
    "\n",
    "# In case of the fake backend, the seed and the default precision is set in the options\n",
    "options = {\"simulator\": {\"seed_simulator\": 42}, \"default_precision\": 1 / np.sqrt(num_shots)}\n",
    "\n",
    "estimator = EstimatorV2(backend=fake_backend, options=options)\n",
    "\n",
    "# transpiling has to be done before running the job :/\n",
    "pm = generate_preset_pass_manager(backend=fake_backend, optimization_level=1)\n",
    "isa_qc = pm.run(qc)\n",
    "isa_observables = obs.apply_layout(isa_qc.layout)\n",
    "\n",
    "job = estimator.run([(isa_qc, isa_observables)])\n",
    "result = job.result()[0]\n",
    "result.data.evs"
   ]
  },
  {
   "cell_type": "code",
   "execution_count": 5,
   "metadata": {},
   "outputs": [
    {
     "data": {
      "text/plain": [
       "array(0.00322997)"
      ]
     },
     "execution_count": 5,
     "metadata": {},
     "output_type": "execute_result"
    }
   ],
   "source": [
    "job = estimator.run([(isa_qc, isa_observables)], precision=1 / np.sqrt(100000))\n",
    "result = job.result()[0]\n",
    "result.data.evs"
   ]
  },
  {
   "cell_type": "code",
   "execution_count": 6,
   "metadata": {},
   "outputs": [
    {
     "name": "stdout",
     "output_type": "stream",
     "text": [
      "evs: -0.03805668016194332\n"
     ]
    },
    {
     "data": {
      "text/plain": [
       "PubResult(data=DataBin(evs=np.ndarray(<shape=(), dtype=float64>), stds=0.028434905975046908), metadata={'target_precision': 0.028467047115478598, 'shots': 1235, 'circuit_metadata': {}})"
      ]
     },
     "execution_count": 6,
     "metadata": {},
     "output_type": "execute_result"
    }
   ],
   "source": [
    "from squlearn import Executor\n",
    "\n",
    "backend = Aer.get_backend(\"qasm_simulator\")\n",
    "# this is how to set a seed for the qasm simulator, default shots can be set with default_shots\n",
    "num_shots = 1234\n",
    "estimator = BackendEstimatorV2(\n",
    "    backend=backend, options={\"seed_simulator\": 1, \"default_precision\": 1 / np.sqrt(num_shots)}\n",
    ")\n",
    "\n",
    "executor = Executor(estimator,cache_dir=\"cache\",caching=True,log_file=\"log.txt\")\n",
    "\n",
    "\n",
    "estimator_exec = executor.get_estimator_v2()\n",
    "\n",
    "job = estimator_exec.run([(qc, obs)])  # , precision=1/np.sqrt(num_shots))\n",
    "result = job.result()[0]\n",
    "print(\"evs:\", result.data.evs)\n",
    "result"
   ]
  }
 ],
 "metadata": {
  "kernelspec": {
   "display_name": ".venv",
   "language": "python",
   "name": "python3"
  },
  "language_info": {
   "codemirror_mode": {
    "name": "ipython",
    "version": 3
   },
   "file_extension": ".py",
   "mimetype": "text/x-python",
   "name": "python",
   "nbconvert_exporter": "python",
   "pygments_lexer": "ipython3",
   "version": "3.9.13"
  }
 },
 "nbformat": 4,
 "nbformat_minor": 2
}
