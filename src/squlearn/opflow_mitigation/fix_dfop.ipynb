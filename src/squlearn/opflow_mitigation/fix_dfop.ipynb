{
 "cells": [
  {
   "cell_type": "code",
   "execution_count": null,
   "metadata": {},
   "outputs": [],
   "source": [
    "import numpy as np\n",
    "\n",
    "from squlearn.feature_map import ChebPQC\n",
    "from squlearn.expectation_operator import SummedPaulis, IsingHamiltonian\n",
    "\n",
    "from squlearn.qnn.qnn_optree import QNN\n",
    "\n",
    "from squlearn.qnn.qnn import QNN as QNN_old\n",
    "\n",
    "from squlearn import Executor\n",
    "\n",
    "from squlearn.util.optree import *\n",
    "\n",
    "fm = ChebPQC(3, 1, 1)\n",
    "op = SummedPaulis(3)\n",
    "op2 = SummedPaulis(3)\n",
    "\n",
    "\n",
    "qnn = QNN(fm, [op, op2], Executor(), result_caching=False)\n",
    "x = 0.5\n",
    "np.random.seed(0)\n",
    "params = np.random.rand(qnn.num_parameters)\n",
    "params_op = np.random.rand(qnn.num_parameters_operator)"
   ]
  },
  {
   "cell_type": "code",
   "execution_count": null,
   "metadata": {},
   "outputs": [],
   "source": [
    "print(qnn.operator_derivatives._optree_start)\n",
    "pop = qnn.operator_derivatives._parameter_vector\n",
    "start = qnn.operator_derivatives._optree_start"
   ]
  },
  {
   "cell_type": "code",
   "execution_count": null,
   "metadata": {},
   "outputs": [],
   "source": [
    "print(start)"
   ]
  },
  {
   "cell_type": "code",
   "execution_count": null,
   "metadata": {},
   "outputs": [],
   "source": [
    "print(derivative(start, pop))"
   ]
  },
  {
   "cell_type": "code",
   "execution_count": null,
   "metadata": {},
   "outputs": [],
   "source": [
    "print(qnn.operator_derivatives.get_derivative(\"dop\"))"
   ]
  },
  {
   "cell_type": "code",
   "execution_count": null,
   "metadata": {},
   "outputs": [],
   "source": [
    "qnn_old = QNN_old(fm, [op, op2], Executor(), result_caching=False)"
   ]
  },
  {
   "cell_type": "code",
   "execution_count": null,
   "metadata": {},
   "outputs": [],
   "source": [
    "qnn_old.evaluate((\"dfdop\",), x, params, params_op)"
   ]
  },
  {
   "cell_type": "code",
   "execution_count": null,
   "metadata": {},
   "outputs": [],
   "source": [
    "qnn.evaluate((\"dfdp\",), x, params, params_op)"
   ]
  },
  {
   "cell_type": "code",
   "execution_count": null,
   "metadata": {},
   "outputs": [],
   "source": [
    "qnn.evaluate((\"dfdop\",), x, params, params_op)"
   ]
  },
  {
   "cell_type": "code",
   "execution_count": null,
   "metadata": {},
   "outputs": [],
   "source": [
    "qnn.evaluate((\"dfdopdp\",), x, params, params_op)"
   ]
  },
  {
   "cell_type": "code",
   "execution_count": null,
   "metadata": {},
   "outputs": [],
   "source": [
    "qnn.evaluate((\"dfdop\",), [x, x], [params, 2 * params, 3 * params], [params_op, params_op])"
   ]
  }
 ],
 "metadata": {
  "kernelspec": {
   "display_name": "Python 3",
   "language": "python",
   "name": "python3"
  },
  "language_info": {
   "codemirror_mode": {
    "name": "ipython",
    "version": 3
   },
   "file_extension": ".py",
   "mimetype": "text/x-python",
   "name": "python",
   "nbconvert_exporter": "python",
   "pygments_lexer": "ipython3",
   "version": "3.10.2"
  },
  "orig_nbformat": 4
 },
 "nbformat": 4,
 "nbformat_minor": 2
}
