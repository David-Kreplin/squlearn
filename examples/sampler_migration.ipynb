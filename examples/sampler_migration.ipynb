{
 "cells": [
  {
   "cell_type": "code",
   "execution_count": 1,
   "metadata": {},
   "outputs": [
    {
     "data": {
      "text/plain": [
       "{'10': 223, '11': 270, '00': 239, '01': 268}"
      ]
     },
     "execution_count": 1,
     "metadata": {},
     "output_type": "execute_result"
    }
   ],
   "source": [
    "from qiskit_aer import Aer\n",
    "\n",
    "from qiskit.primitives import StatevectorSampler\n",
    "\n",
    "from qiskit import QuantumCircuit\n",
    "\n",
    "\n",
    "qc = QuantumCircuit(2)\n",
    "qc.h(0)\n",
    "qc.h(1)\n",
    "qc.measure_all()\n",
    "\n",
    "\n",
    "# Statevector Sampler\n",
    "sampler = StatevectorSampler(seed=1)\n",
    "job = sampler.run([(qc)], shots=1000)\n",
    "result = job.result()[0]\n",
    "result.data.meas.get_counts()"
   ]
  },
  {
   "cell_type": "code",
   "execution_count": 2,
   "metadata": {},
   "outputs": [
    {
     "data": {
      "text/plain": [
       "{'11': 242, '01': 244, '00': 254, '10': 260}"
      ]
     },
     "execution_count": 2,
     "metadata": {},
     "output_type": "execute_result"
    }
   ],
   "source": [
    "# set seed after creation (probably notneeded)\n",
    "sampler._seed = 1234\n",
    "job = sampler.run([(qc)], shots=1000)\n",
    "result = job.result()[0]\n",
    "result.data.meas.get_counts()"
   ]
  },
  {
   "cell_type": "code",
   "execution_count": 3,
   "metadata": {},
   "outputs": [
    {
     "data": {
      "text/plain": [
       "{'10': 266, '11': 253, '00': 225, '01': 256}"
      ]
     },
     "execution_count": 3,
     "metadata": {},
     "output_type": "execute_result"
    }
   ],
   "source": [
    "from qiskit.primitives import BackendSamplerV2  # Only available at Qiskit 1.2\n",
    "\n",
    "# Seed not working?\n",
    "\n",
    "backend = Aer.get_backend(\"qasm_simulator\")\n",
    "# this is how to set a seed for the qasm simulator, default shots can be set with default_shots\n",
    "sampler = BackendSamplerV2(backend=backend, options={\"seed_simulator\": 1})\n",
    "\n",
    "job = sampler.run([(qc)], shots=1000)\n",
    "result = job.result()[0]\n",
    "result.data.meas.get_counts()"
   ]
  },
  {
   "cell_type": "code",
   "execution_count": 4,
   "metadata": {},
   "outputs": [
    {
     "data": {
      "text/plain": [
       "{'00': 299, '10': 281, '11': 199, '01': 221}"
      ]
     },
     "execution_count": 4,
     "metadata": {},
     "output_type": "execute_result"
    }
   ],
   "source": [
    "from qiskit_ibm_runtime import SamplerV2\n",
    "from qiskit_ibm_runtime.fake_provider import FakeManilaV2\n",
    "\n",
    "# this is similar to the old optimization level of the V1 Primitives\n",
    "from qiskit.transpiler.preset_passmanagers import generate_preset_pass_manager\n",
    "\n",
    "fake_backend = FakeManilaV2()\n",
    "\n",
    "# In case o the fake backend, the seed is set in the options\n",
    "options = {\"simulator\": {\"seed_simulator\": 42}}\n",
    "\n",
    "sampler = SamplerV2(backend=fake_backend, options=options)\n",
    "\n",
    "# transpiling has to be done before running the job :/\n",
    "pm = generate_preset_pass_manager(backend=fake_backend, optimization_level=1)\n",
    "isa_qc = pm.run(qc)\n",
    "\n",
    "job = sampler.run([(isa_qc)], shots=1000)\n",
    "result = job.result()[0]\n",
    "result.data.meas.get_counts()"
   ]
  }
 ],
 "metadata": {
  "kernelspec": {
   "display_name": ".venv",
   "language": "python",
   "name": "python3"
  },
  "language_info": {
   "codemirror_mode": {
    "name": "ipython",
    "version": 3
   },
   "file_extension": ".py",
   "mimetype": "text/x-python",
   "name": "python",
   "nbconvert_exporter": "python",
   "pygments_lexer": "ipython3",
   "version": "3.9.13"
  }
 },
 "nbformat": 4,
 "nbformat_minor": 2
}
