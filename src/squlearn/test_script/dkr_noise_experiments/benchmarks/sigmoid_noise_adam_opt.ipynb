{
 "cells": [
  {
   "cell_type": "code",
   "execution_count": null,
   "id": "initial_id",
   "metadata": {
    "ExecuteTime": {
     "end_time": "2023-12-18T07:08:39.782836600Z",
     "start_time": "2023-12-18T07:08:36.816859300Z"
    },
    "collapsed": true
   },
   "outputs": [],
   "source": [
    "import numpy as np\n",
    "import matplotlib.pyplot as plt\n",
    "\n",
    "from squlearn import Executor\n",
    "from squlearn.encoding_circuit import ChebyshevRx\n",
    "from squlearn.observables import SummedPaulis\n",
    "from squlearn.qnn import QNNRegressor, SquaredLoss\n",
    "from squlearn.optimizers import Adam, SGLBO"
   ]
  },
  {
   "cell_type": "markdown",
   "id": "f2ee643afa4b729c",
   "metadata": {
    "collapsed": false
   },
   "source": [
    "## PQC"
   ]
  },
  {
   "cell_type": "code",
   "execution_count": null,
   "id": "47da5f6c6d0de19b",
   "metadata": {
    "ExecuteTime": {
     "end_time": "2023-12-18T07:08:40.237855900Z",
     "start_time": "2023-12-18T07:08:39.784837100Z"
    },
    "collapsed": false
   },
   "outputs": [],
   "source": [
    "executor = Executor(\"qasm_simulator\")\n",
    "executor.set_shots(5000)\n",
    "\n",
    "nqubits = 4\n",
    "number_of_layers = 2\n",
    "\n",
    "pqc = ChebyshevRx(nqubits, 1, num_layers=number_of_layers)\n",
    "pqc.draw(\"mpl\")"
   ]
  },
  {
   "cell_type": "markdown",
   "id": "71fa572aa88aa39d",
   "metadata": {
    "collapsed": false
   },
   "source": [
    "## Observable"
   ]
  },
  {
   "cell_type": "code",
   "execution_count": null,
   "id": "6f60de3e814ea178",
   "metadata": {
    "ExecuteTime": {
     "end_time": "2023-12-18T07:08:40.282896100Z",
     "start_time": "2023-12-18T07:08:40.237855900Z"
    },
    "collapsed": false
   },
   "outputs": [],
   "source": [
    "op = SummedPaulis(nqubits)\n",
    "print(op)"
   ]
  },
  {
   "cell_type": "code",
   "execution_count": null,
   "id": "7f648a37e375aafc",
   "metadata": {
    "ExecuteTime": {
     "end_time": "2023-12-18T07:08:40.291907300Z",
     "start_time": "2023-12-18T07:08:40.252868900Z"
    },
    "collapsed": false
   },
   "outputs": [],
   "source": [
    "def sigmoid(x, a, b, c):\n",
    "    return 1 / (1 + np.exp(-a * (x - b) / c))"
   ]
  },
  {
   "cell_type": "code",
   "execution_count": null,
   "id": "eeae8290cc93afaf",
   "metadata": {
    "ExecuteTime": {
     "end_time": "2023-12-18T08:50:03.692971Z",
     "start_time": "2023-12-18T07:08:40.272887900Z"
    },
    "collapsed": false
   },
   "outputs": [],
   "source": [
    "# Randomly initialize parameters of the encoding circuit\n",
    "np.random.seed(13)\n",
    "param_ini =  np.random.rand(pqc.num_parameters)\n",
    "# Initialize parameters of the observable as ones\n",
    "param_op_ini = np.random.rand(op.num_parameters)\n",
    "\n",
    "qnn_simulator_adam = QNNRegressor(\n",
    "    pqc,\n",
    "    op,\n",
    "    executor,\n",
    "    SquaredLoss(),\n",
    "    Adam({\"lr\": 0.001,\"log_file\": \"adam_sigmoid_noise_lr_0.001.log\", \"maxiter\": 300}),\n",
    "    param_ini,\n",
    "    param_op_ini=param_op_ini,\n",
    "    opt_param_op=True, \n",
    "    parameter_seed=124\n",
    ")\n",
    "\n",
    "x_train = np.arange(-1, 1.1, 0.1)\n",
    "y_train = sigmoid(x_train, 5, 0, 1)\n",
    "\n",
    "qnn_simulator_adam.fit(x_train, y_train)"
   ]
  },
  {
   "cell_type": "code",
   "execution_count": null,
   "metadata": {},
   "outputs": [],
   "source": [
    "# Randomly initialize parameters of the encoding circuit\n",
    "np.random.seed(13)\n",
    "param_ini =  np.random.rand(pqc.num_parameters)\n",
    "# Initialize parameters of the observable as ones\n",
    "param_op_ini = np.random.rand(op.num_parameters)\n",
    "\n",
    "qnn_simulator_adam = QNNRegressor(\n",
    "    pqc,\n",
    "    op,\n",
    "    executor,\n",
    "    SquaredLoss(),\n",
    "    Adam({\"lr\": 0.01,\"log_file\": \"adam_sigmoid_noise_lr_0.01.log\", \"maxiter\": 300}),\n",
    "    param_ini,\n",
    "    param_op_ini=param_op_ini,\n",
    "    opt_param_op=True, \n",
    "    parameter_seed=124\n",
    ")\n",
    "\n",
    "x_train = np.arange(-1, 1.1, 0.1)\n",
    "y_train = sigmoid(x_train, 5, 0, 1)\n",
    "\n",
    "qnn_simulator_adam.fit(x_train, y_train)"
   ]
  },
  {
   "cell_type": "code",
   "execution_count": null,
   "metadata": {},
   "outputs": [],
   "source": [
    "# Randomly initialize parameters of the encoding circuit\n",
    "np.random.seed(13)\n",
    "param_ini =  np.random.rand(pqc.num_parameters)\n",
    "# Initialize parameters of the observable as ones\n",
    "param_op_ini = np.random.rand(op.num_parameters)\n",
    "\n",
    "qnn_simulator_adam = QNNRegressor(\n",
    "    pqc,\n",
    "    op,\n",
    "    executor,\n",
    "    SquaredLoss(),\n",
    "    Adam({\"lr\": 0.1,\"log_file\": \"adam_sigmoid_noise_lr_0.1.log\", \"maxiter\": 300}),\n",
    "    param_ini,\n",
    "    param_op_ini=param_op_ini,\n",
    "    opt_param_op=True,\n",
    "    parameter_seed=124\n",
    ")\n",
    "\n",
    "x_train = np.arange(-1, 1.1, 0.1)\n",
    "y_train = sigmoid(x_train, 5, 0, 1)\n",
    "\n",
    "qnn_simulator_adam.fit(x_train, y_train)"
   ]
  }
 ],
 "metadata": {
  "kernelspec": {
   "display_name": "Python 3",
   "language": "python",
   "name": "python3"
  },
  "language_info": {
   "codemirror_mode": {
    "name": "ipython",
    "version": 2
   },
   "file_extension": ".py",
   "mimetype": "text/x-python",
   "name": "python",
   "nbconvert_exporter": "python",
   "pygments_lexer": "ipython2",
   "version": "2.7.6"
  }
 },
 "nbformat": 4,
 "nbformat_minor": 5
}
