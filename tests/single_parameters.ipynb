{
 "cells": [
  {
   "cell_type": "code",
   "execution_count": 1,
   "metadata": {},
   "outputs": [],
   "source": [
    "import numpy as np\n",
    "from squlearn.encoding_circuit import ChebyshevRx\n",
    "from squlearn.observables import SummedPaulis\n",
    "from squlearn import Executor\n",
    "\n",
    "from squlearn.qnn.lowlevel_qnn_pennylane import LowLevelQNNPennyLane\n",
    "from squlearn.qnn.lowlevel_qnn_qiskit import LowLevelQNN"
   ]
  },
  {
   "cell_type": "code",
   "execution_count": 2,
   "metadata": {},
   "outputs": [
    {
     "name": "stdout",
     "output_type": "stream",
     "text": [
      "self._pennylane_gates [<class 'pennylane.ops.qubit.parametric_ops_single_qubit.RX'>, <class 'pennylane.ops.qubit.parametric_ops_single_qubit.RX'>, <class 'pennylane.ops.qubit.parametric_ops_single_qubit.RX'>, <class 'pennylane.ops.qubit.parametric_ops_single_qubit.RX'>, <class 'pennylane.ops.qubit.non_parametric_ops.CNOT'>]\n",
      "self._pennylane_gates_param_function [(<function _lambdifygenerated at 0x000001A99D974310>,), (<function _lambdifygenerated at 0x000001A99D8BBE20>,), (<function _lambdifygenerated at 0x000001A99D974820>,), (<function _lambdifygenerated at 0x000001A99D975510>,), None]\n",
      "self._pennylane_gates_wires [[0], [1], [0], [1], [0, 1]]\n",
      "self._pennylane_gates_parameters ['param', 'x']\n",
      "self._pennylane_gates_parameters ['param', 'x']\n"
     ]
    }
   ],
   "source": [
    "pqc = ChebyshevRx(2,1)\n",
    "obs = SummedPaulis(2)\n",
    "\n",
    "np.random.seed(0)\n",
    "param = np.random.rand(pqc.num_parameters)\n",
    "param_obs = np.random.rand(obs.num_parameters)\n",
    "\n",
    "qnn_pl = LowLevelQNNPennyLane(pqc, obs, None)"
   ]
  },
  {
   "cell_type": "code",
   "execution_count": 3,
   "metadata": {},
   "outputs": [],
   "source": [
    "qnn_qiskit = LowLevelQNN(pqc, obs, Executor())"
   ]
  },
  {
   "cell_type": "code",
   "execution_count": 4,
   "metadata": {},
   "outputs": [
    {
     "name": "stdout",
     "output_type": "stream",
     "text": [
      "0.7170543287605058\n",
      "()\n"
     ]
    }
   ],
   "source": [
    "val = qnn_qiskit.evaluate(0.5,param,param_obs,\"f\")[\"f\"]\n",
    "print(val)\n",
    "print(val.shape)"
   ]
  },
  {
   "cell_type": "code",
   "execution_count": 5,
   "metadata": {},
   "outputs": [
    {
     "name": "stdout",
     "output_type": "stream",
     "text": [
      "param_ [0.5488135  0.71518937 0.60276338 0.54488318]\n",
      "x_ [0.5]\n",
      "param_obs_ [0.4236548  0.64589411 0.43758721]\n",
      "self._pennylane_gates_parameters ['param', 'x']\n",
      "self._pennylane_obs_parameters ['param_obs']\n",
      "circ_param_list [tensor(0.5488135, requires_grad=False), tensor(0.71518937, requires_grad=False), tensor(0.60276338, requires_grad=False), tensor(0.54488318, requires_grad=False), tensor(0.5, requires_grad=False)]\n",
      "value 0.7170543287605057\n",
      "values [0.71705433]\n",
      "values.shape (1,)\n",
      "shape before reshape (1,)\n",
      "0.7170543287605057\n",
      "()\n"
     ]
    }
   ],
   "source": [
    "val = qnn_pl.evaluate(0.5,param,param_obs,\"f\")[\"f\"]\n",
    "print(val)\n",
    "print(val.shape)"
   ]
  },
  {
   "cell_type": "code",
   "execution_count": 6,
   "metadata": {},
   "outputs": [
    {
     "name": "stdout",
     "output_type": "stream",
     "text": [
      "[-0.74046648 -0.16892925 -0.70709341 -0.16131555]\n",
      "(4,)\n"
     ]
    }
   ],
   "source": [
    "val = qnn_qiskit.evaluate(0.5,param,param_obs,\"dfdp\")[\"dfdp\"]\n",
    "print(val)\n",
    "print(val.shape)"
   ]
  },
  {
   "cell_type": "code",
   "execution_count": 7,
   "metadata": {},
   "outputs": [
    {
     "name": "stdout",
     "output_type": "stream",
     "text": [
      "self._pennylane_gates_parameters ['param', 'x']\n",
      "self._pennylane_obs_parameters ['param_obs']\n",
      "circ_param_list [<autograd.numpy.numpy_boxes.ArrayBox object at 0x000001A99FAE9680>, <autograd.numpy.numpy_boxes.ArrayBox object at 0x000001A99FAE96C0>, <autograd.numpy.numpy_boxes.ArrayBox object at 0x000001A99FAE9DC0>, <autograd.numpy.numpy_boxes.ArrayBox object at 0x000001A99FAE9F40>, tensor(0.5, requires_grad=False)]\n",
      "values [[-0.74046648 -0.16892925 -0.70709341 -0.16131555]]\n",
      "values.shape (1, 4)\n",
      "shape before reshape (1, 4)\n",
      "reshape_list [4]\n",
      "[-0.74046648 -0.16892925 -0.70709341 -0.16131555]\n",
      "(4,)\n"
     ]
    }
   ],
   "source": [
    "val = qnn_pl.evaluate(0.5,param,param_obs,\"dfdp\")[\"dfdp\"]\n",
    "print(val)\n",
    "print(val.shape)"
   ]
  },
  {
   "cell_type": "code",
   "execution_count": 8,
   "metadata": {},
   "outputs": [
    {
     "name": "stdout",
     "output_type": "stream",
     "text": [
      "[1.         0.38325405 0.10479738]\n",
      "(3,)\n"
     ]
    }
   ],
   "source": [
    "val = qnn_qiskit.evaluate(0.5,param,param_obs,\"dfdop\")[\"dfdop\"]\n",
    "print(val)\n",
    "print(val.shape)"
   ]
  },
  {
   "cell_type": "code",
   "execution_count": 9,
   "metadata": {},
   "outputs": [
    {
     "name": "stdout",
     "output_type": "stream",
     "text": [
      "self._pennylane_gates_parameters ['param', 'x']\n",
      "self._pennylane_obs_parameters ['param_obs']\n",
      "circ_param_list [tensor(0.5488135, requires_grad=False), tensor(0.71518937, requires_grad=False), tensor(0.60276338, requires_grad=False), tensor(0.54488318, requires_grad=False), tensor(0.5, requires_grad=False)]\n",
      "values [[1.         0.38325405 0.10479738]]\n",
      "values.shape (1, 3)\n",
      "shape before reshape (1, 3)\n",
      "reshape_list [3]\n",
      "[1.         0.38325405 0.10479738]\n",
      "(3,)\n"
     ]
    }
   ],
   "source": [
    "val = qnn_pl.evaluate(0.5,param,param_obs,\"dfdop\")[\"dfdop\"]\n",
    "print(val)\n",
    "print(val.shape)"
   ]
  },
  {
   "cell_type": "code",
   "execution_count": 10,
   "metadata": {},
   "outputs": [
    {
     "name": "stdout",
     "output_type": "stream",
     "text": [
      "[0.58131502]\n",
      "(1,)\n"
     ]
    }
   ],
   "source": [
    "val = qnn_qiskit.evaluate(0.5,param,param_obs,\"dfdx\")[\"dfdx\"]\n",
    "print(val)\n",
    "print(val.shape)"
   ]
  },
  {
   "cell_type": "code",
   "execution_count": 11,
   "metadata": {},
   "outputs": [
    {
     "name": "stdout",
     "output_type": "stream",
     "text": [
      "self._pennylane_gates_parameters ['param', 'x']\n",
      "self._pennylane_obs_parameters ['param_obs']\n",
      "circ_param_list [tensor(0.5488135, requires_grad=False), tensor(0.71518937, requires_grad=False), tensor(0.60276338, requires_grad=False), tensor(0.54488318, requires_grad=False), <autograd.numpy.numpy_boxes.ArrayBox object at 0x000001A99D9EA6C0>]\n",
      "values [[0.58131502]]\n",
      "values.shape (1, 1)\n",
      "shape before reshape (1, 1)\n",
      "reshape_list [1]\n",
      "[0.58131502]\n",
      "(1,)\n"
     ]
    }
   ],
   "source": [
    "val = qnn_pl.evaluate(0.5,param,param_obs,\"dfdx\")[\"dfdx\"]\n",
    "print(val)\n",
    "print(val.shape)"
   ]
  },
  {
   "cell_type": "code",
   "execution_count": 12,
   "metadata": {},
   "outputs": [
    {
     "name": "stdout",
     "output_type": "stream",
     "text": [
      "[[-0.32174859  0.42633485 -0.30724727  0.4071198 ]\n",
      " [ 0.42633485 -0.05028892  0.4071198  -0.04802238]\n",
      " [-0.30724727  0.4071198  -0.29339953  0.38877077]\n",
      " [ 0.4071198  -0.04802238  0.38877077 -0.04585799]]\n",
      "(4, 4)\n"
     ]
    }
   ],
   "source": [
    "val = qnn_qiskit.evaluate(0.5,param,param_obs,\"dfdpdp\")[\"dfdpdp\"]\n",
    "print(val)\n",
    "print(val.shape)"
   ]
  },
  {
   "cell_type": "code",
   "execution_count": 13,
   "metadata": {},
   "outputs": [
    {
     "name": "stdout",
     "output_type": "stream",
     "text": [
      "self._pennylane_gates_parameters ['param', 'x']\n",
      "self._pennylane_obs_parameters ['param_obs']\n",
      "circ_param_list [<autograd.numpy.numpy_boxes.ArrayBox object at 0x000001A99FBFC400>, <autograd.numpy.numpy_boxes.ArrayBox object at 0x000001A99FBFC840>, <autograd.numpy.numpy_boxes.ArrayBox object at 0x000001A99FBFD180>, <autograd.numpy.numpy_boxes.ArrayBox object at 0x000001A99FBFC080>, tensor(0.5, requires_grad=False)]\n",
      "values [[[-0.32174859  0.42633485 -0.30724727  0.4071198 ]\n",
      "  [ 0.42633485 -0.05028892  0.4071198  -0.04802238]\n",
      "  [-0.30724727  0.4071198  -0.29339953  0.38877077]\n",
      "  [ 0.4071198  -0.04802238  0.38877077 -0.04585799]]]\n",
      "values.shape (1, 4, 4)\n",
      "shape before reshape (1, 4, 4)\n",
      "reshape_list [4, 4]\n",
      "[[-0.32174859  0.42633485 -0.30724727  0.4071198 ]\n",
      " [ 0.42633485 -0.05028892  0.4071198  -0.04802238]\n",
      " [-0.30724727  0.4071198  -0.29339953  0.38877077]\n",
      " [ 0.4071198  -0.04802238  0.38877077 -0.04585799]]\n",
      "(4, 4)\n"
     ]
    }
   ],
   "source": [
    "val = qnn_pl.evaluate(0.5,param,param_obs,\"dfdpdp\")[\"dfdpdp\"]\n",
    "print(val)\n",
    "print(val.shape)"
   ]
  }
 ],
 "metadata": {
  "kernelspec": {
   "display_name": ".venv",
   "language": "python",
   "name": "python3"
  },
  "language_info": {
   "codemirror_mode": {
    "name": "ipython",
    "version": 3
   },
   "file_extension": ".py",
   "mimetype": "text/x-python",
   "name": "python",
   "nbconvert_exporter": "python",
   "pygments_lexer": "ipython3",
   "version": "3.10.2"
  }
 },
 "nbformat": 4,
 "nbformat_minor": 2
}
