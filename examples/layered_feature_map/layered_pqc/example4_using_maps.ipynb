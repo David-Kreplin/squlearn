{
 "cells": [
  {
   "cell_type": "code",
   "execution_count": 1,
   "metadata": {},
   "outputs": [],
   "source": [
    "from squlearn.feature_map.layered_feature_map import LayeredPQC,VariableGroup,LayerPQC\n",
    "import numpy as np\n",
    "from qiskit.circuit import ParameterVector"
   ]
  },
  {
   "cell_type": "code",
   "execution_count": 2,
   "metadata": {},
   "outputs": [
    {
     "ename": "AttributeError",
     "evalue": "'str' object has no attribute 'increase_used_number_of_variables'",
     "output_type": "error",
     "traceback": [
      "\u001b[1;31m---------------------------------------------------------------------------\u001b[0m",
      "\u001b[1;31mAttributeError\u001b[0m                            Traceback (most recent call last)",
      "\u001b[1;32mc:\\Users\\DKR\\Documents\\Git Repositories\\squlearn\\examples\\layered_feature_map\\example4_using_maps.ipynb Cell 2\u001b[0m in \u001b[0;36m<cell line: 22>\u001b[1;34m()\u001b[0m\n\u001b[0;32m     <a href='vscode-notebook-cell:/c%3A/Users/DKR/Documents/Git%20Repositories/squlearn/examples/layered_feature_map/example4_using_maps.ipynb#W1sZmlsZQ%3D%3D?line=17'>18</a>\u001b[0m     \u001b[39mreturn\u001b[39;00m w\u001b[39m+\u001b[39mx\u001b[39m+\u001b[39my\u001b[39m+\u001b[39mz\n\u001b[0;32m     <a href='vscode-notebook-cell:/c%3A/Users/DKR/Documents/Git%20Repositories/squlearn/examples/layered_feature_map/example4_using_maps.ipynb#W1sZmlsZQ%3D%3D?line=19'>20</a>\u001b[0m \u001b[39m#feature_map_with_map.Rx(a_var, map= arccos_map)\u001b[39;00m\n\u001b[1;32m---> <a href='vscode-notebook-cell:/c%3A/Users/DKR/Documents/Git%20Repositories/squlearn/examples/layered_feature_map/example4_using_maps.ipynb#W1sZmlsZQ%3D%3D?line=21'>22</a>\u001b[0m feature_map_with_map\u001b[39m.\u001b[39;49mRx(\u001b[39m\"\u001b[39;49m\u001b[39ma\u001b[39;49m\u001b[39m\"\u001b[39;49m, \u001b[39mmap\u001b[39;49m\u001b[39m=\u001b[39;49m arccos_map)\n\u001b[0;32m     <a href='vscode-notebook-cell:/c%3A/Users/DKR/Documents/Git%20Repositories/squlearn/examples/layered_feature_map/example4_using_maps.ipynb#W1sZmlsZQ%3D%3D?line=25'>26</a>\u001b[0m feature_map_with_map\u001b[39m.\u001b[39mP(a_var,b_var,c_var,d_var, \u001b[39mmap\u001b[39m \u001b[39m=\u001b[39m addition_map)\n\u001b[0;32m     <a href='vscode-notebook-cell:/c%3A/Users/DKR/Documents/Git%20Repositories/squlearn/examples/layered_feature_map/example4_using_maps.ipynb#W1sZmlsZQ%3D%3D?line=27'>28</a>\u001b[0m feature_map_with_map\u001b[39m.\u001b[39mcry_entangling(a_var,b_var, \u001b[39mmap\u001b[39m\u001b[39m=\u001b[39mmultiply_with_arccos)\n",
      "File \u001b[1;32mc:\\Users\\DKR\\Documents\\Git Repositories\\squlearn\\examples\\layered_feature_map\\..\\..\\squlearn\\feature_map\\layered_feature_map.py:651\u001b[0m, in \u001b[0;36mLayeredPQC.Rx\u001b[1;34m(self, map, *variablegroup_tuple)\u001b[0m\n\u001b[0;32m    649\u001b[0m     \u001b[39mself\u001b[39m\u001b[39m.\u001b[39madd_operation(_Rx_operation(\u001b[39mself\u001b[39m\u001b[39m.\u001b[39mnum_qubits,variablegroup_tuple),variablegroup_tuple)\n\u001b[0;32m    650\u001b[0m \u001b[39melse\u001b[39;00m:\n\u001b[1;32m--> 651\u001b[0m     \u001b[39mself\u001b[39;49m\u001b[39m.\u001b[39;49madd_operation(_Rx_operation(\u001b[39mself\u001b[39;49m\u001b[39m.\u001b[39;49mnum_qubits,variablegroup_tuple,\u001b[39mmap\u001b[39;49m),variablegroup_tuple)\n",
      "File \u001b[1;32mc:\\Users\\DKR\\Documents\\Git Repositories\\squlearn\\examples\\layered_feature_map\\..\\..\\squlearn\\feature_map\\layered_feature_map.py:577\u001b[0m, in \u001b[0;36mLayeredPQC.add_operation\u001b[1;34m(self, operation, variablegroup_tuple, variable_num_list)\u001b[0m\n\u001b[0;32m    575\u001b[0m iteration_counter \u001b[39m=\u001b[39m \u001b[39m0\u001b[39m\n\u001b[0;32m    576\u001b[0m \u001b[39mfor\u001b[39;00m variablegroup \u001b[39min\u001b[39;00m variablegroup_tuple:\n\u001b[1;32m--> 577\u001b[0m     variablegroup\u001b[39m.\u001b[39;49mincrease_used_number_of_variables(variable_num_list[iteration_counter])\n\u001b[0;32m    578\u001b[0m     iteration_counter \u001b[39m+\u001b[39m\u001b[39m=\u001b[39m \u001b[39m1\u001b[39m\n",
      "\u001b[1;31mAttributeError\u001b[0m: 'str' object has no attribute 'increase_used_number_of_variables'"
     ]
    }
   ],
   "source": [
    "\"\"\"Using own maps\"\"\"\n",
    "a_var = VariableGroup(\"a\",size = 4)\n",
    "b_var = VariableGroup(\"b\", size = 10)\n",
    "c_var = VariableGroup(\"c\")\n",
    "d_var = VariableGroup(\"d\")\n",
    "\n",
    "feature_map_with_map = LayeredPQC(num_qubits=4, variable_groups=(a_var,b_var,c_var,d_var))\n",
    "\n",
    "# -----------------------------------------------------------------------------------------------------------------------------------\n",
    "#You can use maps with any number of variables but you make sure to initialize the feature map with every used variable group:\n",
    "def arccos_map(x):\n",
    "    return np.arccos(x)\n",
    "def multiply_with_arccos(x,y):\n",
    "    return x*np.arccos(y)\n",
    "def multiply_with_arcsin_exp(x,y,z):\n",
    "    return x*np.arcsin(y)*np.exp(z)\n",
    "def addition_map(w,x,y,z):\n",
    "    return w+x+y+z\n",
    "\n",
    "#feature_map_with_map.Rx(a_var, map= arccos_map)\n",
    "\n",
    "feature_map_with_map.Rx(a_var, map= arccos_map)\n",
    "\n",
    "\n",
    "\n",
    "feature_map_with_map.P(a_var,b_var,c_var,d_var, map = addition_map)\n",
    "\n",
    "feature_map_with_map.cry_entangling(a_var,b_var, map=multiply_with_arccos)\n",
    "feature_map_with_map.cp_entangling(a_var,b_var,c_var, ent_strategy = \"NN\", map = multiply_with_arcsin_exp)\n",
    "# -----------------------------------------------------------------------------------------------------------------------------------\n",
    "\n",
    "a1 = ParameterVector(\"a\",feature_map_with_map.get_number_of_variables(a_var))\n",
    "b1 = ParameterVector(\"b\",feature_map_with_map.get_number_of_variables(b_var))\n",
    "c1 = ParameterVector(\"c\",feature_map_with_map.get_number_of_variables(c_var))\n",
    "d1 = ParameterVector(\"d\",feature_map_with_map.get_number_of_variables(d_var))\n",
    "\n",
    "feature_map_with_map.get_circuit(a1,b1,c1,d1).draw()"
   ]
  }
 ],
 "metadata": {
  "kernelspec": {
   "display_name": "Python 3",
   "language": "python",
   "name": "python3"
  },
  "language_info": {
   "codemirror_mode": {
    "name": "ipython",
    "version": 3
   },
   "file_extension": ".py",
   "mimetype": "text/x-python",
   "name": "python",
   "nbconvert_exporter": "python",
   "pygments_lexer": "ipython3",
   "version": "3.10.2"
  },
  "orig_nbformat": 4
 },
 "nbformat": 4,
 "nbformat_minor": 2
}
