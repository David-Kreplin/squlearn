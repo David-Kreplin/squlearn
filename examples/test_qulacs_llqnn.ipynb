{
 "cells": [
  {
   "cell_type": "code",
   "execution_count": 1,
   "metadata": {},
   "outputs": [],
   "source": [
    "from squlearn.encoding_circuit import HubregtsenEncodingCircuit\n",
    "from squlearn.observables import SummedPaulis\n",
    "\n",
    "from squlearn import Executor\n",
    "\n",
    "from squlearn.qnn.lowlevel_qnn import LowLevelQNN\n",
    "\n",
    "pqc = HubregtsenEncodingCircuit(3, 2, 2)\n",
    "obs = SummedPaulis(3)"
   ]
  },
  {
   "cell_type": "code",
   "execution_count": 2,
   "metadata": {},
   "outputs": [
    {
     "name": "stdout",
     "output_type": "stream",
     "text": [
      "SparsePauliOp(['III', 'IIZ', 'IZI', 'ZII'],\n",
      "              coeffs=[ParameterExpression(1.0*p[0]), ParameterExpression(1.0*p[1]),\n",
      " ParameterExpression(1.0*p[2]), ParameterExpression(1.0*p[3])])\n"
     ]
    }
   ],
   "source": [
    "print(obs)"
   ]
  },
  {
   "cell_type": "code",
   "execution_count": 3,
   "metadata": {},
   "outputs": [],
   "source": [
    "import numpy as np\n",
    "\n",
    "np.random.seed(42)\n",
    "\n",
    "x = np.random.random(pqc.num_features)\n",
    "param = np.random.random(pqc.num_parameters)\n",
    "param_op = np.random.random(obs.num_parameters)"
   ]
  },
  {
   "cell_type": "code",
   "execution_count": 4,
   "metadata": {},
   "outputs": [
    {
     "data": {
      "text/plain": [
       "{'x': array([0.37454012, 0.95071431]),\n",
       " 'param': array([0.73199394, 0.59865848, 0.15601864, 0.15599452, 0.05808361,\n",
       "        0.86617615, 0.60111501, 0.70807258, 0.02058449, 0.96990985,\n",
       "        0.83244264, 0.21233911]),\n",
       " 'param_op': array([0.18182497, 0.18340451, 0.30424224, 0.52475643]),\n",
       " 'dfdp': array([-5.72680029e-02, -7.77299530e-02, -4.46678431e-01,  1.39340755e-01,\n",
       "         1.60795278e-02,  4.93139006e-02,  4.47923598e-02,  1.78406083e-01,\n",
       "        -2.32956326e-01,  2.05998413e-17,  1.50704102e-17,  1.26309553e-17])}"
      ]
     },
     "execution_count": 4,
     "metadata": {},
     "output_type": "execute_result"
    }
   ],
   "source": [
    "qnn = LowLevelQNN(pqc, obs, Executor(\"qulacs\"))\n",
    "qnn.evaluate(x, param, param_op, \"dfdp\")"
   ]
  },
  {
   "cell_type": "code",
   "execution_count": 5,
   "metadata": {},
   "outputs": [
    {
     "data": {
      "text/plain": [
       "{'x': array([0.37454012, 0.95071431]),\n",
       " 'param': array([0.73199394, 0.59865848, 0.15601864, 0.15599452, 0.05808361,\n",
       "        0.86617615, 0.60111501, 0.70807258, 0.02058449, 0.96990985,\n",
       "        0.83244264, 0.21233911]),\n",
       " 'param_op': array([0.18182497, 0.18340451, 0.30424224, 0.52475643]),\n",
       " 'f': 0.015102351520258475}"
      ]
     },
     "execution_count": 5,
     "metadata": {},
     "output_type": "execute_result"
    }
   ],
   "source": [
    "qnn_pl = LowLevelQNN(pqc, obs, Executor(\"pennylane\"))\n",
    "qnn_pl.evaluate(x, param, param_op, \"f\")"
   ]
  },
  {
   "cell_type": "code",
   "execution_count": 6,
   "metadata": {},
   "outputs": [
    {
     "data": {
      "text/plain": [
       "{Expec(I,O,f): 0.015102351520258545,\n",
       " 'f': 0.015102351520258545,\n",
       " 'x': array([0.37454012, 0.95071431]),\n",
       " 'param': array([0.73199394, 0.59865848, 0.15601864, 0.15599452, 0.05808361,\n",
       "        0.86617615, 0.60111501, 0.70807258, 0.02058449, 0.96990985,\n",
       "        0.83244264, 0.21233911]),\n",
       " 'param_op': array([0.18182497, 0.18340451, 0.30424224, 0.52475643])}"
      ]
     },
     "execution_count": 6,
     "metadata": {},
     "output_type": "execute_result"
    }
   ],
   "source": [
    "qnn_qiskit = LowLevelQNN(pqc, obs, Executor(\"qiskit\"))\n",
    "qnn_qiskit.evaluate(x, param, param_op, \"f\")"
   ]
  }
 ],
 "metadata": {
  "kernelspec": {
   "display_name": "venv",
   "language": "python",
   "name": "python3"
  },
  "language_info": {
   "codemirror_mode": {
    "name": "ipython",
    "version": 3
   },
   "file_extension": ".py",
   "mimetype": "text/x-python",
   "name": "python",
   "nbconvert_exporter": "python",
   "pygments_lexer": "ipython3",
   "version": "3.12.7"
  }
 },
 "nbformat": 4,
 "nbformat_minor": 2
}
