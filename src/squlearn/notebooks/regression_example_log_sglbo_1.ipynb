{
 "cells": [
  {
   "cell_type": "markdown",
   "metadata": {},
   "source": [
    "# Example: Regression with `QNNRegressor`\n",
    "\n",
    "\n",
    "\n",
    "## Imports"
   ]
  },
  {
   "cell_type": "code",
   "execution_count": 1,
   "metadata": {
    "ExecuteTime": {
     "end_time": "2023-11-29T10:15:15.226422600Z",
     "start_time": "2023-11-29T10:15:09.349722500Z"
    }
   },
   "outputs": [],
   "source": [
    "import numpy as np\n",
    "import matplotlib.pyplot as plt\n",
    "from skopt.space import Real\n",
    "\n",
    "from squlearn import Executor\n",
    "from squlearn.observables import IsingHamiltonian\n",
    "from squlearn.qnn import QNNRegressor, SquaredLoss\n",
    "from squlearn.optimizers import SLSQP, Adam\n",
    "from src.squlearn.encoding_circuit import ChebyshevRx\n",
    "from src.squlearn.optimizers import SGLBO"
   ]
  },
  {
   "cell_type": "markdown",
   "metadata": {},
   "source": [
    "We will use Qiskit's `StatevectorSimulator` for trainning."
   ]
  },
  {
   "cell_type": "code",
   "execution_count": 2,
   "metadata": {
    "ExecuteTime": {
     "end_time": "2023-11-29T10:15:15.272144500Z",
     "start_time": "2023-11-29T10:15:15.242426Z"
    }
   },
   "outputs": [],
   "source": [
    "executor = Executor(\"qasm_simulator\")\n",
    "executor.set_shots(10000)"
   ]
  },
  {
   "cell_type": "markdown",
   "source": [
    "### BO Settings"
   ],
   "metadata": {
    "collapsed": false
   }
  },
  {
   "cell_type": "code",
   "execution_count": 3,
   "outputs": [],
   "source": [
    "x0 = [[i * 0.002] for i in range(50)]\n",
    "options = {\"bo_aqc_func\":\"EI\", \"bo_aqc_optimizer\":\"lbfgs\", \"bo_bounds\":[(0.0, 0.3)], \"log_file\":\"log_1\", \"bo_n_calls\": 80, \"bo_x0_points\": x0, \"maxiter\": 200, \"bo_noise\": 1.5}"
   ],
   "metadata": {
    "collapsed": false,
    "ExecuteTime": {
     "end_time": "2023-11-29T10:15:15.414132500Z",
     "start_time": "2023-11-29T10:15:15.260144400Z"
    }
   }
  },
  {
   "attachments": {},
   "cell_type": "markdown",
   "metadata": {},
   "source": [
    "## `QNNRegressor` Setup\n",
    "\n",
    "We start by defining a parameterized quantum circuit (PQC)"
   ]
  },
  {
   "cell_type": "code",
   "execution_count": 4,
   "metadata": {
    "ExecuteTime": {
     "end_time": "2023-11-29T10:15:15.447632600Z",
     "start_time": "2023-11-29T10:15:15.416110300Z"
    }
   },
   "outputs": [],
   "source": [
    "\n",
    "nqubits = 4\n",
    "number_of_layers = 2\n",
    "\n",
    "pqc = ChebyshevRx(nqubits, 1, num_layers=number_of_layers)"
   ]
  },
  {
   "attachments": {},
   "cell_type": "markdown",
   "metadata": {},
   "source": [
    "We also need an observable"
   ]
  },
  {
   "cell_type": "code",
   "execution_count": 5,
   "metadata": {
    "ExecuteTime": {
     "end_time": "2023-11-29T10:15:15.533140400Z",
     "start_time": "2023-11-29T10:15:15.449629300Z"
    }
   },
   "outputs": [
    {
     "name": "stdout",
     "output_type": "stream",
     "text": [
      "SparsePauliOp(['IIII', 'IIIZ', 'IIZI', 'IZII', 'ZIII', 'IIZZ', 'IZIZ', 'IZZI', 'ZIIZ', 'ZIZI', 'ZZII'],\n",
      "              coeffs=[ParameterExpression(1.0*p[0]), ParameterExpression(1.0*p[1]),\n",
      " ParameterExpression(1.0*p[1]), ParameterExpression(1.0*p[1]),\n",
      " ParameterExpression(1.0*p[1]), ParameterExpression(1.0*p[2]),\n",
      " ParameterExpression(1.0*p[2]), ParameterExpression(1.0*p[2]),\n",
      " ParameterExpression(1.0*p[2]), ParameterExpression(1.0*p[2]),\n",
      " ParameterExpression(1.0*p[2])])\n"
     ]
    }
   ],
   "source": [
    "ising_op = IsingHamiltonian(nqubits, I=\"S\", Z=\"S\", ZZ=\"S\")\n",
    "print(ising_op)"
   ]
  },
  {
   "attachments": {},
   "cell_type": "markdown",
   "metadata": {},
   "source": [
    "Now we can create the `QNNRegressor` with the PQC and cost operator. We also specify `SquaredLoss` and `SLSQP` as the loss function and optimizer respectively. Finally we specify random initial parameters for both, the PQC and cost operator."
   ]
  },
  {
   "cell_type": "code",
   "execution_count": 6,
   "metadata": {
    "ExecuteTime": {
     "end_time": "2023-11-29T10:15:15.713215Z",
     "start_time": "2023-11-29T10:15:15.529141700Z"
    }
   },
   "outputs": [],
   "source": [
    "np.random.seed(13)\n",
    "param_ini = np.random.rand(pqc.num_parameters)\n",
    "param_op_ini = np.random.rand(ising_op.num_parameters)\n",
    "\n",
    "reg = QNNRegressor(pqc, ising_op, executor, SquaredLoss(), SGLBO(options), param_ini, param_op_ini)"
   ]
  },
  {
   "attachments": {},
   "cell_type": "markdown",
   "metadata": {},
   "source": [
    "## Training\n",
    "\n",
    "Now we are ready to train the model to fit the logarithm funciton"
   ]
  },
  {
   "cell_type": "code",
   "execution_count": 7,
   "metadata": {
    "ExecuteTime": {
     "end_time": "2023-11-29T10:16:09.072472900Z",
     "start_time": "2023-11-29T10:15:15.718218100Z"
    }
   },
   "outputs": [
    {
     "name": "stdout",
     "output_type": "stream",
     "text": [
      "fit:   0%|          | 0/200 [00:00<?, ?it/s]BOP  fval:  14.983640538466371  x:  [0.0]\n",
      "BOP  fval:  2.414261561763293  x:  [0.052905486046014714]\n",
      "BOP  fval:  16.865716764238403  x:  [0.10581097209202943]\n",
      "BOP  fval:  43.8389713155701  x:  [0.15871645813804414]\n",
      "BOP  fval:  84.57701169824152  x:  [0.21162194418405886]\n",
      "BOP  fval:  183.4843189360838  x:  [0.2645274302300736]\n",
      "BOP  fval:  371.38952178447687  x:  [0.3174329162760883]\n",
      "BOP  fval:  590.0625135796515  x:  [0.370338402322103]\n",
      "BOP  fval:  726.51157499189  x:  [0.4232438883681177]\n",
      "BOP  fval:  749.887330205148  x:  [0.4761493744141324]\n",
      "BOP  fval:  705.8300428851866  x:  [0.5290548604601472]\n",
      "BOP  fval:  696.5956625674003  x:  [0.5819603465061619]\n",
      "BOP  fval:  779.0582205887418  x:  [0.6348658325521765]\n",
      "BOP  fval:  1025.505324899739  x:  [0.6877713185981913]\n",
      "BOP  fval:  1414.9014596928855  x:  [0.740676804644206]\n",
      "BOP  fval:  1994.9001239230147  x:  [0.7935822906902207]\n",
      "BOP  fval:  2925.860751091799  x:  [0.8464877767362354]\n",
      "BOP  fval:  4075.529165027361  x:  [0.8993932627822502]\n",
      "BOP  fval:  5291.384864556779  x:  [0.9522987488282648]\n",
      "BOP  fval:  6403.376251143185  x:  [1.0052042348742796]\n",
      "BOP  fval:  7086.192093291958  x:  [1.0581097209202943]\n",
      "BOP  fval:  7266.154807285706  x:  [1.1110152069663088]\n",
      "BOP  fval:  7097.011387924598  x:  [1.1639206930123238]\n",
      "BOP  fval:  6649.959884843487  x:  [1.2168261790583386]\n",
      "BOP  fval:  6326.2726964841795  x:  [1.269731665104353]\n",
      "BOP  fval:  6114.852437263236  x:  [1.3226371511503678]\n",
      "BOP  fval:  5895.00437094841  x:  [1.3755426371963826]\n",
      "BOP  fval:  5812.438163410617  x:  [1.4284481232423973]\n",
      "BOP  fval:  5596.614792695966  x:  [1.481353609288412]\n",
      "BOP  fval:  5328.806720347364  x:  [1.5342590953344266]\n",
      "BOP  fval:  4983.635682642856  x:  [1.5871645813804414]\n",
      "BOP  fval:  4745.148005699017  x:  [1.6400700674264561]\n",
      "BOP  fval:  4737.158519343346  x:  [1.6929755534724709]\n",
      "BOP  fval:  5050.557379642611  x:  [1.7458810395184856]\n",
      "BOP  fval:  5883.521827956925  x:  [1.7987865255645004]\n",
      "BOP  fval:  7072.255883844464  x:  [1.8516920116105149]\n",
      "BOP  fval:  8141.0533799227305  x:  [1.9045974976565296]\n",
      "BOP  fval:  10161.223857073139  x:  [1.9575029837025444]\n",
      "BOP  fval:  12038.573137534888  x:  [2.010408469748559]\n",
      "BOP  fval:  13324.422505623686  x:  [2.063313955794574]\n",
      "BOP  fval:  13965.613611106219  x:  [2.1162194418405886]\n",
      "BOP  fval:  14411.153533827075  x:  [2.169124927886603]\n",
      "BOP  fval:  14816.21074684344  x:  [2.2220304139326177]\n",
      "BOP  fval:  14827.239590826177  x:  [2.2749358999786327]\n",
      "BOP  fval:  14980.711711178497  x:  [2.3278413860246476]\n",
      "BOP  fval:  15474.45278787484  x:  [2.380746872070662]\n",
      "BOP  fval:  16895.788467814793  x:  [2.433652358116677]\n",
      "BOP  fval:  18730.771012914985  x:  [2.486557844162691]\n",
      "BOP  fval:  20182.384822731197  x:  [2.539463330208706]\n",
      "BOP  fval:  20533.670642882702  x:  [2.5923688162547207]\n",
      "BOP  fval:  5145.508934422951  x:  [1.5682366338479317]\n",
      "BOP  fval:  14675.10143622154  x:  [2.2333144890340595]\n",
      "BOP  fval:  15015.600724509288  x:  [2.2695014950690124]\n",
      "BOP  fval:  14512.135238695057  x:  [2.241213252185263]\n",
      "BOP  fval:  4903.594266603837  x:  [1.6494970229555808]\n",
      "BOP  fval:  6644.062632785607  x:  [1.0167950525758624]\n",
      "BOP  fval:  1911.601490320402  x:  [0.787060648737253]\n",
      "BOP  fval:  38.43727752576102  x:  [0.150021381504797]\n",
      "BOP  fval:  1269.1672894499757  x:  [0.7212506894133129]\n",
      "BOP  fval:  6346.518670852678  x:  [1.263555259955633]\n"
     ]
    },
    {
     "name": "stderr",
     "output_type": "stream",
     "text": [
      "C:\\Users\\Dennis\\SynologyDrive\\Development\\Bachelorarbeit\\squlearn\\venv\\lib\\site-packages\\skopt\\optimizer\\optimizer.py:449: UserWarning: The objective has been evaluated at this point before.\n",
      "  warnings.warn(\"The objective has been evaluated \"\n"
     ]
    },
    {
     "name": "stdout",
     "output_type": "stream",
     "text": [
      "BOP  fval:  14.983640538466371  x:  [0.0]\n"
     ]
    },
    {
     "name": "stderr",
     "output_type": "stream",
     "text": [
      "C:\\Users\\Dennis\\SynologyDrive\\Development\\Bachelorarbeit\\squlearn\\venv\\lib\\site-packages\\skopt\\optimizer\\optimizer.py:449: UserWarning: The objective has been evaluated at this point before.\n",
      "  warnings.warn(\"The objective has been evaluated \"\n"
     ]
    },
    {
     "name": "stdout",
     "output_type": "stream",
     "text": [
      "BOP  fval:  14.983640538466371  x:  [0.0]\n"
     ]
    },
    {
     "name": "stderr",
     "output_type": "stream",
     "text": [
      "C:\\Users\\Dennis\\SynologyDrive\\Development\\Bachelorarbeit\\squlearn\\venv\\lib\\site-packages\\skopt\\optimizer\\optimizer.py:449: UserWarning: The objective has been evaluated at this point before.\n",
      "  warnings.warn(\"The objective has been evaluated \"\n"
     ]
    },
    {
     "name": "stdout",
     "output_type": "stream",
     "text": [
      "BOP  fval:  14.983640538466371  x:  [0.0]\n"
     ]
    },
    {
     "name": "stderr",
     "output_type": "stream",
     "text": [
      "C:\\Users\\Dennis\\SynologyDrive\\Development\\Bachelorarbeit\\squlearn\\venv\\lib\\site-packages\\skopt\\optimizer\\optimizer.py:449: UserWarning: The objective has been evaluated at this point before.\n",
      "  warnings.warn(\"The objective has been evaluated \"\n"
     ]
    },
    {
     "name": "stdout",
     "output_type": "stream",
     "text": [
      "BOP  fval:  14.983640538466371  x:  [0.0]\n"
     ]
    },
    {
     "name": "stderr",
     "output_type": "stream",
     "text": [
      "C:\\Users\\Dennis\\SynologyDrive\\Development\\Bachelorarbeit\\squlearn\\venv\\lib\\site-packages\\skopt\\optimizer\\optimizer.py:449: UserWarning: The objective has been evaluated at this point before.\n",
      "  warnings.warn(\"The objective has been evaluated \"\n"
     ]
    },
    {
     "name": "stdout",
     "output_type": "stream",
     "text": [
      "BOP  fval:  14.983640538466371  x:  [0.0]\n"
     ]
    },
    {
     "name": "stderr",
     "output_type": "stream",
     "text": [
      "C:\\Users\\Dennis\\SynologyDrive\\Development\\Bachelorarbeit\\squlearn\\venv\\lib\\site-packages\\skopt\\optimizer\\optimizer.py:449: UserWarning: The objective has been evaluated at this point before.\n",
      "  warnings.warn(\"The objective has been evaluated \"\n"
     ]
    },
    {
     "name": "stdout",
     "output_type": "stream",
     "text": [
      "BOP  fval:  14.983640538466371  x:  [0.0]\n"
     ]
    },
    {
     "name": "stderr",
     "output_type": "stream",
     "text": [
      "C:\\Users\\Dennis\\SynologyDrive\\Development\\Bachelorarbeit\\squlearn\\venv\\lib\\site-packages\\skopt\\optimizer\\optimizer.py:449: UserWarning: The objective has been evaluated at this point before.\n",
      "  warnings.warn(\"The objective has been evaluated \"\n"
     ]
    },
    {
     "name": "stdout",
     "output_type": "stream",
     "text": [
      "BOP  fval:  14.983640538466371  x:  [0.0]\n"
     ]
    },
    {
     "name": "stderr",
     "output_type": "stream",
     "text": [
      "C:\\Users\\Dennis\\SynologyDrive\\Development\\Bachelorarbeit\\squlearn\\venv\\lib\\site-packages\\skopt\\optimizer\\optimizer.py:449: UserWarning: The objective has been evaluated at this point before.\n",
      "  warnings.warn(\"The objective has been evaluated \"\n"
     ]
    },
    {
     "name": "stdout",
     "output_type": "stream",
     "text": [
      "BOP  fval:  14.983640538466371  x:  [0.0]\n"
     ]
    },
    {
     "name": "stderr",
     "output_type": "stream",
     "text": [
      "C:\\Users\\Dennis\\SynologyDrive\\Development\\Bachelorarbeit\\squlearn\\venv\\lib\\site-packages\\skopt\\optimizer\\optimizer.py:449: UserWarning: The objective has been evaluated at this point before.\n",
      "  warnings.warn(\"The objective has been evaluated \"\n"
     ]
    },
    {
     "name": "stdout",
     "output_type": "stream",
     "text": [
      "BOP  fval:  14.983640538466371  x:  [0.0]\n"
     ]
    },
    {
     "name": "stderr",
     "output_type": "stream",
     "text": [
      "C:\\Users\\Dennis\\SynologyDrive\\Development\\Bachelorarbeit\\squlearn\\venv\\lib\\site-packages\\skopt\\optimizer\\optimizer.py:449: UserWarning: The objective has been evaluated at this point before.\n",
      "  warnings.warn(\"The objective has been evaluated \"\n"
     ]
    },
    {
     "name": "stdout",
     "output_type": "stream",
     "text": [
      "BOP  fval:  14.983640538466371  x:  [0.0]\n"
     ]
    },
    {
     "name": "stderr",
     "output_type": "stream",
     "text": [
      "C:\\Users\\Dennis\\SynologyDrive\\Development\\Bachelorarbeit\\squlearn\\venv\\lib\\site-packages\\skopt\\optimizer\\optimizer.py:449: UserWarning: The objective has been evaluated at this point before.\n",
      "  warnings.warn(\"The objective has been evaluated \"\n"
     ]
    },
    {
     "name": "stdout",
     "output_type": "stream",
     "text": [
      "BOP  fval:  14.983640538466371  x:  [0.0]\n"
     ]
    },
    {
     "name": "stderr",
     "output_type": "stream",
     "text": [
      "C:\\Users\\Dennis\\SynologyDrive\\Development\\Bachelorarbeit\\squlearn\\venv\\lib\\site-packages\\skopt\\optimizer\\optimizer.py:449: UserWarning: The objective has been evaluated at this point before.\n",
      "  warnings.warn(\"The objective has been evaluated \"\n"
     ]
    },
    {
     "name": "stdout",
     "output_type": "stream",
     "text": [
      "BOP  fval:  14.983640538466371  x:  [0.0]\n"
     ]
    },
    {
     "name": "stderr",
     "output_type": "stream",
     "text": [
      "C:\\Users\\Dennis\\SynologyDrive\\Development\\Bachelorarbeit\\squlearn\\venv\\lib\\site-packages\\skopt\\optimizer\\optimizer.py:449: UserWarning: The objective has been evaluated at this point before.\n",
      "  warnings.warn(\"The objective has been evaluated \"\n"
     ]
    },
    {
     "name": "stdout",
     "output_type": "stream",
     "text": [
      "BOP  fval:  14.983640538466371  x:  [0.0]\n"
     ]
    },
    {
     "name": "stderr",
     "output_type": "stream",
     "text": [
      "C:\\Users\\Dennis\\SynologyDrive\\Development\\Bachelorarbeit\\squlearn\\venv\\lib\\site-packages\\skopt\\optimizer\\optimizer.py:449: UserWarning: The objective has been evaluated at this point before.\n",
      "  warnings.warn(\"The objective has been evaluated \"\n"
     ]
    },
    {
     "name": "stdout",
     "output_type": "stream",
     "text": [
      "BOP  fval:  14.983640538466371  x:  [0.0]\n"
     ]
    },
    {
     "name": "stderr",
     "output_type": "stream",
     "text": [
      "C:\\Users\\Dennis\\SynologyDrive\\Development\\Bachelorarbeit\\squlearn\\venv\\lib\\site-packages\\skopt\\optimizer\\optimizer.py:449: UserWarning: The objective has been evaluated at this point before.\n",
      "  warnings.warn(\"The objective has been evaluated \"\n"
     ]
    },
    {
     "name": "stdout",
     "output_type": "stream",
     "text": [
      "BOP  fval:  14.983640538466371  x:  [0.0]\n"
     ]
    },
    {
     "name": "stderr",
     "output_type": "stream",
     "text": [
      "C:\\Users\\Dennis\\SynologyDrive\\Development\\Bachelorarbeit\\squlearn\\venv\\lib\\site-packages\\skopt\\optimizer\\optimizer.py:449: UserWarning: The objective has been evaluated at this point before.\n",
      "  warnings.warn(\"The objective has been evaluated \"\n"
     ]
    },
    {
     "name": "stdout",
     "output_type": "stream",
     "text": [
      "BOP  fval:  14.983640538466371  x:  [0.0]\n"
     ]
    },
    {
     "name": "stderr",
     "output_type": "stream",
     "text": [
      "C:\\Users\\Dennis\\SynologyDrive\\Development\\Bachelorarbeit\\squlearn\\venv\\lib\\site-packages\\skopt\\optimizer\\optimizer.py:449: UserWarning: The objective has been evaluated at this point before.\n",
      "  warnings.warn(\"The objective has been evaluated \"\n"
     ]
    },
    {
     "name": "stdout",
     "output_type": "stream",
     "text": [
      "BOP  fval:  14.983640538466371  x:  [0.0]\n"
     ]
    },
    {
     "name": "stderr",
     "output_type": "stream",
     "text": [
      "C:\\Users\\Dennis\\SynologyDrive\\Development\\Bachelorarbeit\\squlearn\\venv\\lib\\site-packages\\skopt\\optimizer\\optimizer.py:449: UserWarning: The objective has been evaluated at this point before.\n",
      "  warnings.warn(\"The objective has been evaluated \"\n"
     ]
    },
    {
     "name": "stdout",
     "output_type": "stream",
     "text": [
      "BOP  fval:  14.983640538466371  x:  [0.0]\n"
     ]
    },
    {
     "name": "stderr",
     "output_type": "stream",
     "text": [
      "C:\\Users\\Dennis\\SynologyDrive\\Development\\Bachelorarbeit\\squlearn\\venv\\lib\\site-packages\\skopt\\optimizer\\optimizer.py:449: UserWarning: The objective has been evaluated at this point before.\n",
      "  warnings.warn(\"The objective has been evaluated \"\n"
     ]
    },
    {
     "name": "stdout",
     "output_type": "stream",
     "text": [
      "BOP  fval:  14.983640538466371  x:  [0.0]\n"
     ]
    },
    {
     "name": "stderr",
     "output_type": "stream",
     "text": [
      "C:\\Users\\Dennis\\SynologyDrive\\Development\\Bachelorarbeit\\squlearn\\venv\\lib\\site-packages\\skopt\\optimizer\\optimizer.py:449: UserWarning: The objective has been evaluated at this point before.\n",
      "  warnings.warn(\"The objective has been evaluated \"\n"
     ]
    },
    {
     "name": "stdout",
     "output_type": "stream",
     "text": [
      "BOP  fval:  14.983640538466371  x:  [0.0]\n",
      "\u001B[91m Iteration:  0 :  gp_minimize:  fval:  38.452540562388094  x:  [0.0]  bounds:  [(0.0, 2.6452743023007357)] \u001B[0m\n"
     ]
    }
   ],
   "source": [
    "x_space = np.arange(0.1, 0.9, 0.1)\n",
    "ref_values = np.log(x_space)\n",
    "\n",
    "reg.fit(x_space, ref_values)"
   ]
  },
  {
   "cell_type": "markdown",
   "metadata": {},
   "source": [
    "## Evaluation\n",
    "\n",
    "Let's check the trained parameters of the PQC and operator"
   ]
  },
  {
   "cell_type": "code",
   "execution_count": 8,
   "metadata": {
    "ExecuteTime": {
     "end_time": "2023-11-29T10:16:09.078844600Z",
     "start_time": "2023-11-29T10:16:09.066941500Z"
    }
   },
   "outputs": [
    {
     "name": "stdout",
     "output_type": "stream",
     "text": [
      "Result PQC params: [0.77770241 0.23754122 0.82427853 0.9657492  0.97260111 0.45344925\n",
      " 0.60904246 0.77552651 0.64161334 0.72201823 0.03503652 0.29844947\n",
      " 0.05851249 0.85706094 0.37285403 0.67984795]\n",
      "Result operator params: [0.25627995 0.34758122 0.00941277]\n"
     ]
    }
   ],
   "source": [
    "print(\"Result PQC params:\", reg.param)\n",
    "print(\"Result operator params:\", reg.param_op)"
   ]
  },
  {
   "cell_type": "markdown",
   "metadata": {},
   "source": [
    "Also let's plot the predicted function vs. the actual logarithm function"
   ]
  },
  {
   "cell_type": "code",
   "execution_count": 9,
   "outputs": [
    {
     "data": {
      "text/plain": "[<matplotlib.lines.Line2D at 0x20391dfdcc0>]"
     },
     "execution_count": 9,
     "metadata": {},
     "output_type": "execute_result"
    },
    {
     "data": {
      "text/plain": "<Figure size 640x480 with 1 Axes>",
      "image/png": "[encoded data removed]"
     },
     "metadata": {},
     "output_type": "display_data"
    }
   ],
   "source": [
    "x = np.arange(np.min(x_space), np.max(x_space), 0.005)\n",
    "y = reg.predict(x)\n",
    "plt.plot(x, np.log(x))\n",
    "plt.plot(x, y)"
   ],
   "metadata": {
    "collapsed": false,
    "ExecuteTime": {
     "end_time": "2023-11-29T10:16:16.184585200Z",
     "start_time": "2023-11-29T10:16:09.082286700Z"
    }
   }
  },
  {
   "cell_type": "markdown",
   "metadata": {},
   "source": [
    "Let's also plot the error of the QNN."
   ]
  },
  {
   "cell_type": "code",
   "execution_count": 10,
   "outputs": [
    {
     "data": {
      "text/plain": "[<matplotlib.lines.Line2D at 0x203ffdeb580>]"
     },
     "execution_count": 10,
     "metadata": {},
     "output_type": "execute_result"
    },
    {
     "data": {
      "text/plain": "<Figure size 640x480 with 1 Axes>",
      "image/png": "[encoded data removed]"
     },
     "metadata": {},
     "output_type": "display_data"
    }
   ],
   "source": [
    "plt.plot(x, np.abs(y - np.log(x)))"
   ],
   "metadata": {
    "collapsed": false,
    "ExecuteTime": {
     "end_time": "2023-11-29T10:16:16.488112200Z",
     "start_time": "2023-11-29T10:16:16.193585200Z"
    }
   }
  }
 ],
 "metadata": {
  "interpreter": {
   "hash": "26de051ba29f2982a8de78e945f0abaf191376122a1563185a90213a26c5da77"
  },
  "kernelspec": {
   "display_name": "Python 3.10.2 64-bit",
   "language": "python",
   "name": "python3"
  },
  "language_info": {
   "codemirror_mode": {
    "name": "ipython",
    "version": 3
   },
   "file_extension": ".py",
   "mimetype": "text/x-python",
   "name": "python",
   "nbconvert_exporter": "python",
   "pygments_lexer": "ipython3",
   "version": "3.10.2"
  },
  "orig_nbformat": 4
 },
 "nbformat": 4,
 "nbformat_minor": 2
}
