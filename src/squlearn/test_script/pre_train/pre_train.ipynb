{
 "cells": [
  {
   "cell_type": "code",
   "execution_count": 1,
   "metadata": {
    "ExecuteTime": {
     "end_time": "2023-12-01T10:07:43.594827600Z",
     "start_time": "2023-12-01T10:07:36.243203400Z"
    }
   },
   "outputs": [],
   "source": [
    "import numpy as np\n",
    "import matplotlib.pyplot as plt\n",
    "\n",
    "from qiskit import QuantumCircuit\n",
    "from qiskit.circuit import ParameterVector\n",
    "\n",
    "from squlearn import Executor\n",
    "from squlearn.encoding_circuit import QiskitEncodingCircuit\n",
    "from squlearn.observables import SinglePauli\n",
    "from squlearn.qnn import QNNRegressor, SquaredLoss\n",
    "from squlearn.optimizers import Adam, SLSQP, SGLBO"
   ]
  },
  {
   "cell_type": "code",
   "execution_count": 2,
   "metadata": {
    "ExecuteTime": {
     "end_time": "2023-12-01T10:07:43.687393300Z",
     "start_time": "2023-12-01T10:07:43.599832100Z"
    }
   },
   "outputs": [
    {
     "data": {
      "text/plain": "      ┌────────────────┐ ┌───┐┌──────────┐          ┌───┐ ┌────────────────┐ »\nq_0: ─┤ Rx(acos(x[0])) ├─┤ H ├┤ Ry(p[0]) ├──■───────┤ X ├─┤ Rx(acos(x[0])) ├─»\n     ┌┴────────────────┴┐├───┤├──────────┤┌─┴─┐     └─┬─┘┌┴────────────────┴┐»\nq_1: ┤ Rx(2*acos(x[0])) ├┤ H ├┤ Ry(p[1]) ├┤ X ├──■────┼──┤ Rx(2*acos(x[0])) ├»\n     ├──────────────────┤├───┤├──────────┤└───┘┌─┴─┐  │  ├──────────────────┤»\nq_2: ┤ Rx(3*acos(x[0])) ├┤ H ├┤ Ry(p[2]) ├──■──┤ X ├──┼──┤ Rx(3*acos(x[0])) ├»\n     ├──────────────────┤├───┤├──────────┤┌─┴─┐└───┘  │  ├──────────────────┤»\nq_3: ┤ Rx(4*acos(x[0])) ├┤ H ├┤ Ry(p[3]) ├┤ X ├───────■──┤ Rx(4*acos(x[0])) ├»\n     └──────────────────┘└───┘└──────────┘└───┘          └──────────────────┘»\n«     ┌───┐┌──────────┐          ┌───┐\n«q_0: ┤ H ├┤ Ry(p[4]) ├──■───────┤ X ├\n«     ├───┤├──────────┤┌─┴─┐     └─┬─┘\n«q_1: ┤ H ├┤ Ry(p[5]) ├┤ X ├──■────┼──\n«     ├───┤├──────────┤└───┘┌─┴─┐  │  \n«q_2: ┤ H ├┤ Ry(p[6]) ├──■──┤ X ├──┼──\n«     ├───┤├──────────┤┌─┴─┐└───┘  │  \n«q_3: ┤ H ├┤ Ry(p[7]) ├┤ X ├───────■──\n«     └───┘└──────────┘└───┘          ",
      "text/html": "<pre style=\"word-wrap: normal;white-space: pre;background: #fff0;line-height: 1.1;font-family: &quot;Courier New&quot;,Courier,monospace\">      ┌────────────────┐ ┌───┐┌──────────┐          ┌───┐ ┌────────────────┐ »\nq_0: ─┤ Rx(acos(x[0])) ├─┤ H ├┤ Ry(p[0]) ├──■───────┤ X ├─┤ Rx(acos(x[0])) ├─»\n     ┌┴────────────────┴┐├───┤├──────────┤┌─┴─┐     └─┬─┘┌┴────────────────┴┐»\nq_1: ┤ Rx(2*acos(x[0])) ├┤ H ├┤ Ry(p[1]) ├┤ X ├──■────┼──┤ Rx(2*acos(x[0])) ├»\n     ├──────────────────┤├───┤├──────────┤└───┘┌─┴─┐  │  ├──────────────────┤»\nq_2: ┤ Rx(3*acos(x[0])) ├┤ H ├┤ Ry(p[2]) ├──■──┤ X ├──┼──┤ Rx(3*acos(x[0])) ├»\n     ├──────────────────┤├───┤├──────────┤┌─┴─┐└───┘  │  ├──────────────────┤»\nq_3: ┤ Rx(4*acos(x[0])) ├┤ H ├┤ Ry(p[3]) ├┤ X ├───────■──┤ Rx(4*acos(x[0])) ├»\n     └──────────────────┘└───┘└──────────┘└───┘          └──────────────────┘»\n«     ┌───┐┌──────────┐          ┌───┐\n«q_0: ┤ H ├┤ Ry(p[4]) ├──■───────┤ X ├\n«     ├───┤├──────────┤┌─┴─┐     └─┬─┘\n«q_1: ┤ H ├┤ Ry(p[5]) ├┤ X ├──■────┼──\n«     ├───┤├──────────┤└───┘┌─┴─┐  │  \n«q_2: ┤ H ├┤ Ry(p[6]) ├──■──┤ X ├──┼──\n«     ├───┤├──────────┤┌─┴─┐└───┘  │  \n«q_3: ┤ H ├┤ Ry(p[7]) ├┤ X ├───────■──\n«     └───┘└──────────┘└───┘          </pre>"
     },
     "execution_count": 2,
     "metadata": {},
     "output_type": "execute_result"
    }
   ],
   "source": [
    "nqubits = 4\n",
    "\n",
    "qc = QuantumCircuit(4)\n",
    "p = ParameterVector('p', 8)\n",
    "x = ParameterVector('x', 1)\n",
    "\n",
    "p2 = np.array([-0.13005136, -1.34331017,  2.44392299, 1.64405423, -0.36315523, 0.45344925,\n",
    "  0.18577077, -0.13904446])\n",
    "\n",
    "qc.rx(1*np.arccos(x[0]), 0)\n",
    "qc.rx(2*np.arccos(x[0]), 1)\n",
    "qc.rx(3*np.arccos(x[0]), 2)\n",
    "qc.rx(4*np.arccos(x[0]), 3)\n",
    "\n",
    "qc.h(range(4))\n",
    "\n",
    "qc.ry(p[0], 0)\n",
    "qc.ry(p[1], 1)\n",
    "qc.ry(p[2], 2)\n",
    "qc.ry(p[3], 3)\n",
    "\n",
    "qc.cx(0, 1)\n",
    "qc.cx(2, 3)\n",
    "qc.cx(1, 2)\n",
    "qc.cx(3, 0)\n",
    "\n",
    "qc.rx(1*np.arccos(x[0]), 0)\n",
    "qc.rx(2*np.arccos(x[0]), 1)\n",
    "qc.rx(3*np.arccos(x[0]), 2)\n",
    "qc.rx(4*np.arccos(x[0]), 3)\n",
    "\n",
    "qc.h(range(4))\n",
    "\n",
    "qc.ry(p[4], 0)\n",
    "qc.ry(p[5], 1)\n",
    "qc.ry(p[6], 2)\n",
    "qc.ry(p[7], 3)\n",
    "\n",
    "qc.cx(0, 1)\n",
    "qc.cx(2, 3)\n",
    "qc.cx(1, 2)\n",
    "qc.cx(3, 0)\n",
    "\n",
    "\n",
    "pqc = QiskitEncodingCircuit(qc)\n",
    "pqc.draw()"
   ]
  },
  {
   "cell_type": "code",
   "execution_count": 3,
   "metadata": {
    "ExecuteTime": {
     "end_time": "2023-12-01T10:07:43.689395Z",
     "start_time": "2023-12-01T10:07:43.686391400Z"
    }
   },
   "outputs": [
    {
     "name": "stdout",
     "output_type": "stream",
     "text": [
      "SparsePauliOp(['IIIZ'],\n",
      "              coeffs=[ParameterExpression(1.0*p[0])])\n"
     ]
    }
   ],
   "source": [
    "op = SinglePauli(nqubits,qubit=0,parameterized=True)\n",
    "print(op)"
   ]
  },
  {
   "cell_type": "code",
   "execution_count": 4,
   "metadata": {
    "ExecuteTime": {
     "end_time": "2023-12-01T10:07:43.707410600Z",
     "start_time": "2023-12-01T10:07:43.689395Z"
    }
   },
   "outputs": [
    {
     "data": {
      "text/plain": "1"
     },
     "execution_count": 4,
     "metadata": {},
     "output_type": "execute_result"
    }
   ],
   "source": [
    "op.num_parameters"
   ]
  },
  {
   "cell_type": "code",
   "execution_count": 5,
   "metadata": {
    "ExecuteTime": {
     "end_time": "2023-12-01T10:07:43.798073800Z",
     "start_time": "2023-12-01T10:07:43.709412800Z"
    }
   },
   "outputs": [],
   "source": [
    "# Randomly initialize parameters of the encoding circuit\n",
    "np.random.seed(13)\n",
    "param_ini =  np.random.rand(pqc.num_parameters)\n",
    "# Initialize parameters of the observable as ones\n",
    "param_op_ini = np.ones(op.num_parameters)\n",
    "x0 = [[i * 0.02] for i in range(15)]\n",
    "optimizer_options = {\"bo_aqc_func\": \"EI\", \"bo_aqc_optimizer\": \"lbfgs\", \"bo_bounds\": [(0.0, 0.3)], \"log_file\": \"sglbo_noiseless.log\",\n",
    "                     \"bo_n_calls\": 30, \"bo_x0_points\": x0, \"maxiter\": 100, \"bo_bounds_fac\": 0.1}\n",
    "\n",
    "qnn_simulator = QNNRegressor(\n",
    "    pqc,\n",
    "    op,\n",
    "    Executor(\"statevector_simulator\"),\n",
    "    SquaredLoss(),\n",
    "    #SGLBO(optimizer_options),\n",
    "    #SLSQP(),\n",
    "    Adam({\"lr\": 0.2,\"log_file\": \"adam_noiseless.log\"}),\n",
    "    param_ini,\n",
    "    param_op_ini=param_op_ini,\n",
    "    opt_param_op=True, # Keine Observablen optimierung\n",
    "    parameter_seed=124\n",
    ")"
   ]
  },
  {
   "cell_type": "code",
   "execution_count": 6,
   "metadata": {
    "ExecuteTime": {
     "end_time": "2023-12-01T10:07:43.815024600Z",
     "start_time": "2023-12-01T10:07:43.800075800Z"
    }
   },
   "outputs": [],
   "source": [
    "# Data that is inputted to the QNN\n",
    "x_train = np.arange(-0.5, 0.6, 0.1)\n",
    "# Data that is fitted by the QNN\n",
    "y_train = np.sin(6.0*x_train)"
   ]
  },
  {
   "cell_type": "code",
   "execution_count": 7,
   "metadata": {
    "ExecuteTime": {
     "end_time": "2023-12-01T10:09:09.199566300Z",
     "start_time": "2023-12-01T10:07:43.815024600Z"
    }
   },
   "outputs": [
    {
     "name": "stdout",
     "output_type": "stream",
     "text": [
      "fit: 100%|██████████| 100/100 [01:25<00:00,  1.21it/s]"
     ]
    }
   ],
   "source": [
    "qnn_simulator.fit(x_train, y_train)"
   ]
  },
  {
   "cell_type": "code",
   "execution_count": 8,
   "metadata": {
    "ExecuteTime": {
     "end_time": "2023-12-01T10:09:09.214919Z",
     "start_time": "2023-12-01T10:09:09.200568500Z"
    }
   },
   "outputs": [
    {
     "name": "stdout",
     "output_type": "stream",
     "text": [
      "Result encoding parameters: [ 1.48940263 -1.04679245  0.54610178  3.08135449  1.72822937  0.45344924\n",
      "  0.96484518  1.51506728]\n",
      "Result observable parameters: [3.79788586]\n"
     ]
    }
   ],
   "source": [
    "print(\"Result encoding parameters:\", qnn_simulator.param)\n",
    "print(\"Result observable parameters:\", qnn_simulator.param_op)"
   ]
  },
  {
   "cell_type": "code",
   "execution_count": 9,
   "metadata": {
    "ExecuteTime": {
     "end_time": "2023-12-01T10:09:09.861706Z",
     "start_time": "2023-12-01T10:09:09.217922100Z"
    }
   },
   "outputs": [
    {
     "data": {
      "text/plain": "<Figure size 640x480 with 1 Axes>",
      "image/png": "[encoded data removed]"
     },
     "metadata": {},
     "output_type": "display_data"
    }
   ],
   "source": [
    "x = np.arange(np.min(x_train), np.max(x_train) + 0.01, 0.01)\n",
    "y = qnn_simulator.predict(x)  # function for evaluating the prediction of the QNN\n",
    "plt.plot(x, np.sin(6.0*x), label=\"Parabola function\")\n",
    "plt.plot(x, y, label=\"QNN inference\")\n",
    "plt.plot(x_train, y_train, \"x\", label=\"training data\")\n",
    "plt.legend()\n",
    "plt.title(\"QNN inference of a parabola function\")\n",
    "plt.show()"
   ]
  }
 ],
 "metadata": {
  "interpreter": {
   "hash": "26de051ba29f2982a8de78e945f0abaf191376122a1563185a90213a26c5da77"
  },
  "kernelspec": {
   "display_name": "Python 3.10.2 64-bit",
   "language": "python",
   "name": "python3"
  },
  "language_info": {
   "codemirror_mode": {
    "name": "ipython",
    "version": 3
   },
   "file_extension": ".py",
   "mimetype": "text/x-python",
   "name": "python",
   "nbconvert_exporter": "python",
   "pygments_lexer": "ipython3",
   "version": "3.10.2"
  },
  "orig_nbformat": 4
 },
 "nbformat": 4,
 "nbformat_minor": 2
}
