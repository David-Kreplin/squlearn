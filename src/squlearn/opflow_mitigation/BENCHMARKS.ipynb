{
 "cells": [
  {
   "cell_type": "code",
   "execution_count": null,
   "metadata": {},
   "outputs": [],
   "source": [
    "from qiskit.circuit.random import random_circuit\n",
    "from qiskit.quantum_info import SparsePauliOp\n",
    "from qiskit.primitives import Estimator,Sampler\n",
    "\n",
    "from squlearn.util.optree import *\n",
    "from squlearn.util.optree.optree import *\n",
    "from squlearn.util.optree.optree_evaluate import *\n",
    "\n",
    "circuit = random_circuit(16,50,seed=0)"
   ]
  },
  {
   "cell_type": "code",
   "execution_count": null,
   "metadata": {},
   "outputs": [],
   "source": [
    "op_list_str = [\"IIIIIIIIIIIIIIII\",\"IIIIIIIIIIYYIIII\",\"IIIIIIIXXXXIIIII\",\"IIIIIIIIIIZZZIII\",\"IIIIIIIIXYZIIIII\",\"IIIIIIIIXYZIZIXI\",\"IIIIIIYXYYXXZZZI\",\n",
    " \"IIIIIIIIXXYYYZZY\",\"IIIIIIIYYZYYIZII\",\"IXXXXZZZYYIIIIII\",\"YZYIZZZIZYIIIIII\",\"YYZZZYZYZIIIIIII\",\"IZYZYZYIXIIIIIII\",\"ZZYZZXXZZIIIIIII\",\n",
    " \"IIIIIIZIXXYXZZZY\",\"IIIIIIIZYZYYIZII\",\"IYZYZYZZYYIIIIII\",\"YZZYZZYIZYIIIIII\",\"YZYXXXZYZIIIIIII\",\"XXXXZZYIXIIIIIII\",\"ZYXZYXZYZIIIIIII\",\n",
    " \"IIIIIIZYXZYXZYYZ\",\"IIIIIIIZYXZYZZYZ\",\"IZXXZYZZYYIIIIII\",\"YZYZYXZZYIIIIIII\",\"IZYIZIZYIIIIIIII\",\"ZIIXYIZIXIIIIIII\",\"IIZIXIXYZIIIIIII\",\n",
    " \"IIIIIIZYXZXYIIIZ\",\"IIIIIIIXXIIZZIYZ\",\"XXIXIXZZYYIIIIII\",\"XIIZIZZZYIIIIIII\",\"IXXXXIZYIIIIIIII\",\"ZIZIZIXIXIIIIIII\",\"XXXXXZXYZIIIIIII\",\n",
    " \"XYXYYYIIIIIIIIII\",\"XYXYYYIIIIYYIIII\",\"XYXYYYIXXXXIIIII\",\"XYXYYYIIIIZZZIII\",\"XYXYYYIIXYZIIIII\",\"XYXYYYIIXYZIZIXI\",\"XYXYYYYXYYXXZZZI\",\n",
    " \"XYXYYYIIXXYYYZZY\",\"XYXYYYIYYZYYIZII\",\"XYXYYYIXXXXZZZYY\",\"XYXYYYYZYIZZZIZY\",\"XYXYYYYYZZZYZYZI\",\"XYXYYYIZYZYZYIXI\",\"XYXYYYZZYZZXXZZI\",\n",
    " \"XYXYYYZIXXYXZZZY\",\"XYXYYYIZYZYYIZII\",\"XYXYYYIYZYZYZZYY\",\"XYXYYYYZZYZZYIZY\",\"XYXYYYYZYXXXZYZI\",\"XYXYYYXXXXZZYIXI\",\"XYXYYYZYXZYXZYZI\",\n",
    " \"XYXYYYZYXZYXZYYZ\",\"XYXYYYIZYXZYZZYZ\",\"XYXYYYIZXXZYZZYY\",\"XYXYYYYZYZYXZZYI\",\"XYXYYYIZYIZIZYII\",\"XYXYYYZIIXYIZIXI\",\"XYXYYYIIZIXIXYZI\",\n",
    " \"XYXYYYZYXZXYIIIZ\",\"XYXYYYIXXIIZZIYZ\",\"XYXYYYXXIXIXZZYY\",\"XYXYYYXIIZIZZZYI\",\"XYXYYYIXXXXIZYII\",\"XYXYYYZIZIZIXIXI\",\"XYXYYYXXXXXZXYZI\",\n",
    " ]\n",
    "\n",
    "\n",
    "op_list_str = [\"IIIIIIIIIIIIIIII\",\"IIIIIZZZIIIZIIII\",\"IZIIIIZIIZIZIZII\",\"ZIZIZIIIIZIIZIZI\",\"IZIZIZIZIZIIIZIZ\",\n",
    "\"IIZIZIZIZIZIIIZI\",\"ZIZIIZIZZZIIIZII\",\"IZIZIZIZIZIZIIIZ\",\"IZIZIZIZIZIIIZIZ\",\"ZZIZZZZIIIZIZIII\",\n",
    "\"IZZZIIIZZZIIIIII\",\"ZIZIZIZZZZIIIZII\",\"IZZIIIZZZIIZZZII\",\"IZZIIZIIZIIIZIZI\",\"IZZZZIIIZIIZIIZZ\",\n",
    "\"IZZIIZIIZIZZIZII\",\"IZIZZZIIIZZZIIZI\",\"ZZZZIIIZIIIZIZII\",\"ZIZIZIIIZZZZIIIZ\",\"ZZZIIIZIZZIIZZII\",\n",
    "\"IZIZIZIIZIZZIIZI\",\"ZIZIZIZIZIZIZIII\",\"ZIZIZIZIZIZIIZZI\",\"ZZZZIIZZZIIIIZII\",\"IZZZIIZIIZIIIIZI\",\n",
    "\"IZIZIZIIZIIZZIZI\",\"IZIZZIIIIZIZIZII\",\"IZIZZIIIZZZZIIZI\",\"ZIZZZIIIZIIZIZII\",\"IZIZIZZIIIZIZZII\",\n",
    "\"IIZZZZIIIZZZIIIZ\",\"IZZZZZZZZZZZIIZI\",\"ZZZZIZIZZZIZIZZI\",\"IZIZIZIZIZZZIZZI\",\"ZZZZIZIZZZZIZIZI\",\n",
    "\"IIZZIZIIZIZIZIZI\",\"ZIZIZIZIIZIZZZII\",\"ZZIZZIIZIIZIZIII\",\"IZIZIZZZIZIZIZII\",\"ZIZIZIIZIZIIZIZI\",\n",
    "\"IZIZIZIZIZIIZIZI\",\"ZIZIZIZIZIIZIIII\",\"IZZIIZZIIIZZZZII\",\"IZZZZZZZIZZIIZZI\",\"ZZZIIIZZZIZIIZII\",\n",
    "\"IZZZIIZIIZIZIZZI\",\"ZZZZZIIIZZZIIZII\",\"ZZIIIZZZIIIZZZZI\",\"IZZZIIIZZZZIIZII\",\"IZIZIIZIZIZIZIZI\",\n",
    "\"IZIZIZIZIZIZIZII\",\"ZIZIZIZIZIZIZIII\",\"IZZZZZIIIZZZIIZI\",\"ZZZIIIZZZIIZZZII\",\"ZZZZIIZIZIIZIIIZ\",\n",
    " ]\n",
    "\n",
    "\n",
    "op_list = []\n",
    "for op in op_list_str:\n",
    "    op_list.append(SparsePauliOp(op))\n",
    "\n",
    "circ_list = [circuit]*len(op_list)"
   ]
  },
  {
   "cell_type": "code",
   "execution_count": null,
   "metadata": {},
   "outputs": [],
   "source": [
    "len(op_list_str)"
   ]
  },
  {
   "cell_type": "code",
   "execution_count": null,
   "metadata": {},
   "outputs": [],
   "source": [
    "Estimator().run(circuit,op_list[0]).result()"
   ]
  },
  {
   "cell_type": "code",
   "execution_count": null,
   "metadata": {},
   "outputs": [],
   "source": [
    "Estimator().run(circ_list,op_list).result()"
   ]
  },
  {
   "cell_type": "code",
   "execution_count": null,
   "metadata": {},
   "outputs": [],
   "source": [
    "tree = gen_expectation_tree(circuit,OpTreeNodeList([OpTreeLeafOperator(op) for op in op_list]))\n",
    "adjust_tree = adjust_measurements(tree)"
   ]
  },
  {
   "cell_type": "code",
   "execution_count": null,
   "metadata": {},
   "outputs": [],
   "source": [
    "evaluate_expectation_tree_from_sampler(adjust_tree,{},Sampler())"
   ]
  }
 ],
 "metadata": {
  "kernelspec": {
   "display_name": "Python 3",
   "language": "python",
   "name": "python3"
  },
  "language_info": {
   "codemirror_mode": {
    "name": "ipython",
    "version": 3
   },
   "file_extension": ".py",
   "mimetype": "text/x-python",
   "name": "python",
   "nbconvert_exporter": "python",
   "pygments_lexer": "ipython3",
   "version": "3.10.2"
  },
  "orig_nbformat": 4
 },
 "nbformat": 4,
 "nbformat_minor": 2
}
