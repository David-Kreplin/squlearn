{
 "cells": [
  {
   "cell_type": "code",
   "execution_count": 4,
   "metadata": {},
   "outputs": [],
   "source": [
    "from squlearn.encoding_circuit import HubregtsenEncodingCircuit\n",
    "from squlearn.observables import SummedPaulis\n",
    "\n",
    "from squlearn import Executor\n",
    "\n",
    "from squlearn.qnn.lowlevel_qnn import LowLevelQNN\n",
    "\n",
    "pqc = HubregtsenEncodingCircuit(3, 2, 2)\n",
    "obs = SummedPaulis(3)"
   ]
  },
  {
   "cell_type": "code",
   "execution_count": 5,
   "metadata": {},
   "outputs": [
    {
     "name": "stdout",
     "output_type": "stream",
     "text": [
      "SparsePauliOp(['III', 'IIZ', 'IZI', 'ZII'],\n",
      "              coeffs=[ParameterExpression(1.0*p[0]), ParameterExpression(1.0*p[1]),\n",
      " ParameterExpression(1.0*p[2]), ParameterExpression(1.0*p[3])])\n"
     ]
    }
   ],
   "source": [
    "print(obs)"
   ]
  },
  {
   "cell_type": "code",
   "execution_count": 6,
   "metadata": {},
   "outputs": [],
   "source": [
    "import numpy as np\n",
    "\n",
    "np.random.seed(42)\n",
    "\n",
    "x = np.random.random(pqc.num_features)\n",
    "param = np.random.random(pqc.num_parameters)\n",
    "param_op = np.random.random(obs.num_parameters)"
   ]
  },
  {
   "cell_type": "code",
   "execution_count": 7,
   "metadata": {},
   "outputs": [
    {
     "ename": "RuntimeError",
     "evalue": "Unknown quantum framework!",
     "output_type": "error",
     "traceback": [
      "\u001b[1;31m---------------------------------------------------------------------------\u001b[0m",
      "\u001b[1;31mRuntimeError\u001b[0m                              Traceback (most recent call last)",
      "Cell \u001b[1;32mIn[7], line 1\u001b[0m\n\u001b[1;32m----> 1\u001b[0m qnn \u001b[38;5;241m=\u001b[39m LowLevelQNN(pqc, obs, \u001b[43mExecutor\u001b[49m\u001b[43m(\u001b[49m\u001b[38;5;124;43m\"\u001b[39;49m\u001b[38;5;124;43mqulacs\u001b[39;49m\u001b[38;5;124;43m\"\u001b[39;49m\u001b[43m)\u001b[49m)\n\u001b[0;32m      2\u001b[0m qnn\u001b[38;5;241m.\u001b[39mevaluate(x, param, param_op,\u001b[38;5;124m\"\u001b[39m\u001b[38;5;124mf\u001b[39m\u001b[38;5;124m\"\u001b[39m)\n",
      "File \u001b[1;32m~\\Documents\\Git Repositories\\squlearn_fork\\squlearn\\src\\squlearn\\util\\executor.py:788\u001b[0m, in \u001b[0;36mExecutor.__init__\u001b[1;34m(self, execution, backend, options_estimator, options_sampler, log_file, caching, cache_dir, max_session_time, max_jobs_retries, wait_restart, shots, seed, qpu_parallelization, auto_backend_mode)\u001b[0m\n\u001b[0;32m    778\u001b[0m     \u001b[38;5;28mself\u001b[39m\u001b[38;5;241m.\u001b[39m_remote_backend \u001b[38;5;241m=\u001b[39m \u001b[38;5;129;01mnot\u001b[39;00m \u001b[38;5;28many\u001b[39m(\n\u001b[0;32m    779\u001b[0m         substring \u001b[38;5;129;01min\u001b[39;00m \u001b[38;5;28mstr\u001b[39m(\u001b[38;5;28mself\u001b[39m\u001b[38;5;241m.\u001b[39m_pennylane_device)\n\u001b[0;32m    780\u001b[0m         \u001b[38;5;28;01mfor\u001b[39;00m substring \u001b[38;5;129;01min\u001b[39;00m [\n\u001b[1;32m   (...)\u001b[0m\n\u001b[0;32m    785\u001b[0m         ]\n\u001b[0;32m    786\u001b[0m     )\n\u001b[0;32m    787\u001b[0m \u001b[38;5;28;01melse\u001b[39;00m:\n\u001b[1;32m--> 788\u001b[0m     \u001b[38;5;28;01mraise\u001b[39;00m \u001b[38;5;167;01mRuntimeError\u001b[39;00m(\u001b[38;5;124m\"\u001b[39m\u001b[38;5;124mUnknown quantum framework!\u001b[39m\u001b[38;5;124m\"\u001b[39m)\n\u001b[0;32m    790\u001b[0m \u001b[38;5;66;03m# set initial shots\u001b[39;00m\n\u001b[0;32m    791\u001b[0m \u001b[38;5;28mself\u001b[39m\u001b[38;5;241m.\u001b[39mset_shots(shots)\n",
      "\u001b[1;31mRuntimeError\u001b[0m: Unknown quantum framework!"
     ]
    }
   ],
   "source": [
    "qnn = LowLevelQNN(pqc, obs, Executor(\"qulacs\"))\n",
    "qnn.evaluate(x, param, param_op, \"f\")"
   ]
  },
  {
   "cell_type": "code",
   "execution_count": null,
   "metadata": {},
   "outputs": [],
   "source": [
    "qnn_pl = LowLevelQNN(pqc, obs, Executor(\"pennylane\"))\n",
    "qnn_pl.evaluate(x, param, param_op, \"f\")"
   ]
  },
  {
   "cell_type": "code",
   "execution_count": null,
   "metadata": {},
   "outputs": [],
   "source": [
    "qnn_qiskit = LowLevelQNN(pqc, obs, Executor(\"qiskit\"))\n",
    "qnn_qiskit.evaluate(x, param, param_op, \"f\")"
   ]
  }
 ],
 "metadata": {
  "kernelspec": {
   "display_name": ".venv",
   "language": "python",
   "name": "python3"
  },
  "language_info": {
   "codemirror_mode": {
    "name": "ipython",
    "version": 3
   },
   "file_extension": ".py",
   "mimetype": "text/x-python",
   "name": "python",
   "nbconvert_exporter": "python",
   "pygments_lexer": "ipython3",
   "version": "3.9.13"
  }
 },
 "nbformat": 4,
 "nbformat_minor": 2
}
