{
 "cells": [
  {
   "cell_type": "code",
   "execution_count": null,
   "metadata": {},
   "outputs": [],
   "source": [
    "import matplotlib as mpl\n",
    "import matplotlib.pyplot as plt\n",
    "\n",
    "import numpy as np\n",
    "import pennylane as qml\n",
    "import pennylane.numpy as pnp"
   ]
  },
  {
   "cell_type": "code",
   "execution_count": null,
   "metadata": {},
   "outputs": [],
   "source": [
    "PQC_params = [-0.22306392,  0.96833378,  1.9085548,  1.2089074,   0.92015667,  0.77409331,\n",
    " -0.6506603,   0.22301956,  1.91325895, -0.20817139,  1.56411373,  0.54160768,\n",
    " -1.32168944,  0.45814232,  0.06255112,  0.12734099]\n",
    "\n",
    "operator_params = [-2.22039551,  1.99646609, -1.92925272,  3.44809977,  0.78566664]\n",
    "\n",
    "params = np.array(PQC_params)\n",
    "params_op = np.array(operator_params)"
   ]
  },
  {
   "cell_type": "code",
   "execution_count": null,
   "metadata": {},
   "outputs": [],
   "source": [
    "def test_func(x,p,ioff):\n",
    "    print(\"x\",x)\n",
    "    return p[ioff]*np.arccos(x[0])"
   ]
  },
  {
   "cell_type": "code",
   "execution_count": null,
   "metadata": {},
   "outputs": [],
   "source": [
    "num_qubits = 4\n",
    "device = qml.device(\"default.qubit\", wires=num_qubits)\n",
    "\n",
    "\n",
    "@qml.qnode(device)\n",
    "def circuit(x,params,params_op):\n",
    "\n",
    "    wires = list(range(num_qubits))\n",
    "    ioff = 0\n",
    "    for ilayer in range(2):\n",
    "        for i in wires:\n",
    "            qml.RX(test_func(x,params,ioff),wires=[i])\n",
    "            ioff+=1\n",
    "        for i in wires:\n",
    "            qml.RX(params[ioff],wires=[i])\n",
    "            ioff+=1\n",
    "\n",
    "        qml.CNOT(wires=[0,1])\n",
    "        qml.CNOT(wires=[2,3])\n",
    "        qml.CNOT(wires=[1,2])\n",
    "\n",
    "\n",
    "    #return qml.probs(wires=wires)\n",
    "    return qml.expval(params_op[0]*qml.Identity(wires)+sum([params_op[i+1]*qml.PauliZ(i) for i in wires]))\n",
    "\n",
    "\n",
    "fig, ax = qml.draw_mpl(circuit)([0],params,params_op)\n",
    "\n",
    "plt.show()"
   ]
  },
  {
   "cell_type": "code",
   "execution_count": null,
   "metadata": {},
   "outputs": [],
   "source": []
  },
  {
   "cell_type": "code",
   "execution_count": null,
   "metadata": {},
   "outputs": [],
   "source": [
    "x = np.arange(0.1, 0.8, 0.005)\n",
    "print(\"[x]\",[x])\n",
    "y = circuit([x],params,params_op)\n",
    "\n",
    "plt.plot(x,np.log(x))\n",
    "plt.plot(x,y)"
   ]
  }
 ],
 "metadata": {
  "kernelspec": {
   "display_name": ".venv",
   "language": "python",
   "name": "python3"
  },
  "language_info": {
   "codemirror_mode": {
    "name": "ipython",
    "version": 3
   },
   "file_extension": ".py",
   "mimetype": "text/x-python",
   "name": "python",
   "nbconvert_exporter": "python",
   "pygments_lexer": "ipython3",
   "version": "3.10.2"
  }
 },
 "nbformat": 4,
 "nbformat_minor": 2
}
