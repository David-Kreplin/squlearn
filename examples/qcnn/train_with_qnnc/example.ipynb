{
 "cells": [
  {
   "cell_type": "code",
   "execution_count": 1,
   "metadata": {},
   "outputs": [],
   "source": [
    "from squlearn.feature_map.qcnn_feature_map import qcnn_feature_map\n",
    "from squlearn.feature_map.qcnn_feature_map import prototype_routine\n",
    "import dill as pickle\n",
    "from squlearn.util import Executor\n",
    "from qiskit import QuantumCircuit\n",
    "from qiskit.circuit import ParameterVector\n",
    "import numpy as np\n",
    "import itertools\n",
    "import random\n",
    "from squlearn.expectation_operator import SingleProbability\n",
    "from squlearn.qnn import QNN\n",
    "from squlearn.feature_map.layered_feature_map import LayeredFeatureMap\n",
    "from qiskit.primitives import Estimator\n",
    "from squlearn.qnn.training import regression\n",
    "from squlearn.optimizers import SLSQP,Adam\n",
    "from squlearn.qnn.loss import SquaredLoss\n",
    "from squlearn.qnn.qnnc import QNNClassifier"
   ]
  },
  {
   "cell_type": "code",
   "execution_count": 2,
   "metadata": {},
   "outputs": [],
   "source": [
    "def generate_data_all_combi(length):\n",
    "    \"\"\"Creates a 2 dimensional numpy array with all combinations of zeros and ones.\n",
    "      It outputs this with there labels (0 if more zeros than ones, 1 else)\"\"\"\n",
    "    all_combi_list = list(itertools.product([0,1],repeat=length))\n",
    "    X_tuple_list = all_combi_list\n",
    "    X = np.array(X_tuple_list)  #converts list of tuples into a numpy array with dimension 2\n",
    "    Y = np.count_nonzero(X==0,axis=1) #counts the number of zeros in each sublist\n",
    "    for i in range(len(Y)):\n",
    "        zeros = Y[i]\n",
    "        if 2*zeros > length:\n",
    "            Y[i] = 0\n",
    "        else:\n",
    "            Y[i] = 1\n",
    "    return X,Y\n",
    "\n",
    "def generate_train_data(all_combination_data,train_size):\n",
    "    \"\"\"Generates from given all_combination data a train set with there labels.\"\"\"\n",
    "    X,Y = all_combination_data[0],all_combination_data[1]\n",
    "    data_size = Y.size\n",
    "    index_list = range(data_size)\n",
    "    random.seed(1)\n",
    "    index_choice = random.sample(index_list, train_size)\n",
    "    X_train = np.array([X[i] for i in index_choice])\n",
    "    Y_train = np.array([Y[i] for i in index_choice])\n",
    "    return X_train,Y_train"
   ]
  },
  {
   "cell_type": "code",
   "execution_count": 3,
   "metadata": {},
   "outputs": [
    {
     "data": {
      "text/plain": [
       "<qiskit.circuit.quantumcircuit.QuantumCircuit at 0x1a711d96b90>"
      ]
     },
     "execution_count": 3,
     "metadata": {},
     "output_type": "execute_result"
    }
   ],
   "source": [
    "\n",
    "qubits = 5\n",
    "train_set_size = 20\n",
    "#-------------------------------------------------------------------------------------------------------------------------------------------\n",
    "#QCNN feature map with no controlled rotation in convolution layer but with cx for entangling, in fully connected: every qubit rotates differently\n",
    "qcnn_train = qcnn_feature_map(qubits)\n",
    "\n",
    "x = ParameterVector(\"x\",6)\n",
    "conv_gate1 = QuantumCircuit(2)\n",
    "conv_gate1.rx(x[0],0)\n",
    "conv_gate1.cx(0,1)\n",
    "conv_gate1.rx(x[1],1)\n",
    "conv_gate1.cx(1,0)\n",
    "conv_gate1.ry(x[2],0)\n",
    "\n",
    "pool_gate = QuantumCircuit(2)\n",
    "pool_gate.cy(1,0)\n",
    "\n",
    "f = ParameterVector(\"f\",6)\n",
    "fully_gate = QuantumCircuit(3)\n",
    "fully_gate.rx(f[0],0)\n",
    "fully_gate.ry(f[1],1)\n",
    "fully_gate.rz(f[2],2)\n",
    "fully_gate.crz(f[3],0,1)\n",
    "fully_gate.crz(f[4],2,1)\n",
    "fully_gate.rx(f[5],1)\n",
    "\n",
    "qcnn_train.convolution(conv_gate1,entangled=True,var_param=True)\n",
    "qcnn_train.pooling(pool_gate)\n",
    "qcnn_train.fully_connected(fully_gate)\n",
    "\n",
    "param_vec_for_qcnn = ParameterVector(\"p\", qcnn_train.num_parameters)\n",
    "qcnn_train.get_circuit([],param_vec_for_qcnn)"
   ]
  },
  {
   "cell_type": "code",
   "execution_count": 4,
   "metadata": {},
   "outputs": [
    {
     "data": {
      "image/png": "[encoded data removed]",
      "text/plain": [
       "<Figure size 688.597x325.08 with 1 Axes>"
      ]
     },
     "execution_count": 4,
     "metadata": {},
     "output_type": "execute_result"
    }
   ],
   "source": [
    "# Measure |0> state in qubit 3\n",
    "operator = SingleProbability(qubits,3)\n",
    "\n",
    "all_combination_data = generate_data_all_combi(qubits)\n",
    "X,Y = generate_train_data(all_combination_data,train_set_size)\n",
    "\n",
    "encode = LayeredFeatureMap.from_string(\"Rx(x)\",num_qubits=qubits,num_features=qubits)\n",
    "qcnn_pqc = encode + qcnn_train\n",
    "qcnn_pqc.draw()"
   ]
  },
  {
   "cell_type": "code",
   "execution_count": 5,
   "metadata": {},
   "outputs": [],
   "source": [
    "np.random.seed(13)\n",
    "param_ini = np.random.rand(qcnn_pqc.num_parameters)\n",
    "param_op_ini = np.random.rand(operator.num_parameters)\n",
    "reg = QNNClassifier(qcnn_pqc,\n",
    "                   operator,\n",
    "                   Executor(Estimator()),\n",
    "                   SquaredLoss,\n",
    "                   Adam({\"maxiter\":150}),\n",
    "                   param_ini,\n",
    "                   param_op_ini,\n",
    "                   opt_param_op=False,\n",
    "                   batch_size=5,\n",
    "                   epochs=50,\n",
    "                   shuffle=True,\n",
    "                   )"
   ]
  },
  {
   "cell_type": "code",
   "execution_count": 6,
   "metadata": {},
   "outputs": [
    {
     "name": "stdout",
     "output_type": "stream",
     "text": [
      "Test with 5 qubits and 20 train sets.\n",
      "Train data:\n",
      "(array([[0, 1, 0, 0, 0],\n",
      "       [1, 0, 0, 1, 0],\n",
      "       [1, 1, 0, 1, 1],\n",
      "       [1, 1, 0, 0, 1],\n",
      "       [1, 1, 0, 0, 0],\n",
      "       [0, 0, 0, 1, 0],\n",
      "       [1, 1, 1, 1, 1],\n",
      "       [0, 0, 0, 1, 1],\n",
      "       [0, 1, 1, 1, 1],\n",
      "       [0, 1, 1, 1, 0],\n",
      "       [1, 0, 1, 1, 1],\n",
      "       [1, 0, 1, 0, 0],\n",
      "       [0, 1, 1, 0, 0],\n",
      "       [0, 0, 1, 1, 0],\n",
      "       [1, 1, 1, 0, 1],\n",
      "       [1, 0, 1, 0, 1],\n",
      "       [0, 0, 0, 0, 0],\n",
      "       [1, 0, 1, 1, 0],\n",
      "       [0, 1, 1, 0, 1],\n",
      "       [1, 1, 1, 1, 0]]), array([0, 0, 1, 1, 0, 0, 1, 0, 1, 1, 1, 0, 0, 0, 1, 1, 0, 1, 1, 1],\n",
      "      dtype=int64))\n"
     ]
    }
   ],
   "source": [
    "print(\"Test with\",qubits,\"qubits and\",train_set_size,\"train sets.\")\n",
    "print(\"Train data:\")\n",
    "print((X,Y))"
   ]
  },
  {
   "cell_type": "code",
   "execution_count": 7,
   "metadata": {},
   "outputs": [
    {
     "name": "stdout",
     "output_type": "stream",
     "text": [
      "Epoch     1/   50:\taverage_loss = 0.32264\n",
      "Epoch     2/   50:\taverage_loss = 0.25808\n",
      "Epoch     3/   50:\taverage_loss = 0.23455\n",
      "Epoch     4/   50:\taverage_loss = 0.22061\n",
      "Epoch     5/   50:\taverage_loss = 0.22004\n",
      "Epoch     6/   50:\taverage_loss = 0.21150\n",
      "Epoch     7/   50:\taverage_loss = 0.20817\n",
      "Epoch     8/   50:\taverage_loss = 0.20367\n",
      "Epoch     9/   50:\taverage_loss = 0.20150\n",
      "Epoch    10/   50:\taverage_loss = 0.20130\n",
      "Epoch    11/   50:\taverage_loss = 0.19650\n",
      "Epoch    12/   50:\taverage_loss = 0.19360\n",
      "Epoch    13/   50:\taverage_loss = 0.19256\n",
      "Epoch    14/   50:\taverage_loss = 0.18979\n",
      "Epoch    15/   50:\taverage_loss = 0.18423\n",
      "Epoch    16/   50:\taverage_loss = 0.17991\n",
      "Epoch    17/   50:\taverage_loss = 0.17547\n",
      "Epoch    18/   50:\taverage_loss = 0.17098\n",
      "Epoch    19/   50:\taverage_loss = 0.16481\n",
      "Epoch    20/   50:\taverage_loss = 0.15921\n",
      "Epoch    21/   50:\taverage_loss = 0.15630\n",
      "Epoch    22/   50:\taverage_loss = 0.15371\n",
      "Epoch    23/   50:\taverage_loss = 0.14995\n",
      "Epoch    24/   50:\taverage_loss = 0.14587\n",
      "Epoch    25/   50:\taverage_loss = 0.14451\n",
      "Epoch    26/   50:\taverage_loss = 0.14117\n",
      "Epoch    27/   50:\taverage_loss = 0.13857\n",
      "Epoch    28/   50:\taverage_loss = 0.13517\n",
      "Epoch    29/   50:\taverage_loss = 0.13524\n",
      "Epoch    30/   50:\taverage_loss = 0.13271\n",
      "Epoch    31/   50:\taverage_loss = 0.13152\n",
      "Epoch    32/   50:\taverage_loss = 0.13058\n",
      "Epoch    33/   50:\taverage_loss = 0.13457\n",
      "Epoch    34/   50:\taverage_loss = 0.13159\n",
      "Epoch    35/   50:\taverage_loss = 0.12891\n",
      "Epoch    36/   50:\taverage_loss = 0.12982\n",
      "Epoch    37/   50:\taverage_loss = 0.13027\n",
      "Epoch    38/   50:\taverage_loss = 0.12795\n",
      "Epoch    39/   50:\taverage_loss = 0.12978\n",
      "Epoch    40/   50:\taverage_loss = 0.12741\n",
      "Epoch    41/   50:\taverage_loss = 0.13306\n",
      "Epoch    42/   50:\taverage_loss = 0.12767\n",
      "Epoch    43/   50:\taverage_loss = 0.12763\n",
      "Epoch    44/   50:\taverage_loss = 0.12775\n",
      "Epoch    45/   50:\taverage_loss = 0.12833\n",
      "Epoch    46/   50:\taverage_loss = 0.12626\n",
      "Epoch    47/   50:\taverage_loss = 0.12855\n",
      "Epoch    48/   50:\taverage_loss = 0.12706\n",
      "Epoch    49/   50:\taverage_loss = 0.12744\n",
      "Epoch    50/   50:\taverage_loss = 0.12587\n"
     ]
    }
   ],
   "source": [
    "reg.fit(X, Y)"
   ]
  },
  {
   "cell_type": "code",
   "execution_count": 8,
   "metadata": {},
   "outputs": [
    {
     "name": "stdout",
     "output_type": "stream",
     "text": [
      "Test with 5 qubits and 20 train sets.\n",
      "Train data:\n",
      "(array([[0, 1, 0, 0, 0],\n",
      "       [1, 0, 0, 1, 0],\n",
      "       [1, 1, 0, 1, 1],\n",
      "       [1, 1, 0, 0, 1],\n",
      "       [1, 1, 0, 0, 0],\n",
      "       [0, 0, 0, 1, 0],\n",
      "       [1, 1, 1, 1, 1],\n",
      "       [0, 0, 0, 1, 1],\n",
      "       [0, 1, 1, 1, 1],\n",
      "       [0, 1, 1, 1, 0],\n",
      "       [1, 0, 1, 1, 1],\n",
      "       [1, 0, 1, 0, 0],\n",
      "       [0, 1, 1, 0, 0],\n",
      "       [0, 0, 1, 1, 0],\n",
      "       [1, 1, 1, 0, 1],\n",
      "       [1, 0, 1, 0, 1],\n",
      "       [0, 0, 0, 0, 0],\n",
      "       [1, 0, 1, 1, 0],\n",
      "       [0, 1, 1, 0, 1],\n",
      "       [1, 1, 1, 1, 0]]), array([0, 0, 1, 1, 0, 0, 1, 0, 1, 1, 1, 0, 0, 0, 1, 1, 0, 1, 1, 1],\n",
      "      dtype=int64))\n",
      "Test data:\n",
      "[[0 0 0 0 0]\n",
      " [0 0 0 0 1]\n",
      " [0 0 0 1 0]\n",
      " [0 0 0 1 1]\n",
      " [0 0 1 0 0]\n",
      " [0 0 1 0 1]\n",
      " [0 0 1 1 0]\n",
      " [0 0 1 1 1]\n",
      " [0 1 0 0 0]\n",
      " [0 1 0 0 1]\n",
      " [0 1 0 1 0]\n",
      " [0 1 0 1 1]\n",
      " [0 1 1 0 0]\n",
      " [0 1 1 0 1]\n",
      " [0 1 1 1 0]\n",
      " [0 1 1 1 1]\n",
      " [1 0 0 0 0]\n",
      " [1 0 0 0 1]\n",
      " [1 0 0 1 0]\n",
      " [1 0 0 1 1]\n",
      " [1 0 1 0 0]\n",
      " [1 0 1 0 1]\n",
      " [1 0 1 1 0]\n",
      " [1 0 1 1 1]\n",
      " [1 1 0 0 0]\n",
      " [1 1 0 0 1]\n",
      " [1 1 0 1 0]\n",
      " [1 1 0 1 1]\n",
      " [1 1 1 0 0]\n",
      " [1 1 1 0 1]\n",
      " [1 1 1 1 0]\n",
      " [1 1 1 1 1]]\n",
      "predict [0 1 0 1 0 1 0 1 0 1 0 1 0 1 1 1 0 1 0 1 0 1 1 1 0 1 0 1 1 1 1 1]\n",
      "ref [0 0 0 0 0 0 0 1 0 0 0 1 0 1 1 1 0 0 0 1 0 1 1 1 0 1 1 1 1 1 1 1]\n",
      "Score: 0.8125\n"
     ]
    }
   ],
   "source": [
    "\n",
    "print(\"Test with\",qubits,\"qubits and\",train_set_size,\"train sets.\")\n",
    "print(\"Train data:\")\n",
    "print((X,Y))\n",
    "X_test = all_combination_data[0]\n",
    "Y_test = all_combination_data[1]\n",
    "print(\"Test data:\")\n",
    "print(X_test)\n",
    "print(\"predict\",reg.predict(X_test))\n",
    "print(\"ref\",Y_test)\n",
    "print(\"Score:\",reg.score(X_test,Y_test))"
   ]
  }
 ],
 "metadata": {
  "kernelspec": {
   "display_name": "Python 3",
   "language": "python",
   "name": "python3"
  },
  "language_info": {
   "codemirror_mode": {
    "name": "ipython",
    "version": 3
   },
   "file_extension": ".py",
   "mimetype": "text/x-python",
   "name": "python",
   "nbconvert_exporter": "python",
   "pygments_lexer": "ipython3",
   "version": "3.10.2"
  },
  "orig_nbformat": 4
 },
 "nbformat": 4,
 "nbformat_minor": 2
}
