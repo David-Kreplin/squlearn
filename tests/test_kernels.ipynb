{
 "cells": [
  {
   "cell_type": "code",
   "execution_count": 1,
   "metadata": {},
   "outputs": [],
   "source": [
    "from squlearn import Executor\n",
    "from squlearn.kernel import FidelityKernel, ProjectedQuantumKernel\n",
    "from squlearn.encoding_circuit import ChebyshevTower, ChebyshevPQC, HubregtsenEncodingCircuit\n",
    "\n",
    "\n",
    "import pennylane as qml\n",
    "\n",
    "import numpy as np"
   ]
  },
  {
   "cell_type": "code",
   "execution_count": 2,
   "metadata": {},
   "outputs": [
    {
     "data": {
      "text/plain": [
       "8"
      ]
     },
     "execution_count": 2,
     "metadata": {},
     "output_type": "execute_result"
    }
   ],
   "source": [
    "fm = HubregtsenEncodingCircuit(4,1,1)\n",
    "#fm = ChebyshevTower(4,1,1)\n",
    "exec = Executor(qml.device(\"default.qubit\"),shots=1000,seed=0)\n",
    "kernel = ProjectedQuantumKernel(fm, exec, caching=True)\n",
    "fm.num_parameters"
   ]
  },
  {
   "cell_type": "code",
   "execution_count": 3,
   "metadata": {},
   "outputs": [
    {
     "name": "stdout",
     "output_type": "stream",
     "text": [
      "len(value_dict) 0\n",
      "len(value_dict) 0\n"
     ]
    },
    {
     "data": {
      "text/plain": [
       "array([[0.98782275, 0.87569975, 0.97628961, 0.98862519, 0.92367408,\n",
       "        0.93580515, 0.94123729, 0.59331846, 0.44271193, 0.87687046],\n",
       "       [0.88048358, 0.98398955, 0.9338084 , 0.83706295, 0.66017918,\n",
       "        0.95306135, 0.70046702, 0.8911166 , 0.75795444, 0.59992658],\n",
       "       [0.98294314, 0.94704942, 0.99558179, 0.96026691, 0.84285866,\n",
       "        0.97845547, 0.87348528, 0.71677019, 0.55821449, 0.79228984],\n",
       "       [0.98133636, 0.87757575, 0.96520381, 0.97872948, 0.91625919,\n",
       "        0.93513535, 0.9301476 , 0.59353446, 0.45529578, 0.86436513],\n",
       "       [0.91271099, 0.70705982, 0.87335951, 0.94388778, 0.9889416 ,\n",
       "        0.78914279, 0.98585697, 0.4094371 , 0.28303973, 0.97114451],\n",
       "       [0.96004032, 0.96828579, 0.97369224, 0.91976967, 0.77641508,\n",
       "        0.98440685, 0.81196016, 0.76941253, 0.63248422, 0.71945018],\n",
       "       [0.94097002, 0.75203531, 0.90055143, 0.95356089, 0.97430001,\n",
       "        0.83453216, 0.9792503 , 0.44255789, 0.31795545, 0.93229313],\n",
       "       [0.64411629, 0.86813851, 0.70961834, 0.58432614, 0.4008035 ,\n",
       "        0.78941114, 0.43178651, 0.98618432, 0.95269545, 0.35052474],\n",
       "       [0.52934864, 0.7730311 , 0.59810557, 0.47706048, 0.3093271 ,\n",
       "        0.68379303, 0.33667945, 0.97037566, 0.97706314, 0.26566797],\n",
       "       [0.86463485, 0.6511964 , 0.82302558, 0.91897901, 0.98198819,\n",
       "        0.73864637, 0.9806732 , 0.36000549, 0.2415555 , 0.97998697]])"
      ]
     },
     "execution_count": 3,
     "metadata": {},
     "output_type": "execute_result"
    }
   ],
   "source": [
    "np.random.seed(0)\n",
    "x = np.random.rand(10,1)\n",
    "y = np.random.rand(10,1)\n",
    "param = np.random.rand(fm.num_parameters)\n",
    "param = np.zeros(fm.num_parameters)\n",
    "#y[0] = 0.5\n",
    "\n",
    "\n",
    "kernel.assign_parameters(param)\n",
    "kernel.evaluate(x, y)"
   ]
  },
  {
   "cell_type": "code",
   "execution_count": 4,
   "metadata": {},
   "outputs": [
    {
     "data": {
      "text/plain": [
       "array([[0.99088089, 0.90112947, 0.9638391 , 0.99037444, 0.91847507,\n",
       "        0.9545424 , 0.91663235, 0.62785693, 0.50131482, 0.88157386],\n",
       "       [0.87648369, 0.98900896, 0.94582056, 0.84938648, 0.67703409,\n",
       "        0.96605588, 0.67790485, 0.8864028 , 0.79274177, 0.62012442],\n",
       "       [0.99136518, 0.94470102, 0.98439454, 0.97897375, 0.87848756,\n",
       "        0.98142503, 0.87499141, 0.69588932, 0.57094319, 0.83717896],\n",
       "       [0.98614889, 0.89879298, 0.96476119, 0.98331218, 0.90958861,\n",
       "        0.94431947, 0.90415092, 0.61305716, 0.48840052, 0.87887985],\n",
       "       [0.92297717, 0.70153832, 0.82762984, 0.94124402, 0.99160298,\n",
       "        0.79040051, 0.9921833 , 0.40171494, 0.30035575, 0.99054722],\n",
       "       [0.94422956, 0.97809179, 0.96804298, 0.92380709, 0.78364019,\n",
       "        0.98152779, 0.77976009, 0.78760726, 0.66615128, 0.72551778],\n",
       "       [0.9479825 , 0.75140149, 0.86404562, 0.96588621, 0.98288371,\n",
       "        0.83642947, 0.98543258, 0.45069496, 0.34025819, 0.97352383],\n",
       "       [0.62771826, 0.87152523, 0.73532274, 0.59114539, 0.40630324,\n",
       "        0.78592332, 0.40593392, 0.98128714, 0.9591625 , 0.35737451],\n",
       "       [0.48935386, 0.74652189, 0.59679349, 0.45736447, 0.29703986,\n",
       "        0.6483169 , 0.29534256, 0.95400444, 0.98880984, 0.25366119],\n",
       "       [0.88454327, 0.65745362, 0.79646038, 0.91322089, 0.98504835,\n",
       "        0.74182772, 0.98130261, 0.3565733 , 0.26290274, 0.98812793]])"
      ]
     },
     "execution_count": 4,
     "metadata": {},
     "output_type": "execute_result"
    }
   ],
   "source": [
    "exec = Executor(\"statevector_simulator\",shots=1000,seed=0)\n",
    "kernel2 = ProjectedQuantumKernel(fm, exec, caching=True)\n",
    "kernel2.assign_parameters(param)\n",
    "kernel2.evaluate(x, y)"
   ]
  }
 ],
 "metadata": {
  "kernelspec": {
   "display_name": ".venv",
   "language": "python",
   "name": "python3"
  },
  "language_info": {
   "codemirror_mode": {
    "name": "ipython",
    "version": 3
   },
   "file_extension": ".py",
   "mimetype": "text/x-python",
   "name": "python",
   "nbconvert_exporter": "python",
   "pygments_lexer": "ipython3",
   "version": "3.10.2"
  }
 },
 "nbformat": 4,
 "nbformat_minor": 2
}
