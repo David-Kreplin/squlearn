{
 "cells": [
  {
   "cell_type": "code",
   "execution_count": 1,
   "metadata": {},
   "outputs": [],
   "source": [
    "import numpy as np\n",
    "from squlearn.encoding_circuit import ChebyshevRx\n",
    "from squlearn.kernel import ProjectedQuantumKernel,FidelityKernel\n",
    "from squlearn.util import Executor\n",
    "\n",
    "from qiskit_ibm_runtime import QiskitRuntimeService,Sampler,Session\n",
    "\n",
    "from qiskit import QuantumCircuit\n",
    "\n",
    "service = QiskitRuntimeService(channel=\"ibm_quantum\")"
   ]
  },
  {
   "cell_type": "code",
   "execution_count": 2,
   "metadata": {},
   "outputs": [
    {
     "name": "stdout",
     "output_type": "stream",
     "text": [
      "Automatic backend selection started\n",
      "Number of backends available with given parameters:12\n",
      "Mode: speed using Mapomatic\n",
      "Input circuit needs 4 qubits\n",
      "Least busy backend: ibm_algiers with 27 qubits\n",
      "Transpiled circuit needs 4 qubits on ibm_algiers\n",
      "Best sub-layout: [2, 3, 5, 8]. Error_rate: 0.01860819544865422\n"
     ]
    }
   ],
   "source": [
    "exec = Executor( service, auto_backend_mode=\"speed\", log_file=\"log.txt\")\n",
    "pqc = ChebyshevRx(4,1)\n",
    "pqk = FidelityKernel(pqc,exec)"
   ]
  },
  {
   "cell_type": "code",
   "execution_count": 3,
   "metadata": {},
   "outputs": [
    {
     "name": "stdout",
     "output_type": "stream",
     "text": [
      "[[1.         0.18261987 0.15036932]\n",
      " [0.18261987 1.         0.83442637]\n",
      " [0.15036932 0.83442637 1.        ]]\n"
     ]
    }
   ],
   "source": [
    "x = np.array([[0.1],[0.5],[0.6]])\n",
    "K = pqk.evaluate(x,x)\n",
    "print(K)"
   ]
  }
 ],
 "metadata": {
  "kernelspec": {
   "display_name": "Python 3",
   "language": "python",
   "name": "python3"
  },
  "language_info": {
   "codemirror_mode": {
    "name": "ipython",
    "version": 3
   },
   "file_extension": ".py",
   "mimetype": "text/x-python",
   "name": "python",
   "nbconvert_exporter": "python",
   "pygments_lexer": "ipython3",
   "version": "3.10.2"
  }
 },
 "nbformat": 4,
 "nbformat_minor": 2
}
