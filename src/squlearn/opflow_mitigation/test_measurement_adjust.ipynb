{
 "cells": [
  {
   "cell_type": "code",
   "execution_count": null,
   "metadata": {},
   "outputs": [],
   "source": [
    "from qiskit.circuit.random import random_circuit\n",
    "from qiskit.quantum_info import SparsePauliOp\n",
    "from qiskit import QuantumCircuit\n",
    "\n",
    "from qiskit.primitives import BackendEstimator,Estimator,Sampler\n",
    "from qiskit import Aer\n",
    "\n",
    "from squlearn.util.optree import *\n",
    "from squlearn.util.optree.optree import *\n",
    "from squlearn.util.optree.optree_derivative import *\n",
    "from squlearn.util.optree.optree_evaluate import *\n",
    "\n",
    "#circuit = random_circuit(4, 2, seed=12)\n",
    "#circuit.draw()\n",
    "\n",
    "pqc_param = ParameterVector('θ', 4)\n",
    "\n",
    "circuit = QuantumCircuit(4)\n",
    "circuit.h([0,1,2,3])\n",
    "circuit.u(0.5,0.5,0.5,[0,1,2,3])\n",
    "circuit.cx(0,1)\n",
    "circuit.cx(2,3)\n",
    "circuit.cx(1,2)\n",
    "\n",
    "circuit2 = circuit.copy()\n",
    "\n",
    "circuit.ry(pqc_param[0],0)\n",
    "circuit.ry(pqc_param[1],1)\n",
    "circuit.ry(pqc_param[2],2)\n",
    "circuit.ry(pqc_param[3],3)\n",
    "circuit.draw()\n",
    "\n",
    "circuit2.rx(pqc_param[0],0)\n",
    "circuit2.rx(pqc_param[1],1)\n",
    "circuit2.rx(pqc_param[2],2)\n",
    "circuit2.rx(pqc_param[3],3)\n",
    "\n"
   ]
  },
  {
   "cell_type": "code",
   "execution_count": null,
   "metadata": {},
   "outputs": [],
   "source": [
    "param1 = {pqc_param[0]:0.5,pqc_param[1]:0.5,pqc_param[2]:0.5,pqc_param[3]:0.5}\n",
    "param2 = {pqc_param[0]:0.15,pqc_param[1]:0.15,pqc_param[2]:0.85,pqc_param[3]:0.95}\n"
   ]
  },
  {
   "cell_type": "code",
   "execution_count": null,
   "metadata": {},
   "outputs": [],
   "source": [
    "op_param = ParameterVector('p',3)\n",
    "op = SparsePauliOp([\"XXXX\",\"YYYY\",\"IIYY\"],[op_param[0],op_param[1],op_param[2]])\n",
    "op_dict1={op_param[0]:0.5,op_param[1]:0.5,op_param[2]:0.5}\n",
    "op_dict2={op_param[0]:0.25,op_param[1]:0.25,op_param[2]:0.25}"
   ]
  },
  {
   "cell_type": "code",
   "execution_count": null,
   "metadata": {},
   "outputs": [],
   "source": [
    "op.num_qubits\n",
    "op_clean = SparsePauliOp([\"ZZZZ\",\"ZZZI\",\"IIZZ\"],[op_param[0],op_param[1],op_param[2]])\n",
    "op_clean_param=ParameterVector('p',3)\n",
    "op_clean_dict1={op_clean_param[0]:0.5,op_clean_param[1]:0.2,op_clean_param[2]:0.3}\n",
    "op_clean_dict2={op_clean_param[0]:0.12,op_clean_param[1]:0.8,op_clean_param[2]:-0.3}"
   ]
  },
  {
   "cell_type": "code",
   "execution_count": null,
   "metadata": {},
   "outputs": [],
   "source": [
    "op_clean2 = SparsePauliOp([\"IIZZ\",\"ZZII\"],[0.1,0.2])"
   ]
  },
  {
   "cell_type": "code",
   "execution_count": null,
   "metadata": {},
   "outputs": [],
   "source": [
    "opdic1 = copy.copy(op_dict1)\n",
    "opdic1.update(op_clean_dict1)\n",
    "\n",
    "opdic2 = copy.copy(op_dict2)\n",
    "opdic2.update(op_clean_dict2)\n"
   ]
  },
  {
   "cell_type": "code",
   "execution_count": null,
   "metadata": {},
   "outputs": [],
   "source": [
    "test = transform_operator_to_zbasis(op)\n",
    "print(test)"
   ]
  },
  {
   "cell_type": "code",
   "execution_count": null,
   "metadata": {},
   "outputs": [],
   "source": [
    "print(gen_expectation_tree(circuit,test))"
   ]
  },
  {
   "cell_type": "markdown",
   "metadata": {},
   "source": []
  },
  {
   "cell_type": "code",
   "execution_count": null,
   "metadata": {},
   "outputs": [],
   "source": [
    "tree = OpTreeLeafExpectationValue(circuit,op)\n",
    "print(tree)"
   ]
  },
  {
   "cell_type": "code",
   "execution_count": null,
   "metadata": {},
   "outputs": [],
   "source": [
    "adjust_tree = transform_tree_to_zbasis(tree,abelian_grouping=False)\n",
    "print(adjust_tree)"
   ]
  },
  {
   "cell_type": "code",
   "execution_count": null,
   "metadata": {},
   "outputs": [],
   "source": [
    "evaluate_estimator(OpTreeNodeList([circuit,circuit2]),OpTreeNodeList([op,op_clean,op_clean2]),[param1,param2],[opdic1,opdic2],Estimator(),dictionaries_combined=False)"
   ]
  },
  {
   "cell_type": "markdown",
   "metadata": {},
   "source": []
  },
  {
   "cell_type": "code",
   "execution_count": null,
   "metadata": {},
   "outputs": [],
   "source": [
    "evaluate_sampler_v2(OpTreeNodeList([circuit,circuit2]),OpTreeNodeList([test,op_clean,op_clean2]),param1,opdic1,Sampler(),dictionaries_combined=False)"
   ]
  },
  {
   "cell_type": "code",
   "execution_count": null,
   "metadata": {},
   "outputs": [],
   "source": [
    "evaluate_sampler_v2(OpTreeNodeList([circuit,circuit2]),OpTreeNodeList([test,op_clean,op_clean2]),param2,opdic2,Sampler(),dictionaries_combined=False)"
   ]
  },
  {
   "cell_type": "code",
   "execution_count": null,
   "metadata": {},
   "outputs": [],
   "source": [
    "evaluate_sampler_v2(OpTreeNodeList([circuit,circuit2]),OpTreeNodeList([test,op_clean,op_clean2]),[param1,param2],[opdic1,opdic2],Sampler(),dictionaries_combined=False)"
   ]
  },
  {
   "cell_type": "code",
   "execution_count": null,
   "metadata": {},
   "outputs": [],
   "source": [
    "OpTreeNodeList([circuit,circuit2]),OpTreeNodeList([test,op_clean,op_clean2])evaluate_sampler_v2(,[param1,param2],[opdic1,opdic2],Sampler(),dictionaries_combined=True)"
   ]
  },
  {
   "cell_type": "code",
   "execution_count": null,
   "metadata": {},
   "outputs": [],
   "source": [
    "expec_tree = gen_expectation_tree(OpTreeNodeList([circuit,circuit2]),OpTreeNodeList([test,op_clean,op_clean2]))\n",
    "\n",
    "full_dict = param1.copy()\n",
    "full_dict.update(opdic1)\n",
    "\n",
    "evaluate_expectation_tree_from_estimator(expec_tree,full_dict,Estimator())"
   ]
  },
  {
   "cell_type": "code",
   "execution_count": null,
   "metadata": {},
   "outputs": [],
   "source": [
    "evaluate_expectation_tree_from_sampler(expec_tree,full_dict,Sampler())"
   ]
  },
  {
   "cell_type": "code",
   "execution_count": null,
   "metadata": {},
   "outputs": [],
   "source": [
    "evaluate_expectation_tree_from_sampler2(expec_tree,full_dict,Sampler())"
   ]
  },
  {
   "cell_type": "markdown",
   "metadata": {},
   "source": []
  },
  {
   "cell_type": "code",
   "execution_count": null,
   "metadata": {},
   "outputs": [],
   "source": [
    "#evaluate_expectation_tree_from_estimator(tree,{},Estimator())"
   ]
  },
  {
   "cell_type": "code",
   "execution_count": null,
   "metadata": {},
   "outputs": [],
   "source": [
    "# # Create a backend estimator\n",
    "# backend = Aer.get_backend('statevector_simulator')\n",
    "# estimator = BackendEstimator(backend=backend,options={'shots':1000000})\n",
    "\n",
    "# job = estimator.run(circuit,op)"
   ]
  },
  {
   "cell_type": "code",
   "execution_count": null,
   "metadata": {},
   "outputs": [],
   "source": [
    "#job.result().values"
   ]
  }
 ],
 "metadata": {
  "kernelspec": {
   "display_name": "Python 3",
   "language": "python",
   "name": "python3"
  },
  "language_info": {
   "codemirror_mode": {
    "name": "ipython",
    "version": 3
   },
   "file_extension": ".py",
   "mimetype": "text/x-python",
   "name": "python",
   "nbconvert_exporter": "python",
   "pygments_lexer": "ipython3",
   "version": "3.10.2"
  },
  "orig_nbformat": 4
 },
 "nbformat": 4,
 "nbformat_minor": 2
}
