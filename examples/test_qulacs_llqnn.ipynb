{
 "cells": [
  {
   "cell_type": "code",
   "execution_count": null,
   "metadata": {},
   "outputs": [],
   "source": [
    "from squlearn.encoding_circuit import HubregtsenEncodingCircuit\n",
    "from squlearn.observables import SummedPaulis\n",
    "\n",
    "from squlearn import Executor\n",
    "\n",
    "from squlearn.qnn.lowlevel_qnn import LowLevelQNN\n",
    "\n",
    "pqc = HubregtsenEncodingCircuit(3,2,2)\n",
    "obs = SummedPaulis(3)\n",
    "\n",
    "\n"
   ]
  },
  {
   "cell_type": "code",
   "execution_count": null,
   "metadata": {},
   "outputs": [],
   "source": [
    "print(obs)"
   ]
  },
  {
   "cell_type": "code",
   "execution_count": null,
   "metadata": {},
   "outputs": [],
   "source": [
    "import numpy as np\n",
    "\n",
    "np.random.seed(42)\n",
    "\n",
    "x = np.random.random(pqc.num_features)\n",
    "param = np.random.random(pqc.num_parameters)\n",
    "param_op = np.random.random(obs.num_parameters_observable)"
   ]
  },
  {
   "cell_type": "code",
   "execution_count": null,
   "metadata": {},
   "outputs": [],
   "source": [
    "qnn = LowLevelQNN(pqc, obs, Executor(\"qulacs\"))\n",
    "qnn.evaluate(x, param, param_op,\"f\")"
   ]
  },
  {
   "cell_type": "code",
   "execution_count": null,
   "metadata": {},
   "outputs": [],
   "source": [
    "qnn_pl = LowLevelQNN(pqc, obs, Executor(\"pennylane\"))\n",
    "qnn_pl.evaluate(x, param, param_op,\"f\")"
   ]
  },
  {
   "cell_type": "code",
   "execution_count": null,
   "metadata": {},
   "outputs": [],
   "source": [
    "qnn_qiskit = LowLevelQNN(pqc, obs, Executor(\"qiskit\"))\n",
    "qnn_qiskit.evaluate(x, param, param_op,\"f\")"
   ]
  }
 ],
 "metadata": {
  "kernelspec": {
   "display_name": ".venv",
   "language": "python",
   "name": "python3"
  },
  "language_info": {
   "codemirror_mode": {
    "name": "ipython",
    "version": 3
   },
   "file_extension": ".py",
   "mimetype": "text/x-python",
   "name": "python",
   "nbconvert_exporter": "python",
   "pygments_lexer": "ipython3",
   "version": "3.9.13"
  }
 },
 "nbformat": 4,
 "nbformat_minor": 2
}
