{
 "cells": [
  {
   "cell_type": "code",
   "execution_count": 1,
   "metadata": {},
   "outputs": [],
   "source": [
    "import numpy as np\n",
    "from qiskit.primitives.backend_estimator import _pauli_expval_with_variance\n",
    "from qiskit.primitives import Sampler, Estimator\n",
    "from qiskit.quantum_info import SparsePauliOp\n",
    "\n",
    "from squlearn.util.optree.optree_evaluate import evaluate_expectation_from_sampler"
   ]
  },
  {
   "cell_type": "code",
   "execution_count": 2,
   "metadata": {},
   "outputs": [
    {
     "name": "stdout",
     "output_type": "stream",
     "text": [
      "SparsePauliOp(['ZZ', 'IZ', 'ZI', 'II'],\n",
      "              coeffs=[0.5+0.j, 0.4+0.j, 0.3+0.j, 0.2+0.j])\n"
     ]
    }
   ],
   "source": [
    "operator = SparsePauliOp([\"ZZ\", \"IZ\", \"ZI\", \"II\"], coeffs=[0.5, 0.4, 0.3, 0.2])\n",
    "print(operator)"
   ]
  },
  {
   "cell_type": "code",
   "execution_count": 3,
   "metadata": {},
   "outputs": [
    {
     "name": "stdout",
     "output_type": "stream",
     "text": [
      "SparsePauliOp(['II', 'ZI', 'IZ', 'ZZ', 'ZI', 'II', 'ZZ', 'IZ', 'IZ', 'ZZ', 'II', 'ZI', 'ZZ', 'IZ', 'ZI', 'II'],\n",
      "              coeffs=[0.25+0.j, 0.2 +0.j, 0.15+0.j, 0.1 +0.j, 0.2 +0.j, 0.16+0.j, 0.12+0.j,\n",
      " 0.08+0.j, 0.15+0.j, 0.12+0.j, 0.09+0.j, 0.06+0.j, 0.1 +0.j, 0.08+0.j,\n",
      " 0.06+0.j, 0.04+0.j])\n"
     ]
    }
   ],
   "source": [
    "op2 = operator.power(2)\n",
    "print(op2)"
   ]
  },
  {
   "cell_type": "code",
   "execution_count": 4,
   "metadata": {},
   "outputs": [
    {
     "data": {
      "image/png": "[encoded data removed]",
      "text/plain": [
       "<Figure size 748.652x204.68 with 1 Axes>"
      ]
     },
     "metadata": {},
     "output_type": "display_data"
    }
   ],
   "source": [
    "from qiskit.circuit.random import random_circuit\n",
    "\n",
    "circuit = random_circuit(2, 2, seed=0, measure=True).decompose(reps=1)\n",
    "circuit2 = random_circuit(2, 2, seed=1, measure=True).decompose(reps=1)\n",
    "display(circuit.draw(\"mpl\"))"
   ]
  },
  {
   "cell_type": "code",
   "execution_count": 5,
   "metadata": {},
   "outputs": [],
   "source": [
    "job = Sampler().run(circuits=[circuit, circuit2])"
   ]
  },
  {
   "cell_type": "code",
   "execution_count": 6,
   "metadata": {},
   "outputs": [
    {
     "name": "stdout",
     "output_type": "stream",
     "text": [
      "exp [0.54720425 1.4       ]\n"
     ]
    }
   ],
   "source": [
    "exp = (\n",
    "    Estimator()\n",
    "    .run(\n",
    "        [\n",
    "            circuit.remove_final_measurements(inplace=False),\n",
    "            circuit2.remove_final_measurements(inplace=False),\n",
    "        ],\n",
    "        [operator, operator],\n",
    "    )\n",
    "    .result()\n",
    "    .values\n",
    ")\n",
    "print(\"exp\", exp)"
   ]
  },
  {
   "cell_type": "code",
   "execution_count": 7,
   "metadata": {},
   "outputs": [
    {
     "name": "stdout",
     "output_type": "stream",
     "text": [
      "Variance:  [ 0.50293223 -1.15763528] [0.70917715        nan]\n"
     ]
    },
    {
     "name": "stderr",
     "output_type": "stream",
     "text": [
      "C:\\Users\\DKR\\AppData\\Local\\Temp\\ipykernel_22900\\286784944.py:3: RuntimeWarning: invalid value encountered in sqrt\n",
      "  print('Variance: ', variance,np.sqrt(variance))\n"
     ]
    }
   ],
   "source": [
    "exp2 = Estimator().run(circuit.remove_final_measurements(inplace=False), op2).result().values[0]\n",
    "variance = exp2 - exp**2\n",
    "print(\"Variance: \", variance, np.sqrt(variance))"
   ]
  },
  {
   "cell_type": "code",
   "execution_count": 8,
   "metadata": {},
   "outputs": [
    {
     "data": {
      "text/plain": [
       "{'00': 0.4059100518225092,\n",
       " '01': 0.0320881623296046,\n",
       " '10': 0.0411727809637867,\n",
       " '11': 0.5208290048841007}"
      ]
     },
     "execution_count": 8,
     "metadata": {},
     "output_type": "execute_result"
    }
   ],
   "source": [
    "results = job.result()\n",
    "circ_results = results.quasi_dists[0]\n",
    "proba = circ_results.binary_probabilities()\n",
    "proba"
   ]
  },
  {
   "cell_type": "code",
   "execution_count": 9,
   "metadata": {},
   "outputs": [],
   "source": [
    "from qiskit.quantum_info import PauliList\n",
    "\n",
    "op_pauli_list = PauliList(operator.paulis)\n",
    "coeff = operator.coeffs"
   ]
  },
  {
   "cell_type": "code",
   "execution_count": 10,
   "metadata": {},
   "outputs": [
    {
     "name": "stdout",
     "output_type": "stream",
     "text": [
      "Expectation value:  (0.5472042514269131+0j)\n",
      "Variance value:  (0.3147177127447651+0j)\n"
     ]
    }
   ],
   "source": [
    "val, var = _pauli_expval_with_variance(proba, op_pauli_list)\n",
    "expec_value = np.dot(val, coeff)\n",
    "variance_value = np.dot(var, coeff**2)\n",
    "\n",
    "print(\"Expectation value: \", expec_value)\n",
    "print(\"Variance value: \", variance_value)"
   ]
  },
  {
   "cell_type": "code",
   "execution_count": null,
   "metadata": {},
   "outputs": [],
   "source": []
  },
  {
   "cell_type": "code",
   "execution_count": 12,
   "metadata": {},
   "outputs": [
    {
     "name": "stdout",
     "output_type": "stream",
     "text": [
      "exp_val.shape (2, 2)\n"
     ]
    },
    {
     "data": {
      "text/plain": [
       "array([[0.54720425, 0.54720425],\n",
       "       [1.4       , 1.4       ]])"
      ]
     },
     "execution_count": 12,
     "metadata": {},
     "output_type": "execute_result"
    }
   ],
   "source": [
    "job = Sampler().run(circuits=[circuit, circuit2])\n",
    "evaluate_expectation_from_sampler([operator, operator], results)"
   ]
  },
  {
   "cell_type": "code",
   "execution_count": null,
   "metadata": {},
   "outputs": [],
   "source": []
  }
 ],
 "metadata": {
  "kernelspec": {
   "display_name": "Python 3",
   "language": "python",
   "name": "python3"
  },
  "language_info": {
   "codemirror_mode": {
    "name": "ipython",
    "version": 3
   },
   "file_extension": ".py",
   "mimetype": "text/x-python",
   "name": "python",
   "nbconvert_exporter": "python",
   "pygments_lexer": "ipython3",
   "version": "3.10.2"
  },
  "orig_nbformat": 4
 },
 "nbformat": 4,
 "nbformat_minor": 2
}
