{
 "cells": [
  {
   "cell_type": "code",
   "execution_count": 1,
   "metadata": {},
   "outputs": [],
   "source": [
    "import numpy as np\n",
    "from squlearn.encoding_circuit import ChebyshevRx\n",
    "from squlearn.observables import SummedPaulis\n",
    "from squlearn import Executor\n",
    "\n",
    "from squlearn.qnn.lowlevel_qnn_pennylane import LowLevelQNNPennyLane\n",
    "from squlearn.qnn.lowlevel_qnn_qiskit import LowLevelQNN"
   ]
  },
  {
   "cell_type": "code",
   "execution_count": 2,
   "metadata": {},
   "outputs": [
    {
     "name": "stdout",
     "output_type": "stream",
     "text": [
      "self._qiskit_observable_squared SparsePauliOp(['II', 'IZ', 'ZI', 'IZ', 'II', 'ZZ', 'ZI', 'ZZ', 'II'],\n",
      "              coeffs=[ParameterExpression(1.0*param_obs[0]**2),\n",
      " ParameterExpression(1.0*param_obs[0]*param_obs[1]),\n",
      " ParameterExpression(1.0*param_obs[0]*param_obs[2]),\n",
      " ParameterExpression(1.0*param_obs[0]*param_obs[1]),\n",
      " ParameterExpression(1.0*param_obs[1]**2),\n",
      " ParameterExpression(1.0*param_obs[1]*param_obs[2]),\n",
      " ParameterExpression(1.0*param_obs[0]*param_obs[2]),\n",
      " ParameterExpression(1.0*param_obs[1]*param_obs[2]),\n",
      " ParameterExpression(1.0*param_obs[2]**2)])\n",
      "self._pennylane_gates [<class 'pennylane.ops.qubit.parametric_ops_single_qubit.RX'>, <class 'pennylane.ops.qubit.parametric_ops_single_qubit.RX'>, <class 'pennylane.ops.qubit.parametric_ops_single_qubit.RX'>, <class 'pennylane.ops.qubit.parametric_ops_single_qubit.RX'>, <class 'pennylane.ops.qubit.non_parametric_ops.CNOT'>]\n",
      "self._pennylane_gates_param_function [(<function _lambdifygenerated at 0x0000022866184430>,), (<function _lambdifygenerated at 0x0000022866185120>,), (<function _lambdifygenerated at 0x0000022866185F30>,), (<function _lambdifygenerated at 0x0000022866185D80>,), None]\n",
      "self._pennylane_gates_wires [[0], [1], [0], [1], [0, 1]]\n",
      "self._pennylane_gates_parameters ['param', 'x']\n",
      "self._pennylane_obs_param_function [<function _lambdifygenerated at 0x00000228661855A0>, <function _lambdifygenerated at 0x0000022866184A60>, <function _lambdifygenerated at 0x00000228661843A0>]\n",
      "self._pennylane_words [Identity(wires=[0]), PauliZ(wires=[0]), PauliZ(wires=[1])]\n",
      "self._pennylane_obs_parameters ['param_obs']\n",
      "self._pennylane_gates [<class 'pennylane.ops.qubit.parametric_ops_single_qubit.RX'>, <class 'pennylane.ops.qubit.parametric_ops_single_qubit.RX'>, <class 'pennylane.ops.qubit.parametric_ops_single_qubit.RX'>, <class 'pennylane.ops.qubit.parametric_ops_single_qubit.RX'>, <class 'pennylane.ops.qubit.non_parametric_ops.CNOT'>]\n",
      "self._pennylane_gates_param_function [(<function _lambdifygenerated at 0x0000022866186200>,), (<function _lambdifygenerated at 0x0000022866184D30>,), (<function _lambdifygenerated at 0x0000022866185FC0>,), (<function _lambdifygenerated at 0x0000022866186EF0>,), None]\n",
      "self._pennylane_gates_wires [[0], [1], [0], [1], [0, 1]]\n",
      "self._pennylane_gates_parameters ['param', 'x']\n",
      "self._pennylane_obs_param_function [<function _lambdifygenerated at 0x00000228660A9A20>, <function _lambdifygenerated at 0x0000022866187400>, <function _lambdifygenerated at 0x0000022866186830>, <function _lambdifygenerated at 0x0000022866185AB0>, <function _lambdifygenerated at 0x0000022866185000>, <function _lambdifygenerated at 0x00000228661852D0>, <function _lambdifygenerated at 0x00000228660ABE20>, <function _lambdifygenerated at 0x0000022866184C10>, <function _lambdifygenerated at 0x0000022866186710>]\n",
      "self._pennylane_words [Identity(wires=[0]), PauliZ(wires=[0]), PauliZ(wires=[1]), PauliZ(wires=[0]), Identity(wires=[0]), PauliZ(wires=[0]) @ PauliZ(wires=[1]), PauliZ(wires=[1]), PauliZ(wires=[0]) @ PauliZ(wires=[1]), Identity(wires=[0])]\n",
      "self._pennylane_obs_parameters ['param_obs']\n"
     ]
    }
   ],
   "source": [
    "pqc = ChebyshevRx(2,1)\n",
    "obs = SummedPaulis(2)\n",
    "\n",
    "\n",
    "np.random.seed(0)\n",
    "param = np.random.rand(pqc.num_parameters)\n",
    "param_obs = np.random.rand(obs.num_parameters)\n",
    "\n",
    "qnn_pl = LowLevelQNNPennyLane(pqc, obs, None)"
   ]
  },
  {
   "cell_type": "code",
   "execution_count": 3,
   "metadata": {},
   "outputs": [],
   "source": [
    "qnn_qiskit = LowLevelQNN(pqc, obs, Executor())"
   ]
  },
  {
   "cell_type": "code",
   "execution_count": 4,
   "metadata": {},
   "outputs": [
    {
     "name": "stdout",
     "output_type": "stream",
     "text": [
      "0.7170543287605058\n",
      "()\n"
     ]
    }
   ],
   "source": [
    "val = qnn_qiskit.evaluate(0.5,param,param_obs,\"f\")[\"f\"]\n",
    "print(val)\n",
    "print(val.shape)"
   ]
  },
  {
   "cell_type": "code",
   "execution_count": 5,
   "metadata": {},
   "outputs": [
    {
     "name": "stdout",
     "output_type": "stream",
     "text": [
      "values [0.71705433]\n",
      "0.7170543287605057\n",
      "()\n"
     ]
    }
   ],
   "source": [
    "val = qnn_pl.evaluate(0.5,param,param_obs,\"f\")[\"f\"]\n",
    "print(val)\n",
    "print(val.shape)"
   ]
  },
  {
   "cell_type": "code",
   "execution_count": 6,
   "metadata": {},
   "outputs": [
    {
     "name": "stdout",
     "output_type": "stream",
     "text": [
      "1.1913134128192306\n",
      "()\n"
     ]
    }
   ],
   "source": [
    "val = qnn_qiskit.evaluate(0.5,param,param_obs,\"fcc\")[\"fcc\"]\n",
    "print(val)\n",
    "print(val.shape)"
   ]
  },
  {
   "cell_type": "code",
   "execution_count": 7,
   "metadata": {},
   "outputs": [
    {
     "name": "stdout",
     "output_type": "stream",
     "text": [
      "values [1.19131341]\n",
      "1.1913134128192306\n",
      "()\n"
     ]
    }
   ],
   "source": [
    "val = qnn_pl.evaluate(0.5,param,param_obs,\"fcc\")[\"fcc\"]\n",
    "print(val)\n",
    "print(val.shape)"
   ]
  },
  {
   "cell_type": "code",
   "execution_count": 8,
   "metadata": {},
   "outputs": [
    {
     "name": "stdout",
     "output_type": "stream",
     "text": [
      "[-0.74046648 -0.16892925 -0.70709341 -0.16131555]\n",
      "(4,)\n"
     ]
    }
   ],
   "source": [
    "val = qnn_qiskit.evaluate(0.5,param,param_obs,\"dfccdp\")[\"dfccdp\"]\n",
    "print(val)\n",
    "print(val.shape)"
   ]
  },
  {
   "cell_type": "code",
   "execution_count": 9,
   "metadata": {},
   "outputs": [
    {
     "name": "stdout",
     "output_type": "stream",
     "text": [
      "values [[-0.74046648 -0.16892925 -0.70709341 -0.16131555]]\n",
      "[-0.74046648 -0.16892925 -0.70709341 -0.16131555]\n",
      "(4,)\n"
     ]
    }
   ],
   "source": [
    "val = qnn_pl.evaluate(0.5,param,param_obs,\"dfccdp\")[\"dfccdp\"]\n",
    "print(val)\n",
    "print(val.shape)"
   ]
  },
  {
   "cell_type": "code",
   "execution_count": 10,
   "metadata": {},
   "outputs": [
    {
     "name": "stdout",
     "output_type": "stream",
     "text": [
      "[1.         0.38325405 0.10479738]\n",
      "(3,)\n"
     ]
    }
   ],
   "source": [
    "val = qnn_qiskit.evaluate(0.5,param,param_obs,\"dfccdxdx\")[\"dfccdxdx\"]\n",
    "print(val)\n",
    "print(val.shape)"
   ]
  },
  {
   "cell_type": "code",
   "execution_count": 11,
   "metadata": {},
   "outputs": [
    {
     "name": "stdout",
     "output_type": "stream",
     "text": [
      "values [[1.         0.38325405 0.10479738]]\n",
      "[1.         0.38325405 0.10479738]\n",
      "(3,)\n"
     ]
    }
   ],
   "source": [
    "val = qnn_pl.evaluate(0.5,param,param_obs,\"dfccdxdx\")[\"dfccdxdx\"]\n",
    "print(val)\n",
    "print(val.shape)"
   ]
  },
  {
   "cell_type": "code",
   "execution_count": 12,
   "metadata": {},
   "outputs": [
    {
     "name": "stdout",
     "output_type": "stream",
     "text": [
      "[0.58131502]\n",
      "(1,)\n"
     ]
    }
   ],
   "source": [
    "val = qnn_qiskit.evaluate(0.5,param,param_obs,\"dfdx\")[\"dfdx\"]\n",
    "print(val)\n",
    "print(val.shape)"
   ]
  },
  {
   "cell_type": "code",
   "execution_count": 13,
   "metadata": {},
   "outputs": [
    {
     "name": "stdout",
     "output_type": "stream",
     "text": [
      "values [[0.58131502]]\n",
      "[0.58131502]\n",
      "(1,)\n"
     ]
    }
   ],
   "source": [
    "val = qnn_pl.evaluate(0.5,param,param_obs,\"dfdx\")[\"dfdx\"]\n",
    "print(val)\n",
    "print(val.shape)"
   ]
  },
  {
   "cell_type": "code",
   "execution_count": 14,
   "metadata": {},
   "outputs": [
    {
     "name": "stdout",
     "output_type": "stream",
     "text": [
      "values [[[ 0.67497686]\n",
      "  [-0.03206857]\n",
      "  [-0.13512663]\n",
      "  [-0.20849908]]]\n",
      "[[ 0.67497686]\n",
      " [-0.03206857]\n",
      " [-0.13512663]\n",
      " [-0.20849908]]\n",
      "(4, 1)\n"
     ]
    }
   ],
   "source": [
    "val = qnn_pl.evaluate(0.5,param,param_obs,\"dfdpdx\")[\"dfdpdx\"]\n",
    "print(val)\n",
    "print(val.shape)"
   ]
  },
  {
   "cell_type": "code",
   "execution_count": 15,
   "metadata": {},
   "outputs": [
    {
     "name": "stdout",
     "output_type": "stream",
     "text": [
      "values [[[ 0.67497686 -0.03206857 -0.13512663 -0.20849908]]]\n",
      "[[ 0.67497686 -0.03206857 -0.13512663 -0.20849908]]\n",
      "(1, 4)\n"
     ]
    }
   ],
   "source": [
    "val = qnn_pl.evaluate(0.5,param,param_obs,\"dfdxdp\")[\"dfdxdp\"]\n",
    "print(val)\n",
    "print(val.shape)"
   ]
  },
  {
   "cell_type": "code",
   "execution_count": 16,
   "metadata": {},
   "outputs": [
    {
     "name": "stdout",
     "output_type": "stream",
     "text": [
      "values [[[[1.3151589  0.76431556 0.43809934 0.15147744]]]]\n",
      "[[[1.3151589  0.76431556 0.43809934 0.15147744]]]\n",
      "(1, 1, 4)\n"
     ]
    }
   ],
   "source": [
    "val = qnn_pl.evaluate(0.5,param,param_obs,\"dfdxdxdp\")[\"dfdxdxdp\"]\n",
    "print(val)\n",
    "print(val.shape)"
   ]
  },
  {
   "cell_type": "code",
   "execution_count": 17,
   "metadata": {},
   "outputs": [
    {
     "name": "stdout",
     "output_type": "stream",
     "text": [
      "values [[[[1.3151589 ]\n",
      "   [0.76431556]\n",
      "   [0.43809934]\n",
      "   [0.15147744]]]]\n",
      "[[[1.3151589 ]\n",
      "  [0.76431556]\n",
      "  [0.43809934]\n",
      "  [0.15147744]]]\n",
      "(1, 4, 1)\n"
     ]
    }
   ],
   "source": [
    "val = qnn_pl.evaluate(0.5,param,param_obs,\"dfdxdpdx\")[\"dfdxdpdx\"]\n",
    "print(val)\n",
    "print(val.shape)"
   ]
  },
  {
   "cell_type": "code",
   "execution_count": 18,
   "metadata": {},
   "outputs": [
    {
     "name": "stdout",
     "output_type": "stream",
     "text": [
      "[[0.64535985]]\n",
      "(1, 1)\n"
     ]
    }
   ],
   "source": [
    "val = qnn_qiskit.evaluate(0.5,param,param_obs,\"dfdxdx\")[\"dfdxdx\"]\n",
    "print(val)\n",
    "print(val.shape)"
   ]
  },
  {
   "cell_type": "code",
   "execution_count": 19,
   "metadata": {},
   "outputs": [
    {
     "name": "stdout",
     "output_type": "stream",
     "text": [
      "values [[[0.64535985]]]\n",
      "[[0.64535985]]\n",
      "(1, 1)\n"
     ]
    }
   ],
   "source": [
    "val = qnn_pl.evaluate(0.5,param,param_obs,\"dfdxdx\")[\"dfdxdx\"]\n",
    "print(val)\n",
    "print(val.shape)"
   ]
  },
  {
   "cell_type": "code",
   "execution_count": 20,
   "metadata": {},
   "outputs": [
    {
     "name": "stdout",
     "output_type": "stream",
     "text": [
      "[[-0.32174859  0.42633485 -0.30724727  0.4071198 ]\n",
      " [ 0.42633485 -0.05028892  0.4071198  -0.04802238]\n",
      " [-0.30724727  0.4071198  -0.29339953  0.38877077]\n",
      " [ 0.4071198  -0.04802238  0.38877077 -0.04585799]]\n",
      "(4, 4)\n"
     ]
    }
   ],
   "source": [
    "val = qnn_qiskit.evaluate(0.5,param,param_obs,\"dfdpdp\")[\"dfdpdp\"]\n",
    "print(val)\n",
    "print(val.shape)"
   ]
  },
  {
   "cell_type": "code",
   "execution_count": 21,
   "metadata": {},
   "outputs": [
    {
     "name": "stdout",
     "output_type": "stream",
     "text": [
      "values [[[-0.32174859  0.42633485 -0.30724727  0.4071198 ]\n",
      "  [ 0.42633485 -0.05028892  0.4071198  -0.04802238]\n",
      "  [-0.30724727  0.4071198  -0.29339953  0.38877077]\n",
      "  [ 0.4071198  -0.04802238  0.38877077 -0.04585799]]]\n",
      "[[-0.32174859  0.42633485 -0.30724727  0.4071198 ]\n",
      " [ 0.42633485 -0.05028892  0.4071198  -0.04802238]\n",
      " [-0.30724727  0.4071198  -0.29339953  0.38877077]\n",
      " [ 0.4071198  -0.04802238  0.38877077 -0.04585799]]\n",
      "(4, 4)\n"
     ]
    }
   ],
   "source": [
    "val = qnn_pl.evaluate(0.5,param,param_obs,\"dfdpdp\")[\"dfdpdp\"]\n",
    "print(val)\n",
    "print(val.shape)"
   ]
  }
 ],
 "metadata": {
  "kernelspec": {
   "display_name": ".venv",
   "language": "python",
   "name": "python3"
  },
  "language_info": {
   "codemirror_mode": {
    "name": "ipython",
    "version": 3
   },
   "file_extension": ".py",
   "mimetype": "text/x-python",
   "name": "python",
   "nbconvert_exporter": "python",
   "pygments_lexer": "ipython3",
   "version": "3.10.2"
  }
 },
 "nbformat": 4,
 "nbformat_minor": 2
}
