{
 "cells": [
  {
   "cell_type": "code",
   "execution_count": 1,
   "metadata": {},
   "outputs": [
    {
     "name": "stderr",
     "output_type": "stream",
     "text": [
      "C:\\Users\\jsl\\AppData\\Roaming\\Python\\Python310\\site-packages\\pkg_resources\\__init__.py:123: PkgResourcesDeprecationWarning: skit-terra is an invalid version and will not be supported in a future release\n",
      "  warnings.warn(\n",
      "C:\\Users\\jsl\\AppData\\Roaming\\Python\\Python310\\site-packages\\pkg_resources\\__init__.py:123: PkgResourcesDeprecationWarning: skit-aer is an invalid version and will not be supported in a future release\n",
      "  warnings.warn(\n"
     ]
    },
    {
     "name": "stdout",
     "output_type": "stream",
     "text": [
      "Qiskit version infos: \n",
      " {'qiskit-terra': '0.24.0', 'qiskit-aer': '0.12.0', 'qiskit-ignis': '0.7.1', 'qiskit-ibmq-provider': '0.20.2', 'qiskit': '0.43.0', 'qiskit-nature': None, 'qiskit-finance': None, 'qiskit-optimization': '0.4.0', 'qiskit-machine-learning': '0.6.0'}\n",
      "runtime version:  0.9.4\n"
     ]
    }
   ],
   "source": [
    "import os\n",
    "import sys\n",
    "import numpy as np\n",
    "import matplotlib.pyplot as plt\n",
    "\n",
    "from sklearn.metrics import mean_absolute_error, mean_squared_error, r2_score\n",
    "\n",
    "from qiskit import Aer\n",
    "from qiskit.utils import QuantumInstance\n",
    "from qiskit.primitives import Sampler, Estimator\n",
    "\n",
    "from squlearn.feature_map import YZ_CX_FeatureMap\n",
    "from squlearn.kernel.matrix import ProjectedQuantumKernel\n",
    "from squlearn.kernel.ml import QKRR\n",
    "from squlearn.kernel.optimization import KernelOptimizer, NLL, TargetAlignment\n",
    "from squlearn.util import Executor\n",
    "from generate_training_data_xsinx import generate_points\n",
    "\n",
    "# Qiskit version control\n",
    "import qiskit\n",
    "print(\"Qiskit version infos: \\n\", qiskit.__qiskit_version__)\n",
    "import qiskit_ibm_runtime\n",
    "print(\"runtime version: \", qiskit_ibm_runtime.version.get_version_info() )"
   ]
  },
  {
   "cell_type": "code",
   "execution_count": 2,
   "metadata": {},
   "outputs": [
    {
     "name": "stderr",
     "output_type": "stream",
     "text": [
      "C:\\Users\\DKR\\AppData\\Local\\Temp\\ipykernel_23512\\1739260404.py:2: DeprecationWarning: The class ``qiskit.utils.quantum_instance.QuantumInstance`` is deprecated as of qiskit-terra 0.24.0. It will be removed no earlier than 3 months after the release date. For code migration guidelines, visit https://qisk.it/qi_migration.\n",
      "  qinstance_sv = QuantumInstance(backend=Aer.get_backend('statevector_simulator'))\n",
      "C:\\Users\\DKR\\AppData\\Local\\Temp\\ipykernel_23512\\1739260404.py:3: DeprecationWarning: The class ``qiskit.utils.quantum_instance.QuantumInstance`` is deprecated as of qiskit-terra 0.24.0. It will be removed no earlier than 3 months after the release date. For code migration guidelines, visit https://qisk.it/qi_migration.\n",
      "  qinstance_qasm = QuantumInstance(backend=Aer.get_backend('qasm_simulator'), shots=5000)\n"
     ]
    }
   ],
   "source": [
    "# load QuantumInstances and Primitives\n",
    "qinstance_sv = QuantumInstance(backend=Aer.get_backend('statevector_simulator'))\n",
    "qinstance_qasm = QuantumInstance(backend=Aer.get_backend('qasm_simulator'), shots=5000)\n",
    "estimator_base = Estimator()\n",
    "sampler_base = Sampler()"
   ]
  },
  {
   "cell_type": "code",
   "execution_count": 3,
   "metadata": {},
   "outputs": [],
   "source": [
    "# generate training data (taken from qpr_workflow.ipynb)\n",
    "training_start = np.pi * 0\n",
    "training_end = np.pi * 2\n",
    "noise_variance = 0.2\n",
    "training_data = generate_points(\n",
    "    training_start, training_end, section=7, quota=[2, 5], noise=noise_variance\n",
    ")\n",
    "x_train, y_train = training_data\n",
    "x_train_4D = np.repeat(x_train.reshape(-1,1), 4, axis=1)\n",
    "# Setup testing locations.\n",
    "# You can change the testing locations here.\n",
    "x_test = np.linspace(training_start, training_end + 0*np.pi, 50)\n",
    "x_test_4D = np.repeat(x_test.reshape(-1,1),4, axis=1)\n",
    "y_test = x_test * np.sin(x_test)"
   ]
  },
  {
   "cell_type": "code",
   "execution_count": 4,
   "metadata": {},
   "outputs": [],
   "source": [
    "# defining grid search function for approximating inherent PQK hyper parameter\n",
    "def grid_search(pqk_train_features, pqk_test_features, y_train, y_test, fmap, primitive, rtik, gamma, params=None):\n",
    "    train_dim = pqk_train_features.shape[0]\n",
    "    test_dim = pqk_test_features.shape[0]\n",
    "    l2_loss_list = []\n",
    "    for i in range(len(gamma)):\n",
    "        PQK = ProjectedQuantumKernel(\n",
    "            pqk_hyper_param=gamma[i],\n",
    "            feature_map=fmap,\n",
    "            primitive=primitive\n",
    "        )\n",
    "        if params is not None:\n",
    "            PQK.assign_parameters(params)\n",
    "        kgram = PQK.get_total_gram_matrix(pqk_train_features, pqk_test_features)\n",
    "        ktrain = kgram[0:train_dim, 0:train_dim]\n",
    "        ktest = kgram[train_dim:train_dim+test_dim, 0:train_dim]\n",
    "        alpha = np.linalg.solve(ktrain + rtik * np.eye(ktrain.shape[0]), y_train)\n",
    "        ypred = ktest @ alpha\n",
    "        l2_loss_list.append(np.linalg.norm(ypred - y_test) ** 2)\n",
    "    gamma_opt = gamma[np.argmin(l2_loss_list)]\n",
    "    min_error = np.min(l2_loss_list)\n",
    "    return gamma_opt, min_error"
   ]
  },
  {
   "cell_type": "code",
   "execution_count": 5,
   "metadata": {},
   "outputs": [
    {
     "data": {
      "image/png": "[encoded data removed]",
      "text/plain": [
       "<Figure size 688.597x264.88 with 1 Axes>"
      ]
     },
     "execution_count": 5,
     "metadata": {},
     "output_type": "execute_result"
    }
   ],
   "source": [
    "# set up feature map with trainable parameters being randomly initialized\n",
    "num_qubits = 4\n",
    "fmap_yz_cx = YZ_CX_FeatureMap(\n",
    "    num_qubits=4, num_features=num_qubits, num_layers=2, c=1.0\n",
    ")\n",
    "np.random.seed(0)\n",
    "param = np.random.rand(fmap_yz_cx.num_parameters)\n",
    "\n",
    "fmap_yz_cx.draw()"
   ]
  },
  {
   "attachments": {},
   "cell_type": "markdown",
   "metadata": {},
   "source": [
    "<b>Estimator primitive, with trainable parameters randomly sampled</b>"
   ]
  },
  {
   "cell_type": "code",
   "execution_count": 6,
   "metadata": {},
   "outputs": [
    {
     "ename": "TypeError",
     "evalue": "KernelMatrixBase.__init__() takes from 3 to 4 positional arguments but 5 were given",
     "output_type": "error",
     "traceback": [
      "\u001b[1;31m---------------------------------------------------------------------------\u001b[0m",
      "\u001b[1;31mTypeError\u001b[0m                                 Traceback (most recent call last)",
      "\u001b[1;32mc:\\Users\\DKR\\Documents\\Git Repositories\\squlearn\\examples\\kernel\\pqk_workflow.ipynb Cell 7\u001b[0m in \u001b[0;36m<cell line: 2>\u001b[1;34m()\u001b[0m\n\u001b[0;32m      <a href='vscode-notebook-cell:/c%3A/Users/DKR/Documents/Git%20Repositories/squlearn/examples/kernel/pqk_workflow.ipynb#W6sZmlsZQ%3D%3D?line=0'>1</a>\u001b[0m \u001b[39m# initialize PQK instance\u001b[39;00m\n\u001b[1;32m----> <a href='vscode-notebook-cell:/c%3A/Users/DKR/Documents/Git%20Repositories/squlearn/examples/kernel/pqk_workflow.ipynb#W6sZmlsZQ%3D%3D?line=1'>2</a>\u001b[0m PQK_1 \u001b[39m=\u001b[39m ProjectedQuantumKernel(\n\u001b[0;32m      <a href='vscode-notebook-cell:/c%3A/Users/DKR/Documents/Git%20Repositories/squlearn/examples/kernel/pqk_workflow.ipynb#W6sZmlsZQ%3D%3D?line=2'>3</a>\u001b[0m     pqk_hyper_param\u001b[39m=\u001b[39;49m\u001b[39m2.0\u001b[39;49m, \u001b[39m# fix this to a random value for the moment (2.0 is usually a good choice to obtain reasonable results)\u001b[39;49;00m\n\u001b[0;32m      <a href='vscode-notebook-cell:/c%3A/Users/DKR/Documents/Git%20Repositories/squlearn/examples/kernel/pqk_workflow.ipynb#W6sZmlsZQ%3D%3D?line=3'>4</a>\u001b[0m     feature_map\u001b[39m=\u001b[39;49mfmap_yz_cx,\n\u001b[0;32m      <a href='vscode-notebook-cell:/c%3A/Users/DKR/Documents/Git%20Repositories/squlearn/examples/kernel/pqk_workflow.ipynb#W6sZmlsZQ%3D%3D?line=4'>5</a>\u001b[0m     primitive\u001b[39m=\u001b[39;49mestimator_base\n\u001b[0;32m      <a href='vscode-notebook-cell:/c%3A/Users/DKR/Documents/Git%20Repositories/squlearn/examples/kernel/pqk_workflow.ipynb#W6sZmlsZQ%3D%3D?line=5'>6</a>\u001b[0m )\n\u001b[0;32m      <a href='vscode-notebook-cell:/c%3A/Users/DKR/Documents/Git%20Repositories/squlearn/examples/kernel/pqk_workflow.ipynb#W6sZmlsZQ%3D%3D?line=6'>7</a>\u001b[0m PQK_1\u001b[39m.\u001b[39massign_parameters(param)\n\u001b[0;32m      <a href='vscode-notebook-cell:/c%3A/Users/DKR/Documents/Git%20Repositories/squlearn/examples/kernel/pqk_workflow.ipynb#W6sZmlsZQ%3D%3D?line=8'>9</a>\u001b[0m \u001b[39m# compute pqk feature vectors, i.e. PQC(x) values\u001b[39;00m\n",
      "File \u001b[1;32m~\\Documents\\Git Repositories\\squlearn\\src\\squlearn\\kernel\\matrix\\projected_quantum_kernel.py:72\u001b[0m, in \u001b[0;36mProjectedQuantumKernel.__init__\u001b[1;34m(self, pqk_method, pqk_func_form, pqk_hyper_param, feature_map, initial_parameters, quantum_instance, primitive)\u001b[0m\n\u001b[0;32m     52\u001b[0m \u001b[39mdef\u001b[39;00m \u001b[39m__init__\u001b[39m(\n\u001b[0;32m     53\u001b[0m     \u001b[39mself\u001b[39m,\n\u001b[0;32m     54\u001b[0m     pqk_method: \u001b[39mstr\u001b[39m \u001b[39m=\u001b[39m \u001b[39m\"\u001b[39m\u001b[39m1rdm\u001b[39m\u001b[39m\"\u001b[39m,\n\u001b[1;32m   (...)\u001b[0m\n\u001b[0;32m     70\u001b[0m     ] \u001b[39m=\u001b[39m \u001b[39mNone\u001b[39;00m,\n\u001b[0;32m     71\u001b[0m ) \u001b[39m-\u001b[39m\u001b[39m>\u001b[39m \u001b[39mNone\u001b[39;00m:\n\u001b[1;32m---> 72\u001b[0m     \u001b[39msuper\u001b[39;49m()\u001b[39m.\u001b[39;49m\u001b[39m__init__\u001b[39;49m(feature_map, quantum_instance, primitive, initial_parameters)\n\u001b[0;32m     74\u001b[0m     \u001b[39mself\u001b[39m\u001b[39m.\u001b[39m_feature_vec \u001b[39m=\u001b[39m ParameterVector(\u001b[39m\"\u001b[39m\u001b[39mx\u001b[39m\u001b[39m\"\u001b[39m, \u001b[39mself\u001b[39m\u001b[39m.\u001b[39mnum_features)\n\u001b[0;32m     75\u001b[0m     \u001b[39mif\u001b[39;00m \u001b[39mself\u001b[39m\u001b[39m.\u001b[39mnum_parameters \u001b[39m>\u001b[39m \u001b[39m0\u001b[39m:\n",
      "\u001b[1;31mTypeError\u001b[0m: KernelMatrixBase.__init__() takes from 3 to 4 positional arguments but 5 were given"
     ]
    }
   ],
   "source": [
    "# initialize PQK instance\n",
    "PQK_1 = ProjectedQuantumKernel(\n",
    "    pqk_hyper_param=2.0, # fix this to a random value for the moment (2.0 is usually a good choice to obtain reasonable results)\n",
    "    feature_map=fmap_yz_cx,\n",
    "    primitive=estimator_base\n",
    ")\n",
    "PQK_1.assign_parameters(param)\n",
    "\n",
    "# compute pqk feature vectors, i.e. PQC(x) values\n",
    "pqk_train_features, pqk_test_features = PQK_1.pqk_features(x_train_4D, x_test_4D)"
   ]
  },
  {
   "cell_type": "code",
   "execution_count": null,
   "metadata": {},
   "outputs": [],
   "source": [
    "# grid search for determining optimal hyper parameter\n",
    "gamma_i = 0.005\n",
    "gamma_f = 0.1\n",
    "ngrid = 1000\n",
    "gamma = np.linspace(gamma_i, gamma_f, ngrid)\n",
    "\n",
    "rtik = 1.e-3\n",
    "\n",
    "opt_pqk_hyper_param, min_error = grid_search(\n",
    "    pqk_train_features, pqk_test_features, y_train, y_test, fmap_yz_cx, estimator_base, rtik, gamma, params=param\n",
    ")\n",
    "print(\"optimial hyperparameter: \", opt_pqk_hyper_param)\n",
    "print(\"corresponding min l2-loss: \", min_error)"
   ]
  },
  {
   "cell_type": "code",
   "execution_count": null,
   "metadata": {},
   "outputs": [],
   "source": [
    "PQK_1_opt = ProjectedQuantumKernel(\n",
    "    pqk_hyper_param=opt_pqk_hyper_param,\n",
    "    feature_map=fmap_yz_cx,\n",
    "    primitive=estimator_base\n",
    ")\n",
    "PQK_1_opt.assign_parameters(param)\n",
    "qkrr_instance = QKRR(\n",
    "    quantum_kernel=PQK_1_opt,\n",
    "    sigma=1.e-3\n",
    ")\n",
    "qkrr_instance.fit(pqk_train_features, y_train)\n",
    "y_pred_1 = qkrr_instance.predict(pqk_test_features)"
   ]
  },
  {
   "cell_type": "code",
   "execution_count": null,
   "metadata": {},
   "outputs": [],
   "source": [
    "# plot result\n",
    "plt.plot(x_test.reshape(-1,1), y_pred_1, color='red', label='test prediction')\n",
    "plt.scatter(x_test.reshape(-1,1), y_test, marker='.',label='test points', color='red', alpha=0.7)\n",
    "plt.scatter(x_train, y_train, marker='x', label='training points')\n",
    "plt.plot(x_test,y_test, label=r\"$f(x) = x sin(x)$\", linestyle=\"dotted\")\n",
    "plt.legend()\n",
    "plt.xlabel(\"$x$\")\n",
    "plt.ylabel(\"$f(x)$\")"
   ]
  },
  {
   "attachments": {},
   "cell_type": "markdown",
   "metadata": {},
   "source": [
    "<b>Optimize trainable parameters via negative log likelihood</b>"
   ]
  },
  {
   "cell_type": "code",
   "execution_count": null,
   "metadata": {},
   "outputs": [],
   "source": [
    "PQK_3 = ProjectedQuantumKernel(\n",
    "    pqk_hyper_param=opt_pqk_hyper_param,\n",
    "    feature_map=fmap_yz_cx,\n",
    "    primitive=estimator_base\n",
    ")"
   ]
  },
  {
   "cell_type": "code",
   "execution_count": null,
   "metadata": {},
   "outputs": [],
   "source": [
    "from squlearn.kernel.optimization import frederics_adam as adam\n",
    "\n",
    "adam = adam.ADAM(maxiter=50, lr=0.1)\n",
    "nll_loss_3 = NLL(quantum_kernel=PQK_3, sigma=1e-3)\n",
    "pqk_optimizer_3 = KernelOptimizer(loss=nll_loss_3, optimizer=adam, initial_parameters=param)\n",
    "\n",
    "pqk_optimizer_results_3 = pqk_optimizer_3.run_optimization(x=x_train.reshape(-1,1), y=y_train)"
   ]
  },
  {
   "cell_type": "code",
   "execution_count": null,
   "metadata": {},
   "outputs": [],
   "source": [
    "param_opt_3 = pqk_optimizer_results_3.x\n",
    "PQK_3.assign_parameters(param_opt_3)\n",
    "# compute pqk feature vectors with optimized trainable parameters, i.e. PQC(x) values\n",
    "pqk_train_features_opt_3, pqk_test_features_opt_3 = PQK_3.pqk_features(x_train_4D, x_test_4D)"
   ]
  },
  {
   "cell_type": "code",
   "execution_count": null,
   "metadata": {},
   "outputs": [],
   "source": [
    "# grid search for determining optimal hyper parameter based on using optimal trainable paramaters\n",
    "gamma_i = 0.001\n",
    "gamma_f = 0.1\n",
    "ngrid = 1000\n",
    "gamma = np.linspace(gamma_i, gamma_f, ngrid)\n",
    "\n",
    "rtik = 1e-3\n",
    "\n",
    "opt_pqk_hyper_param_3, min_error_3 = grid_search(\n",
    "    pqk_train_features_opt_3, pqk_test_features_opt_3, y_train, y_test, fmap_yz_cx, estimator_base, rtik, gamma, params=param_opt_3\n",
    ")\n",
    "print(\"optimial hyperparameter: \", opt_pqk_hyper_param_3)\n",
    "print(\"corresponding min l2-loss: \", min_error_3)"
   ]
  },
  {
   "cell_type": "code",
   "execution_count": null,
   "metadata": {},
   "outputs": [],
   "source": [
    "PQK_3_opt = ProjectedQuantumKernel(\n",
    "    pqk_hyper_param=opt_pqk_hyper_param_3,\n",
    "    feature_map=fmap_yz_cx,\n",
    "    primitive=estimator_base\n",
    ")\n",
    "PQK_3_opt.assign_parameters(param_opt_3)\n",
    "qkrr_instance = QKRR(\n",
    "    quantum_kernel=PQK_3_opt,\n",
    "    sigma=1.e-3\n",
    ")\n",
    "qkrr_instance.fit(pqk_train_features_opt_3, y_train)\n",
    "y_pred_3 = qkrr_instance.predict(pqk_test_features_opt_3)"
   ]
  },
  {
   "cell_type": "code",
   "execution_count": null,
   "metadata": {},
   "outputs": [],
   "source": [
    "# plot result\n",
    "plt.plot(x_test.reshape(-1,1), y_pred_3, color='red', label='test prediction')\n",
    "plt.scatter(x_test.reshape(-1,1), y_test, marker='.',label='test points', color='red', alpha=0.7)\n",
    "plt.scatter(x_train, y_train, marker='x', label='training points')\n",
    "plt.plot(x_test,y_test, label=r\"$f(x) = x sin(x)$\", linestyle=\"dotted\")\n",
    "plt.legend()\n",
    "plt.xlabel(\"$x$\")\n",
    "plt.ylabel(\"$f(x)$\")"
   ]
  },
  {
   "attachments": {},
   "cell_type": "markdown",
   "metadata": {},
   "source": [
    "<b>Optimize trainable parameters via target alignment</b>"
   ]
  },
  {
   "cell_type": "code",
   "execution_count": null,
   "metadata": {},
   "outputs": [],
   "source": [
    "ta_loss = TargetAlignment(quantum_kernel=PQK_3, sigma=1e-3)\n",
    "pqk_optimizer_ta = KernelOptimizer(loss=ta_loss, optimizer=adam, initial_parameters=param)\n",
    "\n",
    "pqk_optimizer_results_ta = pqk_optimizer_ta.run_optimization(x=x_train.reshape(-1,1), y=y_train)"
   ]
  },
  {
   "cell_type": "code",
   "execution_count": null,
   "metadata": {},
   "outputs": [],
   "source": [
    "param_opt_ta = pqk_optimizer_results_ta.x\n",
    "PQK_3.assign_parameters(param_opt_ta)\n",
    "# compute pqk feature vectors with optimized trainable parameters, i.e. PQC(x) values\n",
    "pqk_train_features_opt_ta, pqk_test_features_opt_ta = PQK_3.pqk_features(x_train_4D, x_test_4D)"
   ]
  },
  {
   "cell_type": "code",
   "execution_count": null,
   "metadata": {},
   "outputs": [],
   "source": [
    "PQK_3_ta_opt = ProjectedQuantumKernel(\n",
    "    pqk_hyper_param=opt_pqk_hyper_param,\n",
    "    feature_map=fmap_yz_cx,\n",
    "    primitive=estimator_base\n",
    ")\n",
    "PQK_3_ta_opt.assign_parameters(param_opt_ta)\n",
    "qkrr_instance = QKRR(\n",
    "    quantum_kernel=PQK_3_ta_opt,\n",
    "    sigma=1.e-3\n",
    ")\n",
    "qkrr_instance.fit(pqk_train_features_opt_ta, y_train)\n",
    "y_pred_ta = qkrr_instance.predict(pqk_test_features_opt_ta)"
   ]
  },
  {
   "cell_type": "code",
   "execution_count": null,
   "metadata": {},
   "outputs": [],
   "source": [
    "# plot result\n",
    "plt.plot(x_test.reshape(-1,1), y_pred_ta, color='red', label='test prediction')\n",
    "plt.scatter(x_test.reshape(-1,1), y_test, marker='.',label='test points', color='red', alpha=0.7)\n",
    "plt.scatter(x_train, y_train, marker='x', label='training points')\n",
    "plt.plot(x_test,y_test, label=r\"$f(x) = x sin(x)$\", linestyle=\"dotted\")\n",
    "plt.legend()\n",
    "plt.xlabel(\"$x$\")\n",
    "plt.ylabel(\"$f(x)$\")"
   ]
  }
 ],
 "metadata": {
  "kernelspec": {
   "display_name": "Python 3",
   "language": "python",
   "name": "python3"
  },
  "language_info": {
   "codemirror_mode": {
    "name": "ipython",
    "version": 3
   },
   "file_extension": ".py",
   "mimetype": "text/x-python",
   "name": "python",
   "nbconvert_exporter": "python",
   "pygments_lexer": "ipython3",
   "version": "3.10.2"
  },
  "orig_nbformat": 4
 },
 "nbformat": 4,
 "nbformat_minor": 2
}
