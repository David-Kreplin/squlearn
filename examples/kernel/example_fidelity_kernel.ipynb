{
 "cells": [
  {
   "attachments": {},
   "cell_type": "markdown",
   "metadata": {},
   "source": [
    "This notebook demonstrates how to calculate a quantum kernel using squlearn kernel module. It generates data, creates a Quantum Embedding Kernel (QEK) feature map with two layers and one feature, and initializes its parameters with random values. It then creates a Qiskit Fidelity Kernel with a quantum instance and a Backend Sampler, assigns the parameters to the random values, and uses an SVR model to fit the kernel to the data. Finally, the predicted values are plotted against the actual values."
   ]
  },
  {
   "cell_type": "code",
   "execution_count": 1,
   "metadata": {},
   "outputs": [
    {
     "name": "stderr",
     "output_type": "stream",
     "text": [
      "C:\\Users\\jsl\\AppData\\Roaming\\Python\\Python310\\site-packages\\pkg_resources\\__init__.py:123: PkgResourcesDeprecationWarning: skit-terra is an invalid version and will not be supported in a future release\n",
      "  warnings.warn(\n",
      "C:\\Users\\jsl\\AppData\\Roaming\\Python\\Python310\\site-packages\\pkg_resources\\__init__.py:123: PkgResourcesDeprecationWarning: skit-aer is an invalid version and will not be supported in a future release\n",
      "  warnings.warn(\n"
     ]
    }
   ],
   "source": [
    "import numpy as np\n",
    "import matplotlib.pyplot as plt\n",
    "from sklearn.svm import SVR\n",
    "from qiskit import Aer\n",
    "from qiskit.utils import QuantumInstance\n",
    "from qiskit.primitives import BackendSampler\n",
    "\n",
    "from squlearn.feature_map import QEKFeatureMap\n",
    "from squlearn.kernel.matrix import FidelityKernel\n",
    "from squlearn.kernel.ml import QKRR \n",
    "from squlearn.util import Executor"
   ]
  },
  {
   "cell_type": "code",
   "execution_count": 2,
   "metadata": {},
   "outputs": [],
   "source": [
    "x = np.linspace(-0.8,0.8,20)\n",
    "x_fine = np.linspace(-0.9,0.9,200)\n",
    "y = np.sin(10.0*x)*np.cos(np.exp(2*x))"
   ]
  },
  {
   "cell_type": "code",
   "execution_count": 3,
   "metadata": {},
   "outputs": [],
   "source": [
    "num_qubits = 10\n",
    "fmap = QEKFeatureMap(num_qubits,num_features=1,num_layers=2)"
   ]
  },
  {
   "cell_type": "code",
   "execution_count": 4,
   "metadata": {},
   "outputs": [],
   "source": [
    "np.random.seed(10)\n",
    "parameters = np.random.rand(fmap.num_parameters)"
   ]
  },
  {
   "attachments": {},
   "cell_type": "markdown",
   "metadata": {},
   "source": [
    "Demonstrating functionality of QKRR"
   ]
  },
  {
   "cell_type": "code",
   "execution_count": 5,
   "metadata": {},
   "outputs": [
    {
     "name": "stderr",
     "output_type": "stream",
     "text": [
      "C:\\Users\\jsl\\AppData\\Local\\Temp\\ipykernel_29892\\1305363817.py:1: DeprecationWarning: The class ``qiskit.utils.quantum_instance.QuantumInstance`` is deprecated as of qiskit-terra 0.24.0. It will be removed no earlier than 3 months after the release date. For code migration guidelines, visit https://qisk.it/qi_migration.\n",
      "  QI = QuantumInstance(Aer.get_backend('qasm_simulator'),shots=1000)\n"
     ]
    }
   ],
   "source": [
    "QI = QuantumInstance(Aer.get_backend('qasm_simulator'),shots=1000)\n",
    "executor = Executor(QI)\n",
    "\n",
    "kernel = FidelityKernel(fmap, executor=executor)\n",
    "kernel.assign_parameters(parameters)\n",
    "\n",
    "qkrr_inst = QKRR(quantum_kernel=kernel, alpha=1e-3, regularize='thresholding')\n",
    "qkrr_inst.fit(x.reshape(-1,1), y)\n",
    "y_pred = qkrr_inst.predict(x_fine.reshape(-1,1))"
   ]
  },
  {
   "attachments": {},
   "cell_type": "markdown",
   "metadata": {},
   "source": [
    "Demonstrating 'mit_depol_noise' feature of FidelityKernel"
   ]
  },
  {
   "cell_type": "code",
   "execution_count": 6,
   "metadata": {},
   "outputs": [
    {
     "name": "stdout",
     "output_type": "stream",
     "text": [
      "WARNING: Adavnced option. Do not use it within an squlearn.kernel.ml workflow\n"
     ]
    },
    {
     "data": {
      "text/plain": [
       "array([[ 1.00000000e+00,  8.98694494e-01,  7.12485606e-01,\n",
       "         4.36924940e-01,  2.28809578e-01,  8.62753958e-02,\n",
       "         1.58832127e-02,  8.78707390e-03, -1.49822598e-03,\n",
       "         2.64569282e-04,  3.63500008e-04,  4.57597144e-06,\n",
       "        -2.16384754e-04, -2.45754407e-04,  5.96002067e-04,\n",
       "        -2.77991052e-04, -1.44029639e-04,  1.75663491e-04,\n",
       "         8.03429853e-06, -5.26585030e-05],\n",
       "       [ 8.98694494e-01,  1.00000000e+00,  9.17220743e-01,\n",
       "         6.94278990e-01,  4.06435824e-01,  2.06081858e-01,\n",
       "         7.06530248e-02,  1.12965245e-02,  4.71730582e-03,\n",
       "        -1.28936937e-03, -6.45979518e-04,  5.24435014e-04,\n",
       "         2.20484159e-04,  1.16594445e-04, -6.95334024e-04,\n",
       "         4.68438906e-04,  1.32577395e-04, -2.45104469e-04,\n",
       "         1.60250806e-05,  7.51909559e-05],\n",
       "       [ 7.12485606e-01,  9.17220743e-01,  1.00000000e+00,\n",
       "         9.04367281e-01,  6.56641270e-01,  3.75494325e-01,\n",
       "         1.63626980e-01,  4.80297287e-02,  4.18634904e-03,\n",
       "         1.21039236e-03,  3.84934800e-05, -7.35220491e-04,\n",
       "         2.31663361e-04,  4.38261689e-04, -4.29587516e-04,\n",
       "         2.41564483e-05,  1.71866518e-04, -6.03014201e-05,\n",
       "        -3.58671826e-05,  2.63969606e-05],\n",
       "       [ 4.36924940e-01,  6.94278990e-01,  9.04367281e-01,\n",
       "         1.00000000e+00,  8.92504010e-01,  6.34237188e-01,\n",
       "         3.40692891e-01,  1.43884288e-01,  3.19854462e-02,\n",
       "         1.04054734e-02,  1.79308460e-03, -6.95266385e-04,\n",
       "        -2.56682819e-04, -3.86973333e-05,  7.77030502e-04,\n",
       "        -5.61689639e-04, -9.00568344e-05,  2.71079999e-04,\n",
       "        -7.94593333e-06, -7.81596800e-05],\n",
       "       [ 2.28809578e-01,  4.06435824e-01,  6.56641270e-01,\n",
       "         8.92504010e-01,  1.00000000e+00,  8.69502770e-01,\n",
       "         5.96216958e-01,  3.46349002e-01,  1.07507380e-01,\n",
       "         2.66064185e-02,  4.97321627e-03,  3.31830212e-03,\n",
       "        -2.63876685e-04, -9.95406986e-04,  3.52360866e-04,\n",
       "         4.72175959e-04, -3.26104047e-04, -6.14617259e-05,\n",
       "         9.82202006e-05,  1.89057056e-05],\n",
       "       [ 8.62753958e-02,  2.06081858e-01,  3.75494325e-01,\n",
       "         6.34237188e-01,  8.69502770e-01,  1.00000000e+00,\n",
       "         8.80447095e-01,  6.09103381e-01,  2.91829164e-01,\n",
       "         9.45457549e-02,  2.18338737e-02,  3.88988470e-03,\n",
       "         1.42887892e-03,  9.48029585e-04, -7.05956552e-04,\n",
       "        -1.11027006e-04,  3.18048982e-04, -2.48497949e-05,\n",
       "        -9.09772001e-05,  3.56065512e-05],\n",
       "       [ 1.58832127e-02,  7.06530248e-02,  1.63626980e-01,\n",
       "         3.40692891e-01,  5.96216958e-01,  8.80447095e-01,\n",
       "         1.00000000e+00,  8.67048758e-01,  5.79812354e-01,\n",
       "         2.94400099e-01,  1.18729893e-01,  2.84118262e-02,\n",
       "         2.60165647e-03,  5.36299608e-04,  3.54064667e-04,\n",
       "         1.96749877e-05, -7.49185693e-05, -4.68195418e-05,\n",
       "         7.18365167e-05, -1.76328925e-05],\n",
       "       [ 8.78707390e-03,  1.12965245e-02,  4.80297287e-02,\n",
       "         1.43884288e-01,  3.46349002e-01,  6.09103381e-01,\n",
       "         8.67048758e-01,  1.00000000e+00,  8.62359622e-01,\n",
       "         5.74067864e-01,  2.88594746e-01,  1.01410153e-01,\n",
       "         2.41192695e-02,  6.45063419e-03, -1.57839132e-03,\n",
       "         9.49753614e-05,  6.31445321e-04, -2.43798498e-04,\n",
       "        -1.23163563e-04,  9.99069508e-05],\n",
       "       [-1.49822598e-03,  4.71730582e-03,  4.18634904e-03,\n",
       "         3.19854462e-02,  1.07507380e-01,  2.91829164e-01,\n",
       "         5.79812354e-01,  8.62359622e-01,  1.00000000e+00,\n",
       "         8.65620000e-01,  5.62586903e-01,  2.60423018e-01,\n",
       "         9.20608432e-02,  1.96118500e-02,  8.04491340e-03,\n",
       "        -6.01339582e-04, -5.53995209e-04,  7.96225563e-04,\n",
       "         2.67140719e-04,  6.94515887e-04],\n",
       "       [ 2.64569282e-04, -1.28936937e-03,  1.21039236e-03,\n",
       "         1.04054734e-02,  2.66064185e-02,  9.45457549e-02,\n",
       "         2.94400099e-01,  5.74067864e-01,  8.65620000e-01,\n",
       "         1.00000000e+00,  8.61395339e-01,  5.78399154e-01,\n",
       "         2.85842912e-01,  8.93496082e-02,  2.29007144e-02,\n",
       "         3.27986319e-03,  9.25305371e-04, -5.27353917e-04,\n",
       "        -3.62984352e-04,  3.42513611e-04],\n",
       "       [ 3.63500008e-04, -6.45979518e-04,  3.84934800e-05,\n",
       "         1.79308460e-03,  4.97321627e-03,  2.18338737e-02,\n",
       "         1.18729893e-01,  2.88594746e-01,  5.62586903e-01,\n",
       "         8.61395339e-01,  1.00000000e+00,  8.55234834e-01,\n",
       "         5.73690843e-01,  2.85690764e-01,  9.40482422e-02,\n",
       "         3.13183254e-02,  4.53207317e-03,  1.63698504e-03,\n",
       "         1.66511086e-04, -8.03269559e-05],\n",
       "       [ 4.57597144e-06,  5.24435014e-04, -7.35220491e-04,\n",
       "        -6.95266385e-04,  3.31830212e-03,  3.88988470e-03,\n",
       "         2.84118262e-02,  1.01410153e-01,  2.60423018e-01,\n",
       "         5.78399154e-01,  8.55234834e-01,  1.00000000e+00,\n",
       "         8.58409775e-01,  5.64697029e-01,  2.49277445e-01,\n",
       "         9.32114424e-02,  2.58723128e-02,  9.45993969e-03,\n",
       "         1.46503817e-03, -3.11810505e-04],\n",
       "       [-2.16384754e-04,  2.20484159e-04,  2.31663361e-04,\n",
       "        -2.56682819e-04, -2.63876685e-04,  1.42887892e-03,\n",
       "         2.60165647e-03,  2.41192695e-02,  9.20608432e-02,\n",
       "         2.85842912e-01,  5.73690843e-01,  8.58409775e-01,\n",
       "         1.00000000e+00,  8.79396928e-01,  5.70272877e-01,\n",
       "         2.80901122e-01,  9.75088403e-02,  2.57362436e-02,\n",
       "         4.79614575e-03,  1.39894357e-03],\n",
       "       [-2.45754407e-04,  1.16594445e-04,  4.38261689e-04,\n",
       "        -3.86973333e-05, -9.95406986e-04,  9.48029585e-04,\n",
       "         5.36299608e-04,  6.45063419e-03,  1.96118500e-02,\n",
       "         8.93496082e-02,  2.85690764e-01,  5.64697029e-01,\n",
       "         8.79396928e-01,  1.00000000e+00,  8.56799870e-01,\n",
       "         5.63413033e-01,  2.68449483e-01,  9.83233859e-02,\n",
       "         2.61012936e-02,  3.74602196e-03],\n",
       "       [ 5.96002067e-04, -6.95334024e-04, -4.29587516e-04,\n",
       "         7.77030502e-04,  3.52360866e-04, -7.05956552e-04,\n",
       "         3.54064667e-04, -1.57839132e-03,  8.04491340e-03,\n",
       "         2.29007144e-02,  9.40482422e-02,  2.49277445e-01,\n",
       "         5.70272877e-01,  8.56799870e-01,  1.00000000e+00,\n",
       "         8.62941619e-01,  5.74236917e-01,  2.75151430e-01,\n",
       "         9.87140219e-02,  2.80557293e-02],\n",
       "       [-2.77991052e-04,  4.68438906e-04,  2.41564483e-05,\n",
       "        -5.61689639e-04,  4.72175959e-04, -1.11027006e-04,\n",
       "         1.96749877e-05,  9.49753614e-05, -6.01339582e-04,\n",
       "         3.27986319e-03,  3.13183254e-02,  9.32114424e-02,\n",
       "         2.80901122e-01,  5.63413033e-01,  8.62941619e-01,\n",
       "         1.00000000e+00,  8.73639704e-01,  5.58321349e-01,\n",
       "         2.77598556e-01,  9.09759437e-02],\n",
       "       [-1.44029639e-04,  1.32577395e-04,  1.71866518e-04,\n",
       "        -9.00568344e-05, -3.26104047e-04,  3.18048982e-04,\n",
       "        -7.49185693e-05,  6.31445321e-04, -5.53995209e-04,\n",
       "         9.25305371e-04,  4.53207317e-03,  2.58723128e-02,\n",
       "         9.75088403e-02,  2.68449483e-01,  5.74236917e-01,\n",
       "         8.73639704e-01,  1.00000000e+00,  8.49555470e-01,\n",
       "         5.54092177e-01,  2.95789661e-01],\n",
       "       [ 1.75663491e-04, -2.45104469e-04, -6.03014201e-05,\n",
       "         2.71079999e-04, -6.14617259e-05, -2.48497949e-05,\n",
       "        -4.68195418e-05, -2.43798498e-04,  7.96225563e-04,\n",
       "        -5.27353917e-04,  1.63698504e-03,  9.45993969e-03,\n",
       "         2.57362436e-02,  9.83233859e-02,  2.75151430e-01,\n",
       "         5.58321349e-01,  8.49555470e-01,  1.00000000e+00,\n",
       "         8.56137809e-01,  5.89509191e-01],\n",
       "       [ 8.03429853e-06,  1.60250806e-05, -3.58671826e-05,\n",
       "        -7.94593333e-06,  9.82202006e-05, -9.09772001e-05,\n",
       "         7.18365167e-05, -1.23163563e-04,  2.67140719e-04,\n",
       "        -3.62984352e-04,  1.66511086e-04,  1.46503817e-03,\n",
       "         4.79614575e-03,  2.61012936e-02,  9.87140219e-02,\n",
       "         2.77598556e-01,  5.54092177e-01,  8.56137809e-01,\n",
       "         1.00000000e+00,  8.51376766e-01],\n",
       "       [-5.26585030e-05,  7.51909559e-05,  2.63969606e-05,\n",
       "        -7.81596800e-05,  1.89057056e-05,  3.56065512e-05,\n",
       "        -1.76328925e-05,  9.99069508e-05,  6.94515887e-04,\n",
       "         3.42513611e-04, -8.03269559e-05, -3.11810505e-04,\n",
       "         1.39894357e-03,  3.74602196e-03,  2.80557293e-02,\n",
       "         9.09759437e-02,  2.95789661e-01,  5.89509191e-01,\n",
       "         8.51376766e-01,  1.00000000e+00]])"
      ]
     },
     "execution_count": 6,
     "metadata": {},
     "output_type": "execute_result"
    }
   ],
   "source": [
    "kernel_mit = FidelityKernel(fmap, executor=executor, mit_depol_noise='msplit')\n",
    "kernel_mit.assign_parameters(parameters)\n",
    "kernel_mit.evaluate(x.reshape(-1,1))"
   ]
  },
  {
   "cell_type": "code",
   "execution_count": 5,
   "metadata": {},
   "outputs": [
    {
     "data": {
      "text/plain": [
       "[<matplotlib.lines.Line2D at 0x2981b18e110>]"
      ]
     },
     "execution_count": 5,
     "metadata": {},
     "output_type": "execute_result"
    },
    {
     "data": {
      "image/png": "[encoded data removed]",
      "text/plain": [
       "<Figure size 432x288 with 1 Axes>"
      ]
     },
     "metadata": {
      "needs_background": "light"
     },
     "output_type": "display_data"
    }
   ],
   "source": [
    "backend = Aer.get_backend('qasm_simulator')\n",
    "QI = QuantumInstance(backend,shots=5000)\n",
    "\n",
    "kernel = FidelityKernel(fmap,quantum_instance=QI)\n",
    "kernel.assign_parameters(parameters)\n",
    "\n",
    "svr = SVR(kernel=kernel.evaluate)\n",
    "svr.fit(x.reshape(-1,1),y)\n",
    "\n",
    "y_fine = svr.predict(x_fine.reshape(-1,1))\n",
    "plt.plot(x,y,'x')\n",
    "plt.plot(x_fine,y_fine)"
   ]
  },
  {
   "cell_type": "code",
   "execution_count": 6,
   "metadata": {},
   "outputs": [
    {
     "data": {
      "text/plain": [
       "[<matplotlib.lines.Line2D at 0x2981b04dd20>]"
      ]
     },
     "execution_count": 6,
     "metadata": {},
     "output_type": "execute_result"
    },
    {
     "data": {
      "image/png": "[encoded data removed]",
      "text/plain": [
       "<Figure size 432x288 with 1 Axes>"
      ]
     },
     "metadata": {
      "needs_background": "light"
     },
     "output_type": "display_data"
    }
   ],
   "source": [
    "backend = Aer.get_backend('qasm_simulator')\n",
    "primitive = BackendSampler(backend,options={'shots':5000})\n",
    "\n",
    "kernel = FidelityKernel(fmap,primitive=primitive)\n",
    "kernel.assign_parameters(parameters)\n",
    "\n",
    "svr = SVR(kernel=kernel.evaluate)\n",
    "svr.fit(x.reshape(-1,1),y)\n",
    "\n",
    "y_fine = svr.predict(x_fine.reshape(-1,1))\n",
    "plt.plot(x,y,'x')\n",
    "plt.plot(x_fine,y_fine)"
   ]
  }
 ],
 "metadata": {
  "kernelspec": {
   "display_name": "Python 3",
   "language": "python",
   "name": "python3"
  },
  "language_info": {
   "codemirror_mode": {
    "name": "ipython",
    "version": 3
   },
   "file_extension": ".py",
   "mimetype": "text/x-python",
   "name": "python",
   "nbconvert_exporter": "python",
   "pygments_lexer": "ipython3",
   "version": "3.10.10"
  },
  "orig_nbformat": 4,
  "vscode": {
   "interpreter": {
    "hash": "26de051ba29f2982a8de78e945f0abaf191376122a1563185a90213a26c5da77"
   }
  }
 },
 "nbformat": 4,
 "nbformat_minor": 2
}
