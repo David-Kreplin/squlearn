{
 "cells": [
  {
   "cell_type": "code",
   "execution_count": 1,
   "metadata": {},
   "outputs": [],
   "source": [
    "from qulacs import Observable, QuantumCircuit, QuantumState, ParametricQuantumCircuit,QuantumCircuitSimulator\n",
    "from qulacs.gate import Y,CNOT,merge"
   ]
  },
  {
   "cell_type": "code",
   "execution_count": 2,
   "metadata": {},
   "outputs": [],
   "source": [
    "import numpy as np"
   ]
  },
  {
   "cell_type": "code",
   "execution_count": 3,
   "metadata": {},
   "outputs": [
    {
     "data": {
      "image/png": "[encoded data removed]",
      "text/plain": [
       "<Figure size 203.885x284.278 with 1 Axes>"
      ]
     },
     "execution_count": 3,
     "metadata": {},
     "output_type": "execute_result"
    }
   ],
   "source": [
    "from qiskit import QuantumCircuit\n",
    "from qiskit.circuit import ParameterVector\n",
    "\n",
    "\n",
    "p = ParameterVector('p',3)\n",
    "x = ParameterVector('x',3)\n",
    "\n",
    "qc = QuantumCircuit(3)\n",
    "\n",
    "qc.rx(np.cos(p[0]),0)\n",
    "qc.rx(np.sin(p[1]),1)\n",
    "qc.rx(p[2]*p[2],2)\n",
    "\n",
    "#qc.ry(x[0],0)\n",
    "#qc.ry(x[1],1)\n",
    "#qc.ry(x[2],2)\n",
    "\n",
    "#qc.rx(np.cos(p[0]),0)\n",
    "#qc.rx(np.sin(p[1]),1)\n",
    "#qc.rx(2.0*p[2],2)\n",
    "\n",
    "\n",
    "#from qiskit.circuit.random import random_circuit\n",
    "#qc = random_circuit(3, 10, seed=41)\n",
    "qc.draw()"
   ]
  },
  {
   "cell_type": "code",
   "execution_count": 4,
   "metadata": {},
   "outputs": [],
   "source": [
    "# from squlearn.encoding_circuit import HubregtsenEncodingCircuit\n",
    "# from qiskit.circuit import ParameterVector\n",
    "\n",
    "\n",
    "\n",
    "# pqc = HubregtsenEncodingCircuit(3,2,2)\n",
    "\n",
    "# p = ParameterVector('p',3)\n",
    "# x = ParameterVector('x',pqc.num_features)\n",
    "\n",
    "# qc = pqc.get_circuit(p,x)\n",
    "# qc.draw()"
   ]
  },
  {
   "cell_type": "code",
   "execution_count": 5,
   "metadata": {},
   "outputs": [],
   "source": [
    "np.random.seed(0)\n",
    "param = np.random.random(3)\n",
    "\n",
    "\n",
    "#print(pqc.num_parameters)\n",
    "#print(pqc.num_features)"
   ]
  },
  {
   "cell_type": "code",
   "execution_count": 6,
   "metadata": {},
   "outputs": [
    {
     "data": {
      "text/plain": [
       "SparsePauliOp(['III', 'IIZ', 'IZI', 'ZII'],\n",
       "              coeffs=[ParameterExpression(1.0*p[0]), ParameterExpression(1.0*p[1]),\n",
       " ParameterExpression(1.0*p[2]), ParameterExpression(1.0*p[3])])"
      ]
     },
     "execution_count": 6,
     "metadata": {},
     "output_type": "execute_result"
    }
   ],
   "source": [
    "from squlearn.observables import SummedPaulis\n",
    "\n",
    "obs = SummedPaulis(3,)\n",
    "\n",
    "obs.get_operator(ParameterVector('p',4))"
   ]
  },
  {
   "cell_type": "code",
   "execution_count": 7,
   "metadata": {},
   "outputs": [],
   "source": [
    "from qiskit.quantum_info import SparsePauliOp\n",
    "\n",
    "p_obs = ParameterVector('p_obs',9)\n",
    "\n",
    "obs = SparsePauliOp('ZZZ',)\n",
    "\n",
    "obs2= [\n",
    "    SparsePauliOp('IIZ',p_obs[0])+SparsePauliOp('IZI',p_obs[1])+SparsePauliOp('ZII',p_obs[2]),\n",
    "    SparsePauliOp('IIX',p_obs[3])+SparsePauliOp('IXI',p_obs[4])+SparsePauliOp('XII',p_obs[5]),\n",
    "    SparsePauliOp('IIY',p_obs[6])+SparsePauliOp('IYI',p_obs[7])+SparsePauliOp('YII',p_obs[8]),\n",
    "]"
   ]
  },
  {
   "cell_type": "code",
   "execution_count": 8,
   "metadata": {},
   "outputs": [],
   "source": [
    "#obs2[0].parameters"
   ]
  },
  {
   "cell_type": "code",
   "execution_count": 9,
   "metadata": {},
   "outputs": [
    {
     "name": "stdout",
     "output_type": "stream",
     "text": [
      "test._operation_list [<function qulacs_param_gate_rx at 0x000002029BEA9040>, <function qulacs_param_gate_rx at 0x000002029BEA9040>, <function qulacs_param_gate_rx at 0x000002029BEA9040>]\n",
      "test._param_list []\n",
      "test._qubit_list [[0], [1], [2]]\n",
      "test._func_list [<function _lambdifygenerated at 0x000002029C556A60>, <function _lambdifygenerated at 0x000002029C556700>, <function _lambdifygenerated at 0x000002029C567550>]\n",
      "test._func_grad_list [[<function _lambdifygenerated at 0x000002029C5621F0>, <function _lambdifygenerated at 0x000002029C562A60>], [<function _lambdifygenerated at 0x000002029C5629D0>, <function _lambdifygenerated at 0x000002029C562CA0>], [<function _lambdifygenerated at 0x000002029C567DC0>]]\n",
      "test._free_parameters {ParameterVectorElement(p[1]), ParameterVectorElement(p[0]), ParameterVectorElement(p[2])}\n",
      "test._operators_imag [0.0]\n",
      "test._operators_real [<qulacs_core.Observable object at 0x000002029C397C70>]\n",
      "test._operators_param [[]]\n",
      "test._operators_func [[]]\n"
     ]
    }
   ],
   "source": [
    "\n",
    "from squlearn.util.qulacs import *\n",
    "\n",
    "\n",
    "\n",
    "test = QulacsCircuit(qc, obs)\n",
    "\n",
    "\n",
    "print(\"test._operation_list\",test._operation_list)\n",
    "print(\"test._param_list\",test._param_list)\n",
    "print(\"test._qubit_list\",test._qubit_list)\n",
    "print(\"test._func_list\",test._func_list)\n",
    "print(\"test._func_grad_list\",test._func_grad_list)\n",
    "print(\"test._free_parameters\",test._free_parameters)\n",
    "\n",
    "print(\"test._operators_imag\",test._operators_imag)\n",
    "print(\"test._operators_real\",test._operators_real)\n",
    "print(\"test._operators_param\",test._operators_param)\n",
    "print(\"test._operators_func\",test._operators_param_func)"
   ]
  },
  {
   "cell_type": "code",
   "execution_count": 10,
   "metadata": {},
   "outputs": [
    {
     "data": {
      "text/plain": [
       "<function squlearn.util.qulacs.qulacs_circuit.QulacsCircuit.get_circuit_func.<locals>.qulacs_circuit(*args)>"
      ]
     },
     "execution_count": 10,
     "metadata": {},
     "output_type": "execute_result"
    }
   ],
   "source": [
    "test.get_circuit_func()"
   ]
  },
  {
   "cell_type": "code",
   "execution_count": 11,
   "metadata": {},
   "outputs": [
    {
     "data": {
      "text/plain": [
       "[]"
      ]
     },
     "execution_count": 11,
     "metadata": {},
     "output_type": "execute_result"
    }
   ],
   "source": [
    "test._qualcs_obs_parameters"
   ]
  },
  {
   "cell_type": "code",
   "execution_count": 12,
   "metadata": {},
   "outputs": [
    {
     "name": "stdout",
     "output_type": "stream",
     "text": [
      "Adding Parameterized RX gate with angle -0.39250558213041076 on qubit 0\n",
      "Adding Parameterized RX gate with angle -0.39250558213041076 on qubit 1\n",
      "Adding Parameterized RX gate with angle -0.363323687533286 on qubit 2\n",
      "outer_jacobian [[-0.71518937  0.          0.        ]\n",
      " [ 0.         -0.5488135   0.        ]\n",
      " [ 0.          0.         -1.20552675]]\n",
      "Adding Parameterized RX gate with angle -0.39250558213041076 on qubit 0\n",
      "Adding Parameterized RX gate with angle -0.39250558213041076 on qubit 1\n",
      "Adding Parameterized RX gate with angle -0.363323687533286 on qubit 2\n"
     ]
    },
    {
     "data": {
      "text/plain": [
       "array([-0.2362598 , -0.18129823, -0.36574103])"
      ]
     },
     "execution_count": 12,
     "metadata": {},
     "output_type": "execute_result"
    }
   ],
   "source": [
    "from squlearn.util.qulacs .qulacs_circuit import evaluate_circuit_gradient\n",
    "\n",
    "evaluate_circuit_gradient(test,param)"
   ]
  },
  {
   "cell_type": "code",
   "execution_count": 13,
   "metadata": {},
   "outputs": [
    {
     "name": "stdout",
     "output_type": "stream",
     "text": [
      "0.7979619823479727\n",
      "[-0.4725196  -0.36259646 -0.36574103]\n"
     ]
    }
   ],
   "source": [
    "from squlearn.qnn.lowlevel_qnn_pennylane import LowLevelQNNPennyLane\n",
    "from squlearn import Executor\n",
    "from squlearn.observables import CustomObservable\n",
    "\n",
    "from squlearn.encoding_circuit import QiskitEncodingCircuit\n",
    "\n",
    "ec = QiskitEncodingCircuit(qc)\n",
    "o = CustomObservable(3,'ZZZ')\n",
    "\n",
    "qnn = LowLevelQNNPennyLane(ec,o,Executor('pennylane'))\n",
    "\n",
    "\n",
    "print(qnn.evaluate([],param,[],\"f\")[\"f\"])\n",
    "print(qnn.evaluate([],param,[],\"dfdp\")[\"dfdp\"])"
   ]
  }
 ],
 "metadata": {
  "kernelspec": {
   "display_name": ".venv",
   "language": "python",
   "name": "python3"
  },
  "language_info": {
   "codemirror_mode": {
    "name": "ipython",
    "version": 3
   },
   "file_extension": ".py",
   "mimetype": "text/x-python",
   "name": "python",
   "nbconvert_exporter": "python",
   "pygments_lexer": "ipython3",
   "version": "3.9.13"
  }
 },
 "nbformat": 4,
 "nbformat_minor": 2
}
