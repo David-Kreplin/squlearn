{
 "cells": [
  {
   "cell_type": "code",
   "execution_count": 1,
   "metadata": {},
   "outputs": [],
   "source": [
    "from circuit_tree import *\n",
    "import copy\n",
    "\n",
    "from qiskit.primitives import Estimator\n",
    "from qiskit.quantum_info import Pauli"
   ]
  },
  {
   "cell_type": "code",
   "execution_count": 2,
   "metadata": {},
   "outputs": [
    {
     "name": "stdout",
     "output_type": "stream",
     "text": [
      "[1.0*[-1*\n",
      "circuit1\n",
      " + 1*\n",
      "circuit2], 1.0*[-2*\n",
      "circuit3\n",
      " + 2*\n",
      "circuit4]]\n"
     ]
    }
   ],
   "source": [
    "n1 = OpTreeSum([OpTreeCircuit(\"circuit1\"),OpTreeCircuit(\"circuit2\")],[-1,1])\n",
    "n2 = OpTreeSum([OpTreeCircuit(\"circuit3\"),OpTreeCircuit(\"circuit4\")],[-2,2])\n",
    "\n",
    "test = OpTreeList([n1,n2])\n",
    "\n",
    "\n",
    "\n",
    "print(str(test))\n"
   ]
  },
  {
   "cell_type": "code",
   "execution_count": 3,
   "metadata": {},
   "outputs": [
    {
     "data": {
      "text/plain": [
       "'[[circuit1 + circuit2] , [circuit3 + circuit4]]'"
      ]
     },
     "execution_count": 3,
     "metadata": {},
     "output_type": "execute_result"
    }
   ],
   "source": [
    "build_total_str(test)"
   ]
  },
  {
   "cell_type": "code",
   "execution_count": 4,
   "metadata": {},
   "outputs": [
    {
     "data": {
      "image/png": "[encoded data removed]",
      "text/plain": [
       "<Figure size 387.452x144.48 with 1 Axes>"
      ]
     },
     "execution_count": 4,
     "metadata": {},
     "output_type": "execute_result"
    }
   ],
   "source": [
    "x = ParameterVector(\"x\",1)\n",
    "p = ParameterVector(\"p\",2)\n",
    "\n",
    "QC = QuantumCircuit(2)\n",
    "\n",
    "QC.h([0,1])\n",
    "\n",
    "QC.ry(p[0]*np.arccos(x[0]),0)\n",
    "QC.ry(p[1]*np.arccos(x[0]),1)\n",
    "\n",
    "QC.cx(0,1)\n",
    "QC.x([0,1])\n",
    "\n",
    "QC.draw()"
   ]
  },
  {
   "cell_type": "code",
   "execution_count": 5,
   "metadata": {},
   "outputs": [
    {
     "name": "stdout",
     "output_type": "stream",
     "text": [
      "[0.5*acos(x[0])*\n",
      "[0.5*acos(x[0])*\n",
      "[0.5*acos(x[0])*\n",
      "     ┌───┐┌────────────────────────────┐     ┌───┐\n",
      "q_0: ┤ H ├┤ Ry(p[0]*acos(x[0]) + 3π/2) ├──■──┤ X ├\n",
      "     ├───┤└──┬─────────────────────┬───┘┌─┴─┐├───┤\n",
      "q_1: ┤ H ├───┤ Ry(p[1]*acos(x[0])) ├────┤ X ├┤ X ├\n",
      "     └───┘   └─────────────────────┘    └───┘└───┘\n",
      " + -0.5*acos(x[0])*\n",
      "     ┌───┐┌───────────────────────────┐     ┌───┐\n",
      "q_0: ┤ H ├┤ Ry(p[0]*acos(x[0]) + π/2) ├──■──┤ X ├\n",
      "     ├───┤└──┬─────────────────────┬──┘┌─┴─┐├───┤\n",
      "q_1: ┤ H ├───┤ Ry(p[1]*acos(x[0])) ├───┤ X ├┤ X ├\n",
      "     └───┘   └─────────────────────┘   └───┘└───┘]\n",
      " + -0.5*acos(x[0])*\n",
      "[0.5*acos(x[0])*\n",
      "     ┌───┐┌───────────────────────────┐     ┌───┐\n",
      "q_0: ┤ H ├┤ Ry(p[0]*acos(x[0]) + π/2) ├──■──┤ X ├\n",
      "     ├───┤└──┬─────────────────────┬──┘┌─┴─┐├───┤\n",
      "q_1: ┤ H ├───┤ Ry(p[1]*acos(x[0])) ├───┤ X ├┤ X ├\n",
      "     └───┘   └─────────────────────┘   └───┘└───┘\n",
      " + -0.5*acos(x[0])*\n",
      "     ┌───┐┌───────────────────────────┐     ┌───┐\n",
      "q_0: ┤ H ├┤ Ry(p[0]*acos(x[0]) - π/2) ├──■──┤ X ├\n",
      "     ├───┤└──┬─────────────────────┬──┘┌─┴─┐├───┤\n",
      "q_1: ┤ H ├───┤ Ry(p[1]*acos(x[0])) ├───┤ X ├┤ X ├\n",
      "     └───┘   └─────────────────────┘   └───┘└───┘]]\n",
      " + -0.5*acos(x[0])*\n",
      "[0.5*acos(x[0])*\n",
      "[0.5*acos(x[0])*\n",
      "     ┌───┐┌───────────────────────────┐     ┌───┐\n",
      "q_0: ┤ H ├┤ Ry(p[0]*acos(x[0]) + π/2) ├──■──┤ X ├\n",
      "     ├───┤└──┬─────────────────────┬──┘┌─┴─┐├───┤\n",
      "q_1: ┤ H ├───┤ Ry(p[1]*acos(x[0])) ├───┤ X ├┤ X ├\n",
      "     └───┘   └─────────────────────┘   └───┘└───┘\n",
      " + -0.5*acos(x[0])*\n",
      "     ┌───┐┌───────────────────────────┐     ┌───┐\n",
      "q_0: ┤ H ├┤ Ry(p[0]*acos(x[0]) - π/2) ├──■──┤ X ├\n",
      "     ├───┤└──┬─────────────────────┬──┘┌─┴─┐├───┤\n",
      "q_1: ┤ H ├───┤ Ry(p[1]*acos(x[0])) ├───┤ X ├┤ X ├\n",
      "     └───┘   └─────────────────────┘   └───┘└───┘]\n",
      " + -0.5*acos(x[0])*\n",
      "[0.5*acos(x[0])*\n",
      "     ┌───┐┌───────────────────────────┐     ┌───┐\n",
      "q_0: ┤ H ├┤ Ry(p[0]*acos(x[0]) - π/2) ├──■──┤ X ├\n",
      "     ├───┤└──┬─────────────────────┬──┘┌─┴─┐├───┤\n",
      "q_1: ┤ H ├───┤ Ry(p[1]*acos(x[0])) ├───┤ X ├┤ X ├\n",
      "     └───┘   └─────────────────────┘   └───┘└───┘\n",
      " + -0.5*acos(x[0])*\n",
      "     ┌───┐┌────────────────────────────┐     ┌───┐\n",
      "q_0: ┤ H ├┤ Ry(p[0]*acos(x[0]) - 3π/2) ├──■──┤ X ├\n",
      "     ├───┤└──┬─────────────────────┬───┘┌─┴─┐├───┤\n",
      "q_1: ┤ H ├───┤ Ry(p[1]*acos(x[0])) ├────┤ X ├┤ X ├\n",
      "     └───┘   └─────────────────────┘    └───┘└───┘]]]\n"
     ]
    }
   ],
   "source": [
    "test = circuit_derivative(circuit_derivative_v2(circuit_derivative_v2(QC,p[0]),p[0]),p[0])\n",
    "print(test)"
   ]
  },
  {
   "cell_type": "code",
   "execution_count": 6,
   "metadata": {},
   "outputs": [
    {
     "data": {
      "text/plain": [
       "<circuit_tree.OpTreeSum at 0x2b61d5c1a50>"
      ]
     },
     "execution_count": 6,
     "metadata": {},
     "output_type": "execute_result"
    }
   ],
   "source": [
    "test._children_list[0]._children_list[0]"
   ]
  },
  {
   "cell_type": "code",
   "execution_count": 7,
   "metadata": {},
   "outputs": [
    {
     "name": "stdout",
     "output_type": "stream",
     "text": [
      "[0.5*acos(x[0])*\n",
      "[0.5*acos(x[0])*\n",
      "[0.5*acos(x[0])*\n",
      "     ┌───┐┌────────────────────────────┐     ┌───┐\n",
      "q_0: ┤ H ├┤ Ry(p[0]*acos(x[0]) + 3π/2) ├──■──┤ X ├\n",
      "     ├───┤└──┬─────────────────────┬───┘┌─┴─┐├───┤\n",
      "q_1: ┤ H ├───┤ Ry(p[1]*acos(x[0])) ├────┤ X ├┤ X ├\n",
      "     └───┘   └─────────────────────┘    └───┘└───┘\n",
      " + -0.5*acos(x[0])*\n",
      "     ┌───┐┌───────────────────────────┐     ┌───┐\n",
      "q_0: ┤ H ├┤ Ry(p[0]*acos(x[0]) + π/2) ├──■──┤ X ├\n",
      "     ├───┤└──┬─────────────────────┬──┘┌─┴─┐├───┤\n",
      "q_1: ┤ H ├───┤ Ry(p[1]*acos(x[0])) ├───┤ X ├┤ X ├\n",
      "     └───┘   └─────────────────────┘   └───┘└───┘]\n",
      " + -0.5*acos(x[0])*\n",
      "[0.5*acos(x[0])*\n",
      "     ┌───┐┌───────────────────────────┐     ┌───┐\n",
      "q_0: ┤ H ├┤ Ry(p[0]*acos(x[0]) + π/2) ├──■──┤ X ├\n",
      "     ├───┤└──┬─────────────────────┬──┘┌─┴─┐├───┤\n",
      "q_1: ┤ H ├───┤ Ry(p[1]*acos(x[0])) ├───┤ X ├┤ X ├\n",
      "     └───┘   └─────────────────────┘   └───┘└───┘\n",
      " + -0.5*acos(x[0])*\n",
      "     ┌───┐┌───────────────────────────┐     ┌───┐\n",
      "q_0: ┤ H ├┤ Ry(p[0]*acos(x[0]) - π/2) ├──■──┤ X ├\n",
      "     ├───┤└──┬─────────────────────┬──┘┌─┴─┐├───┤\n",
      "q_1: ┤ H ├───┤ Ry(p[1]*acos(x[0])) ├───┤ X ├┤ X ├\n",
      "     └───┘   └─────────────────────┘   └───┘└───┘]]\n",
      " + -0.5*acos(x[0])*\n",
      "[0.5*acos(x[0])*\n",
      "[0.5*acos(x[0])*\n",
      "     ┌───┐┌───────────────────────────┐     ┌───┐\n",
      "q_0: ┤ H ├┤ Ry(p[0]*acos(x[0]) + π/2) ├──■──┤ X ├\n",
      "     ├───┤└──┬─────────────────────┬──┘┌─┴─┐├───┤\n",
      "q_1: ┤ H ├───┤ Ry(p[1]*acos(x[0])) ├───┤ X ├┤ X ├\n",
      "     └───┘   └─────────────────────┘   └───┘└───┘\n",
      " + -0.5*acos(x[0])*\n",
      "     ┌───┐┌───────────────────────────┐     ┌───┐\n",
      "q_0: ┤ H ├┤ Ry(p[0]*acos(x[0]) - π/2) ├──■──┤ X ├\n",
      "     ├───┤└──┬─────────────────────┬──┘┌─┴─┐├───┤\n",
      "q_1: ┤ H ├───┤ Ry(p[1]*acos(x[0])) ├───┤ X ├┤ X ├\n",
      "     └───┘   └─────────────────────┘   └───┘└───┘]\n",
      " + -0.5*acos(x[0])*\n",
      "[0.5*acos(x[0])*\n",
      "     ┌───┐┌───────────────────────────┐     ┌───┐\n",
      "q_0: ┤ H ├┤ Ry(p[0]*acos(x[0]) - π/2) ├──■──┤ X ├\n",
      "     ├───┤└──┬─────────────────────┬──┘┌─┴─┐├───┤\n",
      "q_1: ┤ H ├───┤ Ry(p[1]*acos(x[0])) ├───┤ X ├┤ X ├\n",
      "     └───┘   └─────────────────────┘   └───┘└───┘\n",
      " + -0.5*acos(x[0])*\n",
      "     ┌───┐┌────────────────────────────┐     ┌───┐\n",
      "q_0: ┤ H ├┤ Ry(p[0]*acos(x[0]) - 3π/2) ├──■──┤ X ├\n",
      "     ├───┤└──┬─────────────────────┬───┘┌─┴─┐├───┤\n",
      "q_1: ┤ H ├───┤ Ry(p[1]*acos(x[0])) ├────┤ X ├┤ X ├\n",
      "     └───┘   └─────────────────────┘    └───┘└───┘]]]\n"
     ]
    }
   ],
   "source": [
    "test2 = test\n",
    "print(test2)"
   ]
  },
  {
   "cell_type": "code",
   "execution_count": 8,
   "metadata": {},
   "outputs": [
    {
     "data": {
      "text/plain": [
       "ParameterView([ParameterVectorElement(p[0]), ParameterVectorElement(p[1]), ParameterVectorElement(x[0])])"
      ]
     },
     "execution_count": 8,
     "metadata": {},
     "output_type": "execute_result"
    }
   ],
   "source": [
    "circ = test2._children_list[0]._children_list[0]._children_list[0]\n",
    "circ.parameters"
   ]
  },
  {
   "cell_type": "code",
   "execution_count": 9,
   "metadata": {},
   "outputs": [],
   "source": [
    "dic={}\n",
    "dic[p[0]] = 0.5\n",
    "dic[p[1]] = 1.0\n",
    "dic[x[0]] = 0.25"
   ]
  },
  {
   "cell_type": "code",
   "execution_count": 10,
   "metadata": {},
   "outputs": [
    {
     "data": {
      "text/plain": [
       "array([0.5 , 1.  , 0.25])"
      ]
     },
     "execution_count": 10,
     "metadata": {},
     "output_type": "execute_result"
    }
   ],
   "source": [
    "np.array([ dic[p] for p in circ.parameters ])"
   ]
  },
  {
   "cell_type": "code",
   "execution_count": 11,
   "metadata": {},
   "outputs": [
    {
     "name": "stdout",
     "output_type": "stream",
     "text": [
      "build_lists_and_index_tree 0.0009987354278564453\n",
      "len(circuit_list) 8\n",
      "run 0.01099848747253418\n"
     ]
    },
    {
     "data": {
      "text/plain": [
       "-9.64467382818777e-17"
      ]
     },
     "execution_count": 11,
     "metadata": {},
     "output_type": "execute_result"
    }
   ],
   "source": [
    "evaluate(test2,Estimator(),Pauli(\"ZZ\"),dic)"
   ]
  },
  {
   "cell_type": "code",
   "execution_count": null,
   "metadata": {},
   "outputs": [],
   "source": []
  }
 ],
 "metadata": {
  "kernelspec": {
   "display_name": "Python 3",
   "language": "python",
   "name": "python3"
  },
  "language_info": {
   "codemirror_mode": {
    "name": "ipython",
    "version": 3
   },
   "file_extension": ".py",
   "mimetype": "text/x-python",
   "name": "python",
   "nbconvert_exporter": "python",
   "pygments_lexer": "ipython3",
   "version": "3.10.2"
  },
  "orig_nbformat": 4
 },
 "nbformat": 4,
 "nbformat_minor": 2
}
