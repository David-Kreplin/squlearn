{
 "cells": [
  {
   "cell_type": "code",
   "execution_count": 1,
   "metadata": {},
   "outputs": [],
   "source": [
    "from squlearn import Executor\n",
    "\n",
    "from squlearn.util.execution import ParallelEstimator, ParallelSampler\n",
    "\n",
    "\n",
    "from qiskit import QuantumCircuit, Aer\n",
    "from qiskit.primitives import Sampler as QSampler\n",
    "from qiskit.primitives import BackendSampler\n",
    "\n",
    "qc = QuantumCircuit(3)\n",
    "qc.h(range(3))\n",
    "qc.cx(0,1)\n",
    "qc.cx(1,2)\n",
    "qc.cx(2,0)\n",
    "qc.measure_all()"
   ]
  },
  {
   "cell_type": "code",
   "execution_count": 2,
   "metadata": {},
   "outputs": [
    {
     "name": "stdout",
     "output_type": "stream",
     "text": [
      "max_qubits 29\n",
      "\n",
      "Circuit with 3 qubits has been duplicated 3 times.\n",
      "Reducing shots from 4000 to 1333\n",
      "Backend has 29 qubits.\n"
     ]
    },
    {
     "data": {
      "text/plain": [
       "SamplerResult(quasi_dists=[{0: 0.11927981995498885, 1: 0.12203050762690677, 2: 0.13078269567391837, 3: 0.11927981995498885, 4: 0.12478119529882474, 5: 0.12378094523630913, 6: 0.13128282070517616, 7: 0.12878219554888717}], metadata=[{'shots': 4000}])"
      ]
     },
     "execution_count": 2,
     "metadata": {},
     "output_type": "execute_result"
    }
   ],
   "source": [
    "bsampler = BackendSampler(Aer.get_backend('qasm_simulator'))\n",
    "psampler = ParallelSampler(bsampler, num_parallel=3)\n",
    "job = psampler.run(qc,shots=4000)\n",
    "job.result()"
   ]
  },
  {
   "cell_type": "code",
   "execution_count": 3,
   "metadata": {},
   "outputs": [
    {
     "name": "stdout",
     "output_type": "stream",
     "text": [
      "max_qubits 29\n",
      "\n",
      "Circuit with 3 qubits has been duplicated 3 times.\n",
      "Reducing shots from 0 to 0\n",
      "Backend has 29 qubits.\n"
     ]
    },
    {
     "data": {
      "text/plain": [
       "SamplerResult(quasi_dists=[{0: 0.125, 1: 0.125, 2: 0.125, 3: 0.125, 4: 0.125, 5: 0.125, 6: 0.125, 7: 0.125}], metadata=[{'shots': None}])"
      ]
     },
     "execution_count": 3,
     "metadata": {},
     "output_type": "execute_result"
    }
   ],
   "source": [
    "psampler = ParallelSampler(QSampler(), num_parallel=3)\n",
    "job = psampler.run(qc)\n",
    "job.result()"
   ]
  },
  {
   "cell_type": "code",
   "execution_count": 4,
   "metadata": {},
   "outputs": [
    {
     "name": "stdout",
     "output_type": "stream",
     "text": [
      "max_qubits 32\n",
      "\n",
      "Circuit with 3 qubits has been duplicated 3 times.\n",
      "Reducing shots from 4000 to 1333\n",
      "Backend has 32 qubits.\n"
     ]
    },
    {
     "data": {
      "text/plain": [
       "SamplerResult(quasi_dists=[{0: 0.1327831957989498, 1: 0.12553138284571141, 2: 0.12203050762690675, 3: 0.12203050762690666, 4: 0.1245311327831958, 5: 0.12328082020505125, 6: 0.12903225806451613, 7: 0.12078019504876225}], metadata=[{'shots': 4000, 'circuit_metadata': {}}])"
      ]
     },
     "execution_count": 4,
     "metadata": {},
     "output_type": "execute_result"
    }
   ],
   "source": [
    "from qiskit_ibm_runtime import QiskitRuntimeService,Sampler,Session\n",
    "\n",
    "service = QiskitRuntimeService(channel=\"ibm_quantum\")\n",
    "\n",
    "session = Session(service, backend=service.get_backend(\"ibmq_qasm_simulator\"))\n",
    "sampler = Sampler(session=session)\n",
    "\n",
    "psampler = ParallelSampler(sampler, num_parallel=3)\n",
    "job = psampler.run(qc)\n",
    "job.result()"
   ]
  }
 ],
 "metadata": {
  "kernelspec": {
   "display_name": "Python 3",
   "language": "python",
   "name": "python3"
  },
  "language_info": {
   "codemirror_mode": {
    "name": "ipython",
    "version": 3
   },
   "file_extension": ".py",
   "mimetype": "text/x-python",
   "name": "python",
   "nbconvert_exporter": "python",
   "pygments_lexer": "ipython3",
   "version": "3.10.2"
  }
 },
 "nbformat": 4,
 "nbformat_minor": 2
}
