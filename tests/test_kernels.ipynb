{
 "cells": [
  {
   "cell_type": "code",
   "execution_count": null,
   "metadata": {},
   "outputs": [],
   "source": [
    "from squlearn import Executor\n",
    "from squlearn.kernel import FidelityKernel, ProjectedQuantumKernel\n",
    "from squlearn.encoding_circuit import ChebyshevTower, ChebyshevPQC, HubregtsenEncodingCircuit\n",
    "\n",
    "\n",
    "import pennylane as qml\n",
    "\n",
    "import numpy as np"
   ]
  },
  {
   "cell_type": "code",
   "execution_count": null,
   "metadata": {},
   "outputs": [],
   "source": [
    "w = qml.device('qiskit.ibmq', wires=4, backend='ibmq_qasm_simulator', ibmqx_token=\"1e1fcef3940bc7181262dbc135a052e83b17a669f187b1d6d7bde96ef3167078b55eb494f44f3b3de8ea934023da7a5eef3df4c6d27bf8ce7d48ca174c654cb7\")\n",
    "w.shots\n",
    "\n",
    "w.batch_execute()"
   ]
  },
  {
   "cell_type": "markdown",
   "metadata": {},
   "source": []
  },
  {
   "cell_type": "code",
   "execution_count": null,
   "metadata": {},
   "outputs": [],
   "source": [
    "fm = HubregtsenEncodingCircuit(4,1,1)\n",
    "#fm = ChebyshevTower(4,1,1)\n",
    "#exec = Executor(qml.device(\"default.qubit\"))\n",
    "exec = Executor(w,shots=1000)\n",
    "kernel = FidelityKernel(fm, exec)\n",
    "fm.num_parameters"
   ]
  },
  {
   "cell_type": "code",
   "execution_count": 24,
   "metadata": {},
   "outputs": [],
   "source": [
    "np.random.seed(0)\n",
    "x = np.random.rand(10,1)\n",
    "y = np.random.rand(10,1)\n",
    "param = np.random.rand(fm.num_parameters)\n",
    "param = np.zeros(fm.num_parameters)\n",
    "#y[0] = 0.5\n",
    "\n",
    "\n",
    "kernel.assign_parameters(param)\n",
    "kernel.evaluate(x, y)"
   ]
  },
  {
   "cell_type": "code",
   "execution_count": null,
   "metadata": {},
   "outputs": [],
   "source": [
    "exec = Executor(\"statevector_simulator\",shots=1000)\n",
    "kernel2 = FidelityKernel(fm, exec)\n",
    "kernel2.assign_parameters(param)\n",
    "kernel2.evaluate(x, y)"
   ]
  }
 ],
 "metadata": {
  "kernelspec": {
   "display_name": ".venv",
   "language": "python",
   "name": "python3"
  },
  "language_info": {
   "codemirror_mode": {
    "name": "ipython",
    "version": 3
   },
   "file_extension": ".py",
   "mimetype": "text/x-python",
   "name": "python",
   "nbconvert_exporter": "python",
   "pygments_lexer": "ipython3",
   "version": "3.10.2"
  }
 },
 "nbformat": 4,
 "nbformat_minor": 2
}
