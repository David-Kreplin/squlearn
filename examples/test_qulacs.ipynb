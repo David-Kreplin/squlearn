{
 "cells": [
  {
   "cell_type": "code",
   "execution_count": 1,
   "metadata": {},
   "outputs": [],
   "source": [
    "from qulacs import Observable, QuantumCircuit, QuantumState, ParametricQuantumCircuit,QuantumCircuitSimulator\n",
    "from qulacs.gate import Y,CNOT,merge"
   ]
  },
  {
   "cell_type": "code",
   "execution_count": 2,
   "metadata": {},
   "outputs": [],
   "source": [
    "import numpy as np"
   ]
  },
  {
   "cell_type": "code",
   "execution_count": 3,
   "metadata": {},
   "outputs": [
    {
     "data": {
      "image/png": "[encoded data removed]",
      "text/plain": [
       "<Figure size 287.496x284.278 with 1 Axes>"
      ]
     },
     "execution_count": 3,
     "metadata": {},
     "output_type": "execute_result"
    }
   ],
   "source": [
    "from qiskit import QuantumCircuit\n",
    "from qiskit.circuit import ParameterVector\n",
    "\n",
    "\n",
    "p = ParameterVector('p',3)\n",
    "x = ParameterVector('x',3)\n",
    "\n",
    "qc = QuantumCircuit(3)\n",
    "\n",
    "qc.rx(p[0],0)\n",
    "qc.rx(p[1],1)\n",
    "qc.rx(p[2],2)\n",
    "\n",
    "qc.ry(x[0],0)\n",
    "qc.ry(x[1],1)\n",
    "qc.ry(x[2],2)\n",
    "\n",
    "qc.rx(np.cos(p[0]),0)\n",
    "qc.rx(np.sin(p[1]),1)\n",
    "qc.rx(2.0*p[2],2)\n",
    "\n",
    "\n",
    "#from qiskit.circuit.random import random_circuit\n",
    "#qc = random_circuit(3, 10, seed=41)\n",
    "qc.draw()"
   ]
  },
  {
   "cell_type": "code",
   "execution_count": 4,
   "metadata": {},
   "outputs": [],
   "source": [
    "# from squlearn.encoding_circuit import HubregtsenEncodingCircuit\n",
    "# from qiskit.circuit import ParameterVector\n",
    "\n",
    "\n",
    "\n",
    "# pqc = HubregtsenEncodingCircuit(3,2,2)\n",
    "\n",
    "# p = ParameterVector('p',3)\n",
    "# x = ParameterVector('x',pqc.num_features)\n",
    "\n",
    "# qc = pqc.get_circuit(p,x)\n",
    "# qc.draw()"
   ]
  },
  {
   "cell_type": "code",
   "execution_count": 5,
   "metadata": {},
   "outputs": [],
   "source": [
    "#print(pqc.num_parameters)\n",
    "#print(pqc.num_features)"
   ]
  },
  {
   "cell_type": "code",
   "execution_count": 6,
   "metadata": {},
   "outputs": [
    {
     "name": "stdout",
     "output_type": "stream",
     "text": [
      "self._qiskit_circuit      ┌──────────┐┌──────────┐\n",
      "q_0: ┤ Rx(p[0]) ├┤ Ry(x[0]) ├\n",
      "     ├──────────┤├──────────┤\n",
      "q_1: ┤ Rx(p[1]) ├┤ Ry(x[1]) ├\n",
      "     ├──────────┤├──────────┤\n",
      "q_2: ┤ Rx(p[2]) ├┤ Ry(x[2]) ├\n",
      "     └──────────┘└──────────┘\n",
      "wires [0]\n",
      "len(op.operation.params) 1\n",
      "angle p[0]\n",
      "type(angle) <class 'qiskit.circuit.parametervector.ParameterVectorElement'>\n",
      "TESTTEST\n",
      "wires [0]\n",
      "len(op.operation.params) 1\n",
      "angle x[0]\n",
      "type(angle) <class 'qiskit.circuit.parametervector.ParameterVectorElement'>\n",
      "TESTTEST\n",
      "wires [1]\n",
      "len(op.operation.params) 1\n",
      "angle p[1]\n",
      "type(angle) <class 'qiskit.circuit.parametervector.ParameterVectorElement'>\n",
      "TESTTEST\n",
      "wires [1]\n",
      "len(op.operation.params) 1\n",
      "angle x[1]\n",
      "type(angle) <class 'qiskit.circuit.parametervector.ParameterVectorElement'>\n",
      "TESTTEST\n",
      "wires [2]\n",
      "len(op.operation.params) 1\n",
      "angle p[2]\n",
      "type(angle) <class 'qiskit.circuit.parametervector.ParameterVectorElement'>\n",
      "TESTTEST\n",
      "wires [2]\n",
      "len(op.operation.params) 1\n",
      "angle x[2]\n",
      "type(angle) <class 'qiskit.circuit.parametervector.ParameterVectorElement'>\n",
      "TESTTEST\n",
      "test._operation_list [<function qulacs_param_gate_rx at 0x000001BB166CE9D0>, <function qulacs_param_gate_ry at 0x000001BB166CEAF0>, <function qulacs_param_gate_rx at 0x000001BB166CE9D0>, <function qulacs_param_gate_ry at 0x000001BB166CEAF0>, <function qulacs_param_gate_rx at 0x000001BB166CE9D0>, <function qulacs_param_gate_ry at 0x000001BB166CEAF0>]\n",
      "test._param_list []\n",
      "test._qubit_list [[0], [0], [1], [1], [2], [2]]\n",
      "test._func_list [<function _lambdifygenerated at 0x000001BB16B17940>, <function _lambdifygenerated at 0x000001BB16B24DC0>, <function _lambdifygenerated at 0x000001BB16B27E50>, <function _lambdifygenerated at 0x000001BB16B2AEE0>, <function _lambdifygenerated at 0x000001BB16B2A160>, <function _lambdifygenerated at 0x000001BB16B27C10>]\n",
      "test._func_grad_list [[<function QulacsCircuit._add_parameter_expression.<locals>.<lambda> at 0x000001BB16B17EE0>], [<function QulacsCircuit._add_parameter_expression.<locals>.<lambda> at 0x000001BB16B240D0>], [<function QulacsCircuit._add_parameter_expression.<locals>.<lambda> at 0x000001BB16B27160>], [<function QulacsCircuit._add_parameter_expression.<locals>.<lambda> at 0x000001BB16B2E040>], [<function QulacsCircuit._add_parameter_expression.<locals>.<lambda> at 0x000001BB16B2AE50>], [<function QulacsCircuit._add_parameter_expression.<locals>.<lambda> at 0x000001BB16B24F70>]]\n",
      "test._free_parameters {ParameterVectorElement(p[0]), ParameterVectorElement(p[2]), ParameterVectorElement(x[2]), ParameterVectorElement(x[1]), ParameterVectorElement(p[1]), ParameterVectorElement(x[0])}\n"
     ]
    }
   ],
   "source": [
    "\n",
    "from squlearn.util.qulacs import *\n",
    "\n",
    "\n",
    "\n",
    "test = QulacsCircuit(qc)\n",
    "\n",
    "\n",
    "print(\"test._operation_list\",test._operation_list)\n",
    "print(\"test._param_list\",test._param_list)\n",
    "print(\"test._qubit_list\",test._qubit_list)\n",
    "print(\"test._func_list\",test._func_list)\n",
    "print(\"test._func_grad_list\",test._func_grad_list)\n",
    "print(\"test._free_parameters\",test._free_parameters)"
   ]
  },
  {
   "cell_type": "code",
   "execution_count": 7,
   "metadata": {},
   "outputs": [
    {
     "name": "stdout",
     "output_type": "stream",
     "text": [
      "self._qualcs_gates_parameters ['p', 'x']\n"
     ]
    },
    {
     "data": {
      "text/plain": [
       "<function squlearn.util.qulacs.qulacs_circuit.QulacsCircuit.get_circuit_func.<locals>.qulacs_circuit(*args)>"
      ]
     },
     "execution_count": 7,
     "metadata": {},
     "output_type": "execute_result"
    }
   ],
   "source": [
    "test.get_circuit_func()"
   ]
  },
  {
   "cell_type": "code",
   "execution_count": 8,
   "metadata": {},
   "outputs": [
    {
     "name": "stdout",
     "output_type": "stream",
     "text": [
      "self._qualcs_gates_parameters ['p', 'x']\n",
      "circ_param_list [0.3745401188473625, 0.9507143064099162, 0.7319939418114051, 0.5986584841970366, 0.15601864044243652, 0.15599452033620265]\n",
      "Adding Parameterized RX gate with angle 0.3745401188473625 on qubit 0\n",
      "Adding Parameterized RY gate with angle 0.5986584841970366 on qubit 0\n",
      "Adding Parameterized RX gate with angle 0.9507143064099162 on qubit 1\n",
      "Adding Parameterized RY gate with angle 0.15601864044243652 on qubit 1\n",
      "Adding Parameterized RX gate with angle 0.7319939418114051 on qubit 2\n",
      "Adding Parameterized RY gate with angle 0.15599452033620265 on qubit 2\n",
      "(0.32430061799619225+0j)\n"
     ]
    }
   ],
   "source": [
    "np.random.seed(42)\n",
    "param_val = np.array(np.random.random(3))\n",
    "x_val = np.array(np.random.random(3))\n",
    "\n",
    "circ = test.get_circuit_func()(param_val,x_val)\n",
    "\n",
    "state = QuantumState(3)\n",
    "sim = QuantumCircuitSimulator(circ, state)\n",
    "sim.initialize_state(0)\n",
    "sim.simulate()\n",
    "\n",
    "observable = Observable(3)\n",
    "observable.add_operator(1.0, \"Z 2 Z 1 Z 0\")\n",
    "\n",
    "print(sim.get_expectation_value(observable))\n",
    "\n"
   ]
  },
  {
   "cell_type": "code",
   "execution_count": 9,
   "metadata": {},
   "outputs": [
    {
     "name": "stderr",
     "output_type": "stream",
     "text": [
      "C:\\Users\\DKR\\AppData\\Local\\Temp\\ipykernel_26156\\3824211868.py:6: DeprecationWarning: The class ``qiskit.primitives.estimator.Estimator`` is deprecated as of qiskit 1.2. It will be removed no earlier than 3 months after the release date. All implementations of the `BaseEstimatorV1` interface have been deprecated in favor of their V2 counterparts. The V2 alternative for the `Estimator` class is `StatevectorEstimator`.\n",
      "  est = Estimator()\n"
     ]
    },
    {
     "data": {
      "text/plain": [
       "array([0.32430062])"
      ]
     },
     "execution_count": 9,
     "metadata": {},
     "output_type": "execute_result"
    }
   ],
   "source": [
    "from qiskit.primitives import Estimator\n",
    "from qiskit.quantum_info import SparsePauliOp\n",
    "\n",
    "val = np.concatenate([param_val,x_val])\n",
    "\n",
    "est = Estimator()\n",
    "\n",
    "est.run(qc,SparsePauliOp('ZZZ',),val).result().values"
   ]
  }
 ],
 "metadata": {
  "kernelspec": {
   "display_name": ".venv",
   "language": "python",
   "name": "python3"
  },
  "language_info": {
   "codemirror_mode": {
    "name": "ipython",
    "version": 3
   },
   "file_extension": ".py",
   "mimetype": "text/x-python",
   "name": "python",
   "nbconvert_exporter": "python",
   "pygments_lexer": "ipython3",
   "version": "3.9.13"
  }
 },
 "nbformat": 4,
 "nbformat_minor": 2
}
