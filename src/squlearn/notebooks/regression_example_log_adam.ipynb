{
 "cells": [
  {
   "cell_type": "markdown",
   "metadata": {},
   "source": [
    "# Example: Regression with `QNNRegressor`\n",
    "\n",
    "In this example we show how to train the `QNNRegressor` to fit a logarithm. We will also use this demonstrator to show what happens if a QNN, that was trained on a noiseless simulator is executed on a noisy simulator.\n",
    "\n",
    "## Imports"
   ]
  },
  {
   "cell_type": "code",
   "execution_count": 23,
   "metadata": {
    "ExecuteTime": {
     "end_time": "2023-10-31T15:11:05.375236500Z",
     "start_time": "2023-10-31T15:11:05.207211Z"
    }
   },
   "outputs": [],
   "source": [
    "import numpy as np\n",
    "import matplotlib.pyplot as plt\n",
    "\n",
    "from squlearn import Executor\n",
    "from squlearn.observables import IsingHamiltonian\n",
    "from squlearn.qnn import QNNRegressor, SquaredLoss\n",
    "from squlearn.optimizers import SLSQP, Adam, SPSA\n",
    "from src.squlearn.encoding_circuit import ChebyshevRx"
   ]
  },
  {
   "cell_type": "markdown",
   "metadata": {},
   "source": [
    "We will use Qiskit's `StatevectorSimulator` for trainning."
   ]
  },
  {
   "cell_type": "code",
   "execution_count": 24,
   "metadata": {
    "ExecuteTime": {
     "end_time": "2023-10-31T15:11:05.611224200Z",
     "start_time": "2023-10-31T15:11:05.354229500Z"
    }
   },
   "outputs": [],
   "source": [
    "executor = Executor(\"statevector_simulator\")"
   ]
  },
  {
   "attachments": {},
   "cell_type": "markdown",
   "metadata": {},
   "source": [
    "## `QNNRegressor` Setup\n",
    "\n",
    "We start by defining a parameterized quantum circuit (PQC)"
   ]
  },
  {
   "cell_type": "code",
   "execution_count": 25,
   "metadata": {
    "ExecuteTime": {
     "end_time": "2023-10-31T15:11:05.655758200Z",
     "start_time": "2023-10-31T15:11:05.589223600Z"
    }
   },
   "outputs": [],
   "source": [
    "\n",
    "\n",
    "nqubits = 4\n",
    "number_of_layers = 2\n",
    "\n",
    "pqc = ChebyshevRx(nqubits, 1, num_layers=number_of_layers)"
   ]
  },
  {
   "attachments": {},
   "cell_type": "markdown",
   "metadata": {},
   "source": [
    "We also need an observable"
   ]
  },
  {
   "cell_type": "code",
   "execution_count": 26,
   "metadata": {
    "ExecuteTime": {
     "end_time": "2023-10-31T15:11:05.838273100Z",
     "start_time": "2023-10-31T15:11:05.679764700Z"
    }
   },
   "outputs": [
    {
     "name": "stdout",
     "output_type": "stream",
     "text": [
      "SparsePauliOp(['IIII', 'IIIZ', 'IIZI', 'IZII', 'ZIII', 'IIZZ', 'IZIZ', 'IZZI', 'ZIIZ', 'ZIZI', 'ZZII'],\n",
      "              coeffs=[ParameterExpression(1.0*p[0]), ParameterExpression(1.0*p[1]),\n",
      " ParameterExpression(1.0*p[1]), ParameterExpression(1.0*p[1]),\n",
      " ParameterExpression(1.0*p[1]), ParameterExpression(1.0*p[2]),\n",
      " ParameterExpression(1.0*p[2]), ParameterExpression(1.0*p[2]),\n",
      " ParameterExpression(1.0*p[2]), ParameterExpression(1.0*p[2]),\n",
      " ParameterExpression(1.0*p[2])])\n"
     ]
    }
   ],
   "source": [
    "ising_op = IsingHamiltonian(nqubits, I=\"S\", Z=\"S\", ZZ=\"S\")\n",
    "print(ising_op)"
   ]
  },
  {
   "attachments": {},
   "cell_type": "markdown",
   "metadata": {},
   "source": [
    "Now we can create the `QNNRegressor` with the PQC and cost operator. We also specify `SquaredLoss` and `SLSQP` as the loss function and optimizer respectively. Finally we specify random initial parameters for both, the PQC and cost operator."
   ]
  },
  {
   "cell_type": "code",
   "execution_count": 27,
   "metadata": {
    "ExecuteTime": {
     "end_time": "2023-10-31T15:11:06.322611600Z",
     "start_time": "2023-10-31T15:11:05.843294100Z"
    }
   },
   "outputs": [],
   "source": [
    "np.random.seed(13)\n",
    "param_ini = np.random.rand(pqc.num_parameters)\n",
    "param_op_ini = np.random.rand(ising_op.num_parameters)\n",
    "\n",
    "reg = QNNRegressor(pqc, ising_op, executor, SquaredLoss(), Adam(), param_ini, param_op_ini)"
   ]
  },
  {
   "attachments": {},
   "cell_type": "markdown",
   "metadata": {},
   "source": [
    "## Training\n",
    "\n",
    "Now we are ready to train the model to fit the logarithm funciton"
   ]
  },
  {
   "cell_type": "code",
   "execution_count": 28,
   "metadata": {
    "ExecuteTime": {
     "end_time": "2023-10-31T15:14:41.811948700Z",
     "start_time": "2023-10-31T15:11:06.232799300Z"
    }
   },
   "outputs": [
    {
     "name": "stderr",
     "output_type": "stream",
     "text": [
      "\n",
      "fit: 100%|██████████| 100/100 [25:39<00:00, 15.40s/it]\n",
      "\n",
      "fit:   1%|          | 1/100 [00:05<08:59,  5.45s/it]\u001B[A\n",
      "fit:   2%|▏         | 2/100 [00:07<05:42,  3.49s/it]\u001B[A\n",
      "fit:   3%|▎         | 3/100 [00:10<05:13,  3.23s/it]\u001B[A\n",
      "fit:   4%|▍         | 4/100 [00:13<04:52,  3.05s/it]\u001B[A\n",
      "fit:   5%|▌         | 5/100 [00:15<04:30,  2.85s/it]\u001B[A\n",
      "fit:   6%|▌         | 6/100 [00:18<04:26,  2.83s/it]\u001B[A\n",
      "fit:   7%|▋         | 7/100 [00:21<04:20,  2.80s/it]\u001B[A\n",
      "fit:   8%|▊         | 8/100 [00:23<04:05,  2.66s/it]\u001B[A\n",
      "fit:   9%|▉         | 9/100 [00:25<03:52,  2.55s/it]\u001B[A\n",
      "fit:  10%|█         | 10/100 [00:28<03:51,  2.57s/it]\u001B[A\n",
      "fit:  11%|█         | 11/100 [00:31<03:48,  2.57s/it]\u001B[A\n",
      "fit:  12%|█▏        | 12/100 [00:33<03:42,  2.52s/it]\u001B[A\n",
      "fit:  13%|█▎        | 13/100 [00:36<03:38,  2.51s/it]\u001B[A\n",
      "fit:  14%|█▍        | 14/100 [00:38<03:35,  2.51s/it]\u001B[A\n",
      "fit:  15%|█▌        | 15/100 [00:41<03:38,  2.57s/it]\u001B[A\n",
      "fit:  16%|█▌        | 16/100 [00:43<03:34,  2.56s/it]\u001B[A\n",
      "fit:  17%|█▋        | 17/100 [00:46<03:36,  2.60s/it]\u001B[A\n",
      "fit:  18%|█▊        | 18/100 [00:49<03:34,  2.61s/it]\u001B[A\n",
      "fit:  19%|█▉        | 19/100 [00:51<03:36,  2.68s/it]\u001B[A\n",
      "fit:  20%|██        | 20/100 [00:54<03:28,  2.60s/it]\u001B[A\n",
      "fit:  21%|██        | 21/100 [00:56<03:22,  2.56s/it]\u001B[A\n",
      "fit:  22%|██▏       | 22/100 [00:59<03:13,  2.49s/it]\u001B[A\n",
      "fit:  23%|██▎       | 23/100 [01:01<03:10,  2.48s/it]\u001B[A\n",
      "fit:  24%|██▍       | 24/100 [01:03<03:02,  2.40s/it]\u001B[A\n",
      "fit:  25%|██▌       | 25/100 [01:06<03:02,  2.44s/it]\u001B[A\n",
      "fit:  26%|██▌       | 26/100 [01:08<03:02,  2.47s/it]\u001B[A\n",
      "fit:  27%|██▋       | 27/100 [01:11<02:57,  2.44s/it]\u001B[A\n",
      "fit:  28%|██▊       | 28/100 [01:13<02:55,  2.44s/it]\u001B[A\n",
      "fit:  29%|██▉       | 29/100 [01:16<02:55,  2.47s/it]\u001B[A\n",
      "fit:  30%|███       | 30/100 [01:18<02:44,  2.34s/it]\u001B[A\n",
      "fit:  31%|███       | 31/100 [01:20<02:30,  2.18s/it]\u001B[A\n",
      "fit:  32%|███▏      | 32/100 [01:22<02:25,  2.14s/it]\u001B[A\n",
      "fit:  33%|███▎      | 33/100 [01:23<02:16,  2.04s/it]\u001B[A\n",
      "fit:  34%|███▍      | 34/100 [01:26<02:21,  2.15s/it]\u001B[A\n",
      "fit:  35%|███▌      | 35/100 [01:28<02:15,  2.09s/it]\u001B[A\n",
      "fit:  36%|███▌      | 36/100 [01:30<02:13,  2.09s/it]\u001B[A\n",
      "fit:  37%|███▋      | 37/100 [01:32<02:09,  2.05s/it]\u001B[A\n",
      "fit:  38%|███▊      | 38/100 [01:34<02:07,  2.05s/it]\u001B[A\n",
      "fit:  39%|███▉      | 39/100 [01:36<02:05,  2.06s/it]\u001B[A\n",
      "fit:  40%|████      | 40/100 [01:38<02:04,  2.08s/it]\u001B[A\n",
      "fit:  41%|████      | 41/100 [01:40<02:00,  2.04s/it]\u001B[A\n",
      "fit:  42%|████▏     | 42/100 [01:42<02:00,  2.08s/it]\u001B[A\n",
      "fit:  43%|████▎     | 43/100 [01:44<01:56,  2.05s/it]\u001B[A\n",
      "fit:  44%|████▍     | 44/100 [01:46<01:56,  2.07s/it]\u001B[A\n",
      "fit:  45%|████▌     | 45/100 [01:48<01:54,  2.08s/it]\u001B[A\n",
      "fit:  46%|████▌     | 46/100 [01:50<01:51,  2.06s/it]\u001B[A\n",
      "fit:  47%|████▋     | 47/100 [01:53<01:49,  2.07s/it]\u001B[A\n",
      "fit:  48%|████▊     | 48/100 [01:55<01:46,  2.05s/it]\u001B[A\n",
      "fit:  49%|████▉     | 49/100 [01:57<01:45,  2.07s/it]\u001B[A\n",
      "fit:  50%|█████     | 50/100 [01:59<01:43,  2.06s/it]\u001B[A\n",
      "fit:  51%|█████     | 51/100 [02:01<01:40,  2.06s/it]\u001B[A\n",
      "fit:  52%|█████▏    | 52/100 [02:03<01:37,  2.03s/it]\u001B[A\n",
      "fit:  53%|█████▎    | 53/100 [02:05<01:38,  2.10s/it]\u001B[A\n",
      "fit:  54%|█████▍    | 54/100 [02:07<01:34,  2.06s/it]\u001B[A\n",
      "fit:  55%|█████▌    | 55/100 [02:09<01:33,  2.08s/it]\u001B[A\n",
      "fit:  56%|█████▌    | 56/100 [02:11<01:29,  2.03s/it]\u001B[A\n",
      "fit:  57%|█████▋    | 57/100 [02:13<01:30,  2.10s/it]\u001B[A\n",
      "fit:  58%|█████▊    | 58/100 [02:15<01:25,  2.04s/it]\u001B[A\n",
      "fit:  59%|█████▉    | 59/100 [02:17<01:25,  2.08s/it]\u001B[A\n",
      "fit:  60%|██████    | 60/100 [02:19<01:20,  2.02s/it]\u001B[A\n",
      "fit:  61%|██████    | 61/100 [02:21<01:19,  2.05s/it]\u001B[A\n",
      "fit:  62%|██████▏   | 62/100 [02:23<01:18,  2.07s/it]\u001B[A\n",
      "fit:  63%|██████▎   | 63/100 [02:26<01:16,  2.07s/it]\u001B[A\n",
      "fit:  64%|██████▍   | 64/100 [02:28<01:18,  2.18s/it]\u001B[A\n",
      "fit:  65%|██████▌   | 65/100 [02:31<01:22,  2.35s/it]\u001B[A\n",
      "fit:  66%|██████▌   | 66/100 [02:33<01:17,  2.27s/it]\u001B[A\n",
      "fit:  67%|██████▋   | 67/100 [02:35<01:11,  2.15s/it]\u001B[A\n",
      "fit:  68%|██████▊   | 68/100 [02:37<01:08,  2.14s/it]\u001B[A\n",
      "fit:  69%|██████▉   | 69/100 [02:39<01:04,  2.09s/it]\u001B[A\n",
      "fit:  70%|███████   | 70/100 [02:41<01:04,  2.14s/it]\u001B[A\n",
      "fit:  71%|███████   | 71/100 [02:43<00:59,  2.07s/it]\u001B[A\n",
      "fit:  72%|███████▏  | 72/100 [02:45<01:01,  2.19s/it]\u001B[A\n",
      "fit:  73%|███████▎  | 73/100 [02:47<00:56,  2.11s/it]\u001B[A\n",
      "fit:  74%|███████▍  | 74/100 [02:49<00:55,  2.12s/it]\u001B[A\n",
      "fit:  75%|███████▌  | 75/100 [02:51<00:51,  2.05s/it]\u001B[A\n",
      "fit:  76%|███████▌  | 76/100 [02:54<00:49,  2.08s/it]\u001B[A\n",
      "fit:  77%|███████▋  | 77/100 [02:56<00:48,  2.12s/it]\u001B[A\n",
      "fit:  78%|███████▊  | 78/100 [02:57<00:43,  2.00s/it]\u001B[A\n",
      "fit:  79%|███████▉  | 79/100 [02:59<00:40,  1.92s/it]\u001B[A\n",
      "fit:  80%|████████  | 80/100 [03:01<00:36,  1.84s/it]\u001B[A\n",
      "fit:  81%|████████  | 81/100 [03:03<00:34,  1.82s/it]\u001B[A\n",
      "fit:  82%|████████▏ | 82/100 [03:04<00:31,  1.76s/it]\u001B[A\n",
      "fit:  83%|████████▎ | 83/100 [03:06<00:29,  1.75s/it]\u001B[A\n",
      "fit:  84%|████████▍ | 84/100 [03:07<00:26,  1.69s/it]\u001B[A\n",
      "fit:  85%|████████▌ | 85/100 [03:09<00:25,  1.71s/it]\u001B[A\n",
      "fit:  86%|████████▌ | 86/100 [03:11<00:23,  1.65s/it]\u001B[A\n",
      "fit:  87%|████████▋ | 87/100 [03:13<00:21,  1.69s/it]\u001B[A\n",
      "fit:  88%|████████▊ | 88/100 [03:14<00:20,  1.70s/it]\u001B[A\n",
      "fit:  89%|████████▉ | 89/100 [03:16<00:18,  1.70s/it]\u001B[A\n",
      "fit:  90%|█████████ | 90/100 [03:18<00:16,  1.67s/it]\u001B[A\n",
      "fit:  91%|█████████ | 91/100 [03:19<00:15,  1.69s/it]\u001B[A\n",
      "fit:  92%|█████████▏| 92/100 [03:21<00:13,  1.65s/it]\u001B[A\n",
      "fit:  93%|█████████▎| 93/100 [03:23<00:11,  1.67s/it]\u001B[A\n",
      "fit:  94%|█████████▍| 94/100 [03:24<00:09,  1.64s/it]\u001B[A\n",
      "fit:  95%|█████████▌| 95/100 [03:26<00:08,  1.71s/it]\u001B[A\n",
      "fit:  96%|█████████▌| 96/100 [03:28<00:06,  1.66s/it]\u001B[A\n",
      "fit:  97%|█████████▋| 97/100 [03:29<00:05,  1.68s/it]\u001B[A\n",
      "fit:  98%|█████████▊| 98/100 [03:31<00:03,  1.73s/it]\u001B[A\n",
      "fit:  99%|█████████▉| 99/100 [03:33<00:01,  1.67s/it]\u001B[A\n",
      "fit: 100%|██████████| 100/100 [03:35<00:00,  1.78s/it]\u001B[A"
     ]
    }
   ],
   "source": [
    "x_space = np.arange(0.1, 0.9, 0.1)\n",
    "ref_values = np.log(x_space)\n",
    "\n",
    "reg.fit(x_space, ref_values)"
   ]
  },
  {
   "cell_type": "markdown",
   "metadata": {},
   "source": [
    "## Evaluation\n",
    "\n",
    "Let's check the trained parameters of the PQC and operator"
   ]
  },
  {
   "cell_type": "code",
   "execution_count": 29,
   "metadata": {
    "ExecuteTime": {
     "end_time": "2023-10-31T15:14:41.838987400Z",
     "start_time": "2023-10-31T15:14:41.811948700Z"
    }
   },
   "outputs": [
    {
     "name": "stdout",
     "output_type": "stream",
     "text": [
      "Result PQC params: [ 1.23277167 -0.08635366  1.30710346  0.98232669  1.0510218   0.19436827\n",
      "  0.84627712  0.45883069  0.14376988  0.83754094  0.86839313  0.31502696\n",
      " -0.87808146  0.68805119  0.6399885   0.36315213]\n",
      "Result operator params: [-0.48653134  1.56935065  0.56664481]\n"
     ]
    }
   ],
   "source": [
    "print(\"Result PQC params:\", reg.param)\n",
    "print(\"Result operator params:\", reg.param_op)"
   ]
  },
  {
   "cell_type": "markdown",
   "metadata": {},
   "source": [
    "Also let's plot the predicted function vs. the actual logarithm function"
   ]
  },
  {
   "cell_type": "code",
   "execution_count": 30,
   "metadata": {
    "ExecuteTime": {
     "end_time": "2023-10-31T15:14:43.385870900Z",
     "start_time": "2023-10-31T15:14:41.847955400Z"
    }
   },
   "outputs": [
    {
     "data": {
      "text/plain": "[<matplotlib.lines.Line2D at 0x21f7f28e920>]"
     },
     "execution_count": 30,
     "metadata": {},
     "output_type": "execute_result"
    },
    {
     "data": {
      "text/plain": "<Figure size 640x480 with 1 Axes>",
      "image/png": "[encoded data removed]"
     },
     "metadata": {},
     "output_type": "display_data"
    }
   ],
   "source": [
    "x = np.arange(np.min(x_space), np.max(x_space), 0.005)\n",
    "y = reg.predict(x)\n",
    "plt.plot(x, np.log(x))\n",
    "plt.plot(x, y)"
   ]
  },
  {
   "cell_type": "markdown",
   "metadata": {},
   "source": [
    "Let's also plot the error of the QNN."
   ]
  },
  {
   "cell_type": "code",
   "execution_count": 31,
   "outputs": [
    {
     "data": {
      "text/plain": "[<matplotlib.lines.Line2D at 0x21f7f03aa40>]"
     },
     "execution_count": 31,
     "metadata": {},
     "output_type": "execute_result"
    },
    {
     "data": {
      "text/plain": "<Figure size 640x480 with 1 Axes>",
      "image/png": "[encoded data removed]"
     },
     "metadata": {},
     "output_type": "display_data"
    }
   ],
   "source": [
    "plt.plot(x, np.abs(y - np.log(x)))"
   ],
   "metadata": {
    "collapsed": false,
    "ExecuteTime": {
     "end_time": "2023-10-31T15:14:43.643509800Z",
     "start_time": "2023-10-31T15:14:43.388895700Z"
    }
   }
  }
 ],
 "metadata": {
  "interpreter": {
   "hash": "26de051ba29f2982a8de78e945f0abaf191376122a1563185a90213a26c5da77"
  },
  "kernelspec": {
   "display_name": "Python 3.10.2 64-bit",
   "language": "python",
   "name": "python3"
  },
  "language_info": {
   "codemirror_mode": {
    "name": "ipython",
    "version": 3
   },
   "file_extension": ".py",
   "mimetype": "text/x-python",
   "name": "python",
   "nbconvert_exporter": "python",
   "pygments_lexer": "ipython3",
   "version": "3.10.2"
  },
  "orig_nbformat": 4
 },
 "nbformat": 4,
 "nbformat_minor": 2
}
