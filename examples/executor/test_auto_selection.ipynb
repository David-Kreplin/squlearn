{
 "cells": [
  {
   "cell_type": "code",
   "execution_count": null,
   "metadata": {},
   "outputs": [],
   "source": [
    "from squlearn import Executor\n",
    "\n",
    "from qiskit_ibm_runtime import QiskitRuntimeService,Sampler,Session\n",
    "\n",
    "from qiskit import QuantumCircuit\n",
    "\n",
    "service = QiskitRuntimeService(channel=\"ibm_quantum\")\n"
   ]
  },
  {
   "cell_type": "code",
   "execution_count": null,
   "metadata": {},
   "outputs": [],
   "source": [
    "l = service.backends()\n",
    "\n",
    "exec = Executor(l,max_session_time=200)"
   ]
  },
  {
   "cell_type": "code",
   "execution_count": null,
   "metadata": {},
   "outputs": [],
   "source": [
    "circ = QuantumCircuit(3)\n",
    "\n",
    "circ.h(range(3))\n",
    "circ.cx(0,1)\n",
    "circ.cx(1,2)\n",
    "circ.cx(2,0)\n",
    "circ.measure_all()\n",
    "\n",
    "transpiled_circ,info = exec.select_backend(circ)\n",
    "\n",
    "transpiled_circ.draw()"
   ]
  },
  {
   "cell_type": "code",
   "execution_count": null,
   "metadata": {},
   "outputs": [],
   "source": [
    "exec.backend "
   ]
  },
  {
   "cell_type": "code",
   "execution_count": null,
   "metadata": {},
   "outputs": [],
   "source": [
    "print(info)"
   ]
  },
  {
   "cell_type": "code",
   "execution_count": null,
   "metadata": {},
   "outputs": [],
   "source": [
    "sampler = exec.get_sampler()\n",
    "\n",
    "\n",
    "job = sampler.run(transpiled_circ)\n"
   ]
  },
  {
   "cell_type": "code",
   "execution_count": null,
   "metadata": {},
   "outputs": [],
   "source": []
  }
 ],
 "metadata": {
  "kernelspec": {
   "display_name": "Python 3",
   "language": "python",
   "name": "python3"
  },
  "language_info": {
   "codemirror_mode": {
    "name": "ipython",
    "version": 3
   },
   "file_extension": ".py",
   "mimetype": "text/x-python",
   "name": "python",
   "nbconvert_exporter": "python",
   "pygments_lexer": "ipython3",
   "version": "3.10.2"
  }
 },
 "nbformat": 4,
 "nbformat_minor": 2
}
