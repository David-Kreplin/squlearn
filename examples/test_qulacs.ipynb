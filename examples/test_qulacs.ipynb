{
 "cells": [
  {
   "cell_type": "code",
   "execution_count": 1,
   "metadata": {},
   "outputs": [],
   "source": [
    "from qulacs import Observable, QuantumCircuit, QuantumState, ParametricQuantumCircuit,QuantumCircuitSimulator\n",
    "from qulacs.gate import Y,CNOT,merge"
   ]
  },
  {
   "cell_type": "code",
   "execution_count": 2,
   "metadata": {},
   "outputs": [],
   "source": [
    "import numpy as np"
   ]
  },
  {
   "cell_type": "code",
   "execution_count": 3,
   "metadata": {},
   "outputs": [
    {
     "data": {
      "image/png": "[encoded data removed]",
      "text/plain": [
       "<Figure size 371.107x284.278 with 1 Axes>"
      ]
     },
     "execution_count": 3,
     "metadata": {},
     "output_type": "execute_result"
    }
   ],
   "source": [
    "from qiskit import QuantumCircuit\n",
    "from qiskit.circuit import ParameterVector\n",
    "\n",
    "\n",
    "p = ParameterVector('p',3)\n",
    "x = ParameterVector('x',3)\n",
    "\n",
    "qc = QuantumCircuit(3)\n",
    "\n",
    "qc.rx(p[0],0)\n",
    "qc.rx(p[1],1)\n",
    "qc.rx(p[2],2)\n",
    "\n",
    "qc.ry(x[0],0)\n",
    "qc.ry(x[1],1)\n",
    "qc.ry(x[2],2)\n",
    "\n",
    "qc.rx(np.cos(p[0]),0)\n",
    "qc.rx(np.sin(p[1]),1)\n",
    "qc.rx(2.0*p[2],2)\n",
    "\n",
    "\n",
    "#from qiskit.circuit.random import random_circuit\n",
    "#qc = random_circuit(3, 10, seed=41)\n",
    "qc.draw()"
   ]
  },
  {
   "cell_type": "code",
   "execution_count": 4,
   "metadata": {},
   "outputs": [],
   "source": [
    "# from squlearn.encoding_circuit import HubregtsenEncodingCircuit\n",
    "# from qiskit.circuit import ParameterVector\n",
    "\n",
    "\n",
    "\n",
    "# pqc = HubregtsenEncodingCircuit(3,2,2)\n",
    "\n",
    "# p = ParameterVector('p',3)\n",
    "# x = ParameterVector('x',pqc.num_features)\n",
    "\n",
    "# qc = pqc.get_circuit(p,x)\n",
    "# qc.draw()"
   ]
  },
  {
   "cell_type": "code",
   "execution_count": 5,
   "metadata": {},
   "outputs": [],
   "source": [
    "#print(pqc.num_parameters)\n",
    "#print(pqc.num_features)"
   ]
  },
  {
   "cell_type": "code",
   "execution_count": 6,
   "metadata": {},
   "outputs": [
    {
     "data": {
      "text/plain": [
       "SparsePauliOp(['III', 'IIZ', 'IZI', 'ZII'],\n",
       "              coeffs=[ParameterExpression(1.0*p[0]), ParameterExpression(1.0*p[1]),\n",
       " ParameterExpression(1.0*p[2]), ParameterExpression(1.0*p[3])])"
      ]
     },
     "execution_count": 6,
     "metadata": {},
     "output_type": "execute_result"
    }
   ],
   "source": [
    "from squlearn.observables import SummedPaulis\n",
    "\n",
    "obs = SummedPaulis(3,)\n",
    "\n",
    "obs.get_operator(ParameterVector('p',4))"
   ]
  },
  {
   "cell_type": "code",
   "execution_count": 7,
   "metadata": {},
   "outputs": [],
   "source": [
    "from qiskit.quantum_info import SparsePauliOp\n",
    "\n",
    "p_obs = ParameterVector('p_obs',9)\n",
    "\n",
    "obs = SparsePauliOp('ZZZ',)\n",
    "\n",
    "obs2= [\n",
    "    SparsePauliOp('IIZ',p_obs[0])+SparsePauliOp('IZI',p_obs[1])+SparsePauliOp('ZII',p_obs[2]),\n",
    "    SparsePauliOp('IIX',p_obs[3])+SparsePauliOp('IXI',p_obs[4])+SparsePauliOp('XII',p_obs[5]),\n",
    "    SparsePauliOp('IIY',p_obs[6])+SparsePauliOp('IYI',p_obs[7])+SparsePauliOp('YII',p_obs[8]),\n",
    "]"
   ]
  },
  {
   "cell_type": "code",
   "execution_count": 8,
   "metadata": {},
   "outputs": [
    {
     "data": {
      "text/plain": [
       "ParameterView([ParameterVectorElement(p_obs[2]), ParameterVectorElement(p_obs[0]), ParameterVectorElement(p_obs[1])])"
      ]
     },
     "execution_count": 8,
     "metadata": {},
     "output_type": "execute_result"
    }
   ],
   "source": [
    "obs2[0].parameters"
   ]
  },
  {
   "cell_type": "code",
   "execution_count": 9,
   "metadata": {},
   "outputs": [
    {
     "name": "stdout",
     "output_type": "stream",
     "text": [
      "self._qiskit_circuit      ┌──────────┐┌──────────┐┌───────────────┐\n",
      "q_0: ┤ Rx(p[0]) ├┤ Ry(x[0]) ├┤ Rx(cos(p[0])) ├\n",
      "     ├──────────┤├──────────┤├───────────────┤\n",
      "q_1: ┤ Rx(p[1]) ├┤ Ry(x[1]) ├┤ Rx(sin(p[1])) ├\n",
      "     ├──────────┤├──────────┤└┬──────────────┤\n",
      "q_2: ┤ Rx(p[2]) ├┤ Ry(x[2]) ├─┤ Rx(2.0*p[2]) ├\n",
      "     └──────────┘└──────────┘ └──────────────┘\n",
      "ParameterExpression\n",
      "ParameterExpression\n",
      "ParameterExpression\n",
      "ParameterExpression\n",
      "ParameterExpression\n",
      "ParameterExpression\n",
      "ParameterExpression\n",
      "ParameterExpression\n",
      "ParameterExpression\n",
      "self._qualcs_obs_parameters ['p_obs']\n",
      "self._symbol_tuple  (p_obs[2], p_obs[0], p_obs[1], p_obs[4], p_obs[3], p_obs[5], p_obs[6], p_obs[7], p_obs[8])\n",
      "obs: ParameterExpression\n",
      "obs: ParameterExpression\n",
      "obs: ParameterExpression\n",
      "obs: ParameterExpression\n",
      "obs: ParameterExpression\n",
      "obs: ParameterExpression\n",
      "obs: ParameterExpression\n",
      "obs: ParameterExpression\n",
      "obs: ParameterExpression\n",
      "test._operation_list [<function qulacs_param_gate_rx at 0x000001D89DC94550>, <function qulacs_param_gate_ry at 0x000001D89DC94670>, <function qulacs_param_gate_rx at 0x000001D89DC94550>, <function qulacs_param_gate_rx at 0x000001D89DC94550>, <function qulacs_param_gate_ry at 0x000001D89DC94670>, <function qulacs_param_gate_rx at 0x000001D89DC94550>, <function qulacs_param_gate_rx at 0x000001D89DC94550>, <function qulacs_param_gate_ry at 0x000001D89DC94670>, <function qulacs_param_gate_rx at 0x000001D89DC94550>]\n",
      "test._param_list []\n",
      "test._qubit_list [[0], [0], [0], [1], [1], [1], [2], [2], [2]]\n",
      "test._func_list [<function _lambdifygenerated at 0x000001D89E057550>, <function _lambdifygenerated at 0x000001D89DF61CA0>, <function _lambdifygenerated at 0x000001D89DF78D30>, <function _lambdifygenerated at 0x000001D89DF61040>, <function _lambdifygenerated at 0x000001D89DF253A0>, <function _lambdifygenerated at 0x000001D89DF33790>, <function _lambdifygenerated at 0x000001D89DF784C0>, <function _lambdifygenerated at 0x000001D89DF331F0>, <function _lambdifygenerated at 0x000001D89DF33AF0>]\n",
      "test._func_grad_list [[<function QulacsCircuit._add_parameter_expression.<locals>.<lambda> at 0x000001D89DF52D30>], [<function QulacsCircuit._add_parameter_expression.<locals>.<lambda> at 0x000001D89DF61A60>], [<function _lambdifygenerated at 0x000001D89DF78B80>], [<function QulacsCircuit._add_parameter_expression.<locals>.<lambda> at 0x000001D89DF61F70>], [<function QulacsCircuit._add_parameter_expression.<locals>.<lambda> at 0x000001D89DF25940>], [<function _lambdifygenerated at 0x000001D89DF25E50>], [<function QulacsCircuit._add_parameter_expression.<locals>.<lambda> at 0x000001D89DF78670>], [<function QulacsCircuit._add_parameter_expression.<locals>.<lambda> at 0x000001D89DF33670>], [<function QulacsCircuit._add_parameter_expression.<locals>.<lambda> at 0x000001D89DF33DC0>]]\n",
      "test._free_parameters {ParameterVectorElement(p[2]), ParameterVectorElement(p_obs[7]), ParameterVectorElement(p[0]), ParameterVectorElement(p[1]), ParameterVectorElement(p_obs[4]), ParameterVectorElement(x[1]), ParameterVectorElement(p_obs[2]), ParameterVectorElement(p_obs[1]), ParameterVectorElement(p_obs[3]), ParameterVectorElement(x[0]), ParameterVectorElement(p_obs[0]), ParameterVectorElement(p_obs[6]), ParameterVectorElement(x[2]), ParameterVectorElement(p_obs[5]), ParameterVectorElement(p_obs[8])}\n",
      "test._operators_imag [0.0, 0.0, 0.0]\n",
      "test._operators_real [0.0, 0.0, 0.0]\n",
      "test._operators_param [[<qulacs_core.Observable object at 0x000001D89DF2E4F0>, <qulacs_core.Observable object at 0x000001D89DFB43F0>, <qulacs_core.Observable object at 0x000001D89DF707F0>], [<qulacs_core.Observable object at 0x000001D89DF6C7B0>, <qulacs_core.Observable object at 0x000001D89DF77930>, <qulacs_core.Observable object at 0x000001D89DF7E0B0>], [<qulacs_core.Observable object at 0x000001D89DF77A30>, <qulacs_core.Observable object at 0x000001D89DFB3970>, <qulacs_core.Observable object at 0x000001D89DF706F0>]]\n",
      "test._operators_func [[<function _lambdifygenerated at 0x000001D89DF61AF0>, <function _lambdifygenerated at 0x000001D89DF61C10>, <function _lambdifygenerated at 0x000001D89DF33D30>], [<function _lambdifygenerated at 0x000001D89E0D5550>, <function _lambdifygenerated at 0x000001D89DF33820>, <function _lambdifygenerated at 0x000001D89DF52DC0>], [<function _lambdifygenerated at 0x000001D89DF78160>, <function _lambdifygenerated at 0x000001D89DF25820>, <function _lambdifygenerated at 0x000001D89E0D5F70>]]\n"
     ]
    }
   ],
   "source": [
    "\n",
    "from squlearn.util.qulacs import *\n",
    "\n",
    "\n",
    "\n",
    "test = QulacsCircuit(qc, obs2)\n",
    "\n",
    "\n",
    "print(\"test._operation_list\",test._operation_list)\n",
    "print(\"test._param_list\",test._param_list)\n",
    "print(\"test._qubit_list\",test._qubit_list)\n",
    "print(\"test._func_list\",test._func_list)\n",
    "print(\"test._func_grad_list\",test._func_grad_list)\n",
    "print(\"test._free_parameters\",test._free_parameters)\n",
    "\n",
    "print(\"test._operators_imag\",test._operators_imag)\n",
    "print(\"test._operators_real\",test._operators_real)\n",
    "print(\"test._operators_param\",test._operators_param)\n",
    "print(\"test._operators_func\",test._operators_param_func)"
   ]
  },
  {
   "cell_type": "code",
   "execution_count": 10,
   "metadata": {},
   "outputs": [
    {
     "data": {
      "text/plain": [
       "<function squlearn.util.qulacs.qulacs_circuit.QulacsCircuit.get_circuit_func.<locals>.qulacs_circuit(*args)>"
      ]
     },
     "execution_count": 10,
     "metadata": {},
     "output_type": "execute_result"
    }
   ],
   "source": [
    "test.get_circuit_func()"
   ]
  },
  {
   "cell_type": "code",
   "execution_count": 11,
   "metadata": {},
   "outputs": [
    {
     "name": "stdout",
     "output_type": "stream",
     "text": [
      "Adding Parameterized RX gate with angle -0.7080725777960455 on qubit 0\n",
      "Adding Parameterized RY gate with angle -0.8324426408004217 on qubit 0\n",
      "Adding Parameterized RX gate with angle -0.7596168254559781 on qubit 0\n",
      "Adding Parameterized RX gate with angle -0.020584494295802447 on qubit 1\n",
      "Adding Parameterized RY gate with angle -0.21233911067827616 on qubit 1\n",
      "Adding Parameterized RX gate with angle -0.020583040644791148 on qubit 1\n",
      "Adding Parameterized RX gate with angle -0.9699098521619943 on qubit 2\n",
      "Adding Parameterized RY gate with angle -0.18182496720710062 on qubit 2\n",
      "Adding Parameterized RX gate with angle -1.9398197043239886 on qubit 2\n",
      "(0.07308041412003322+0j)\n"
     ]
    }
   ],
   "source": [
    "np.random.seed(42)\n",
    "param_obs = np.array(np.random.random(9))\n",
    "param_val = np.array(np.random.random(3))\n",
    "x_val = np.array(np.random.random(3))\n",
    "\n",
    "circ = test.get_circuit_func()(param_val,x_val)\n",
    "\n",
    "state = QuantumState(3)\n",
    "sim = QuantumCircuitSimulator(circ, state)\n",
    "sim.initialize_state(0)\n",
    "sim.simulate()\n",
    "\n",
    "observable = Observable(3)\n",
    "observable.add_operator(1.0, \"Z 2 Z 1 Z 0\")\n",
    "\n",
    "print(sim.get_expectation_value(observable))\n",
    "\n"
   ]
  },
  {
   "cell_type": "code",
   "execution_count": 12,
   "metadata": {},
   "outputs": [
    {
     "name": "stdout",
     "output_type": "stream",
     "text": [
      "Adding Parameterized RX gate with angle -0.7080725777960455 on qubit 0\n",
      "Adding Parameterized RY gate with angle -0.8324426408004217 on qubit 0\n",
      "Adding Parameterized RX gate with angle -0.7596168254559781 on qubit 0\n",
      "Adding Parameterized RX gate with angle -0.020584494295802447 on qubit 1\n",
      "Adding Parameterized RY gate with angle -0.21233911067827616 on qubit 1\n",
      "Adding Parameterized RX gate with angle -0.020583040644791148 on qubit 1\n",
      "Adding Parameterized RX gate with angle -0.9699098521619943 on qubit 2\n",
      "Adding Parameterized RY gate with angle -0.18182496720710062 on qubit 2\n",
      "Adding Parameterized RX gate with angle -1.9398197043239886 on qubit 2\n"
     ]
    },
    {
     "data": {
      "text/plain": [
       "array([ 0.27833715,  0.22973725, -0.21599543])"
      ]
     },
     "execution_count": 12,
     "metadata": {},
     "output_type": "execute_result"
    }
   ],
   "source": [
    "evaluate_circuit(test,param_val,x_val,param_obs)"
   ]
  },
  {
   "cell_type": "code",
   "execution_count": 13,
   "metadata": {},
   "outputs": [
    {
     "name": "stderr",
     "output_type": "stream",
     "text": [
      "C:\\Users\\DKR\\AppData\\Local\\Temp\\ipykernel_26096\\2447760288.py:6: DeprecationWarning: The class ``qiskit.primitives.estimator.Estimator`` is deprecated as of qiskit 1.2. It will be removed no earlier than 3 months after the release date. All implementations of the `BaseEstimatorV1` interface have been deprecated in favor of their V2 counterparts. The V2 alternative for the `Estimator` class is `StatevectorEstimator`.\n",
      "  est = Estimator()\n"
     ]
    },
    {
     "data": {
      "text/plain": [
       "array([ 0.27833715,  0.22973725, -0.21599543])"
      ]
     },
     "execution_count": 13,
     "metadata": {},
     "output_type": "execute_result"
    }
   ],
   "source": [
    "from qiskit.primitives import Estimator\n",
    "from qiskit.quantum_info import SparsePauliOp\n",
    "\n",
    "val = np.concatenate([param_val,x_val])\n",
    "\n",
    "est = Estimator()\n",
    "\n",
    "obs3 = []\n",
    "\n",
    "ioff = 0\n",
    "for i,o in enumerate(obs2):\n",
    "    obs3.append(o.assign_parameters({o.parameters[0]:param_obs[ioff],\n",
    "                                     o.parameters[1]:param_obs[ioff+1],\n",
    "                                     o.parameters[2]:param_obs[ioff+2],}))\n",
    "    ioff+=3\n",
    "\n",
    "est.run([qc]*len(obs2),obs3,[val]*len(obs2)).result().values"
   ]
  }
 ],
 "metadata": {
  "kernelspec": {
   "display_name": ".venv",
   "language": "python",
   "name": "python3"
  },
  "language_info": {
   "codemirror_mode": {
    "name": "ipython",
    "version": 3
   },
   "file_extension": ".py",
   "mimetype": "text/x-python",
   "name": "python",
   "nbconvert_exporter": "python",
   "pygments_lexer": "ipython3",
   "version": "3.9.13"
  }
 },
 "nbformat": 4,
 "nbformat_minor": 2
}
