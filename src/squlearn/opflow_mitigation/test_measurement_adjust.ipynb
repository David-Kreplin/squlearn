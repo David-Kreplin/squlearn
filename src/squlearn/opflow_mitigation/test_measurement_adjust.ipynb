{
 "cells": [
  {
   "cell_type": "code",
   "execution_count": 1,
   "metadata": {},
   "outputs": [
    {
     "data": {
      "text/plain": [
       "<qiskit.circuit.instructionset.InstructionSet at 0x293151f12d0>"
      ]
     },
     "execution_count": 1,
     "metadata": {},
     "output_type": "execute_result"
    }
   ],
   "source": [
    "from qiskit.circuit.random import random_circuit\n",
    "from qiskit.quantum_info import SparsePauliOp\n",
    "from qiskit import QuantumCircuit\n",
    "\n",
    "from qiskit.primitives import BackendEstimator, Estimator, Sampler\n",
    "from qiskit import Aer\n",
    "\n",
    "from squlearn.util.optree import *\n",
    "from squlearn.util.optree.optree import *\n",
    "from squlearn.util.optree.optree_derivative import *\n",
    "from squlearn.util.optree.optree_evaluate import *\n",
    "\n",
    "# circuit = random_circuit(4, 2, seed=12)\n",
    "# circuit.draw()\n",
    "\n",
    "pqc_param = ParameterVector(\"θ\", 4)\n",
    "\n",
    "circuit = QuantumCircuit(4)\n",
    "circuit.h([0, 1, 2, 3])\n",
    "circuit.u(0.5, 0.5, 0.5, [0, 1, 2, 3])\n",
    "circuit.cx(0, 1)\n",
    "circuit.cx(2, 3)\n",
    "circuit.cx(1, 2)\n",
    "\n",
    "circuit2 = circuit.copy()\n",
    "\n",
    "circuit.ry(pqc_param[0], 0)\n",
    "circuit.ry(pqc_param[1], 1)\n",
    "circuit.ry(pqc_param[2], 2)\n",
    "circuit.ry(pqc_param[3], 3)\n",
    "circuit.draw()\n",
    "\n",
    "circuit2.rx(pqc_param[0], 0)\n",
    "circuit2.rx(pqc_param[1], 1)\n",
    "circuit2.rx(pqc_param[2], 2)\n",
    "circuit2.rx(pqc_param[3], 3)"
   ]
  },
  {
   "cell_type": "code",
   "execution_count": 2,
   "metadata": {},
   "outputs": [],
   "source": [
    "param1 = {pqc_param[0]: 0.5, pqc_param[1]: 0.5, pqc_param[2]: 0.5, pqc_param[3]: 0.5}\n",
    "param2 = {pqc_param[0]: 0.15, pqc_param[1]: 0.15, pqc_param[2]: 0.85, pqc_param[3]: 0.95}"
   ]
  },
  {
   "cell_type": "code",
   "execution_count": 3,
   "metadata": {},
   "outputs": [],
   "source": [
    "op_param = ParameterVector(\"p\", 3)\n",
    "op = SparsePauliOp([\"XXXX\", \"YYYY\", \"IIYY\"], [op_param[0], op_param[1], op_param[2]])\n",
    "op_dict1 = {op_param[0]: 0.5, op_param[1]: 0.5, op_param[2]: 0.5}\n",
    "op_dict2 = {op_param[0]: 0.25, op_param[1]: 0.25, op_param[2]: 0.25}"
   ]
  },
  {
   "cell_type": "code",
   "execution_count": 4,
   "metadata": {},
   "outputs": [],
   "source": [
    "op.num_qubits\n",
    "op_clean = SparsePauliOp([\"ZZZZ\", \"ZZZI\", \"IIZZ\"], [op_param[0], op_param[1], op_param[2]])\n",
    "op_clean_param = ParameterVector(\"p\", 3)\n",
    "op_clean_dict1 = {op_clean_param[0]: 0.5, op_clean_param[1]: 0.2, op_clean_param[2]: 0.3}\n",
    "op_clean_dict2 = {op_clean_param[0]: 0.12, op_clean_param[1]: 0.8, op_clean_param[2]: -0.3}"
   ]
  },
  {
   "cell_type": "code",
   "execution_count": 5,
   "metadata": {},
   "outputs": [],
   "source": [
    "op_clean2 = SparsePauliOp([\"IIZZ\", \"ZZII\"], [0.1, 0.2])"
   ]
  },
  {
   "cell_type": "code",
   "execution_count": 6,
   "metadata": {},
   "outputs": [],
   "source": [
    "opdic1 = copy.copy(op_dict1)\n",
    "opdic1.update(op_clean_dict1)\n",
    "\n",
    "opdic2 = copy.copy(op_dict2)\n",
    "opdic2.update(op_clean_dict2)"
   ]
  },
  {
   "cell_type": "code",
   "execution_count": 7,
   "metadata": {},
   "outputs": [
    {
     "name": "stdout",
     "output_type": "stream",
     "text": [
      "(1.0*\n",
      "     ┌───┐┌─┐         \n",
      "q_0: ┤ H ├┤M├─────────\n",
      "     ├───┤└╥┘┌─┐      \n",
      "q_1: ┤ H ├─╫─┤M├──────\n",
      "     ├───┤ ║ └╥┘┌─┐   \n",
      "q_2: ┤ H ├─╫──╫─┤M├───\n",
      "     ├───┤ ║  ║ └╥┘┌─┐\n",
      "q_3: ┤ H ├─╫──╫──╫─┤M├\n",
      "     └───┘ ║  ║  ║ └╥┘\n",
      "c: 4/══════╩══╩══╩══╩═\n",
      "           0  1  2  3 \n",
      "\n",
      " with observable \n",
      "SparsePauliOp(['ZZZZ'],\n",
      "              coeffs=[ParameterExpression(1.0*p[0])])\n",
      " + 1.0*\n",
      "     ┌─────┐┌───┐┌─┐         \n",
      "q_0: ┤ Sdg ├┤ H ├┤M├─────────\n",
      "     ├─────┤├───┤└╥┘┌─┐      \n",
      "q_1: ┤ Sdg ├┤ H ├─╫─┤M├──────\n",
      "     ├─────┤├───┤ ║ └╥┘┌─┐   \n",
      "q_2: ┤ Sdg ├┤ H ├─╫──╫─┤M├───\n",
      "     ├─────┤├───┤ ║  ║ └╥┘┌─┐\n",
      "q_3: ┤ Sdg ├┤ H ├─╫──╫──╫─┤M├\n",
      "     └─────┘└───┘ ║  ║  ║ └╥┘\n",
      "c: 4/═════════════╩══╩══╩══╩═\n",
      "                  0  1  2  3 \n",
      "\n",
      " with observable \n",
      "SparsePauliOp(['ZZZZ', 'IIZZ'],\n",
      "              coeffs=[ParameterExpression(1.0*p[1]), ParameterExpression(1.0*p[2])])\n",
      ")\n"
     ]
    }
   ],
   "source": [
    "test = transform_operator_to_zbasis(op)\n",
    "print(test)"
   ]
  },
  {
   "cell_type": "markdown",
   "metadata": {},
   "source": []
  },
  {
   "cell_type": "code",
   "execution_count": 8,
   "metadata": {},
   "outputs": [
    {
     "name": "stdout",
     "output_type": "stream",
     "text": [
      "\n",
      "     ┌───┐┌────────────────┐     ┌──────────┐            \n",
      "q_0: ┤ H ├┤ U(0.5,0.5,0.5) ├──■──┤ Ry(θ[0]) ├────────────\n",
      "     ├───┤├────────────────┤┌─┴─┐└──────────┘┌──────────┐\n",
      "q_1: ┤ H ├┤ U(0.5,0.5,0.5) ├┤ X ├─────■──────┤ Ry(θ[1]) ├\n",
      "     ├───┤├────────────────┤└───┘   ┌─┴─┐    ├──────────┤\n",
      "q_2: ┤ H ├┤ U(0.5,0.5,0.5) ├──■─────┤ X ├────┤ Ry(θ[2]) ├\n",
      "     ├───┤├────────────────┤┌─┴─┐┌──┴───┴───┐└──────────┘\n",
      "q_3: ┤ H ├┤ U(0.5,0.5,0.5) ├┤ X ├┤ Ry(θ[3]) ├────────────\n",
      "     └───┘└────────────────┘└───┘└──────────┘            \n",
      "\n",
      " with observable \n",
      "SparsePauliOp(['XXXX', 'YYYY', 'IIYY'],\n",
      "              coeffs=[ParameterExpression(1.0*p[0]), ParameterExpression(1.0*p[1]),\n",
      " ParameterExpression(1.0*p[2])])\n",
      "\n"
     ]
    }
   ],
   "source": [
    "tree = OpTreeLeafExpectationValue(circuit, op)\n",
    "print(tree)"
   ]
  },
  {
   "cell_type": "code",
   "execution_count": 9,
   "metadata": {},
   "outputs": [
    {
     "name": "stdout",
     "output_type": "stream",
     "text": [
      "(1.0*\n",
      "     ┌───┐┌────────────────┐     ┌──────────┐   ┌───┐    ┌─┐           \n",
      "q_0: ┤ H ├┤ U(0.5,0.5,0.5) ├──■──┤ Ry(θ[0]) ├───┤ H ├────┤M├───────────\n",
      "     ├───┤├────────────────┤┌─┴─┐└──────────┘┌──┴───┴───┐└╥┘┌───┐┌─┐   \n",
      "q_1: ┤ H ├┤ U(0.5,0.5,0.5) ├┤ X ├─────■──────┤ Ry(θ[1]) ├─╫─┤ H ├┤M├───\n",
      "     ├───┤├────────────────┤└───┘   ┌─┴─┐    ├──────────┤ ║ ├───┤└╥┘┌─┐\n",
      "q_2: ┤ H ├┤ U(0.5,0.5,0.5) ├──■─────┤ X ├────┤ Ry(θ[2]) ├─╫─┤ H ├─╫─┤M├\n",
      "     ├───┤├────────────────┤┌─┴─┐┌──┴───┴───┐└──┬───┬───┘ ║ └┬─┬┘ ║ └╥┘\n",
      "q_3: ┤ H ├┤ U(0.5,0.5,0.5) ├┤ X ├┤ Ry(θ[3]) ├───┤ H ├─────╫──┤M├──╫──╫─\n",
      "     └───┘└────────────────┘└───┘└──────────┘   └───┘     ║  └╥┘  ║  ║ \n",
      "c: 4/═════════════════════════════════════════════════════╩═══╩═══╩══╩═\n",
      "                                                          0   3   1  2 \n",
      "\n",
      " with observable \n",
      "SparsePauliOp(['ZZZZ'],\n",
      "              coeffs=[ParameterExpression(1.0*p[0])])\n",
      " + 1.0*\n",
      "     ┌───┐┌────────────────┐     ┌──────────┐  ┌─────┐    ┌───┐ ┌─┐           \n",
      "q_0: ┤ H ├┤ U(0.5,0.5,0.5) ├──■──┤ Ry(θ[0]) ├──┤ Sdg ├────┤ H ├─┤M├───────────\n",
      "     ├───┤├────────────────┤┌─┴─┐└──────────┘┌─┴─────┴──┐┌┴───┴┐└╥┘┌───┐┌─┐   \n",
      "q_1: ┤ H ├┤ U(0.5,0.5,0.5) ├┤ X ├─────■──────┤ Ry(θ[1]) ├┤ Sdg ├─╫─┤ H ├┤M├───\n",
      "     ├───┤├────────────────┤└───┘   ┌─┴─┐    ├──────────┤├─────┤ ║ ├───┤└╥┘┌─┐\n",
      "q_2: ┤ H ├┤ U(0.5,0.5,0.5) ├──■─────┤ X ├────┤ Ry(θ[2]) ├┤ Sdg ├─╫─┤ H ├─╫─┤M├\n",
      "     ├───┤├────────────────┤┌─┴─┐┌──┴───┴───┐└─┬─────┬──┘└┬───┬┘ ║ └┬─┬┘ ║ └╥┘\n",
      "q_3: ┤ H ├┤ U(0.5,0.5,0.5) ├┤ X ├┤ Ry(θ[3]) ├──┤ Sdg ├────┤ H ├──╫──┤M├──╫──╫─\n",
      "     └───┘└────────────────┘└───┘└──────────┘  └─────┘    └───┘  ║  └╥┘  ║  ║ \n",
      "c: 4/════════════════════════════════════════════════════════════╩═══╩═══╩══╩═\n",
      "                                                                 0   3   1  2 \n",
      "\n",
      " with observable \n",
      "SparsePauliOp(['ZZZZ', 'IIZZ'],\n",
      "              coeffs=[ParameterExpression(1.0*p[1]), ParameterExpression(1.0*p[2])])\n",
      ")\n"
     ]
    }
   ],
   "source": [
    "adjust_tree = transform_tree_to_zbasis(tree, abelian_grouping=False)\n",
    "print(adjust_tree)"
   ]
  },
  {
   "cell_type": "code",
   "execution_count": 10,
   "metadata": {},
   "outputs": [
    {
     "name": "stdout",
     "output_type": "stream",
     "text": [
      "pre-processing 0.0029993057250976562\n",
      "Number of circuits in the estimator: 24\n",
      "Estimator run time 0.03299832344055176\n",
      "post processing 0.0\n"
     ]
    },
    {
     "data": {
      "text/plain": [
       "array([[[[-0.26725525, -0.06118615,  0.06180155],\n",
       "         [-0.25791181,  0.0742432 , -0.00303811]],\n",
       "\n",
       "        [[-0.13362763, -0.03059308,  0.06180155],\n",
       "         [-0.1289559 ,  0.0371216 , -0.00303811]]],\n",
       "\n",
       "\n",
       "       [[[-0.17570876, -0.22534089,  0.07574052],\n",
       "         [-0.06085567, -0.00219049, -0.0147152 ]],\n",
       "\n",
       "        [[-0.08785438, -0.11267045,  0.07574052],\n",
       "         [-0.03042783, -0.00109525, -0.0147152 ]]]])"
      ]
     },
     "execution_count": 10,
     "metadata": {},
     "output_type": "execute_result"
    }
   ],
   "source": [
    "evaluate_estimator(\n",
    "    OpTreeNodeList([circuit, circuit2]),\n",
    "    OpTreeNodeList([op, op_clean, op_clean2]),\n",
    "    [param1, param2],\n",
    "    [opdic1, opdic2],\n",
    "    Estimator(),\n",
    "    dictionaries_combined=False,\n",
    ")"
   ]
  },
  {
   "cell_type": "markdown",
   "metadata": {},
   "source": []
  },
  {
   "cell_type": "code",
   "execution_count": 11,
   "metadata": {},
   "outputs": [
    {
     "name": "stdout",
     "output_type": "stream",
     "text": [
      "pre-processing 0.002001047134399414\n",
      "Total number of circuits: 6\n",
      "sampler run time 0.08499956130981445\n",
      "circuit_operator_list[index_slice] [[[0], [1], [2, 3]], [[0], [1], [2, 3]]]\n",
      "expec [[ 0.02610168 -0.29335694 -0.06118615  0.06180155]\n",
      " [ 0.09946798 -0.35737979  0.0742432  -0.00303811]]\n",
      "expec2 [array([-0.26725525, -0.06118615,  0.06180155]), array([-0.25791181,  0.0742432 , -0.00303811])]\n",
      "post processing 0.0030007362365722656\n"
     ]
    },
    {
     "data": {
      "text/plain": [
       "array([[-0.26725525, -0.06118615,  0.06180155],\n",
       "       [-0.25791181,  0.0742432 , -0.00303811]])"
      ]
     },
     "execution_count": 11,
     "metadata": {},
     "output_type": "execute_result"
    }
   ],
   "source": [
    "evaluate_sampler(\n",
    "    OpTreeNodeList([circuit, circuit2]),\n",
    "    OpTreeNodeList([test, op_clean, op_clean2]),\n",
    "    param1,\n",
    "    opdic1,\n",
    "    Sampler(),\n",
    "    dictionaries_combined=False,\n",
    ")"
   ]
  },
  {
   "cell_type": "code",
   "execution_count": 12,
   "metadata": {},
   "outputs": [
    {
     "name": "stdout",
     "output_type": "stream",
     "text": [
      "pre-processing 0.0019991397857666016\n",
      "Total number of circuits: 6\n",
      "sampler run time 0.024000167846679688\n",
      "circuit_operator_list[index_slice] [[[0], [1], [2, 3]], [[0], [1], [2, 3]]]\n",
      "expec [[ 0.05882409 -0.14667847 -0.11267045  0.07574052]\n",
      " [ 0.04973399 -0.08016182 -0.00109525 -0.0147152 ]]\n",
      "expec2 [array([-0.08785438, -0.11267045,  0.07574052]), array([-0.03042783, -0.00109525, -0.0147152 ])]\n",
      "post processing 0.0020012855529785156\n"
     ]
    },
    {
     "data": {
      "text/plain": [
       "array([[-0.08785438, -0.11267045,  0.07574052],\n",
       "       [-0.03042783, -0.00109525, -0.0147152 ]])"
      ]
     },
     "execution_count": 12,
     "metadata": {},
     "output_type": "execute_result"
    }
   ],
   "source": [
    "evaluate_sampler(\n",
    "    OpTreeNodeList([circuit, circuit2]),\n",
    "    OpTreeNodeList([test, op_clean, op_clean2]),\n",
    "    param2,\n",
    "    opdic2,\n",
    "    Sampler(),\n",
    "    dictionaries_combined=False,\n",
    ")"
   ]
  },
  {
   "cell_type": "code",
   "execution_count": 13,
   "metadata": {},
   "outputs": [
    {
     "name": "stdout",
     "output_type": "stream",
     "text": [
      "pre-processing 0.0050008296966552734\n",
      "Total number of circuits: 12\n",
      "sampler run time 0.02899909019470215\n",
      "circuit_operator_list[index_slice] [[[0], [1], [2, 3]], [[0], [1], [2, 3]], [[0], [1], [2, 3]], [[0], [1], [2, 3]]]\n",
      "expec [[ 0.02610168 -0.29335694 -0.06118615  0.06180155]\n",
      " [ 0.09946798 -0.35737979  0.0742432  -0.00303811]\n",
      " [ 0.11764818 -0.29335694 -0.22534089  0.07574052]\n",
      " [ 0.09946798 -0.16032365 -0.00219049 -0.0147152 ]]\n",
      "expec2 [array([-0.26725525, -0.06118615,  0.06180155]), array([-0.25791181,  0.0742432 , -0.00303811]), array([-0.17570876, -0.22534089,  0.07574052]), array([-0.06085567, -0.00219049, -0.0147152 ])]\n",
      "circuit_operator_list[index_slice] [[[0], [1], [2, 3]], [[0], [1], [2, 3]], [[0], [1], [2, 3]], [[0], [1], [2, 3]]]\n",
      "expec [[ 0.01305084 -0.14667847 -0.03059308  0.06180155]\n",
      " [ 0.04973399 -0.17868989  0.0371216  -0.00303811]\n",
      " [ 0.05882409 -0.14667847 -0.11267045  0.07574052]\n",
      " [ 0.04973399 -0.08016182 -0.00109525 -0.0147152 ]]\n",
      "expec2 [array([-0.13362763, -0.03059308,  0.06180155]), array([-0.1289559 ,  0.0371216 , -0.00303811]), array([-0.08785438, -0.11267045,  0.07574052]), array([-0.03042783, -0.00109525, -0.0147152 ])]\n",
      "post processing 0.005001068115234375\n"
     ]
    },
    {
     "data": {
      "text/plain": [
       "array([[[[-0.26725525, -0.06118615,  0.06180155],\n",
       "         [-0.25791181,  0.0742432 , -0.00303811]],\n",
       "\n",
       "        [[-0.13362763, -0.03059308,  0.06180155],\n",
       "         [-0.1289559 ,  0.0371216 , -0.00303811]]],\n",
       "\n",
       "\n",
       "       [[[-0.17570876, -0.22534089,  0.07574052],\n",
       "         [-0.06085567, -0.00219049, -0.0147152 ]],\n",
       "\n",
       "        [[-0.08785438, -0.11267045,  0.07574052],\n",
       "         [-0.03042783, -0.00109525, -0.0147152 ]]]])"
      ]
     },
     "execution_count": 13,
     "metadata": {},
     "output_type": "execute_result"
    }
   ],
   "source": [
    "evaluate_sampler(\n",
    "    OpTreeNodeList([circuit, circuit2]),\n",
    "    OpTreeNodeList([test, op_clean, op_clean2]),\n",
    "    [param1, param2],\n",
    "    [opdic1, opdic2],\n",
    "    Sampler(),\n",
    "    dictionaries_combined=False,\n",
    ")"
   ]
  },
  {
   "cell_type": "code",
   "execution_count": 14,
   "metadata": {},
   "outputs": [
    {
     "name": "stdout",
     "output_type": "stream",
     "text": [
      "Pre-processing:  0.010999441146850586\n",
      "Number of circuits in the estimator: 16\n",
      "Run time of estimator: 0.021997928619384766\n",
      "Post-processing:  0.0\n"
     ]
    },
    {
     "data": {
      "text/plain": [
       "array([[[-0.26725525, -0.06118615,  0.06180155],\n",
       "        [-0.25791181,  0.0742432 , -0.00303811]],\n",
       "\n",
       "       [[-0.26725525, -0.06118615,  0.06180155],\n",
       "        [-0.25791181,  0.0742432 , -0.00303811]]])"
      ]
     },
     "execution_count": 14,
     "metadata": {},
     "output_type": "execute_result"
    }
   ],
   "source": [
    "expec_tree = gen_expectation_tree(\n",
    "    OpTreeNodeList([circuit, circuit2]), OpTreeNodeList([test, op_clean, op_clean2])\n",
    ")\n",
    "\n",
    "full_dict = param1.copy()\n",
    "full_dict.update(opdic1)\n",
    "\n",
    "evaluate_expectation_tree_from_estimator(expec_tree, [full_dict, full_dict], Estimator())"
   ]
  },
  {
   "cell_type": "code",
   "execution_count": 15,
   "metadata": {},
   "outputs": [
    {
     "name": "stdout",
     "output_type": "stream",
     "text": [
      "Number of circuits in sampler call: 12\n",
      "run time 0.039003849029541016\n",
      "Post-processing 0.0019991397857666016\n"
     ]
    },
    {
     "data": {
      "text/plain": [
       "array([[[-0.26725525, -0.06118615,  0.06180155],\n",
       "        [-0.25791181,  0.0742432 , -0.00303811]],\n",
       "\n",
       "       [[-0.26725525, -0.06118615,  0.06180155],\n",
       "        [-0.25791181,  0.0742432 , -0.00303811]]])"
      ]
     },
     "execution_count": 15,
     "metadata": {},
     "output_type": "execute_result"
    }
   ],
   "source": [
    "evaluate_expectation_tree_from_sampler(expec_tree, [full_dict, full_dict], Sampler())"
   ]
  },
  {
   "cell_type": "code",
   "execution_count": 16,
   "metadata": {},
   "outputs": [
    {
     "name": "stdout",
     "output_type": "stream",
     "text": [
      "Number of circuits in sampler call: 6\n",
      "run time 0.01999974250793457\n",
      "Post-processing 0.0010018348693847656\n"
     ]
    },
    {
     "data": {
      "text/plain": [
       "array([[-0.26725525, -0.06118615,  0.06180155],\n",
       "       [-0.25791181,  0.0742432 , -0.00303811]])"
      ]
     },
     "execution_count": 16,
     "metadata": {},
     "output_type": "execute_result"
    }
   ],
   "source": [
    "evaluate_expectation_tree_from_sampler(expec_tree, full_dict, Sampler())"
   ]
  },
  {
   "cell_type": "markdown",
   "metadata": {},
   "source": []
  },
  {
   "cell_type": "code",
   "execution_count": 17,
   "metadata": {},
   "outputs": [],
   "source": [
    "# evaluate_expectation_tree_from_estimator(tree,{},Estimator())"
   ]
  },
  {
   "cell_type": "code",
   "execution_count": 18,
   "metadata": {},
   "outputs": [],
   "source": [
    "# # Create a backend estimator\n",
    "# backend = Aer.get_backend('statevector_simulator')\n",
    "# estimator = BackendEstimator(backend=backend,options={'shots':1000000})\n",
    "\n",
    "# job = estimator.run(circuit,op)"
   ]
  },
  {
   "cell_type": "code",
   "execution_count": 19,
   "metadata": {},
   "outputs": [],
   "source": [
    "# job.result().values"
   ]
  }
 ],
 "metadata": {
  "kernelspec": {
   "display_name": "Python 3",
   "language": "python",
   "name": "python3"
  },
  "language_info": {
   "codemirror_mode": {
    "name": "ipython",
    "version": 3
   },
   "file_extension": ".py",
   "mimetype": "text/x-python",
   "name": "python",
   "nbconvert_exporter": "python",
   "pygments_lexer": "ipython3",
   "version": "3.10.2"
  },
  "orig_nbformat": 4
 },
 "nbformat": 4,
 "nbformat_minor": 2
}
