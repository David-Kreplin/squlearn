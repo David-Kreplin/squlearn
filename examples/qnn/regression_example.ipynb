{
 "cells": [
  {
   "cell_type": "markdown",
   "metadata": {},
   "source": [
    "# Example: Regression with `QNNRegressor`\n",
    "\n",
    "In this example we show how to train the `QNNRegressor` to fit a logarithm. We will also use this demonstrator to show what happens if a QNN, that was trained on a noiseless simulator is executed on a noisy simulator.\n",
    "\n",
    "## Imports"
   ]
  },
  {
   "cell_type": "code",
   "execution_count": null,
   "metadata": {},
   "outputs": [],
   "source": [
    "import numpy as np\n",
    "import matplotlib.pyplot as plt\n",
    "\n",
    "from squlearn import Executor\n",
    "from squlearn.encoding_circuit import ChebyshevPQC\n",
    "from squlearn.observables import IsingHamiltonian, SummedPaulis\n",
    "from squlearn.qnn import QNNRegressor, SquaredLoss\n",
    "from squlearn.optimizers import SLSQP, Adam, SPSA#\n",
    "\n",
    "import pennylane as qml"
   ]
  },
  {
   "attachments": {},
   "cell_type": "markdown",
   "metadata": {},
   "source": [
    "## `QNNRegressor` Setup\n",
    "\n",
    "We start by defining a parameterized quantum circuit (PQC)"
   ]
  },
  {
   "cell_type": "code",
   "execution_count": null,
   "metadata": {},
   "outputs": [],
   "source": [
    "executor = Executor(qml.device(\"default.qubit\",wires=4))\n",
    "nqubits = 4\n",
    "number_of_layers = 3\n",
    "pqc = ChebyshevPQC(nqubits, 1, num_layers=number_of_layers)\n",
    "ising_op = SummedPaulis(nqubits)#, I=\"S\", Z=\"S\", ZZ=\"S\")\n",
    "np.random.seed(13)\n",
    "param_ini = np.random.rand(pqc.num_parameters)\n",
    "param_op_ini = np.random.rand(ising_op.num_parameters)\n",
    "reg = QNNRegressor(pqc, ising_op, executor, SquaredLoss(), SLSQP({\"maxiter\":20}), param_ini, param_op_ini,variance=0.005)\n",
    "x_space = np.arange(0.1, 0.9, 0.1)\n",
    "ref_values = np.log(x_space)\n",
    "reg.fit(x_space, ref_values)\n",
    "reg.param"
   ]
  },
  {
   "cell_type": "code",
   "execution_count": null,
   "metadata": {},
   "outputs": [],
   "source": [
    "#executor = Executor(qml.device(\"default.qubit\",wires=4))\n",
    "executor = Executor(qml.device(\"lightning.qubit\",wires=4))\n",
    "nqubits = 4\n",
    "number_of_layers = 3\n",
    "pqc = ChebyshevPQC(nqubits, 1, num_layers=number_of_layers)\n",
    "ising_op = SummedPaulis(nqubits)#, I=\"S\", Z=\"S\", ZZ=\"S\")\n",
    "np.random.seed(13)\n",
    "param_ini = np.random.rand(pqc.num_parameters)\n",
    "param_op_ini = np.random.rand(ising_op.num_parameters)\n",
    "reg = QNNRegressor(pqc, ising_op, executor, SquaredLoss(), SLSQP({\"maxiter\":20}), param_ini, param_op_ini,variance=0.005)\n",
    "x_space = np.arange(0.1, 0.9, 0.1)\n",
    "ref_values = np.log(x_space)\n",
    "reg.fit(x_space, ref_values)\n",
    "reg.param"
   ]
  },
  {
   "cell_type": "code",
   "execution_count": 4,
   "metadata": {},
   "outputs": [],
   "source": [
    "#executor = Executor(qml.device(\"default.qubit\",wires=4))\n",
    "executor = Executor(qml.device(\"braket.local.qubit\",wires=4))\n",
    "nqubits = 4\n",
    "number_of_layers = 3\n",
    "pqc = ChebyshevPQC(nqubits, 1, num_layers=number_of_layers)\n",
    "ising_op = SummedPaulis(nqubits)#, I=\"S\", Z=\"S\", ZZ=\"S\")\n",
    "np.random.seed(13)\n",
    "param_ini = np.random.rand(pqc.num_parameters)\n",
    "param_op_ini = np.random.rand(ising_op.num_parameters)\n",
    "reg = QNNRegressor(pqc, ising_op, executor, SquaredLoss(), SLSQP({\"maxiter\":20}), param_ini, param_op_ini,variance=0.005)\n",
    "x_space = np.arange(0.1, 0.9, 0.1)\n",
    "ref_values = np.log(x_space)\n",
    "reg.fit(x_space, ref_values)\n",
    "reg.param"
   ]
  },
  {
   "cell_type": "code",
   "execution_count": null,
   "metadata": {},
   "outputs": [],
   "source": [
    "executor = Executor(\"statevector_simulator\")\n",
    "nqubits = 4\n",
    "number_of_layers = 3\n",
    "pqc = ChebyshevPQC(nqubits, 1, num_layers=number_of_layers)\n",
    "ising_op = SummedPaulis(nqubits)#, I=\"S\", Z=\"S\", ZZ=\"S\")\n",
    "np.random.seed(13)\n",
    "param_ini = np.random.rand(pqc.num_parameters)\n",
    "param_op_ini = np.random.rand(ising_op.num_parameters)\n",
    "reg = QNNRegressor(pqc, ising_op, executor, SquaredLoss(), SLSQP({\"maxiter\":5}), param_ini, param_op_ini,variance=0.005)\n",
    "x_space = np.arange(0.1, 0.9, 0.1)\n",
    "ref_values = np.log(x_space)\n",
    "reg.fit(x_space, ref_values)"
   ]
  },
  {
   "cell_type": "code",
   "execution_count": null,
   "metadata": {},
   "outputs": [],
   "source": [
    "reg._qnn.evaluate(x_space, param_ini, param_op_ini,\"dfdp\")"
   ]
  }
 ],
 "metadata": {
  "interpreter": {
   "hash": "26de051ba29f2982a8de78e945f0abaf191376122a1563185a90213a26c5da77"
  },
  "kernelspec": {
   "display_name": "Python 3.10.2 64-bit",
   "language": "python",
   "name": "python3"
  },
  "language_info": {
   "codemirror_mode": {
    "name": "ipython",
    "version": 3
   },
   "file_extension": ".py",
   "mimetype": "text/x-python",
   "name": "python",
   "nbconvert_exporter": "python",
   "pygments_lexer": "ipython3",
   "version": "3.10.2"
  },
  "orig_nbformat": 4
 },
 "nbformat": 4,
 "nbformat_minor": 2
}
