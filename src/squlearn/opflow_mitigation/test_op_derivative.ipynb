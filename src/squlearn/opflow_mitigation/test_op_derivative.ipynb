{
 "cells": [
  {
   "cell_type": "code",
   "execution_count": null,
   "metadata": {},
   "outputs": [],
   "source": [
    "import numpy as np\n",
    "from qiskit.circuit import ParameterVector\n",
    "from qiskit.quantum_info import SparsePauliOp\n",
    "from qiskit.primitives import Estimator,Sampler\n",
    "\n",
    "from squlearn.util.optree.optree_derivative import derivative\n",
    "from squlearn.util.optree.optree_evaluate import *\n",
    "from squlearn.util.optree import *\n",
    "from squlearn.util.optree.optree import *\n",
    "\n",
    "from squlearn.expectation_operator import SummedPaulis\n",
    "from squlearn.feature_map import ChebRx"
   ]
  },
  {
   "cell_type": "code",
   "execution_count": null,
   "metadata": {},
   "outputs": [],
   "source": [
    "op = SummedPaulis(2)\n",
    "pop=ParameterVector('pop', op.num_parameters)\n",
    "e = simplify_copy(op.get_pauli_new(pop).power(2))\n",
    "print(e)"
   ]
  },
  {
   "cell_type": "code",
   "execution_count": null,
   "metadata": {},
   "outputs": [],
   "source": [
    "op_grad = derivative(e,pop)\n",
    "print(op_grad)\n",
    "\n",
    "op_grad = OpTreeNodeSum([op_grad,op_grad])"
   ]
  },
  {
   "cell_type": "code",
   "execution_count": null,
   "metadata": {},
   "outputs": [],
   "source": [
    "fm = ChebRx(2,1)\n",
    "x = ParameterVector(\"x\",fm.num_features)\n",
    "p = ParameterVector(\"p\",fm.num_parameters)\n",
    "fm_circ = fm.get_circuit(x,p)\n",
    "\n",
    "fm_grad = derivative(fm_circ,p)\n",
    "print(fm_grad)"
   ]
  },
  {
   "cell_type": "code",
   "execution_count": null,
   "metadata": {},
   "outputs": [],
   "source": [
    "print(gen_expectation_tree(fm_grad,op_grad))"
   ]
  },
  {
   "cell_type": "code",
   "execution_count": null,
   "metadata": {},
   "outputs": [],
   "source": [
    "#dictionary1={pop[0]: 0.5,pop[1]:0.75, pop[2]:1.0, x[0]:-0.5,p[0]:10.0,p[1]:20.0,p[2]:30.0,p[3]:40.0}\n",
    "\n",
    "#estim = Estimator()\n",
    "\n",
    "#evaluate_estimator(fm_grad,op_grad,dictionary1,estim)"
   ]
  },
  {
   "cell_type": "code",
   "execution_count": null,
   "metadata": {},
   "outputs": [],
   "source": [
    "dictionary_c1 = {x[0]:-0.5,p[0]:10.0,p[1]:20.0,p[2]:30.0,p[3]:40.0}\n",
    "dictionary_c2 = {x[0]: 0.1,p[0]:10.0,p[1]:20.0,p[2]:30.0,p[3]:40.0}\n",
    "\n",
    "dictionary_op = {pop[0]: 0.5,pop[1]:0.75, pop[2]:1.0}\n",
    "\n",
    "estim = Estimator()\n",
    "\n",
    "evaluate_estimator(fm_grad,op_grad,[dictionary_c1,dictionary_c2],dictionary_op,estim)"
   ]
  },
  {
   "cell_type": "code",
   "execution_count": null,
   "metadata": {},
   "outputs": [],
   "source": [
    "dictionary_c1 = {x[0]:-0.5,p[0]:10.0,p[1]:20.0,p[2]:30.0,p[3]:40.0}\n",
    "dictionary_c2 = {x[0]: 0.1,p[0]:10.0,p[1]:20.0,p[2]:30.0,p[3]:40.0}\n",
    "\n",
    "dictionary_op1 = {pop[0]: 0.5,pop[1]:0.75, pop[2]:1.0}\n",
    "dictionary_op2 = {pop[0]: 0.25,pop[1]:0.25, pop[2]:0.5}\n",
    "\n",
    "estim = Estimator()\n",
    "\n",
    "evaluate_estimator(fm_grad,op_grad,[dictionary_c1,dictionary_c2],[dictionary_op1,dictionary_op2],estim,dictionaries_combined=True)"
   ]
  },
  {
   "cell_type": "code",
   "execution_count": null,
   "metadata": {},
   "outputs": [],
   "source": [
    "from squlearn.util import Executor\n",
    "from squlearn.qnn.qnn import QNN\n",
    "\n",
    "executor = Executor(Estimator())\n",
    "qnn = QNN(fm,op,executor)\n",
    "\n",
    "res = qnn.evaluate_from_string(\"dfdopdp\",x=[-0.5,0.1],param=[10,20,30,40],param_op=[0.5,0.75,1.0])\n",
    "\n",
    "\n",
    "\n",
    "print(res[0].transpose())\n",
    "print(res[1].transpose())"
   ]
  },
  {
   "cell_type": "code",
   "execution_count": null,
   "metadata": {},
   "outputs": [],
   "source": [
    "print(fm_grad)"
   ]
  },
  {
   "cell_type": "code",
   "execution_count": null,
   "metadata": {},
   "outputs": [],
   "source": [
    "evaluate_estimator(fm_grad,op_grad,[dictionary_c1,dictionary_c2],[dictionary_op1,dictionary_op2],Estimator(),dictionaries_combined=False)"
   ]
  },
  {
   "cell_type": "code",
   "execution_count": null,
   "metadata": {},
   "outputs": [],
   "source": [
    "evaluate_estimator(fm_grad,op_grad,[dictionary_c1,dictionary_c2],[dictionary_op1,dictionary_op2],Estimator(),dictionaries_combined=True)"
   ]
  },
  {
   "cell_type": "code",
   "execution_count": null,
   "metadata": {},
   "outputs": [],
   "source": [
    "sampler = Sampler()\n",
    "\n",
    "evaluate_sampler_v2(fm_grad,op_grad,[dictionary_c1,dictionary_c2],[dictionary_op1,dictionary_op2],sampler,dictionaries_combined=False)"
   ]
  },
  {
   "cell_type": "code",
   "execution_count": null,
   "metadata": {},
   "outputs": [],
   "source": [
    "sampler = Sampler()\n",
    "\n",
    "evaluate_sampler_v2(fm_grad,op_grad,[dictionary_c1,dictionary_c2],[dictionary_op1,dictionary_op2],sampler,dictionaries_combined=True)"
   ]
  },
  {
   "cell_type": "code",
   "execution_count": null,
   "metadata": {},
   "outputs": [],
   "source": [
    "type(slice(0))"
   ]
  },
  {
   "cell_type": "code",
   "execution_count": null,
   "metadata": {},
   "outputs": [],
   "source": [
    "expec_tree = gen_expectation_tree(fm_grad,op_grad)\n",
    "print(expec_tree)"
   ]
  },
  {
   "cell_type": "code",
   "execution_count": null,
   "metadata": {},
   "outputs": [],
   "source": [
    "print(simplify_copy(expec_tree))"
   ]
  },
  {
   "cell_type": "code",
   "execution_count": null,
   "metadata": {},
   "outputs": [],
   "source": [
    "dictionary = dictionary_c1\n",
    "dictionary.update(dictionary_op1)\n",
    "\n",
    "\n",
    "evaluate_expectation_tree_from_estimator(expec_tree,dictionary,Estimator())"
   ]
  },
  {
   "cell_type": "code",
   "execution_count": null,
   "metadata": {},
   "outputs": [],
   "source": [
    "evaluate_expectation_tree_from_sampler(expec_tree,dictionary,Sampler())"
   ]
  }
 ],
 "metadata": {
  "kernelspec": {
   "display_name": "Python 3",
   "language": "python",
   "name": "python3"
  },
  "language_info": {
   "codemirror_mode": {
    "name": "ipython",
    "version": 3
   },
   "file_extension": ".py",
   "mimetype": "text/x-python",
   "name": "python",
   "nbconvert_exporter": "python",
   "pygments_lexer": "ipython3",
   "version": "3.10.2"
  },
  "orig_nbformat": 4
 },
 "nbformat": 4,
 "nbformat_minor": 2
}
