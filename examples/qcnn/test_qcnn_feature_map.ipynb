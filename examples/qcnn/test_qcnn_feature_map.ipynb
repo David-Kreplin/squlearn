{
 "cells": [
  {
   "cell_type": "code",
   "execution_count": 1,
   "metadata": {},
   "outputs": [],
   "source": [
    "# from squlearn.feature_map.qcnn_feature_map import qcnn_feature_map\n",
    "# from squlearn.feature_map.qcnn_feature_map import prototype_routine\n",
    "\n",
    "# from qiskit import QuantumCircuit\n",
    "# from qiskit.circuit import ParameterVector\n",
    "\n",
    "# import numpy as np\n",
    "\n",
    "# from squlearn.expectation_operator import SingleAmplitude\n",
    "# from squlearn.qnn import QNN\n",
    "# from qiskit.primitives import Estimator\n",
    "from squlearn.feature_map.qcnn_feature_map import qcnn_feature_map\n",
    "from squlearn.util import Executor\n",
    "from qiskit import QuantumCircuit\n",
    "from qiskit.circuit import ParameterVector\n",
    "import numpy as np\n",
    "import itertools\n",
    "import random\n",
    "#from squlearn.expectation_operator import SingleAmplitude\n",
    "#from squlearn.qnn import QNN\n",
    "from squlearn.feature_map.layered_feature_map import LayeredFeatureMap\n",
    "from qiskit.primitives import Estimator\n",
    "from squlearn.qnn.training import regression\n",
    "from squlearn.optimizers import SLSQP,Adam\n",
    "from squlearn.qnn.loss import SquaredLoss\n",
    "from squlearn.qnn.qnnr import QNNRegressor"
   ]
  },
  {
   "cell_type": "code",
   "execution_count": 2,
   "metadata": {},
   "outputs": [
    {
     "name": "stdout",
     "output_type": "stream",
     "text": [
      "Warning on convolutional layer: The quantum circuit input controls too many qubits: 3 qubits on input vs. 2 qubits on the actual circuit.\n"
     ]
    },
    {
     "data": {
      "image/png": "[encoded data removed]",
      "text/plain": [
       "<Figure size 161.878x200.667 with 1 Axes>"
      ]
     },
     "execution_count": 2,
     "metadata": {},
     "output_type": "execute_result"
    }
   ],
   "source": [
    "# Testen, was passiert, wenn man ein Gate reingibt mit zu vielen Qubits:\n",
    "\n",
    "qcnn_test_map = qcnn_feature_map(2)\n",
    "\n",
    "x = ParameterVector(\"x\", 3)\n",
    "gate_qc = QuantumCircuit(3)\n",
    "gate_qc.crx(x[0],0,1)\n",
    "gate_qc.crx(x[2],0,2)\n",
    "gate_qc.crx(x[1],1,2)\n",
    "\n",
    "qcnn_test_map.convolution(gate_qc, entangled=True,operator=\"A\")\n",
    "\n",
    "#qcnn_test_map.pooling(gate_qc) erzeugt Fehler, weil zu viele Qubits angesteuert werden\n",
    "\n",
    "qcnn_param_vec = ParameterVector(\"p\", qcnn_test_map.num_parameters)\n",
    "qcnn_test_map.get_circuit([],qcnn_param_vec).draw()\n"
   ]
  },
  {
   "cell_type": "code",
   "execution_count": 15,
   "metadata": {},
   "outputs": [
    {
     "name": "stdout",
     "output_type": "stream",
     "text": [
      "Länge paramvec: 0\n",
      "hier\n",
      "hier\n",
      "[0, 1, 2, 3, 4, 5, 6]\n",
      "[1, 3, 5, 6]\n"
     ]
    },
    {
     "ename": "IndexError",
     "evalue": "list index out of range",
     "output_type": "error",
     "traceback": [
      "\u001b[1;31m---------------------------------------------------------------------------\u001b[0m",
      "\u001b[1;31mIndexError\u001b[0m                                Traceback (most recent call last)",
      "\u001b[1;32mc:\\Users\\dkr-ak\\Documents\\Projekte lokal\\squlearn\\examples\\qcnn\\test_qcnn_feature_map.ipynb Zelle 3\u001b[0m in \u001b[0;36m5\n\u001b[0;32m     <a href='vscode-notebook-cell:/c%3A/Users/dkr-ak/Documents/Projekte%20lokal/squlearn/examples/qcnn/test_qcnn_feature_map.ipynb#W2sZmlsZQ%3D%3D?line=50'>51</a>\u001b[0m \u001b[39mprint\u001b[39m(\u001b[39m\"\u001b[39m\u001b[39mLänge paramvec:\u001b[39m\u001b[39m\"\u001b[39m,qcnn_test2_map\u001b[39m.\u001b[39mnum_parameters)\n\u001b[0;32m     <a href='vscode-notebook-cell:/c%3A/Users/dkr-ak/Documents/Projekte%20lokal/squlearn/examples/qcnn/test_qcnn_feature_map.ipynb#W2sZmlsZQ%3D%3D?line=51'>52</a>\u001b[0m qcnn_param_vec \u001b[39m=\u001b[39m ParameterVector(\u001b[39m\"\u001b[39m\u001b[39mp\u001b[39m\u001b[39m\"\u001b[39m, qcnn_test2_map\u001b[39m.\u001b[39mnum_parameters) \u001b[39m#qcnn_test2_map.num_parameters\u001b[39;00m\n\u001b[1;32m---> <a href='vscode-notebook-cell:/c%3A/Users/dkr-ak/Documents/Projekte%20lokal/squlearn/examples/qcnn/test_qcnn_feature_map.ipynb#W2sZmlsZQ%3D%3D?line=52'>53</a>\u001b[0m qcnn_test2_map\u001b[39m.\u001b[39mget_circuit([],qcnn_param_vec)\u001b[39m.\u001b[39mdraw()\n",
      "File \u001b[1;32mc:\\users\\dkr-ak\\documents\\projekte lokal\\squlearn\\src\\squlearn\\feature_map\\qcnn_feature_map.py:376\u001b[0m, in \u001b[0;36mqcnn_feature_map.get_circuit\u001b[1;34m(self, features, parameters)\u001b[0m\n\u001b[0;32m    374\u001b[0m         last_qubit \u001b[39m=\u001b[39m j\n\u001b[0;32m    375\u001b[0m \u001b[39melse\u001b[39;00m:\n\u001b[1;32m--> 376\u001b[0m     map_dict \u001b[39m=\u001b[39m {gate_params[i]:parameters[i\u001b[39m+\u001b[39mglobal_param_counter] \u001b[39mfor\u001b[39;00m i \u001b[39min\u001b[39;00m \u001b[39mrange\u001b[39m(\u001b[39mlen\u001b[39m(gate_params))}\n\u001b[0;32m    377\u001b[0m     global_param_counter \u001b[39m+\u001b[39m\u001b[39m=\u001b[39m \u001b[39mlen\u001b[39m(gate_params)\n\u001b[0;32m    378\u001b[0m     gate \u001b[39m=\u001b[39m circuit_to_gate(operation\u001b[39m.\u001b[39mQC, parameter_map\u001b[39m=\u001b[39mmap_dict,label\u001b[39m=\u001b[39m\u001b[39m\"\u001b[39m\u001b[39m{}\u001b[39;00m\u001b[39m_\u001b[39m\u001b[39m{}\u001b[39;00m\u001b[39m\"\u001b[39m\u001b[39m.\u001b[39mformat(operation\u001b[39m.\u001b[39moperator,label_name_dict[\u001b[39m\"\u001b[39m\u001b[39mp\u001b[39m\u001b[39m\"\u001b[39m]))\n",
      "File \u001b[1;32mc:\\users\\dkr-ak\\documents\\projekte lokal\\squlearn\\src\\squlearn\\feature_map\\qcnn_feature_map.py:376\u001b[0m, in \u001b[0;36m<dictcomp>\u001b[1;34m(.0)\u001b[0m\n\u001b[0;32m    374\u001b[0m         last_qubit \u001b[39m=\u001b[39m j\n\u001b[0;32m    375\u001b[0m \u001b[39melse\u001b[39;00m:\n\u001b[1;32m--> 376\u001b[0m     map_dict \u001b[39m=\u001b[39m {gate_params[i]:parameters[i\u001b[39m+\u001b[39;49mglobal_param_counter] \u001b[39mfor\u001b[39;00m i \u001b[39min\u001b[39;00m \u001b[39mrange\u001b[39m(\u001b[39mlen\u001b[39m(gate_params))}\n\u001b[0;32m    377\u001b[0m     global_param_counter \u001b[39m+\u001b[39m\u001b[39m=\u001b[39m \u001b[39mlen\u001b[39m(gate_params)\n\u001b[0;32m    378\u001b[0m     gate \u001b[39m=\u001b[39m circuit_to_gate(operation\u001b[39m.\u001b[39mQC, parameter_map\u001b[39m=\u001b[39mmap_dict,label\u001b[39m=\u001b[39m\u001b[39m\"\u001b[39m\u001b[39m{}\u001b[39;00m\u001b[39m_\u001b[39m\u001b[39m{}\u001b[39;00m\u001b[39m\"\u001b[39m\u001b[39m.\u001b[39mformat(operation\u001b[39m.\u001b[39moperator,label_name_dict[\u001b[39m\"\u001b[39m\u001b[39mp\u001b[39m\u001b[39m\"\u001b[39m]))\n",
      "File \u001b[1;32mc:\\Users\\dkr-ak\\AppData\\Local\\Programs\\Python\\Python310\\lib\\site-packages\\qiskit\\circuit\\parametervector.py:100\u001b[0m, in \u001b[0;36mParameterVector.__getitem__\u001b[1;34m(self, key)\u001b[0m\n\u001b[0;32m     98\u001b[0m \u001b[39mif\u001b[39;00m key \u001b[39m>\u001b[39m \u001b[39mself\u001b[39m\u001b[39m.\u001b[39m_size:\n\u001b[0;32m     99\u001b[0m     \u001b[39mraise\u001b[39;00m \u001b[39mIndexError\u001b[39;00m(\u001b[39mf\u001b[39m\u001b[39m\"\u001b[39m\u001b[39mIndex out of range: \u001b[39m\u001b[39m{\u001b[39;00mkey\u001b[39m}\u001b[39;00m\u001b[39m > \u001b[39m\u001b[39m{\u001b[39;00m\u001b[39mself\u001b[39m\u001b[39m.\u001b[39m_size\u001b[39m}\u001b[39;00m\u001b[39m\"\u001b[39m)\n\u001b[1;32m--> 100\u001b[0m \u001b[39mreturn\u001b[39;00m \u001b[39mself\u001b[39;49m\u001b[39m.\u001b[39;49mparams[key]\n",
      "\u001b[1;31mIndexError\u001b[0m: list index out of range"
     ]
    }
   ],
   "source": [
    "# Test mit einzelnen Convolutional layern:\n",
    "qcnn_test2_map = qcnn_feature_map(7)\n",
    "\n",
    "x = ParameterVector(\"x\", 3)\n",
    "gate_qc = QuantumCircuit(4)\n",
    "gate_qc.crx(x[0],0,1)\n",
    "gate_qc.crx(x[2],0,2)\n",
    "gate_qc.crx(x[1],1,2)\n",
    "\n",
    "gate_qc2 = QuantumCircuit(2)\n",
    "gate_qc2.h(0)\n",
    "gate_qc2.h(1)\n",
    "\n",
    "\n",
    "pool = QuantumCircuit(2)\n",
    "pool.cx(0,1)\n",
    "\n",
    "par = ParameterVector(\"p\",3)\n",
    "pool_3_qubits = QuantumCircuit(3)\n",
    "pool_3_qubits.crx(par[0],0,1)\n",
    "pool_3_qubits.crx(par[2],0,2)\n",
    "pool_3_qubits.crx(par[1],1,2)\n",
    "pool_3_qubits.cx(0,2)\n",
    "pool_3_qubits.cx(1,2)\n",
    "# es soll auch pool.cx(1,0) gehen mit 0 als weiterführender qubit\n",
    "# außerdem: pool mit einem weiterführenden und z.B. 2 anderen qubits\n",
    "\n",
    "error_gate = QuantumCircuit(7)\n",
    "\n",
    "#qcnn_test2_map.convolution(gate_qc, entangled=True,operator=\"A\",target_qubit=2)\n",
    "\n",
    "\n",
    "\n",
    "# qcnn_test2_map.convolution(gate_qc, entangled=True,operator=\"A\",target_qubit=3)\n",
    "# #qcnn_test2_map.convolution(gate_qc, entangled=True,operator=\"A\",target_qubit=4)\n",
    "# #qcnn_test2_map.convolution(error_gate, entangled=True,operator=\"A\",target_qubit=0)\n",
    "# qcnn_test2_map.convolution(gate_qc, entangled=True,operator=\"A\",target_qubit=-1)\n",
    "# qcnn_test2_map.convolution(gate_qc, entangled=True,operator=\"A\",target_qubit=2)\n",
    "# qcnn_test2_map.pooling(pool)\n",
    "# qcnn_test2_map.convolution(gate_qc, entangled=True,operator=\"A\")\n",
    "# qcnn_test2_map.convolution(gate_qc2, entangled=True,operator=\"A\",target_qubit=-1)\n",
    "\n",
    "#qcnn_test2_map.convolution(gate_qc, entangled=True,operator=\"A\",target_qubit=None)\n",
    "#qcnn_test2_map.convolution(gate_qc, entangled=True,operator=\"A\",target_qubit=[0,3,4,5])\n",
    "#qcnn_test2_map.convolution(gate_qc, target_qubit=[1,3,4,6])\n",
    "\n",
    "qcnn_test2_map.pooling(pool,target_qubit=None)\n",
    "qcnn_test2_map.pooling(pool_3_qubits,target_qubit=1)\n",
    "# qcnn_test2_map.pooling(pool_3_qubits)\n",
    "\n",
    "print(\"Länge paramvec:\",qcnn_test2_map.num_parameters)\n",
    "qcnn_param_vec = ParameterVector(\"p\", qcnn_test2_map.num_parameters) #qcnn_test2_map.num_parameters\n",
    "qcnn_test2_map.get_circuit([],qcnn_param_vec).draw()\n"
   ]
  },
  {
   "cell_type": "code",
   "execution_count": 4,
   "metadata": {},
   "outputs": [
    {
     "name": "stdout",
     "output_type": "stream",
     "text": [
      "hier\n"
     ]
    },
    {
     "ename": "CircuitError",
     "evalue": "'The amount of qubit(3)/clbit(0) arguments does not match the gate expectation (2).'",
     "output_type": "error",
     "traceback": [
      "\u001b[1;31m---------------------------------------------------------------------------\u001b[0m",
      "\u001b[1;31mCircuitError\u001b[0m                              Traceback (most recent call last)",
      "\u001b[1;32mc:\\Users\\dkr-ak\\Documents\\Projekte lokal\\squlearn\\examples\\qcnn\\test_qcnn_feature_map.ipynb Zelle 4\u001b[0m in \u001b[0;36m8\n\u001b[0;32m     <a href='vscode-notebook-cell:/c%3A/Users/dkr-ak/Documents/Projekte%20lokal/squlearn/examples/qcnn/test_qcnn_feature_map.ipynb#W3sZmlsZQ%3D%3D?line=80'>81</a>\u001b[0m param_vec_for_qcnn \u001b[39m=\u001b[39m ParameterVector(\u001b[39m\"\u001b[39m\u001b[39mp\u001b[39m\u001b[39m\"\u001b[39m, qcnn_map\u001b[39m.\u001b[39mnum_parameters)\n\u001b[0;32m     <a href='vscode-notebook-cell:/c%3A/Users/dkr-ak/Documents/Projekte%20lokal/squlearn/examples/qcnn/test_qcnn_feature_map.ipynb#W3sZmlsZQ%3D%3D?line=83'>84</a>\u001b[0m \u001b[39m#param_vec_for_qcnn = ParameterVector(\"p\", qcnn_map.num_parameters) # TODO\u001b[39;00m\n\u001b[0;32m     <a href='vscode-notebook-cell:/c%3A/Users/dkr-ak/Documents/Projekte%20lokal/squlearn/examples/qcnn/test_qcnn_feature_map.ipynb#W3sZmlsZQ%3D%3D?line=84'>85</a>\u001b[0m \u001b[39m#qcnn_map.draw() # TODO: funktioniert noch nicht\u001b[39;00m\n\u001b[1;32m---> <a href='vscode-notebook-cell:/c%3A/Users/dkr-ak/Documents/Projekte%20lokal/squlearn/examples/qcnn/test_qcnn_feature_map.ipynb#W3sZmlsZQ%3D%3D?line=87'>88</a>\u001b[0m qcnn_map\u001b[39m.\u001b[39mget_circuit([],param_vec_for_qcnn)\u001b[39m.\u001b[39mdraw()\n",
      "File \u001b[1;32mc:\\users\\dkr-ak\\documents\\projekte lokal\\squlearn\\src\\squlearn\\feature_map\\qcnn_feature_map.py:305\u001b[0m, in \u001b[0;36mqcnn_feature_map.get_circuit\u001b[1;34m(self, features, parameters)\u001b[0m\n\u001b[0;32m    303\u001b[0m map_iter \u001b[39m+\u001b[39m\u001b[39m=\u001b[39m \u001b[39m1\u001b[39m\n\u001b[0;32m    304\u001b[0m gate \u001b[39m=\u001b[39m circuit_to_gate(operation\u001b[39m.\u001b[39mQC, parameter_map\u001b[39m=\u001b[39mmap_dict,label\u001b[39m=\u001b[39m\u001b[39m\"\u001b[39m\u001b[39m{}\u001b[39;00m\u001b[39m_\u001b[39m\u001b[39m{}\u001b[39;00m\u001b[39m\"\u001b[39m\u001b[39m.\u001b[39mformat(operation\u001b[39m.\u001b[39moperator,label_name_dict[\u001b[39m\"\u001b[39m\u001b[39mp\u001b[39m\u001b[39m\"\u001b[39m]))\n\u001b[1;32m--> 305\u001b[0m QC\u001b[39m.\u001b[39;49mappend(gate, [x \u001b[39mfor\u001b[39;49;00m x \u001b[39min\u001b[39;49;00m \u001b[39mrange\u001b[39;49m(i,j\u001b[39m+\u001b[39;49m\u001b[39m1\u001b[39;49m)])\n\u001b[0;32m    306\u001b[0m new_controlled_qubits\u001b[39m.\u001b[39mappend(j)\n\u001b[0;32m    307\u001b[0m last_qubit \u001b[39m=\u001b[39m j\n",
      "File \u001b[1;32mc:\\Users\\dkr-ak\\AppData\\Local\\Programs\\Python\\Python310\\lib\\site-packages\\qiskit\\circuit\\quantumcircuit.py:1298\u001b[0m, in \u001b[0;36mQuantumCircuit.append\u001b[1;34m(self, instruction, qargs, cargs)\u001b[0m\n\u001b[0;32m   1296\u001b[0m instructions \u001b[39m=\u001b[39m InstructionSet(resource_requester\u001b[39m=\u001b[39mrequester)\n\u001b[0;32m   1297\u001b[0m \u001b[39mif\u001b[39;00m \u001b[39misinstance\u001b[39m(operation, Instruction):\n\u001b[1;32m-> 1298\u001b[0m     \u001b[39mfor\u001b[39;00m qarg, carg \u001b[39min\u001b[39;00m operation\u001b[39m.\u001b[39;49mbroadcast_arguments(expanded_qargs, expanded_cargs):\n\u001b[0;32m   1299\u001b[0m         \u001b[39mself\u001b[39m\u001b[39m.\u001b[39m_check_dups(qarg)\n\u001b[0;32m   1300\u001b[0m         instruction \u001b[39m=\u001b[39m CircuitInstruction(operation, qarg, carg)\n",
      "File \u001b[1;32mc:\\Users\\dkr-ak\\AppData\\Local\\Programs\\Python\\Python310\\lib\\site-packages\\qiskit\\circuit\\gate.py:200\u001b[0m, in \u001b[0;36mGate.broadcast_arguments\u001b[1;34m(self, qargs, cargs)\u001b[0m\n\u001b[0;32m    163\u001b[0m \u001b[39m\"\"\"Validation and handling of the arguments and its relationship.\u001b[39;00m\n\u001b[0;32m    164\u001b[0m \n\u001b[0;32m    165\u001b[0m \u001b[39mFor example, ``cx([q[0],q[1]], q[2])`` means ``cx(q[0], q[2]); cx(q[1], q[2])``. This\u001b[39;00m\n\u001b[1;32m   (...)\u001b[0m\n\u001b[0;32m    197\u001b[0m \u001b[39m        arguments does not match the gate expectation.\u001b[39;00m\n\u001b[0;32m    198\u001b[0m \u001b[39m\"\"\"\u001b[39;00m\n\u001b[0;32m    199\u001b[0m \u001b[39mif\u001b[39;00m \u001b[39mlen\u001b[39m(qargs) \u001b[39m!=\u001b[39m \u001b[39mself\u001b[39m\u001b[39m.\u001b[39mnum_qubits \u001b[39mor\u001b[39;00m cargs:\n\u001b[1;32m--> 200\u001b[0m     \u001b[39mraise\u001b[39;00m CircuitError(\n\u001b[0;32m    201\u001b[0m         \u001b[39mf\u001b[39m\u001b[39m\"\u001b[39m\u001b[39mThe amount of qubit(\u001b[39m\u001b[39m{\u001b[39;00m\u001b[39mlen\u001b[39m(qargs)\u001b[39m}\u001b[39;00m\u001b[39m)/clbit(\u001b[39m\u001b[39m{\u001b[39;00m\u001b[39mlen\u001b[39m(cargs)\u001b[39m}\u001b[39;00m\u001b[39m) arguments does\u001b[39m\u001b[39m\"\u001b[39m\n\u001b[0;32m    202\u001b[0m         \u001b[39mf\u001b[39m\u001b[39m\"\u001b[39m\u001b[39m not match the gate expectation (\u001b[39m\u001b[39m{\u001b[39;00m\u001b[39mself\u001b[39m\u001b[39m.\u001b[39mnum_qubits\u001b[39m}\u001b[39;00m\u001b[39m).\u001b[39m\u001b[39m\"\u001b[39m\n\u001b[0;32m    203\u001b[0m     )\n\u001b[0;32m    205\u001b[0m \u001b[39mif\u001b[39;00m \u001b[39many\u001b[39m(\u001b[39mnot\u001b[39;00m qarg \u001b[39mfor\u001b[39;00m qarg \u001b[39min\u001b[39;00m qargs):\n\u001b[0;32m    206\u001b[0m     \u001b[39mraise\u001b[39;00m CircuitError(\u001b[39m\"\u001b[39m\u001b[39mOne or more of the arguments are empty\u001b[39m\u001b[39m\"\u001b[39m)\n",
      "\u001b[1;31mCircuitError\u001b[0m: 'The amount of qubit(3)/clbit(0) arguments does not match the gate expectation (2).'"
     ]
    }
   ],
   "source": [
    "\n",
    "qcnn_map = qcnn_feature_map(6)\n",
    "\n",
    "\n",
    "\n",
    "x = ParameterVector(\"x\", 3)\n",
    "gate_qc = QuantumCircuit(3)\n",
    "gate_qc.crx(x[0],0,1)\n",
    "gate_qc.crx(x[2],0,2)\n",
    "gate_qc.crx(x[1],1,2)\n",
    "\n",
    "#z = ParameterVector(\"z\",2)\n",
    "#gate2 = QuantumCircuit(2)\n",
    "\n",
    "y = ParameterVector(\"y\",2)\n",
    "pooling_gate1 = QuantumCircuit(2)\n",
    "pooling_gate1.crx(y[0],0,1)\n",
    "\n",
    "a = ParameterVector(\"a\",4)\n",
    "fully_gate = QuantumCircuit(1)\n",
    "fully_gate.rx(a[0],0)\n",
    "fully_gate.rx(a[1],0)\n",
    "fully_gate.rx(a[2],0)\n",
    "fully_gate.rx(a[3],0)\n",
    "\n",
    "b = ParameterVector(\"b\",3)\n",
    "fully_gate2 = QuantumCircuit(3)\n",
    "fully_gate2.rx(b[0],0)\n",
    "fully_gate2.rx(b[1],2)\n",
    "fully_gate2.rx(b[2],1)\n",
    "\n",
    "\n",
    "#qcnn_map.convolution(gate_qc, entangled=False,operator=\"A\",var_param = False)\n",
    "#qcnn_map.convolution(gate_qc, entangled=False,operator=\"A\",var_param = True)\n",
    "#qcnn_map.pooling(pooling_gate1,var_param = True)\n",
    "#qcnn_map.convolution(gate_qc, entangled=True,operator=\"A\",var_param = True)\n",
    "\n",
    "qcnn_map.pooling(pooling_gate1,var_param = True)\n",
    "#qcnn_map.pooling(pooling_gate1,var_param = True)\n",
    "#qcnn_map.pooling(pooling_gate1,var_param = True)\n",
    "\n",
    "qcnn_map.fully_connected(fully_gate2)\n",
    "#qcnn_map.fully_connected(fully_gate)\n",
    "\n",
    "\"\"\"\n",
    "#qcnn_map.convolution(gate_qc, entangled=True,operator=\"C\")\n",
    "qcnn_map.convolution(gate_qc, entangled = True)\n",
    "\n",
    "qcnn_map.pooling(pooling_gate1)\n",
    "\n",
    "#qcnn_map.convolution(gate2, entangled=True)\n",
    "qcnn_map.convolution(gate2)\n",
    "\n",
    "\n",
    "\n",
    "\n",
    "\n",
    "#qcnn_map.pooling(pooling_gate1,operator=\"P\")\n",
    "qcnn_map.pooling(pooling_gate1)\n",
    "\n",
    "qcnn_map.convolution(gate2)\n",
    "\n",
    "#qcnn_map.pooling(pooling_gate1)\n",
    "#qcnn_map.pooling(pooling_gate1)\n",
    "#qcnn_map.pooling(pooling_gate1)\n",
    "\n",
    "#qcnn_map.pooling(pooling_gate1, \"B\")\n",
    "\n",
    "\"\"\"\n",
    "\n",
    "\n",
    "#fully_connected_gate = QuantumCircuit(1)\n",
    "#fully_connected_gate.h(0)\n",
    "\n",
    "#fully_connected_gate = QuantumCircuit(2)\n",
    "#fully_connected_gate.h(0)\n",
    "#fully_connected_gate.h(1)\n",
    "\n",
    "#qcnn_map.fully_connected(fully_connected_gate) #TODO: Benutzer muss richtige Anzahl an qubits eingeben\n",
    "\n",
    "\n",
    "param_vec_for_qcnn = ParameterVector(\"p\", qcnn_map.num_parameters)\n",
    "\n",
    "\n",
    "#param_vec_for_qcnn = ParameterVector(\"p\", qcnn_map.num_parameters) # TODO\n",
    "#qcnn_map.draw() # TODO: funktioniert noch nicht\n",
    "\n",
    "\n",
    "qcnn_map.get_circuit([],param_vec_for_qcnn).draw()\n",
    "#print(qcnn_map.get_qubits_left())\n",
    "#qcnn_map.get_circuit([],param_vec_for_qcnn).decompose().draw()\n",
    "\n",
    "\n",
    "\n",
    "\n"
   ]
  },
  {
   "cell_type": "code",
   "execution_count": null,
   "metadata": {},
   "outputs": [
    {
     "data": {
      "image/png": "[encoded data removed]",
      "text/plain": [
       "<Figure size 956.385x535.111 with 1 Axes>"
      ]
     },
     "execution_count": 5,
     "metadata": {},
     "output_type": "execute_result"
    }
   ],
   "source": [
    "# feature map zum Trainieren:\n",
    "qcnn_train = qcnn_feature_map(6)\n",
    "\n",
    "x = ParameterVector(\"x\", 3)\n",
    "gate_qc = QuantumCircuit(3)\n",
    "gate_qc.crx(x[0],0,1)\n",
    "gate_qc.crx(x[2],0,2)\n",
    "gate_qc.crx(x[1],1,2)\n",
    "\n",
    "y = ParameterVector(\"y\", 2)\n",
    "gate_conv2 = QuantumCircuit(2)\n",
    "gate_conv2.crz(y[0],0,1)\n",
    "gate_conv2.crz(y[1],1,0)\n",
    "\n",
    "pooling_gate1 = QuantumCircuit(2)\n",
    "pooling_gate1.cx(0,1)\n",
    "\n",
    "# Fully für 2 Qubits\n",
    "a = ParameterVector(\"a\",2)\n",
    "fully_gate = QuantumCircuit(2)\n",
    "fully_gate.rx(a[0],0)\n",
    "fully_gate.rx(a[1],1)\n",
    "\n",
    "\n",
    "#Fully für 3 Qubits\n",
    "b = ParameterVector(\"b\",3)\n",
    "fully_gate2 = QuantumCircuit(3)\n",
    "fully_gate2.rx(b[0],0)\n",
    "fully_gate2.rx(b[1],2)\n",
    "fully_gate2.rx(b[2],1)\n",
    "\n",
    "\n",
    "qcnn_train.convolution(gate_qc, entangled=False,operator=\"U\",var_param = False)\n",
    "qcnn_train.convolution(gate_conv2, entangled=False,operator=\"V\",var_param = False)\n",
    "\n",
    "qcnn_train.pooling(pooling_gate1,operator=\"P\")\n",
    "\n",
    "qcnn_train.convolution(gate_qc, entangled=False,operator=\"U\",var_param = False)\n",
    "qcnn_train.convolution(gate_conv2, entangled=False,operator=\"V\",var_param = False)\n",
    "\n",
    "qcnn_train.pooling(pooling_gate1,operator=\"P\")\n",
    "qcnn_train.fully_connected(fully_gate)\n",
    "#print(qcnn_train.get_qubits_left())\n",
    "param_vec_for_qcnn = ParameterVector(\"p\", qcnn_train.num_parameters)\n",
    "qcnn_train.get_circuit([],param_vec_for_qcnn).draw()\n",
    "\n"
   ]
  },
  {
   "cell_type": "code",
   "execution_count": null,
   "metadata": {},
   "outputs": [
    {
     "data": {
      "image/png": "[encoded data removed]",
      "text/plain": [
       "<Figure size 162.08x451.5 with 1 Axes>"
      ]
     },
     "execution_count": 6,
     "metadata": {},
     "output_type": "execute_result"
    }
   ],
   "source": [
    "\n",
    "qcnn_map = qcnn_feature_map(5)\n",
    "qcnn_map.draw()\n",
    "\n"
   ]
  },
  {
   "cell_type": "code",
   "execution_count": null,
   "metadata": {},
   "outputs": [
    {
     "ename": "IndexError",
     "evalue": "('Input parameter vector has a greater size as needed: Input paramvec: ', 20, ' size needed:', 11)",
     "output_type": "error",
     "traceback": [
      "\u001b[1;31m---------------------------------------------------------------------------\u001b[0m",
      "\u001b[1;31mIndexError\u001b[0m                                Traceback (most recent call last)",
      "\u001b[1;32mc:\\Users\\dkr-ak\\Documents\\Projekte lokal\\squlearn\\examples\\qcnn\\test_qcnn_feature_map.ipynb Zelle 7\u001b[0m in \u001b[0;36m3\n\u001b[0;32m      <a href='vscode-notebook-cell:/c%3A/Users/dkr-ak/Documents/Projekte%20lokal/squlearn/examples/qcnn/test_qcnn_feature_map.ipynb#W5sZmlsZQ%3D%3D?line=0'>1</a>\u001b[0m \u001b[39m#Richtig reudiges Beispiel\u001b[39;00m\n\u001b[0;32m      <a href='vscode-notebook-cell:/c%3A/Users/dkr-ak/Documents/Projekte%20lokal/squlearn/examples/qcnn/test_qcnn_feature_map.ipynb#W5sZmlsZQ%3D%3D?line=1'>2</a>\u001b[0m parametervec \u001b[39m=\u001b[39m ParameterVector(\u001b[39m\"\u001b[39m\u001b[39my\u001b[39m\u001b[39m\"\u001b[39m,\u001b[39m20\u001b[39m)\n\u001b[1;32m----> <a href='vscode-notebook-cell:/c%3A/Users/dkr-ak/Documents/Projekte%20lokal/squlearn/examples/qcnn/test_qcnn_feature_map.ipynb#W5sZmlsZQ%3D%3D?line=2'>3</a>\u001b[0m prototype_routine(\u001b[39m6\u001b[39m,parametervec)\u001b[39m.\u001b[39mdecompose()\u001b[39m.\u001b[39mdraw()\n",
      "File \u001b[1;32mc:\\users\\dkr-ak\\documents\\projekte lokal\\squlearn\\src\\squlearn\\feature_map\\qcnn_feature_map.py:341\u001b[0m, in \u001b[0;36mprototype_routine\u001b[1;34m(num_qubits, param)\u001b[0m\n\u001b[0;32m    336\u001b[0m     qcnn_map\u001b[39m.\u001b[39mconvolution(fully_layer,operator\u001b[39m=\u001b[39m\u001b[39m\"\u001b[39m\u001b[39mF\u001b[39m\u001b[39m\"\u001b[39m) \u001b[39m#TODO: provisorisches fully-connected-layer\u001b[39;00m\n\u001b[0;32m    338\u001b[0m qcnn_map\u001b[39m.\u001b[39mconvolution(end_fully,operator\u001b[39m=\u001b[39m\u001b[39m\"\u001b[39m\u001b[39mF\u001b[39m\u001b[39m\"\u001b[39m)\n\u001b[1;32m--> 341\u001b[0m \u001b[39mreturn\u001b[39;00m qcnn_map\u001b[39m.\u001b[39;49mget_circuit([],param)\n",
      "File \u001b[1;32mc:\\users\\dkr-ak\\documents\\projekte lokal\\squlearn\\src\\squlearn\\feature_map\\qcnn_feature_map.py:252\u001b[0m, in \u001b[0;36mqcnn_feature_map.get_circuit\u001b[1;34m(self, features, parameters)\u001b[0m\n\u001b[0;32m    250\u001b[0m         QC\u001b[39m.\u001b[39mappend(gate, [k \u001b[39mfor\u001b[39;00m k \u001b[39min\u001b[39;00m controlled_qubits])\n\u001b[0;32m    251\u001b[0m \u001b[39mif\u001b[39;00m global_param_counter \u001b[39m<\u001b[39m \u001b[39mlen\u001b[39m(parameters):\n\u001b[1;32m--> 252\u001b[0m     \u001b[39mraise\u001b[39;00m \u001b[39mIndexError\u001b[39;00m(\u001b[39m\"\u001b[39m\u001b[39mInput parameter vector has a greater size as needed: Input paramvec: \u001b[39m\u001b[39m\"\u001b[39m, \u001b[39mlen\u001b[39m(parameters), \u001b[39m\"\u001b[39m\u001b[39m size needed:\u001b[39m\u001b[39m\"\u001b[39m, global_param_counter )\n\u001b[0;32m    253\u001b[0m \u001b[39mreturn\u001b[39;00m QC\n",
      "\u001b[1;31mIndexError\u001b[0m: ('Input parameter vector has a greater size as needed: Input paramvec: ', 20, ' size needed:', 11)"
     ]
    }
   ],
   "source": [
    "#Richtig reudiges Beispiel\n",
    "parametervec = ParameterVector(\"y\",20)\n",
    "prototype_routine(6,parametervec).decompose().draw()\n",
    "\n"
   ]
  },
  {
   "cell_type": "code",
   "execution_count": null,
   "metadata": {},
   "outputs": [],
   "source": [
    "# Experiment mit Nullen und Einsen \n",
    "\n",
    "def generate_binary_data(size, cardinality):\n",
    "    X = np.random.randint(2, size=(cardinality,size))\n",
    "    Y = np.count_nonzero(X==0,axis=1)\n",
    "    for i in range(len(Y)):\n",
    "        zeros = Y[i]\n",
    "        if 2*zeros > size:\n",
    "            Y[i] = 0\n",
    "        else:\n",
    "            Y[i] = 1    \n",
    "    return X,Y\n",
    "\n",
    "print(generate_binary_data(10,100))\n",
    "\n",
    "\n"
   ]
  },
  {
   "cell_type": "code",
   "execution_count": null,
   "metadata": {},
   "outputs": [],
   "source": [
    "TranspiledFeatureMap(pqc, self.backend)"
   ]
  },
  {
   "cell_type": "code",
   "execution_count": null,
   "metadata": {},
   "outputs": [],
   "source": [
    "\n",
    "\n",
    "operator = SingleAmplitude(6,3)\n",
    "\n",
    "print(operator)\n"
   ]
  },
  {
   "cell_type": "code",
   "execution_count": null,
   "metadata": {},
   "outputs": [],
   "source": [
    "\n",
    "qcnn = QNN(qcnn_map,operator,estimator=Estimator())\n"
   ]
  }
 ],
 "metadata": {
  "kernelspec": {
   "display_name": "Python 3",
   "language": "python",
   "name": "python3"
  },
  "language_info": {
   "codemirror_mode": {
    "name": "ipython",
    "version": 3
   },
   "file_extension": ".py",
   "mimetype": "text/x-python",
   "name": "python",
   "nbconvert_exporter": "python",
   "pygments_lexer": "ipython3",
   "version": "3.10.0"
  },
  "orig_nbformat": 4,
  "vscode": {
   "interpreter": {
    "hash": "d6123e5c8eb962e5a51f88c4b3e5fd4df6c8b29607652cd64ef91d826db7cc2a"
   }
  }
 },
 "nbformat": 4,
 "nbformat_minor": 2
}
