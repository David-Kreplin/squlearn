{
 "cells": [
  {
   "cell_type": "code",
   "execution_count": 1,
   "metadata": {},
   "outputs": [],
   "source": [
    "import numpy as np\n",
    "from squlearn.encoding_circuit import ChebyshevRx\n",
    "from squlearn.kernel import FidelityKernel, QKRR\n",
    "from squlearn.util import Executor\n",
    "\n",
    "from qiskit_ibm_runtime import QiskitRuntimeService\n",
    "\n",
    "service = QiskitRuntimeService(channel=\"ibm_quantum\")"
   ]
  },
  {
   "cell_type": "code",
   "execution_count": 2,
   "metadata": {},
   "outputs": [
    {
     "name": "stdout",
     "output_type": "stream",
     "text": [
      "Automatic backend selection started\n",
      "Number of backends available with given parameters:12\n",
      "Mode: speed using Mapomatic\n",
      "Input circuit needs 12 qubits\n",
      "Least busy backend: ibm_cusco with 127 qubits\n",
      "Transpiled circuit needs 12 qubits on ibm_cusco\n",
      "Best sub-layout: [4, 5, 6, 7, 113, 114, 115, 116, 58, 71, 77, 76]. Error_rate: 0.06453860864363392\n"
     ]
    }
   ],
   "source": [
    "exec = Executor(service,auto_backend_mode=\"speed\",log_file=\"log_fidelity.txt\",qpu_parallelization=3)\n",
    "pqc = ChebyshevRx(4,1)\n",
    "pqk = FidelityKernel(pqc,exec)"
   ]
  },
  {
   "cell_type": "code",
   "execution_count": 3,
   "metadata": {},
   "outputs": [],
   "source": [
    "qkrr = QKRR(pqk)"
   ]
  },
  {
   "cell_type": "code",
   "execution_count": 4,
   "metadata": {},
   "outputs": [],
   "source": [
    "X_train = np.array([[0.1],[0.2],[0.3],[0.4],[0.5],[0.6],[0.7],[0.8]])\n",
    "y_train = np.array([0.1,0.2,0.3,0.4,0.5,0.6,0.7,0.8])"
   ]
  },
  {
   "cell_type": "code",
   "execution_count": 5,
   "metadata": {},
   "outputs": [
    {
     "name": "stdout",
     "output_type": "stream",
     "text": [
      "\n",
      "Circuit with 4 qubits has been duplicated 3 times.\n",
      "Reducing shots from 4000 to 1333\n",
      "Backend has 127 qubits.\n",
      "\n",
      "Circuit with 4 qubits has been duplicated 3 times.\n",
      "Reducing shots from 4000 to 1333\n",
      "Backend has 127 qubits.\n",
      "\n",
      "Circuit with 4 qubits has been duplicated 3 times.\n",
      "Reducing shots from 4000 to 1333\n",
      "Backend has 127 qubits.\n",
      "\n",
      "Circuit with 4 qubits has been duplicated 3 times.\n",
      "Reducing shots from 4000 to 1333\n",
      "Backend has 127 qubits.\n",
      "\n",
      "Circuit with 4 qubits has been duplicated 3 times.\n",
      "Reducing shots from 4000 to 1333\n",
      "Backend has 127 qubits.\n",
      "\n",
      "Circuit with 4 qubits has been duplicated 3 times.\n",
      "Reducing shots from 4000 to 1333\n",
      "Backend has 127 qubits.\n",
      "\n",
      "Circuit with 4 qubits has been duplicated 3 times.\n",
      "Reducing shots from 4000 to 1333\n",
      "Backend has 127 qubits.\n",
      "\n",
      "Circuit with 4 qubits has been duplicated 3 times.\n",
      "Reducing shots from 4000 to 1333\n",
      "Backend has 127 qubits.\n",
      "\n",
      "Circuit with 4 qubits has been duplicated 3 times.\n",
      "Reducing shots from 4000 to 1333\n",
      "Backend has 127 qubits.\n",
      "\n",
      "Circuit with 4 qubits has been duplicated 3 times.\n",
      "Reducing shots from 4000 to 1333\n",
      "Backend has 127 qubits.\n",
      "\n",
      "Circuit with 4 qubits has been duplicated 3 times.\n",
      "Reducing shots from 4000 to 1333\n",
      "Backend has 127 qubits.\n",
      "\n",
      "Circuit with 4 qubits has been duplicated 3 times.\n",
      "Reducing shots from 4000 to 1333\n",
      "Backend has 127 qubits.\n",
      "\n",
      "Circuit with 4 qubits has been duplicated 3 times.\n",
      "Reducing shots from 4000 to 1333\n",
      "Backend has 127 qubits.\n",
      "\n",
      "Circuit with 4 qubits has been duplicated 3 times.\n",
      "Reducing shots from 4000 to 1333\n",
      "Backend has 127 qubits.\n",
      "\n",
      "Circuit with 4 qubits has been duplicated 3 times.\n",
      "Reducing shots from 4000 to 1333\n",
      "Backend has 127 qubits.\n",
      "\n",
      "Circuit with 4 qubits has been duplicated 3 times.\n",
      "Reducing shots from 4000 to 1333\n",
      "Backend has 127 qubits.\n",
      "\n",
      "Circuit with 4 qubits has been duplicated 3 times.\n",
      "Reducing shots from 4000 to 1333\n",
      "Backend has 127 qubits.\n",
      "\n",
      "Circuit with 4 qubits has been duplicated 3 times.\n",
      "Reducing shots from 4000 to 1333\n",
      "Backend has 127 qubits.\n",
      "\n",
      "Circuit with 4 qubits has been duplicated 3 times.\n",
      "Reducing shots from 4000 to 1333\n",
      "Backend has 127 qubits.\n",
      "\n",
      "Circuit with 4 qubits has been duplicated 3 times.\n",
      "Reducing shots from 4000 to 1333\n",
      "Backend has 127 qubits.\n",
      "\n",
      "Circuit with 4 qubits has been duplicated 3 times.\n",
      "Reducing shots from 4000 to 1333\n",
      "Backend has 127 qubits.\n",
      "\n",
      "Circuit with 4 qubits has been duplicated 3 times.\n",
      "Reducing shots from 4000 to 1333\n",
      "Backend has 127 qubits.\n",
      "\n",
      "Circuit with 4 qubits has been duplicated 3 times.\n",
      "Reducing shots from 4000 to 1333\n",
      "Backend has 127 qubits.\n",
      "\n",
      "Circuit with 4 qubits has been duplicated 3 times.\n",
      "Reducing shots from 4000 to 1333\n",
      "Backend has 127 qubits.\n",
      "\n",
      "Circuit with 4 qubits has been duplicated 3 times.\n",
      "Reducing shots from 4000 to 1333\n",
      "Backend has 127 qubits.\n",
      "\n",
      "Circuit with 4 qubits has been duplicated 3 times.\n",
      "Reducing shots from 4000 to 1333\n",
      "Backend has 127 qubits.\n",
      "\n",
      "Circuit with 4 qubits has been duplicated 3 times.\n",
      "Reducing shots from 4000 to 1333\n",
      "Backend has 127 qubits.\n",
      "\n",
      "Circuit with 4 qubits has been duplicated 3 times.\n",
      "Reducing shots from 4000 to 1333\n",
      "Backend has 127 qubits.\n"
     ]
    },
    {
     "data": {
      "text/plain": [
       "0.9999999999985619"
      ]
     },
     "execution_count": 5,
     "metadata": {},
     "output_type": "execute_result"
    }
   ],
   "source": [
    "qkrr.fit(X_train,y_train)\n",
    "qkrr.score(X_train,y_train)"
   ]
  }
 ],
 "metadata": {
  "kernelspec": {
   "display_name": "Python 3",
   "language": "python",
   "name": "python3"
  },
  "language_info": {
   "codemirror_mode": {
    "name": "ipython",
    "version": 3
   },
   "file_extension": ".py",
   "mimetype": "text/x-python",
   "name": "python",
   "nbconvert_exporter": "python",
   "pygments_lexer": "ipython3",
   "version": "3.10.2"
  }
 },
 "nbformat": 4,
 "nbformat_minor": 2
}
