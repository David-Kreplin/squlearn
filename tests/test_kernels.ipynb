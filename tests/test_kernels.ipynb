{
 "cells": [
  {
   "cell_type": "code",
   "execution_count": 1,
   "metadata": {},
   "outputs": [],
   "source": [
    "from squlearn import Executor\n",
    "from squlearn.kernel import FidelityKernel, ProjectedQuantumKernel\n",
    "from squlearn.encoding_circuit import ChebyshevTower, ChebyshevPQC, HubregtsenEncodingCircuit\n",
    "\n",
    "\n",
    "import pennylane as qml\n",
    "\n",
    "import numpy as np"
   ]
  },
  {
   "cell_type": "code",
   "execution_count": 2,
   "metadata": {},
   "outputs": [],
   "source": [
    "#dev = qml.device('qiskit.ibmq', wires=4, backend='ibmq_qasm_simulator', ibmqx_token=\"1e1fcef3940bc7181262dbc135a052e83b17a669f187b1d6d7bde96ef3167078b55eb494f44f3b3de8ea934023da7a5eef3df4c6d27bf8ce7d48ca174c654cb7\")\n",
    "#print(dev.shots)\n",
    "\n",
    "dev = qml.device(\"default.qubit\")"
   ]
  },
  {
   "cell_type": "code",
   "execution_count": 3,
   "metadata": {},
   "outputs": [
    {
     "name": "stdout",
     "output_type": "stream",
     "text": [
      "False\n"
     ]
    }
   ],
   "source": [
    "exec = Executor(dev)\n",
    "print(exec.is_statevector)"
   ]
  },
  {
   "cell_type": "markdown",
   "metadata": {},
   "source": []
  },
  {
   "cell_type": "code",
   "execution_count": 4,
   "metadata": {},
   "outputs": [
    {
     "data": {
      "text/plain": [
       "0"
      ]
     },
     "execution_count": 4,
     "metadata": {},
     "output_type": "execute_result"
    }
   ],
   "source": [
    "fm = ChebyshevTower(4,1,1)\n",
    "kernel = FidelityKernel(fm, exec)\n",
    "fm.num_parameters"
   ]
  },
  {
   "cell_type": "code",
   "execution_count": 5,
   "metadata": {},
   "outputs": [
    {
     "name": "stdout",
     "output_type": "stream",
     "text": [
      "[[1.    0.987 0.999 1.    0.996 0.996 0.998 0.926 0.878 0.994]\n",
      " [0.987 1.    0.991 0.992 0.973 0.997 0.972 0.987 0.937 0.964]\n",
      " [0.999 0.991 1.    0.998 0.993 1.    0.988 0.939 0.896 0.984]\n",
      " [1.    0.992 0.998 1.    0.994 0.995 0.998 0.942 0.875 0.99 ]\n",
      " [0.996 0.973 0.993 0.994 1.    0.984 1.    0.891 0.834 0.999]\n",
      " [0.996 0.997 1.    0.995 0.984 1.    0.991 0.96  0.911 0.981]\n",
      " [0.998 0.972 0.988 0.998 1.    0.991 1.    0.884 0.822 0.999]\n",
      " [0.926 0.987 0.939 0.942 0.891 0.96  0.884 1.    0.994 0.879]\n",
      " [0.878 0.937 0.896 0.875 0.834 0.911 0.822 0.994 1.    0.831]\n",
      " [0.994 0.964 0.984 0.99  0.999 0.981 0.999 0.879 0.831 1.   ]]\n",
      "[[0.975 1.    1.    0.924 0.93  0.932 0.918 0.945 0.977 0.952]\n",
      " [0.998 0.984 0.995 0.958 0.895 0.879 0.84  0.992 0.999 0.982]\n",
      " [0.989 0.998 1.    0.936 0.92  0.919 0.897 0.968 0.982 0.958]\n",
      " [0.969 1.    1.    0.914 0.952 0.952 0.925 0.953 0.975 0.951]\n",
      " [0.951 0.996 0.992 0.864 0.97  0.97  0.961 0.937 0.949 0.897]\n",
      " [0.989 1.    0.997 0.957 0.89  0.934 0.89  0.977 0.99  0.968]\n",
      " [0.955 0.997 0.996 0.883 0.967 0.967 0.963 0.944 0.945 0.932]\n",
      " [0.987 0.921 0.936 0.998 0.746 0.782 0.752 0.997 0.983 0.999]\n",
      " [0.964 0.878 0.892 0.997 0.676 0.677 0.663 0.976 0.95  0.992]\n",
      " [0.944 0.992 0.991 0.861 0.976 0.978 0.963 0.925 0.938 0.908]]\n"
     ]
    }
   ],
   "source": [
    "np.random.seed(0)\n",
    "x = np.random.rand(10,1)\n",
    "y = np.random.rand(10,1)\n",
    "param = np.random.rand(fm.num_parameters)\n",
    "param = np.zeros(fm.num_parameters)\n",
    "#y[0] = 0.5\n",
    "\n",
    "kernel.assign_parameters(param)\n",
    "print(kernel.evaluate(x, x))\n",
    "print(kernel.evaluate(x, y))"
   ]
  },
  {
   "cell_type": "code",
   "execution_count": 6,
   "metadata": {},
   "outputs": [
    {
     "name": "stdout",
     "output_type": "stream",
     "text": [
      "[[1.    0.99  1.    1.    0.995 0.995 0.998 0.936 0.89  0.99 ]\n",
      " [0.99  1.    0.995 0.989 0.975 0.998 0.977 0.972 0.923 0.961]\n",
      " [1.    0.995 1.    0.999 0.989 1.    0.995 0.954 0.903 0.984]\n",
      " [1.    0.989 0.999 1.    0.994 0.995 0.999 0.939 0.875 0.99 ]\n",
      " [0.995 0.975 0.989 0.994 1.    0.981 1.    0.899 0.818 1.   ]\n",
      " [0.995 0.998 1.    0.995 0.981 1.    0.985 0.948 0.882 0.981]\n",
      " [0.998 0.977 0.995 0.999 1.    0.985 1.    0.897 0.833 0.998]\n",
      " [0.936 0.972 0.954 0.939 0.899 0.948 0.897 1.    0.984 0.86 ]\n",
      " [0.89  0.923 0.903 0.875 0.818 0.882 0.833 0.984 1.    0.798]\n",
      " [0.99  0.961 0.984 0.99  1.    0.981 0.998 0.86  0.798 1.   ]]\n",
      "[[0.978 0.999 1.    0.933 0.93  0.942 0.922 0.954 0.976 0.948]\n",
      " [0.998 0.989 0.989 0.966 0.861 0.875 0.843 0.992 0.997 0.987]\n",
      " [0.981 0.999 1.    0.927 0.929 0.928 0.896 0.961 0.986 0.968]\n",
      " [0.962 1.    1.    0.907 0.944 0.939 0.931 0.954 0.974 0.937]\n",
      " [0.949 0.998 0.994 0.873 0.969 0.964 0.954 0.922 0.964 0.928]\n",
      " [0.991 0.993 0.997 0.951 0.918 0.915 0.883 0.983 0.985 0.967]\n",
      " [0.967 0.998 0.992 0.896 0.959 0.977 0.954 0.93  0.95  0.899]\n",
      " [0.998 0.932 0.94  0.998 0.753 0.75  0.746 0.995 0.989 0.999]\n",
      " [0.95  0.869 0.895 0.993 0.675 0.659 0.644 0.988 0.956 0.984]\n",
      " [0.953 0.997 0.992 0.873 0.973 0.963 0.965 0.901 0.946 0.902]]\n"
     ]
    }
   ],
   "source": [
    "exec = Executor(\"statevector_simulator\")\n",
    "kernel2 = FidelityKernel(fm, exec)\n",
    "kernel2.assign_parameters(param)\n",
    "print(kernel2.evaluate(x, x))\n",
    "print(kernel2.evaluate(x, y))"
   ]
  }
 ],
 "metadata": {
  "kernelspec": {
   "display_name": ".venv",
   "language": "python",
   "name": "python3"
  },
  "language_info": {
   "codemirror_mode": {
    "name": "ipython",
    "version": 3
   },
   "file_extension": ".py",
   "mimetype": "text/x-python",
   "name": "python",
   "nbconvert_exporter": "python",
   "pygments_lexer": "ipython3",
   "version": "3.10.2"
  }
 },
 "nbformat": 4,
 "nbformat_minor": 2
}
