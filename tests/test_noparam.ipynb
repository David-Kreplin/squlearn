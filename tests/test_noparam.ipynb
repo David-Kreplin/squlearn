{
 "cells": [
  {
   "cell_type": "code",
   "execution_count": 1,
   "metadata": {},
   "outputs": [],
   "source": [
    "\"\"\"Tests for training methods.\"\"\"\n",
    "\n",
    "import numpy as np\n",
    "\n",
    "import pytest\n",
    "\n",
    "from squlearn import Executor\n",
    "from squlearn.observables import SummedPaulis, SinglePauli\n",
    "from squlearn.encoding_circuit import ChebyshevPQC, HighDimEncodingCircuit\n",
    "from squlearn.optimizers import SLSQP, Adam\n",
    "from squlearn.qnn.loss import SquaredLoss\n",
    "from squlearn.qnn.lowlevel_qnn_qiskit import LowLevelQNN\n",
    "from squlearn.qnn.lowlevel_qnn_pennylane import LowLevelQNNPennyLane\n",
    "from squlearn.qnn import QNNRegressor, QNNClassifier\n",
    "from squlearn.qnn.training import train_mini_batch, ShotsFromRSTD\n",
    "\n",
    "executor = Executor(\"statevector_simulator\")\n"
   ]
  },
  {
   "cell_type": "code",
   "execution_count": 2,
   "metadata": {},
   "outputs": [
    {
     "name": "stdout",
     "output_type": "stream",
     "text": [
      "self._pennylane_gates [<class 'pennylane.ops.qubit.parametric_ops_single_qubit.RY'>, <class 'pennylane.ops.qubit.parametric_ops_single_qubit.RY'>, <class 'pennylane.ops.qubit.parametric_ops_single_qubit.RX'>, <class 'pennylane.ops.qubit.parametric_ops_single_qubit.RX'>, <class 'pennylane.ops.qubit.parametric_ops_controlled.CRZ'>, <class 'pennylane.ops.qubit.parametric_ops_single_qubit.RY'>, <class 'pennylane.ops.qubit.parametric_ops_single_qubit.RY'>]\n",
      "self._pennylane_gates_param_function [(<function _lambdifygenerated at 0x000001471D823A30>,), (<function _lambdifygenerated at 0x000001471D840E50>,), (<function _lambdifygenerated at 0x000001471D823370>,), (<function _lambdifygenerated at 0x000001471D840D30>,), (<function _lambdifygenerated at 0x000001471D841CF0>,), (<function _lambdifygenerated at 0x000001471D823BE0>,), (<function _lambdifygenerated at 0x000001471D840790>,)]\n",
      "self._pennylane_gates_wires [[0], [1], [0], [1], [0, 1], [0], [1]]\n",
      "self._pennylane_gates_parameters ['param', 'x']\n",
      "self._pennylane_obs_param_function [(1+0j)]\n",
      "self._pennylane_words [PauliZ(wires=[0])]\n",
      "self._pennylane_obs_parameters []\n",
      "self._pennylane_gates [<class 'pennylane.ops.qubit.parametric_ops_single_qubit.RY'>, <class 'pennylane.ops.qubit.parametric_ops_single_qubit.RY'>, <class 'pennylane.ops.qubit.parametric_ops_single_qubit.RX'>, <class 'pennylane.ops.qubit.parametric_ops_single_qubit.RX'>, <class 'pennylane.ops.qubit.parametric_ops_controlled.CRZ'>, <class 'pennylane.ops.qubit.parametric_ops_single_qubit.RY'>, <class 'pennylane.ops.qubit.parametric_ops_single_qubit.RY'>]\n",
      "self._pennylane_gates_param_function [(<function _lambdifygenerated at 0x000001471D8236D0>,), (<function _lambdifygenerated at 0x000001471D841120>,), (<function _lambdifygenerated at 0x000001471D842050>,), (<function _lambdifygenerated at 0x000001471D823400>,), (<function _lambdifygenerated at 0x000001471D841870>,), (<function _lambdifygenerated at 0x000001471D8413F0>,), (<function _lambdifygenerated at 0x000001471D8230A0>,)]\n",
      "self._pennylane_gates_wires [[0], [1], [0], [1], [0, 1], [0], [1]]\n",
      "self._pennylane_gates_parameters ['param', 'x']\n",
      "self._pennylane_obs_param_function [(1+0j)]\n",
      "self._pennylane_words [Identity(wires=[0])]\n",
      "self._pennylane_obs_parameters []\n"
     ]
    }
   ],
   "source": [
    "pqc = ChebyshevPQC(2, 1, 1)\n",
    "ob = SinglePauli(2, 0, \"Z\",parameterized=False)\n",
    "#ob = SummedPaulis(2)\n",
    "\n",
    "np.random.seed(0)\n",
    "param = np.random.rand(pqc.num_parameters)\n",
    "param_obs = np.random.rand(ob.num_parameters)\n",
    "\n",
    "qnn_pl = LowLevelQNNPennyLane(pqc, ob, executor, result_caching=False)"
   ]
  },
  {
   "cell_type": "code",
   "execution_count": 3,
   "metadata": {},
   "outputs": [
    {
     "name": "stdout",
     "output_type": "stream",
     "text": [
      "self._pennylane_circuit.circuit_arguments ['param', 'x']\n",
      "eval_tuple (tensor([0.5488135 , 0.71518937, 0.60276338, 0.54488318, 0.4236548 ,\n",
      "        0.64589411, 0.43758721], requires_grad=False), tensor([[0.5]], requires_grad=False))\n",
      "value [0.28350924+0.j]\n"
     ]
    },
    {
     "data": {
      "text/plain": [
       "0.28350923986882903"
      ]
     },
     "execution_count": 3,
     "metadata": {},
     "output_type": "execute_result"
    }
   ],
   "source": [
    "qnn_pl.evaluate(0.5, param, param_obs,\"f\")[\"f\"]"
   ]
  },
  {
   "cell_type": "code",
   "execution_count": 4,
   "metadata": {},
   "outputs": [
    {
     "name": "stdout",
     "output_type": "stream",
     "text": [
      "self._pennylane_circuit.circuit_arguments ['param', 'x']\n",
      "eval_tuple (tensor([0.5488135 , 0.71518937, 0.60276338, 0.54488318, 0.4236548 ,\n",
      "        0.64589411, 0.43758721], requires_grad=False), tensor([[0.5]], requires_grad=False))\n",
      "arg_index None\n"
     ]
    },
    {
     "data": {
      "text/plain": [
       "array([], dtype=float64)"
      ]
     },
     "execution_count": 4,
     "metadata": {},
     "output_type": "execute_result"
    }
   ],
   "source": [
    "qnn_pl.evaluate(0.5, param, param_obs,\"dfdopdop\")[\"dfdopdop\"]"
   ]
  },
  {
   "cell_type": "code",
   "execution_count": 5,
   "metadata": {},
   "outputs": [],
   "source": [
    "qnn_qiskit = LowLevelQNN(pqc, ob, executor, result_caching=False)"
   ]
  },
  {
   "cell_type": "code",
   "execution_count": 6,
   "metadata": {},
   "outputs": [
    {
     "data": {
      "text/plain": [
       "0.2835092398688289"
      ]
     },
     "execution_count": 6,
     "metadata": {},
     "output_type": "execute_result"
    }
   ],
   "source": [
    "qnn_qiskit.evaluate(0.5, param, param_obs,\"f\")[\"f\"]"
   ]
  },
  {
   "cell_type": "code",
   "execution_count": 7,
   "metadata": {},
   "outputs": [
    {
     "data": {
      "text/plain": [
       "array([], dtype=float64)"
      ]
     },
     "execution_count": 7,
     "metadata": {},
     "output_type": "execute_result"
    }
   ],
   "source": [
    "qnn_qiskit.evaluate(0.5, param, param_obs,\"dfdopdop\")[\"dfdopdop\"]"
   ]
  }
 ],
 "metadata": {
  "kernelspec": {
   "display_name": ".venv",
   "language": "python",
   "name": "python3"
  },
  "language_info": {
   "codemirror_mode": {
    "name": "ipython",
    "version": 3
   },
   "file_extension": ".py",
   "mimetype": "text/x-python",
   "name": "python",
   "nbconvert_exporter": "python",
   "pygments_lexer": "ipython3",
   "version": "3.10.2"
  }
 },
 "nbformat": 4,
 "nbformat_minor": 2
}
