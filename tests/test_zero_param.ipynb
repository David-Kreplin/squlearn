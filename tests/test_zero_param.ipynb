{
 "cells": [
  {
   "cell_type": "code",
   "execution_count": null,
   "metadata": {},
   "outputs": [],
   "source": [
    "\"\"\"Tests for training methods.\"\"\"\n",
    "\n",
    "import numpy as np\n",
    "\n",
    "import pytest\n",
    "\n",
    "from squlearn import Executor\n",
    "from squlearn.observables import SummedPaulis, SinglePauli\n",
    "from squlearn.encoding_circuit import ChebyshevPQC, HighDimEncodingCircuit\n",
    "from squlearn.optimizers import SLSQP, Adam\n",
    "from squlearn.qnn.loss import SquaredLoss\n",
    "from squlearn.qnn.lowlevel_qnn_qiskit import LowLevelQNN as QNN\n",
    "from squlearn.qnn import QNNRegressor, QNNClassifier\n",
    "from squlearn.qnn.training import train_mini_batch, ShotsFromRSTD\n",
    "\n",
    "executor = Executor(\"statevector_simulator\")\n"
   ]
  },
  {
   "cell_type": "code",
   "execution_count": null,
   "metadata": {},
   "outputs": [],
   "source": [
    "pqc = ChebyshevPQC(2, 1, 1)\n",
    "ob = SinglePauli(2, 0, \"Z\")\n",
    "\n",
    "qnn = QNNRegressor(\n",
    "    pqc,\n",
    "    ob,\n",
    "    executor,\n",
    "    SquaredLoss(),\n",
    "    SLSQP({\"maxiter\": 10}),\n",
    "    variance=0.005,\n",
    "    parameter_seed=0,\n",
    ")\n",
    "\n",
    "x_train = np.arange(-0.2, 0.3, 0.1)\n",
    "y_train = np.abs(x_train)\n",
    "\n",
    "qnn.fit(x_train, y_train)"
   ]
  }
 ],
 "metadata": {
  "kernelspec": {
   "display_name": ".venv",
   "language": "python",
   "name": "python3"
  },
  "language_info": {
   "codemirror_mode": {
    "name": "ipython",
    "version": 3
   },
   "file_extension": ".py",
   "mimetype": "text/x-python",
   "name": "python",
   "nbconvert_exporter": "python",
   "pygments_lexer": "ipython3",
   "version": "3.10.2"
  }
 },
 "nbformat": 4,
 "nbformat_minor": 2
}
