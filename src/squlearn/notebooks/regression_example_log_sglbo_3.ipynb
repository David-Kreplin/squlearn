{
 "cells": [
  {
   "cell_type": "markdown",
   "metadata": {},
   "source": [
    "# Example: Regression with `QNNRegressor`\n",
    "\n",
    "\n",
    "\n",
    "## Imports"
   ]
  },
  {
   "cell_type": "code",
   "execution_count": 1,
   "metadata": {
    "ExecuteTime": {
     "end_time": "2023-11-09T14:58:22.627446800Z",
     "start_time": "2023-11-09T14:58:15.389164300Z"
    }
   },
   "outputs": [],
   "source": [
    "\n",
    "import os\n",
    "os.environ['OPENBLAS'] = 'openblas'\n",
    "import numpy as np\n",
    "import matplotlib.pyplot as plt\n",
    "\n",
    "from squlearn import Executor\n",
    "from squlearn.observables import IsingHamiltonian\n",
    "from squlearn.qnn import QNNRegressor, SquaredLoss\n",
    "from squlearn.optimizers import SLSQP, Adam\n",
    "from src.squlearn.encoding_circuit import ChebyshevRx\n",
    "from src.squlearn.optimizers import SGLBO"
   ]
  },
  {
   "cell_type": "markdown",
   "metadata": {},
   "source": [
    "We will use Qiskit's `StatevectorSimulator` for trainning."
   ]
  },
  {
   "cell_type": "code",
   "execution_count": 2,
   "metadata": {
    "ExecuteTime": {
     "end_time": "2023-11-09T14:58:22.641459900Z",
     "start_time": "2023-11-09T14:58:22.628446800Z"
    }
   },
   "outputs": [],
   "source": [
    "executor = Executor(\"statevector_simulator\")"
   ]
  },
  {
   "cell_type": "markdown",
   "source": [
    "### BO Settings"
   ],
   "metadata": {
    "collapsed": false
   }
  },
  {
   "cell_type": "code",
   "execution_count": 3,
   "outputs": [],
   "source": [
    "x0 = [[i * 0.02] for i in range(15)]\n",
    "options = {\"bo_aqc_func\":\"EI\", \"bo_aqc_optimizer\":\"lbfgs\", \"bo_bounds\":[(0.0, 0.3)], \"log_file\":\"log_3\", \"bo_n_calls\": 50, \"bo_x0_points\": x0, \"maxiter\": 200}"
   ],
   "metadata": {
    "collapsed": false,
    "ExecuteTime": {
     "end_time": "2023-11-09T14:58:22.670484900Z",
     "start_time": "2023-11-09T14:58:22.643461300Z"
    }
   }
  },
  {
   "attachments": {},
   "cell_type": "markdown",
   "metadata": {},
   "source": [
    "## `QNNRegressor` Setup\n",
    "\n",
    "We start by defining a parameterized quantum circuit (PQC)"
   ]
  },
  {
   "cell_type": "code",
   "execution_count": 4,
   "metadata": {
    "ExecuteTime": {
     "end_time": "2023-11-09T14:58:22.681495100Z",
     "start_time": "2023-11-09T14:58:22.657473700Z"
    }
   },
   "outputs": [],
   "source": [
    "\n",
    "nqubits = 4\n",
    "number_of_layers = 2\n",
    "\n",
    "pqc = ChebyshevRx(nqubits, 1, num_layers=number_of_layers)"
   ]
  },
  {
   "attachments": {},
   "cell_type": "markdown",
   "metadata": {},
   "source": [
    "We also need an observable"
   ]
  },
  {
   "cell_type": "code",
   "execution_count": 5,
   "metadata": {
    "ExecuteTime": {
     "end_time": "2023-11-09T14:58:22.693505900Z",
     "start_time": "2023-11-09T14:58:22.675489300Z"
    }
   },
   "outputs": [
    {
     "name": "stdout",
     "output_type": "stream",
     "text": [
      "SparsePauliOp(['IIII', 'IIIZ', 'IIZI', 'IZII', 'ZIII', 'IIZZ', 'IZIZ', 'IZZI', 'ZIIZ', 'ZIZI', 'ZZII'],\n",
      "              coeffs=[ParameterExpression(1.0*p[0]), ParameterExpression(1.0*p[1]),\n",
      " ParameterExpression(1.0*p[1]), ParameterExpression(1.0*p[1]),\n",
      " ParameterExpression(1.0*p[1]), ParameterExpression(1.0*p[2]),\n",
      " ParameterExpression(1.0*p[2]), ParameterExpression(1.0*p[2]),\n",
      " ParameterExpression(1.0*p[2]), ParameterExpression(1.0*p[2]),\n",
      " ParameterExpression(1.0*p[2])])\n"
     ]
    }
   ],
   "source": [
    "ising_op = IsingHamiltonian(nqubits, I=\"S\", Z=\"S\", ZZ=\"S\")\n",
    "print(ising_op)"
   ]
  },
  {
   "attachments": {},
   "cell_type": "markdown",
   "metadata": {},
   "source": [
    "Now we can create the `QNNRegressor` with the PQC and cost operator. We also specify `SquaredLoss` and `SLSQP` as the loss function and optimizer respectively. Finally we specify random initial parameters for both, the PQC and cost operator."
   ]
  },
  {
   "cell_type": "code",
   "execution_count": 6,
   "metadata": {
    "ExecuteTime": {
     "end_time": "2023-11-09T14:58:22.780584700Z",
     "start_time": "2023-11-09T14:58:22.690503200Z"
    }
   },
   "outputs": [],
   "source": [
    "np.random.seed(13)\n",
    "param_ini = np.random.rand(pqc.num_parameters)\n",
    "param_op_ini = np.random.rand(ising_op.num_parameters)\n",
    "\n",
    "reg = QNNRegressor(pqc, ising_op, executor, SquaredLoss(), SGLBO(options), param_ini, param_op_ini)"
   ]
  },
  {
   "attachments": {},
   "cell_type": "markdown",
   "metadata": {},
   "source": [
    "## Training\n",
    "\n",
    "Now we are ready to train the model to fit the logarithm funciton"
   ]
  },
  {
   "cell_type": "code",
   "execution_count": 7,
   "metadata": {
    "ExecuteTime": {
     "end_time": "2023-11-09T14:59:51.095196400Z",
     "start_time": "2023-11-09T14:58:22.781586700Z"
    }
   },
   "outputs": [
    {
     "name": "stderr",
     "output_type": "stream",
     "text": [
      "fit:   0%|          | 0/200 [00:00<?, ?it/s]"
     ]
    },
    {
     "name": "stdout",
     "output_type": "stream",
     "text": [
      "BOP  fval:  15.814272879618057  x:  [0.0]\n",
      "BOP  fval:  7.406134666245535  x:  [0.02]\n",
      "BOP  fval:  50.8228212115754  x:  [0.04]\n",
      "BOP  fval:  20.429626282082793  x:  [0.06]\n",
      "BOP  fval:  59.58627452274307  x:  [0.08]\n",
      "BOP  fval:  68.15283045494269  x:  [0.1]\n",
      "BOP  fval:  148.1910664963914  x:  [0.12]\n",
      "BOP  fval:  786.5723032071  x:  [0.14]\n",
      "BOP  fval:  230.22684213883716  x:  [0.16]\n",
      "BOP  fval:  300.2740415341456  x:  [0.18]\n",
      "BOP  fval:  479.6185825273909  x:  [0.2]\n",
      "BOP  fval:  1073.8329052537167  x:  [0.22]\n",
      "BOP  fval:  333.4316539751176  x:  [0.24]\n",
      "BOP  fval:  292.60243231787996  x:  [0.26]\n",
      "BOP  fval:  1717.2735205115187  x:  [0.28]\n",
      "BOP  fval:  237.73234564561938  x:  [0.17785338546750554]\n",
      "BOP  fval:  1546.774057454525  x:  [0.25327972457430525]\n",
      "BOP  fval:  398.1151211424091  x:  [0.2573836852868271]\n",
      "BOP  fval:  3360.2839338861795  x:  [0.25417552163523766]\n",
      "BOP  fval:  582.2095580921484  x:  [0.18706910903579174]\n",
      "BOP  fval:  365.79478534986595  x:  [0.11531451218780997]\n",
      "BOP  fval:  181.54366534868115  x:  [0.0892603819633417]\n",
      "BOP  fval:  6.143779894940264  x:  [0.017013893195232957]\n",
      "BOP  fval:  295.11403299017775  x:  [0.08179688837403397]\n",
      "BOP  fval:  178.4346387099019  x:  [0.14329953519640498]\n"
     ]
    },
    {
     "name": "stderr",
     "output_type": "stream",
     "text": [
      "C:\\Users\\denni\\PycharmProjects\\squlearn\\venv\\lib\\site-packages\\skopt\\optimizer\\optimizer.py:449: UserWarning: The objective has been evaluated at this point before.\n",
      "  warnings.warn(\"The objective has been evaluated \"\n"
     ]
    },
    {
     "name": "stdout",
     "output_type": "stream",
     "text": [
      "BOP  fval:  15.814272879618057  x:  [0.0]\n"
     ]
    },
    {
     "name": "stderr",
     "output_type": "stream",
     "text": [
      "C:\\Users\\denni\\PycharmProjects\\squlearn\\venv\\lib\\site-packages\\skopt\\optimizer\\optimizer.py:449: UserWarning: The objective has been evaluated at this point before.\n",
      "  warnings.warn(\"The objective has been evaluated \"\n"
     ]
    },
    {
     "name": "stdout",
     "output_type": "stream",
     "text": [
      "BOP  fval:  15.814272879618057  x:  [0.0]\n"
     ]
    },
    {
     "name": "stderr",
     "output_type": "stream",
     "text": [
      "C:\\Users\\denni\\PycharmProjects\\squlearn\\venv\\lib\\site-packages\\skopt\\optimizer\\optimizer.py:449: UserWarning: The objective has been evaluated at this point before.\n",
      "  warnings.warn(\"The objective has been evaluated \"\n",
      "C:\\Users\\denni\\PycharmProjects\\squlearn\\venv\\lib\\site-packages\\skopt\\optimizer\\optimizer.py:449: UserWarning: The objective has been evaluated at this point before.\n",
      "  warnings.warn(\"The objective has been evaluated \"\n",
      "C:\\Users\\denni\\PycharmProjects\\squlearn\\venv\\lib\\site-packages\\skopt\\optimizer\\optimizer.py:449: UserWarning: The objective has been evaluated at this point before.\n",
      "  warnings.warn(\"The objective has been evaluated \"\n"
     ]
    },
    {
     "name": "stdout",
     "output_type": "stream",
     "text": [
      "BOP  fval:  15.814272879618057  x:  [0.0]\n",
      "BOP  fval:  15.814272879618057  x:  [0.0]\n",
      "BOP  fval:  15.814272879618057  x:  [0.0]\n"
     ]
    },
    {
     "name": "stderr",
     "output_type": "stream",
     "text": [
      "C:\\Users\\denni\\PycharmProjects\\squlearn\\venv\\lib\\site-packages\\skopt\\optimizer\\optimizer.py:449: UserWarning: The objective has been evaluated at this point before.\n",
      "  warnings.warn(\"The objective has been evaluated \"\n",
      "C:\\Users\\denni\\PycharmProjects\\squlearn\\venv\\lib\\site-packages\\skopt\\optimizer\\optimizer.py:449: UserWarning: The objective has been evaluated at this point before.\n",
      "  warnings.warn(\"The objective has been evaluated \"\n"
     ]
    },
    {
     "name": "stdout",
     "output_type": "stream",
     "text": [
      "BOP  fval:  15.814272879618057  x:  [0.0]\n",
      "BOP  fval:  15.814272879618057  x:  [0.0]\n"
     ]
    },
    {
     "name": "stderr",
     "output_type": "stream",
     "text": [
      "C:\\Users\\denni\\PycharmProjects\\squlearn\\venv\\lib\\site-packages\\skopt\\optimizer\\optimizer.py:449: UserWarning: The objective has been evaluated at this point before.\n",
      "  warnings.warn(\"The objective has been evaluated \"\n",
      "C:\\Users\\denni\\PycharmProjects\\squlearn\\venv\\lib\\site-packages\\skopt\\optimizer\\optimizer.py:449: UserWarning: The objective has been evaluated at this point before.\n",
      "  warnings.warn(\"The objective has been evaluated \"\n"
     ]
    },
    {
     "name": "stdout",
     "output_type": "stream",
     "text": [
      "BOP  fval:  15.814272879618057  x:  [0.0]\n",
      "BOP  fval:  15.814272879618057  x:  [0.0]\n"
     ]
    },
    {
     "name": "stderr",
     "output_type": "stream",
     "text": [
      "C:\\Users\\denni\\PycharmProjects\\squlearn\\venv\\lib\\site-packages\\skopt\\optimizer\\optimizer.py:449: UserWarning: The objective has been evaluated at this point before.\n",
      "  warnings.warn(\"The objective has been evaluated \"\n"
     ]
    },
    {
     "name": "stdout",
     "output_type": "stream",
     "text": [
      "BOP  fval:  15.814272879618057  x:  [0.0]\n"
     ]
    },
    {
     "name": "stderr",
     "output_type": "stream",
     "text": [
      "C:\\Users\\denni\\PycharmProjects\\squlearn\\venv\\lib\\site-packages\\skopt\\optimizer\\optimizer.py:449: UserWarning: The objective has been evaluated at this point before.\n",
      "  warnings.warn(\"The objective has been evaluated \"\n",
      "C:\\Users\\denni\\PycharmProjects\\squlearn\\venv\\lib\\site-packages\\skopt\\optimizer\\optimizer.py:449: UserWarning: The objective has been evaluated at this point before.\n",
      "  warnings.warn(\"The objective has been evaluated \"\n"
     ]
    },
    {
     "name": "stdout",
     "output_type": "stream",
     "text": [
      "BOP  fval:  15.814272879618057  x:  [0.0]\n",
      "BOP  fval:  15.814272879618057  x:  [0.0]\n",
      "BOP  fval:  17.403258007641064  x:  [0.003319819735406482]\n",
      "BOP  fval:  15.814272879618057  x:  [0.0]\n"
     ]
    },
    {
     "name": "stderr",
     "output_type": "stream",
     "text": [
      "C:\\Users\\denni\\PycharmProjects\\squlearn\\venv\\lib\\site-packages\\skopt\\optimizer\\optimizer.py:449: UserWarning: The objective has been evaluated at this point before.\n",
      "  warnings.warn(\"The objective has been evaluated \"\n"
     ]
    },
    {
     "name": "stdout",
     "output_type": "stream",
     "text": [
      "BOP  fval:  30.738365841839205  x:  [0.06346310543020538]\n",
      "BOP  fval:  15.814272879618057  x:  [0.0]\n"
     ]
    },
    {
     "name": "stderr",
     "output_type": "stream",
     "text": [
      "C:\\Users\\denni\\PycharmProjects\\squlearn\\venv\\lib\\site-packages\\skopt\\optimizer\\optimizer.py:449: UserWarning: The objective has been evaluated at this point before.\n",
      "  warnings.warn(\"The objective has been evaluated \"\n"
     ]
    },
    {
     "name": "stdout",
     "output_type": "stream",
     "text": [
      "BOP  fval:  1438.1821589979102  x:  [0.25057831851702383]\n",
      "BOP  fval:  15.814272879618057  x:  [0.0]\n"
     ]
    },
    {
     "name": "stderr",
     "output_type": "stream",
     "text": [
      "C:\\Users\\denni\\PycharmProjects\\squlearn\\venv\\lib\\site-packages\\skopt\\optimizer\\optimizer.py:449: UserWarning: The objective has been evaluated at this point before.\n",
      "  warnings.warn(\"The objective has been evaluated \"\n",
      "C:\\Users\\denni\\PycharmProjects\\squlearn\\venv\\lib\\site-packages\\skopt\\optimizer\\optimizer.py:449: UserWarning: The objective has been evaluated at this point before.\n",
      "  warnings.warn(\"The objective has been evaluated \"\n"
     ]
    },
    {
     "name": "stdout",
     "output_type": "stream",
     "text": [
      "BOP  fval:  15.814272879618057  x:  [0.0]\n",
      "BOP  fval:  15.814272879618057  x:  [0.0]\n"
     ]
    },
    {
     "name": "stderr",
     "output_type": "stream",
     "text": [
      "C:\\Users\\denni\\PycharmProjects\\squlearn\\venv\\lib\\site-packages\\skopt\\optimizer\\optimizer.py:449: UserWarning: The objective has been evaluated at this point before.\n",
      "  warnings.warn(\"The objective has been evaluated \"\n",
      "C:\\Users\\denni\\PycharmProjects\\squlearn\\venv\\lib\\site-packages\\skopt\\optimizer\\optimizer.py:449: UserWarning: The objective has been evaluated at this point before.\n",
      "  warnings.warn(\"The objective has been evaluated \"\n",
      "C:\\Users\\denni\\PycharmProjects\\squlearn\\venv\\lib\\site-packages\\skopt\\optimizer\\optimizer.py:449: UserWarning: The objective has been evaluated at this point before.\n",
      "  warnings.warn(\"The objective has been evaluated \"\n"
     ]
    },
    {
     "name": "stdout",
     "output_type": "stream",
     "text": [
      "BOP  fval:  15.814272879618057  x:  [0.0]\n",
      "BOP  fval:  15.814272879618057  x:  [0.0]\n"
     ]
    },
    {
     "name": "stderr",
     "output_type": "stream",
     "text": [
      "C:\\Users\\denni\\PycharmProjects\\squlearn\\venv\\lib\\site-packages\\skopt\\optimizer\\optimizer.py:449: UserWarning: The objective has been evaluated at this point before.\n",
      "  warnings.warn(\"The objective has been evaluated \"\n",
      "C:\\Users\\denni\\PycharmProjects\\squlearn\\venv\\lib\\site-packages\\skopt\\optimizer\\optimizer.py:449: UserWarning: The objective has been evaluated at this point before.\n",
      "  warnings.warn(\"The objective has been evaluated \"\n"
     ]
    },
    {
     "name": "stdout",
     "output_type": "stream",
     "text": [
      "BOP  fval:  15.814272879618057  x:  [0.0]\n",
      "BOP  fval:  15.814272879618057  x:  [0.0]\n"
     ]
    },
    {
     "name": "stderr",
     "output_type": "stream",
     "text": [
      "C:\\Users\\denni\\PycharmProjects\\squlearn\\venv\\lib\\site-packages\\skopt\\optimizer\\optimizer.py:449: UserWarning: The objective has been evaluated at this point before.\n",
      "  warnings.warn(\"The objective has been evaluated \"\n"
     ]
    },
    {
     "name": "stdout",
     "output_type": "stream",
     "text": [
      "BOP  fval:  15.814272879618057  x:  [0.0]\n",
      "\u001B[91m Iteration:  0 :  gp_minimize:  fval:  6.143779894940264  x:  [0.017013893195232957] \u001B[0m\n",
      "BOP  fval:  6.143779894940264  x:  [0.0]\n",
      "BOP  fval:  7.587060158875562  x:  [0.02]\n",
      "BOP  fval:  35.2583384754599  x:  [0.04]\n",
      "BOP  fval:  37.954533357150346  x:  [0.06]\n",
      "BOP  fval:  54.16203213981512  x:  [0.08]\n",
      "BOP  fval:  67.53626097289282  x:  [0.1]\n",
      "BOP  fval:  51.693329841782486  x:  [0.12]\n",
      "BOP  fval:  66.41993924171521  x:  [0.14]\n",
      "BOP  fval:  122.61079917781383  x:  [0.16]\n",
      "BOP  fval:  131.077837660088  x:  [0.18]\n",
      "BOP  fval:  20.94961143558226  x:  [0.2]\n",
      "BOP  fval:  283.63341840728276  x:  [0.22]\n",
      "BOP  fval:  208.2853542426995  x:  [0.24]\n",
      "BOP  fval:  88.56944826514406  x:  [0.26]\n",
      "BOP  fval:  45.5930350604082  x:  [0.28]\n",
      "BOP  fval:  50.67156171034075  x:  [0.17785338546750554]\n",
      "BOP  fval:  155.92753079224357  x:  [0.25327972457430525]\n",
      "BOP  fval:  24.23355406794921  x:  [0.2573836852868271]\n",
      "BOP  fval:  127.85913356811655  x:  [0.25417552163523766]\n",
      "BOP  fval:  20.676320035627022  x:  [0.18706910903579174]\n",
      "BOP  fval:  18.40806036812333  x:  [0.11531451218780997]\n",
      "BOP  fval:  37.123005022233016  x:  [0.0892603819633417]\n",
      "BOP  fval:  12.290185875717064  x:  [0.017013893195232957]\n",
      "BOP  fval:  92.623777941327  x:  [0.08179688837403397]\n",
      "BOP  fval:  16.951170187520667  x:  [0.14329953519640498]\n",
      "BOP  fval:  4.787724425560326  x:  [0.007719282544351825]\n",
      "BOP  fval:  5.9094417010279745  x:  [0.007730017324515463]\n",
      "BOP  fval:  6.143779894940264  x:  [0.0]\n"
     ]
    },
    {
     "name": "stderr",
     "output_type": "stream",
     "text": [
      "C:\\Users\\denni\\PycharmProjects\\squlearn\\venv\\lib\\site-packages\\skopt\\optimizer\\optimizer.py:449: UserWarning: The objective has been evaluated at this point before.\n",
      "  warnings.warn(\"The objective has been evaluated \"\n"
     ]
    },
    {
     "name": "stdout",
     "output_type": "stream",
     "text": [
      "BOP  fval:  3.6168424560150445  x:  [0.009727990168463367]\n",
      "BOP  fval:  89.54452920850282  x:  [0.3]\n",
      "BOP  fval:  6.143779894940264  x:  [0.0]\n"
     ]
    },
    {
     "name": "stderr",
     "output_type": "stream",
     "text": [
      "C:\\Users\\denni\\PycharmProjects\\squlearn\\venv\\lib\\site-packages\\skopt\\optimizer\\optimizer.py:449: UserWarning: The objective has been evaluated at this point before.\n",
      "  warnings.warn(\"The objective has been evaluated \"\n"
     ]
    },
    {
     "name": "stdout",
     "output_type": "stream",
     "text": [
      "BOP  fval:  19.398674101054645  x:  [0.009587834392701682]\n",
      "BOP  fval:  29.42439303260383  x:  [0.026192561009790765]\n",
      "BOP  fval:  6.143779894940264  x:  [0.0]\n"
     ]
    },
    {
     "name": "stderr",
     "output_type": "stream",
     "text": [
      "C:\\Users\\denni\\PycharmProjects\\squlearn\\venv\\lib\\site-packages\\skopt\\optimizer\\optimizer.py:449: UserWarning: The objective has been evaluated at this point before.\n",
      "  warnings.warn(\"The objective has been evaluated \"\n",
      "C:\\Users\\denni\\PycharmProjects\\squlearn\\venv\\lib\\site-packages\\skopt\\optimizer\\optimizer.py:449: UserWarning: The objective has been evaluated at this point before.\n",
      "  warnings.warn(\"The objective has been evaluated \"\n"
     ]
    },
    {
     "name": "stdout",
     "output_type": "stream",
     "text": [
      "BOP  fval:  6.143779894940264  x:  [0.0]\n",
      "BOP  fval:  3.3636456859580925  x:  [0.005772911909082029]\n",
      "BOP  fval:  6.479395784211228  x:  [0.012209307716474544]\n",
      "BOP  fval:  6.143779894940264  x:  [0.0]\n"
     ]
    },
    {
     "name": "stderr",
     "output_type": "stream",
     "text": [
      "C:\\Users\\denni\\PycharmProjects\\squlearn\\venv\\lib\\site-packages\\skopt\\optimizer\\optimizer.py:449: UserWarning: The objective has been evaluated at this point before.\n",
      "  warnings.warn(\"The objective has been evaluated \"\n"
     ]
    },
    {
     "name": "stdout",
     "output_type": "stream",
     "text": [
      "BOP  fval:  38.92440252945444  x:  [0.005343165334154254]\n",
      "BOP  fval:  25.78469252480137  x:  [0.015667829595823284]\n",
      "BOP  fval:  12.658316646325952  x:  [0.006635605406649425]\n",
      "BOP  fval:  55.05741701235581  x:  [0.17383714314072782]\n",
      "BOP  fval:  6.143779894940264  x:  [0.0]\n"
     ]
    },
    {
     "name": "stderr",
     "output_type": "stream",
     "text": [
      "C:\\Users\\denni\\PycharmProjects\\squlearn\\venv\\lib\\site-packages\\skopt\\optimizer\\optimizer.py:449: UserWarning: The objective has been evaluated at this point before.\n",
      "  warnings.warn(\"The objective has been evaluated \"\n"
     ]
    },
    {
     "name": "stdout",
     "output_type": "stream",
     "text": [
      "BOP  fval:  63.80119473684204  x:  [0.14686811951119993]\n",
      "BOP  fval:  82.6391872711814  x:  [0.19091889347656554]\n",
      "BOP  fval:  6.143779894940264  x:  [0.0]\n"
     ]
    },
    {
     "name": "stderr",
     "output_type": "stream",
     "text": [
      "C:\\Users\\denni\\PycharmProjects\\squlearn\\venv\\lib\\site-packages\\skopt\\optimizer\\optimizer.py:449: UserWarning: The objective has been evaluated at this point before.\n",
      "  warnings.warn(\"The objective has been evaluated \"\n",
      "C:\\Users\\denni\\PycharmProjects\\squlearn\\venv\\lib\\site-packages\\skopt\\optimizer\\optimizer.py:449: UserWarning: The objective has been evaluated at this point before.\n",
      "  warnings.warn(\"The objective has been evaluated \"\n"
     ]
    },
    {
     "name": "stdout",
     "output_type": "stream",
     "text": [
      "BOP  fval:  6.143779894940264  x:  [0.0]\n",
      "BOP  fval:  42.03086008227552  x:  [0.11146610804784107]\n",
      "BOP  fval:  161.81955223072256  x:  [0.20404925983011835]\n",
      "BOP  fval:  25.01628863780793  x:  [0.010796329151336827]\n",
      "\u001B[91m Iteration:  1 :  gp_minimize:  fval:  3.3636456859580925  x:  [0.005772911909082029] \u001B[0m\n",
      "BOP  fval:  3.3636456859580925  x:  [0.0]\n",
      "BOP  fval:  34.28189566058346  x:  [0.02]\n",
      "BOP  fval:  20.82360691842566  x:  [0.04]\n",
      "BOP  fval:  28.441598509180167  x:  [0.06]\n",
      "BOP  fval:  24.719905359421986  x:  [0.08]\n",
      "BOP  fval:  28.155015614305647  x:  [0.1]\n",
      "BOP  fval:  30.868498855936405  x:  [0.12]\n",
      "BOP  fval:  63.70357852838061  x:  [0.14]\n",
      "BOP  fval:  58.710639753903465  x:  [0.16]\n",
      "BOP  fval:  59.656664922199155  x:  [0.18]\n",
      "BOP  fval:  104.49168804046681  x:  [0.2]\n",
      "BOP  fval:  82.37067480491424  x:  [0.22]\n",
      "BOP  fval:  304.3340582989083  x:  [0.24]\n",
      "BOP  fval:  77.8670859079831  x:  [0.26]\n",
      "BOP  fval:  130.36235835688703  x:  [0.28]\n",
      "BOP  fval:  91.81024173125009  x:  [0.17785338546750554]\n",
      "BOP  fval:  116.65660677454656  x:  [0.25327972457430525]\n",
      "BOP  fval:  107.89273367994343  x:  [0.2573836852868271]\n",
      "BOP  fval:  93.84444301764431  x:  [0.25417552163523766]\n",
      "BOP  fval:  104.2694938234597  x:  [0.18706910903579174]\n",
      "BOP  fval:  45.37645912752378  x:  [0.11531451218780997]\n",
      "BOP  fval:  43.580389669125516  x:  [0.0892603819633417]\n",
      "BOP  fval:  3.0241964341687737  x:  [0.017013893195232957]\n",
      "BOP  fval:  18.780195151435464  x:  [0.08179688837403397]\n",
      "BOP  fval:  75.80601840621148  x:  [0.14329953519640498]\n"
     ]
    },
    {
     "name": "stderr",
     "output_type": "stream",
     "text": [
      "C:\\Users\\denni\\PycharmProjects\\squlearn\\venv\\lib\\site-packages\\skopt\\optimizer\\optimizer.py:449: UserWarning: The objective has been evaluated at this point before.\n",
      "  warnings.warn(\"The objective has been evaluated \"\n",
      "C:\\Users\\denni\\PycharmProjects\\squlearn\\venv\\lib\\site-packages\\skopt\\optimizer\\optimizer.py:449: UserWarning: The objective has been evaluated at this point before.\n",
      "  warnings.warn(\"The objective has been evaluated \"\n",
      "C:\\Users\\denni\\PycharmProjects\\squlearn\\venv\\lib\\site-packages\\skopt\\optimizer\\optimizer.py:449: UserWarning: The objective has been evaluated at this point before.\n",
      "  warnings.warn(\"The objective has been evaluated \"\n"
     ]
    },
    {
     "name": "stdout",
     "output_type": "stream",
     "text": [
      "BOP  fval:  3.3636456859580925  x:  [0.0]\n",
      "BOP  fval:  3.3636456859580925  x:  [0.0]\n",
      "BOP  fval:  3.3636456859580925  x:  [0.0]\n"
     ]
    },
    {
     "name": "stderr",
     "output_type": "stream",
     "text": [
      "C:\\Users\\denni\\PycharmProjects\\squlearn\\venv\\lib\\site-packages\\skopt\\optimizer\\optimizer.py:449: UserWarning: The objective has been evaluated at this point before.\n",
      "  warnings.warn(\"The objective has been evaluated \"\n"
     ]
    },
    {
     "name": "stdout",
     "output_type": "stream",
     "text": [
      "BOP  fval:  3.3636456859580925  x:  [0.0]\n",
      "BOP  fval:  5.361160526798411  x:  [0.013550186545155518]\n",
      "BOP  fval:  7.561089772357772  x:  [0.004069600873737444]\n",
      "BOP  fval:  9.84521320575275  x:  [0.008725645479762748]\n",
      "BOP  fval:  3.3636456859580925  x:  [0.0]\n"
     ]
    },
    {
     "name": "stderr",
     "output_type": "stream",
     "text": [
      "C:\\Users\\denni\\PycharmProjects\\squlearn\\venv\\lib\\site-packages\\skopt\\optimizer\\optimizer.py:449: UserWarning: The objective has been evaluated at this point before.\n",
      "  warnings.warn(\"The objective has been evaluated \"\n",
      "C:\\Users\\denni\\PycharmProjects\\squlearn\\venv\\lib\\site-packages\\skopt\\optimizer\\optimizer.py:449: UserWarning: The objective has been evaluated at this point before.\n",
      "  warnings.warn(\"The objective has been evaluated \"\n"
     ]
    },
    {
     "name": "stdout",
     "output_type": "stream",
     "text": [
      "BOP  fval:  3.3636456859580925  x:  [0.0]\n",
      "BOP  fval:  6.957995692174517  x:  [0.046610012825945325]\n",
      "BOP  fval:  3.3636456859580925  x:  [0.0]\n"
     ]
    },
    {
     "name": "stderr",
     "output_type": "stream",
     "text": [
      "C:\\Users\\denni\\PycharmProjects\\squlearn\\venv\\lib\\site-packages\\skopt\\optimizer\\optimizer.py:449: UserWarning: The objective has been evaluated at this point before.\n",
      "  warnings.warn(\"The objective has been evaluated \"\n",
      "C:\\Users\\denni\\PycharmProjects\\squlearn\\venv\\lib\\site-packages\\skopt\\optimizer\\optimizer.py:449: UserWarning: The objective has been evaluated at this point before.\n",
      "  warnings.warn(\"The objective has been evaluated \"\n"
     ]
    },
    {
     "name": "stdout",
     "output_type": "stream",
     "text": [
      "BOP  fval:  3.3636456859580925  x:  [0.0]\n",
      "BOP  fval:  28.551889774460207  x:  [0.05210388912760084]\n",
      "BOP  fval:  26.308611053794323  x:  [0.06819104894474146]\n",
      "BOP  fval:  57.524189710736614  x:  [0.12790935692383407]\n",
      "BOP  fval:  20.234613949112223  x:  [0.03281963420075785]\n",
      "BOP  fval:  166.69971001191664  x:  [0.3]\n",
      "BOP  fval:  3.3636456859580925  x:  [0.0]\n"
     ]
    },
    {
     "name": "stderr",
     "output_type": "stream",
     "text": [
      "C:\\Users\\denni\\PycharmProjects\\squlearn\\venv\\lib\\site-packages\\skopt\\optimizer\\optimizer.py:449: UserWarning: The objective has been evaluated at this point before.\n",
      "  warnings.warn(\"The objective has been evaluated \"\n",
      "C:\\Users\\denni\\PycharmProjects\\squlearn\\venv\\lib\\site-packages\\skopt\\optimizer\\optimizer.py:449: UserWarning: The objective has been evaluated at this point before.\n",
      "  warnings.warn(\"The objective has been evaluated \"\n"
     ]
    },
    {
     "name": "stdout",
     "output_type": "stream",
     "text": [
      "BOP  fval:  3.3636456859580925  x:  [0.0]\n",
      "BOP  fval:  143.8446316308586  x:  [0.2670328434566833]\n",
      "BOP  fval:  36.053077122469965  x:  [0.10629689870818355]\n",
      "BOP  fval:  27.70079288927554  x:  [0.07344992816068849]\n",
      "BOP  fval:  10.426192845960916  x:  [0.027909070577989387]\n",
      "BOP  fval:  10.96961828304636  x:  [0.04375358659606752]\n",
      "BOP  fval:  131.15678059191004  x:  [0.21053932849231533]\n",
      "\u001B[91m Iteration:  2 :  gp_minimize:  fval:  3.0241964341687737  x:  [0.017013893195232957] \u001B[0m\n",
      "BOP  fval:  3.0241964341687737  x:  [0.0]\n",
      "BOP  fval:  26.386511992113075  x:  [0.02]\n",
      "BOP  fval:  17.66674181996736  x:  [0.04]\n",
      "BOP  fval:  30.193460261767342  x:  [0.06]\n",
      "BOP  fval:  58.29348373672836  x:  [0.08]\n",
      "BOP  fval:  80.64630954274696  x:  [0.1]\n",
      "BOP  fval:  91.2563375502444  x:  [0.12]\n",
      "BOP  fval:  174.32337698306412  x:  [0.14]\n",
      "BOP  fval:  187.4301727679254  x:  [0.16]\n",
      "BOP  fval:  282.01677915127226  x:  [0.18]\n",
      "BOP  fval:  243.6051390540096  x:  [0.2]\n",
      "BOP  fval:  497.30984910977685  x:  [0.22]\n",
      "BOP  fval:  254.7753758125341  x:  [0.24]\n",
      "BOP  fval:  509.96391461894984  x:  [0.26]\n",
      "BOP  fval:  227.58111273682067  x:  [0.28]\n",
      "BOP  fval:  325.6731159479741  x:  [0.17785338546750554]\n",
      "BOP  fval:  729.4340420877104  x:  [0.25327972457430525]\n",
      "BOP  fval:  391.3883816132468  x:  [0.2573836852868271]\n",
      "BOP  fval:  193.25882722499472  x:  [0.25417552163523766]\n",
      "BOP  fval:  348.9197214387149  x:  [0.18706910903579174]\n",
      "BOP  fval:  68.26438390917353  x:  [0.11531451218780997]\n",
      "BOP  fval:  113.51293555643974  x:  [0.0892603819633417]\n",
      "BOP  fval:  11.799244986654987  x:  [0.017013893195232957]\n",
      "BOP  fval:  41.31682097094351  x:  [0.08179688837403397]\n",
      "BOP  fval:  105.44347140039201  x:  [0.14329953519640498]\n"
     ]
    },
    {
     "name": "stderr",
     "output_type": "stream",
     "text": [
      "C:\\Users\\denni\\PycharmProjects\\squlearn\\venv\\lib\\site-packages\\skopt\\optimizer\\optimizer.py:449: UserWarning: The objective has been evaluated at this point before.\n",
      "  warnings.warn(\"The objective has been evaluated \"\n"
     ]
    },
    {
     "name": "stdout",
     "output_type": "stream",
     "text": [
      "BOP  fval:  3.0241964341687737  x:  [0.0]\n"
     ]
    },
    {
     "name": "stderr",
     "output_type": "stream",
     "text": [
      "C:\\Users\\denni\\PycharmProjects\\squlearn\\venv\\lib\\site-packages\\skopt\\optimizer\\optimizer.py:449: UserWarning: The objective has been evaluated at this point before.\n",
      "  warnings.warn(\"The objective has been evaluated \"\n",
      "C:\\Users\\denni\\PycharmProjects\\squlearn\\venv\\lib\\site-packages\\skopt\\optimizer\\optimizer.py:449: UserWarning: The objective has been evaluated at this point before.\n",
      "  warnings.warn(\"The objective has been evaluated \"\n",
      "C:\\Users\\denni\\PycharmProjects\\squlearn\\venv\\lib\\site-packages\\skopt\\optimizer\\optimizer.py:449: UserWarning: The objective has been evaluated at this point before.\n",
      "  warnings.warn(\"The objective has been evaluated \"\n"
     ]
    },
    {
     "name": "stdout",
     "output_type": "stream",
     "text": [
      "BOP  fval:  3.0241964341687737  x:  [0.0]\n",
      "BOP  fval:  3.0241964341687737  x:  [0.0]\n",
      "BOP  fval:  3.0241964341687737  x:  [0.0]\n"
     ]
    },
    {
     "name": "stderr",
     "output_type": "stream",
     "text": [
      "C:\\Users\\denni\\PycharmProjects\\squlearn\\venv\\lib\\site-packages\\skopt\\optimizer\\optimizer.py:449: UserWarning: The objective has been evaluated at this point before.\n",
      "  warnings.warn(\"The objective has been evaluated \"\n",
      "C:\\Users\\denni\\PycharmProjects\\squlearn\\venv\\lib\\site-packages\\skopt\\optimizer\\optimizer.py:449: UserWarning: The objective has been evaluated at this point before.\n",
      "  warnings.warn(\"The objective has been evaluated \"\n"
     ]
    },
    {
     "name": "stdout",
     "output_type": "stream",
     "text": [
      "BOP  fval:  3.0241964341687737  x:  [0.0]\n",
      "BOP  fval:  3.0241964341687737  x:  [0.0]\n"
     ]
    },
    {
     "name": "stderr",
     "output_type": "stream",
     "text": [
      "C:\\Users\\denni\\PycharmProjects\\squlearn\\venv\\lib\\site-packages\\skopt\\optimizer\\optimizer.py:449: UserWarning: The objective has been evaluated at this point before.\n",
      "  warnings.warn(\"The objective has been evaluated \"\n",
      "C:\\Users\\denni\\PycharmProjects\\squlearn\\venv\\lib\\site-packages\\skopt\\optimizer\\optimizer.py:449: UserWarning: The objective has been evaluated at this point before.\n",
      "  warnings.warn(\"The objective has been evaluated \"\n"
     ]
    },
    {
     "name": "stdout",
     "output_type": "stream",
     "text": [
      "BOP  fval:  3.0241964341687737  x:  [0.0]\n",
      "BOP  fval:  3.0241964341687737  x:  [0.0]\n"
     ]
    },
    {
     "name": "stderr",
     "output_type": "stream",
     "text": [
      "C:\\Users\\denni\\PycharmProjects\\squlearn\\venv\\lib\\site-packages\\skopt\\optimizer\\optimizer.py:449: UserWarning: The objective has been evaluated at this point before.\n",
      "  warnings.warn(\"The objective has been evaluated \"\n",
      "C:\\Users\\denni\\PycharmProjects\\squlearn\\venv\\lib\\site-packages\\skopt\\optimizer\\optimizer.py:449: UserWarning: The objective has been evaluated at this point before.\n",
      "  warnings.warn(\"The objective has been evaluated \"\n"
     ]
    },
    {
     "name": "stdout",
     "output_type": "stream",
     "text": [
      "BOP  fval:  3.0241964341687737  x:  [0.0]\n",
      "BOP  fval:  3.0241964341687737  x:  [0.0]\n",
      "BOP  fval:  23.90917755563047  x:  [0.0038792719426659367]\n",
      "BOP  fval:  3.0241964341687737  x:  [0.0]\n"
     ]
    },
    {
     "name": "stderr",
     "output_type": "stream",
     "text": [
      "C:\\Users\\denni\\PycharmProjects\\squlearn\\venv\\lib\\site-packages\\skopt\\optimizer\\optimizer.py:449: UserWarning: The objective has been evaluated at this point before.\n",
      "  warnings.warn(\"The objective has been evaluated \"\n",
      "C:\\Users\\denni\\PycharmProjects\\squlearn\\venv\\lib\\site-packages\\skopt\\optimizer\\optimizer.py:449: UserWarning: The objective has been evaluated at this point before.\n",
      "  warnings.warn(\"The objective has been evaluated \"\n"
     ]
    },
    {
     "name": "stdout",
     "output_type": "stream",
     "text": [
      "BOP  fval:  3.0241964341687737  x:  [0.0]\n",
      "BOP  fval:  3.0241964341687737  x:  [0.0]\n"
     ]
    },
    {
     "name": "stderr",
     "output_type": "stream",
     "text": [
      "C:\\Users\\denni\\PycharmProjects\\squlearn\\venv\\lib\\site-packages\\skopt\\optimizer\\optimizer.py:449: UserWarning: The objective has been evaluated at this point before.\n",
      "  warnings.warn(\"The objective has been evaluated \"\n",
      "C:\\Users\\denni\\PycharmProjects\\squlearn\\venv\\lib\\site-packages\\skopt\\optimizer\\optimizer.py:449: UserWarning: The objective has been evaluated at this point before.\n",
      "  warnings.warn(\"The objective has been evaluated \"\n"
     ]
    },
    {
     "name": "stdout",
     "output_type": "stream",
     "text": [
      "BOP  fval:  3.0241964341687737  x:  [0.0]\n"
     ]
    },
    {
     "name": "stderr",
     "output_type": "stream",
     "text": [
      "C:\\Users\\denni\\PycharmProjects\\squlearn\\venv\\lib\\site-packages\\skopt\\optimizer\\optimizer.py:449: UserWarning: The objective has been evaluated at this point before.\n",
      "  warnings.warn(\"The objective has been evaluated \"\n"
     ]
    },
    {
     "name": "stdout",
     "output_type": "stream",
     "text": [
      "BOP  fval:  3.0241964341687737  x:  [0.0]\n",
      "BOP  fval:  51.10431766889916  x:  [0.044428507182148844]\n",
      "BOP  fval:  8.01798841376149  x:  [0.011767836518608877]\n",
      "BOP  fval:  2.675680647081716  x:  [0.008043640222593925]\n",
      "BOP  fval:  586.6467332085961  x:  [0.25528049152092347]\n",
      "BOP  fval:  23.932762924615282  x:  [0.05421233343435496]\n",
      "BOP  fval:  26.95455595055685  x:  [0.03431480194576179]\n",
      "BOP  fval:  18.95676192296841  x:  [0.027999987907357672]\n",
      "BOP  fval:  126.74034311674765  x:  [0.06595313383808672]\n",
      "BOP  fval:  71.59993280593712  x:  [0.10797756782239322]\n",
      "\u001B[91m Iteration:  3 :  gp_minimize:  fval:  2.675680647081716  x:  [0.008043640222593925] \u001B[0m\n",
      "BOP  fval:  2.675680647081716  x:  [0.0]\n",
      "BOP  fval:  25.107901675339605  x:  [0.02]\n",
      "BOP  fval:  3.4291575598132633  x:  [0.04]\n",
      "BOP  fval:  6.34928955113673  x:  [0.06]\n",
      "BOP  fval:  8.474246418284082  x:  [0.08]\n",
      "BOP  fval:  18.710706588947723  x:  [0.1]\n",
      "BOP  fval:  6.890711126600019  x:  [0.12]\n",
      "BOP  fval:  5.0571169912752545  x:  [0.14]\n",
      "BOP  fval:  5.724374361914167  x:  [0.16]\n",
      "BOP  fval:  18.583293896854688  x:  [0.18]\n",
      "BOP  fval:  4.925900181329441  x:  [0.2]\n",
      "BOP  fval:  5.27502204832539  x:  [0.22]\n",
      "BOP  fval:  10.463955849201449  x:  [0.24]\n",
      "BOP  fval:  18.720909542804023  x:  [0.26]\n",
      "BOP  fval:  12.301171937276372  x:  [0.28]\n",
      "BOP  fval:  6.992128628738252  x:  [0.17785338546750554]\n",
      "BOP  fval:  5.8587990649941055  x:  [0.25327972457430525]\n",
      "BOP  fval:  15.619332509751699  x:  [0.2573836852868271]\n",
      "BOP  fval:  12.924627984365374  x:  [0.25417552163523766]\n",
      "BOP  fval:  4.105154739773854  x:  [0.18706910903579174]\n",
      "BOP  fval:  3.428428297207926  x:  [0.11531451218780997]\n",
      "BOP  fval:  5.140762423129523  x:  [0.0892603819633417]\n",
      "BOP  fval:  35.73954906104539  x:  [0.017013893195232957]\n",
      "BOP  fval:  38.117820601235096  x:  [0.08179688837403397]\n",
      "BOP  fval:  2.863334657433691  x:  [0.14329953519640498]\n",
      "BOP  fval:  3.088089208046962  x:  [0.14424510165761106]\n",
      "BOP  fval:  6.93852994813682  x:  [0.1456974801446965]\n",
      "BOP  fval:  11.359204011919086  x:  [0.142015242312931]\n",
      "BOP  fval:  17.334738080274757  x:  [0.0019483352241548256]\n",
      "BOP  fval:  5.995381874920049  x:  [0.1488570874207725]\n",
      "BOP  fval:  26.397999152700617  x:  [0.15308554314103515]\n",
      "BOP  fval:  8.088218256946437  x:  [0.11683566242585716]\n",
      "BOP  fval:  54.14817785867313  x:  [0.11315048142648082]\n",
      "BOP  fval:  5.969520596994168  x:  [0.1444528704682476]\n",
      "BOP  fval:  8.428465738307331  x:  [0.14502526608242333]\n",
      "BOP  fval:  6.776801000762823  x:  [0.14282808007021913]\n",
      "BOP  fval:  4.69192098738584  x:  [0.14647342117834475]\n",
      "BOP  fval:  2.1805548768258216  x:  [0.14669553695255952]\n",
      "BOP  fval:  2.243864448719102  x:  [0.042076260009490433]\n",
      "BOP  fval:  4.863748265012393  x:  [0.04263554386472893]\n",
      "BOP  fval:  3.046358804381958  x:  [0.0404054215891592]\n",
      "BOP  fval:  11.559830098587236  x:  [0.03815031510153866]\n",
      "BOP  fval:  31.555974437435367  x:  [0.044521126652919615]\n",
      "BOP  fval:  4.240258987787381  x:  [0.18963343331199403]\n",
      "BOP  fval:  8.053755751583745  x:  [0.19158715393691442]\n",
      "BOP  fval:  3.2713935027265086  x:  [0.18812304973669206]\n",
      "BOP  fval:  48.82380141355078  x:  [0.18611711831608344]\n",
      "BOP  fval:  17.392106404767095  x:  [0.2999885130982214]\n",
      "BOP  fval:  17.45697517126292  x:  [0.2999228044733615]\n",
      "BOP  fval:  21.476723083614036  x:  [0.2999758105734979]\n",
      "\u001B[91m Iteration:  4 :  gp_minimize:  fval:  2.1805548768258216  x:  [0.14669553695255952] \u001B[0m\n",
      "BOP  fval:  2.1805548768258216  x:  [0.0]\n",
      "BOP  fval:  2.93944356664824  x:  [0.02]\n",
      "BOP  fval:  22.128184378040444  x:  [0.04]\n",
      "BOP  fval:  8.061979245659007  x:  [0.06]\n",
      "BOP  fval:  12.982633353662901  x:  [0.08]\n",
      "BOP  fval:  142.19602693409834  x:  [0.1]\n",
      "BOP  fval:  182.27156541161395  x:  [0.12]\n",
      "BOP  fval:  62.605014641791556  x:  [0.14]\n",
      "BOP  fval:  81.22404995142321  x:  [0.16]\n",
      "BOP  fval:  78.96896365014196  x:  [0.18]\n",
      "BOP  fval:  431.1176163577186  x:  [0.2]\n",
      "BOP  fval:  171.1576386785846  x:  [0.22]\n",
      "BOP  fval:  1306.9764557247217  x:  [0.24]\n",
      "BOP  fval:  1437.2476255975587  x:  [0.26]\n",
      "BOP  fval:  1121.0374887425041  x:  [0.28]\n",
      "BOP  fval:  373.03626233662703  x:  [0.17785338546750554]\n",
      "BOP  fval:  1826.0597480714537  x:  [0.25327972457430525]\n",
      "BOP  fval:  600.7212656982397  x:  [0.2573836852868271]\n",
      "BOP  fval:  160.13572144401107  x:  [0.25417552163523766]\n",
      "BOP  fval:  103.26801980732323  x:  [0.18706910903579174]\n",
      "BOP  fval:  49.77505239438577  x:  [0.11531451218780997]\n",
      "BOP  fval:  23.686031710536636  x:  [0.0892603819633417]\n",
      "BOP  fval:  4.684847788989721  x:  [0.017013893195232957]\n",
      "BOP  fval:  13.925163352564606  x:  [0.08179688837403397]\n",
      "BOP  fval:  59.01162019667851  x:  [0.14329953519640498]\n",
      "BOP  fval:  2.1805548768258216  x:  [0.0]\n",
      "BOP  fval:  2.1805548768258216  x:  [0.0]\n"
     ]
    },
    {
     "name": "stderr",
     "output_type": "stream",
     "text": [
      "C:\\Users\\denni\\PycharmProjects\\squlearn\\venv\\lib\\site-packages\\skopt\\optimizer\\optimizer.py:449: UserWarning: The objective has been evaluated at this point before.\n",
      "  warnings.warn(\"The objective has been evaluated \"\n",
      "C:\\Users\\denni\\PycharmProjects\\squlearn\\venv\\lib\\site-packages\\skopt\\optimizer\\optimizer.py:449: UserWarning: The objective has been evaluated at this point before.\n",
      "  warnings.warn(\"The objective has been evaluated \"\n",
      "C:\\Users\\denni\\PycharmProjects\\squlearn\\venv\\lib\\site-packages\\skopt\\optimizer\\optimizer.py:449: UserWarning: The objective has been evaluated at this point before.\n",
      "  warnings.warn(\"The objective has been evaluated \"\n",
      "C:\\Users\\denni\\PycharmProjects\\squlearn\\venv\\lib\\site-packages\\skopt\\optimizer\\optimizer.py:449: UserWarning: The objective has been evaluated at this point before.\n",
      "  warnings.warn(\"The objective has been evaluated \"\n"
     ]
    },
    {
     "name": "stdout",
     "output_type": "stream",
     "text": [
      "BOP  fval:  2.1805548768258216  x:  [0.0]\n",
      "BOP  fval:  2.1805548768258216  x:  [0.0]\n",
      "BOP  fval:  55.880155285790075  x:  [0.04042849617357719]\n",
      "BOP  fval:  2.1805548768258216  x:  [0.0]\n"
     ]
    },
    {
     "name": "stderr",
     "output_type": "stream",
     "text": [
      "C:\\Users\\denni\\PycharmProjects\\squlearn\\venv\\lib\\site-packages\\skopt\\optimizer\\optimizer.py:449: UserWarning: The objective has been evaluated at this point before.\n",
      "  warnings.warn(\"The objective has been evaluated \"\n",
      "C:\\Users\\denni\\PycharmProjects\\squlearn\\venv\\lib\\site-packages\\skopt\\optimizer\\optimizer.py:449: UserWarning: The objective has been evaluated at this point before.\n",
      "  warnings.warn(\"The objective has been evaluated \"\n"
     ]
    },
    {
     "name": "stdout",
     "output_type": "stream",
     "text": [
      "BOP  fval:  2.1805548768258216  x:  [0.0]\n",
      "BOP  fval:  2.1805548768258216  x:  [0.0]\n"
     ]
    },
    {
     "name": "stderr",
     "output_type": "stream",
     "text": [
      "C:\\Users\\denni\\PycharmProjects\\squlearn\\venv\\lib\\site-packages\\skopt\\optimizer\\optimizer.py:449: UserWarning: The objective has been evaluated at this point before.\n",
      "  warnings.warn(\"The objective has been evaluated \"\n"
     ]
    },
    {
     "name": "stdout",
     "output_type": "stream",
     "text": [
      "BOP  fval:  9.813352602609097  x:  [0.04109508562660351]\n",
      "BOP  fval:  2.1805548768258216  x:  [0.0]\n"
     ]
    },
    {
     "name": "stderr",
     "output_type": "stream",
     "text": [
      "C:\\Users\\denni\\PycharmProjects\\squlearn\\venv\\lib\\site-packages\\skopt\\optimizer\\optimizer.py:449: UserWarning: The objective has been evaluated at this point before.\n",
      "  warnings.warn(\"The objective has been evaluated \"\n",
      "C:\\Users\\denni\\PycharmProjects\\squlearn\\venv\\lib\\site-packages\\skopt\\optimizer\\optimizer.py:449: UserWarning: The objective has been evaluated at this point before.\n",
      "  warnings.warn(\"The objective has been evaluated \"\n"
     ]
    },
    {
     "name": "stdout",
     "output_type": "stream",
     "text": [
      "BOP  fval:  2.1805548768258216  x:  [0.0]\n",
      "BOP  fval:  57.4731264163949  x:  [0.04060523070298338]\n",
      "BOP  fval:  2.1805548768258216  x:  [0.0]\n"
     ]
    },
    {
     "name": "stderr",
     "output_type": "stream",
     "text": [
      "C:\\Users\\denni\\PycharmProjects\\squlearn\\venv\\lib\\site-packages\\skopt\\optimizer\\optimizer.py:449: UserWarning: The objective has been evaluated at this point before.\n",
      "  warnings.warn(\"The objective has been evaluated \"\n",
      "C:\\Users\\denni\\PycharmProjects\\squlearn\\venv\\lib\\site-packages\\skopt\\optimizer\\optimizer.py:449: UserWarning: The objective has been evaluated at this point before.\n",
      "  warnings.warn(\"The objective has been evaluated \"\n"
     ]
    },
    {
     "name": "stdout",
     "output_type": "stream",
     "text": [
      "BOP  fval:  2.1805548768258216  x:  [0.0]\n",
      "BOP  fval:  2.1805548768258216  x:  [0.0]\n"
     ]
    },
    {
     "name": "stderr",
     "output_type": "stream",
     "text": [
      "C:\\Users\\denni\\PycharmProjects\\squlearn\\venv\\lib\\site-packages\\skopt\\optimizer\\optimizer.py:449: UserWarning: The objective has been evaluated at this point before.\n",
      "  warnings.warn(\"The objective has been evaluated \"\n"
     ]
    },
    {
     "name": "stdout",
     "output_type": "stream",
     "text": [
      "BOP  fval:  5.360099218484844  x:  [0.04857065548910521]\n",
      "BOP  fval:  2.1805548768258216  x:  [0.0]\n"
     ]
    },
    {
     "name": "stderr",
     "output_type": "stream",
     "text": [
      "C:\\Users\\denni\\PycharmProjects\\squlearn\\venv\\lib\\site-packages\\skopt\\optimizer\\optimizer.py:449: UserWarning: The objective has been evaluated at this point before.\n",
      "  warnings.warn(\"The objective has been evaluated \"\n",
      "C:\\Users\\denni\\PycharmProjects\\squlearn\\venv\\lib\\site-packages\\skopt\\optimizer\\optimizer.py:449: UserWarning: The objective has been evaluated at this point before.\n",
      "  warnings.warn(\"The objective has been evaluated \"\n"
     ]
    },
    {
     "name": "stdout",
     "output_type": "stream",
     "text": [
      "BOP  fval:  2.1805548768258216  x:  [0.0]\n",
      "BOP  fval:  2.1805548768258216  x:  [0.0]\n"
     ]
    },
    {
     "name": "stderr",
     "output_type": "stream",
     "text": [
      "C:\\Users\\denni\\PycharmProjects\\squlearn\\venv\\lib\\site-packages\\skopt\\optimizer\\optimizer.py:449: UserWarning: The objective has been evaluated at this point before.\n",
      "  warnings.warn(\"The objective has been evaluated \"\n",
      "C:\\Users\\denni\\PycharmProjects\\squlearn\\venv\\lib\\site-packages\\skopt\\optimizer\\optimizer.py:449: UserWarning: The objective has been evaluated at this point before.\n",
      "  warnings.warn(\"The objective has been evaluated \"\n"
     ]
    },
    {
     "name": "stdout",
     "output_type": "stream",
     "text": [
      "BOP  fval:  2.1805548768258216  x:  [0.0]\n",
      "BOP  fval:  4.172531416831461  x:  [0.0355362966373336]\n",
      "BOP  fval:  669.7420063795845  x:  [0.25532524252019734]\n"
     ]
    },
    {
     "name": "stderr",
     "output_type": "stream",
     "text": [
      "C:\\Users\\denni\\PycharmProjects\\squlearn\\venv\\lib\\site-packages\\skopt\\optimizer\\optimizer.py:449: UserWarning: The objective has been evaluated at this point before.\n",
      "  warnings.warn(\"The objective has been evaluated \"\n"
     ]
    },
    {
     "name": "stdout",
     "output_type": "stream",
     "text": [
      "BOP  fval:  2.1805548768258216  x:  [0.0]\n",
      "BOP  fval:  10.651931382074462  x:  [0.044817751112098014]\n",
      "BOP  fval:  2.1805548768258216  x:  [0.0]\n",
      "\u001B[91m Iteration:  5 :  gp_minimize:  fval:  2.1805548768258216  x:  [0.0] \u001B[0m\n"
     ]
    },
    {
     "name": "stderr",
     "output_type": "stream",
     "text": [
      "C:\\Users\\denni\\PycharmProjects\\squlearn\\venv\\lib\\site-packages\\skopt\\optimizer\\optimizer.py:449: UserWarning: The objective has been evaluated at this point before.\n",
      "  warnings.warn(\"The objective has been evaluated \"\n"
     ]
    }
   ],
   "source": [
    "x_space = np.arange(0.1, 0.9, 0.1)\n",
    "ref_values = np.log(x_space)\n",
    "\n",
    "reg.fit(x_space, ref_values)"
   ]
  },
  {
   "cell_type": "markdown",
   "metadata": {},
   "source": [
    "## Evaluation\n",
    "\n",
    "Let's check the trained parameters of the PQC and operator"
   ]
  },
  {
   "cell_type": "code",
   "execution_count": 8,
   "metadata": {
    "ExecuteTime": {
     "end_time": "2023-11-09T14:59:51.140236400Z",
     "start_time": "2023-11-09T14:59:51.095196400Z"
    }
   },
   "outputs": [
    {
     "name": "stdout",
     "output_type": "stream",
     "text": [
      "Result PQC params: [ 1.05602626  0.91237236  0.82610639  0.8001939   1.7824728   1.02502515\n",
      "  1.24461835  0.2340606   0.20681747  1.28136245  0.12987357  0.06697373\n",
      "  0.006089    1.71919528 -0.14752102  0.43225762]\n",
      "Result operator params: [0.10960087 0.5841471  0.34597043]\n"
     ]
    }
   ],
   "source": [
    "print(\"Result PQC params:\", reg.param)\n",
    "print(\"Result operator params:\", reg.param_op)"
   ]
  },
  {
   "cell_type": "markdown",
   "metadata": {},
   "source": [
    "Also let's plot the predicted function vs. the actual logarithm function"
   ]
  },
  {
   "cell_type": "code",
   "execution_count": 9,
   "outputs": [
    {
     "data": {
      "text/plain": "[<matplotlib.lines.Line2D at 0x28c1da0cee0>]"
     },
     "execution_count": 9,
     "metadata": {},
     "output_type": "execute_result"
    },
    {
     "data": {
      "text/plain": "<Figure size 640x480 with 1 Axes>",
      "image/png": "[encoded data removed]"
     },
     "metadata": {},
     "output_type": "display_data"
    }
   ],
   "source": [
    "x = np.arange(np.min(x_space), np.max(x_space), 0.005)\n",
    "y = reg.predict(x)\n",
    "plt.plot(x, np.log(x))\n",
    "plt.plot(x, y)"
   ],
   "metadata": {
    "collapsed": false,
    "ExecuteTime": {
     "end_time": "2023-11-09T14:59:53.632972500Z",
     "start_time": "2023-11-09T14:59:51.112211500Z"
    }
   }
  },
  {
   "cell_type": "markdown",
   "metadata": {},
   "source": [
    "Let's also plot the error of the QNN."
   ]
  },
  {
   "cell_type": "code",
   "execution_count": 10,
   "outputs": [
    {
     "data": {
      "text/plain": "[<matplotlib.lines.Line2D at 0x28c1d16beb0>]"
     },
     "execution_count": 10,
     "metadata": {},
     "output_type": "execute_result"
    },
    {
     "data": {
      "text/plain": "<Figure size 640x480 with 1 Axes>",
      "image/png": "[encoded data removed]"
     },
     "metadata": {},
     "output_type": "display_data"
    }
   ],
   "source": [
    "plt.plot(x, np.abs(y - np.log(x)))"
   ],
   "metadata": {
    "collapsed": false,
    "ExecuteTime": {
     "end_time": "2023-11-09T14:59:53.762089700Z",
     "start_time": "2023-11-09T14:59:53.631971700Z"
    }
   }
  }
 ],
 "metadata": {
  "interpreter": {
   "hash": "26de051ba29f2982a8de78e945f0abaf191376122a1563185a90213a26c5da77"
  },
  "kernelspec": {
   "display_name": "Python 3.10.2 64-bit",
   "language": "python",
   "name": "python3"
  },
  "language_info": {
   "codemirror_mode": {
    "name": "ipython",
    "version": 3
   },
   "file_extension": ".py",
   "mimetype": "text/x-python",
   "name": "python",
   "nbconvert_exporter": "python",
   "pygments_lexer": "ipython3",
   "version": "3.10.2"
  },
  "orig_nbformat": 4
 },
 "nbformat": 4,
 "nbformat_minor": 2
}
