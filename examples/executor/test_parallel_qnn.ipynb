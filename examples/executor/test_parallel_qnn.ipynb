{
 "cells": [
  {
   "cell_type": "code",
   "execution_count": null,
   "metadata": {},
   "outputs": [],
   "source": [
    "import numpy as np\n",
    "import matplotlib.pyplot as plt\n",
    "\n",
    "from squlearn.encoding_circuit import ChebyshevRx\n",
    "from squlearn.observables import SummedPaulis\n",
    "from squlearn.util import Executor\n",
    "from squlearn.qnn import QNNRegressor,SquaredLoss\n",
    "from squlearn.optimizers import Adam\n",
    "\n",
    "from qiskit_ibm_runtime import QiskitRuntimeService\n",
    "\n",
    "service = QiskitRuntimeService(channel=\"ibm_quantum\")\n",
    "\n",
    "nqubits = 4\n",
    "number_of_layers = 2\n",
    "\n",
    "pqc = ChebyshevRx(nqubits, 1, num_layers=number_of_layers)\n",
    "pqc.draw(\"mpl\")"
   ]
  },
  {
   "cell_type": "code",
   "execution_count": null,
   "metadata": {},
   "outputs": [],
   "source": [
    "executor = Executor(service,auto_backend_mode=\"speed\",log_file=\"log_qnn_para1.txt\")\n",
    "executor.set_shots(5000)"
   ]
  },
  {
   "cell_type": "code",
   "execution_count": null,
   "metadata": {},
   "outputs": [],
   "source": [
    "obs = SummedPaulis(nqubits)\n",
    "print(obs)"
   ]
  },
  {
   "cell_type": "code",
   "execution_count": null,
   "metadata": {},
   "outputs": [],
   "source": [
    "\n",
    "param_ini = np.array([-0.22306392,  0.96833378,  1.9085548,   1.2089074,   0.92015667,  0.77409331,\n",
    " -0.6506603 ,  0.22301956,  1.91325895, -0.20817139,  1.56411373,  0.54160768,\n",
    " -1.32168944,  0.45814232,  0.06255112,  0.12734099])\n",
    "param_op_ini = np.array([-2.22039551,  1.99646609, -1.92925272,  3.44809977,  0.78566664])"
   ]
  },
  {
   "cell_type": "code",
   "execution_count": null,
   "metadata": {},
   "outputs": [],
   "source": [
    "reg = QNNRegressor(pqc, obs, executor, SquaredLoss(), Adam(), param_ini, param_op_ini)"
   ]
  },
  {
   "cell_type": "code",
   "execution_count": null,
   "metadata": {},
   "outputs": [],
   "source": [
    "backend = executor.backend"
   ]
  },
  {
   "cell_type": "code",
   "execution_count": 7,
   "metadata": {},
   "outputs": [],
   "source": [
    "x_space = np.arange(0.1, 0.9, 0.1)\n",
    "x = np.arange(np.min(x_space), np.max(x_space), 0.05)\n",
    "y = reg.predict(x)\n",
    "plt.plot(x, np.log(x))\n",
    "plt.plot(x, y)"
   ]
  },
  {
   "cell_type": "code",
   "execution_count": null,
   "metadata": {},
   "outputs": [],
   "source": [
    "executor = Executor(backend,log_file=\"log_qnn_para3.txt\",qpu_parallelization=3)\n",
    "executor.set_shots(5000)\n",
    "reg = QNNRegressor(pqc, obs, executor, SquaredLoss(), Adam(), param_ini, param_op_ini)"
   ]
  },
  {
   "cell_type": "code",
   "execution_count": null,
   "metadata": {},
   "outputs": [],
   "source": [
    "x_space = np.arange(0.1, 0.9, 0.1)\n",
    "x = np.arange(np.min(x_space), np.max(x_space), 0.05)\n",
    "y = reg.predict(x)\n",
    "plt.plot(x, np.log(x))\n",
    "plt.plot(x, y)"
   ]
  },
  {
   "cell_type": "code",
   "execution_count": null,
   "metadata": {},
   "outputs": [],
   "source": [
    "executor.set_shots(15000)\n",
    "x_space = np.arange(0.1, 0.9, 0.1)\n",
    "x = np.arange(np.min(x_space), np.max(x_space), 0.05)\n",
    "y = reg.predict(x)\n",
    "plt.plot(x, np.log(x))\n",
    "plt.plot(x, y)"
   ]
  }
 ],
 "metadata": {
  "kernelspec": {
   "display_name": "Python 3",
   "language": "python",
   "name": "python3"
  },
  "language_info": {
   "codemirror_mode": {
    "name": "ipython",
    "version": 3
   },
   "file_extension": ".py",
   "mimetype": "text/x-python",
   "name": "python",
   "nbconvert_exporter": "python",
   "pygments_lexer": "ipython3",
   "version": "3.10.2"
  }
 },
 "nbformat": 4,
 "nbformat_minor": 2
}
