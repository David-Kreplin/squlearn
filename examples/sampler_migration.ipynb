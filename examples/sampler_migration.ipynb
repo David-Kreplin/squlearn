{
 "cells": [
  {
   "cell_type": "code",
   "execution_count": 7,
   "metadata": {},
   "outputs": [
    {
     "data": {
      "text/plain": [
       "{'10': 223, '11': 270, '00': 239, '01': 268}"
      ]
     },
     "execution_count": 7,
     "metadata": {},
     "output_type": "execute_result"
    }
   ],
   "source": [
    "from qiskit_aer import Aer\n",
    "\n",
    "from qiskit.primitives import StatevectorSampler\n",
    "\n",
    "from qiskit import QuantumCircuit\n",
    "\n",
    "\n",
    "qc = QuantumCircuit(2)\n",
    "qc.h(0)\n",
    "qc.h(1)\n",
    "qc.measure_all()\n",
    "\n",
    "\n",
    "# Statevector Sampler\n",
    "sampler = StatevectorSampler(seed=1)\n",
    "job = sampler.run([(qc)], shots=1000)\n",
    "result = job.result()[0]"
   ]
  },
  {
   "cell_type": "code",
   "execution_count": 13,
   "metadata": {},
   "outputs": [
    {
     "data": {
      "text/plain": [
       "{'version': 2}"
      ]
     },
     "execution_count": 13,
     "metadata": {},
     "output_type": "execute_result"
    }
   ],
   "source": [
    "job.result().metadata"
   ]
  },
  {
   "cell_type": "code",
   "execution_count": 14,
   "metadata": {},
   "outputs": [
    {
     "data": {
      "text/plain": [
       "DataBin(meas=BitArray(<shape=(), num_shots=1000, num_bits=2>))"
      ]
     },
     "execution_count": 14,
     "metadata": {},
     "output_type": "execute_result"
    }
   ],
   "source": [
    "from qiskit.primitives.containers import DataBin\n",
    "\n",
    "DataBin(**result.data.__dict__)"
   ]
  },
  {
   "cell_type": "code",
   "execution_count": 15,
   "metadata": {},
   "outputs": [
    {
     "data": {
      "text/plain": [
       "{'11': 242, '01': 244, '00': 254, '10': 260}"
      ]
     },
     "execution_count": 15,
     "metadata": {},
     "output_type": "execute_result"
    }
   ],
   "source": [
    "# set seed after creation (probably notneeded)\n",
    "sampler._seed = 1234\n",
    "job = sampler.run([(qc)], shots=1000)\n",
    "result = job.result()[0]\n",
    "result.data.meas.get_counts()"
   ]
  },
  {
   "cell_type": "code",
   "execution_count": 16,
   "metadata": {},
   "outputs": [],
   "source": [
    "from qiskit.primitives import BackendSamplerV2  # Only available at Qiskit 1.2\n",
    "\n",
    "# Seed not working?\n",
    "\n",
    "backend = Aer.get_backend(\"qasm_simulator\")\n",
    "# this is how to set a seed for the qasm simulator, default shots can be set with default_shots\n",
    "sampler = BackendSamplerV2(backend=backend, options={\"seed_simulator\": 1})\n",
    "\n",
    "job = sampler.run([(qc)], shots=1000)\n",
    "\n",
    "res = job.result()\n",
    "\n",
    "# result = job.result()[0]\n",
    "# result.data.meas.get_counts()"
   ]
  },
  {
   "cell_type": "code",
   "execution_count": 17,
   "metadata": {},
   "outputs": [
    {
     "data": {
      "text/plain": [
       "{'00': 269, '10': 256, '11': 224, '01': 251}"
      ]
     },
     "execution_count": 17,
     "metadata": {},
     "output_type": "execute_result"
    }
   ],
   "source": [
    "from qiskit_ibm_runtime import SamplerV2\n",
    "from qiskit_ibm_runtime.fake_provider import FakeManilaV2\n",
    "from qiskit_ibm_runtime.options import SamplerOptions\n",
    "\n",
    "# this is similar to the old optimization level of the V1 Primitives\n",
    "from qiskit.transpiler.preset_passmanagers import generate_preset_pass_manager\n",
    "\n",
    "fake_backend = FakeManilaV2()\n",
    "\n",
    "# In case o the fake backend, the seed is set in the options\n",
    "#options = {\"simulator\": {\"seed_simulator\": 42}}\n",
    "options = SamplerOptions(default_shots=1234, simulator = {\"seed_simulator\": 42})\n",
    "\n",
    "sampler = SamplerV2(mode=fake_backend, options=options)\n",
    "\n",
    "# transpiling has to be done before running the job :/\n",
    "pm = generate_preset_pass_manager(backend=fake_backend, optimization_level=1)\n",
    "isa_qc = pm.run(qc)\n",
    "\n",
    "job = sampler.run([(isa_qc)], shots=1000)\n",
    "result = job.result()[0]\n",
    "result.data.meas.get_counts()"
   ]
  },
  {
   "cell_type": "code",
   "execution_count": 5,
   "metadata": {},
   "outputs": [
    {
     "data": {
      "text/plain": [
       "1234"
      ]
     },
     "execution_count": 5,
     "metadata": {},
     "output_type": "execute_result"
    }
   ],
   "source": [
    "from squlearn import Executor\n",
    "executor = Executor(sampler)\n",
    "executor._shots"
   ]
  },
  {
   "cell_type": "code",
   "execution_count": 6,
   "metadata": {},
   "outputs": [
    {
     "ename": "ValueError",
     "evalue": "Sampler is not a BaseSamplerV2",
     "output_type": "error",
     "traceback": [
      "\u001b[1;31m---------------------------------------------------------------------------\u001b[0m",
      "\u001b[1;31mValueError\u001b[0m                                Traceback (most recent call last)",
      "Cell \u001b[1;32mIn[6], line 10\u001b[0m\n\u001b[0;32m      6\u001b[0m executor \u001b[38;5;241m=\u001b[39m Executor(sampler)\n\u001b[0;32m      7\u001b[0m sampler_exec \u001b[38;5;241m=\u001b[39m executor\u001b[38;5;241m.\u001b[39mget_sampler_v2()\n\u001b[1;32m---> 10\u001b[0m job \u001b[38;5;241m=\u001b[39m \u001b[43msampler_exec\u001b[49m\u001b[38;5;241;43m.\u001b[39;49m\u001b[43mrun\u001b[49m\u001b[43m(\u001b[49m\u001b[43m[\u001b[49m\u001b[43m(\u001b[49m\u001b[43mqc\u001b[49m\u001b[43m)\u001b[49m\u001b[43m]\u001b[49m\u001b[43m,\u001b[49m\u001b[43m \u001b[49m\u001b[43mshots\u001b[49m\u001b[38;5;241;43m=\u001b[39;49m\u001b[38;5;241;43m1000\u001b[39;49m\u001b[43m)\u001b[49m\n\u001b[0;32m     11\u001b[0m result \u001b[38;5;241m=\u001b[39m job\u001b[38;5;241m.\u001b[39mresult()[\u001b[38;5;241m0\u001b[39m]\n\u001b[0;32m     12\u001b[0m result\u001b[38;5;241m.\u001b[39mdata\u001b[38;5;241m.\u001b[39mmeas\u001b[38;5;241m.\u001b[39mget_counts()\n",
      "File \u001b[1;32m~\\Documents\\AutoQML\\squlearn\\src\\squlearn\\util\\executor.py:2195\u001b[0m, in \u001b[0;36mExecutorSamplerV2.run\u001b[1;34m(self, pubs, shots)\u001b[0m\n\u001b[0;32m   2194\u001b[0m \u001b[38;5;28;01mdef\u001b[39;00m \u001b[38;5;21mrun\u001b[39m(\u001b[38;5;28mself\u001b[39m, pubs, \u001b[38;5;241m*\u001b[39m, shots: Union[\u001b[38;5;28mint\u001b[39m, \u001b[38;5;28;01mNone\u001b[39;00m] \u001b[38;5;241m=\u001b[39m \u001b[38;5;28;01mNone\u001b[39;00m):\n\u001b[1;32m-> 2195\u001b[0m     \u001b[38;5;28;01mreturn\u001b[39;00m \u001b[38;5;28;43mself\u001b[39;49m\u001b[38;5;241;43m.\u001b[39;49m\u001b[43m_executor\u001b[49m\u001b[38;5;241;43m.\u001b[39;49m\u001b[43msampler_v2_run\u001b[49m\u001b[43m(\u001b[49m\n\u001b[0;32m   2196\u001b[0m \u001b[43m        \u001b[49m\u001b[43mpubs\u001b[49m\u001b[38;5;241;43m=\u001b[39;49m\u001b[43mpubs\u001b[49m\u001b[43m,\u001b[49m\n\u001b[0;32m   2197\u001b[0m \u001b[43m        \u001b[49m\u001b[43mshots\u001b[49m\u001b[38;5;241;43m=\u001b[39;49m\u001b[43mshots\u001b[49m\u001b[43m,\u001b[49m\n\u001b[0;32m   2198\u001b[0m \u001b[43m    \u001b[49m\u001b[43m)\u001b[49m\n",
      "File \u001b[1;32m~\\Documents\\AutoQML\\squlearn\\src\\squlearn\\util\\executor.py:1619\u001b[0m, in \u001b[0;36mExecutor.sampler_v2_run\u001b[1;34m(self, pubs, shots)\u001b[0m\n\u001b[0;32m   1617\u001b[0m     \u001b[38;5;28;01mpass\u001b[39;00m\n\u001b[0;32m   1618\u001b[0m \u001b[38;5;28;01melif\u001b[39;00m \u001b[38;5;129;01mnot\u001b[39;00m \u001b[38;5;28misinstance\u001b[39m(\u001b[38;5;28mself\u001b[39m\u001b[38;5;241m.\u001b[39mestimator, BaseSamplerV2):\n\u001b[1;32m-> 1619\u001b[0m     \u001b[38;5;28;01mraise\u001b[39;00m \u001b[38;5;167;01mValueError\u001b[39;00m(\u001b[38;5;124m\"\u001b[39m\u001b[38;5;124mSampler is not a BaseSamplerV2\u001b[39m\u001b[38;5;124m\"\u001b[39m)\n\u001b[0;32m   1621\u001b[0m \u001b[38;5;28;01mif\u001b[39;00m shots \u001b[38;5;129;01mis\u001b[39;00m \u001b[38;5;28;01mNone\u001b[39;00m:\n\u001b[0;32m   1622\u001b[0m     shots \u001b[38;5;241m=\u001b[39m \u001b[38;5;28mself\u001b[39m\u001b[38;5;241m.\u001b[39m_shots\n",
      "\u001b[1;31mValueError\u001b[0m: Sampler is not a BaseSamplerV2"
     ]
    }
   ],
   "source": [
    "from squlearn import Executor\n",
    "\n",
    "backend = Aer.get_backend(\"qasm_simulator\")\n",
    "# this is how to set a seed for the qasm simulator, default shots can be set with default_shots\n",
    "sampler = BackendSamplerV2(backend=backend, options={\"seed_simulator\": 1})\n",
    "executor = Executor(sampler)\n",
    "sampler_exec = executor.get_sampler_v2()\n",
    "\n",
    "\n",
    "job = sampler_exec.run([(qc)], shots=1000)\n",
    "result = job.result()[0]\n",
    "result.data.meas.get_counts()\n",
    "result.data"
   ]
  }
 ],
 "metadata": {
  "kernelspec": {
   "display_name": ".venv",
   "language": "python",
   "name": "python3"
  },
  "language_info": {
   "codemirror_mode": {
    "name": "ipython",
    "version": 3
   },
   "file_extension": ".py",
   "mimetype": "text/x-python",
   "name": "python",
   "nbconvert_exporter": "python",
   "pygments_lexer": "ipython3",
   "version": "3.12.4"
  }
 },
 "nbformat": 4,
 "nbformat_minor": 2
}
