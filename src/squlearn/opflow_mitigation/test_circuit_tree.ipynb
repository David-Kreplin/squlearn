{
 "cells": [
  {
   "cell_type": "code",
   "execution_count": 1,
   "metadata": {},
   "outputs": [],
   "source": [
    "from circuit_tree import *\n",
    "import copy\n",
    "\n",
    "from qiskit.primitives import Estimator\n",
    "from qiskit.quantum_info import Pauli"
   ]
  },
  {
   "cell_type": "code",
   "execution_count": 2,
   "metadata": {},
   "outputs": [
    {
     "data": {
      "image/png": "[encoded data removed]",
      "text/plain": [
       "<Figure size 387.452x144.48 with 1 Axes>"
      ]
     },
     "execution_count": 2,
     "metadata": {},
     "output_type": "execute_result"
    }
   ],
   "source": [
    "x = ParameterVector(\"y\",1)\n",
    "p = ParameterVector(\"p\",2)\n",
    "\n",
    "QC = QuantumCircuit(2)\n",
    "\n",
    "QC.h([0,1])\n",
    "\n",
    "QC.ry(p[0]*np.arccos(x[0]*x[0]),0)\n",
    "QC.ry(p[1]*np.arccos(x[0]*x[0]),1)\n",
    "\n",
    "QC.cx(0,1)\n",
    "QC.x([0,1])\n",
    "\n",
    "QC.draw()"
   ]
  },
  {
   "cell_type": "code",
   "execution_count": 3,
   "metadata": {},
   "outputs": [
    {
     "name": "stdout",
     "output_type": "stream",
     "text": [
      "[1.0*[1.0*(0.25*acos(x[0]**2)**2*\n",
      "     ┌───┐┌────────────────────────────┐     ┌───┐\n",
      "q_0: ┤ H ├┤ Ry(p[0]*acos(x[0]**2) + π) ├──■──┤ X ├\n",
      "     ├───┤└─┬────────────────────────┬─┘┌─┴─┐├───┤\n",
      "q_1: ┤ H ├──┤ Ry(p[1]*acos(x[0]**2)) ├──┤ X ├┤ X ├\n",
      "     └───┘  └────────────────────────┘  └───┘└───┘\n",
      " + -0.5*acos(x[0]**2)**2*\n",
      "     ┌───┐┌────────────────────────┐     ┌───┐\n",
      "q_0: ┤ H ├┤ Ry(p[0]*acos(x[0]**2)) ├──■──┤ X ├\n",
      "     ├───┤├────────────────────────┤┌─┴─┐├───┤\n",
      "q_1: ┤ H ├┤ Ry(p[1]*acos(x[0]**2)) ├┤ X ├┤ X ├\n",
      "     └───┘└────────────────────────┘└───┘└───┘\n",
      " + 0.25*acos(x[0]**2)**2*\n",
      "     ┌───┐┌────────────────────────────┐     ┌───┐\n",
      "q_0: ┤ H ├┤ Ry(p[0]*acos(x[0]**2) - π) ├──■──┤ X ├\n",
      "     ├───┤└─┬────────────────────────┬─┘┌─┴─┐├───┤\n",
      "q_1: ┤ H ├──┤ Ry(p[1]*acos(x[0]**2)) ├──┤ X ├┤ X ├\n",
      "     └───┘  └────────────────────────┘  └───┘└───┘\n",
      "), 1.0*(0.25*acos(x[0]**2)**2*\n",
      "     ┌───┐┌──────────────────────────────┐     ┌───┐\n",
      "q_0: ┤ H ├┤ Ry(p[0]*acos(x[0]**2) + π/2) ├──■──┤ X ├\n",
      "     ├───┤├──────────────────────────────┤┌─┴─┐├───┤\n",
      "q_1: ┤ H ├┤ Ry(p[1]*acos(x[0]**2) + π/2) ├┤ X ├┤ X ├\n",
      "     └───┘└──────────────────────────────┘└───┘└───┘\n",
      " + -0.25*acos(x[0]**2)**2*\n",
      "     ┌───┐┌──────────────────────────────┐     ┌───┐\n",
      "q_0: ┤ H ├┤ Ry(p[0]*acos(x[0]**2) - π/2) ├──■──┤ X ├\n",
      "     ├───┤├──────────────────────────────┤┌─┴─┐├───┤\n",
      "q_1: ┤ H ├┤ Ry(p[1]*acos(x[0]**2) + π/2) ├┤ X ├┤ X ├\n",
      "     └───┘└──────────────────────────────┘└───┘└───┘\n",
      " + -0.25*acos(x[0]**2)**2*\n",
      "     ┌───┐┌──────────────────────────────┐     ┌───┐\n",
      "q_0: ┤ H ├┤ Ry(p[0]*acos(x[0]**2) + π/2) ├──■──┤ X ├\n",
      "     ├───┤├──────────────────────────────┤┌─┴─┐├───┤\n",
      "q_1: ┤ H ├┤ Ry(p[1]*acos(x[0]**2) - π/2) ├┤ X ├┤ X ├\n",
      "     └───┘└──────────────────────────────┘└───┘└───┘\n",
      " + 0.25*acos(x[0]**2)**2*\n",
      "     ┌───┐┌──────────────────────────────┐     ┌───┐\n",
      "q_0: ┤ H ├┤ Ry(p[0]*acos(x[0]**2) - π/2) ├──■──┤ X ├\n",
      "     ├───┤├──────────────────────────────┤┌─┴─┐├───┤\n",
      "q_1: ┤ H ├┤ Ry(p[1]*acos(x[0]**2) - π/2) ├┤ X ├┤ X ├\n",
      "     └───┘└──────────────────────────────┘└───┘└───┘\n",
      ")], 1.0*[1.0*(0.25*acos(x[0]**2)**2*\n",
      "     ┌───┐┌──────────────────────────────┐     ┌───┐\n",
      "q_0: ┤ H ├┤ Ry(p[0]*acos(x[0]**2) + π/2) ├──■──┤ X ├\n",
      "     ├───┤├──────────────────────────────┤┌─┴─┐├───┤\n",
      "q_1: ┤ H ├┤ Ry(p[1]*acos(x[0]**2) + π/2) ├┤ X ├┤ X ├\n",
      "     └───┘└──────────────────────────────┘└───┘└───┘\n",
      " + -0.25*acos(x[0]**2)**2*\n",
      "     ┌───┐┌──────────────────────────────┐     ┌───┐\n",
      "q_0: ┤ H ├┤ Ry(p[0]*acos(x[0]**2) + π/2) ├──■──┤ X ├\n",
      "     ├───┤├──────────────────────────────┤┌─┴─┐├───┤\n",
      "q_1: ┤ H ├┤ Ry(p[1]*acos(x[0]**2) - π/2) ├┤ X ├┤ X ├\n",
      "     └───┘└──────────────────────────────┘└───┘└───┘\n",
      " + -0.25*acos(x[0]**2)**2*\n",
      "     ┌───┐┌──────────────────────────────┐     ┌───┐\n",
      "q_0: ┤ H ├┤ Ry(p[0]*acos(x[0]**2) - π/2) ├──■──┤ X ├\n",
      "     ├───┤├──────────────────────────────┤┌─┴─┐├───┤\n",
      "q_1: ┤ H ├┤ Ry(p[1]*acos(x[0]**2) + π/2) ├┤ X ├┤ X ├\n",
      "     └───┘└──────────────────────────────┘└───┘└───┘\n",
      " + 0.25*acos(x[0]**2)**2*\n",
      "     ┌───┐┌──────────────────────────────┐     ┌───┐\n",
      "q_0: ┤ H ├┤ Ry(p[0]*acos(x[0]**2) - π/2) ├──■──┤ X ├\n",
      "     ├───┤├──────────────────────────────┤┌─┴─┐├───┤\n",
      "q_1: ┤ H ├┤ Ry(p[1]*acos(x[0]**2) - π/2) ├┤ X ├┤ X ├\n",
      "     └───┘└──────────────────────────────┘└───┘└───┘\n",
      "), 1.0*(0.25*acos(x[0]**2)**2*\n",
      "     ┌───┐  ┌────────────────────────┐       ┌───┐\n",
      "q_0: ┤ H ├──┤ Ry(p[0]*acos(x[0]**2)) ├────■──┤ X ├\n",
      "     ├───┤┌─┴────────────────────────┴─┐┌─┴─┐├───┤\n",
      "q_1: ┤ H ├┤ Ry(p[1]*acos(x[0]**2) + π) ├┤ X ├┤ X ├\n",
      "     └───┘└────────────────────────────┘└───┘└───┘\n",
      " + -0.5*acos(x[0]**2)**2*\n",
      "     ┌───┐┌────────────────────────┐     ┌───┐\n",
      "q_0: ┤ H ├┤ Ry(p[0]*acos(x[0]**2)) ├──■──┤ X ├\n",
      "     ├───┤├────────────────────────┤┌─┴─┐├───┤\n",
      "q_1: ┤ H ├┤ Ry(p[1]*acos(x[0]**2)) ├┤ X ├┤ X ├\n",
      "     └───┘└────────────────────────┘└───┘└───┘\n",
      " + 0.25*acos(x[0]**2)**2*\n",
      "     ┌───┐  ┌────────────────────────┐       ┌───┐\n",
      "q_0: ┤ H ├──┤ Ry(p[0]*acos(x[0]**2)) ├────■──┤ X ├\n",
      "     ├───┤┌─┴────────────────────────┴─┐┌─┴─┐├───┤\n",
      "q_1: ┤ H ├┤ Ry(p[1]*acos(x[0]**2) - π) ├┤ X ├┤ X ├\n",
      "     └───┘└────────────────────────────┘└───┘└───┘\n",
      ")]]\n"
     ]
    }
   ],
   "source": [
    "test = simplify_copy(circuit_derivative(circuit_derivative(QC,p),p))\n",
    "print(test)"
   ]
  },
  {
   "cell_type": "code",
   "execution_count": 4,
   "metadata": {},
   "outputs": [
    {
     "name": "stdout",
     "output_type": "stream",
     "text": [
      "(0.5*acos(x[0]**2)*(0.5*acos(x[0]**2)*(0.5*acos(x[0]**2)*\n",
      "     ┌───┐┌───────────────────────────────┐     ┌───┐\n",
      "q_0: ┤ H ├┤ Ry(p[0]*acos(x[0]**2) + 3π/2) ├──■──┤ X ├\n",
      "     ├───┤└───┬────────────────────────┬──┘┌─┴─┐├───┤\n",
      "q_1: ┤ H ├────┤ Ry(p[1]*acos(x[0]**2)) ├───┤ X ├┤ X ├\n",
      "     └───┘    └────────────────────────┘   └───┘└───┘\n",
      " + -0.5*acos(x[0]**2)*\n",
      "     ┌───┐┌──────────────────────────────┐     ┌───┐\n",
      "q_0: ┤ H ├┤ Ry(p[0]*acos(x[0]**2) + π/2) ├──■──┤ X ├\n",
      "     ├───┤└──┬────────────────────────┬──┘┌─┴─┐├───┤\n",
      "q_1: ┤ H ├───┤ Ry(p[1]*acos(x[0]**2)) ├───┤ X ├┤ X ├\n",
      "     └───┘   └────────────────────────┘   └───┘└───┘\n",
      ") + -0.5*acos(x[0]**2)*(0.5*acos(x[0]**2)*\n",
      "     ┌───┐┌──────────────────────────────┐     ┌───┐\n",
      "q_0: ┤ H ├┤ Ry(p[0]*acos(x[0]**2) + π/2) ├──■──┤ X ├\n",
      "     ├───┤└──┬────────────────────────┬──┘┌─┴─┐├───┤\n",
      "q_1: ┤ H ├───┤ Ry(p[1]*acos(x[0]**2)) ├───┤ X ├┤ X ├\n",
      "     └───┘   └────────────────────────┘   └───┘└───┘\n",
      " + -0.5*acos(x[0]**2)*\n",
      "     ┌───┐┌──────────────────────────────┐     ┌───┐\n",
      "q_0: ┤ H ├┤ Ry(p[0]*acos(x[0]**2) - π/2) ├──■──┤ X ├\n",
      "     ├───┤└──┬────────────────────────┬──┘┌─┴─┐├───┤\n",
      "q_1: ┤ H ├───┤ Ry(p[1]*acos(x[0]**2)) ├───┤ X ├┤ X ├\n",
      "     └───┘   └────────────────────────┘   └───┘└───┘\n",
      ")) + -0.5*acos(x[0]**2)*(0.5*acos(x[0]**2)*(0.5*acos(x[0]**2)*\n",
      "     ┌───┐┌──────────────────────────────┐     ┌───┐\n",
      "q_0: ┤ H ├┤ Ry(p[0]*acos(x[0]**2) + π/2) ├──■──┤ X ├\n",
      "     ├───┤└──┬────────────────────────┬──┘┌─┴─┐├───┤\n",
      "q_1: ┤ H ├───┤ Ry(p[1]*acos(x[0]**2)) ├───┤ X ├┤ X ├\n",
      "     └───┘   └────────────────────────┘   └───┘└───┘\n",
      " + -0.5*acos(x[0]**2)*\n",
      "     ┌───┐┌──────────────────────────────┐     ┌───┐\n",
      "q_0: ┤ H ├┤ Ry(p[0]*acos(x[0]**2) - π/2) ├──■──┤ X ├\n",
      "     ├───┤└──┬────────────────────────┬──┘┌─┴─┐├───┤\n",
      "q_1: ┤ H ├───┤ Ry(p[1]*acos(x[0]**2)) ├───┤ X ├┤ X ├\n",
      "     └───┘   └────────────────────────┘   └───┘└───┘\n",
      ") + -0.5*acos(x[0]**2)*(0.5*acos(x[0]**2)*\n",
      "     ┌───┐┌──────────────────────────────┐     ┌───┐\n",
      "q_0: ┤ H ├┤ Ry(p[0]*acos(x[0]**2) - π/2) ├──■──┤ X ├\n",
      "     ├───┤└──┬────────────────────────┬──┘┌─┴─┐├───┤\n",
      "q_1: ┤ H ├───┤ Ry(p[1]*acos(x[0]**2)) ├───┤ X ├┤ X ├\n",
      "     └───┘   └────────────────────────┘   └───┘└───┘\n",
      " + -0.5*acos(x[0]**2)*\n",
      "     ┌───┐┌───────────────────────────────┐     ┌───┐\n",
      "q_0: ┤ H ├┤ Ry(p[0]*acos(x[0]**2) - 3π/2) ├──■──┤ X ├\n",
      "     ├───┤└───┬────────────────────────┬──┘┌─┴─┐├───┤\n",
      "q_1: ┤ H ├────┤ Ry(p[1]*acos(x[0]**2)) ├───┤ X ├┤ X ├\n",
      "     └───┘    └────────────────────────┘   └───┘└───┘\n",
      ")))\n"
     ]
    }
   ],
   "source": [
    "test = circuit_derivative(circuit_derivative_v2(circuit_derivative_v2(QC,p[0]),p[0]),p[0])\n",
    "print(test)"
   ]
  },
  {
   "cell_type": "code",
   "execution_count": null,
   "metadata": {},
   "outputs": [],
   "source": []
  },
  {
   "cell_type": "code",
   "execution_count": 5,
   "metadata": {},
   "outputs": [],
   "source": [
    "dic={}\n",
    "dic[p[0]] = 0.5\n",
    "dic[p[1]] = 1.0\n",
    "dic[x[0]] = 0.25"
   ]
  },
  {
   "cell_type": "code",
   "execution_count": 6,
   "metadata": {},
   "outputs": [
    {
     "name": "stdout",
     "output_type": "stream",
     "text": [
      "build_lists_and_index_tree 0.026003122329711914\n",
      "len(circuit_list) 4\n",
      "run 0.0019981861114501953\n",
      "res2 0.001983165740966797\n",
      "result time 0.0\n",
      "result [-0.99804496 -0.99804496 -0.99804496 -0.99804496]\n"
     ]
    },
    {
     "data": {
      "text/plain": [
       "-6.31393506741645e-17"
      ]
     },
     "execution_count": 6,
     "metadata": {},
     "output_type": "execute_result"
    }
   ],
   "source": [
    "evaluate(test,Estimator(),Pauli(\"ZZ\"),dic,detect_circuit_duplicates=True)"
   ]
  },
  {
   "cell_type": "code",
   "execution_count": 7,
   "metadata": {},
   "outputs": [
    {
     "name": "stdout",
     "output_type": "stream",
     "text": [
      "(0.125*acos(x[0]**2)**3*\n",
      "     ┌───┐┌───────────────────────────────┐     ┌───┐\n",
      "q_0: ┤ H ├┤ Ry(p[0]*acos(x[0]**2) + 3π/2) ├──■──┤ X ├\n",
      "     ├───┤└───┬────────────────────────┬──┘┌─┴─┐├───┤\n",
      "q_1: ┤ H ├────┤ Ry(p[1]*acos(x[0]**2)) ├───┤ X ├┤ X ├\n",
      "     └───┘    └────────────────────────┘   └───┘└───┘\n",
      " + -0.375*acos(x[0]**2)**3*\n",
      "     ┌───┐┌──────────────────────────────┐     ┌───┐\n",
      "q_0: ┤ H ├┤ Ry(p[0]*acos(x[0]**2) + π/2) ├──■──┤ X ├\n",
      "     ├───┤└──┬────────────────────────┬──┘┌─┴─┐├───┤\n",
      "q_1: ┤ H ├───┤ Ry(p[1]*acos(x[0]**2)) ├───┤ X ├┤ X ├\n",
      "     └───┘   └────────────────────────┘   └───┘└───┘\n",
      " + 0.375*acos(x[0]**2)**3*\n",
      "     ┌───┐┌──────────────────────────────┐     ┌───┐\n",
      "q_0: ┤ H ├┤ Ry(p[0]*acos(x[0]**2) - π/2) ├──■──┤ X ├\n",
      "     ├───┤└──┬────────────────────────┬──┘┌─┴─┐├───┤\n",
      "q_1: ┤ H ├───┤ Ry(p[1]*acos(x[0]**2)) ├───┤ X ├┤ X ├\n",
      "     └───┘   └────────────────────────┘   └───┘└───┘\n",
      " + -0.125*acos(x[0]**2)**3*\n",
      "     ┌───┐┌───────────────────────────────┐     ┌───┐\n",
      "q_0: ┤ H ├┤ Ry(p[0]*acos(x[0]**2) - 3π/2) ├──■──┤ X ├\n",
      "     ├───┤└───┬────────────────────────┬──┘┌─┴─┐├───┤\n",
      "q_1: ┤ H ├────┤ Ry(p[1]*acos(x[0]**2)) ├───┤ X ├┤ X ├\n",
      "     └───┘    └────────────────────────┘   └───┘└───┘\n",
      ")\n"
     ]
    }
   ],
   "source": [
    "test2 = simplify_copy(test)\n",
    "print(test2)"
   ]
  },
  {
   "cell_type": "code",
   "execution_count": 8,
   "metadata": {},
   "outputs": [
    {
     "name": "stdout",
     "output_type": "stream",
     "text": [
      "build_lists_and_index_tree 0.0\n",
      "len(circuit_list) 4\n",
      "run 0.009998083114624023\n",
      "res2 0.0029985904693603516\n",
      "result time 0.0\n",
      "result [-0.99804496 -0.99804496 -0.99804496 -0.99804496]\n"
     ]
    },
    {
     "data": {
      "text/plain": [
       "1.6653345369377348e-16"
      ]
     },
     "execution_count": 8,
     "metadata": {},
     "output_type": "execute_result"
    }
   ],
   "source": [
    "evaluate(test2,Estimator(),Pauli(\"ZZ\"),dic)"
   ]
  },
  {
   "cell_type": "code",
   "execution_count": 9,
   "metadata": {},
   "outputs": [
    {
     "name": "stdout",
     "output_type": "stream",
     "text": [
      "(-2.0*p[0]*x[0]**4/(1 - x[0]**4)**(3/2) - 1.0*p[0]/sqrt(1 - x[0]**4)*\n",
      "     ┌───┐┌──────────────────────────────┐     ┌───┐\n",
      "q_0: ┤ H ├┤ Ry(p[0]*acos(x[0]**2) + π/2) ├──■──┤ X ├\n",
      "     ├───┤└──┬────────────────────────┬──┘┌─┴─┐├───┤\n",
      "q_1: ┤ H ├───┤ Ry(p[1]*acos(x[0]**2)) ├───┤ X ├┤ X ├\n",
      "     └───┘   └────────────────────────┘   └───┘└───┘\n",
      " + -1.0*p[0]*x[0]/sqrt(1 - x[0]**4)*(-1.0*p[0]*x[0]/sqrt(1 - x[0]**4)*\n",
      "     ┌───┐┌────────────────────────────┐     ┌───┐\n",
      "q_0: ┤ H ├┤ Ry(p[0]*acos(x[0]**2) + π) ├──■──┤ X ├\n",
      "     ├───┤└─┬────────────────────────┬─┘┌─┴─┐├───┤\n",
      "q_1: ┤ H ├──┤ Ry(p[1]*acos(x[0]**2)) ├──┤ X ├┤ X ├\n",
      "     └───┘  └────────────────────────┘  └───┘└───┘\n",
      " + 1.0*p[0]*x[0]/sqrt(1 - x[0]**4)*\n",
      "     ┌───┐┌────────────────────────┐     ┌───┐\n",
      "q_0: ┤ H ├┤ Ry(p[0]*acos(x[0]**2)) ├──■──┤ X ├\n",
      "     ├───┤├────────────────────────┤┌─┴─┐├───┤\n",
      "q_1: ┤ H ├┤ Ry(p[1]*acos(x[0]**2)) ├┤ X ├┤ X ├\n",
      "     └───┘└────────────────────────┘└───┘└───┘\n",
      " + -1.0*p[1]*x[0]/sqrt(1 - x[0]**4)*\n",
      "     ┌───┐┌──────────────────────────────┐     ┌───┐\n",
      "q_0: ┤ H ├┤ Ry(p[0]*acos(x[0]**2) + π/2) ├──■──┤ X ├\n",
      "     ├───┤├──────────────────────────────┤┌─┴─┐├───┤\n",
      "q_1: ┤ H ├┤ Ry(p[1]*acos(x[0]**2) + π/2) ├┤ X ├┤ X ├\n",
      "     └───┘└──────────────────────────────┘└───┘└───┘\n",
      " + 1.0*p[1]*x[0]/sqrt(1 - x[0]**4)*\n",
      "     ┌───┐┌──────────────────────────────┐     ┌───┐\n",
      "q_0: ┤ H ├┤ Ry(p[0]*acos(x[0]**2) + π/2) ├──■──┤ X ├\n",
      "     ├───┤├──────────────────────────────┤┌─┴─┐├───┤\n",
      "q_1: ┤ H ├┤ Ry(p[1]*acos(x[0]**2) - π/2) ├┤ X ├┤ X ├\n",
      "     └───┘└──────────────────────────────┘└───┘└───┘\n",
      ") + 2.0*p[0]*x[0]**4/(1 - x[0]**4)**(3/2) + 1.0*p[0]/sqrt(1 - x[0]**4)*\n",
      "     ┌───┐┌──────────────────────────────┐     ┌───┐\n",
      "q_0: ┤ H ├┤ Ry(p[0]*acos(x[0]**2) - π/2) ├──■──┤ X ├\n",
      "     ├───┤└──┬────────────────────────┬──┘┌─┴─┐├───┤\n",
      "q_1: ┤ H ├───┤ Ry(p[1]*acos(x[0]**2)) ├───┤ X ├┤ X ├\n",
      "     └───┘   └────────────────────────┘   └───┘└───┘\n",
      " + 1.0*p[0]*x[0]/sqrt(1 - x[0]**4)*(-1.0*p[0]*x[0]/sqrt(1 - x[0]**4)*\n",
      "     ┌───┐┌────────────────────────┐     ┌───┐\n",
      "q_0: ┤ H ├┤ Ry(p[0]*acos(x[0]**2)) ├──■──┤ X ├\n",
      "     ├───┤├────────────────────────┤┌─┴─┐├───┤\n",
      "q_1: ┤ H ├┤ Ry(p[1]*acos(x[0]**2)) ├┤ X ├┤ X ├\n",
      "     └───┘└────────────────────────┘└───┘└───┘\n",
      " + 1.0*p[0]*x[0]/sqrt(1 - x[0]**4)*\n",
      "     ┌───┐┌────────────────────────────┐     ┌───┐\n",
      "q_0: ┤ H ├┤ Ry(p[0]*acos(x[0]**2) - π) ├──■──┤ X ├\n",
      "     ├───┤└─┬────────────────────────┬─┘┌─┴─┐├───┤\n",
      "q_1: ┤ H ├──┤ Ry(p[1]*acos(x[0]**2)) ├──┤ X ├┤ X ├\n",
      "     └───┘  └────────────────────────┘  └───┘└───┘\n",
      " + -1.0*p[1]*x[0]/sqrt(1 - x[0]**4)*\n",
      "     ┌───┐┌──────────────────────────────┐     ┌───┐\n",
      "q_0: ┤ H ├┤ Ry(p[0]*acos(x[0]**2) - π/2) ├──■──┤ X ├\n",
      "     ├───┤├──────────────────────────────┤┌─┴─┐├───┤\n",
      "q_1: ┤ H ├┤ Ry(p[1]*acos(x[0]**2) + π/2) ├┤ X ├┤ X ├\n",
      "     └───┘└──────────────────────────────┘└───┘└───┘\n",
      " + 1.0*p[1]*x[0]/sqrt(1 - x[0]**4)*\n",
      "     ┌───┐┌──────────────────────────────┐     ┌───┐\n",
      "q_0: ┤ H ├┤ Ry(p[0]*acos(x[0]**2) - π/2) ├──■──┤ X ├\n",
      "     ├───┤├──────────────────────────────┤┌─┴─┐├───┤\n",
      "q_1: ┤ H ├┤ Ry(p[1]*acos(x[0]**2) - π/2) ├┤ X ├┤ X ├\n",
      "     └───┘└──────────────────────────────┘└───┘└───┘\n",
      ") + -2.0*p[1]*x[0]**4/(1 - x[0]**4)**(3/2) - 1.0*p[1]/sqrt(1 - x[0]**4)*\n",
      "     ┌───┐   ┌────────────────────────┐        ┌───┐\n",
      "q_0: ┤ H ├───┤ Ry(p[0]*acos(x[0]**2)) ├─────■──┤ X ├\n",
      "     ├───┤┌──┴────────────────────────┴──┐┌─┴─┐├───┤\n",
      "q_1: ┤ H ├┤ Ry(p[1]*acos(x[0]**2) + π/2) ├┤ X ├┤ X ├\n",
      "     └───┘└──────────────────────────────┘└───┘└───┘\n",
      " + -1.0*p[1]*x[0]/sqrt(1 - x[0]**4)*(-1.0*p[0]*x[0]/sqrt(1 - x[0]**4)*\n",
      "     ┌───┐┌──────────────────────────────┐     ┌───┐\n",
      "q_0: ┤ H ├┤ Ry(p[0]*acos(x[0]**2) + π/2) ├──■──┤ X ├\n",
      "     ├───┤├──────────────────────────────┤┌─┴─┐├───┤\n",
      "q_1: ┤ H ├┤ Ry(p[1]*acos(x[0]**2) + π/2) ├┤ X ├┤ X ├\n",
      "     └───┘└──────────────────────────────┘└───┘└───┘\n",
      " + 1.0*p[0]*x[0]/sqrt(1 - x[0]**4)*\n",
      "     ┌───┐┌──────────────────────────────┐     ┌───┐\n",
      "q_0: ┤ H ├┤ Ry(p[0]*acos(x[0]**2) - π/2) ├──■──┤ X ├\n",
      "     ├───┤├──────────────────────────────┤┌─┴─┐├───┤\n",
      "q_1: ┤ H ├┤ Ry(p[1]*acos(x[0]**2) + π/2) ├┤ X ├┤ X ├\n",
      "     └───┘└──────────────────────────────┘└───┘└───┘\n",
      " + -1.0*p[1]*x[0]/sqrt(1 - x[0]**4)*\n",
      "     ┌───┐  ┌────────────────────────┐       ┌───┐\n",
      "q_0: ┤ H ├──┤ Ry(p[0]*acos(x[0]**2)) ├────■──┤ X ├\n",
      "     ├───┤┌─┴────────────────────────┴─┐┌─┴─┐├───┤\n",
      "q_1: ┤ H ├┤ Ry(p[1]*acos(x[0]**2) + π) ├┤ X ├┤ X ├\n",
      "     └───┘└────────────────────────────┘└───┘└───┘\n",
      " + 1.0*p[1]*x[0]/sqrt(1 - x[0]**4)*\n",
      "     ┌───┐┌────────────────────────┐     ┌───┐\n",
      "q_0: ┤ H ├┤ Ry(p[0]*acos(x[0]**2)) ├──■──┤ X ├\n",
      "     ├───┤├────────────────────────┤┌─┴─┐├───┤\n",
      "q_1: ┤ H ├┤ Ry(p[1]*acos(x[0]**2)) ├┤ X ├┤ X ├\n",
      "     └───┘└────────────────────────┘└───┘└───┘\n",
      ") + 2.0*p[1]*x[0]**4/(1 - x[0]**4)**(3/2) + 1.0*p[1]/sqrt(1 - x[0]**4)*\n",
      "     ┌───┐   ┌────────────────────────┐        ┌───┐\n",
      "q_0: ┤ H ├───┤ Ry(p[0]*acos(x[0]**2)) ├─────■──┤ X ├\n",
      "     ├───┤┌──┴────────────────────────┴──┐┌─┴─┐├───┤\n",
      "q_1: ┤ H ├┤ Ry(p[1]*acos(x[0]**2) - π/2) ├┤ X ├┤ X ├\n",
      "     └───┘└──────────────────────────────┘└───┘└───┘\n",
      " + 1.0*p[1]*x[0]/sqrt(1 - x[0]**4)*(-1.0*p[0]*x[0]/sqrt(1 - x[0]**4)*\n",
      "     ┌───┐┌──────────────────────────────┐     ┌───┐\n",
      "q_0: ┤ H ├┤ Ry(p[0]*acos(x[0]**2) + π/2) ├──■──┤ X ├\n",
      "     ├───┤├──────────────────────────────┤┌─┴─┐├───┤\n",
      "q_1: ┤ H ├┤ Ry(p[1]*acos(x[0]**2) - π/2) ├┤ X ├┤ X ├\n",
      "     └───┘└──────────────────────────────┘└───┘└───┘\n",
      " + 1.0*p[0]*x[0]/sqrt(1 - x[0]**4)*\n",
      "     ┌───┐┌──────────────────────────────┐     ┌───┐\n",
      "q_0: ┤ H ├┤ Ry(p[0]*acos(x[0]**2) - π/2) ├──■──┤ X ├\n",
      "     ├───┤├──────────────────────────────┤┌─┴─┐├───┤\n",
      "q_1: ┤ H ├┤ Ry(p[1]*acos(x[0]**2) - π/2) ├┤ X ├┤ X ├\n",
      "     └───┘└──────────────────────────────┘└───┘└───┘\n",
      " + -1.0*p[1]*x[0]/sqrt(1 - x[0]**4)*\n",
      "     ┌───┐┌────────────────────────┐     ┌───┐\n",
      "q_0: ┤ H ├┤ Ry(p[0]*acos(x[0]**2)) ├──■──┤ X ├\n",
      "     ├───┤├────────────────────────┤┌─┴─┐├───┤\n",
      "q_1: ┤ H ├┤ Ry(p[1]*acos(x[0]**2)) ├┤ X ├┤ X ├\n",
      "     └───┘└────────────────────────┘└───┘└───┘\n",
      " + 1.0*p[1]*x[0]/sqrt(1 - x[0]**4)*\n",
      "     ┌───┐  ┌────────────────────────┐       ┌───┐\n",
      "q_0: ┤ H ├──┤ Ry(p[0]*acos(x[0]**2)) ├────■──┤ X ├\n",
      "     ├───┤┌─┴────────────────────────┴─┐┌─┴─┐├───┤\n",
      "q_1: ┤ H ├┤ Ry(p[1]*acos(x[0]**2) - π) ├┤ X ├┤ X ├\n",
      "     └───┘└────────────────────────────┘└───┘└───┘\n",
      "))\n"
     ]
    }
   ],
   "source": [
    "test = simplify_copy(circuit_derivative(circuit_derivative(QC,x[0]),x[0]))\n",
    "print(test)"
   ]
  },
  {
   "cell_type": "code",
   "execution_count": 10,
   "metadata": {},
   "outputs": [
    {
     "name": "stdout",
     "output_type": "stream",
     "text": [
      "2\n",
      "1\n"
     ]
    },
    {
     "data": {
      "image/png": "[encoded data removed]",
      "text/plain": [
       "<Figure size 387.452x144.48 with 1 Axes>"
      ]
     },
     "execution_count": 10,
     "metadata": {},
     "output_type": "execute_result"
    }
   ],
   "source": [
    "from squlearn.feature_map import QiskitFeatureMap\n",
    "from squlearn.expectation_operator import SinglePauli\n",
    "from squlearn.qnn.qnn import QNN\n",
    "from squlearn import Executor\n",
    "\n",
    "\n",
    "fm = QiskitFeatureMap(QC,decompose=False,)\n",
    "print(fm.num_parameters)\n",
    "print(fm.num_features)\n",
    "fm.draw()\n",
    "\n"
   ]
  }
 ],
 "metadata": {
  "kernelspec": {
   "display_name": "Python 3",
   "language": "python",
   "name": "python3"
  },
  "language_info": {
   "codemirror_mode": {
    "name": "ipython",
    "version": 3
   },
   "file_extension": ".py",
   "mimetype": "text/x-python",
   "name": "python",
   "nbconvert_exporter": "python",
   "pygments_lexer": "ipython3",
   "version": "3.10.2"
  },
  "orig_nbformat": 4
 },
 "nbformat": 4,
 "nbformat_minor": 2
}
