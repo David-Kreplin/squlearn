{
 "cells": [
  {
   "cell_type": "code",
   "execution_count": 1,
   "id": "initial_id",
   "metadata": {
    "collapsed": true,
    "ExecuteTime": {
     "end_time": "2023-12-01T11:41:03.378460300Z",
     "start_time": "2023-12-01T11:41:00.648353800Z"
    }
   },
   "outputs": [],
   "source": [
    "from squlearn.optimizers import Adam, SGLBO\n",
    "import numpy as np\n",
    "from benchmark_functions import *"
   ]
  },
  {
   "cell_type": "code",
   "execution_count": 2,
   "outputs": [
    {
     "data": {
      "text/plain": "<squlearn.optimizers.optimizer_base.OptimizerResult at 0x2681853be50>"
     },
     "execution_count": 2,
     "metadata": {},
     "output_type": "execute_result"
    }
   ],
   "source": [
    "config = {\"lr\": 0.28,\"log_file\": \"adam.log\"}\n",
    "adam = Adam(config)\n",
    "\n",
    "x0 = np.array([1, 2])\n",
    "\n",
    "adam.minimize(rosenbrock_function, x0)"
   ],
   "metadata": {
    "collapsed": false,
    "ExecuteTime": {
     "end_time": "2023-12-01T11:41:03.441363800Z",
     "start_time": "2023-12-01T11:41:03.381461900Z"
    }
   },
   "id": "141aa9bbc49a4afc"
  }
 ],
 "metadata": {
  "kernelspec": {
   "display_name": "Python 3",
   "language": "python",
   "name": "python3"
  },
  "language_info": {
   "codemirror_mode": {
    "name": "ipython",
    "version": 2
   },
   "file_extension": ".py",
   "mimetype": "text/x-python",
   "name": "python",
   "nbconvert_exporter": "python",
   "pygments_lexer": "ipython2",
   "version": "2.7.6"
  }
 },
 "nbformat": 4,
 "nbformat_minor": 5
}
