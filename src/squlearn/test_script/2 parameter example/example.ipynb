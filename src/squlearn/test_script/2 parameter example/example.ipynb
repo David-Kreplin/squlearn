{
 "cells": [
  {
   "cell_type": "markdown",
   "metadata": {},
   "source": [
    "## Error Mitigation for QNNs on IBM Devices\n",
    "\n",
    "### Introduction\n",
    "\n",
    "This tutorial demonstrates the setup and implementation of error mitigation techniques for Qiskit's primitives within the context of Quantum Neural Networks (QNNs) in sQUlearn. Firstly, we will train a small QNN using a noise-free and error-free simulator to fit a parabolic dataset. Subsequently, we will illustrate how to configure the `Executor` class to establish a connection with IBM Quantum devices. We assume that you have already set up an IBM account and have access to IBM Quantum devices. For detailed instructions on registering and configuring your IBM Quantum account, please refer to the following link: [IBM Quantum Account Management](https://qiskit.org/ecosystem/ibm-runtime/how_to/account-management.html).\n",
    "\n",
    "Given the potentially lengthy queuing times for the free quantum devices, we will replicate the noise model of a quantum device and use the QASM simulator to emulate the real characteristics of a quantum computer. The simulator employed in this task, known as the `ibmq_qasm_simulator`, operates within the IBM Quantum cloud and can be accessed similarly to the actual quantum devices.\n",
    "\n",
    "We will explore various error mitigation options for both the Estimator and Sampler primitives. Finally, we will demonstrate how to train the QNN on the quantum device (simulator) to adapt to noisy configurations and reduce finite sampling noise through variance regularization [1].\n",
    "\n",
    "### Importing Libraries\n",
    "\n",
    "The first step involves importing the necessary libraries for this tutorial. We will be using the `qiskit-ibm-runtime` package to establish connections with IBM Quantum devices and `qiskit-aer` to simulate the noise model of these quantum devices. Additionally, we will employ the `squlearn` library to configure and train the QNN on the quantum device."
   ]
  },
  {
   "cell_type": "code",
   "execution_count": 1,
   "metadata": {},
   "outputs": [],
   "source": [
    "import numpy as np\n",
    "import matplotlib.pyplot as plt\n",
    "\n",
    "from qiskit import QuantumCircuit\n",
    "from qiskit.circuit import ParameterVector\n",
    "\n",
    "from qiskit_ibm_runtime import QiskitRuntimeService, Session, Options, Estimator, Sampler\n",
    "from qiskit_aer.noise import NoiseModel\n",
    "\n",
    "from squlearn import Executor\n",
    "from squlearn.encoding_circuit import QiskitEncodingCircuit\n",
    "from squlearn.observables import SinglePauli\n",
    "from squlearn.qnn import QNNRegressor, SquaredLoss\n",
    "from squlearn.optimizers import Adam, SLSQP, SGLBO"
   ]
  },
  {
   "cell_type": "markdown",
   "metadata": {},
   "source": [
    "### Set-up of the QNN\n",
    "\n",
    "We first set-up the data encoding circuit of the QNN. Here we utilize the `ChebPQC` encoding circuit for 2 qubits and 2 layers."
   ]
  },
  {
   "cell_type": "code",
   "execution_count": 2,
   "metadata": {},
   "outputs": [
    {
     "name": "stderr",
     "output_type": "stream",
     "text": [
      "C:\\Users\\DKR\\AppData\\Roaming\\Python\\Python310\\site-packages\\qiskit\\visualization\\circuit\\matplotlib.py:266: FutureWarning: The default matplotlib drawer scheme will be changed to \"iqp\" in a following release. To silence this warning, specify the current default explicitly as style=\"clifford\", or the new default as style=\"iqp\".\n",
      "  self._style, def_font_ratio = load_style(self._style)\n"
     ]
    },
    {
     "data": {
      "image/png": "[encoded data removed]",
      "text/plain": [
       "<Figure size 568.052x144.48 with 1 Axes>"
      ]
     },
     "execution_count": 2,
     "metadata": {},
     "output_type": "execute_result"
    }
   ],
   "source": [
    "nqubits = 2\n",
    "\n",
    "qc = QuantumCircuit(2)\n",
    "p = ParameterVector('p', 2)\n",
    "x = ParameterVector('x', 1)\n",
    "\n",
    "qc.rx(2*np.arccos(x[0]), 0)\n",
    "qc.rx(2*np.arccos(x[0]), 1)\n",
    "\n",
    "qc.ry(p[0], 0)\n",
    "qc.ry(p[1], 1)\n",
    "\n",
    "qc.cx(1, 0)\n",
    "\n",
    "qc.rx(2*np.arccos(x[0]), 0)\n",
    "qc.rx(2*np.arccos(x[0]), 1)\n",
    "\n",
    "qc.cry(p[0], 0, 1)\n",
    "qc.cry(p[1], 1, 0)\n",
    "\n",
    "pqc = QiskitEncodingCircuit(qc)\n",
    "pqc.draw()"
   ]
  },
  {
   "attachments": {},
   "cell_type": "markdown",
   "metadata": {},
   "source": [
    "We utilize the parameterized summation over Z Pauli matrices as the observable: $\\hat{O} = \\hat{Z}_0 \\beta$"
   ]
  },
  {
   "cell_type": "code",
   "execution_count": 3,
   "metadata": {},
   "outputs": [
    {
     "name": "stdout",
     "output_type": "stream",
     "text": [
      "SparsePauliOp(['IZ'],\n",
      "              coeffs=[1.+0.j])\n"
     ]
    }
   ],
   "source": [
    "op = SinglePauli(nqubits,qubit=0,parameterized=False)\n",
    "print(op)"
   ]
  },
  {
   "cell_type": "code",
   "execution_count": 4,
   "metadata": {},
   "outputs": [
    {
     "data": {
      "text/plain": [
       "0"
      ]
     },
     "execution_count": 4,
     "metadata": {},
     "output_type": "execute_result"
    }
   ],
   "source": [
    "op.num_parameters"
   ]
  },
  {
   "attachments": {},
   "cell_type": "markdown",
   "metadata": {},
   "source": [
    "Lastly, we configure the Quantum Neural Network (QNN) using the QNNRegressor class sourced from the squlearn library. In this setup, we initialize the QNN with randomized weights, employ the L2 Loss (also known as SquaredLoss), and utilize the Adam optimization routine with a learning rate set to 0.1. It's noteworthy that during the training process, the QNN leverages the statevector_simulator to calculate the expectation values of observables, thereby ensuring a noise-free and error-free training environment."
   ]
  },
  {
   "cell_type": "code",
   "execution_count": 5,
   "metadata": {},
   "outputs": [],
   "source": [
    "# Randomly initialize parameters of the encoding circuit\n",
    "np.random.seed(13)\n",
    "param_ini = np.random.rand(pqc.num_parameters)\n",
    "# Initialize parameters of the observable as ones\n",
    "param_op_ini = np.ones(op.num_parameters)\n",
    "x0 = [[i * 0.02] for i in range(15)]\n",
    "optimizer_options = {\"bo_aqc_func\": \"EI\", \"bo_aqc_optimizer\": \"lbfgs\", \"bo_bounds\": [(0.0, 0.3)], \"log_file\": \"sglbo_noiseless.log\",\n",
    "                     \"bo_n_calls\": 30, \"bo_x0_points\": x0, \"maxiter\": 100}\n",
    "\n",
    "qnn_simulator = QNNRegressor(\n",
    "    pqc,\n",
    "    op,\n",
    "    Executor(\"statevector_simulator\"),\n",
    "    SquaredLoss(),\n",
    "    #SGLBO(optimizer_options),\n",
    "    Adam({\"lr\": 0.2,\"log_file\": \"adam_noiseless.log\"}),\n",
    "    param_ini,\n",
    "    param_op_ini,\n",
    "    opt_param_op=False, # Keine Observablen optimierung\n",
    "    parameter_seed=124\n",
    ")"
   ]
  },
  {
   "attachments": {},
   "cell_type": "markdown",
   "metadata": {},
   "source": [
    "### Training of the QNN with a noise free simulator\n",
    "\n",
    "In this cell, we set-up the data `x_train` and `y_train` for training the QNN. The values are obtained by calculating the values of the simple parametric function $f(x) = x^2$ with the `square` function of `numpy`."
   ]
  },
  {
   "cell_type": "code",
   "execution_count": 6,
   "metadata": {},
   "outputs": [],
   "source": [
    "# Data that is inputted to the QNN\n",
    "x_train = np.arange(-0.5, 0.6, 0.1)\n",
    "# Data that is fitted by the QNN\n",
    "y_train = np.square(x_train)-0.9"
   ]
  },
  {
   "cell_type": "markdown",
   "metadata": {},
   "source": [
    "Afterwards, we train the QNN by calling the `fit` method of the `QNNRegressor` class."
   ]
  },
  {
   "cell_type": "code",
   "execution_count": 7,
   "metadata": {},
   "outputs": [
    {
     "name": "stdout",
     "output_type": "stream",
     "text": [
      "fit: 100%|██████████| 100/100 [00:25<00:00,  3.93it/s]"
     ]
    }
   ],
   "source": [
    "qnn_simulator.fit(x_train, y_train)"
   ]
  },
  {
   "cell_type": "markdown",
   "metadata": {},
   "source": [
    "The finial parameters of the encoding circuit and the observable are displayed in the output of the following cell."
   ]
  },
  {
   "cell_type": "code",
   "execution_count": 8,
   "metadata": {},
   "outputs": [
    {
     "name": "stdout",
     "output_type": "stream",
     "text": [
      "Result encoding parameters: [-0.71624442  1.77373069]\n",
      "Result observable parameters: []\n"
     ]
    }
   ],
   "source": [
    "print(\"Result encoding parameters:\", qnn_simulator.param)\n",
    "print(\"Result observable parameters:\", qnn_simulator.param_op)"
   ]
  },
  {
   "cell_type": "markdown",
   "metadata": {},
   "source": [
    "Following the QNN's training, we proceed to compute model inferences and visualize the results. The QNN model generates the parabolic output, affirming the successful training of the QNN.\n"
   ]
  },
  {
   "cell_type": "code",
   "execution_count": 9,
   "metadata": {},
   "outputs": [
    {
     "data": {
      "image/png": "[encoded data removed]",
      "text/plain": [
       "<Figure size 432x288 with 1 Axes>"
      ]
     },
     "metadata": {
      "needs_background": "light"
     },
     "output_type": "display_data"
    }
   ],
   "source": [
    "x = np.arange(np.min(x_train), np.max(x_train) + 0.01, 0.01)\n",
    "y = qnn_simulator.predict(x)  # function for evaluating the prediction of the QNN\n",
    "plt.plot(x, np.square(x)-0.9, label=\"Parabola function\")\n",
    "plt.plot(x, y, label=\"QNN inference\")\n",
    "plt.plot(x_train, y_train, \"x\", label=\"training data\")\n",
    "plt.legend()\n",
    "plt.title(\"QNN inference of a parabola function\")\n",
    "plt.show()"
   ]
  }
 ],
 "metadata": {
  "interpreter": {
   "hash": "26de051ba29f2982a8de78e945f0abaf191376122a1563185a90213a26c5da77"
  },
  "kernelspec": {
   "display_name": "Python 3.10.2 64-bit",
   "language": "python",
   "name": "python3"
  },
  "language_info": {
   "codemirror_mode": {
    "name": "ipython",
    "version": 3
   },
   "file_extension": ".py",
   "mimetype": "text/x-python",
   "name": "python",
   "nbconvert_exporter": "python",
   "pygments_lexer": "ipython3",
   "version": "3.10.2"
  },
  "orig_nbformat": 4
 },
 "nbformat": 4,
 "nbformat_minor": 2
}
