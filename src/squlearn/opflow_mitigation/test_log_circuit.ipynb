{
 "cells": [
  {
   "cell_type": "code",
   "execution_count": null,
   "metadata": {},
   "outputs": [],
   "source": [
    "import numpy as np\n",
    "from qiskit import QuantumCircuit\n",
    "from qiskit.circuit import ParameterVector,ParameterExpression\n",
    "from qiskit.primitives import Estimator,Sampler,BackendEstimator,BackendSampler\n",
    "from qiskit.quantum_info import SparsePauliOp\n",
    "from qiskit import transpile\n",
    "from qiskit import Aer\n",
    "\n",
    "\n",
    "from squlearn.feature_map import ChebPQC\n",
    "from squlearn.expectation_operator import SinglePauli,SummedPaulis\n",
    "from squlearn.qnn.qnn import QNN\n",
    "from squlearn.util import Executor\n",
    "\n",
    "import copy\n",
    "\n",
    "#from circuit_tree import *\n",
    "\n",
    "from squlearn.util.optree import *\n",
    "from squlearn.util.optree.optree import *\n",
    "from squlearn.util.optree.optree_evaluate import *\n",
    "\n",
    "num_qubits = 10\n",
    "\n",
    "pqc = ChebPQC(num_qubits,1,3)\n",
    "\n",
    "x = ParameterVector(\"x\",pqc.num_features)\n",
    "p = ParameterVector(\"p\",pqc.num_parameters)\n",
    "\n",
    "QC = pqc.get_circuit(x,p)\n",
    "\n",
    "\n",
    "\n",
    "SUPPORTED_GATES = {\"x\", \"y\", \"z\", \"h\", \"rx\", \"ry\", \"rz\", \"p\", \"u\", \"cx\", \"cy\", \"cz\"} #rzz,ryy,rxx also work!\n",
    "QC = transpile(QC,basis_gates=SUPPORTED_GATES)\n",
    "QC.draw()"
   ]
  },
  {
   "cell_type": "code",
   "execution_count": null,
   "metadata": {},
   "outputs": [],
   "source": [
    "d = derivative(OpTreeLeafCircuit(QC),p)"
   ]
  },
  {
   "cell_type": "code",
   "execution_count": null,
   "metadata": {},
   "outputs": [],
   "source": [
    "grad = simplify_copy(d)\n",
    "#grad = d"
   ]
  },
  {
   "cell_type": "code",
   "execution_count": null,
   "metadata": {},
   "outputs": [],
   "source": [
    "len(str(grad))"
   ]
  },
  {
   "cell_type": "code",
   "execution_count": null,
   "metadata": {},
   "outputs": [],
   "source": [
    "xval = [-0.5]\n",
    "np.random.seed(0)\n",
    "pval = np.random.rand(pqc.num_parameters)\n",
    "dictionary = dict(zip(p, pval))\n",
    "dictionary.update(dict(zip(x, xval)))\n"
   ]
  },
  {
   "cell_type": "code",
   "execution_count": null,
   "metadata": {},
   "outputs": [],
   "source": [
    "from pympler import asizeof\n",
    "circ = get_first_leaf(grad)\n",
    "full_size = asizeof.asizeof(circ)\n",
    "print(f\"Size of circuit: {full_size} bytes\")\n"
   ]
  },
  {
   "cell_type": "code",
   "execution_count": null,
   "metadata": {},
   "outputs": [],
   "source": [
    "op = SummedPaulis(num_qubits)\n",
    "pop = ParameterVector('p',op.num_parameters)\n",
    "op_dict=dict(zip(pop,np.random.rand(op.num_parameters)))\n",
    "pauli_op = op.get_pauli_new(pop)"
   ]
  },
  {
   "cell_type": "code",
   "execution_count": null,
   "metadata": {},
   "outputs": [],
   "source": [
    "evaluate_estimator(grad,pauli_op,dictionary,op_dict,Estimator(),detect_circuit_duplicates=False)"
   ]
  },
  {
   "cell_type": "code",
   "execution_count": null,
   "metadata": {},
   "outputs": [],
   "source": [
    "evaluate_sampler(grad,pauli_op,dictionary,op_dict,Sampler(),detect_circuit_duplicates=False)"
   ]
  },
  {
   "cell_type": "code",
   "execution_count": null,
   "metadata": {},
   "outputs": [],
   "source": [
    "estimator_qasm = BackendEstimator(Aer.get_backend('qasm_simulator'),options={'shots':10000})\n",
    "sampler_qasm = BackendSampler(Aer.get_backend('qasm_simulator'),options={'shots':10000})"
   ]
  },
  {
   "cell_type": "code",
   "execution_count": null,
   "metadata": {},
   "outputs": [],
   "source": [
    "evaluate_estimator(grad,pauli_op,dictionary,op_dict,estimator_qasm,detect_circuit_duplicates=False)"
   ]
  },
  {
   "cell_type": "code",
   "execution_count": null,
   "metadata": {},
   "outputs": [],
   "source": [
    "evaluate_estimator(grad,pauli_op,dictionary,op_dict,estimator_qasm,detect_circuit_duplicates=True)"
   ]
  },
  {
   "cell_type": "code",
   "execution_count": null,
   "metadata": {},
   "outputs": [],
   "source": [
    "# evaluate_sampler(grad,pauli_op,dictionary,op_dict,sampler_qasm,detect_circuit_duplicates=False)"
   ]
  },
  {
   "cell_type": "code",
   "execution_count": null,
   "metadata": {},
   "outputs": [],
   "source": [
    "total_dic = dictionary\n",
    "total_dic.update(op_dict)"
   ]
  },
  {
   "cell_type": "code",
   "execution_count": null,
   "metadata": {},
   "outputs": [],
   "source": [
    "expec_tree = gen_expectation_tree(grad,pauli_op)"
   ]
  },
  {
   "cell_type": "code",
   "execution_count": null,
   "metadata": {},
   "outputs": [],
   "source": [
    "total_dic2 = total_dic.copy()\n",
    "total_dic2[pop[0]]=-1\n",
    "total_dic2[pop[1]]=2\n",
    "total_dic2[x[0]]=-0.2\n",
    "evaluate_expectation_tree_from_estimator(expec_tree,total_dic2,Estimator())"
   ]
  },
  {
   "cell_type": "code",
   "execution_count": null,
   "metadata": {},
   "outputs": [],
   "source": [
    "evaluate_expectation_tree_from_estimator(expec_tree,[total_dic,total_dic2],Estimator())"
   ]
  },
  {
   "cell_type": "code",
   "execution_count": null,
   "metadata": {},
   "outputs": [],
   "source": [
    "expec_tree = gen_expectation_tree(grad,pauli_op)"
   ]
  },
  {
   "cell_type": "code",
   "execution_count": null,
   "metadata": {},
   "outputs": [],
   "source": [
    "evaluate_expectation_tree_from_sampler(expec_tree,total_dic,Sampler())"
   ]
  }
 ],
 "metadata": {
  "kernelspec": {
   "display_name": "Python 3",
   "language": "python",
   "name": "python3"
  },
  "language_info": {
   "codemirror_mode": {
    "name": "ipython",
    "version": 3
   },
   "file_extension": ".py",
   "mimetype": "text/x-python",
   "name": "python",
   "nbconvert_exporter": "python",
   "pygments_lexer": "ipython3",
   "version": "3.10.2"
  },
  "orig_nbformat": 4
 },
 "nbformat": 4,
 "nbformat_minor": 2
}
