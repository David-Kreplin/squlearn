{
 "cells": [
  {
   "cell_type": "code",
   "execution_count": null,
   "metadata": {},
   "outputs": [],
   "source": [
    "import numpy as np\n",
    "from squlearn.encoding_circuit import ChebyshevRx\n",
    "from squlearn.observables import SummedPaulis\n",
    "from squlearn import Executor\n",
    "\n",
    "from squlearn.qnn.lowlevel_qnn_pennylane import LowLevelQNNPennyLane\n",
    "from squlearn.qnn.lowlevel_qnn_qiskit import LowLevelQNN"
   ]
  },
  {
   "cell_type": "code",
   "execution_count": null,
   "metadata": {},
   "outputs": [],
   "source": [
    "pqc = ChebyshevRx(2,1)\n",
    "obs = SummedPaulis(2)\n",
    "\n",
    "\n",
    "np.random.seed(0)\n",
    "param = np.random.rand(pqc.num_parameters)\n",
    "param_obs = np.random.rand(obs.num_parameters)\n",
    "\n",
    "qnn_pl = LowLevelQNNPennyLane(pqc, obs, None)"
   ]
  },
  {
   "cell_type": "code",
   "execution_count": null,
   "metadata": {},
   "outputs": [],
   "source": [
    "qnn_qiskit = LowLevelQNN(pqc, obs, Executor())"
   ]
  },
  {
   "cell_type": "code",
   "execution_count": null,
   "metadata": {},
   "outputs": [],
   "source": [
    "val = qnn_qiskit.evaluate(0.5,param,param_obs,\"f\")[\"f\"]\n",
    "print(val)\n",
    "print(val.shape)"
   ]
  },
  {
   "cell_type": "code",
   "execution_count": null,
   "metadata": {},
   "outputs": [],
   "source": [
    "val = qnn_pl.evaluate(0.5,param,param_obs,\"f\")[\"f\"]\n",
    "print(val)\n",
    "print(val.shape)"
   ]
  },
  {
   "cell_type": "code",
   "execution_count": null,
   "metadata": {},
   "outputs": [],
   "source": [
    "val = qnn_qiskit.evaluate(0.5,param,param_obs,\"dfdp\")[\"dfdp\"]\n",
    "print(val)\n",
    "print(val.shape)"
   ]
  },
  {
   "cell_type": "code",
   "execution_count": null,
   "metadata": {},
   "outputs": [],
   "source": [
    "val = qnn_pl.evaluate(0.5,param,param_obs,\"dfdp\")[\"dfdp\"]\n",
    "print(val)\n",
    "print(val.shape)"
   ]
  },
  {
   "cell_type": "code",
   "execution_count": null,
   "metadata": {},
   "outputs": [],
   "source": [
    "val = qnn_qiskit.evaluate(0.5,param,param_obs,\"dfdop\")[\"dfdop\"]\n",
    "print(val)\n",
    "print(val.shape)"
   ]
  },
  {
   "cell_type": "code",
   "execution_count": null,
   "metadata": {},
   "outputs": [],
   "source": [
    "val = qnn_pl.evaluate(0.5,param,param_obs,\"dfdop\")[\"dfdop\"]\n",
    "print(val)\n",
    "print(val.shape)"
   ]
  },
  {
   "cell_type": "code",
   "execution_count": null,
   "metadata": {},
   "outputs": [],
   "source": [
    "val = qnn_qiskit.evaluate(0.5,param,param_obs,\"dfdx\")[\"dfdx\"]\n",
    "print(val)\n",
    "print(val.shape)"
   ]
  },
  {
   "cell_type": "code",
   "execution_count": null,
   "metadata": {},
   "outputs": [],
   "source": [
    "val = qnn_pl.evaluate(0.5,param,param_obs,\"dfdx\")[\"dfdx\"]\n",
    "print(val)\n",
    "print(val.shape)"
   ]
  },
  {
   "cell_type": "code",
   "execution_count": null,
   "metadata": {},
   "outputs": [],
   "source": [
    "val = qnn_pl.evaluate(0.5,param,param_obs,\"dfdpdx\")[\"dfdpdx\"]\n",
    "print(val)\n",
    "print(val.shape)"
   ]
  },
  {
   "cell_type": "code",
   "execution_count": null,
   "metadata": {},
   "outputs": [],
   "source": [
    "val = qnn_pl.evaluate(0.5,param,param_obs,\"dfdxdp\")[\"dfdxdp\"]\n",
    "print(val)\n",
    "print(val.shape)"
   ]
  },
  {
   "cell_type": "code",
   "execution_count": null,
   "metadata": {},
   "outputs": [],
   "source": [
    "val = qnn_pl.evaluate(0.5,param,param_obs,\"dfdxdxdp\")[\"dfdxdxdp\"]\n",
    "print(val)\n",
    "print(val.shape)"
   ]
  },
  {
   "cell_type": "code",
   "execution_count": null,
   "metadata": {},
   "outputs": [],
   "source": [
    "val = qnn_pl.evaluate(0.5,param,param_obs,\"dfdxdpdx\")[\"dfdxdpdx\"]\n",
    "print(val)\n",
    "print(val.shape)"
   ]
  },
  {
   "cell_type": "code",
   "execution_count": null,
   "metadata": {},
   "outputs": [],
   "source": [
    "val = qnn_qiskit.evaluate(0.5,param,param_obs,\"dfdxdx\")[\"dfdxdx\"]\n",
    "print(val)\n",
    "print(val.shape)"
   ]
  },
  {
   "cell_type": "code",
   "execution_count": null,
   "metadata": {},
   "outputs": [],
   "source": [
    "val = qnn_pl.evaluate(0.5,param,param_obs,\"dfdxdx\")[\"dfdxdx\"]\n",
    "print(val)\n",
    "print(val.shape)"
   ]
  },
  {
   "cell_type": "code",
   "execution_count": null,
   "metadata": {},
   "outputs": [],
   "source": [
    "val = qnn_qiskit.evaluate(0.5,param,param_obs,\"dfdpdp\")[\"dfdpdp\"]\n",
    "print(val)\n",
    "print(val.shape)"
   ]
  },
  {
   "cell_type": "code",
   "execution_count": null,
   "metadata": {},
   "outputs": [],
   "source": [
    "val = qnn_pl.evaluate(0.5,param,param_obs,\"dfdpdp\")[\"dfdpdp\"]\n",
    "print(val)\n",
    "print(val.shape)"
   ]
  }
 ],
 "metadata": {
  "kernelspec": {
   "display_name": ".venv",
   "language": "python",
   "name": "python3"
  },
  "language_info": {
   "codemirror_mode": {
    "name": "ipython",
    "version": 3
   },
   "file_extension": ".py",
   "mimetype": "text/x-python",
   "name": "python",
   "nbconvert_exporter": "python",
   "pygments_lexer": "ipython3",
   "version": "3.10.2"
  }
 },
 "nbformat": 4,
 "nbformat_minor": 2
}
