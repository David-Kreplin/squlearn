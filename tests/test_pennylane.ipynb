{
 "cells": [
  {
   "cell_type": "code",
   "execution_count": 1,
   "metadata": {},
   "outputs": [
    {
     "name": "stdout",
     "output_type": "stream",
     "text": [
      "WARNING:tensorflow:From c:\\Users\\DKR\\Documents\\Git Repositories\\squlearn_fork\\squlearn\\.venv\\lib\\site-packages\\keras\\src\\losses.py:2976: The name tf.losses.sparse_softmax_cross_entropy is deprecated. Please use tf.compat.v1.losses.sparse_softmax_cross_entropy instead.\n",
      "\n"
     ]
    }
   ],
   "source": [
    "import numpy as np\n",
    "\n",
    "from squlearn.util.pennylane.pennylane_device import PennyLaneDevice\n",
    "from squlearn.util.pennylane.pennylane_circuit import PennyLaneCircuit\n",
    "\n",
    "from qiskit.circuit import QuantumCircuit\n",
    "\n",
    "from qiskit.circuit import ParameterVector\n",
    "\n",
    "from squlearn.encoding_circuit import HubregtsenEncodingCircuit\n",
    "\n",
    "from squlearn.observables import SummedPaulis\n"
   ]
  },
  {
   "cell_type": "code",
   "execution_count": 2,
   "metadata": {},
   "outputs": [
    {
     "name": "stdout",
     "output_type": "stream",
     "text": [
      "SparsePauliOp(['IIII', 'IIIZ', 'IIZI', 'IZII', 'ZIII'],\n",
      "              coeffs=[ParameterExpression(1.0*a[0]), ParameterExpression(1.0*a[1]),\n",
      " ParameterExpression(1.0*a[2]), ParameterExpression(1.0*a[3]),\n",
      " ParameterExpression(1.0*a[4])])\n"
     ]
    }
   ],
   "source": [
    "obs = SummedPaulis(4)\n",
    "\n",
    "\n",
    "param = ParameterVector('a', obs.num_parameters)\n",
    "\n",
    "op = obs.get_operator(param)\n",
    "\n",
    "print(op)"
   ]
  },
  {
   "cell_type": "code",
   "execution_count": 3,
   "metadata": {},
   "outputs": [
    {
     "data": {
      "text/plain": [
       "ParameterView([ParameterVectorElement(a[0]), ParameterVectorElement(a[4]), ParameterVectorElement(a[1]), ParameterVectorElement(a[2]), ParameterVectorElement(a[3])])"
      ]
     },
     "execution_count": 3,
     "metadata": {},
     "output_type": "execute_result"
    }
   ],
   "source": [
    "op.parameters"
   ]
  },
  {
   "cell_type": "code",
   "execution_count": 4,
   "metadata": {},
   "outputs": [
    {
     "name": "stderr",
     "output_type": "stream",
     "text": [
      "c:\\Users\\DKR\\Documents\\Git Repositories\\squlearn_fork\\squlearn\\.venv\\lib\\site-packages\\qiskit\\visualization\\circuit\\matplotlib.py:266: FutureWarning: The default matplotlib drawer scheme will be changed to \"iqp\" in a following release. To silence this warning, specify the current default explicitly as style=\"clifford\", or the new default as style=\"iqp\".\n",
      "  self._style, def_font_ratio = load_style(self._style)\n"
     ]
    },
    {
     "data": {
      "image/png": "[encoded data removed]",
      "text/plain": [
       "<Figure size 705.552x367.889 with 1 Axes>"
      ]
     },
     "execution_count": 4,
     "metadata": {},
     "output_type": "execute_result"
    }
   ],
   "source": [
    "pqc = HubregtsenEncodingCircuit(4,1)\n",
    "\n",
    "x = ParameterVector(\"x\",pqc.num_features)\n",
    "p = ParameterVector(\"p\",pqc.num_parameters)\n",
    "\n",
    "circuit = pqc.get_circuit(x,p)\n",
    "circuit.draw()\n"
   ]
  },
  {
   "cell_type": "code",
   "execution_count": 7,
   "metadata": {},
   "outputs": [],
   "source": [
    "# circuit.draw()"
   ]
  },
  {
   "cell_type": "code",
   "execution_count": 8,
   "metadata": {},
   "outputs": [
    {
     "name": "stdout",
     "output_type": "stream",
     "text": [
      "self._pennylane_gates [<class 'pennylane.ops.qubit.non_parametric_ops.Hadamard'>, <class 'pennylane.ops.qubit.non_parametric_ops.Hadamard'>, <class 'pennylane.ops.qubit.non_parametric_ops.Hadamard'>, <class 'pennylane.ops.qubit.non_parametric_ops.Hadamard'>, <class 'pennylane.ops.qubit.parametric_ops_single_qubit.RZ'>, <class 'pennylane.ops.qubit.parametric_ops_single_qubit.RZ'>, <class 'pennylane.ops.qubit.parametric_ops_single_qubit.RZ'>, <class 'pennylane.ops.qubit.parametric_ops_single_qubit.RZ'>, <class 'pennylane.ops.qubit.parametric_ops_single_qubit.RY'>, <class 'pennylane.ops.qubit.parametric_ops_single_qubit.RY'>, <class 'pennylane.ops.qubit.parametric_ops_single_qubit.RY'>, <class 'pennylane.ops.qubit.parametric_ops_single_qubit.RY'>, <class 'pennylane.ops.qubit.parametric_ops_controlled.CRZ'>, <class 'pennylane.ops.qubit.parametric_ops_controlled.CRZ'>, <class 'pennylane.ops.qubit.parametric_ops_controlled.CRZ'>, <class 'pennylane.ops.qubit.parametric_ops_controlled.CRZ'>]\n",
      "self._pennylane_gates_param_function [None, None, None, None, (<function _lambdifygenerated at 0x00000148A7508310>,), (<function _lambdifygenerated at 0x00000148A7509900>,), (<function _lambdifygenerated at 0x00000148A746B520>,), (<function _lambdifygenerated at 0x00000148A7509480>,), (<function _lambdifygenerated at 0x00000148A750A680>,), (<function _lambdifygenerated at 0x00000148A746BD90>,), (<function _lambdifygenerated at 0x00000148A7508A60>,), (<function _lambdifygenerated at 0x00000148A750A440>,), (<function _lambdifygenerated at 0x00000148A750A560>,), (<function _lambdifygenerated at 0x00000148A7508820>,), (<function _lambdifygenerated at 0x00000148A746B130>,), (<function _lambdifygenerated at 0x00000148A750AE60>,)]\n",
      "self._pennylane_gates_wires [[0], [1], [2], [3], [0], [1], [2], [3], [0], [1], [2], [3], [0, 1], [1, 2], [2, 3], [3, 0]]\n"
     ]
    }
   ],
   "source": [
    "device = PennyLaneDevice()\n",
    "pcirc = PennyLaneCircuit(device, circuit, op)"
   ]
  },
  {
   "cell_type": "code",
   "execution_count": 9,
   "metadata": {},
   "outputs": [],
   "source": [
    "#pcirc.draw()"
   ]
  },
  {
   "cell_type": "code",
   "execution_count": 10,
   "metadata": {},
   "outputs": [
    {
     "data": {
      "text/plain": [
       "tensor(-0.26988097, requires_grad=True)"
      ]
     },
     "execution_count": 10,
     "metadata": {},
     "output_type": "execute_result"
    }
   ],
   "source": [
    "np.random.seed(42)\n",
    "p_val = np.random.rand(pqc.num_parameters)\n",
    "x_val = np.random.rand(pqc.num_features)\n",
    "a_val = np.random.rand(obs.num_parameters)\n",
    "\n",
    "pcirc(p=p_val, x=x_val,a =a_val)"
   ]
  }
 ],
 "metadata": {
  "kernelspec": {
   "display_name": "Python 3",
   "language": "python",
   "name": "python3"
  },
  "language_info": {
   "codemirror_mode": {
    "name": "ipython",
    "version": 3
   },
   "file_extension": ".py",
   "mimetype": "text/x-python",
   "name": "python",
   "nbconvert_exporter": "python",
   "pygments_lexer": "ipython3",
   "version": "3.10.2"
  }
 },
 "nbformat": 4,
 "nbformat_minor": 2
}
