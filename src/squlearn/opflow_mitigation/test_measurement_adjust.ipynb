{
 "cells": [
  {
   "cell_type": "code",
   "execution_count": 1,
   "metadata": {},
   "outputs": [
    {
     "data": {
      "text/plain": [
       "<qiskit.circuit.instructionset.InstructionSet at 0x17495008c70>"
      ]
     },
     "execution_count": 1,
     "metadata": {},
     "output_type": "execute_result"
    }
   ],
   "source": [
    "from qiskit.circuit.random import random_circuit\n",
    "from qiskit.quantum_info import SparsePauliOp\n",
    "from qiskit import QuantumCircuit\n",
    "\n",
    "from qiskit.primitives import BackendEstimator,Estimator,Sampler\n",
    "from qiskit import Aer\n",
    "\n",
    "from squlearn.util.optree import *\n",
    "from squlearn.util.optree.optree import *\n",
    "from squlearn.util.optree.optree_derivative import *\n",
    "from squlearn.util.optree.optree_evaluate import *\n",
    "\n",
    "#circuit = random_circuit(4, 2, seed=12)\n",
    "#circuit.draw()\n",
    "\n",
    "pqc_param = ParameterVector('θ', 4)\n",
    "\n",
    "circuit = QuantumCircuit(4)\n",
    "circuit.h([0,1,2,3])\n",
    "circuit.u(0.5,0.5,0.5,[0,1,2,3])\n",
    "circuit.cx(0,1)\n",
    "circuit.cx(2,3)\n",
    "circuit.cx(1,2)\n",
    "\n",
    "circuit2 = circuit.copy()\n",
    "\n",
    "circuit.ry(pqc_param[0],0)\n",
    "circuit.ry(pqc_param[1],1)\n",
    "circuit.ry(pqc_param[2],2)\n",
    "circuit.ry(pqc_param[3],3)\n",
    "circuit.draw()\n",
    "\n",
    "circuit2.rx(pqc_param[0],0)\n",
    "circuit2.rx(pqc_param[1],1)\n",
    "circuit2.rx(pqc_param[2],2)\n",
    "circuit2.rx(pqc_param[3],3)\n",
    "\n"
   ]
  },
  {
   "cell_type": "code",
   "execution_count": 2,
   "metadata": {},
   "outputs": [],
   "source": [
    "param1 = {pqc_param[0]:0.5,pqc_param[1]:0.5,pqc_param[2]:0.5,pqc_param[3]:0.5}\n",
    "param2 = {pqc_param[0]:0.15,pqc_param[1]:0.15,pqc_param[2]:0.85,pqc_param[3]:0.95}\n"
   ]
  },
  {
   "cell_type": "code",
   "execution_count": 3,
   "metadata": {},
   "outputs": [],
   "source": [
    "op_param = ParameterVector('p',3)\n",
    "op = SparsePauliOp([\"XXXX\",\"YYYY\",\"IIYY\"],[op_param[0],op_param[1],op_param[2]])\n",
    "op_dict1={op_param[0]:0.5,op_param[1]:0.5,op_param[2]:0.5}\n",
    "op_dict2={op_param[0]:0.25,op_param[1]:0.25,op_param[2]:0.25}"
   ]
  },
  {
   "cell_type": "code",
   "execution_count": 4,
   "metadata": {},
   "outputs": [],
   "source": [
    "op.num_qubits\n",
    "op_clean = SparsePauliOp([\"ZZZZ\",\"ZZZI\",\"IIZZ\"],[op_param[0],op_param[1],op_param[2]])\n",
    "op_clean_param=ParameterVector('p',3)\n",
    "op_clean_dict1={op_clean_param[0]:0.5,op_clean_param[1]:0.2,op_clean_param[2]:0.3}\n",
    "op_clean_dict2={op_clean_param[0]:0.12,op_clean_param[1]:0.8,op_clean_param[2]:-0.3}"
   ]
  },
  {
   "cell_type": "code",
   "execution_count": 5,
   "metadata": {},
   "outputs": [],
   "source": [
    "opdic1 = copy.copy(op_dict1)\n",
    "opdic1.update(op_clean_dict1)\n",
    "\n",
    "opdic2 = copy.copy(op_dict2)\n",
    "opdic2.update(op_clean_dict2)\n"
   ]
  },
  {
   "cell_type": "code",
   "execution_count": 6,
   "metadata": {},
   "outputs": [
    {
     "name": "stdout",
     "output_type": "stream",
     "text": [
      "(1.0*\n",
      "     ┌───┐┌─┐         \n",
      "q_0: ┤ H ├┤M├─────────\n",
      "     ├───┤└╥┘┌─┐      \n",
      "q_1: ┤ H ├─╫─┤M├──────\n",
      "     ├───┤ ║ └╥┘┌─┐   \n",
      "q_2: ┤ H ├─╫──╫─┤M├───\n",
      "     ├───┤ ║  ║ └╥┘┌─┐\n",
      "q_3: ┤ H ├─╫──╫──╫─┤M├\n",
      "     └───┘ ║  ║  ║ └╥┘\n",
      "c: 4/══════╩══╩══╩══╩═\n",
      "           0  1  2  3 \n",
      "\n",
      " with observable \n",
      "SparsePauliOp(['ZZZZ'],\n",
      "              coeffs=[ParameterExpression(1.0*p[0])])\n",
      " + 1.0*\n",
      "     ┌─────┐┌───┐┌─┐         \n",
      "q_0: ┤ Sdg ├┤ H ├┤M├─────────\n",
      "     ├─────┤├───┤└╥┘┌─┐      \n",
      "q_1: ┤ Sdg ├┤ H ├─╫─┤M├──────\n",
      "     ├─────┤├───┤ ║ └╥┘┌─┐   \n",
      "q_2: ┤ Sdg ├┤ H ├─╫──╫─┤M├───\n",
      "     ├─────┤├───┤ ║  ║ └╥┘┌─┐\n",
      "q_3: ┤ Sdg ├┤ H ├─╫──╫──╫─┤M├\n",
      "     └─────┘└───┘ ║  ║  ║ └╥┘\n",
      "c: 4/═════════════╩══╩══╩══╩═\n",
      "                  0  1  2  3 \n",
      "\n",
      " with observable \n",
      "SparsePauliOp(['ZZZZ', 'IIZZ'],\n",
      "              coeffs=[ParameterExpression(1.0*p[1]), ParameterExpression(1.0*p[2])])\n",
      ")\n"
     ]
    }
   ],
   "source": [
    "test = transform_operator_to_zbasis(op)\n",
    "print(test)"
   ]
  },
  {
   "cell_type": "code",
   "execution_count": 7,
   "metadata": {},
   "outputs": [
    {
     "name": "stdout",
     "output_type": "stream",
     "text": [
      "(1.0*\n",
      "     ┌───┐┌────────────────┐     ┌──────────┐   ┌───┐    ┌─┐           \n",
      "q_0: ┤ H ├┤ U(0.5,0.5,0.5) ├──■──┤ Ry(θ[0]) ├───┤ H ├────┤M├───────────\n",
      "     ├───┤├────────────────┤┌─┴─┐└──────────┘┌──┴───┴───┐└╥┘┌───┐┌─┐   \n",
      "q_1: ┤ H ├┤ U(0.5,0.5,0.5) ├┤ X ├─────■──────┤ Ry(θ[1]) ├─╫─┤ H ├┤M├───\n",
      "     ├───┤├────────────────┤└───┘   ┌─┴─┐    ├──────────┤ ║ ├───┤└╥┘┌─┐\n",
      "q_2: ┤ H ├┤ U(0.5,0.5,0.5) ├──■─────┤ X ├────┤ Ry(θ[2]) ├─╫─┤ H ├─╫─┤M├\n",
      "     ├───┤├────────────────┤┌─┴─┐┌──┴───┴───┐└──┬───┬───┘ ║ └┬─┬┘ ║ └╥┘\n",
      "q_3: ┤ H ├┤ U(0.5,0.5,0.5) ├┤ X ├┤ Ry(θ[3]) ├───┤ H ├─────╫──┤M├──╫──╫─\n",
      "     └───┘└────────────────┘└───┘└──────────┘   └───┘     ║  └╥┘  ║  ║ \n",
      "c: 4/═════════════════════════════════════════════════════╩═══╩═══╩══╩═\n",
      "                                                          0   3   1  2 \n",
      "\n",
      " with observable \n",
      "SparsePauliOp(['ZZZZ'],\n",
      "              coeffs=[ParameterExpression(1.0*p[0])])\n",
      " + 1.0*\n",
      "     ┌───┐┌────────────────┐     ┌──────────┐  ┌─────┐    ┌───┐ ┌─┐           \n",
      "q_0: ┤ H ├┤ U(0.5,0.5,0.5) ├──■──┤ Ry(θ[0]) ├──┤ Sdg ├────┤ H ├─┤M├───────────\n",
      "     ├───┤├────────────────┤┌─┴─┐└──────────┘┌─┴─────┴──┐┌┴───┴┐└╥┘┌───┐┌─┐   \n",
      "q_1: ┤ H ├┤ U(0.5,0.5,0.5) ├┤ X ├─────■──────┤ Ry(θ[1]) ├┤ Sdg ├─╫─┤ H ├┤M├───\n",
      "     ├───┤├────────────────┤└───┘   ┌─┴─┐    ├──────────┤├─────┤ ║ ├───┤└╥┘┌─┐\n",
      "q_2: ┤ H ├┤ U(0.5,0.5,0.5) ├──■─────┤ X ├────┤ Ry(θ[2]) ├┤ Sdg ├─╫─┤ H ├─╫─┤M├\n",
      "     ├───┤├────────────────┤┌─┴─┐┌──┴───┴───┐└─┬─────┬──┘└┬───┬┘ ║ └┬─┬┘ ║ └╥┘\n",
      "q_3: ┤ H ├┤ U(0.5,0.5,0.5) ├┤ X ├┤ Ry(θ[3]) ├──┤ Sdg ├────┤ H ├──╫──┤M├──╫──╫─\n",
      "     └───┘└────────────────┘└───┘└──────────┘  └─────┘    └───┘  ║  └╥┘  ║  ║ \n",
      "c: 4/════════════════════════════════════════════════════════════╩═══╩═══╩══╩═\n",
      "                                                                 0   3   1  2 \n",
      "\n",
      " with observable \n",
      "SparsePauliOp(['ZZZZ', 'IIZZ'],\n",
      "              coeffs=[ParameterExpression(1.0*p[1]), ParameterExpression(1.0*p[2])])\n",
      ")\n"
     ]
    }
   ],
   "source": [
    "print(gen_expectation_tree(circuit,test))"
   ]
  },
  {
   "cell_type": "markdown",
   "metadata": {},
   "source": []
  },
  {
   "cell_type": "code",
   "execution_count": 8,
   "metadata": {},
   "outputs": [
    {
     "name": "stdout",
     "output_type": "stream",
     "text": [
      "\n",
      "     ┌───┐┌────────────────┐     ┌──────────┐            \n",
      "q_0: ┤ H ├┤ U(0.5,0.5,0.5) ├──■──┤ Ry(θ[0]) ├────────────\n",
      "     ├───┤├────────────────┤┌─┴─┐└──────────┘┌──────────┐\n",
      "q_1: ┤ H ├┤ U(0.5,0.5,0.5) ├┤ X ├─────■──────┤ Ry(θ[1]) ├\n",
      "     ├───┤├────────────────┤└───┘   ┌─┴─┐    ├──────────┤\n",
      "q_2: ┤ H ├┤ U(0.5,0.5,0.5) ├──■─────┤ X ├────┤ Ry(θ[2]) ├\n",
      "     ├───┤├────────────────┤┌─┴─┐┌──┴───┴───┐└──────────┘\n",
      "q_3: ┤ H ├┤ U(0.5,0.5,0.5) ├┤ X ├┤ Ry(θ[3]) ├────────────\n",
      "     └───┘└────────────────┘└───┘└──────────┘            \n",
      "\n",
      " with observable \n",
      "SparsePauliOp(['XXXX', 'YYYY', 'IIYY'],\n",
      "              coeffs=[ParameterExpression(1.0*p[0]), ParameterExpression(1.0*p[1]),\n",
      " ParameterExpression(1.0*p[2])])\n",
      "\n"
     ]
    }
   ],
   "source": [
    "tree = OpTreeLeafExpectationValue(circuit,op)\n",
    "print(tree)"
   ]
  },
  {
   "cell_type": "code",
   "execution_count": 9,
   "metadata": {},
   "outputs": [
    {
     "name": "stdout",
     "output_type": "stream",
     "text": [
      "(1.0*\n",
      "     ┌───┐┌────────────────┐     ┌──────────┐   ┌───┐    ┌─┐           \n",
      "q_0: ┤ H ├┤ U(0.5,0.5,0.5) ├──■──┤ Ry(θ[0]) ├───┤ H ├────┤M├───────────\n",
      "     ├───┤├────────────────┤┌─┴─┐└──────────┘┌──┴───┴───┐└╥┘┌───┐┌─┐   \n",
      "q_1: ┤ H ├┤ U(0.5,0.5,0.5) ├┤ X ├─────■──────┤ Ry(θ[1]) ├─╫─┤ H ├┤M├───\n",
      "     ├───┤├────────────────┤└───┘   ┌─┴─┐    ├──────────┤ ║ ├───┤└╥┘┌─┐\n",
      "q_2: ┤ H ├┤ U(0.5,0.5,0.5) ├──■─────┤ X ├────┤ Ry(θ[2]) ├─╫─┤ H ├─╫─┤M├\n",
      "     ├───┤├────────────────┤┌─┴─┐┌──┴───┴───┐└──┬───┬───┘ ║ └┬─┬┘ ║ └╥┘\n",
      "q_3: ┤ H ├┤ U(0.5,0.5,0.5) ├┤ X ├┤ Ry(θ[3]) ├───┤ H ├─────╫──┤M├──╫──╫─\n",
      "     └───┘└────────────────┘└───┘└──────────┘   └───┘     ║  └╥┘  ║  ║ \n",
      "c: 4/═════════════════════════════════════════════════════╩═══╩═══╩══╩═\n",
      "                                                          0   3   1  2 \n",
      "\n",
      " with observable \n",
      "SparsePauliOp(['ZZZZ'],\n",
      "              coeffs=[ParameterExpression(1.0*p[0])])\n",
      " + 1.0*\n",
      "     ┌───┐┌────────────────┐     ┌──────────┐  ┌─────┐    ┌───┐ ┌─┐           \n",
      "q_0: ┤ H ├┤ U(0.5,0.5,0.5) ├──■──┤ Ry(θ[0]) ├──┤ Sdg ├────┤ H ├─┤M├───────────\n",
      "     ├───┤├────────────────┤┌─┴─┐└──────────┘┌─┴─────┴──┐┌┴───┴┐└╥┘┌───┐┌─┐   \n",
      "q_1: ┤ H ├┤ U(0.5,0.5,0.5) ├┤ X ├─────■──────┤ Ry(θ[1]) ├┤ Sdg ├─╫─┤ H ├┤M├───\n",
      "     ├───┤├────────────────┤└───┘   ┌─┴─┐    ├──────────┤├─────┤ ║ ├───┤└╥┘┌─┐\n",
      "q_2: ┤ H ├┤ U(0.5,0.5,0.5) ├──■─────┤ X ├────┤ Ry(θ[2]) ├┤ Sdg ├─╫─┤ H ├─╫─┤M├\n",
      "     ├───┤├────────────────┤┌─┴─┐┌──┴───┴───┐└─┬─────┬──┘└┬───┬┘ ║ └┬─┬┘ ║ └╥┘\n",
      "q_3: ┤ H ├┤ U(0.5,0.5,0.5) ├┤ X ├┤ Ry(θ[3]) ├──┤ Sdg ├────┤ H ├──╫──┤M├──╫──╫─\n",
      "     └───┘└────────────────┘└───┘└──────────┘  └─────┘    └───┘  ║  └╥┘  ║  ║ \n",
      "c: 4/════════════════════════════════════════════════════════════╩═══╩═══╩══╩═\n",
      "                                                                 0   3   1  2 \n",
      "\n",
      " with observable \n",
      "SparsePauliOp(['ZZZZ', 'IIZZ'],\n",
      "              coeffs=[ParameterExpression(1.0*p[1]), ParameterExpression(1.0*p[2])])\n",
      ")\n"
     ]
    }
   ],
   "source": [
    "adjust_tree = transform_tree_to_zbasis(tree,abelian_grouping=False)\n",
    "print(adjust_tree)"
   ]
  },
  {
   "cell_type": "code",
   "execution_count": 10,
   "metadata": {},
   "outputs": [
    {
     "name": "stdout",
     "output_type": "stream",
     "text": [
      "pre-processing 0.0029993057250976562\n",
      "run time 0.0319974422454834\n",
      "post processing 0.0010192394256591797\n"
     ]
    },
    {
     "data": {
      "text/plain": [
       "array([[[[-0.06118615, -0.26725525, -0.06118615],\n",
       "         [ 0.0742432 , -0.25791181,  0.0742432 ]],\n",
       "\n",
       "        [[-0.03059308, -0.13362763, -0.03059308],\n",
       "         [ 0.0371216 , -0.1289559 ,  0.0371216 ]]],\n",
       "\n",
       "\n",
       "       [[[-0.22534089, -0.17570876, -0.22534089],\n",
       "         [-0.00219049, -0.06085567, -0.00219049]],\n",
       "\n",
       "        [[-0.11267045, -0.08785438, -0.11267045],\n",
       "         [-0.00109525, -0.03042783, -0.00109525]]]])"
      ]
     },
     "execution_count": 10,
     "metadata": {},
     "output_type": "execute_result"
    }
   ],
   "source": [
    "evaluate_estimator(OpTreeNodeList([circuit,circuit2]),OpTreeNodeList([op,op_clean,op_clean]),[param1,param2],[opdic1,opdic2],Estimator(),dictionaries_combined=False)"
   ]
  },
  {
   "cell_type": "markdown",
   "metadata": {},
   "source": []
  },
  {
   "cell_type": "code",
   "execution_count": 11,
   "metadata": {},
   "outputs": [
    {
     "name": "stdout",
     "output_type": "stream",
     "text": [
      "measurement_list [None, <qiskit.circuit.quantumcircuit.QuantumCircuit object at 0x000001741A060DF0>, <qiskit.circuit.quantumcircuit.QuantumCircuit object at 0x0000017419E40760>]\n",
      "operator_list [0, 1, 2, 0]\n",
      "resort_list [[0, 3], [1], [2]]\n",
      "circuit_tree [1.0*0, 1.0*1]\n",
      "post processing 0.003000497817993164\n",
      "len(total_circuit_list) 6\n",
      "sampler run time 0.0989999771118164\n",
      "resort_list [[[0, 3], [1], [2]], [[0, 3], [1], [2]]]\n",
      "offset 0\n",
      "post processing 0.001999378204345703\n"
     ]
    },
    {
     "data": {
      "text/plain": [
       "array([[-0.06118615, -0.26725525, -0.06118615],\n",
       "       [ 0.0742432 , -0.25791181,  0.0742432 ]])"
      ]
     },
     "execution_count": 11,
     "metadata": {},
     "output_type": "execute_result"
    }
   ],
   "source": [
    "evaluate_sampler_v2(OpTreeNodeList([circuit,circuit2]),OpTreeNodeList([test,op_clean,op_clean]),param1,opdic1,Sampler(),dictionaries_combined=False)"
   ]
  },
  {
   "cell_type": "code",
   "execution_count": 12,
   "metadata": {},
   "outputs": [
    {
     "name": "stdout",
     "output_type": "stream",
     "text": [
      "measurement_list [None, <qiskit.circuit.quantumcircuit.QuantumCircuit object at 0x000001741A060DF0>, <qiskit.circuit.quantumcircuit.QuantumCircuit object at 0x0000017419E40760>]\n",
      "operator_list [0, 1, 2, 0]\n",
      "resort_list [[0, 3], [1], [2]]\n",
      "circuit_tree [1.0*0, 1.0*1]\n",
      "post processing 0.0030012130737304688\n",
      "len(total_circuit_list) 6\n",
      "sampler run time 0.02900099754333496\n",
      "resort_list [[[0, 3], [1], [2]], [[0, 3], [1], [2]]]\n",
      "offset 0\n",
      "post processing 0.0029993057250976562\n"
     ]
    },
    {
     "data": {
      "text/plain": [
       "array([[-0.11267045, -0.08785438, -0.11267045],\n",
       "       [-0.00109525, -0.03042783, -0.00109525]])"
      ]
     },
     "execution_count": 12,
     "metadata": {},
     "output_type": "execute_result"
    }
   ],
   "source": [
    "evaluate_sampler_v2(OpTreeNodeList([circuit,circuit2]),OpTreeNodeList([test,op_clean,op_clean]),param2,opdic2,Sampler(),dictionaries_combined=False)"
   ]
  },
  {
   "cell_type": "code",
   "execution_count": 13,
   "metadata": {},
   "outputs": [
    {
     "name": "stdout",
     "output_type": "stream",
     "text": [
      "measurement_list [None, <qiskit.circuit.quantumcircuit.QuantumCircuit object at 0x000001741A060DF0>, <qiskit.circuit.quantumcircuit.QuantumCircuit object at 0x0000017419E40760>]\n",
      "operator_list [0, 1, 2, 0]\n",
      "resort_list [[0, 3], [1], [2]]\n",
      "circuit_tree [1.0*0, 1.0*1]\n",
      "circuit_tree [1.0*0, 1.0*1]\n",
      "post processing 0.004025459289550781\n",
      "len(total_circuit_list) 12\n",
      "sampler run time 0.030001401901245117\n",
      "resort_list [[[0, 3], [1], [2]], [[0, 3], [1], [2]], [[0, 3], [1], [2]], [[0, 3], [1], [2]]]\n",
      "offset 0\n",
      "resort_list [[[0, 3], [1], [2]], [[0, 3], [1], [2]], [[0, 3], [1], [2]], [[0, 3], [1], [2]]]\n",
      "offset 0\n",
      "post processing 0.004998683929443359\n"
     ]
    },
    {
     "data": {
      "text/plain": [
       "array([[[[-0.06118615, -0.26725525, -0.06118615],\n",
       "         [ 0.0742432 , -0.25791181,  0.0742432 ]],\n",
       "\n",
       "        [[-0.03059308, -0.13362763, -0.03059308],\n",
       "         [ 0.0371216 , -0.1289559 ,  0.0371216 ]]],\n",
       "\n",
       "\n",
       "       [[[-0.22534089, -0.17570876, -0.22534089],\n",
       "         [-0.00219049, -0.06085567, -0.00219049]],\n",
       "\n",
       "        [[-0.11267045, -0.08785438, -0.11267045],\n",
       "         [-0.00109525, -0.03042783, -0.00109525]]]])"
      ]
     },
     "execution_count": 13,
     "metadata": {},
     "output_type": "execute_result"
    }
   ],
   "source": [
    "evaluate_sampler_v2(OpTreeNodeList([circuit,circuit2]),OpTreeNodeList([test,op_clean,op_clean]),[param1,param2],[opdic1,opdic2],Sampler(),dictionaries_combined=False)"
   ]
  },
  {
   "cell_type": "code",
   "execution_count": 14,
   "metadata": {},
   "outputs": [
    {
     "name": "stdout",
     "output_type": "stream",
     "text": [
      "measurement_list [None, <qiskit.circuit.quantumcircuit.QuantumCircuit object at 0x000001741A060DF0>, <qiskit.circuit.quantumcircuit.QuantumCircuit object at 0x0000017419E40760>]\n",
      "operator_list [0, 1, 2, 0]\n",
      "resort_list [[0, 3], [1], [2]]\n",
      "circuit_tree [1.0*0, 1.0*1]\n",
      "circuit_tree [1.0*0, 1.0*1]\n",
      "post processing 0.003999471664428711\n",
      "len(total_circuit_list) 12\n",
      "sampler run time 0.027001380920410156\n",
      "resort_list [[[0, 3], [1], [2]], [[0, 3], [1], [2]]]\n",
      "offset 0\n",
      "resort_list [[[0, 3], [1], [2]], [[0, 3], [1], [2]]]\n",
      "offset 6\n",
      "post processing 0.004000186920166016\n"
     ]
    },
    {
     "data": {
      "text/plain": [
       "array([[[-0.06118615, -0.26725525, -0.06118615],\n",
       "        [ 0.0742432 , -0.25791181,  0.0742432 ]],\n",
       "\n",
       "       [[-0.11267045, -0.08785438, -0.11267045],\n",
       "        [-0.00109525, -0.03042783, -0.00109525]]])"
      ]
     },
     "execution_count": 14,
     "metadata": {},
     "output_type": "execute_result"
    }
   ],
   "source": [
    "evaluate_sampler_v2(OpTreeNodeList([circuit,circuit2]),OpTreeNodeList([test,op_clean,op_clean]),[param1,param2],[opdic1,opdic2],Sampler(),dictionaries_combined=True)"
   ]
  },
  {
   "cell_type": "code",
   "execution_count": 15,
   "metadata": {},
   "outputs": [],
   "source": [
    "#evaluate_expectation_tree_from_sampler(tree,{},Sampler())"
   ]
  },
  {
   "cell_type": "code",
   "execution_count": 16,
   "metadata": {},
   "outputs": [
    {
     "ename": "KeyError",
     "evalue": "ParameterVectorElement(θ[0])",
     "output_type": "error",
     "traceback": [
      "\u001b[1;31m---------------------------------------------------------------------------\u001b[0m",
      "\u001b[1;31mKeyError\u001b[0m                                  Traceback (most recent call last)",
      "\u001b[1;32mc:\\Users\\DKR\\Documents\\Git Repositories\\squlearn_fork\\squlearn\\src\\squlearn\\opflow_mitigation\\test_measurement_adjust.ipynb Cell 18\u001b[0m in \u001b[0;36m<cell line: 1>\u001b[1;34m()\u001b[0m\n\u001b[1;32m----> <a href='vscode-notebook-cell:/c%3A/Users/DKR/Documents/Git%20Repositories/squlearn_fork/squlearn/src/squlearn/opflow_mitigation/test_measurement_adjust.ipynb#X23sZmlsZQ%3D%3D?line=0'>1</a>\u001b[0m evaluate_expectation_tree_from_sampler(adjust_tree,{},Sampler())\n",
      "File \u001b[1;32m~\\Documents\\Git Repositories\\squlearn_fork\\squlearn\\src\\squlearn\\util\\optree\\optree_evaluate.py:1111\u001b[0m, in \u001b[0;36mevaluate_expectation_tree_from_sampler\u001b[1;34m(expectation_tree, dictionary, sampler, detect_expectation_duplicates)\u001b[0m\n\u001b[0;32m   1103\u001b[0m \u001b[39mfor\u001b[39;00m dict_ \u001b[39min\u001b[39;00m dictionary:\n\u001b[0;32m   1104\u001b[0m     start \u001b[39m=\u001b[39m time\u001b[39m.\u001b[39mtime()\n\u001b[0;32m   1105\u001b[0m     (\n\u001b[0;32m   1106\u001b[0m         circuit_list,\n\u001b[0;32m   1107\u001b[0m         operator_list,\n\u001b[0;32m   1108\u001b[0m         parameter_list,\n\u001b[0;32m   1109\u001b[0m         circuit_eval_list,\n\u001b[0;32m   1110\u001b[0m         index_tree,\n\u001b[1;32m-> 1111\u001b[0m     ) \u001b[39m=\u001b[39m _build_expectation_list(expectation_tree, dict_, detect_expectation_duplicates\u001b[39m=\u001b[39;49mdetect_expectation_duplicates, group_circuits\u001b[39m=\u001b[39;49mdetect_expectation_duplicates)\n\u001b[0;32m   1112\u001b[0m     total_tree_list\u001b[39m.\u001b[39mappend(_add_offset_to_tree(index_tree, \u001b[39mlen\u001b[39m(total_circuit_eval_list)))\n\u001b[0;32m   1113\u001b[0m     offset \u001b[39m=\u001b[39m \u001b[39mlen\u001b[39m(total_circuit_list)\n",
      "File \u001b[1;32m~\\Documents\\Git Repositories\\squlearn_fork\\squlearn\\src\\squlearn\\util\\optree\\optree_evaluate.py:480\u001b[0m, in \u001b[0;36m_build_expectation_list\u001b[1;34m(element, dictionary, detect_expectation_duplicates, group_circuits)\u001b[0m\n\u001b[0;32m    477\u001b[0m         expectation_counter \u001b[39m+\u001b[39m\u001b[39m=\u001b[39m \u001b[39m1\u001b[39m\n\u001b[0;32m    478\u001b[0m         \u001b[39mreturn\u001b[39;00m OpTreeLeafContainer(expectation_counter \u001b[39m-\u001b[39m \u001b[39m1\u001b[39m)\n\u001b[1;32m--> 480\u001b[0m index_tree \u001b[39m=\u001b[39m build_lists_and_index_tree(element)\n\u001b[0;32m    482\u001b[0m \u001b[39mreturn\u001b[39;00m circuit_list, operator_list, parameter_list, circuit_eval_list, index_tree\n",
      "File \u001b[1;32m~\\Documents\\Git Repositories\\squlearn_fork\\squlearn\\src\\squlearn\\util\\optree\\optree_evaluate.py:417\u001b[0m, in \u001b[0;36m_build_expectation_list.<locals>.build_lists_and_index_tree\u001b[1;34m(element)\u001b[0m\n\u001b[0;32m    413\u001b[0m \u001b[39mnonlocal\u001b[39;00m circuit_eval_counter\n\u001b[0;32m    415\u001b[0m \u001b[39mif\u001b[39;00m \u001b[39misinstance\u001b[39m(element, OpTreeNodeBase):\n\u001b[0;32m    416\u001b[0m     \u001b[39m# Index circuits and bind parameters in the OpTreeNode structure\u001b[39;00m\n\u001b[1;32m--> 417\u001b[0m     child_list_indexed \u001b[39m=\u001b[39m [build_lists_and_index_tree(c) \u001b[39mfor\u001b[39;00m c \u001b[39min\u001b[39;00m element\u001b[39m.\u001b[39mchildren]\n\u001b[0;32m    418\u001b[0m     factor_list_bound \u001b[39m=\u001b[39m []\n\u001b[0;32m    419\u001b[0m     \u001b[39mfor\u001b[39;00m fac \u001b[39min\u001b[39;00m element\u001b[39m.\u001b[39mfactor:\n",
      "File \u001b[1;32m~\\Documents\\Git Repositories\\squlearn_fork\\squlearn\\src\\squlearn\\util\\optree\\optree_evaluate.py:417\u001b[0m, in \u001b[0;36m<listcomp>\u001b[1;34m(.0)\u001b[0m\n\u001b[0;32m    413\u001b[0m \u001b[39mnonlocal\u001b[39;00m circuit_eval_counter\n\u001b[0;32m    415\u001b[0m \u001b[39mif\u001b[39;00m \u001b[39misinstance\u001b[39m(element, OpTreeNodeBase):\n\u001b[0;32m    416\u001b[0m     \u001b[39m# Index circuits and bind parameters in the OpTreeNode structure\u001b[39;00m\n\u001b[1;32m--> 417\u001b[0m     child_list_indexed \u001b[39m=\u001b[39m [build_lists_and_index_tree(c) \u001b[39mfor\u001b[39;00m c \u001b[39min\u001b[39;00m element\u001b[39m.\u001b[39mchildren]\n\u001b[0;32m    418\u001b[0m     factor_list_bound \u001b[39m=\u001b[39m []\n\u001b[0;32m    419\u001b[0m     \u001b[39mfor\u001b[39;00m fac \u001b[39min\u001b[39;00m element\u001b[39m.\u001b[39mfactor:\n",
      "File \u001b[1;32m~\\Documents\\Git Repositories\\squlearn_fork\\squlearn\\src\\squlearn\\util\\optree\\optree_evaluate.py:465\u001b[0m, in \u001b[0;36m_build_expectation_list.<locals>.build_lists_and_index_tree\u001b[1;34m(element)\u001b[0m\n\u001b[0;32m    463\u001b[0m \u001b[39mif\u001b[39;00m group_circuits:\n\u001b[0;32m    464\u001b[0m     circuit_dict[hashvalue_circuit] \u001b[39m=\u001b[39m circuit_eval_counter\n\u001b[1;32m--> 465\u001b[0m parameter_list\u001b[39m.\u001b[39mappend(np\u001b[39m.\u001b[39marray([dictionary[p] \u001b[39mfor\u001b[39;00m p \u001b[39min\u001b[39;00m circuit\u001b[39m.\u001b[39mparameters]))\n\u001b[0;32m    466\u001b[0m circuit_list\u001b[39m.\u001b[39mappend(circuit)\n\u001b[0;32m    467\u001b[0m circuit_eval_counter \u001b[39m+\u001b[39m\u001b[39m=\u001b[39m \u001b[39m1\u001b[39m\n",
      "File \u001b[1;32m~\\Documents\\Git Repositories\\squlearn_fork\\squlearn\\src\\squlearn\\util\\optree\\optree_evaluate.py:465\u001b[0m, in \u001b[0;36m<listcomp>\u001b[1;34m(.0)\u001b[0m\n\u001b[0;32m    463\u001b[0m \u001b[39mif\u001b[39;00m group_circuits:\n\u001b[0;32m    464\u001b[0m     circuit_dict[hashvalue_circuit] \u001b[39m=\u001b[39m circuit_eval_counter\n\u001b[1;32m--> 465\u001b[0m parameter_list\u001b[39m.\u001b[39mappend(np\u001b[39m.\u001b[39marray([dictionary[p] \u001b[39mfor\u001b[39;00m p \u001b[39min\u001b[39;00m circuit\u001b[39m.\u001b[39mparameters]))\n\u001b[0;32m    466\u001b[0m circuit_list\u001b[39m.\u001b[39mappend(circuit)\n\u001b[0;32m    467\u001b[0m circuit_eval_counter \u001b[39m+\u001b[39m\u001b[39m=\u001b[39m \u001b[39m1\u001b[39m\n",
      "\u001b[1;31mKeyError\u001b[0m: ParameterVectorElement(θ[0])"
     ]
    }
   ],
   "source": [
    "evaluate_expectation_tree_from_sampler(adjust_tree,{},Sampler())"
   ]
  },
  {
   "cell_type": "markdown",
   "metadata": {},
   "source": []
  },
  {
   "cell_type": "code",
   "execution_count": null,
   "metadata": {},
   "outputs": [],
   "source": [
    "job = Estimator().run(circuit,op)\n",
    "job.result().values"
   ]
  },
  {
   "cell_type": "code",
   "execution_count": null,
   "metadata": {},
   "outputs": [],
   "source": [
    "evaluate_expectation_tree_from_estimator(tree,{},Estimator())"
   ]
  },
  {
   "cell_type": "code",
   "execution_count": null,
   "metadata": {},
   "outputs": [],
   "source": [
    "# Create a backend estimator\n",
    "backend = Aer.get_backend('statevector_simulator')\n",
    "estimator = BackendEstimator(backend=backend,options={'shots':1000000})\n",
    "\n",
    "job = estimator.run(circuit,op)"
   ]
  },
  {
   "cell_type": "code",
   "execution_count": null,
   "metadata": {},
   "outputs": [],
   "source": [
    "job.result().values"
   ]
  }
 ],
 "metadata": {
  "kernelspec": {
   "display_name": "Python 3",
   "language": "python",
   "name": "python3"
  },
  "language_info": {
   "codemirror_mode": {
    "name": "ipython",
    "version": 3
   },
   "file_extension": ".py",
   "mimetype": "text/x-python",
   "name": "python",
   "nbconvert_exporter": "python",
   "pygments_lexer": "ipython3",
   "version": "3.10.2"
  },
  "orig_nbformat": 4
 },
 "nbformat": 4,
 "nbformat_minor": 2
}
