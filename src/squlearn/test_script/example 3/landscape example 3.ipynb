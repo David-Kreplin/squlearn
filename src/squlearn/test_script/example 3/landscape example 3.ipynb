{
 "cells": [
  {
   "cell_type": "code",
   "execution_count": 19,
   "metadata": {
    "ExecuteTime": {
     "end_time": "2023-11-28T12:37:04.774544Z",
     "start_time": "2023-11-28T12:37:03.961423600Z"
    }
   },
   "outputs": [],
   "source": [
    "import numpy as np\n",
    "import matplotlib.pyplot as plt\n",
    "\n",
    "from qiskit import QuantumCircuit\n",
    "from qiskit.circuit import ParameterVector\n",
    "\n",
    "from qiskit_ibm_runtime import QiskitRuntimeService, Session, Options, Estimator, Sampler\n",
    "from qiskit_aer.noise import NoiseModel\n",
    "\n",
    "from squlearn import Executor\n",
    "from squlearn.encoding_circuit import QiskitEncodingCircuit\n",
    "from squlearn.observables import SinglePauli\n",
    "from squlearn.qnn import QNNRegressor, SquaredLoss\n",
    "from squlearn.optimizers import Adam, SLSQP, SGLBO\n",
    "\n",
    "import matplotlib.pyplot as plt\n",
    "import matplotlib as mpl\n",
    "\n",
    "from squlearn.optimizers.approximated_gradients import FiniteDiffGradient"
   ]
  },
  {
   "cell_type": "code",
   "execution_count": null,
   "metadata": {
    "ExecuteTime": {
     "end_time": "2023-11-28T12:37:10.530365700Z",
     "start_time": "2023-11-28T12:37:04.711398Z"
    }
   },
   "outputs": [],
   "source": [
    "nqubits = 4\n",
    "\n",
    "qc = QuantumCircuit(4)\n",
    "p = ParameterVector('p', 8)\n",
    "x = ParameterVector('x', 1)\n",
    "\n",
    "p2 = np.array([-0.13005136, -1.34331017,  2.44392299, 1.64405423, -0.36315523, 0.45344925,\n",
    "  0.18577077, -0.13904446])\n",
    "\n",
    "qc.rx(1*np.arccos(x[0]), 0)\n",
    "qc.rx(2*np.arccos(x[0]), 1)\n",
    "qc.rx(3*np.arccos(x[0]), 2)\n",
    "qc.rx(4*np.arccos(x[0]), 3)\n",
    "\n",
    "qc.ry(p[0], 0)\n",
    "qc.ry(p2[1], 1)\n",
    "qc.ry(p2[2], 2)\n",
    "qc.ry(p2[3], 3)\n",
    "\n",
    "qc.cx(0, 1)\n",
    "qc.cx(2, 3)\n",
    "qc.cx(1, 2)\n",
    "qc.cx(3, 0)\n",
    "\n",
    "qc.rx(1*np.arccos(x[0]), 0)\n",
    "qc.rx(2*np.arccos(x[0]), 1)\n",
    "qc.rx(3*np.arccos(x[0]), 2)\n",
    "qc.rx(4*np.arccos(x[0]), 3)\n",
    "\n",
    "qc.ry(p2[4], 0)\n",
    "qc.ry(p2[5], 1)\n",
    "qc.ry(p2[6], 2)\n",
    "qc.ry(p2[7], 3)\n",
    "\n",
    "qc.cx(0, 1)\n",
    "qc.cx(2, 3)\n",
    "qc.cx(1, 2)\n",
    "qc.cx(3, 0)\n",
    "\n",
    "\n",
    "pqc = QiskitEncodingCircuit(qc)\n",
    "pqc.draw()"
   ]
  },
  {
   "cell_type": "code",
   "execution_count": null,
   "metadata": {
    "ExecuteTime": {
     "end_time": "2023-11-28T12:37:10.531364400Z",
     "start_time": "2023-11-28T12:37:06.301669900Z"
    }
   },
   "outputs": [],
   "source": [
    "op = SinglePauli(nqubits,qubit=0,parameterized=True)\n",
    "print(op)"
   ]
  },
  {
   "cell_type": "code",
   "execution_count": null,
   "metadata": {
    "ExecuteTime": {
     "end_time": "2023-11-28T12:37:10.532367Z",
     "start_time": "2023-11-28T12:37:06.589234100Z"
    }
   },
   "outputs": [],
   "source": [
    "op.num_parameters"
   ]
  },
  {
   "cell_type": "code",
   "execution_count": null,
   "metadata": {
    "ExecuteTime": {
     "end_time": "2023-11-28T12:37:16.991592500Z",
     "start_time": "2023-11-28T12:37:06.988865800Z"
    }
   },
   "outputs": [],
   "source": [
    "# Randomly initialize parameters of the encoding circuit\n",
    "np.random.seed(125) #13\n",
    "param_ini =  np.random.rand(pqc.num_parameters)\n",
    "# Initialize parameters of the observable as ones\n",
    "param_op_ini = np.ones(op.num_parameters)\n",
    "x0 = [[i * 0.2] for i in range(15)]\n",
    "optimizer_options = {\"bo_aqc_func\": \"EI\", \"bo_aqc_optimizer\": \"lbfgs\", \"bo_bounds\": [(0.0, 5.0)], \"log_file\": \"sglbo_noiseless.log\",\n",
    "                     \"bo_n_calls\": 30, \"bo_x0_points\": x0, \"maxiter\": 40}\n",
    "\n",
    "qnn_simulator = QNNRegressor(\n",
    "    pqc,\n",
    "    op,\n",
    "    Executor(\"statevector_simulator\"),\n",
    "    SquaredLoss(),\n",
    "    SGLBO(optimizer_options),\n",
    "    #SLSQP(),\n",
    "    #Adam({\"lr\": 0.2,\"log_file\": \"adam_noiseless.log\"}),\n",
    "    param_ini,\n",
    "    param_op_ini=param_op_ini,\n",
    "    opt_param_op=True, # Keine Observablen optimierung\n",
    "    parameter_seed=124\n",
    ")"
   ]
  },
  {
   "cell_type": "code",
   "execution_count": null,
   "metadata": {
    "ExecuteTime": {
     "end_time": "2023-11-28T12:37:17.032352500Z",
     "start_time": "2023-11-28T12:37:16.983602500Z"
    }
   },
   "outputs": [],
   "source": [
    "print(param_ini)\n",
    "print(param_op_ini)"
   ]
  },
  {
   "cell_type": "code",
   "execution_count": null,
   "metadata": {
    "ExecuteTime": {
     "end_time": "2023-11-28T12:37:17.223349Z",
     "start_time": "2023-11-28T12:37:17.048353100Z"
    }
   },
   "outputs": [],
   "source": [
    "# Data that is inputted to the QNN\n",
    "x_train = np.arange(-0.5, 0.6, 0.1)\n",
    "# Data that is fitted by the QNN\n",
    "y_train = np.sin(6.0*x_train)"
   ]
  },
  {
   "cell_type": "code",
   "execution_count": null,
   "metadata": {
    "ExecuteTime": {
     "end_time": "2023-11-28T12:37:17.266719800Z",
     "start_time": "2023-11-28T12:37:17.108374Z"
    }
   },
   "outputs": [],
   "source": [
    "def evaluate_loss(theta, qnn_regressor: QNNRegressor, X, y):\n",
    "    param = theta[: qnn_regressor._qnn.num_parameters]\n",
    "    param_op = theta[qnn_regressor._qnn.num_parameters :]\n",
    "\n",
    "    loss_values = qnn_regressor._qnn.evaluate(qnn_regressor.loss.loss_args_tuple, X, param, param_op)\n",
    "\n",
    "    loss_value = qnn_regressor.loss.value(\n",
    "        loss_values,\n",
    "        ground_truth=y,\n",
    "        weights=np.ones(len(y)),\n",
    "        iteration=0,\n",
    "    )\n",
    "\n",
    "    return loss_value\n",
    "\n",
    "\n"
   ]
  },
  {
   "cell_type": "code",
   "execution_count": null,
   "metadata": {
    "ExecuteTime": {
     "end_time": "2023-11-28T12:46:34.752388200Z",
     "start_time": "2023-11-28T12:37:17.185349200Z"
    }
   },
   "outputs": [],
   "source": [
    "qnn_simulator.fit(x_train, y_train)"
   ]
  },
  {
   "cell_type": "code",
   "execution_count": null,
   "metadata": {
    "ExecuteTime": {
     "end_time": "2023-11-28T12:46:34.777427500Z",
     "start_time": "2023-11-28T12:46:34.712667Z"
    }
   },
   "outputs": [],
   "source": [
    "qnn_simulator.param"
   ]
  },
  {
   "cell_type": "code",
   "execution_count": null,
   "metadata": {
    "ExecuteTime": {
     "end_time": "2023-11-28T12:46:34.779466300Z",
     "start_time": "2023-11-28T12:46:34.724664500Z"
    }
   },
   "outputs": [],
   "source": [
    "qnn_simulator.param_op"
   ]
  },
  {
   "cell_type": "code",
   "execution_count": null,
   "metadata": {
    "ExecuteTime": {
     "end_time": "2023-11-28T12:46:34.892080600Z",
     "start_time": "2023-11-28T12:46:34.773437Z"
    }
   },
   "outputs": [],
   "source": [
    "evaluate_loss([qnn_simulator.param,qnn_simulator.param_op], qnn_simulator, x_train, y_train)"
   ]
  },
  {
   "cell_type": "code",
   "execution_count": 22,
   "metadata": {},
   "outputs": [],
   "source": [
    "def eval_loss_func(theta):\n",
    "    return evaluate_loss(theta, qnn_simulator, x_train, y_train)"
   ]
  },
  {
   "cell_type": "code",
   "execution_count": 23,
   "metadata": {},
   "outputs": [
    {
     "name": "stdout",
     "output_type": "stream",
     "text": [
      "grad diff [ 0.19472352 -1.00139971]\n",
      "gradient_data [ 0.19480586 -1.00139971]\n"
     ]
    }
   ],
   "source": [
    "optimization_data = np.loadtxt(\"sglbo_noiseless_params2.log\")\n",
    "gradient_data = np.loadtxt(\"sglbo_noiseless_gradient2.log\")\n",
    "optimization_x = optimization_data[:, 0]\n",
    "optimization_y = optimization_data[:, 1]\n",
    "gradient_x = gradient_data[:, 0]\n",
    "gradient_y = gradient_data[:, 1]\n",
    "\n",
    "\n",
    "\n",
    "\n",
    "grad = FiniteDiffGradient(eval_loss_func, eps=0.05).gradient(optimization_data[0])\n",
    "print(\"grad diff\",grad)\n",
    "\n",
    "print(\"gradient_data\",gradient_data[0])"
   ]
  },
  {
   "cell_type": "code",
   "execution_count": null,
   "metadata": {
    "ExecuteTime": {
     "end_time": "2023-11-28T12:46:36.254366800Z",
     "start_time": "2023-11-28T12:46:34.828430100Z"
    }
   },
   "outputs": [],
   "source": [
    "x = np.arange(np.min(x_train), np.max(x_train) + 0.01, 0.01)\n",
    "y = qnn_simulator.predict(x)  # function for evaluating the prediction of the QNN\n",
    "plt.plot(x, np.sin(6.0*x), label=\"Parabola function\")\n",
    "plt.plot(x, y, label=\"QNN inference\")\n",
    "plt.plot(x_train, y_train, \"x\", label=\"training data\")\n",
    "plt.legend()\n",
    "plt.title(\"QNN inference of a parabola function\")\n",
    "plt.show()"
   ]
  },
  {
   "cell_type": "code",
   "execution_count": 31,
   "metadata": {
    "ExecuteTime": {
     "end_time": "2023-11-28T12:50:42.929485100Z",
     "start_time": "2023-11-28T12:46:36.276366400Z"
    }
   },
   "outputs": [
    {
     "data": {
      "image/png": "[encoded data removed]",
      "text/plain": [
       "<Figure size 432x288 with 1 Axes>"
      ]
     },
     "metadata": {
      "needs_background": "light"
     },
     "output_type": "display_data"
    }
   ],
   "source": [
    "# Lese die Optimierungskoordinaten aus der Datei \"params.log\"\n",
    "optimization_data = np.loadtxt(\"sglbo_noiseless_params2.log\")\n",
    "gradient_data = np.loadtxt(\"sglbo_noiseless_gradient2.log\")\n",
    "optimization_x = optimization_data[:, 0]\n",
    "optimization_y = optimization_data[:, 1]\n",
    "gradient_x = gradient_data[:, 0]\n",
    "gradient_y = gradient_data[:, 1]\n",
    "\n",
    "# plot the decision function for each datapoint on the grid\n",
    "xx, yy = np.meshgrid(np.linspace(-3, 3, 100), np.linspace(-1, 15, 100))\n",
    "Z = []\n",
    "for i in range(len(xx)):\n",
    "    for j in range(len(xx[i])):\n",
    "        param = np.array([xx[i][j], yy[i][j]])\n",
    "        Z.append(evaluate_loss(param, qnn_simulator, x_train, y_train))\n",
    "\n",
    "Z = np.array(Z)\n",
    "Z = Z.reshape(xx.shape)\n",
    "#norm = mpl.colors.Normalize(vmin=-max(abs(np.min(Z)),abs(np.max(Z))), vmax=max(abs(np.min(Z)),abs(np.max(Z))))\n",
    "im = plt.imshow(\n",
    "    Z,\n",
    "    interpolation=\"bilinear\",\n",
    "    extent=(xx.min(), xx.max(), yy.min(), yy.max()),\n",
    "    aspect=\"auto\",\n",
    "    origin=\"lower\",\n",
    "    cmap=plt.cm.PuOr_r,\n",
    "    #norm=norm\n",
    ")\n",
    "\n",
    "# Verbinde die Punkte im Scatter Plot mit einer Linie\n",
    "plt.plot(optimization_y[0:2],optimization_x[0:2],  '-x',c='red',  linewidth=2, label='Convergence Line')\n",
    "plt.plot([optimization_y[0],optimization_y[0]+gradient_y[0]],[optimization_x[0],optimization_x[0]+gradient_x[0]], '-x',c='blue',  linewidth=2, label='Gradient')\n",
    "\n",
    "plt.axis([-3, 3, -1, 15])\n",
    "\n",
    "# Plot backtransformed hyperplane\n",
    "contours = plt.contour(xx, yy, Z, levels=[eval_loss_func(optimization_data[0])], linewidths=2, linestyles=\"dashed\")\n",
    "\n",
    "# Plot training data\n",
    "\n",
    "plt.xlabel('X-Axis')\n",
    "plt.ylabel('Y-Axis')\n",
    "plt.title('Contour Plot with Optimization Path')\n",
    "plt.legend()\n",
    "plt.show()"
   ]
  }
 ],
 "metadata": {
  "interpreter": {
   "hash": "26de051ba29f2982a8de78e945f0abaf191376122a1563185a90213a26c5da77"
  },
  "kernelspec": {
   "display_name": "Python 3.10.2 64-bit",
   "language": "python",
   "name": "python3"
  },
  "language_info": {
   "codemirror_mode": {
    "name": "ipython",
    "version": 3
   },
   "file_extension": ".py",
   "mimetype": "text/x-python",
   "name": "python",
   "nbconvert_exporter": "python",
   "pygments_lexer": "ipython3",
   "version": "3.10.2"
  },
  "orig_nbformat": 4
 },
 "nbformat": 4,
 "nbformat_minor": 2
}
