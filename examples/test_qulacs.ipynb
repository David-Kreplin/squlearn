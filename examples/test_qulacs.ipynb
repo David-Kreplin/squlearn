{
 "cells": [
  {
   "cell_type": "code",
   "execution_count": 1,
   "metadata": {},
   "outputs": [],
   "source": [
    "from qulacs import Observable, QuantumCircuit, QuantumState, ParametricQuantumCircuit,QuantumCircuitSimulator\n",
    "from qulacs.gate import Y,CNOT,merge"
   ]
  },
  {
   "cell_type": "code",
   "execution_count": 2,
   "metadata": {},
   "outputs": [],
   "source": [
    "import numpy as np"
   ]
  },
  {
   "cell_type": "code",
   "execution_count": 3,
   "metadata": {},
   "outputs": [
    {
     "data": {
      "image/png": "[encoded data removed]",
      "text/plain": [
       "<Figure size 621.941x284.278 with 1 Axes>"
      ]
     },
     "execution_count": 3,
     "metadata": {},
     "output_type": "execute_result"
    }
   ],
   "source": [
    "from qiskit import QuantumCircuit\n",
    "from qiskit.circuit import ParameterVector\n",
    "\n",
    "\n",
    "p = ParameterVector('p',2)\n",
    "x = ParameterVector('x',3)\n",
    "\n",
    "qc = QuantumCircuit(3)\n",
    "\n",
    "qc.rx(np.cos(p[0]),0)\n",
    "qc.rx(np.sin(p[0]),1)\n",
    "qc.rx(p[1]*p[1],2)\n",
    "\n",
    "qc.ry(p[0]*x[0],0)\n",
    "qc.ry(p[1]*np.cos(x[1]),1)\n",
    "qc.ry(p[0]*np.sin(p[1])*x[2],2)\n",
    "\n",
    "qc.cx(0,1)\n",
    "qc.cx(1,2)\n",
    "qc.cx(2,0)\n",
    "\n",
    "#qc.rx(np.cos(p[0]),0)\n",
    "#qc.rx(np.sin(p[1]),1)\n",
    "#qc.rx(2.0*p[2],2)\n",
    "\n",
    "\n",
    "#from qiskit.circuit.random import random_circuit\n",
    "#qc = random_circuit(3, 10, seed=41)\n",
    "qc.draw()"
   ]
  },
  {
   "cell_type": "code",
   "execution_count": 4,
   "metadata": {},
   "outputs": [],
   "source": [
    "# from squlearn.encoding_circuit import HubregtsenEncodingCircuit\n",
    "# from qiskit.circuit import ParameterVector\n",
    "\n",
    "\n",
    "\n",
    "# pqc = HubregtsenEncodingCircuit(3,2,2)\n",
    "\n",
    "# p = ParameterVector('p',3)\n",
    "# x = ParameterVector('x',pqc.num_features)\n",
    "\n",
    "# qc = pqc.get_circuit(p,x)\n",
    "# qc.draw()"
   ]
  },
  {
   "cell_type": "code",
   "execution_count": 5,
   "metadata": {},
   "outputs": [],
   "source": [
    "np.random.seed(0)\n",
    "param = np.random.random(2)\n",
    "x_val = np.random.random(3)\n",
    "param_obs = np.random.random(8)\n",
    "\n",
    "#print(pqc.num_parameters)\n",
    "#print(pqc.num_features)"
   ]
  },
  {
   "cell_type": "code",
   "execution_count": 6,
   "metadata": {},
   "outputs": [
    {
     "data": {
      "text/plain": [
       "SparsePauliOp(['III', 'IIZ', 'IZI', 'ZII'],\n",
       "              coeffs=[ParameterExpression(1.0*p[0]), ParameterExpression(1.0*p[1]),\n",
       " ParameterExpression(1.0*p[2]), ParameterExpression(1.0*p[3])])"
      ]
     },
     "execution_count": 6,
     "metadata": {},
     "output_type": "execute_result"
    }
   ],
   "source": [
    "from squlearn.observables import SummedPaulis\n",
    "\n",
    "obs = SummedPaulis(3,)\n",
    "\n",
    "obs.get_operator(ParameterVector('p',4))"
   ]
  },
  {
   "cell_type": "code",
   "execution_count": 7,
   "metadata": {},
   "outputs": [],
   "source": [
    "from qiskit.quantum_info import SparsePauliOp\n",
    "\n",
    "p_obs = ParameterVector('p_obs',8)\n",
    "\n",
    "obs = SparsePauliOp('ZZZ',)\n",
    "\n",
    "obs2= [\n",
    "    SparsePauliOp('IIZ',p_obs[0])+SparsePauliOp('IZI',p_obs[1])+SparsePauliOp('ZII',p_obs[2]),\n",
    "    SparsePauliOp('IIX',p_obs[3])+SparsePauliOp('IXI',p_obs[4])+SparsePauliOp('XII',p_obs[5]),\n",
    "    SparsePauliOp('IIY',p_obs[6])+SparsePauliOp('IYI',1.0)+SparsePauliOp('YII',p_obs[7])\n",
    "]"
   ]
  },
  {
   "cell_type": "code",
   "execution_count": 8,
   "metadata": {},
   "outputs": [
    {
     "name": "stdout",
     "output_type": "stream",
     "text": [
      "[SparsePauliOp(['III', 'IZZ', 'ZIZ', 'ZZI'],\n",
      "              coeffs=[ParameterExpression(1.0*p_obs[0]**2 + 1.0*p_obs[1]**2 + 1.0*p_obs[2]**2),\n",
      " ParameterExpression(2.0*p_obs[0]*p_obs[1]),\n",
      " ParameterExpression(2.0*p_obs[0]*p_obs[2]),\n",
      " ParameterExpression(2.0*p_obs[1]*p_obs[2])]), SparsePauliOp(['III', 'IXX', 'XIX', 'XXI'],\n",
      "              coeffs=[ParameterExpression(1.0*p_obs[3]**2 + 1.0*p_obs[4]**2 + 1.0*p_obs[5]**2),\n",
      " ParameterExpression(2.0*p_obs[3]*p_obs[4]),\n",
      " ParameterExpression(2.0*p_obs[3]*p_obs[5]),\n",
      " ParameterExpression(2.0*p_obs[4]*p_obs[5])]), SparsePauliOp(['III', 'IYY', 'YIY', 'YYI'],\n",
      "              coeffs=[ParameterExpression(1.0*p_obs[6]**2 + 1.0*p_obs[7]**2 + 1.0),\n",
      " ParameterExpression(2.0*p_obs[6]),\n",
      " ParameterExpression(2.0*p_obs[6]*p_obs[7]),\n",
      " ParameterExpression(2.0*p_obs[7])])]\n"
     ]
    }
   ],
   "source": [
    "obs2 = [(obs2[0]**2).simplify().simplify(),(obs2[1]**2).simplify().simplify(),(obs2[2]**2).simplify().simplify()]\n",
    "print(obs2)"
   ]
  },
  {
   "cell_type": "code",
   "execution_count": 9,
   "metadata": {},
   "outputs": [
    {
     "name": "stdout",
     "output_type": "stream",
     "text": [
      "test._operation_list ['rx', 'ry', 'rx', 'ry', 'cx', 'rx', 'ry', 'cx', 'cx']\n",
      "test._param_list []\n",
      "test._qubit_list [[0], [0], [1], [1], [0, 1], [2], [2], [1, 2], [2, 0]]\n",
      "test._func_list [<function _lambdifygenerated at 0x00000206997CFF70>, <function _lambdifygenerated at 0x00000206997CF550>, <function _lambdifygenerated at 0x00000206997E28B0>, <function _lambdifygenerated at 0x00000206997D54C0>, None, <function _lambdifygenerated at 0x00000206997CFB80>, <function _lambdifygenerated at 0x00000206997DEA60>, None, None]\n",
      "test._func_grad_list [[<function _lambdifygenerated at 0x00000206997D5CA0>], [<function _lambdifygenerated at 0x00000206997D5F70>, <function _lambdifygenerated at 0x00000206997DECA0>], [<function _lambdifygenerated at 0x00000206997DE3A0>], [<function _lambdifygenerated at 0x00000206997CF9D0>, <function _lambdifygenerated at 0x00000206997E23A0>], None, [<function _lambdifygenerated at 0x00000206997D5550>], [<function _lambdifygenerated at 0x00000206997E2820>, <function _lambdifygenerated at 0x00000206997E2940>, <function _lambdifygenerated at 0x00000206997DEC10>], None, None]\n",
      "test._used_parameters [[ParameterVectorElement(p[0])], [ParameterVectorElement(p[0]), ParameterVectorElement(x[0])], [ParameterVectorElement(p[0])], [ParameterVectorElement(p[1]), ParameterVectorElement(x[1])], [], [ParameterVectorElement(p[1])], [ParameterVectorElement(p[0]), ParameterVectorElement(p[1]), ParameterVectorElement(x[2])], [], []]\n",
      "test.new_operators [['I 0 I 1 I 2 ', 'Z 0 Z 1 I 2 ', 'Z 0 I 1 Z 2 ', 'I 0 Z 1 Z 2 '], ['I 0 I 1 I 2 ', 'X 0 X 1 I 2 ', 'X 0 I 1 X 2 ', 'I 0 X 1 X 2 '], ['I 0 I 1 I 2 ', 'Y 0 Y 1 I 2 ', 'Y 0 I 1 Y 2 ', 'I 0 Y 1 Y 2 ']]\n",
      "test.new_operators_coeff [[<function _lambdifygenerated at 0x00000206997D5040>, <function _lambdifygenerated at 0x00000206997E20D0>, <function _lambdifygenerated at 0x00000206997D50D0>, <function _lambdifygenerated at 0x00000206997F1310>], [<function _lambdifygenerated at 0x00000206997D5DC0>, <function _lambdifygenerated at 0x00000206997D5EE0>, <function _lambdifygenerated at 0x00000206997F1820>, <function _lambdifygenerated at 0x00000206997E2CA0>], [<function _lambdifygenerated at 0x00000206997DEE50>, <function _lambdifygenerated at 0x000002069A7F3280>, <function _lambdifygenerated at 0x00000206997CFA60>, <function _lambdifygenerated at 0x00000206997D5310>]]\n",
      "test.new_operators_coeff_grad [[[<function _lambdifygenerated at 0x00000206997B3550>, <function _lambdifygenerated at 0x00000206997DE280>, <function _lambdifygenerated at 0x00000206997E2B80>], [<function _lambdifygenerated at 0x00000206997D59D0>, <function _lambdifygenerated at 0x00000206997F1B80>], [<function _lambdifygenerated at 0x00000206997DEB80>, <function _lambdifygenerated at 0x00000206997F1700>], [<function _lambdifygenerated at 0x00000206997DE310>, <function _lambdifygenerated at 0x00000206997CFDC0>]], [[<function _lambdifygenerated at 0x00000206997E2700>, <function _lambdifygenerated at 0x00000206997F1EE0>, <function _lambdifygenerated at 0x00000206997E2280>], [<function _lambdifygenerated at 0x00000206997CF5E0>, <function _lambdifygenerated at 0x00000206997DE820>], [<function _lambdifygenerated at 0x00000206997DE550>, <function _lambdifygenerated at 0x00000206997F14C0>], [<function _lambdifygenerated at 0x00000206997E2F70>, <function _lambdifygenerated at 0x00000206997F1A60>]], [[<function _lambdifygenerated at 0x00000206997D5D30>, <function _lambdifygenerated at 0x00000206997F19D0>], [<function QulacsCircuit.build_observable_instructions.<locals>.<lambda> at 0x000002069A7F31F0>], [<function _lambdifygenerated at 0x00000206997D5160>, <function _lambdifygenerated at 0x000002069A7F35E0>], [<function QulacsCircuit.build_observable_instructions.<locals>.<lambda> at 0x00000206997D5790>]]]\n",
      "test.new_operators_used_parameters [[[ParameterVectorElement(p_obs[0]), ParameterVectorElement(p_obs[1]), ParameterVectorElement(p_obs[2])], [ParameterVectorElement(p_obs[0]), ParameterVectorElement(p_obs[1])], [ParameterVectorElement(p_obs[0]), ParameterVectorElement(p_obs[2])], [ParameterVectorElement(p_obs[1]), ParameterVectorElement(p_obs[2])]], [[ParameterVectorElement(p_obs[3]), ParameterVectorElement(p_obs[4]), ParameterVectorElement(p_obs[5])], [ParameterVectorElement(p_obs[3]), ParameterVectorElement(p_obs[4])], [ParameterVectorElement(p_obs[3]), ParameterVectorElement(p_obs[5])], [ParameterVectorElement(p_obs[4]), ParameterVectorElement(p_obs[5])]], [[ParameterVectorElement(p_obs[6]), ParameterVectorElement(p_obs[7])], [ParameterVectorElement(p_obs[6])], [ParameterVectorElement(p_obs[6]), ParameterVectorElement(p_obs[7])], [ParameterVectorElement(p_obs[7])]]]\n"
     ]
    }
   ],
   "source": [
    "\n",
    "from squlearn.util.qulacs import *\n",
    "\n",
    "\n",
    "\n",
    "test = QulacsCircuit(qc, obs2)\n",
    "\n",
    "\n",
    "print(\"test._operation_list\",test._operation_list)\n",
    "print(\"test._param_list\",test._param_list)\n",
    "print(\"test._qubit_list\",test._qubit_list)\n",
    "print(\"test._func_list\",test._func_list)\n",
    "print(\"test._func_grad_list\",test._func_grad_list)\n",
    "print(\"test._used_parameters\",test._used_parameters)\n",
    "\n",
    "print(\"test.new_operators\",test.new_operators)\n",
    "print(\"test.new_operators_coeff\",test.new_operators_coeff)\n",
    "print(\"test.new_operators_coeff_grad\",test.new_operators_coeff_grad)\n",
    "print(\"test.new_operators_used_parameters\",test.new_operators_used_parameters)"
   ]
  },
  {
   "cell_type": "code",
   "execution_count": 10,
   "metadata": {},
   "outputs": [
    {
     "data": {
      "text/plain": [
       "<function squlearn.util.qulacs.qulacs_circuit.QulacsCircuit.get_circuit_func.<locals>.qulacs_circuit(*args)>"
      ]
     },
     "execution_count": 10,
     "metadata": {},
     "output_type": "execute_result"
    }
   ],
   "source": [
    "test.get_circuit_func()"
   ]
  },
  {
   "cell_type": "code",
   "execution_count": 11,
   "metadata": {},
   "outputs": [
    {
     "data": {
      "text/plain": [
       "['p_obs']"
      ]
     },
     "execution_count": 11,
     "metadata": {},
     "output_type": "execute_result"
    }
   ],
   "source": [
    "test._qualcs_obs_parameters"
   ]
  },
  {
   "cell_type": "code",
   "execution_count": 12,
   "metadata": {},
   "outputs": [
    {
     "data": {
      "text/plain": [
       "array([3.09610713, 2.05518824, 1.73381868])"
      ]
     },
     "execution_count": 12,
     "metadata": {},
     "output_type": "execute_result"
    }
   ],
   "source": [
    "from squlearn.util.qulacs .qulacs_circuit import evaluate_circuit\n",
    "\n",
    "evaluate_circuit(test,param,x_val,param_obs)"
   ]
  },
  {
   "cell_type": "code",
   "execution_count": 13,
   "metadata": {},
   "outputs": [
    {
     "data": {
      "text/plain": [
       "array([[ 0.35658544, -0.80971051],\n",
       "       [ 0.75748842,  0.07569617],\n",
       "       [-0.76960834,  1.15073574]])"
      ]
     },
     "execution_count": 13,
     "metadata": {},
     "output_type": "execute_result"
    }
   ],
   "source": [
    "from squlearn.util.qulacs.qulacs_circuit import evaluate_circuit_gradient\n",
    "\n",
    "px = list(p)+list(x)\n",
    "\n",
    "evaluate_circuit_gradient(test,p,param,x_val,param_obs)"
   ]
  },
  {
   "cell_type": "code",
   "execution_count": 14,
   "metadata": {},
   "outputs": [
    {
     "ename": "NameError",
     "evalue": "name 'evaluate_circuit_statevec' is not defined",
     "output_type": "error",
     "traceback": [
      "\u001b[1;31m---------------------------------------------------------------------------\u001b[0m",
      "\u001b[1;31mNameError\u001b[0m                                 Traceback (most recent call last)",
      "Cell \u001b[1;32mIn[14], line 1\u001b[0m\n\u001b[1;32m----> 1\u001b[0m \u001b[43mevaluate_circuit_statevec\u001b[49m(test,param,x_val,param_obs)\n",
      "\u001b[1;31mNameError\u001b[0m: name 'evaluate_circuit_statevec' is not defined"
     ]
    }
   ],
   "source": [
    "evaluate_circuit_statevec(test,param,x_val,param_obs)"
   ]
  },
  {
   "cell_type": "code",
   "execution_count": null,
   "metadata": {},
   "outputs": [],
   "source": [
    "evaluate_circuit_gradient(test,x,param,x_val,param_obs)"
   ]
  },
  {
   "cell_type": "code",
   "execution_count": null,
   "metadata": {},
   "outputs": [],
   "source": [
    "evaluate_circuit_gradient(test,x[1],param,x_val,param_obs)"
   ]
  },
  {
   "cell_type": "code",
   "execution_count": null,
   "metadata": {},
   "outputs": [],
   "source": [
    "evaluate_circuit_gradient(test,px,param,x_val,param_obs)"
   ]
  },
  {
   "cell_type": "code",
   "execution_count": null,
   "metadata": {},
   "outputs": [],
   "source": [
    "from squlearn.util.qulacs.qulacs_circuit import evaluate_operator_gradient\n",
    "\n",
    "evaluate_operator_gradient(test,p_obs,param,x_val,param_obs)"
   ]
  },
  {
   "cell_type": "code",
   "execution_count": null,
   "metadata": {},
   "outputs": [],
   "source": [
    "from squlearn.util.qulacs.qulacs_circuit import evaluate_operator_gradient\n",
    "\n",
    "evaluate_operator_gradient(test,p_obs[0],param,x_val,param_obs)"
   ]
  },
  {
   "cell_type": "code",
   "execution_count": null,
   "metadata": {},
   "outputs": [],
   "source": [
    "from squlearn.qnn.lowlevel_qnn_pennylane import LowLevelQNNPennyLane\n",
    "from squlearn import Executor\n",
    "from squlearn.observables import CustomObservable\n",
    "\n",
    "from squlearn.encoding_circuit import QiskitEncodingCircuit\n",
    "\n",
    "ec = QiskitEncodingCircuit(qc)\n",
    "o1 = CustomObservable(3,'IIZ',parameterized=True)+CustomObservable(3,'IZI',parameterized=True)+CustomObservable(3,'ZII',parameterized=True)\n",
    "o2 = CustomObservable(3,'IIX',parameterized=True)+CustomObservable(3,'IXI',parameterized=True)+CustomObservable(3,'XII',parameterized=True)\n",
    "o3 = CustomObservable(3,'IIY',parameterized=True)+CustomObservable(3,'IYI',parameterized=False)+CustomObservable(3,'YII',parameterized=True)\n",
    "\n",
    "\n",
    "qnn = LowLevelQNNPennyLane(ec,[o1*o1,o2*o2,o3*o3],Executor('pennylane'))\n",
    "\n",
    "\n",
    "print(\"f\\n\",qnn.evaluate(x_val,param,param_obs,\"f\")[\"f\"])\n",
    "print(\"dfdp\\n\",qnn.evaluate(x_val,param,param_obs,\"dfdp\")[\"dfdp\"])\n",
    "print(\"dfdx\\n\",qnn.evaluate(x_val,param,param_obs,\"dfdx\")[\"dfdx\"])\n",
    "print(\"dfdop\\n\",qnn.evaluate(x_val,param,param_obs,\"dfdop\")[\"dfdop\"])\n",
    "print(\"x[1]\\n\",qnn.evaluate(x_val,param,param_obs,x[1])[x[1]])\n",
    "print(\"dop[0]\\n\",qnn.evaluate(x_val,param,param_obs,qnn.parameters_operator[0])[qnn.parameters_operator[0]])"
   ]
  }
 ],
 "metadata": {
  "kernelspec": {
   "display_name": ".venv",
   "language": "python",
   "name": "python3"
  },
  "language_info": {
   "codemirror_mode": {
    "name": "ipython",
    "version": 3
   },
   "file_extension": ".py",
   "mimetype": "text/x-python",
   "name": "python",
   "nbconvert_exporter": "python",
   "pygments_lexer": "ipython3",
   "version": "3.9.13"
  }
 },
 "nbformat": 4,
 "nbformat_minor": 2
}
