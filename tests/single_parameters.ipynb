{
 "cells": [
  {
   "cell_type": "code",
   "execution_count": 1,
   "metadata": {},
   "outputs": [],
   "source": [
    "import numpy as np\n",
    "from squlearn.encoding_circuit import ChebyshevRx\n",
    "from squlearn.observables import SummedPaulis\n",
    "from squlearn import Executor\n",
    "\n",
    "from squlearn.qnn.lowlevel_qnn_pennylane import LowLevelQNNPennyLane\n",
    "from squlearn.qnn.lowlevel_qnn_qiskit import LowLevelQNN"
   ]
  },
  {
   "cell_type": "code",
   "execution_count": 2,
   "metadata": {},
   "outputs": [
    {
     "name": "stdout",
     "output_type": "stream",
     "text": [
      "self._pennylane_gates [<class 'pennylane.ops.qubit.parametric_ops_single_qubit.RX'>, <class 'pennylane.ops.qubit.parametric_ops_single_qubit.RX'>, <class 'pennylane.ops.qubit.parametric_ops_single_qubit.RX'>, <class 'pennylane.ops.qubit.parametric_ops_single_qubit.RX'>, <class 'pennylane.ops.qubit.non_parametric_ops.CNOT'>]\n",
      "self._pennylane_gates_param_function [(<function _lambdifygenerated at 0x000001DB95D9CC10>,), (<function _lambdifygenerated at 0x000001DB95D9D120>,), (<function _lambdifygenerated at 0x000001DB95D9D6C0>,), (<function _lambdifygenerated at 0x000001DB95D9E680>,), None]\n",
      "self._pennylane_gates_wires [[0], [1], [0], [1], [0, 1]]\n",
      "self._pennylane_gates_parameters ['param', 'x']\n",
      "self._pennylane_obs_param_function [[<function _lambdifygenerated at 0x000001DB95D9F0A0>, <function _lambdifygenerated at 0x000001DB95D9DEA0>, <function _lambdifygenerated at 0x000001DB95D9C940>], [<function _lambdifygenerated at 0x000001DB95D9F880>, <function _lambdifygenerated at 0x000001DB95D9D360>, <function _lambdifygenerated at 0x000001DB95D9CAF0>]]\n",
      "self._pennylane_words [[Identity(wires=[0]), PauliZ(wires=[0]), PauliZ(wires=[1])], [Identity(wires=[0]), PauliY(wires=[0]), PauliY(wires=[1])]]\n",
      "self._pennylane_obs_parameters ['param_obs']\n",
      "self._pennylane_gates [<class 'pennylane.ops.qubit.parametric_ops_single_qubit.RX'>, <class 'pennylane.ops.qubit.parametric_ops_single_qubit.RX'>, <class 'pennylane.ops.qubit.parametric_ops_single_qubit.RX'>, <class 'pennylane.ops.qubit.parametric_ops_single_qubit.RX'>, <class 'pennylane.ops.qubit.non_parametric_ops.CNOT'>]\n",
      "self._pennylane_gates_param_function [(<function _lambdifygenerated at 0x000001DB95CB9FC0>,), (<function _lambdifygenerated at 0x000001DB95D9CE50>,), (<function _lambdifygenerated at 0x000001DB95D9D480>,), (<function _lambdifygenerated at 0x000001DB95D9F370>,), None]\n",
      "self._pennylane_gates_wires [[0], [1], [0], [1], [0, 1]]\n",
      "self._pennylane_gates_parameters ['param', 'x']\n",
      "self._pennylane_obs_param_function [[<function _lambdifygenerated at 0x000001DB95D9FB50>, <function _lambdifygenerated at 0x000001DB95D9C5E0>, <function _lambdifygenerated at 0x000001DB95D9E560>, <function _lambdifygenerated at 0x000001DB95D9F010>], [<function _lambdifygenerated at 0x000001DB95D9DCF0>, <function _lambdifygenerated at 0x000001DB95D9E9E0>, <function _lambdifygenerated at 0x000001DB95D9EE60>, <function _lambdifygenerated at 0x000001DB95D9DE10>]]\n",
      "self._pennylane_words [[Identity(wires=[0]), PauliZ(wires=[0]), PauliZ(wires=[1]), PauliZ(wires=[0]) @ PauliZ(wires=[1])], [Identity(wires=[0]), PauliY(wires=[0]), PauliY(wires=[1]), PauliY(wires=[0]) @ PauliY(wires=[1])]]\n",
      "self._pennylane_obs_parameters ['param_obs']\n"
     ]
    }
   ],
   "source": [
    "pqc = ChebyshevRx(2,2)\n",
    "obs1 = SummedPaulis(2)\n",
    "obs2 = SummedPaulis(2,\"Y\")\n",
    "\n",
    "\n",
    "np.random.seed(0)\n",
    "param = np.random.rand(pqc.num_parameters)\n",
    "param_obs = np.random.rand(obs1.num_parameters+obs2.num_parameters)\n",
    "\n",
    "qnn_pl = LowLevelQNNPennyLane(pqc, [obs1,obs2], None)"
   ]
  },
  {
   "cell_type": "code",
   "execution_count": 3,
   "metadata": {},
   "outputs": [],
   "source": [
    "qnn_qiskit = LowLevelQNN(pqc, [obs1,obs2], Executor())"
   ]
  },
  {
   "cell_type": "code",
   "execution_count": 4,
   "metadata": {},
   "outputs": [
    {
     "ename": "ValueError",
     "evalue": "Wrong format of an input variable.",
     "output_type": "error",
     "traceback": [
      "\u001b[1;31m---------------------------------------------------------------------------\u001b[0m",
      "\u001b[1;31mValueError\u001b[0m                                Traceback (most recent call last)",
      "Cell \u001b[1;32mIn[4], line 1\u001b[0m\n\u001b[1;32m----> 1\u001b[0m val \u001b[38;5;241m=\u001b[39m \u001b[43mqnn_qiskit\u001b[49m\u001b[38;5;241;43m.\u001b[39;49m\u001b[43mevaluate\u001b[49m\u001b[43m(\u001b[49m\u001b[38;5;241;43m0.5\u001b[39;49m\u001b[43m,\u001b[49m\u001b[43mparam\u001b[49m\u001b[43m,\u001b[49m\u001b[43mparam_obs\u001b[49m\u001b[43m,\u001b[49m\u001b[38;5;124;43m\"\u001b[39;49m\u001b[38;5;124;43mf\u001b[39;49m\u001b[38;5;124;43m\"\u001b[39;49m\u001b[43m)\u001b[49m[\u001b[38;5;124m\"\u001b[39m\u001b[38;5;124mf\u001b[39m\u001b[38;5;124m\"\u001b[39m]\n\u001b[0;32m      2\u001b[0m \u001b[38;5;28mprint\u001b[39m(val)\n\u001b[0;32m      3\u001b[0m \u001b[38;5;28mprint\u001b[39m(val\u001b[38;5;241m.\u001b[39mshape)\n",
      "File \u001b[1;32m~\\Documents\\Git Repositories\\squlearn_fork\\squlearn\\src\\squlearn\\qnn\\lowlevel_qnn_qiskit.py:903\u001b[0m, in \u001b[0;36mLowLevelQNN.evaluate\u001b[1;34m(self, x, param, param_op, *values)\u001b[0m\n\u001b[0;32m    898\u001b[0m     \u001b[38;5;28;01mreturn\u001b[39;00m real_todo_dic\n\u001b[0;32m    900\u001b[0m \u001b[38;5;66;03m# Done with the helper functions, start of the evaluate function\u001b[39;00m\n\u001b[0;32m    901\u001b[0m \n\u001b[0;32m    902\u001b[0m \u001b[38;5;66;03m# input adjustments for x, param, param_op to get correct stacking of values\u001b[39;00m\n\u001b[1;32m--> 903\u001b[0m x_inp, multi_x \u001b[38;5;241m=\u001b[39m \u001b[43madjust_features\u001b[49m\u001b[43m(\u001b[49m\u001b[43mx\u001b[49m\u001b[43m,\u001b[49m\u001b[43m \u001b[49m\u001b[38;5;28;43mself\u001b[39;49m\u001b[38;5;241;43m.\u001b[39;49m\u001b[43mnum_features\u001b[49m\u001b[43m)\u001b[49m\n\u001b[0;32m    904\u001b[0m param_inp, multi_param \u001b[38;5;241m=\u001b[39m adjust_parameters(param, \u001b[38;5;28mself\u001b[39m\u001b[38;5;241m.\u001b[39mnum_parameters)\n\u001b[0;32m    905\u001b[0m param_op_inp, multi_param_op \u001b[38;5;241m=\u001b[39m adjust_parameters(param_op, \u001b[38;5;28mself\u001b[39m\u001b[38;5;241m.\u001b[39mnum_parameters_observable)\n",
      "File \u001b[1;32m~\\Documents\\Git Repositories\\squlearn_fork\\squlearn\\src\\squlearn\\util\\data_preprocessing.py:16\u001b[0m, in \u001b[0;36madjust_features\u001b[1;34m(x, x_length)\u001b[0m\n\u001b[0;32m      5\u001b[0m \u001b[38;5;28;01mdef\u001b[39;00m \u001b[38;5;21madjust_features\u001b[39m(x: Union[np\u001b[38;5;241m.\u001b[39mndarray, \u001b[38;5;28mfloat\u001b[39m], x_length: \u001b[38;5;28mint\u001b[39m) \u001b[38;5;241m-\u001b[39m\u001b[38;5;241m>\u001b[39m Tuple[np\u001b[38;5;241m.\u001b[39mndarray, \u001b[38;5;28mbool\u001b[39m]:\n\u001b[0;32m      6\u001b[0m \u001b[38;5;250m    \u001b[39m\u001b[38;5;124;03m\"\"\"Adjust the feature vector to the form [[]] if necessary.\u001b[39;00m\n\u001b[0;32m      7\u001b[0m \n\u001b[0;32m      8\u001b[0m \u001b[38;5;124;03m    Args:\u001b[39;00m\n\u001b[1;32m   (...)\u001b[0m\n\u001b[0;32m     13\u001b[0m \u001b[38;5;124;03m        Adjusted feature array and a boolean flag for multiple inputs.\u001b[39;00m\n\u001b[0;32m     14\u001b[0m \u001b[38;5;124;03m    \"\"\"\u001b[39;00m\n\u001b[1;32m---> 16\u001b[0m     \u001b[38;5;28;01mreturn\u001b[39;00m \u001b[43m_adjust_input\u001b[49m\u001b[43m(\u001b[49m\u001b[43mx\u001b[49m\u001b[43m,\u001b[49m\u001b[43m \u001b[49m\u001b[43mx_length\u001b[49m\u001b[43m,\u001b[49m\u001b[43m \u001b[49m\u001b[43mallow_single_array\u001b[49m\u001b[38;5;241;43m=\u001b[39;49m\u001b[38;5;28;43;01mFalse\u001b[39;49;00m\u001b[43m)\u001b[49m\n",
      "File \u001b[1;32m~\\Documents\\Git Repositories\\squlearn_fork\\squlearn\\src\\squlearn\\util\\data_preprocessing.py:107\u001b[0m, in \u001b[0;36m_adjust_input\u001b[1;34m(x, x_length, allow_single_array)\u001b[0m\n\u001b[0;32m    104\u001b[0m     error \u001b[38;5;241m=\u001b[39m \u001b[38;5;28;01mTrue\u001b[39;00m\n\u001b[0;32m    106\u001b[0m \u001b[38;5;28;01mif\u001b[39;00m error:\n\u001b[1;32m--> 107\u001b[0m     \u001b[38;5;28;01mraise\u001b[39;00m \u001b[38;5;167;01mValueError\u001b[39;00m(\u001b[38;5;124m\"\u001b[39m\u001b[38;5;124mWrong format of an input variable.\u001b[39m\u001b[38;5;124m\"\u001b[39m)\n\u001b[0;32m    109\u001b[0m \u001b[38;5;28;01mreturn\u001b[39;00m xx, multiple_inputs\n",
      "\u001b[1;31mValueError\u001b[0m: Wrong format of an input variable."
     ]
    }
   ],
   "source": [
    "val = qnn_qiskit.evaluate(0.5,param,param_obs,\"f\")[\"f\"]\n",
    "print(val)\n",
    "print(val.shape)"
   ]
  },
  {
   "cell_type": "code",
   "execution_count": null,
   "metadata": {},
   "outputs": [],
   "source": [
    "val = qnn_pl.evaluate(0.5,param,param_obs,\"f\")[\"f\"]\n",
    "print(val)\n",
    "print(val.shape)"
   ]
  },
  {
   "cell_type": "code",
   "execution_count": null,
   "metadata": {},
   "outputs": [],
   "source": [
    "val = qnn_qiskit.evaluate(0.5,param,param_obs,\"fcc\")[\"fcc\"]\n",
    "print(val)\n",
    "print(val.shape)"
   ]
  },
  {
   "cell_type": "code",
   "execution_count": null,
   "metadata": {},
   "outputs": [],
   "source": [
    "val = qnn_pl.evaluate(0.5,param,param_obs,\"fcc\")[\"fcc\"]\n",
    "print(val)\n",
    "print(val.shape)"
   ]
  },
  {
   "cell_type": "code",
   "execution_count": null,
   "metadata": {},
   "outputs": [],
   "source": [
    "val = qnn_qiskit.evaluate(0.5,param,param_obs,\"var\")[\"var\"]\n",
    "print(val)\n",
    "print(val.shape)"
   ]
  },
  {
   "cell_type": "code",
   "execution_count": null,
   "metadata": {},
   "outputs": [],
   "source": [
    "val = qnn_pl.evaluate([0.5,0.6],param,param_obs,\"var\")[\"var\"]\n",
    "print(val)\n",
    "print(val.shape)"
   ]
  },
  {
   "cell_type": "code",
   "execution_count": null,
   "metadata": {},
   "outputs": [],
   "source": [
    "val = qnn_qiskit.evaluate(0.5,param,param_obs,\"dfccdp\")[\"dfccdp\"]\n",
    "print(val)\n",
    "print(val.shape)"
   ]
  },
  {
   "cell_type": "code",
   "execution_count": null,
   "metadata": {},
   "outputs": [],
   "source": [
    "qnn_qiskit.features[0].index"
   ]
  },
  {
   "cell_type": "code",
   "execution_count": 5,
   "metadata": {},
   "outputs": [
    {
     "ename": "ValueError",
     "evalue": "Wrong format of an input variable.",
     "output_type": "error",
     "traceback": [
      "\u001b[1;31m---------------------------------------------------------------------------\u001b[0m",
      "\u001b[1;31mValueError\u001b[0m                                Traceback (most recent call last)",
      "Cell \u001b[1;32mIn[5], line 1\u001b[0m\n\u001b[1;32m----> 1\u001b[0m val \u001b[38;5;241m=\u001b[39m \u001b[43mqnn_qiskit\u001b[49m\u001b[38;5;241;43m.\u001b[39;49m\u001b[43mevaluate\u001b[49m\u001b[43m(\u001b[49m\u001b[43m[\u001b[49m\u001b[38;5;241;43m0.5\u001b[39;49m\u001b[43m,\u001b[49m\u001b[38;5;241;43m0.6\u001b[39;49m\u001b[43m]\u001b[49m\u001b[43m,\u001b[49m\u001b[43m[\u001b[49m\u001b[43mparam\u001b[49m\u001b[43m,\u001b[49m\u001b[38;5;241;43m2\u001b[39;49m\u001b[38;5;241;43m*\u001b[39;49m\u001b[43mparam\u001b[49m\u001b[43m]\u001b[49m\u001b[43m,\u001b[49m\u001b[43m[\u001b[49m\u001b[43mparam_obs\u001b[49m\u001b[43m,\u001b[49m\u001b[43mparam_obs\u001b[49m\u001b[38;5;241;43m*\u001b[39;49m\u001b[38;5;241;43m2\u001b[39;49m\u001b[43m]\u001b[49m\u001b[43m,\u001b[49m\u001b[43m(\u001b[49m\u001b[43mqnn_qiskit\u001b[49m\u001b[38;5;241;43m.\u001b[39;49m\u001b[43mparameters\u001b[49m\u001b[43m[\u001b[49m\u001b[38;5;241;43m2\u001b[39;49m\u001b[43m]\u001b[49m\u001b[43m,\u001b[49m\u001b[43mqnn_qiskit\u001b[49m\u001b[38;5;241;43m.\u001b[39;49m\u001b[43mfeatures\u001b[49m\u001b[43m[\u001b[49m\u001b[38;5;241;43m1\u001b[39;49m\u001b[43m]\u001b[49m\u001b[43m,\u001b[49m\u001b[43mqnn_qiskit\u001b[49m\u001b[38;5;241;43m.\u001b[39;49m\u001b[43mfeatures\u001b[49m\u001b[43m)\u001b[49m\u001b[43m)\u001b[49m[(qnn_qiskit\u001b[38;5;241m.\u001b[39mparameters[\u001b[38;5;241m2\u001b[39m],qnn_qiskit\u001b[38;5;241m.\u001b[39mfeatures[\u001b[38;5;241m1\u001b[39m],qnn_qiskit\u001b[38;5;241m.\u001b[39mfeatures)]\n\u001b[0;32m      2\u001b[0m \u001b[38;5;28mprint\u001b[39m(val)\n\u001b[0;32m      3\u001b[0m \u001b[38;5;28mprint\u001b[39m(val\u001b[38;5;241m.\u001b[39mshape)\n",
      "File \u001b[1;32m~\\Documents\\Git Repositories\\squlearn_fork\\squlearn\\src\\squlearn\\qnn\\lowlevel_qnn_qiskit.py:905\u001b[0m, in \u001b[0;36mLowLevelQNN.evaluate\u001b[1;34m(self, x, param, param_op, *values)\u001b[0m\n\u001b[0;32m    903\u001b[0m x_inp, multi_x \u001b[38;5;241m=\u001b[39m adjust_features(x, \u001b[38;5;28mself\u001b[39m\u001b[38;5;241m.\u001b[39mnum_features)\n\u001b[0;32m    904\u001b[0m param_inp, multi_param \u001b[38;5;241m=\u001b[39m adjust_parameters(param, \u001b[38;5;28mself\u001b[39m\u001b[38;5;241m.\u001b[39mnum_parameters)\n\u001b[1;32m--> 905\u001b[0m param_op_inp, multi_param_op \u001b[38;5;241m=\u001b[39m \u001b[43madjust_parameters\u001b[49m\u001b[43m(\u001b[49m\u001b[43mparam_op\u001b[49m\u001b[43m,\u001b[49m\u001b[43m \u001b[49m\u001b[38;5;28;43mself\u001b[39;49m\u001b[38;5;241;43m.\u001b[39;49m\u001b[43mnum_parameters_observable\u001b[49m\u001b[43m)\u001b[49m\n\u001b[0;32m    907\u001b[0m \u001b[38;5;66;03m# build dictionary for later use\u001b[39;00m\n\u001b[0;32m    908\u001b[0m dict_encoding_circuit \u001b[38;5;241m=\u001b[39m []\n",
      "File \u001b[1;32m~\\Documents\\Git Repositories\\squlearn_fork\\squlearn\\src\\squlearn\\util\\data_preprocessing.py:33\u001b[0m, in \u001b[0;36madjust_parameters\u001b[1;34m(x, x_length)\u001b[0m\n\u001b[0;32m     19\u001b[0m \u001b[38;5;28;01mdef\u001b[39;00m \u001b[38;5;21madjust_parameters\u001b[39m(x: np\u001b[38;5;241m.\u001b[39mndarray, x_length: \u001b[38;5;28mint\u001b[39m) \u001b[38;5;241m-\u001b[39m\u001b[38;5;241m>\u001b[39m Tuple[np\u001b[38;5;241m.\u001b[39mndarray, \u001b[38;5;28mbool\u001b[39m]:\n\u001b[0;32m     20\u001b[0m \u001b[38;5;250m    \u001b[39m\u001b[38;5;124;03m\"\"\"Adjust the parameter vector to the form [[]] if necessary.\u001b[39;00m\n\u001b[0;32m     21\u001b[0m \n\u001b[0;32m     22\u001b[0m \u001b[38;5;124;03m    In contrast to feature vectors, one dimensional parameters are not considered\u001b[39;00m\n\u001b[1;32m   (...)\u001b[0m\n\u001b[0;32m     30\u001b[0m \u001b[38;5;124;03m        Adjusted parameter array and a boolean flag for multiple inputs.\u001b[39;00m\n\u001b[0;32m     31\u001b[0m \u001b[38;5;124;03m    \"\"\"\u001b[39;00m\n\u001b[1;32m---> 33\u001b[0m     \u001b[38;5;28;01mreturn\u001b[39;00m \u001b[43m_adjust_input\u001b[49m\u001b[43m(\u001b[49m\u001b[43mx\u001b[49m\u001b[43m,\u001b[49m\u001b[43m \u001b[49m\u001b[43mx_length\u001b[49m\u001b[43m,\u001b[49m\u001b[43m \u001b[49m\u001b[43mallow_single_array\u001b[49m\u001b[38;5;241;43m=\u001b[39;49m\u001b[38;5;28;43;01mTrue\u001b[39;49;00m\u001b[43m)\u001b[49m\n",
      "File \u001b[1;32m~\\Documents\\Git Repositories\\squlearn_fork\\squlearn\\src\\squlearn\\util\\data_preprocessing.py:107\u001b[0m, in \u001b[0;36m_adjust_input\u001b[1;34m(x, x_length, allow_single_array)\u001b[0m\n\u001b[0;32m    104\u001b[0m     error \u001b[38;5;241m=\u001b[39m \u001b[38;5;28;01mTrue\u001b[39;00m\n\u001b[0;32m    106\u001b[0m \u001b[38;5;28;01mif\u001b[39;00m error:\n\u001b[1;32m--> 107\u001b[0m     \u001b[38;5;28;01mraise\u001b[39;00m \u001b[38;5;167;01mValueError\u001b[39;00m(\u001b[38;5;124m\"\u001b[39m\u001b[38;5;124mWrong format of an input variable.\u001b[39m\u001b[38;5;124m\"\u001b[39m)\n\u001b[0;32m    109\u001b[0m \u001b[38;5;28;01mreturn\u001b[39;00m xx, multiple_inputs\n",
      "\u001b[1;31mValueError\u001b[0m: Wrong format of an input variable."
     ]
    }
   ],
   "source": [
    "val = qnn_qiskit.evaluate([0.5,0.6],[param,2*param],[param_obs,param_obs*2],(qnn_qiskit.parameters[2],qnn_qiskit.features[1],qnn_qiskit.features))[(qnn_qiskit.parameters[2],qnn_qiskit.features[1],qnn_qiskit.features)]\n",
    "print(val)\n",
    "print(val.shape)"
   ]
  },
  {
   "cell_type": "code",
   "execution_count": 6,
   "metadata": {},
   "outputs": [
    {
     "name": "stdout",
     "output_type": "stream",
     "text": [
      "[[[[[[ 0.08882963 -0.2020888 ]]]\n",
      "\n",
      "\n",
      "   [[[ 0.02954059 -0.36995528]]]]\n",
      "\n",
      "\n",
      "\n",
      "  [[[[ 0.17765926 -0.4041776 ]]]\n",
      "\n",
      "\n",
      "   [[[ 0.05908117 -0.73991057]]]]]\n",
      "\n",
      "\n",
      "\n",
      "\n",
      " [[[[[-0.46464033 -1.08555568]]]\n",
      "\n",
      "\n",
      "   [[[ 0.45914844 -0.23532073]]]]\n",
      "\n",
      "\n",
      "\n",
      "  [[[[-0.92928065 -2.17111136]]]\n",
      "\n",
      "\n",
      "   [[[ 0.91829689 -0.47064146]]]]]]\n",
      "(2, 2, 2, 1, 1, 2)\n"
     ]
    }
   ],
   "source": [
    "val = qnn_pl.evaluate([0.5,0.6],[param,2*param],[param_obs,param_obs*2],(qnn_pl.parameters[2],qnn_pl.features[1],qnn_pl.features))[(qnn_pl.parameters[2],qnn_pl.features[1],qnn_pl.features)]\n",
    "print(val)\n",
    "print(val.shape)"
   ]
  },
  {
   "cell_type": "code",
   "execution_count": null,
   "metadata": {},
   "outputs": [],
   "source": [
    "val = qnn_pl.evaluate(0.5,param,param_obs,\"dfdpdxdx\")[\"dfdpdxdx\"]\n",
    "print(val)\n",
    "print(val.shape)"
   ]
  },
  {
   "cell_type": "code",
   "execution_count": null,
   "metadata": {},
   "outputs": [],
   "source": [
    "val = qnn_pl.evaluate(0.5,param,param_obs,\"dfccdp\")[\"dfccdp\"]\n",
    "print(val)\n",
    "print(val.shape)"
   ]
  },
  {
   "cell_type": "code",
   "execution_count": null,
   "metadata": {},
   "outputs": [],
   "source": [
    "val = qnn_qiskit.evaluate(0.5,param,param_obs,\"dfccdxdx\")[\"dfccdxdx\"]\n",
    "print(val)\n",
    "print(val.shape)"
   ]
  },
  {
   "cell_type": "code",
   "execution_count": null,
   "metadata": {},
   "outputs": [],
   "source": [
    "val = qnn_pl.evaluate(0.5,param,param_obs,\"dfccdxdx\")[\"dfccdxdx\"]\n",
    "print(val)\n",
    "print(val.shape)"
   ]
  },
  {
   "cell_type": "code",
   "execution_count": null,
   "metadata": {},
   "outputs": [],
   "source": [
    "val = qnn_qiskit.evaluate([0.5,0.6],param,param_obs,\"dfdx\")[\"dfdx\"]\n",
    "print(val)\n",
    "print(val.shape)"
   ]
  },
  {
   "cell_type": "code",
   "execution_count": null,
   "metadata": {},
   "outputs": [],
   "source": [
    "val = qnn_qiskit.evaluate([0.5,0.6],param,param_obs,\"dvardx\")[\"dvardx\"]\n",
    "print(val)\n",
    "print(val.shape)"
   ]
  },
  {
   "cell_type": "code",
   "execution_count": null,
   "metadata": {},
   "outputs": [],
   "source": [
    "val = qnn_pl.evaluate([0.5,0.6],param,param_obs,\"dvardx\")[\"dvardx\"]\n",
    "print(val)\n",
    "print(val.shape)"
   ]
  },
  {
   "cell_type": "code",
   "execution_count": null,
   "metadata": {},
   "outputs": [],
   "source": [
    "val = qnn_pl.evaluate([0.5,0.6],param,param_obs,\"dfccdx\")[\"dfccdx\"]\n",
    "print(val)\n",
    "print(val.shape)"
   ]
  },
  {
   "cell_type": "code",
   "execution_count": null,
   "metadata": {},
   "outputs": [],
   "source": [
    "val = qnn_pl.evaluate(0.5,param,param_obs,\"dfdxdp\")[\"dfdxdp\"]\n",
    "print(val)\n",
    "print(val.shape)"
   ]
  },
  {
   "cell_type": "code",
   "execution_count": null,
   "metadata": {},
   "outputs": [],
   "source": [
    "val = qnn_pl.evaluate(0.5,param,param_obs,\"dfdpdxdx\")[\"dfdpdxdx\"]\n",
    "print(val)\n",
    "print(val.shape)"
   ]
  },
  {
   "cell_type": "code",
   "execution_count": null,
   "metadata": {},
   "outputs": [],
   "source": [
    "val = qnn_pl.evaluate(0.5,param,param_obs,\"dfdxdpdx\")[\"dfdxdpdx\"]\n",
    "print(val)\n",
    "print(val.shape)"
   ]
  },
  {
   "cell_type": "code",
   "execution_count": null,
   "metadata": {},
   "outputs": [],
   "source": [
    "val = qnn_qiskit.evaluate(0.5,param,param_obs,\"dfdxdx\")[\"dfdxdx\"]\n",
    "print(val)\n",
    "print(val.shape)"
   ]
  },
  {
   "cell_type": "code",
   "execution_count": null,
   "metadata": {},
   "outputs": [],
   "source": [
    "val = qnn_pl.evaluate(0.5,param,param_obs,\"dfdxdx\")[\"dfdxdx\"]\n",
    "print(val)\n",
    "print(val.shape)"
   ]
  },
  {
   "cell_type": "code",
   "execution_count": null,
   "metadata": {},
   "outputs": [],
   "source": [
    "val = qnn_qiskit.evaluate(0.5,param,param_obs,\"dfdpdp\")[\"dfdpdp\"]\n",
    "print(val)\n",
    "print(val.shape)"
   ]
  },
  {
   "cell_type": "code",
   "execution_count": null,
   "metadata": {},
   "outputs": [],
   "source": [
    "val = qnn_pl.evaluate(0.5,param,param_obs,\"dfdpdp\")[\"dfdpdp\"]\n",
    "print(val)\n",
    "print(val.shape)"
   ]
  }
 ],
 "metadata": {
  "kernelspec": {
   "display_name": ".venv",
   "language": "python",
   "name": "python3"
  },
  "language_info": {
   "codemirror_mode": {
    "name": "ipython",
    "version": 3
   },
   "file_extension": ".py",
   "mimetype": "text/x-python",
   "name": "python",
   "nbconvert_exporter": "python",
   "pygments_lexer": "ipython3",
   "version": "3.10.2"
  }
 },
 "nbformat": 4,
 "nbformat_minor": 2
}
