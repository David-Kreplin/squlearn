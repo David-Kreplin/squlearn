{
 "cells": [
  {
   "cell_type": "code",
   "execution_count": 1,
   "metadata": {},
   "outputs": [
    {
     "data": {
      "text/plain": [
       "EstimatorResult(values=array([0.99500417]), metadata=[{}])"
      ]
     },
     "execution_count": 1,
     "metadata": {},
     "output_type": "execute_result"
    }
   ],
   "source": [
    "from squlearn import Executor\n",
    "\n",
    "from squlearn.util.execution import ParallelEstimator, ParallelSampler\n",
    "\n",
    "\n",
    "from qiskit import QuantumCircuit, Aer\n",
    "from qiskit.quantum_info import SparsePauliOp\n",
    "from qiskit.primitives import Estimator as QEstimator\n",
    "from qiskit.primitives import BackendEstimator\n",
    "\n",
    "qc = QuantumCircuit(3)\n",
    "qc.h(range(3))\n",
    "qc.ry(0.1,0)\n",
    "qc.cx(0,1)\n",
    "qc.cx(1,2)\n",
    "\n",
    "obs = SparsePauliOp(\"IXX\")\n",
    "\n",
    "QEstimator().run(qc,obs).result()"
   ]
  },
  {
   "cell_type": "code",
   "execution_count": 2,
   "metadata": {},
   "outputs": [
    {
     "name": "stdout",
     "output_type": "stream",
     "text": [
      "Circuit with 3 qubits has been duplicated 3 times.\n",
      "Reducing shots from 4000 to 1333\n",
      "Backend has 29 qubits.\n",
      "\n"
     ]
    },
    {
     "data": {
      "text/plain": [
       "EstimatorResult(values=array([0.99699925]), metadata=[{'variance': 0.0019954976240934316, 'shots': 4000}])"
      ]
     },
     "execution_count": 2,
     "metadata": {},
     "output_type": "execute_result"
    }
   ],
   "source": [
    "bestimator = BackendEstimator(Aer.get_backend('qasm_simulator'))\n",
    "pestimator = ParallelEstimator(bestimator, num_parallel=3)\n",
    "job = pestimator.run(qc,obs,shots=4000)\n",
    "job.result()"
   ]
  },
  {
   "cell_type": "code",
   "execution_count": 3,
   "metadata": {},
   "outputs": [
    {
     "name": "stdout",
     "output_type": "stream",
     "text": [
      "Circuit with 3 qubits has been duplicated 3 times.\n",
      "Reducing shots from 0 to 0\n",
      "Backend has 29 qubits.\n",
      "\n"
     ]
    },
    {
     "data": {
      "text/plain": [
       "EstimatorResult(values=array([0.99500417]), metadata=[{'shots': None}])"
      ]
     },
     "execution_count": 3,
     "metadata": {},
     "output_type": "execute_result"
    }
   ],
   "source": [
    "psampler = ParallelEstimator(QEstimator(), num_parallel=3)\n",
    "job = psampler.run(qc,obs)\n",
    "job.result()"
   ]
  },
  {
   "cell_type": "code",
   "execution_count": 4,
   "metadata": {},
   "outputs": [
    {
     "name": "stdout",
     "output_type": "stream",
     "text": [
      "Circuit with 3 qubits has been duplicated 3 times.\n",
      "Reducing shots from 4000 to 1333\n",
      "Backend has 32 qubits.\n",
      "\n"
     ]
    },
    {
     "data": {
      "text/plain": [
       "EstimatorResult(values=array([0.99349837]), metadata=[{'variance': 0.004319159309707388, 'shots': 4000}])"
      ]
     },
     "execution_count": 4,
     "metadata": {},
     "output_type": "execute_result"
    }
   ],
   "source": [
    "from qiskit_ibm_runtime import QiskitRuntimeService,Estimator,Session\n",
    "\n",
    "service = QiskitRuntimeService(channel=\"ibm_quantum\")\n",
    "\n",
    "session = Session(service, backend=service.get_backend(\"ibmq_qasm_simulator\"))\n",
    "sampler = Estimator(session=session)\n",
    "\n",
    "psampler = ParallelEstimator(sampler, num_parallel=3)\n",
    "job = psampler.run(qc,obs)\n",
    "job.result()"
   ]
  }
 ],
 "metadata": {
  "kernelspec": {
   "display_name": "Python 3",
   "language": "python",
   "name": "python3"
  },
  "language_info": {
   "codemirror_mode": {
    "name": "ipython",
    "version": 3
   },
   "file_extension": ".py",
   "mimetype": "text/x-python",
   "name": "python",
   "nbconvert_exporter": "python",
   "pygments_lexer": "ipython3",
   "version": "3.10.2"
  }
 },
 "nbformat": 4,
 "nbformat_minor": 2
}
