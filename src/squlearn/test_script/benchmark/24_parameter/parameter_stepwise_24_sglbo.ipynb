{
 "cells": [
  {
   "cell_type": "code",
   "execution_count": null,
   "id": "1c5e98256c6d4015",
   "metadata": {
    "collapsed": false
   },
   "outputs": [],
   "source": [
    "from squlearn.encoding_circuit import QiskitEncodingCircuit\n",
    "from squlearn.observables import SummedPaulis\n",
    "from squlearn.optimizers import Adam, SGLBO\n",
    "from squlearn.qnn import QNNRegressor\n",
    "from squlearn import Executor\n",
    "from squlearn.qnn import SquaredLoss\n",
    "\n",
    "import numpy as np\n",
    "from qiskit import QuantumCircuit\n",
    "from qiskit.circuit import ParameterVector\n",
    "\n",
    "import matplotlib.pyplot as plt"
   ]
  },
  {
   "cell_type": "markdown",
   "id": "b1bd4612c9777f9e",
   "metadata": {
    "collapsed": false
   },
   "source": [
    "## PQC"
   ]
  },
  {
   "cell_type": "code",
   "execution_count": null,
   "id": "initial_id",
   "metadata": {
    "collapsed": true
   },
   "outputs": [],
   "source": [
    "qc = QuantumCircuit(8)\n",
    "p = ParameterVector('p', 24)\n",
    "x = ParameterVector('x', 1)\n",
    "num_parameters = 24\n",
    "\n",
    "p2 = np.array([-0.13005136, -1.34331017, 2.44392299, 1.64405423, -0.36315523, 0.45344925,\n",
    "                   0.18577077, -0.13904446])\n",
    "\n",
    "qc.rx(1 * np.arccos(x[0]), 0)\n",
    "qc.rx(2 * np.arccos(x[0]), 1)\n",
    "qc.rx(3 * np.arccos(x[0]), 2)\n",
    "qc.rx(4 * np.arccos(x[0]), 3)\n",
    "qc.rx(1 * np.arccos(x[0]), 4)\n",
    "qc.rx(2 * np.arccos(x[0]), 5)\n",
    "qc.rx(3 * np.arccos(x[0]), 6)\n",
    "qc.rx(4 * np.arccos(x[0]), 7)\n",
    "\n",
    "qc.ry(p[0], 0)\n",
    "qc.ry(p[1], 1)\n",
    "qc.ry(p[2], 2)\n",
    "qc.ry(p[3], 3)\n",
    "qc.ry(p[4], 4)\n",
    "qc.ry(p[5], 5)\n",
    "qc.ry(p[6], 6)\n",
    "qc.ry(p[7], 7)\n",
    "\n",
    "qc.cx(0, 1)\n",
    "qc.cx(2, 3)\n",
    "qc.cx(4, 5)\n",
    "qc.cx(6, 7)\n",
    "qc.cx(1, 2)\n",
    "qc.cx(3, 4)\n",
    "qc.cx(5, 6)\n",
    "qc.cx(7, 0)\n",
    "\n",
    "qc.rx(1 * np.arccos(x[0]), 0)\n",
    "qc.rx(2 * np.arccos(x[0]), 1)\n",
    "qc.rx(3 * np.arccos(x[0]), 2)\n",
    "qc.rx(4 * np.arccos(x[0]), 3)\n",
    "qc.rx(1 * np.arccos(x[0]), 4)\n",
    "qc.rx(2 * np.arccos(x[0]), 5)\n",
    "qc.rx(3 * np.arccos(x[0]), 6)\n",
    "qc.rx(4 * np.arccos(x[0]), 7)\n",
    "\n",
    "qc.ry(p[8], 0)\n",
    "qc.ry(p[9], 1)\n",
    "qc.ry(p[10], 2)\n",
    "qc.ry(p[11], 3)\n",
    "qc.ry(p[12], 4)\n",
    "qc.ry(p[13], 5)\n",
    "qc.ry(p[14], 6)\n",
    "qc.ry(p[15], 7)\n",
    "\n",
    "\n",
    "qc.cx(0, 1)\n",
    "qc.cx(2, 3)\n",
    "qc.cx(4, 5)\n",
    "qc.cx(6, 7)\n",
    "qc.cx(1, 2)\n",
    "qc.cx(3, 4)\n",
    "qc.cx(5, 6)\n",
    "qc.cx(7, 0)\n",
    "\n",
    "qc.rx(1 * np.arccos(x[0]), 0)\n",
    "qc.rx(2 * np.arccos(x[0]), 1)\n",
    "qc.rx(3 * np.arccos(x[0]), 2)\n",
    "qc.rx(4 * np.arccos(x[0]), 3)\n",
    "qc.rx(1 * np.arccos(x[0]), 4)\n",
    "qc.rx(2 * np.arccos(x[0]), 5)\n",
    "qc.rx(3 * np.arccos(x[0]), 6)\n",
    "qc.rx(4 * np.arccos(x[0]), 7)\n",
    "\n",
    "qc.ry(p[16], 0)\n",
    "qc.ry(p[17], 1)\n",
    "qc.ry(p[18], 2)\n",
    "qc.ry(p[19], 3)\n",
    "qc.ry(p[20], 4)\n",
    "qc.ry(p[21], 5)\n",
    "qc.ry(p[22], 6)\n",
    "qc.ry(p[23], 7)\n",
    "\n",
    "\n",
    "qc.cx(0, 1)\n",
    "qc.cx(2, 3)\n",
    "qc.cx(4, 5)\n",
    "qc.cx(6, 7)\n",
    "qc.cx(1, 2)\n",
    "qc.cx(3, 4)\n",
    "qc.cx(5, 6)\n",
    "qc.cx(7, 0)\n",
    "\n",
    "pqc = QiskitEncodingCircuit(qc)\n",
    "pqc.draw(\"mpl\")"
   ]
  },
  {
   "cell_type": "code",
   "execution_count": null,
   "id": "90a60c494907f33b",
   "metadata": {
    "collapsed": false
   },
   "outputs": [],
   "source": [
    "## Observable"
   ]
  },
  {
   "cell_type": "code",
   "execution_count": null,
   "id": "75e6f3810e363a35",
   "metadata": {
    "collapsed": false
   },
   "outputs": [],
   "source": [
    "nqubits = 8\n",
    "op = SummedPaulis(nqubits)"
   ]
  },
  {
   "cell_type": "code",
   "execution_count": null,
   "id": "abb3d66fb3022d4c",
   "metadata": {
    "collapsed": false
   },
   "outputs": [],
   "source": [
    "# Randomly initialize parameters of the encoding circuit\n",
    "np.random.seed(13)\n",
    "param_ini = np.random.rand(pqc.num_parameters)\n",
    "# Initialize parameters of the observable as ones\n",
    "param_op_ini = np.ones(op.num_parameters)"
   ]
  },
  {
   "cell_type": "markdown",
   "id": "c72140e0fdde1b7c",
   "metadata": {
    "collapsed": false
   },
   "source": [
    "## SGLBO"
   ]
  },
  {
   "cell_type": "code",
   "execution_count": null,
   "id": "6d157f537a772700",
   "metadata": {
    "collapsed": false
   },
   "outputs": [],
   "source": [
    "\n",
    "#x0 = [[i * 0.02] for i in range(15)]\n",
    "x0 = [[1e-6], [2e-6], [3e-6], [4e-6], [5e-6], [6e-6], [7e-6], [8e-6], [9e-6], [1e-5], [2e-5], [3e-5], [4e-5], [5e-5], [6e-5], [7e-5], [8e-5], [9e-5], [1e-4], [2e-4], [3e-4], [4e-4], [5e-4], [6e-4], [7e-4], [8e-4], [9e-4], [1e-3], [2e-3], [3e-3], [4e-3], [5e-3], [6e-3], [7e-3], [8e-3], [9e-3], [1e-2], [2e-2], [3e-2], [4e-2], [5e-2], [6e-2], [7e-2], [8e-2], [9e-2], [1e-1], [2e-1]]\n",
    "optimizer_options = {\"bo_aqc_func\": \"EI\", \"bo_aqc_optimizer\": \"lbfgs\", \"bo_bounds\": [(0.0, 0.2)], \"log_file\": f\"sglbo_{num_parameters}_params_new.log\", \"bo_n_calls\": 60, \"bo_x0_points\": x0, \"maxiter\": 500}\n",
    "\n",
    "qnn_simulator_sglbo = QNNRegressor(\n",
    "        pqc,\n",
    "        op,\n",
    "        Executor(\"statevector_simulator\"),\n",
    "        SquaredLoss(),\n",
    "        SGLBO(optimizer_options),\n",
    "        param_ini,\n",
    "        param_op_ini=param_op_ini,\n",
    "        opt_param_op=True,  # Keine Observablen optimierung\n",
    "        parameter_seed=124\n",
    "    )"
   ]
  },
  {
   "cell_type": "markdown",
   "id": "e6f7ea6eacfcb174",
   "metadata": {
    "collapsed": false
   },
   "source": [
    "## Fit"
   ]
  },
  {
   "cell_type": "code",
   "execution_count": null,
   "id": "4e213ae8c2bee74f",
   "metadata": {
    "collapsed": false
   },
   "outputs": [],
   "source": [
    "# Data that is inputted to the QNN\n",
    "x_train = np.arange(-0.5, 0.6, 0.1)\n",
    "# Data that is fitted by the QNN\n",
    "y_train = np.sin(6.0 * x_train)\n",
    "\n",
    "qnn_simulator_sglbo.fit(x_train, y_train)"
   ]
  }
 ],
 "metadata": {
  "kernelspec": {
   "display_name": "Python 3",
   "language": "python",
   "name": "python3"
  },
  "language_info": {
   "codemirror_mode": {
    "name": "ipython",
    "version": 3
   },
   "file_extension": ".py",
   "mimetype": "text/x-python",
   "name": "python",
   "nbconvert_exporter": "python",
   "pygments_lexer": "ipython3",
   "version": "3.10.2"
  }
 },
 "nbformat": 4,
 "nbformat_minor": 5
}
