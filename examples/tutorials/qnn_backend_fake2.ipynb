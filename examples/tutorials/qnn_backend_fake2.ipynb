{
 "cells": [
  {
   "cell_type": "code",
   "execution_count": 1,
   "metadata": {},
   "outputs": [],
   "source": [
    "import numpy as np\n",
    "import matplotlib.pyplot as plt\n",
    "\n",
    "from squlearn import Executor\n",
    "from squlearn.feature_map import ChebPQC\n",
    "from squlearn.expectation_operator import SummedPaulis\n",
    "from squlearn.qnn import QNNRegressor, SquaredLoss\n",
    "from squlearn.optimizers import Adam"
   ]
  },
  {
   "attachments": {},
   "cell_type": "markdown",
   "metadata": {},
   "source": [
    "Define parameterized quantum circuit $Q(x,\\theta)$"
   ]
  },
  {
   "cell_type": "code",
   "execution_count": 2,
   "metadata": {},
   "outputs": [
    {
     "data": {
      "image/png": "[encoded data removed]",
      "text/plain": [
       "<Figure size 568.052x144.48 with 1 Axes>"
      ]
     },
     "execution_count": 2,
     "metadata": {},
     "output_type": "execute_result"
    }
   ],
   "source": [
    "nqubits = 2\n",
    "pqc = ChebPQC(num_qubits=nqubits, num_features=1, num_layers=2)\n",
    "pqc.draw()"
   ]
  },
  {
   "attachments": {},
   "cell_type": "markdown",
   "metadata": {},
   "source": [
    "Definition of the cost operator:\n",
    "$\\hat{H} = J \\sum\\limits_{i < j} Z_i Z_j + h\\sum\\limits_i Z_i + c$"
   ]
  },
  {
   "cell_type": "code",
   "execution_count": 3,
   "metadata": {},
   "outputs": [
    {
     "name": "stdout",
     "output_type": "stream",
     "text": [
      "SparsePauliOp(['II', 'IZ', 'ZI'],\n",
      "              coeffs=[ParameterExpression(1.0*p[0]), ParameterExpression(1.0*p[1]),\n",
      " ParameterExpression(1.0*p[2])])\n"
     ]
    }
   ],
   "source": [
    "op = SummedPaulis(2)\n",
    "print(op)"
   ]
  },
  {
   "attachments": {},
   "cell_type": "markdown",
   "metadata": {},
   "source": [
    "Example function: $log(x)$"
   ]
  },
  {
   "cell_type": "code",
   "execution_count": 4,
   "metadata": {},
   "outputs": [
    {
     "ename": "AttributeError",
     "evalue": "'QNNRegressor' object has no attribute 'pretrained'",
     "output_type": "error",
     "traceback": [
      "\u001b[1;31m---------------------------------------------------------------------------\u001b[0m",
      "\u001b[1;31mAttributeError\u001b[0m                            Traceback (most recent call last)",
      "\u001b[1;32mc:\\Users\\DKR\\Documents\\Git Repositories\\squlearn_fork\\squlearn\\examples\\tutorials\\qnn_backend_fake2.ipynb Cell 7\u001b[0m in \u001b[0;36m<cell line: 8>\u001b[1;34m()\u001b[0m\n\u001b[0;32m      <a href='vscode-notebook-cell:/c%3A/Users/DKR/Documents/Git%20Repositories/squlearn_fork/squlearn/examples/tutorials/qnn_backend_fake2.ipynb#X10sZmlsZQ%3D%3D?line=4'>5</a>\u001b[0m param_ini \u001b[39m=\u001b[39m np\u001b[39m.\u001b[39mrandom\u001b[39m.\u001b[39mrand(pqc\u001b[39m.\u001b[39mnum_parameters)\n\u001b[0;32m      <a href='vscode-notebook-cell:/c%3A/Users/DKR/Documents/Git%20Repositories/squlearn_fork/squlearn/examples/tutorials/qnn_backend_fake2.ipynb#X10sZmlsZQ%3D%3D?line=5'>6</a>\u001b[0m param_op_ini \u001b[39m=\u001b[39m np\u001b[39m.\u001b[39mones(op\u001b[39m.\u001b[39mnum_parameters)\n\u001b[1;32m----> <a href='vscode-notebook-cell:/c%3A/Users/DKR/Documents/Git%20Repositories/squlearn_fork/squlearn/examples/tutorials/qnn_backend_fake2.ipynb#X10sZmlsZQ%3D%3D?line=7'>8</a>\u001b[0m reg \u001b[39m=\u001b[39m QNNRegressor(pqc, op, Executor(\u001b[39m\"\u001b[39;49m\u001b[39mstatevector_simulator\u001b[39;49m\u001b[39m\"\u001b[39;49m), SquaredLoss(), Adam({\u001b[39m\"\u001b[39;49m\u001b[39mlr\u001b[39;49m\u001b[39m\"\u001b[39;49m:\u001b[39m0.1\u001b[39;49m}), param_ini, param_op_ini)\n",
      "File \u001b[1;32m~\\Documents\\Git Repositories\\squlearn_fork\\squlearn\\src\\squlearn\\qnn\\qnnr.py:111\u001b[0m, in \u001b[0;36mQNNRegressor.__init__\u001b[1;34m(self, feature_map, operator, executor, loss, optimizer, param_ini, param_op_ini, batch_size, epochs, shuffle, opt_param_op, variance, parameter_seed, caching, pretrained, **kwargs)\u001b[0m\n\u001b[0;32m     92\u001b[0m \u001b[39mdef\u001b[39;00m \u001b[39m__init__\u001b[39m(\n\u001b[0;32m     93\u001b[0m     \u001b[39mself\u001b[39m,\n\u001b[0;32m     94\u001b[0m     feature_map: FeatureMapBase,\n\u001b[1;32m   (...)\u001b[0m\n\u001b[0;32m    109\u001b[0m     \u001b[39m*\u001b[39m\u001b[39m*\u001b[39mkwargs,\n\u001b[0;32m    110\u001b[0m ) \u001b[39m-\u001b[39m\u001b[39m>\u001b[39m \u001b[39mNone\u001b[39;00m:\n\u001b[1;32m--> 111\u001b[0m     \u001b[39msuper\u001b[39m()\u001b[39m.\u001b[39m\u001b[39m__init__\u001b[39m(\n\u001b[0;32m    112\u001b[0m         feature_map,\n\u001b[0;32m    113\u001b[0m         operator,\n\u001b[0;32m    114\u001b[0m         executor,\n\u001b[0;32m    115\u001b[0m         loss,\n\u001b[0;32m    116\u001b[0m         optimizer,\n\u001b[0;32m    117\u001b[0m         param_ini,\n\u001b[0;32m    118\u001b[0m         param_op_ini,\n\u001b[0;32m    119\u001b[0m         batch_size,\n\u001b[0;32m    120\u001b[0m         epochs,\n\u001b[0;32m    121\u001b[0m         shuffle,\n\u001b[0;32m    122\u001b[0m         opt_param_op,\n\u001b[0;32m    123\u001b[0m         variance,\n\u001b[0;32m    124\u001b[0m         parameter_seed\u001b[39m=\u001b[39mparameter_seed,\n\u001b[0;32m    125\u001b[0m         caching\u001b[39m=\u001b[39mcaching,\n\u001b[0;32m    126\u001b[0m         pretrained\u001b[39m=\u001b[39mpretrained,\n\u001b[0;32m    127\u001b[0m         \u001b[39m*\u001b[39m\u001b[39m*\u001b[39mkwargs,\n\u001b[0;32m    128\u001b[0m     )\n",
      "File \u001b[1;32m~\\Documents\\Git Repositories\\squlearn_fork\\squlearn\\src\\squlearn\\qnn\\base_qnn.py:116\u001b[0m, in \u001b[0;36mBaseQNN.__init__\u001b[1;34m(self, feature_map, operator, executor, loss, optimizer, param_ini, param_op_ini, batch_size, epochs, shuffle, opt_param_op, variance, shot_adjusting, parameter_seed, caching, pretrained, **kwargs)\u001b[0m\n\u001b[0;32m    113\u001b[0m \u001b[39mself\u001b[39m\u001b[39m.\u001b[39mexecutor \u001b[39m=\u001b[39m executor\n\u001b[0;32m    114\u001b[0m \u001b[39mself\u001b[39m\u001b[39m.\u001b[39m_qnn \u001b[39m=\u001b[39m QNN(\u001b[39mself\u001b[39m\u001b[39m.\u001b[39mfeature_map, \u001b[39mself\u001b[39m\u001b[39m.\u001b[39moperator, executor,result_caching\u001b[39m=\u001b[39m\u001b[39mself\u001b[39m\u001b[39m.\u001b[39mcaching)\n\u001b[1;32m--> 116\u001b[0m update_params \u001b[39m=\u001b[39m \u001b[39mself\u001b[39;49m\u001b[39m.\u001b[39;49mget_params()\u001b[39m.\u001b[39mkeys() \u001b[39m&\u001b[39m kwargs\u001b[39m.\u001b[39mkeys()\n\u001b[0;32m    117\u001b[0m \u001b[39mif\u001b[39;00m update_params:\n\u001b[0;32m    118\u001b[0m     \u001b[39mself\u001b[39m\u001b[39m.\u001b[39mset_params(\u001b[39m*\u001b[39m\u001b[39m*\u001b[39m{key: kwargs[key] \u001b[39mfor\u001b[39;00m key \u001b[39min\u001b[39;00m update_params})\n",
      "File \u001b[1;32m~\\Documents\\Git Repositories\\squlearn_fork\\squlearn\\src\\squlearn\\qnn\\base_qnn.py:158\u001b[0m, in \u001b[0;36mBaseQNN.get_params\u001b[1;34m(self, deep)\u001b[0m\n\u001b[0;32m    148\u001b[0m \u001b[39m\u001b[39m\u001b[39m\"\"\"\u001b[39;00m\n\u001b[0;32m    149\u001b[0m \u001b[39mReturns a dictionary of parameters for the current object.\u001b[39;00m\n\u001b[0;32m    150\u001b[0m \n\u001b[1;32m   (...)\u001b[0m\n\u001b[0;32m    155\u001b[0m \u001b[39m    dict: A dictionary of parameters for the current object.\u001b[39;00m\n\u001b[0;32m    156\u001b[0m \u001b[39m\"\"\"\u001b[39;00m\n\u001b[0;32m    157\u001b[0m \u001b[39m# Create a dictionary of all public parameters\u001b[39;00m\n\u001b[1;32m--> 158\u001b[0m params \u001b[39m=\u001b[39m \u001b[39msuper\u001b[39;49m()\u001b[39m.\u001b[39;49mget_params(deep\u001b[39m=\u001b[39;49m\u001b[39mFalse\u001b[39;49;00m)\n\u001b[0;32m    160\u001b[0m \u001b[39mif\u001b[39;00m deep:\n\u001b[0;32m    161\u001b[0m     params\u001b[39m.\u001b[39mupdate(\u001b[39mself\u001b[39m\u001b[39m.\u001b[39m_qnn\u001b[39m.\u001b[39mget_params(deep\u001b[39m=\u001b[39m\u001b[39mTrue\u001b[39;00m))\n",
      "File \u001b[1;32m~\\AppData\\Roaming\\Python\\Python310\\site-packages\\sklearn\\base.py:210\u001b[0m, in \u001b[0;36mBaseEstimator.get_params\u001b[1;34m(self, deep)\u001b[0m\n\u001b[0;32m    208\u001b[0m out \u001b[39m=\u001b[39m \u001b[39mdict\u001b[39m()\n\u001b[0;32m    209\u001b[0m \u001b[39mfor\u001b[39;00m key \u001b[39min\u001b[39;00m \u001b[39mself\u001b[39m\u001b[39m.\u001b[39m_get_param_names():\n\u001b[1;32m--> 210\u001b[0m     value \u001b[39m=\u001b[39m \u001b[39mgetattr\u001b[39;49m(\u001b[39mself\u001b[39;49m, key)\n\u001b[0;32m    211\u001b[0m     \u001b[39mif\u001b[39;00m deep \u001b[39mand\u001b[39;00m \u001b[39mhasattr\u001b[39m(value, \u001b[39m\"\u001b[39m\u001b[39mget_params\u001b[39m\u001b[39m\"\u001b[39m):\n\u001b[0;32m    212\u001b[0m         deep_items \u001b[39m=\u001b[39m value\u001b[39m.\u001b[39mget_params()\u001b[39m.\u001b[39mitems()\n",
      "\u001b[1;31mAttributeError\u001b[0m: 'QNNRegressor' object has no attribute 'pretrained'"
     ]
    }
   ],
   "source": [
    "x_space = np.arange(-0.5, 0.6, 0.1)\n",
    "ref_values = np.square(x_space)\n",
    "\n",
    "np.random.seed(13)\n",
    "param_ini = np.random.rand(pqc.num_parameters)\n",
    "param_op_ini = np.ones(op.num_parameters)\n",
    "\n",
    "reg = QNNRegressor(pqc, op, Executor(\"statevector_simulator\"), SquaredLoss(), Adam({\"lr\":0.1}), param_ini, param_op_ini)"
   ]
  },
  {
   "attachments": {},
   "cell_type": "markdown",
   "metadata": {},
   "source": [
    "Optimization of the regression"
   ]
  },
  {
   "cell_type": "code",
   "execution_count": null,
   "metadata": {},
   "outputs": [],
   "source": [
    "reg.fit(x_space, ref_values)"
   ]
  },
  {
   "cell_type": "code",
   "execution_count": null,
   "metadata": {},
   "outputs": [],
   "source": [
    "print(\"Result Param:\", reg.param)\n",
    "print(\"Result ParamOp:\", reg.param_op)"
   ]
  },
  {
   "cell_type": "code",
   "execution_count": null,
   "metadata": {},
   "outputs": [],
   "source": [
    "x = np.arange(np.min(x_space), np.max(x_space)+0.01, 0.01)\n",
    "y = reg.predict(x)\n",
    "plt.plot(x, np.square(x))\n",
    "plt.plot(x, y)"
   ]
  },
  {
   "cell_type": "code",
   "execution_count": null,
   "metadata": {},
   "outputs": [],
   "source": [
    "from qiskit_ibm_runtime import QiskitRuntimeService, Session, Options, Estimator, Sampler\n",
    "from qiskit_aer.noise import NoiseModel\n",
    "\n",
    "# User token has to be set in  advance file via save_account()\n",
    "service = QiskitRuntimeService(channel=\"ibm_quantum\")\n",
    "noisy_backend = service.get_backend('ibm_nairobi')\n",
    "backend_noise_model = NoiseModel.from_backend(noisy_backend)\n",
    "simulator = service.get_backend('ibmq_qasm_simulator')\n",
    "session = Session(service,backend=simulator)\n",
    "\n",
    "executor_backend = Executor(Estimator(session),caching=False)\n",
    "qnn_backend = QNNRegressor(pqc, op, executor_backend, SquaredLoss(), Adam(), reg.param, reg.param_op, caching=False)"
   ]
  },
  {
   "cell_type": "code",
   "execution_count": null,
   "metadata": {},
   "outputs": [],
   "source": [
    "options = Options()\n",
    "options.simulator = {\n",
    "    \"noise_model\": backend_noise_model,\n",
    "    \"coupling_map\": noisy_backend.configuration().coupling_map,\n",
    "    \"basis_gates\": noisy_backend.configuration().basis_gates\n",
    "}\n",
    "options.execution.shots = 10000\n"
   ]
  },
  {
   "cell_type": "code",
   "execution_count": null,
   "metadata": {},
   "outputs": [],
   "source": [
    "options.resilience_level = 0\n",
    "options.optimization_level = 0\n",
    "\n",
    "executor_backend.reset_options_estimator(options)\n",
    "\n",
    "x = np.arange(np.min(x_space), np.max(x_space)+0.01, 0.01)\n",
    "y = qnn_backend.predict(x)\n",
    "plt.plot(x, np.square(x))\n",
    "plt.plot(x, y)"
   ]
  },
  {
   "cell_type": "code",
   "execution_count": null,
   "metadata": {},
   "outputs": [],
   "source": [
    "options.resilience_level = 1\n",
    "options.optimization_level = 1\n",
    "\n",
    "executor_backend.reset_options_estimator(options)\n",
    "\n",
    "x = np.arange(np.min(x_space), np.max(x_space)+0.01, 0.01)\n",
    "y = qnn_backend.predict(x)\n",
    "plt.plot(x, np.square(x))\n",
    "plt.plot(x, y)"
   ]
  },
  {
   "cell_type": "code",
   "execution_count": null,
   "metadata": {},
   "outputs": [],
   "source": [
    "options.resilience_level = 1\n",
    "options.optimization_level = 2\n",
    "\n",
    "executor_backend.reset_options_estimator(options)\n",
    "\n",
    "x = np.arange(np.min(x_space), np.max(x_space)+0.01, 0.01)\n",
    "y = qnn_backend.predict(x)\n",
    "plt.plot(x, np.square(x))\n",
    "plt.plot(x, y)"
   ]
  },
  {
   "cell_type": "code",
   "execution_count": null,
   "metadata": {},
   "outputs": [],
   "source": [
    "options.resilience_level = 1\n",
    "options.optimization_level = 3\n",
    "\n",
    "executor_backend.reset_options_estimator(options)\n",
    "\n",
    "x = np.arange(np.min(x_space), np.max(x_space)+0.01, 0.01)\n",
    "y = qnn_backend.predict(x)\n",
    "plt.plot(x, np.square(x))\n",
    "plt.plot(x, y)"
   ]
  },
  {
   "cell_type": "code",
   "execution_count": null,
   "metadata": {},
   "outputs": [],
   "source": [
    "session = Session(service,backend=simulator)\n",
    "\n",
    "executor_backend = Executor(Sampler(session),caching=False)\n",
    "qnn_backend = QNNRegressor(pqc, op, executor_backend, SquaredLoss(), Adam(), reg.param, reg.param_op, caching=False)"
   ]
  },
  {
   "cell_type": "code",
   "execution_count": null,
   "metadata": {},
   "outputs": [],
   "source": [
    "options.resilience_level = 0\n",
    "options.optimization_level = 0\n",
    "\n",
    "executor_backend.reset_options_sampler(options)\n",
    "\n",
    "x = np.arange(np.min(x_space), np.max(x_space)+0.01, 0.01)\n",
    "y = qnn_backend.predict(x)\n",
    "plt.plot(x, np.square(x))\n",
    "plt.plot(x, y)"
   ]
  },
  {
   "cell_type": "code",
   "execution_count": null,
   "metadata": {},
   "outputs": [],
   "source": [
    "options.resilience_level = 1\n",
    "options.optimization_level = 1\n",
    "\n",
    "executor_backend.reset_options_sampler(options)\n",
    "\n",
    "x = np.arange(np.min(x_space), np.max(x_space)+0.01, 0.01)\n",
    "y = qnn_backend.predict(x)\n",
    "plt.plot(x, np.square(x))\n",
    "plt.plot(x, y)"
   ]
  },
  {
   "cell_type": "code",
   "execution_count": null,
   "metadata": {},
   "outputs": [],
   "source": [
    "qnn_backend = QNNRegressor(pqc, op, executor_backend, SquaredLoss(), Adam({\"lr\":0.1}), param_ini, param_op_ini, variance=0.001, caching=True)\n",
    "\n",
    "options.resilience_level = 0\n",
    "options.optimization_level = 0\n",
    "\n",
    "executor_backend.reset_options_estimator(options)"
   ]
  },
  {
   "cell_type": "code",
   "execution_count": null,
   "metadata": {},
   "outputs": [],
   "source": [
    "if False:\n",
    "    qnn_backend.fit(x_space, ref_values)\n",
    "else\n",
    "    param = np.array([1.40117172, 0.61107008, 0.99124818, 0.96892179, 1.02999658, 0.55958741,\n",
    "                      0.93947114, 0.72715296, 0.83944837, 0.75572051])\n",
    "    param_op = np.array([0.95250274, 0.44728365, 0.80368924])\n",
    "\n",
    "    qnn_backend.set_params(param=param, param_op=param_op)\n",
    "    qnn_backend.set_params(is_fitted=True)"
   ]
  },
  {
   "cell_type": "code",
   "execution_count": null,
   "metadata": {},
   "outputs": [],
   "source": [
    "x = np.arange(np.min(x_space), np.max(x_space)+0.01, 0.01)\n",
    "y = qnn_backend.predict(x)\n",
    "plt.plot(x, np.square(x))\n",
    "plt.plot(x, y)"
   ]
  }
 ],
 "metadata": {
  "interpreter": {
   "hash": "26de051ba29f2982a8de78e945f0abaf191376122a1563185a90213a26c5da77"
  },
  "kernelspec": {
   "display_name": "Python 3.10.2 64-bit",
   "language": "python",
   "name": "python3"
  },
  "language_info": {
   "codemirror_mode": {
    "name": "ipython",
    "version": 3
   },
   "file_extension": ".py",
   "mimetype": "text/x-python",
   "name": "python",
   "nbconvert_exporter": "python",
   "pygments_lexer": "ipython3",
   "version": "3.10.2"
  },
  "orig_nbformat": 4
 },
 "nbformat": 4,
 "nbformat_minor": 2
}
