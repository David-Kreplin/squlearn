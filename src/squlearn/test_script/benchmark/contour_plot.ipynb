{
 "cells": [
  {
   "cell_type": "code",
   "execution_count": null,
   "id": "initial_id",
   "metadata": {
    "collapsed": true
   },
   "outputs": [],
   "source": [
    "import numpy as np\n",
    "import matplotlib.pyplot as plt\n",
    "from mpl_toolkits.mplot3d import Axes3D\n",
    "\n",
    "def plot_contour(func, x_range, y_range=None, title=None, levels=50, cmap='viridis'):\n",
    "    \"\"\"\n",
    "    Plots a contour plot for a given 2D function.\n",
    "\n",
    "    Parameters:\n",
    "    - func: The 2D function to be plotted. It should take two arguments (x, y).\n",
    "    - x_range: A tuple (x_min, x_max) specifying the range of x values.\n",
    "    - y_range: A tuple (y_min, y_max) specifying the range of y values. If None, it assumes y_range = x_range.\n",
    "    - title: Title for the plot.\n",
    "    - levels: Number of contour levels.\n",
    "    - cmap: Colormap for the plot.\n",
    "\n",
    "    Returns:\n",
    "    - None\n",
    "    \"\"\"\n",
    "    if y_range is None:\n",
    "        y_range = x_range\n",
    "\n",
    "    x = np.linspace(x_range[0], x_range[1], 100)\n",
    "    y = np.linspace(y_range[0], y_range[1], 100)\n",
    "\n",
    "    X, Y = np.meshgrid(x, y)\n",
    "    Z = np.array([[func(x, y) for x, y in zip(x_row, y_row)] for x_row, y_row in zip(X, Y)])\n",
    "\n",
    "    fig, ax = plt.subplots(figsize=(8, 6))\n",
    "    contour = ax.contour(X, Y, Z, levels=levels, cmap=cmap)\n",
    "    ax.clabel(contour, inline=True, fontsize=8)\n",
    "\n",
    "    ax.set_title(title if title else f'Contour Plot of {func.__name__}')\n",
    "    ax.set_xlabel('X')\n",
    "    ax.set_ylabel('Y')\n",
    "\n",
    "    plt.show()\n",
    "\n",
    "# Beispielaufruf für Himmelblau's Function\n",
    "plot_contour(himmelblau_function, x_range=(-5, 5), y_range=(-5, 5))\n"
   ]
  }
 ],
 "metadata": {
  "kernelspec": {
   "display_name": "Python 3",
   "language": "python",
   "name": "python3"
  },
  "language_info": {
   "codemirror_mode": {
    "name": "ipython",
    "version": 2
   },
   "file_extension": ".py",
   "mimetype": "text/x-python",
   "name": "python",
   "nbconvert_exporter": "python",
   "pygments_lexer": "ipython2",
   "version": "2.7.6"
  }
 },
 "nbformat": 4,
 "nbformat_minor": 5
}
