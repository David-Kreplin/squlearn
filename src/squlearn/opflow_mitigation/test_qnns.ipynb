{
 "cells": [
  {
   "cell_type": "code",
   "execution_count": 1,
   "metadata": {},
   "outputs": [],
   "source": [
    "from squlearn.feature_map import ChebPQC\n",
    "from squlearn.expectation_operator import SummedPaulis\n",
    "\n",
    "from squlearn.qnn.qnn_optree import QNN\n",
    "from squlearn import Executor\n",
    "\n",
    "fm = ChebPQC(3,1,1)\n",
    "op = SummedPaulis(3)\n",
    "\n",
    "\n",
    "qnn = QNN(fm,op,Executor())\n"
   ]
  },
  {
   "cell_type": "code",
   "execution_count": 2,
   "metadata": {},
   "outputs": [
    {
     "ename": "AttributeError",
     "evalue": "'QNN' object has no attribute 'get_opflow_from_string'",
     "output_type": "error",
     "traceback": [
      "\u001b[1;31m---------------------------------------------------------------------------\u001b[0m",
      "\u001b[1;31mAttributeError\u001b[0m                            Traceback (most recent call last)",
      "\u001b[1;32mc:\\Users\\DKR\\Documents\\Git Repositories\\squlearn_fork\\squlearn\\src\\squlearn\\opflow_mitigation\\test_qnns.ipynb Cell 2\u001b[0m in \u001b[0;36m<cell line: 1>\u001b[1;34m()\u001b[0m\n\u001b[1;32m----> <a href='vscode-notebook-cell:/c%3A/Users/DKR/Documents/Git%20Repositories/squlearn_fork/squlearn/src/squlearn/opflow_mitigation/test_qnns.ipynb#W2sZmlsZQ%3D%3D?line=0'>1</a>\u001b[0m \u001b[39mprint\u001b[39m(qnn\u001b[39m.\u001b[39;49mget_opflow_from_string(\u001b[39m\"\u001b[39m\u001b[39mf\u001b[39m\u001b[39m\"\u001b[39m))\n",
      "\u001b[1;31mAttributeError\u001b[0m: 'QNN' object has no attribute 'get_opflow_from_string'"
     ]
    }
   ],
   "source": [
    "print(qnn.get_optree_from_string(\"f\"))"
   ]
  },
  {
   "cell_type": "code",
   "execution_count": null,
   "metadata": {},
   "outputs": [],
   "source": [
    "print(qnn.get_optree_from_string(\"dfdx\"))"
   ]
  }
 ],
 "metadata": {
  "kernelspec": {
   "display_name": "Python 3",
   "language": "python",
   "name": "python3"
  },
  "language_info": {
   "codemirror_mode": {
    "name": "ipython",
    "version": 3
   },
   "file_extension": ".py",
   "mimetype": "text/x-python",
   "name": "python",
   "nbconvert_exporter": "python",
   "pygments_lexer": "ipython3",
   "version": "3.10.2"
  },
  "orig_nbformat": 4
 },
 "nbformat": 4,
 "nbformat_minor": 2
}
