{
 "cells": [
  {
   "cell_type": "code",
   "execution_count": 3,
   "metadata": {
    "ExecuteTime": {
     "end_time": "2023-11-28T14:13:08.373467Z",
     "start_time": "2023-11-28T14:13:07.615642600Z"
    }
   },
   "outputs": [],
   "source": [
    "import numpy as np\n",
    "import matplotlib.pyplot as plt\n",
    "\n",
    "from qiskit import QuantumCircuit\n",
    "from qiskit.circuit import ParameterVector\n",
    "\n",
    "from qiskit_ibm_runtime import QiskitRuntimeService, Session, Options, Estimator, Sampler\n",
    "from qiskit_aer.noise import NoiseModel\n",
    "\n",
    "from squlearn import Executor\n",
    "from squlearn.encoding_circuit import QiskitEncodingCircuit\n",
    "from squlearn.observables import SinglePauli\n",
    "from squlearn.qnn import QNNRegressor, SquaredLoss\n",
    "from squlearn.optimizers import Adam, SLSQP, SGLBO\n",
    "\n",
    "import matplotlib.pyplot as plt\n",
    "import matplotlib as mpl"
   ]
  },
  {
   "cell_type": "code",
   "execution_count": 4,
   "metadata": {
    "ExecuteTime": {
     "end_time": "2023-11-28T14:13:08.423556600Z",
     "start_time": "2023-11-28T14:13:07.658634300Z"
    }
   },
   "outputs": [
    {
     "data": {
      "text/plain": "     ┌────────────────┐┌──────────────┐          ┌───┐┌────────────────┐»\nq_0: ┤ Rx(acos(x[0])) ├┤ Ry(-0.13005) ├──■───────┤ X ├┤ Rx(acos(x[0])) ├»\n     ├────────────────┤├─────────────┬┘┌─┴─┐     └─┬─┘├────────────────┤»\nq_1: ┤ Rx(acos(x[0])) ├┤ Ry(-1.3433) ├─┤ X ├──■────┼──┤ Rx(acos(x[0])) ├»\n     ├────────────────┤└┬────────────┤ └───┘┌─┴─┐  │  ├────────────────┤»\nq_2: ┤ Rx(acos(x[0])) ├─┤ Ry(2.4439) ├───■──┤ X ├──┼──┤ Rx(acos(x[0])) ├»\n     ├────────────────┤ ├────────────┤ ┌─┴─┐└───┘  │  ├────────────────┤»\nq_3: ┤ Rx(acos(x[0])) ├─┤ Ry(1.6441) ├─┤ X ├───────■──┤ Rx(acos(x[0])) ├»\n     └────────────────┘ └────────────┘ └───┘          └────────────────┘»\n«     ┌──────────────┐\n«q_0: ┤ Ry(-0.36316) ├\n«     ├─────────────┬┘\n«q_1: ┤ Ry(0.45345) ├─\n«     ├─────────────┤ \n«q_2: ┤ Ry(0.18577) ├─\n«     ├─────────────┴┐\n«q_3: ┤ Ry(-0.13904) ├\n«     └──────────────┘",
      "text/html": "<pre style=\"word-wrap: normal;white-space: pre;background: #fff0;line-height: 1.1;font-family: &quot;Courier New&quot;,Courier,monospace\">     ┌────────────────┐┌──────────────┐          ┌───┐┌────────────────┐»\nq_0: ┤ Rx(acos(x[0])) ├┤ Ry(-0.13005) ├──■───────┤ X ├┤ Rx(acos(x[0])) ├»\n     ├────────────────┤├─────────────┬┘┌─┴─┐     └─┬─┘├────────────────┤»\nq_1: ┤ Rx(acos(x[0])) ├┤ Ry(-1.3433) ├─┤ X ├──■────┼──┤ Rx(acos(x[0])) ├»\n     ├────────────────┤└┬────────────┤ └───┘┌─┴─┐  │  ├────────────────┤»\nq_2: ┤ Rx(acos(x[0])) ├─┤ Ry(2.4439) ├───■──┤ X ├──┼──┤ Rx(acos(x[0])) ├»\n     ├────────────────┤ ├────────────┤ ┌─┴─┐└───┘  │  ├────────────────┤»\nq_3: ┤ Rx(acos(x[0])) ├─┤ Ry(1.6441) ├─┤ X ├───────■──┤ Rx(acos(x[0])) ├»\n     └────────────────┘ └────────────┘ └───┘          └────────────────┘»\n«     ┌──────────────┐\n«q_0: ┤ Ry(-0.36316) ├\n«     ├─────────────┬┘\n«q_1: ┤ Ry(0.45345) ├─\n«     ├─────────────┤ \n«q_2: ┤ Ry(0.18577) ├─\n«     ├─────────────┴┐\n«q_3: ┤ Ry(-0.13904) ├\n«     └──────────────┘</pre>"
     },
     "execution_count": 4,
     "metadata": {},
     "output_type": "execute_result"
    }
   ],
   "source": [
    "nqubits = 4\n",
    "\n",
    "qc = QuantumCircuit(nqubits)\n",
    "p = ParameterVector('p', 8)\n",
    "x = ParameterVector('x', 1)\n",
    "\n",
    "p2 = np.array([-0.13005136, -1.34331017, 2.44392299, 1.64405423, -0.36315523, 0.45344925,\n",
    " 0.18577077, -0.13904446])\n",
    "\n",
    "for i in range(nqubits):\n",
    " qc.rx(1*np.arccos(x[0]), i)\n",
    " qc.ry(p2[i], i)\n",
    "\n",
    "qc.cx(0, 1)\n",
    "qc.cx(2, 3)\n",
    "qc.cx(1, 2)\n",
    "qc.cx(3, 0)\n",
    "\n",
    "for i in range(nqubits):\n",
    " qc.rx(1*np.arccos(x[0]), i)\n",
    " qc.ry(p2[i+nqubits], i)\n",
    "\n",
    "pqc = QiskitEncodingCircuit(qc)\n",
    "pqc.draw()"
   ]
  },
  {
   "cell_type": "code",
   "execution_count": 5,
   "metadata": {
    "ExecuteTime": {
     "end_time": "2023-11-28T14:13:08.425557400Z",
     "start_time": "2023-11-28T14:13:07.821986800Z"
    }
   },
   "outputs": [
    {
     "name": "stdout",
     "output_type": "stream",
     "text": [
      "SparsePauliOp(['IIIZ'],\n",
      "              coeffs=[ParameterExpression(1.0*p[0])])\n"
     ]
    }
   ],
   "source": [
    "op = SinglePauli(nqubits,qubit=0,parameterized=True)\n",
    "print(op)"
   ]
  },
  {
   "cell_type": "code",
   "execution_count": 6,
   "metadata": {
    "ExecuteTime": {
     "end_time": "2023-11-28T14:13:08.426562Z",
     "start_time": "2023-11-28T14:13:07.850573900Z"
    }
   },
   "outputs": [
    {
     "data": {
      "text/plain": "1"
     },
     "execution_count": 6,
     "metadata": {},
     "output_type": "execute_result"
    }
   ],
   "source": [
    "op.num_parameters"
   ]
  },
  {
   "cell_type": "code",
   "execution_count": 7,
   "metadata": {
    "ExecuteTime": {
     "end_time": "2023-11-28T14:13:09.005453400Z",
     "start_time": "2023-11-28T14:13:07.928569500Z"
    }
   },
   "outputs": [],
   "source": [
    "# Randomly initialize parameters of the encoding circuit\n",
    "np.random.seed(13) #13\n",
    "param_ini =  np.random.rand(pqc.num_parameters)\n",
    "# Initialize parameters of the observable as ones\n",
    "param_op_ini = np.ones(op.num_parameters)\n",
    "x0 = [[i * 0.2] for i in range(15)]\n",
    "optimizer_options = {\"bo_aqc_func\": \"EI\", \"bo_aqc_optimizer\": \"lbfgs\", \"bo_bounds\": [(0.0, 5.0)], \"log_file\": \"sglbo_noiseless.log\",\n",
    "                     \"bo_n_calls\": 30, \"bo_x0_points\": x0, \"maxiter\": 100}\n",
    "\n",
    "qnn_simulator = QNNRegressor(\n",
    "    pqc,\n",
    "    op,\n",
    "    Executor(\"statevector_simulator\"),\n",
    "    SquaredLoss(),\n",
    "    SGLBO(optimizer_options),\n",
    "    #SLSQP(),\n",
    "    #Adam({\"lr\": 0.2,\"log_file\": \"adam_noiseless.log\"}),\n",
    "    param_ini,\n",
    "    param_op_ini=param_op_ini,\n",
    "    opt_param_op=True, # Keine Observablen optimierung\n",
    "    parameter_seed=124\n",
    ")"
   ]
  },
  {
   "cell_type": "code",
   "execution_count": 8,
   "metadata": {
    "ExecuteTime": {
     "end_time": "2023-11-28T14:13:09.038115300Z",
     "start_time": "2023-11-28T14:13:08.479206900Z"
    }
   },
   "outputs": [
    {
     "name": "stdout",
     "output_type": "stream",
     "text": [
      "[]\n",
      "[1.]\n"
     ]
    }
   ],
   "source": [
    "print(param_ini)\n",
    "print(param_op_ini)"
   ]
  },
  {
   "cell_type": "code",
   "execution_count": 9,
   "metadata": {
    "ExecuteTime": {
     "end_time": "2023-11-28T14:13:09.047139100Z",
     "start_time": "2023-11-28T14:13:08.507194300Z"
    }
   },
   "outputs": [],
   "source": [
    "# Data that is inputted to the QNN\n",
    "x_train = np.arange(-0.5, 0.6, 0.1)\n",
    "# Data that is fitted by the QNN\n",
    "y_train = np.sin(6.0*x_train)"
   ]
  },
  {
   "cell_type": "code",
   "execution_count": 10,
   "metadata": {
    "ExecuteTime": {
     "end_time": "2023-11-28T14:13:09.050137300Z",
     "start_time": "2023-11-28T14:13:08.570723900Z"
    }
   },
   "outputs": [],
   "source": [
    "def evaluate_loss(theta, qnn_regressor: QNNRegressor, X, y):\n",
    "    param = theta[: qnn_regressor._qnn.num_parameters]\n",
    "    param_op = theta[qnn_regressor._qnn.num_parameters :]\n",
    "\n",
    "    loss_values = qnn_regressor._qnn.evaluate(qnn_regressor.loss.loss_args_tuple, X, param, param_op)\n",
    "\n",
    "    loss_value = qnn_regressor.loss.value(\n",
    "        loss_values,\n",
    "        ground_truth=y,\n",
    "        weights=np.ones(len(y)),\n",
    "        iteration=0,\n",
    "    )\n",
    "\n",
    "    return loss_value\n",
    "\n",
    "\n"
   ]
  },
  {
   "cell_type": "code",
   "execution_count": 11,
   "metadata": {
    "ExecuteTime": {
     "end_time": "2023-11-28T14:13:13.794089400Z",
     "start_time": "2023-11-28T14:13:08.591721500Z"
    }
   },
   "outputs": [
    {
     "name": "stdout",
     "output_type": "stream",
     "text": [
      "fit:   0%|          | 0/100 [00:00<?, ?it/s]"
     ]
    },
    {
     "ename": "IndexError",
     "evalue": "index 1 is out of bounds for axis 0 with size 1",
     "output_type": "error",
     "traceback": [
      "\u001B[1;31m---------------------------------------------------------------------------\u001B[0m",
      "\u001B[1;31mIndexError\u001B[0m                                Traceback (most recent call last)",
      "Cell \u001B[1;32mIn[11], line 1\u001B[0m\n\u001B[1;32m----> 1\u001B[0m \u001B[43mqnn_simulator\u001B[49m\u001B[38;5;241;43m.\u001B[39;49m\u001B[43mfit\u001B[49m\u001B[43m(\u001B[49m\u001B[43mx_train\u001B[49m\u001B[43m,\u001B[49m\u001B[43m \u001B[49m\u001B[43my_train\u001B[49m\u001B[43m)\u001B[49m\n",
      "File \u001B[1;32m~\\SynologyDrive\\Development\\Bachelorarbeit\\squlearn\\src\\squlearn\\qnn\\base_qnn.py:186\u001B[0m, in \u001B[0;36mBaseQNN.fit\u001B[1;34m(self, X, y, weights)\u001B[0m\n\u001B[0;32m    184\u001B[0m \u001B[38;5;28mself\u001B[39m\u001B[38;5;241m.\u001B[39m_param_op \u001B[38;5;241m=\u001B[39m \u001B[38;5;28mself\u001B[39m\u001B[38;5;241m.\u001B[39mparam_op_ini\u001B[38;5;241m.\u001B[39mcopy()\n\u001B[0;32m    185\u001B[0m \u001B[38;5;28mself\u001B[39m\u001B[38;5;241m.\u001B[39m_is_fitted \u001B[38;5;241m=\u001B[39m \u001B[38;5;28;01mFalse\u001B[39;00m\n\u001B[1;32m--> 186\u001B[0m \u001B[38;5;28;43mself\u001B[39;49m\u001B[38;5;241;43m.\u001B[39;49m\u001B[43m_fit\u001B[49m\u001B[43m(\u001B[49m\u001B[43mX\u001B[49m\u001B[43m,\u001B[49m\u001B[43m \u001B[49m\u001B[43my\u001B[49m\u001B[43m,\u001B[49m\u001B[43m \u001B[49m\u001B[43mweights\u001B[49m\u001B[43m)\u001B[49m\n",
      "File \u001B[1;32m~\\SynologyDrive\\Development\\Bachelorarbeit\\squlearn\\src\\squlearn\\qnn\\qnnr.py:239\u001B[0m, in \u001B[0;36mQNNRegressor._fit\u001B[1;34m(self, X, y, weights)\u001B[0m\n\u001B[0;32m    237\u001B[0m \u001B[38;5;28;01mif\u001B[39;00m \u001B[38;5;28mself\u001B[39m\u001B[38;5;241m.\u001B[39mcallback \u001B[38;5;241m==\u001B[39m \u001B[38;5;124m\"\u001B[39m\u001B[38;5;124mpbar\u001B[39m\u001B[38;5;124m\"\u001B[39m:\n\u001B[0;32m    238\u001B[0m     \u001B[38;5;28mself\u001B[39m\u001B[38;5;241m.\u001B[39m_pbar \u001B[38;5;241m=\u001B[39m tqdm(total\u001B[38;5;241m=\u001B[39m\u001B[38;5;28mself\u001B[39m\u001B[38;5;241m.\u001B[39m_total_iterations, desc\u001B[38;5;241m=\u001B[39m\u001B[38;5;124m\"\u001B[39m\u001B[38;5;124mfit\u001B[39m\u001B[38;5;124m\"\u001B[39m, file\u001B[38;5;241m=\u001B[39msys\u001B[38;5;241m.\u001B[39mstdout)\n\u001B[1;32m--> 239\u001B[0m \u001B[38;5;28;43mself\u001B[39;49m\u001B[38;5;241;43m.\u001B[39;49m\u001B[43mpartial_fit\u001B[49m\u001B[43m(\u001B[49m\u001B[43mX\u001B[49m\u001B[43m,\u001B[49m\u001B[43m \u001B[49m\u001B[43my\u001B[49m\u001B[43m,\u001B[49m\u001B[43m \u001B[49m\u001B[43mweights\u001B[49m\u001B[43m)\u001B[49m\n",
      "File \u001B[1;32m~\\SynologyDrive\\Development\\Bachelorarbeit\\squlearn\\src\\squlearn\\qnn\\qnnr.py:208\u001B[0m, in \u001B[0;36mQNNRegressor.partial_fit\u001B[1;34m(self, X, y, weights)\u001B[0m\n\u001B[0;32m    206\u001B[0m \u001B[38;5;28;01melse\u001B[39;00m:\n\u001B[0;32m    207\u001B[0m     \u001B[38;5;28;01mif\u001B[39;00m \u001B[38;5;28mself\u001B[39m\u001B[38;5;241m.\u001B[39mopt_param_op:\n\u001B[1;32m--> 208\u001B[0m         \u001B[38;5;28mself\u001B[39m\u001B[38;5;241m.\u001B[39m_param, \u001B[38;5;28mself\u001B[39m\u001B[38;5;241m.\u001B[39m_param_op \u001B[38;5;241m=\u001B[39m \u001B[43mtrain\u001B[49m\u001B[43m(\u001B[49m\n\u001B[0;32m    209\u001B[0m \u001B[43m            \u001B[49m\u001B[38;5;28;43mself\u001B[39;49m\u001B[38;5;241;43m.\u001B[39;49m\u001B[43m_qnn\u001B[49m\u001B[43m,\u001B[49m\n\u001B[0;32m    210\u001B[0m \u001B[43m            \u001B[49m\u001B[43mX\u001B[49m\u001B[43m,\u001B[49m\n\u001B[0;32m    211\u001B[0m \u001B[43m            \u001B[49m\u001B[43my\u001B[49m\u001B[43m,\u001B[49m\n\u001B[0;32m    212\u001B[0m \u001B[43m            \u001B[49m\u001B[38;5;28;43mself\u001B[39;49m\u001B[38;5;241;43m.\u001B[39;49m\u001B[43m_param\u001B[49m\u001B[43m,\u001B[49m\n\u001B[0;32m    213\u001B[0m \u001B[43m            \u001B[49m\u001B[38;5;28;43mself\u001B[39;49m\u001B[38;5;241;43m.\u001B[39;49m\u001B[43m_param_op\u001B[49m\u001B[43m,\u001B[49m\n\u001B[0;32m    214\u001B[0m \u001B[43m            \u001B[49m\u001B[43mloss\u001B[49m\u001B[43m,\u001B[49m\n\u001B[0;32m    215\u001B[0m \u001B[43m            \u001B[49m\u001B[38;5;28;43mself\u001B[39;49m\u001B[38;5;241;43m.\u001B[39;49m\u001B[43moptimizer\u001B[49m\u001B[43m,\u001B[49m\n\u001B[0;32m    216\u001B[0m \u001B[43m            \u001B[49m\u001B[38;5;28;43mself\u001B[39;49m\u001B[38;5;241;43m.\u001B[39;49m\u001B[43mshot_control\u001B[49m\u001B[43m,\u001B[49m\n\u001B[0;32m    217\u001B[0m \u001B[43m            \u001B[49m\u001B[43mweights\u001B[49m\u001B[43m,\u001B[49m\n\u001B[0;32m    218\u001B[0m \u001B[43m            \u001B[49m\u001B[38;5;28;43;01mTrue\u001B[39;49;00m\u001B[43m,\u001B[49m\n\u001B[0;32m    219\u001B[0m \u001B[43m        \u001B[49m\u001B[43m)\u001B[49m\n\u001B[0;32m    220\u001B[0m     \u001B[38;5;28;01melse\u001B[39;00m:\n\u001B[0;32m    221\u001B[0m         \u001B[38;5;28mself\u001B[39m\u001B[38;5;241m.\u001B[39m_param \u001B[38;5;241m=\u001B[39m train(\n\u001B[0;32m    222\u001B[0m             \u001B[38;5;28mself\u001B[39m\u001B[38;5;241m.\u001B[39m_qnn,\n\u001B[0;32m    223\u001B[0m             X,\n\u001B[1;32m   (...)\u001B[0m\n\u001B[0;32m    231\u001B[0m             \u001B[38;5;28;01mFalse\u001B[39;00m,\n\u001B[0;32m    232\u001B[0m         )\n",
      "File \u001B[1;32m~\\SynologyDrive\\Development\\Bachelorarbeit\\squlearn\\src\\squlearn\\qnn\\training.py:364\u001B[0m, in \u001B[0;36mtrain\u001B[1;34m(qnn, input_values, ground_truth, param_ini, param_op_ini, loss, optimizer, shot_control, weights, opt_param_op)\u001B[0m\n\u001B[0;32m    351\u001B[0m     grad \u001B[38;5;241m=\u001B[39m np\u001B[38;5;241m.\u001B[39mconcatenate(\n\u001B[0;32m    352\u001B[0m         loss\u001B[38;5;241m.\u001B[39mgradient(\n\u001B[0;32m    353\u001B[0m             grad_values,\n\u001B[1;32m   (...)\u001B[0m\n\u001B[0;32m    360\u001B[0m         axis\u001B[38;5;241m=\u001B[39m\u001B[38;5;28;01mNone\u001B[39;00m,\n\u001B[0;32m    361\u001B[0m     )\n\u001B[0;32m    362\u001B[0m     \u001B[38;5;28;01mreturn\u001B[39;00m grad\n\u001B[1;32m--> 364\u001B[0m result \u001B[38;5;241m=\u001B[39m \u001B[43moptimizer\u001B[49m\u001B[38;5;241;43m.\u001B[39;49m\u001B[43mminimize\u001B[49m\u001B[43m(\u001B[49m\u001B[43m_fun\u001B[49m\u001B[43m,\u001B[49m\u001B[43m \u001B[49m\u001B[43mval_ini\u001B[49m\u001B[43m,\u001B[49m\u001B[43m \u001B[49m\u001B[43m_grad\u001B[49m\u001B[43m,\u001B[49m\u001B[43m \u001B[49m\u001B[43mbounds\u001B[49m\u001B[38;5;241;43m=\u001B[39;49m\u001B[38;5;28;43;01mNone\u001B[39;49;00m\u001B[43m)\u001B[49m\n\u001B[0;32m    366\u001B[0m \u001B[38;5;28;01mif\u001B[39;00m \u001B[38;5;28mhasattr\u001B[39m(result, \u001B[38;5;124m\"\u001B[39m\u001B[38;5;124mx\u001B[39m\u001B[38;5;124m\"\u001B[39m):\n\u001B[0;32m    367\u001B[0m     result \u001B[38;5;241m=\u001B[39m result\u001B[38;5;241m.\u001B[39mx\n",
      "File \u001B[1;32m~\\SynologyDrive\\Development\\Bachelorarbeit\\squlearn\\src\\squlearn\\optimizers\\sglbo.py:113\u001B[0m, in \u001B[0;36mSGLBO.minimize\u001B[1;34m(self, fun, x0, grad, bounds)\u001B[0m\n\u001B[0;32m    110\u001B[0m \u001B[38;5;28;01mwhile\u001B[39;00m \u001B[38;5;28mself\u001B[39m\u001B[38;5;241m.\u001B[39miteration \u001B[38;5;241m<\u001B[39m maxiter:\n\u001B[0;32m    111\u001B[0m     \u001B[38;5;66;03m# calculate the gradient\u001B[39;00m\n\u001B[0;32m    112\u001B[0m     fval \u001B[38;5;241m=\u001B[39m fun(\u001B[38;5;28mself\u001B[39m\u001B[38;5;241m.\u001B[39mx)\n\u001B[1;32m--> 113\u001B[0m     gradient \u001B[38;5;241m=\u001B[39m \u001B[43mgrad\u001B[49m\u001B[43m(\u001B[49m\u001B[38;5;28;43mself\u001B[39;49m\u001B[38;5;241;43m.\u001B[39;49m\u001B[43mx\u001B[49m\u001B[43m)\u001B[49m\n\u001B[0;32m    115\u001B[0m     x_updated \u001B[38;5;241m=\u001B[39m \u001B[38;5;28mself\u001B[39m\u001B[38;5;241m.\u001B[39mstep(x\u001B[38;5;241m=\u001B[39m\u001B[38;5;28mself\u001B[39m\u001B[38;5;241m.\u001B[39mx, grad\u001B[38;5;241m=\u001B[39mgradient)\n\u001B[0;32m    117\u001B[0m     \u001B[38;5;66;03m# check termination\u001B[39;00m\n",
      "File \u001B[1;32m~\\SynologyDrive\\Development\\Bachelorarbeit\\squlearn\\src\\squlearn\\qnn\\training.py:320\u001B[0m, in \u001B[0;36mtrain.<locals>._grad\u001B[1;34m(theta)\u001B[0m\n\u001B[0;32m    317\u001B[0m     iteration \u001B[38;5;241m=\u001B[39m \u001B[38;5;28;01mNone\u001B[39;00m\n\u001B[0;32m    319\u001B[0m \u001B[38;5;28;01mwith\u001B[39;00m \u001B[38;5;28mopen\u001B[39m(\u001B[38;5;124m\"\u001B[39m\u001B[38;5;124msglbo_noiseless_params2.log\u001B[39m\u001B[38;5;124m\"\u001B[39m, \u001B[38;5;124m'\u001B[39m\u001B[38;5;124ma\u001B[39m\u001B[38;5;124m'\u001B[39m) \u001B[38;5;28;01mas\u001B[39;00m datei:\n\u001B[1;32m--> 320\u001B[0m     datei\u001B[38;5;241m.\u001B[39mwrite(\u001B[38;5;124mf\u001B[39m\u001B[38;5;124m'\u001B[39m\u001B[38;5;132;01m{\u001B[39;00mtheta[\u001B[38;5;241m0\u001B[39m]\u001B[38;5;132;01m}\u001B[39;00m\u001B[38;5;124m    \u001B[39m\u001B[38;5;132;01m{\u001B[39;00mtheta[\u001B[38;5;241m1\u001B[39m]\u001B[38;5;132;01m}\u001B[39;00m\u001B[38;5;130;01m\\n\u001B[39;00m\u001B[38;5;124m'\u001B[39m)\n\u001B[0;32m    322\u001B[0m \u001B[38;5;66;03m# Splitting theta in the arrays\u001B[39;00m\n\u001B[0;32m    323\u001B[0m \u001B[38;5;28;01mif\u001B[39;00m opt_param_op:\n",
      "\u001B[1;31mIndexError\u001B[0m: index 1 is out of bounds for axis 0 with size 1"
     ]
    }
   ],
   "source": [
    "qnn_simulator.fit(x_train, y_train)"
   ]
  },
  {
   "cell_type": "code",
   "execution_count": null,
   "metadata": {
    "ExecuteTime": {
     "start_time": "2023-11-28T14:13:13.802082700Z"
    }
   },
   "outputs": [],
   "source": [
    "qnn_simulator.param"
   ]
  },
  {
   "cell_type": "code",
   "execution_count": null,
   "metadata": {
    "ExecuteTime": {
     "end_time": "2023-11-28T14:13:13.822087900Z",
     "start_time": "2023-11-28T14:13:13.811078200Z"
    }
   },
   "outputs": [],
   "source": [
    "qnn_simulator.param_op"
   ]
  },
  {
   "cell_type": "code",
   "execution_count": null,
   "metadata": {
    "ExecuteTime": {
     "start_time": "2023-11-28T14:13:13.820118800Z"
    }
   },
   "outputs": [],
   "source": [
    "evaluate_loss([qnn_simulator.param,qnn_simulator.param_op], qnn_simulator, x_train, y_train)"
   ]
  },
  {
   "cell_type": "code",
   "execution_count": null,
   "metadata": {
    "ExecuteTime": {
     "start_time": "2023-11-28T14:13:13.828125500Z"
    }
   },
   "outputs": [],
   "source": [
    "x = np.arange(np.min(x_train), np.max(x_train) + 0.01, 0.01)\n",
    "y = qnn_simulator.predict(x)  # function for evaluating the prediction of the QNN\n",
    "plt.plot(x, np.sin(6.0*x), label=\"Parabola function\")\n",
    "plt.plot(x, y, label=\"QNN inference\")\n",
    "plt.plot(x_train, y_train, \"x\", label=\"training data\")\n",
    "plt.legend()\n",
    "plt.title(\"QNN inference of a parabola function\")\n",
    "plt.show()"
   ]
  },
  {
   "cell_type": "code",
   "execution_count": null,
   "metadata": {
    "ExecuteTime": {
     "start_time": "2023-11-28T14:13:13.836080200Z"
    }
   },
   "outputs": [],
   "source": [
    "# Lese die Optimierungskoordinaten aus der Datei \"params.log\"\n",
    "optimization_data = np.loadtxt(\"sglbo_noiseless_params2.log\")\n",
    "optimization_x = optimization_data[:, 0]\n",
    "optimization_y = optimization_data[:, 1]\n",
    "\n",
    "# plot the decision function for each datapoint on the grid\n",
    "xx, yy = np.meshgrid(np.linspace(-3, 3, 50), np.linspace(-1, 15, 50))\n",
    "Z = []\n",
    "for i in range(len(xx)):\n",
    "    for j in range(len(xx[i])):\n",
    "        param = np.array([xx[i][j], yy[i][j]])\n",
    "        Z.append(evaluate_loss(param, qnn_simulator, x_train, y_train))\n",
    "\n",
    "Z = np.array(Z)\n",
    "Z = Z.reshape(xx.shape)\n",
    "#norm = mpl.colors.Normalize(vmin=-max(abs(np.min(Z)),abs(np.max(Z))), vmax=max(abs(np.min(Z)),abs(np.max(Z))))\n",
    "im = plt.imshow(\n",
    "    Z,\n",
    "    interpolation=\"bilinear\",\n",
    "    extent=(xx.min(), xx.max(), yy.min(), yy.max()),\n",
    "    aspect=\"auto\",\n",
    "    origin=\"lower\",\n",
    "    cmap=plt.cm.PuOr_r,\n",
    "    #norm=norm\n",
    ")\n",
    "\n",
    "# Verbinde die Punkte im Scatter Plot mit einer Linie\n",
    "plt.plot(optimization_x, optimization_y, c='red', linestyle='-', linewidth=2, label='Convergence Line')\n",
    "\n",
    "# Plot backtransformed hyperplane\n",
    "contours = plt.contour(xx, yy, Z, levels=[0,0.5,1,2,3,4,5,6,7], linewidths=2, linestyles=\"dashed\")\n",
    "\n",
    "# Plot training data\n",
    "plt.axis([-3, 3, -1, 15])\n",
    "plt.xlabel('X-Axis')\n",
    "plt.ylabel('Y-Axis')\n",
    "plt.title('Contour Plot with Optimization Path')\n",
    "plt.legend()\n",
    "plt.show()"
   ]
  }
 ],
 "metadata": {
  "interpreter": {
   "hash": "26de051ba29f2982a8de78e945f0abaf191376122a1563185a90213a26c5da77"
  },
  "kernelspec": {
   "display_name": "Python 3.10.2 64-bit",
   "language": "python",
   "name": "python3"
  },
  "language_info": {
   "codemirror_mode": {
    "name": "ipython",
    "version": 3
   },
   "file_extension": ".py",
   "mimetype": "text/x-python",
   "name": "python",
   "nbconvert_exporter": "python",
   "pygments_lexer": "ipython3",
   "version": "3.10.2"
  },
  "orig_nbformat": 4
 },
 "nbformat": 4,
 "nbformat_minor": 2
}
