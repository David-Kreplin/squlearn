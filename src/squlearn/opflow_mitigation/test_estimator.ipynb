{
 "cells": [
  {
   "cell_type": "code",
   "execution_count": 1,
   "metadata": {},
   "outputs": [],
   "source": [
    "from qiskit.quantum_info import SparsePauliOp\n",
    "from qiskit.circuit.random import random_circuit\n",
    "from qiskit.circuit import ParameterVector\n",
    "from qiskit.primitives import Estimator,Sampler\n",
    "from squlearn.util.optree import (OpTreeLeafExpectationValue,gen_expectation_tree,\n",
    "    evaluate_sampler,\n",
    "    evaluate_estimator,\n",
    "    evaluate_expectation_tree_from_estimator,\n",
    "    evaluate_expectation_tree_from_sampler,\n",
    "    OpTreeNodeList,\n",
    "    OpTreeNodeSum\n",
    "    )\n",
    "from squlearn.util.optree import transform_to_zbasis"
   ]
  },
  {
   "cell_type": "code",
   "execution_count": 2,
   "metadata": {},
   "outputs": [
    {
     "data": {
      "text/plain": [
       "array([1.05001977, 1.25890294])"
      ]
     },
     "execution_count": 2,
     "metadata": {},
     "output_type": "execute_result"
    }
   ],
   "source": [
    "\n",
    "circuit1 = random_circuit(2, 2, seed=2).decompose(reps=1)\n",
    "circuit2= random_circuit(2, 2, seed=0).decompose(reps=1)\n",
    "x = ParameterVector(\"x\", 2)\n",
    "circuit = OpTreeNodeList([circuit1,circuit2])\n",
    "observable1 = SparsePauliOp([\"IZ\", \"ZI\"], [x[0], x[1]])\n",
    "observable2 = SparsePauliOp([\"II\", \"ZZ\"], [x[0], x[1]])\n",
    "observable = OpTreeNodeSum([observable1,observable2])\n",
    "\n",
    "\n",
    "expectation_tree = gen_expectation_tree(circuit, observable)\n",
    "\n",
    "evaluate_estimator(circuit, observable,{},{x[0]: 1.0, x[1]: 0.5}, Estimator())"
   ]
  },
  {
   "cell_type": "code",
   "execution_count": 3,
   "metadata": {},
   "outputs": [
    {
     "data": {
      "text/plain": [
       "array([1.05001977, 1.25890294])"
      ]
     },
     "execution_count": 3,
     "metadata": {},
     "output_type": "execute_result"
    }
   ],
   "source": [
    "evaluate_sampler(circuit, observable,{},{x[0]: 1.0, x[1]: 0.5}, Sampler())"
   ]
  },
  {
   "cell_type": "code",
   "execution_count": 4,
   "metadata": {},
   "outputs": [
    {
     "data": {
      "text/plain": [
       "array([1.05001977, 1.25890294])"
      ]
     },
     "execution_count": 4,
     "metadata": {},
     "output_type": "execute_result"
    }
   ],
   "source": [
    "evaluate_expectation_tree_from_estimator(expectation_tree,{x[0]: 1.0, x[1]: 0.5}, Estimator())"
   ]
  },
  {
   "cell_type": "code",
   "execution_count": 5,
   "metadata": {},
   "outputs": [
    {
     "data": {
      "text/plain": [
       "array([1.05001977, 1.25890294])"
      ]
     },
     "execution_count": 5,
     "metadata": {},
     "output_type": "execute_result"
    }
   ],
   "source": [
    "evaluate_expectation_tree_from_sampler(expectation_tree,{x[0]: 1.0, x[1]: 0.5}, Sampler())"
   ]
  },
  {
   "cell_type": "code",
   "execution_count": 6,
   "metadata": {},
   "outputs": [],
   "source": [
    "observable = OpTreeNodeSum([SparsePauliOp([\"XZ\", \"ZX\"], [x[0], x[1]]),SparsePauliOp([\"XY\", \"YY\"], [x[0], x[1]])])"
   ]
  },
  {
   "cell_type": "code",
   "execution_count": 7,
   "metadata": {},
   "outputs": [
    {
     "data": {
      "text/plain": [
       "array([-0.28060059, -0.42672923])"
      ]
     },
     "execution_count": 7,
     "metadata": {},
     "output_type": "execute_result"
    }
   ],
   "source": [
    "evaluate_estimator(circuit, observable,{},{x[0]: 1.0, x[1]: 0.5}, Estimator())"
   ]
  },
  {
   "cell_type": "code",
   "execution_count": 8,
   "metadata": {},
   "outputs": [],
   "source": [
    "\n",
    "try:\n",
    "    evaluate_sampler(circuit, observable,{},{x[0]: 1.0, x[1]: 0.5}, Sampler())\n",
    "except:\n",
    "    pass"
   ]
  },
  {
   "cell_type": "code",
   "execution_count": 9,
   "metadata": {},
   "outputs": [
    {
     "data": {
      "text/plain": [
       "array([-0.28060059, -0.42672923])"
      ]
     },
     "execution_count": 9,
     "metadata": {},
     "output_type": "execute_result"
    }
   ],
   "source": [
    "\n",
    "observable_z=transform_to_zbasis(observable)\n",
    "evaluate_sampler(circuit, observable_z,{},{x[0]: 1.0, x[1]: 0.5}, Sampler())"
   ]
  },
  {
   "cell_type": "code",
   "execution_count": 10,
   "metadata": {},
   "outputs": [
    {
     "data": {
      "text/plain": [
       "array([-0.28060059, -0.42672923])"
      ]
     },
     "execution_count": 10,
     "metadata": {},
     "output_type": "execute_result"
    }
   ],
   "source": [
    "expectation_tree = gen_expectation_tree(circuit, observable)\n",
    "evaluate_expectation_tree_from_estimator(expectation_tree,{x[0]: 1.0, x[1]: 0.5}, Estimator())"
   ]
  },
  {
   "cell_type": "code",
   "execution_count": 11,
   "metadata": {},
   "outputs": [
    {
     "ename": "ValueError",
     "evalue": "Observable only with Z and I Paulis are supported, run transform_to_zbasis first",
     "output_type": "error",
     "traceback": [
      "\u001b[1;31m---------------------------------------------------------------------------\u001b[0m",
      "\u001b[1;31mValueError\u001b[0m                                Traceback (most recent call last)",
      "\u001b[1;32mc:\\Users\\DKR\\Documents\\Git Repositories\\squlearn_fork\\squlearn\\src\\squlearn\\opflow_mitigation\\test_estimator.ipynb Cell 11\u001b[0m in \u001b[0;36m<cell line: 1>\u001b[1;34m()\u001b[0m\n\u001b[1;32m----> <a href='vscode-notebook-cell:/c%3A/Users/DKR/Documents/Git%20Repositories/squlearn_fork/squlearn/src/squlearn/opflow_mitigation/test_estimator.ipynb#X22sZmlsZQ%3D%3D?line=0'>1</a>\u001b[0m evaluate_expectation_tree_from_sampler(expectation_tree,{x[\u001b[39m0\u001b[39;49m]: \u001b[39m1.0\u001b[39;49m, x[\u001b[39m1\u001b[39;49m]: \u001b[39m0.5\u001b[39;49m}, Sampler())\n",
      "File \u001b[1;32m~\\Documents\\Git Repositories\\squlearn_fork\\squlearn\\src\\squlearn\\util\\optree\\optree_evaluate.py:1228\u001b[0m, in \u001b[0;36mevaluate_expectation_tree_from_sampler\u001b[1;34m(expectation_tree, dictionary, sampler, detect_duplicates)\u001b[0m\n\u001b[0;32m   1224\u001b[0m \u001b[39m# print(\"Sampler run time: \", time.time() - start)\u001b[39;00m\n\u001b[0;32m   1225\u001b[0m \n\u001b[0;32m   1226\u001b[0m \u001b[39m# Computation of the expectation values from the sampler results\u001b[39;00m\n\u001b[0;32m   1227\u001b[0m start \u001b[39m=\u001b[39m time\u001b[39m.\u001b[39mtime()\n\u001b[1;32m-> 1228\u001b[0m expec \u001b[39m=\u001b[39m _evaluate_expectation_from_sampler(\n\u001b[0;32m   1229\u001b[0m     total_operator_list, sampler_result, operator_measurement_list\u001b[39m=\u001b[39;49mtotal_circuit_operator_list\n\u001b[0;32m   1230\u001b[0m )\n\u001b[0;32m   1232\u001b[0m \u001b[39m# Final assembly of the results\u001b[39;00m\n\u001b[0;32m   1233\u001b[0m result \u001b[39m=\u001b[39m _evaluate_index_tree(evaluation_tree, expec)\n",
      "File \u001b[1;32m~\\Documents\\Git Repositories\\squlearn_fork\\squlearn\\src\\squlearn\\util\\optree\\optree_evaluate.py:669\u001b[0m, in \u001b[0;36m_evaluate_expectation_from_sampler\u001b[1;34m(operator, results, operator_measurement_list, offset)\u001b[0m\n\u001b[0;32m    667\u001b[0m \u001b[39mfor\u001b[39;00m p \u001b[39min\u001b[39;00m op_pauli_list:\n\u001b[0;32m    668\u001b[0m     \u001b[39mif\u001b[39;00m p\u001b[39m.\u001b[39mx\u001b[39m.\u001b[39many():\n\u001b[1;32m--> 669\u001b[0m         \u001b[39mraise\u001b[39;00m \u001b[39mValueError\u001b[39;00m(\u001b[39m\"\u001b[39m\u001b[39mObservable only with Z and I Paulis are supported, \u001b[39m\u001b[39m\"\u001b[39m \u001b[39m+\u001b[39m\n\u001b[0;32m    670\u001b[0m                          \u001b[39m\"\u001b[39m\u001b[39mrun transform_to_zbasis first\u001b[39m\u001b[39m\"\u001b[39m)\n\u001b[0;32m    672\u001b[0m \u001b[39m# If no measurement is present, create one where every circuit is connected to all\u001b[39;00m\n\u001b[0;32m    673\u001b[0m \u001b[39m# operators\u001b[39;00m\n\u001b[0;32m    674\u001b[0m \u001b[39mif\u001b[39;00m operator_measurement_list \u001b[39mis\u001b[39;00m \u001b[39mNone\u001b[39;00m:\n",
      "\u001b[1;31mValueError\u001b[0m: Observable only with Z and I Paulis are supported, run transform_to_zbasis first"
     ]
    }
   ],
   "source": [
    "evaluate_expectation_tree_from_sampler(expectation_tree,{x[0]: 1.0, x[1]: 0.5}, Sampler())"
   ]
  },
  {
   "cell_type": "code",
   "execution_count": null,
   "metadata": {},
   "outputs": [],
   "source": [
    "expectation_tree_z=transform_to_zbasis(expectation_tree)\n",
    "evaluate_expectation_tree_from_sampler(expectation_tree_z,{x[0]: 1.0, x[1]: 0.5}, Sampler())"
   ]
  }
 ],
 "metadata": {
  "kernelspec": {
   "display_name": "Python 3",
   "language": "python",
   "name": "python3"
  },
  "language_info": {
   "codemirror_mode": {
    "name": "ipython",
    "version": 3
   },
   "file_extension": ".py",
   "mimetype": "text/x-python",
   "name": "python",
   "nbconvert_exporter": "python",
   "pygments_lexer": "ipython3",
   "version": "3.10.2"
  },
  "orig_nbformat": 4
 },
 "nbformat": 4,
 "nbformat_minor": 2
}
