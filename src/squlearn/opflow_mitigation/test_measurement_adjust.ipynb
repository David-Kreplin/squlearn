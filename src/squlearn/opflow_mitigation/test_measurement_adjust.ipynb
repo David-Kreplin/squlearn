{
 "cells": [
  {
   "cell_type": "code",
   "execution_count": 1,
   "metadata": {},
   "outputs": [
    {
     "data": {
      "text/plain": [
       "<qiskit.circuit.instructionset.InstructionSet at 0x1971037dab0>"
      ]
     },
     "execution_count": 1,
     "metadata": {},
     "output_type": "execute_result"
    }
   ],
   "source": [
    "from qiskit.circuit.random import random_circuit\n",
    "from qiskit.quantum_info import SparsePauliOp\n",
    "from qiskit import QuantumCircuit\n",
    "\n",
    "from qiskit.primitives import BackendEstimator,Estimator,Sampler\n",
    "from qiskit import Aer\n",
    "\n",
    "from squlearn.util.optree import *\n",
    "from squlearn.util.optree.optree import *\n",
    "from squlearn.util.optree.optree_derivative import *\n",
    "from squlearn.util.optree.optree_evaluate import *\n",
    "\n",
    "#circuit = random_circuit(4, 2, seed=12)\n",
    "#circuit.draw()\n",
    "\n",
    "pqc_param = ParameterVector('θ', 4)\n",
    "\n",
    "circuit = QuantumCircuit(4)\n",
    "circuit.h([0,1,2,3])\n",
    "circuit.u(0.5,0.5,0.5,[0,1,2,3])\n",
    "circuit.cx(0,1)\n",
    "circuit.cx(2,3)\n",
    "circuit.cx(1,2)\n",
    "\n",
    "circuit2 = circuit.copy()\n",
    "\n",
    "circuit.ry(pqc_param[0],0)\n",
    "circuit.ry(pqc_param[1],1)\n",
    "circuit.ry(pqc_param[2],2)\n",
    "circuit.ry(pqc_param[3],3)\n",
    "circuit.draw()\n",
    "\n",
    "circuit2.rx(pqc_param[0],0)\n",
    "circuit2.rx(pqc_param[1],1)\n",
    "circuit2.rx(pqc_param[2],2)\n",
    "circuit2.rx(pqc_param[3],3)\n",
    "\n"
   ]
  },
  {
   "cell_type": "code",
   "execution_count": 2,
   "metadata": {},
   "outputs": [],
   "source": [
    "param1 = {pqc_param[0]:0.5,pqc_param[1]:0.5,pqc_param[2]:0.5,pqc_param[3]:0.5}\n",
    "param2 = {pqc_param[0]:0.15,pqc_param[1]:0.15,pqc_param[2]:0.85,pqc_param[3]:0.95}\n"
   ]
  },
  {
   "cell_type": "code",
   "execution_count": 3,
   "metadata": {},
   "outputs": [],
   "source": [
    "op_param = ParameterVector('p',3)\n",
    "op = SparsePauliOp([\"XXXX\",\"YYYY\",\"IIYY\"],[op_param[0],op_param[1],op_param[2]])\n",
    "op_dict1={op_param[0]:0.5,op_param[1]:0.5,op_param[2]:0.5}\n",
    "op_dict2={op_param[0]:0.25,op_param[1]:0.25,op_param[2]:0.25}"
   ]
  },
  {
   "cell_type": "code",
   "execution_count": 4,
   "metadata": {},
   "outputs": [],
   "source": [
    "op.num_qubits\n",
    "op_clean = SparsePauliOp([\"ZZZZ\",\"ZZZI\",\"IIZZ\"],[op_param[0],op_param[1],op_param[2]])\n",
    "op_clean_param=ParameterVector('p',3)\n",
    "op_clean_dict1={op_clean_param[0]:0.5,op_clean_param[1]:0.2,op_clean_param[2]:0.3}\n",
    "op_clean_dict2={op_clean_param[0]:0.12,op_clean_param[1]:0.8,op_clean_param[2]:-0.3}"
   ]
  },
  {
   "cell_type": "code",
   "execution_count": 5,
   "metadata": {},
   "outputs": [],
   "source": [
    "opdic1 = copy.copy(op_dict1)\n",
    "opdic1.update(op_clean_dict1)\n",
    "\n",
    "opdic2 = copy.copy(op_dict2)\n",
    "opdic2.update(op_clean_dict2)\n"
   ]
  },
  {
   "cell_type": "code",
   "execution_count": 6,
   "metadata": {},
   "outputs": [
    {
     "name": "stdout",
     "output_type": "stream",
     "text": [
      "(1.0*\n",
      "     ┌───┐┌─┐         \n",
      "q_0: ┤ H ├┤M├─────────\n",
      "     ├───┤└╥┘┌─┐      \n",
      "q_1: ┤ H ├─╫─┤M├──────\n",
      "     ├───┤ ║ └╥┘┌─┐   \n",
      "q_2: ┤ H ├─╫──╫─┤M├───\n",
      "     ├───┤ ║  ║ └╥┘┌─┐\n",
      "q_3: ┤ H ├─╫──╫──╫─┤M├\n",
      "     └───┘ ║  ║  ║ └╥┘\n",
      "c: 4/══════╩══╩══╩══╩═\n",
      "           0  1  2  3 \n",
      "\n",
      " with observable \n",
      "SparsePauliOp(['ZZZZ'],\n",
      "              coeffs=[ParameterExpression(1.0*p[0])])\n",
      " + 1.0*\n",
      "     ┌─────┐┌───┐┌─┐         \n",
      "q_0: ┤ Sdg ├┤ H ├┤M├─────────\n",
      "     ├─────┤├───┤└╥┘┌─┐      \n",
      "q_1: ┤ Sdg ├┤ H ├─╫─┤M├──────\n",
      "     ├─────┤├───┤ ║ └╥┘┌─┐   \n",
      "q_2: ┤ Sdg ├┤ H ├─╫──╫─┤M├───\n",
      "     ├─────┤├───┤ ║  ║ └╥┘┌─┐\n",
      "q_3: ┤ Sdg ├┤ H ├─╫──╫──╫─┤M├\n",
      "     └─────┘└───┘ ║  ║  ║ └╥┘\n",
      "c: 4/═════════════╩══╩══╩══╩═\n",
      "                  0  1  2  3 \n",
      "\n",
      " with observable \n",
      "SparsePauliOp(['ZZZZ', 'IIZZ'],\n",
      "              coeffs=[ParameterExpression(1.0*p[1]), ParameterExpression(1.0*p[2])])\n",
      ")\n"
     ]
    }
   ],
   "source": [
    "test = transform_operator_to_zbasis(op)\n",
    "print(test)"
   ]
  },
  {
   "cell_type": "code",
   "execution_count": 7,
   "metadata": {},
   "outputs": [
    {
     "name": "stdout",
     "output_type": "stream",
     "text": [
      "(1.0*\n",
      "     ┌───┐┌────────────────┐     ┌──────────┐   ┌───┐    ┌─┐           \n",
      "q_0: ┤ H ├┤ U(0.5,0.5,0.5) ├──■──┤ Ry(θ[0]) ├───┤ H ├────┤M├───────────\n",
      "     ├───┤├────────────────┤┌─┴─┐└──────────┘┌──┴───┴───┐└╥┘┌───┐┌─┐   \n",
      "q_1: ┤ H ├┤ U(0.5,0.5,0.5) ├┤ X ├─────■──────┤ Ry(θ[1]) ├─╫─┤ H ├┤M├───\n",
      "     ├───┤├────────────────┤└───┘   ┌─┴─┐    ├──────────┤ ║ ├───┤└╥┘┌─┐\n",
      "q_2: ┤ H ├┤ U(0.5,0.5,0.5) ├──■─────┤ X ├────┤ Ry(θ[2]) ├─╫─┤ H ├─╫─┤M├\n",
      "     ├───┤├────────────────┤┌─┴─┐┌──┴───┴───┐└──┬───┬───┘ ║ └┬─┬┘ ║ └╥┘\n",
      "q_3: ┤ H ├┤ U(0.5,0.5,0.5) ├┤ X ├┤ Ry(θ[3]) ├───┤ H ├─────╫──┤M├──╫──╫─\n",
      "     └───┘└────────────────┘└───┘└──────────┘   └───┘     ║  └╥┘  ║  ║ \n",
      "c: 4/═════════════════════════════════════════════════════╩═══╩═══╩══╩═\n",
      "                                                          0   3   1  2 \n",
      "\n",
      " with observable \n",
      "SparsePauliOp(['ZZZZ'],\n",
      "              coeffs=[ParameterExpression(1.0*p[0])])\n",
      " + 1.0*\n",
      "     ┌───┐┌────────────────┐     ┌──────────┐  ┌─────┐    ┌───┐ ┌─┐           \n",
      "q_0: ┤ H ├┤ U(0.5,0.5,0.5) ├──■──┤ Ry(θ[0]) ├──┤ Sdg ├────┤ H ├─┤M├───────────\n",
      "     ├───┤├────────────────┤┌─┴─┐└──────────┘┌─┴─────┴──┐┌┴───┴┐└╥┘┌───┐┌─┐   \n",
      "q_1: ┤ H ├┤ U(0.5,0.5,0.5) ├┤ X ├─────■──────┤ Ry(θ[1]) ├┤ Sdg ├─╫─┤ H ├┤M├───\n",
      "     ├───┤├────────────────┤└───┘   ┌─┴─┐    ├──────────┤├─────┤ ║ ├───┤└╥┘┌─┐\n",
      "q_2: ┤ H ├┤ U(0.5,0.5,0.5) ├──■─────┤ X ├────┤ Ry(θ[2]) ├┤ Sdg ├─╫─┤ H ├─╫─┤M├\n",
      "     ├───┤├────────────────┤┌─┴─┐┌──┴───┴───┐└─┬─────┬──┘└┬───┬┘ ║ └┬─┬┘ ║ └╥┘\n",
      "q_3: ┤ H ├┤ U(0.5,0.5,0.5) ├┤ X ├┤ Ry(θ[3]) ├──┤ Sdg ├────┤ H ├──╫──┤M├──╫──╫─\n",
      "     └───┘└────────────────┘└───┘└──────────┘  └─────┘    └───┘  ║  └╥┘  ║  ║ \n",
      "c: 4/════════════════════════════════════════════════════════════╩═══╩═══╩══╩═\n",
      "                                                                 0   3   1  2 \n",
      "\n",
      " with observable \n",
      "SparsePauliOp(['ZZZZ', 'IIZZ'],\n",
      "              coeffs=[ParameterExpression(1.0*p[1]), ParameterExpression(1.0*p[2])])\n",
      ")\n"
     ]
    }
   ],
   "source": [
    "print(gen_expectation_tree(circuit,test))"
   ]
  },
  {
   "cell_type": "markdown",
   "metadata": {},
   "source": []
  },
  {
   "cell_type": "code",
   "execution_count": 8,
   "metadata": {},
   "outputs": [
    {
     "name": "stdout",
     "output_type": "stream",
     "text": [
      "\n",
      "     ┌───┐┌────────────────┐     ┌──────────┐            \n",
      "q_0: ┤ H ├┤ U(0.5,0.5,0.5) ├──■──┤ Ry(θ[0]) ├────────────\n",
      "     ├───┤├────────────────┤┌─┴─┐└──────────┘┌──────────┐\n",
      "q_1: ┤ H ├┤ U(0.5,0.5,0.5) ├┤ X ├─────■──────┤ Ry(θ[1]) ├\n",
      "     ├───┤├────────────────┤└───┘   ┌─┴─┐    ├──────────┤\n",
      "q_2: ┤ H ├┤ U(0.5,0.5,0.5) ├──■─────┤ X ├────┤ Ry(θ[2]) ├\n",
      "     ├───┤├────────────────┤┌─┴─┐┌──┴───┴───┐└──────────┘\n",
      "q_3: ┤ H ├┤ U(0.5,0.5,0.5) ├┤ X ├┤ Ry(θ[3]) ├────────────\n",
      "     └───┘└────────────────┘└───┘└──────────┘            \n",
      "\n",
      " with observable \n",
      "SparsePauliOp(['XXXX', 'YYYY', 'IIYY'],\n",
      "              coeffs=[ParameterExpression(1.0*p[0]), ParameterExpression(1.0*p[1]),\n",
      " ParameterExpression(1.0*p[2])])\n",
      "\n"
     ]
    }
   ],
   "source": [
    "tree = OpTreeLeafExpectationValue(circuit,op)\n",
    "print(tree)"
   ]
  },
  {
   "cell_type": "code",
   "execution_count": 9,
   "metadata": {},
   "outputs": [
    {
     "name": "stdout",
     "output_type": "stream",
     "text": [
      "(1.0*\n",
      "     ┌───┐┌────────────────┐     ┌──────────┐   ┌───┐    ┌─┐           \n",
      "q_0: ┤ H ├┤ U(0.5,0.5,0.5) ├──■──┤ Ry(θ[0]) ├───┤ H ├────┤M├───────────\n",
      "     ├───┤├────────────────┤┌─┴─┐└──────────┘┌──┴───┴───┐└╥┘┌───┐┌─┐   \n",
      "q_1: ┤ H ├┤ U(0.5,0.5,0.5) ├┤ X ├─────■──────┤ Ry(θ[1]) ├─╫─┤ H ├┤M├───\n",
      "     ├───┤├────────────────┤└───┘   ┌─┴─┐    ├──────────┤ ║ ├───┤└╥┘┌─┐\n",
      "q_2: ┤ H ├┤ U(0.5,0.5,0.5) ├──■─────┤ X ├────┤ Ry(θ[2]) ├─╫─┤ H ├─╫─┤M├\n",
      "     ├───┤├────────────────┤┌─┴─┐┌──┴───┴───┐└──┬───┬───┘ ║ └┬─┬┘ ║ └╥┘\n",
      "q_3: ┤ H ├┤ U(0.5,0.5,0.5) ├┤ X ├┤ Ry(θ[3]) ├───┤ H ├─────╫──┤M├──╫──╫─\n",
      "     └───┘└────────────────┘└───┘└──────────┘   └───┘     ║  └╥┘  ║  ║ \n",
      "c: 4/═════════════════════════════════════════════════════╩═══╩═══╩══╩═\n",
      "                                                          0   3   1  2 \n",
      "\n",
      " with observable \n",
      "SparsePauliOp(['ZZZZ'],\n",
      "              coeffs=[ParameterExpression(1.0*p[0])])\n",
      " + 1.0*\n",
      "     ┌───┐┌────────────────┐     ┌──────────┐  ┌─────┐    ┌───┐ ┌─┐           \n",
      "q_0: ┤ H ├┤ U(0.5,0.5,0.5) ├──■──┤ Ry(θ[0]) ├──┤ Sdg ├────┤ H ├─┤M├───────────\n",
      "     ├───┤├────────────────┤┌─┴─┐└──────────┘┌─┴─────┴──┐┌┴───┴┐└╥┘┌───┐┌─┐   \n",
      "q_1: ┤ H ├┤ U(0.5,0.5,0.5) ├┤ X ├─────■──────┤ Ry(θ[1]) ├┤ Sdg ├─╫─┤ H ├┤M├───\n",
      "     ├───┤├────────────────┤└───┘   ┌─┴─┐    ├──────────┤├─────┤ ║ ├───┤└╥┘┌─┐\n",
      "q_2: ┤ H ├┤ U(0.5,0.5,0.5) ├──■─────┤ X ├────┤ Ry(θ[2]) ├┤ Sdg ├─╫─┤ H ├─╫─┤M├\n",
      "     ├───┤├────────────────┤┌─┴─┐┌──┴───┴───┐└─┬─────┬──┘└┬───┬┘ ║ └┬─┬┘ ║ └╥┘\n",
      "q_3: ┤ H ├┤ U(0.5,0.5,0.5) ├┤ X ├┤ Ry(θ[3]) ├──┤ Sdg ├────┤ H ├──╫──┤M├──╫──╫─\n",
      "     └───┘└────────────────┘└───┘└──────────┘  └─────┘    └───┘  ║  └╥┘  ║  ║ \n",
      "c: 4/════════════════════════════════════════════════════════════╩═══╩═══╩══╩═\n",
      "                                                                 0   3   1  2 \n",
      "\n",
      " with observable \n",
      "SparsePauliOp(['ZZZZ', 'IIZZ'],\n",
      "              coeffs=[ParameterExpression(1.0*p[1]), ParameterExpression(1.0*p[2])])\n",
      ")\n"
     ]
    }
   ],
   "source": [
    "adjust_tree = transform_tree_to_zbasis(tree,abelian_grouping=False)\n",
    "print(adjust_tree)"
   ]
  },
  {
   "cell_type": "code",
   "execution_count": 10,
   "metadata": {},
   "outputs": [
    {
     "name": "stdout",
     "output_type": "stream",
     "text": [
      "pre-processing 0.0009984970092773438\n",
      "run time 0.02800154685974121\n",
      "post processing 0.0\n"
     ]
    },
    {
     "data": {
      "text/plain": [
       "array([[[[-0.26725525, -0.06118615, -0.06118615],\n",
       "         [-0.25791181,  0.0742432 ,  0.0742432 ]],\n",
       "\n",
       "        [[-0.13362763, -0.03059308, -0.03059308],\n",
       "         [-0.1289559 ,  0.0371216 ,  0.0371216 ]]],\n",
       "\n",
       "\n",
       "       [[[-0.17570876, -0.22534089, -0.22534089],\n",
       "         [-0.06085567, -0.00219049, -0.00219049]],\n",
       "\n",
       "        [[-0.08785438, -0.11267045, -0.11267045],\n",
       "         [-0.03042783, -0.00109525, -0.00109525]]]])"
      ]
     },
     "execution_count": 10,
     "metadata": {},
     "output_type": "execute_result"
    }
   ],
   "source": [
    "evaluate_estimator(OpTreeNodeList([circuit,circuit2]),OpTreeNodeList([op,op_clean,op_clean]),[param1,param2],[opdic1,opdic2],Estimator(),dictionaries_combined=False)"
   ]
  },
  {
   "cell_type": "markdown",
   "metadata": {},
   "source": []
  },
  {
   "cell_type": "code",
   "execution_count": 11,
   "metadata": {},
   "outputs": [
    {
     "name": "stdout",
     "output_type": "stream",
     "text": [
      "post processing 0.0019979476928710938\n",
      "len(total_circuit_list) 6\n",
      "sampler run time 0.018000125885009766\n",
      "resort_list [[[0], [1], [2]], [[0], [1], [2]]]\n",
      "offset 0\n",
      "post processing 0.0019979476928710938\n"
     ]
    },
    {
     "data": {
      "text/plain": [
       "array([[-0.26725525, -0.06118615, -0.06118615],\n",
       "       [-0.25791181,  0.0742432 ,  0.0742432 ]])"
      ]
     },
     "execution_count": 11,
     "metadata": {},
     "output_type": "execute_result"
    }
   ],
   "source": [
    "evaluate_sampler_v2(OpTreeNodeList([circuit,circuit2]),OpTreeNodeList([test,op_clean,op_clean]),param1,opdic1,Sampler(),dictionaries_combined=False)"
   ]
  },
  {
   "cell_type": "code",
   "execution_count": 12,
   "metadata": {},
   "outputs": [
    {
     "name": "stdout",
     "output_type": "stream",
     "text": [
      "post processing 0.0010006427764892578\n",
      "len(total_circuit_list) 6\n",
      "sampler run time 0.01800704002380371\n",
      "resort_list [[[0], [1], [2]], [[0], [1], [2]]]\n",
      "offset 0\n",
      "post processing 0.0020215511322021484\n"
     ]
    },
    {
     "data": {
      "text/plain": [
       "array([[-0.08785438, -0.11267045, -0.11267045],\n",
       "       [-0.03042783, -0.00109525, -0.00109525]])"
      ]
     },
     "execution_count": 12,
     "metadata": {},
     "output_type": "execute_result"
    }
   ],
   "source": [
    "evaluate_sampler_v2(OpTreeNodeList([circuit,circuit2]),OpTreeNodeList([test,op_clean,op_clean]),param2,opdic2,Sampler(),dictionaries_combined=False)"
   ]
  },
  {
   "cell_type": "code",
   "execution_count": 13,
   "metadata": {},
   "outputs": [
    {
     "name": "stdout",
     "output_type": "stream",
     "text": [
      "post processing 0.0029993057250976562\n",
      "len(total_circuit_list) 12\n",
      "sampler run time 0.03100275993347168\n",
      "resort_list [[[0], [1], [2]], [[0], [1], [2]], [[0], [1], [2]], [[0], [1], [2]]]\n",
      "offset 0\n",
      "resort_list [[[0], [1], [2]], [[0], [1], [2]], [[0], [1], [2]], [[0], [1], [2]]]\n",
      "offset 0\n",
      "post processing 0.0039975643157958984\n"
     ]
    },
    {
     "data": {
      "text/plain": [
       "array([[[[-0.26725525, -0.06118615, -0.06118615],\n",
       "         [-0.25791181,  0.0742432 ,  0.0742432 ]],\n",
       "\n",
       "        [[-0.13362763, -0.03059308, -0.03059308],\n",
       "         [-0.1289559 ,  0.0371216 ,  0.0371216 ]]],\n",
       "\n",
       "\n",
       "       [[[-0.17570876, -0.22534089, -0.22534089],\n",
       "         [-0.06085567, -0.00219049, -0.00219049]],\n",
       "\n",
       "        [[-0.08785438, -0.11267045, -0.11267045],\n",
       "         [-0.03042783, -0.00109525, -0.00109525]]]])"
      ]
     },
     "execution_count": 13,
     "metadata": {},
     "output_type": "execute_result"
    }
   ],
   "source": [
    "evaluate_sampler_v2(OpTreeNodeList([circuit,circuit2]),OpTreeNodeList([test,op_clean,op_clean]),[param1,param2],[opdic1,opdic2],Sampler(),dictionaries_combined=False)"
   ]
  },
  {
   "cell_type": "code",
   "execution_count": 14,
   "metadata": {},
   "outputs": [
    {
     "name": "stdout",
     "output_type": "stream",
     "text": [
      "post processing 0.07400107383728027\n",
      "len(total_circuit_list) 12\n",
      "sampler run time 0.027003049850463867\n",
      "resort_list [[[0], [1], [2]], [[0], [1], [2]]]\n",
      "offset 0\n",
      "resort_list [[[0], [1], [2]], [[0], [1], [2]]]\n",
      "offset 6\n",
      "post processing 0.002997159957885742\n"
     ]
    },
    {
     "data": {
      "text/plain": [
       "array([[[-0.26725525, -0.06118615, -0.06118615],\n",
       "        [-0.25791181,  0.0742432 ,  0.0742432 ]],\n",
       "\n",
       "       [[-0.08785438, -0.11267045, -0.11267045],\n",
       "        [-0.03042783, -0.00109525, -0.00109525]]])"
      ]
     },
     "execution_count": 14,
     "metadata": {},
     "output_type": "execute_result"
    }
   ],
   "source": [
    "evaluate_sampler_v2(OpTreeNodeList([circuit,circuit2]),OpTreeNodeList([test,op_clean,op_clean]),[param1,param2],[opdic1,opdic2],Sampler(),dictionaries_combined=True)"
   ]
  },
  {
   "cell_type": "code",
   "execution_count": 15,
   "metadata": {},
   "outputs": [],
   "source": [
    "#evaluate_expectation_tree_from_sampler(tree,{},Sampler())"
   ]
  },
  {
   "cell_type": "markdown",
   "metadata": {},
   "source": []
  },
  {
   "cell_type": "code",
   "execution_count": 16,
   "metadata": {},
   "outputs": [],
   "source": [
    "#evaluate_expectation_tree_from_estimator(tree,{},Estimator())"
   ]
  },
  {
   "cell_type": "code",
   "execution_count": 17,
   "metadata": {},
   "outputs": [],
   "source": [
    "# # Create a backend estimator\n",
    "# backend = Aer.get_backend('statevector_simulator')\n",
    "# estimator = BackendEstimator(backend=backend,options={'shots':1000000})\n",
    "\n",
    "# job = estimator.run(circuit,op)"
   ]
  },
  {
   "cell_type": "code",
   "execution_count": 18,
   "metadata": {},
   "outputs": [
    {
     "ename": "NameError",
     "evalue": "name 'job' is not defined",
     "output_type": "error",
     "traceback": [
      "\u001b[1;31m---------------------------------------------------------------------------\u001b[0m",
      "\u001b[1;31mNameError\u001b[0m                                 Traceback (most recent call last)",
      "\u001b[1;32mc:\\Users\\DKR\\Documents\\Git Repositories\\squlearn_fork\\squlearn\\src\\squlearn\\opflow_mitigation\\test_measurement_adjust.ipynb Cell 21\u001b[0m in \u001b[0;36m<cell line: 1>\u001b[1;34m()\u001b[0m\n\u001b[1;32m----> <a href='vscode-notebook-cell:/c%3A/Users/DKR/Documents/Git%20Repositories/squlearn_fork/squlearn/src/squlearn/opflow_mitigation/test_measurement_adjust.ipynb#X31sZmlsZQ%3D%3D?line=0'>1</a>\u001b[0m job\u001b[39m.\u001b[39mresult()\u001b[39m.\u001b[39mvalues\n",
      "\u001b[1;31mNameError\u001b[0m: name 'job' is not defined"
     ]
    }
   ],
   "source": [
    "#job.result().values"
   ]
  }
 ],
 "metadata": {
  "kernelspec": {
   "display_name": "Python 3",
   "language": "python",
   "name": "python3"
  },
  "language_info": {
   "codemirror_mode": {
    "name": "ipython",
    "version": 3
   },
   "file_extension": ".py",
   "mimetype": "text/x-python",
   "name": "python",
   "nbconvert_exporter": "python",
   "pygments_lexer": "ipython3",
   "version": "3.10.2"
  },
  "orig_nbformat": 4
 },
 "nbformat": 4,
 "nbformat_minor": 2
}
