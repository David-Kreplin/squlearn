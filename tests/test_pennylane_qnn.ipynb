{
 "cells": [
  {
   "cell_type": "code",
   "execution_count": 1,
   "metadata": {},
   "outputs": [
    {
     "name": "stdout",
     "output_type": "stream",
     "text": [
      "WARNING:tensorflow:From c:\\Users\\DKR\\Documents\\Git Repositories\\squlearn_fork\\squlearn\\.venv\\lib\\site-packages\\keras\\src\\losses.py:2976: The name tf.losses.sparse_softmax_cross_entropy is deprecated. Please use tf.compat.v1.losses.sparse_softmax_cross_entropy instead.\n",
      "\n"
     ]
    }
   ],
   "source": [
    "import numpy as np\n",
    "\n",
    "from squlearn.qnn.lowlevel_qnn_pennylane import LowLevelQNNPennyLane\n",
    "from squlearn.qnn.lowlevel_qnn_qiskit import LowLevelQNN\n",
    "\n",
    "from squlearn.encoding_circuit import HubregtsenEncodingCircuit\n",
    "from squlearn.observables import SummedPaulis\n",
    "\n",
    "from squlearn import Executor\n",
    "\n",
    "import pennylane as qml"
   ]
  },
  {
   "cell_type": "code",
   "execution_count": 2,
   "metadata": {},
   "outputs": [
    {
     "name": "stdout",
     "output_type": "stream",
     "text": [
      "SparsePauliOp(['IIII', 'IIIZ', 'IIZI', 'IZII', 'ZIII'],\n",
      "              coeffs=[ParameterExpression(1.0*p[0]), ParameterExpression(1.0*p[1]),\n",
      " ParameterExpression(1.0*p[2]), ParameterExpression(1.0*p[3]),\n",
      " ParameterExpression(1.0*p[4])])\n"
     ]
    }
   ],
   "source": [
    "obs = SummedPaulis(4)\n",
    "print(obs)"
   ]
  },
  {
   "cell_type": "code",
   "execution_count": 3,
   "metadata": {},
   "outputs": [
    {
     "name": "stderr",
     "output_type": "stream",
     "text": [
      "c:\\Users\\DKR\\Documents\\Git Repositories\\squlearn_fork\\squlearn\\.venv\\lib\\site-packages\\qiskit\\visualization\\circuit\\matplotlib.py:266: FutureWarning: The default matplotlib drawer scheme will be changed to \"iqp\" in a following release. To silence this warning, specify the current default explicitly as style=\"clifford\", or the new default as style=\"iqp\".\n",
      "  self._style, def_font_ratio = load_style(self._style)\n"
     ]
    },
    {
     "data": {
      "image/png": "[encoded data removed]",
      "text/plain": [
       "<Figure size 705.552x367.889 with 1 Axes>"
      ]
     },
     "execution_count": 3,
     "metadata": {},
     "output_type": "execute_result"
    }
   ],
   "source": [
    "pqc = HubregtsenEncodingCircuit(4,2)\n",
    "pqc.draw()"
   ]
  },
  {
   "cell_type": "code",
   "execution_count": 4,
   "metadata": {},
   "outputs": [],
   "source": [
    "np.random.seed(0)\n",
    "x_val = np.array([[0.5,0.6],[0.7,0.8]])\n",
    "p_val = np.random.random(pqc.num_parameters)\n",
    "op_val = np.random.random(obs.num_parameters)"
   ]
  },
  {
   "cell_type": "code",
   "execution_count": 5,
   "metadata": {},
   "outputs": [
    {
     "name": "stdout",
     "output_type": "stream",
     "text": [
      "self._pennylane_gates [<class 'pennylane.ops.qubit.non_parametric_ops.Hadamard'>, <class 'pennylane.ops.qubit.non_parametric_ops.Hadamard'>, <class 'pennylane.ops.qubit.non_parametric_ops.Hadamard'>, <class 'pennylane.ops.qubit.non_parametric_ops.Hadamard'>, <class 'pennylane.ops.qubit.parametric_ops_single_qubit.RZ'>, <class 'pennylane.ops.qubit.parametric_ops_single_qubit.RZ'>, <class 'pennylane.ops.qubit.parametric_ops_single_qubit.RZ'>, <class 'pennylane.ops.qubit.parametric_ops_single_qubit.RZ'>, <class 'pennylane.ops.qubit.parametric_ops_single_qubit.RY'>, <class 'pennylane.ops.qubit.parametric_ops_single_qubit.RY'>, <class 'pennylane.ops.qubit.parametric_ops_single_qubit.RY'>, <class 'pennylane.ops.qubit.parametric_ops_single_qubit.RY'>, <class 'pennylane.ops.qubit.parametric_ops_controlled.CRZ'>, <class 'pennylane.ops.qubit.parametric_ops_controlled.CRZ'>, <class 'pennylane.ops.qubit.parametric_ops_controlled.CRZ'>, <class 'pennylane.ops.qubit.parametric_ops_controlled.CRZ'>]\n",
      "self._pennylane_gates_param_function [None, None, None, None, (<function _lambdifygenerated at 0x0000027D2B930670>,), (<function _lambdifygenerated at 0x0000027D2BAB9630>,), (<function _lambdifygenerated at 0x0000027D2BABAE60>,), (<function _lambdifygenerated at 0x0000027D2BABADD0>,), (<function _lambdifygenerated at 0x0000027D2BAB8280>,), (<function _lambdifygenerated at 0x0000027D2BABBEB0>,), (<function _lambdifygenerated at 0x0000027D2BAB8430>,), (<function _lambdifygenerated at 0x0000027D2BABACB0>,), (<function _lambdifygenerated at 0x0000027D2BAB80D0>,), (<function _lambdifygenerated at 0x0000027D2BAB95A0>,), (<function _lambdifygenerated at 0x0000027D2BABBC70>,), (<function _lambdifygenerated at 0x0000027D2BABB910>,)]\n",
      "self._pennylane_gates_wires [[0], [1], [2], [3], [0], [1], [2], [3], [0], [1], [2], [3], [0, 1], [1, 2], [2, 3], [3, 0]]\n",
      "self._pennylane_gates_parameters ['param', 'x']\n",
      "self._pennylane_obs_param_function [<function _lambdifygenerated at 0x0000027D2BAB9EA0>, <function _lambdifygenerated at 0x0000027D2BABAD40>, <function _lambdifygenerated at 0x0000027D2BABB250>, <function _lambdifygenerated at 0x0000027D2BAB97E0>, <function _lambdifygenerated at 0x0000027D2BAB9990>]\n",
      "self._pennylane_words [Identity(wires=[0]), PauliZ(wires=[0]), PauliZ(wires=[1]), PauliZ(wires=[2]), PauliZ(wires=[3])]\n",
      "self._pennylane_obs_parameters ['param_obs']\n",
      "self._pennylane_gates_parameters ['param', 'x']\n"
     ]
    },
    {
     "data": {
      "text/plain": [
       "array([-0.14651873])"
      ]
     },
     "execution_count": 5,
     "metadata": {},
     "output_type": "execute_result"
    }
   ],
   "source": [
    "qnn = LowLevelQNNPennyLane(pqc,obs,None)\n",
    "qnn(x_val,p_val,op_val)"
   ]
  },
  {
   "cell_type": "code",
   "execution_count": 6,
   "metadata": {},
   "outputs": [],
   "source": [
    "#qml.draw_mpl(qnn._pennylane_circuit._pennylane_circuit)(x_val,p_val,op_val)"
   ]
  },
  {
   "cell_type": "code",
   "execution_count": 7,
   "metadata": {},
   "outputs": [
    {
     "data": {
      "text/plain": [
       "-0.1465187334757355"
      ]
     },
     "execution_count": 7,
     "metadata": {},
     "output_type": "execute_result"
    }
   ],
   "source": [
    "qnn_qiskit = LowLevelQNN(pqc,obs,Executor())\n",
    "qnn_qiskit(x_val,p_val,op_val)"
   ]
  },
  {
   "cell_type": "code",
   "execution_count": 10,
   "metadata": {},
   "outputs": [
    {
     "data": {
      "text/plain": [
       "{Expec(I,O,f): -0.1465187334757355,\n",
       " 'f': -0.1465187334757355,\n",
       " 'x': array([0.5, 0.6]),\n",
       " 'param': array([0.5488135 , 0.71518937, 0.60276338, 0.54488318, 0.4236548 ,\n",
       "        0.64589411, 0.43758721, 0.891773  ]),\n",
       " 'param_op': array([0.96366276, 0.38344152, 0.79172504, 0.52889492, 0.56804456]),\n",
       " Expec(I,dop,dfdop): array([ 1.        , -0.45781319, -0.54122241, -0.49752001, -0.42778647]),\n",
       " 'dfdop': array([ 1.        , -0.45781319, -0.54122241, -0.49752001, -0.42778647]),\n",
       " Expec(dp,O,dfdp): array([-2.87084343e-01, -4.93326141e-01, -3.82352984e-01, -4.00935500e-01,\n",
       "         0.00000000e+00, -6.24500451e-17,  0.00000000e+00, -1.04083409e-16]),\n",
       " Expec(dx,O,dfdx): array([0.23965219, 0.45939862]),\n",
       " 'dfdp': array([-2.87084343e-01, -4.93326141e-01, -3.82352984e-01, -4.00935500e-01,\n",
       "         0.00000000e+00, -6.24500451e-17,  0.00000000e+00, -1.04083409e-16]),\n",
       " 'dfdx': array([0.23965219, 0.45939862])}"
      ]
     },
     "execution_count": 10,
     "metadata": {},
     "output_type": "execute_result"
    }
   ],
   "source": [
    "qnn_qiskit.evaluate((\"f\",\"dfdp\",\"dfdx\"),x_val,p_val,op_val)"
   ]
  },
  {
   "cell_type": "code",
   "execution_count": 11,
   "metadata": {},
   "outputs": [
    {
     "data": {
      "text/plain": [
       "{'x': array([0.5, 0.6]),\n",
       " 'param': array([0.5488135 , 0.71518937, 0.60276338, 0.54488318, 0.4236548 ,\n",
       "        0.64589411, 0.43758721, 0.891773  ]),\n",
       " 'param_op': array([0.96366276, 0.38344152, 0.79172504, 0.52889492, 0.56804456]),\n",
       " 'f': array([-0.14651873]),\n",
       " 'dfdp': array([[-2.87084343e-01, -4.93326141e-01, -3.82352984e-01,\n",
       "         -4.00935500e-01,  1.75086156e-17,  2.85800014e-17,\n",
       "         -1.31610651e-17, -3.81242618e-17]]),\n",
       " 'dfdx': array([[[0.23965219],\n",
       "         [0.45939862]]])}"
      ]
     },
     "execution_count": 11,
     "metadata": {},
     "output_type": "execute_result"
    }
   ],
   "source": [
    "qnn.evaluate((\"f\",\"dfdp\",\"dfdx\"),x_val,p_val,op_val)"
   ]
  }
 ],
 "metadata": {
  "kernelspec": {
   "display_name": "Python 3",
   "language": "python",
   "name": "python3"
  },
  "language_info": {
   "codemirror_mode": {
    "name": "ipython",
    "version": 3
   },
   "file_extension": ".py",
   "mimetype": "text/x-python",
   "name": "python",
   "nbconvert_exporter": "python",
   "pygments_lexer": "ipython3",
   "version": "3.10.2"
  }
 },
 "nbformat": 4,
 "nbformat_minor": 2
}
