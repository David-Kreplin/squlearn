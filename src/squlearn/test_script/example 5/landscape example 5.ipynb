{
 "cells": [
  {
   "cell_type": "code",
   "execution_count": 23,
   "metadata": {
    "ExecuteTime": {
     "end_time": "2023-11-28T14:32:09.239191500Z",
     "start_time": "2023-11-28T14:32:08.747320600Z"
    }
   },
   "outputs": [],
   "source": [
    "import numpy as np\n",
    "import matplotlib.pyplot as plt\n",
    "\n",
    "from qiskit import QuantumCircuit\n",
    "from qiskit.circuit import ParameterVector\n",
    "\n",
    "from qiskit_ibm_runtime import QiskitRuntimeService, Session, Options, Estimator, Sampler\n",
    "from qiskit_aer.noise import NoiseModel\n",
    "\n",
    "from squlearn import Executor\n",
    "from squlearn.encoding_circuit import QiskitEncodingCircuit\n",
    "from squlearn.observables import SinglePauli\n",
    "from squlearn.qnn import QNNRegressor, SquaredLoss\n",
    "from squlearn.optimizers import Adam, SLSQP, SGLBO\n",
    "\n",
    "import matplotlib.pyplot as plt\n",
    "import matplotlib as mpl"
   ]
  },
  {
   "cell_type": "code",
   "execution_count": 24,
   "metadata": {
    "ExecuteTime": {
     "end_time": "2023-11-28T14:32:09.880257200Z",
     "start_time": "2023-11-28T14:32:09.262439700Z"
    }
   },
   "outputs": [
    {
     "data": {
      "text/plain": "     ┌───┐┌────────────────┐  ┌──────────┐           ┌───┐┌───┐»\nq_0: ┤ H ├┤ Rx(acos(x[0])) ├──┤ Ry(p[0]) ├───■───────┤ X ├┤ H ├»\n     ├───┤├────────────────┤┌─┴──────────┴┐┌─┴─┐     └─┬─┘├───┤»\nq_1: ┤ H ├┤ Rx(acos(x[0])) ├┤ Ry(-1.3433) ├┤ X ├──■────┼──┤ H ├»\n     ├───┤├────────────────┤└┬────────────┤└───┘┌─┴─┐  │  ├───┤»\nq_2: ┤ H ├┤ Rx(acos(x[0])) ├─┤ Ry(2.4439) ├──■──┤ X ├──┼──┤ H ├»\n     ├───┤├────────────────┤ ├────────────┤┌─┴─┐└───┘  │  ├───┤»\nq_3: ┤ H ├┤ Rx(acos(x[0])) ├─┤ Ry(1.6441) ├┤ X ├───────■──┤ H ├»\n     └───┘└────────────────┘ └────────────┘└───┘          └───┘»\n«     ┌────────────────┐┌──────────────┐\n«q_0: ┤ Rx(acos(x[0])) ├┤ Ry(-0.36316) ├\n«     ├────────────────┤├─────────────┬┘\n«q_1: ┤ Rx(acos(x[0])) ├┤ Ry(0.45345) ├─\n«     ├────────────────┤├─────────────┤ \n«q_2: ┤ Rx(acos(x[0])) ├┤ Ry(0.18577) ├─\n«     ├────────────────┤├─────────────┴┐\n«q_3: ┤ Rx(acos(x[0])) ├┤ Ry(-0.13904) ├\n«     └────────────────┘└──────────────┘",
      "text/html": "<pre style=\"word-wrap: normal;white-space: pre;background: #fff0;line-height: 1.1;font-family: &quot;Courier New&quot;,Courier,monospace\">     ┌───┐┌────────────────┐  ┌──────────┐           ┌───┐┌───┐»\nq_0: ┤ H ├┤ Rx(acos(x[0])) ├──┤ Ry(p[0]) ├───■───────┤ X ├┤ H ├»\n     ├───┤├────────────────┤┌─┴──────────┴┐┌─┴─┐     └─┬─┘├───┤»\nq_1: ┤ H ├┤ Rx(acos(x[0])) ├┤ Ry(-1.3433) ├┤ X ├──■────┼──┤ H ├»\n     ├───┤├────────────────┤└┬────────────┤└───┘┌─┴─┐  │  ├───┤»\nq_2: ┤ H ├┤ Rx(acos(x[0])) ├─┤ Ry(2.4439) ├──■──┤ X ├──┼──┤ H ├»\n     ├───┤├────────────────┤ ├────────────┤┌─┴─┐└───┘  │  ├───┤»\nq_3: ┤ H ├┤ Rx(acos(x[0])) ├─┤ Ry(1.6441) ├┤ X ├───────■──┤ H ├»\n     └───┘└────────────────┘ └────────────┘└───┘          └───┘»\n«     ┌────────────────┐┌──────────────┐\n«q_0: ┤ Rx(acos(x[0])) ├┤ Ry(-0.36316) ├\n«     ├────────────────┤├─────────────┬┘\n«q_1: ┤ Rx(acos(x[0])) ├┤ Ry(0.45345) ├─\n«     ├────────────────┤├─────────────┤ \n«q_2: ┤ Rx(acos(x[0])) ├┤ Ry(0.18577) ├─\n«     ├────────────────┤├─────────────┴┐\n«q_3: ┤ Rx(acos(x[0])) ├┤ Ry(-0.13904) ├\n«     └────────────────┘└──────────────┘</pre>"
     },
     "execution_count": 24,
     "metadata": {},
     "output_type": "execute_result"
    }
   ],
   "source": [
    "nqubits = 4\n",
    "\n",
    "qc = QuantumCircuit(nqubits)\n",
    "p = ParameterVector('p', 8)\n",
    "x = ParameterVector('x', 1)\n",
    "\n",
    "p2 = np.array([-0.13005136, -1.34331017, 2.44392299, 1.64405423, -0.36315523, 0.45344925,\n",
    " 0.18577077, -0.13904446])\n",
    "\n",
    "for i in range(nqubits):\n",
    " qc.h(i)\n",
    " qc.rx(1*np.arccos(x[0]), i)\n",
    " \n",
    "qc.ry(p[0], 0)\n",
    "qc.ry(p2[1], 1)\n",
    "qc.ry(p2[2], 2)\n",
    "qc.ry(p2[3], 3)\n",
    "\n",
    "qc.cx(0, 1)\n",
    "qc.cx(2, 3)\n",
    "qc.cx(1, 2)\n",
    "qc.cx(3, 0)\n",
    "\n",
    "for i in range(nqubits):\n",
    " qc.h(i)\n",
    " qc.rx(1*np.arccos(x[0]), i)\n",
    " qc.ry(p2[i+nqubits], i)\n",
    "\n",
    "pqc = QiskitEncodingCircuit(qc)\n",
    "pqc.draw()"
   ]
  },
  {
   "cell_type": "code",
   "execution_count": 25,
   "metadata": {
    "ExecuteTime": {
     "end_time": "2023-11-28T14:32:10.197145400Z",
     "start_time": "2023-11-28T14:32:09.812532900Z"
    }
   },
   "outputs": [
    {
     "name": "stdout",
     "output_type": "stream",
     "text": [
      "SparsePauliOp(['IIIZ'],\n",
      "              coeffs=[ParameterExpression(1.0*p[0])])\n"
     ]
    }
   ],
   "source": [
    "op = SinglePauli(nqubits,qubit=0,parameterized=True)\n",
    "print(op)"
   ]
  },
  {
   "cell_type": "code",
   "execution_count": 26,
   "metadata": {
    "ExecuteTime": {
     "end_time": "2023-11-28T14:32:10.241214300Z",
     "start_time": "2023-11-28T14:32:10.166076300Z"
    }
   },
   "outputs": [
    {
     "data": {
      "text/plain": "1"
     },
     "execution_count": 26,
     "metadata": {},
     "output_type": "execute_result"
    }
   ],
   "source": [
    "op.num_parameters"
   ]
  },
  {
   "cell_type": "code",
   "execution_count": 27,
   "metadata": {
    "ExecuteTime": {
     "end_time": "2023-11-28T14:32:11.729681100Z",
     "start_time": "2023-11-28T14:32:10.254218300Z"
    }
   },
   "outputs": [],
   "source": [
    "# Randomly initialize parameters of the encoding circuit\n",
    "np.random.seed(13) #13\n",
    "param_ini =  np.random.rand(pqc.num_parameters)\n",
    "# Initialize parameters of the observable as ones\n",
    "param_op_ini = np.ones(op.num_parameters)\n",
    "x0 = [[i * 0.2] for i in range(15)]\n",
    "optimizer_options = {\"bo_aqc_func\": \"EI\", \"bo_aqc_optimizer\": \"lbfgs\", \"bo_bounds\": [(0.0, 5.0)], \"log_file\": \"sglbo_noiseless.log\",\n",
    "                     \"bo_n_calls\": 30, \"bo_x0_points\": x0, \"maxiter\": 100}\n",
    "\n",
    "qnn_simulator = QNNRegressor(\n",
    "    pqc,\n",
    "    op,\n",
    "    Executor(\"statevector_simulator\"),\n",
    "    SquaredLoss(),\n",
    "    SGLBO(optimizer_options),\n",
    "    #SLSQP(),\n",
    "    #Adam({\"lr\": 0.2,\"log_file\": \"adam_noiseless.log\"}),\n",
    "    param_ini,\n",
    "    param_op_ini=param_op_ini,\n",
    "    opt_param_op=True, # Keine Observablen optimierung\n",
    "    parameter_seed=124\n",
    ")"
   ]
  },
  {
   "cell_type": "code",
   "execution_count": 28,
   "metadata": {
    "ExecuteTime": {
     "end_time": "2023-11-28T14:32:11.780376900Z",
     "start_time": "2023-11-28T14:32:11.703573500Z"
    }
   },
   "outputs": [
    {
     "name": "stdout",
     "output_type": "stream",
     "text": [
      "[0.77770241]\n",
      "[1.]\n"
     ]
    }
   ],
   "source": [
    "print(param_ini)\n",
    "print(param_op_ini)"
   ]
  },
  {
   "cell_type": "code",
   "execution_count": 29,
   "metadata": {
    "ExecuteTime": {
     "end_time": "2023-11-28T14:32:11.890719100Z",
     "start_time": "2023-11-28T14:32:11.756747Z"
    }
   },
   "outputs": [],
   "source": [
    "# Data that is inputted to the QNN\n",
    "x_train = np.arange(-0.5, 0.6, 0.1)\n",
    "# Data that is fitted by the QNN\n",
    "y_train = np.sin(6.0*x_train)"
   ]
  },
  {
   "cell_type": "code",
   "execution_count": 30,
   "metadata": {
    "ExecuteTime": {
     "end_time": "2023-11-28T14:32:11.972378600Z",
     "start_time": "2023-11-28T14:32:11.890719100Z"
    }
   },
   "outputs": [],
   "source": [
    "def evaluate_loss(theta, qnn_regressor: QNNRegressor, X, y):\n",
    "    param = theta[: qnn_regressor._qnn.num_parameters]\n",
    "    param_op = theta[qnn_regressor._qnn.num_parameters :]\n",
    "\n",
    "    loss_values = qnn_regressor._qnn.evaluate(qnn_regressor.loss.loss_args_tuple, X, param, param_op)\n",
    "\n",
    "    loss_value = qnn_regressor.loss.value(\n",
    "        loss_values,\n",
    "        ground_truth=y,\n",
    "        weights=np.ones(len(y)),\n",
    "        iteration=0,\n",
    "    )\n",
    "\n",
    "    return loss_value\n",
    "\n",
    "\n"
   ]
  },
  {
   "cell_type": "code",
   "execution_count": 31,
   "metadata": {
    "ExecuteTime": {
     "end_time": "2023-11-28T14:50:54.936692800Z",
     "start_time": "2023-11-28T14:32:11.962384400Z"
    }
   },
   "outputs": [
    {
     "name": "stdout",
     "output_type": "stream",
     "text": [
      "\n",
      "\n",
      "fit:   0%|          | 0/100 [00:00<?, ?it/s]\u001B[A\u001B[ABOP  fval:  5.003245588858223  x:  [0.0]\n",
      "BOP  fval:  4.806639360562196  x:  [0.2]\n",
      "BOP  fval:  4.663485963090701  x:  [0.4]\n",
      "BOP  fval:  4.5865022206682635  x:  [0.6000000000000001]\n",
      "BOP  fval:  4.580291167522197  x:  [0.8]\n",
      "BOP  fval:  4.641060910737347  x:  [1.0]\n",
      "BOP  fval:  4.757626622352162  x:  [1.2000000000000002]\n",
      "BOP  fval:  4.9134545351751715  x:  [1.4000000000000001]\n",
      "BOP  fval:  5.089348741996709  x:  [1.6]\n",
      "BOP  fval:  5.266301852260869  x:  [1.8]\n",
      "BOP  fval:  5.428038000114925  x:  [2.0]\n",
      "BOP  fval:  5.562864358119455  x:  [2.2]\n",
      "BOP  fval:  5.6645945869448395  x:  [2.4000000000000004]\n",
      "BOP  fval:  5.732484776787976  x:  [2.6]\n",
      "BOP  fval:  5.770296328509045  x:  [2.8000000000000003]\n",
      "BOP  fval:  5.783524855001983  x:  [2.964223091125092]\n",
      "BOP  fval:  5.7124294678998675  x:  [4.221328742905087]\n",
      "BOP  fval:  5.704060696929801  x:  [4.289728088113785]\n",
      "BOP  fval:  5.710694783435006  x:  [4.236258693920628]\n",
      "BOP  fval:  5.785482022806071  x:  [3.117818483929862]\n",
      "BOP  fval:  5.367561310189244  x:  [1.9219085364634996]\n",
      "BOP  fval:  4.989247524074403  x:  [1.4876730327223617]\n",
      "fit:   0%|          | 0/100 [20:47<?, ?it/s]\n",
      "fit:   0%|          | 0/100 [08:35<?, ?it/s]\n",
      "BOP  fval:  4.739422556859786  x:  [0.28356488658721596]\n",
      "BOP  fval:  4.882760377297015  x:  [1.3632814729005662]\n",
      "BOP  fval:  5.659602910646696  x:  [2.38832558660675]\n",
      "BOP  fval:  4.574336800323201  x:  [0.7176428436943284]\n",
      "BOP  fval:  5.523688176484497  x:  [4.999840112910632]\n",
      "BOP  fval:  4.574347759297153  x:  [0.7136202602823051]\n",
      "BOP  fval:  4.574347543800559  x:  [0.713654868534261]\n",
      "BOP  fval:  4.574336635250986  x:  [0.7170305887805302]\n",
      "\u001B[91m Iteration:  0 :  gp_minimize:  fval:  4.5743386931787295  x:  [0.7171738874201338] \u001B[0m\n",
      "BOP  fval:  4.5743366149125615  x:  [0.0]\n",
      "BOP  fval:  4.491327141269088  x:  [0.2]\n",
      "BOP  fval:  4.409997091851802  x:  [0.4]\n",
      "BOP  fval:  4.330460279194347  x:  [0.6000000000000001]\n",
      "BOP  fval:  4.252853418570262  x:  [0.8]\n",
      "BOP  fval:  4.177336050048134  x:  [1.0]\n",
      "BOP  fval:  4.104090435350509  x:  [1.2000000000000002]\n",
      "BOP  fval:  4.0333214295795035  x:  [1.4000000000000001]\n",
      "BOP  fval:  3.9652563278928215  x:  [1.6]\n",
      "BOP  fval:  3.9001446872345267  x:  [1.8]\n",
      "BOP  fval:  3.8382581232453954  x:  [2.0]\n",
      "BOP  fval:  3.779890082498305  x:  [2.2]\n",
      "BOP  fval:  3.725355590224449  x:  [2.4000000000000004]\n",
      "BOP  fval:  3.674990973716379  x:  [2.6]\n",
      "BOP  fval:  3.62915356161422  x:  [2.8000000000000003]\n",
      "BOP  fval:  3.5951657528631698  x:  [2.964223091125092]\n",
      "BOP  fval:  3.4695257252870695  x:  [4.221328742905087]\n",
      "BOP  fval:  3.4708188772922854  x:  [4.289728088113785]\n",
      "BOP  fval:  3.4697259153930347  x:  [4.236258693920628]\n",
      "BOP  fval:  3.5665645221175626  x:  [3.117818483929862]\n",
      "BOP  fval:  3.862020146762961  x:  [1.9219085364634996]\n",
      "BOP  fval:  4.003136989651937  x:  [1.4876730327223617]\n",
      "BOP  fval:  4.457135181366559  x:  [0.28356488658721596]\n",
      "BOP  fval:  4.046118479204983  x:  [1.3632814729005662]\n",
      "BOP  fval:  3.7284276434455177  x:  [2.38832558660675]\n",
      "BOP  fval:  3.5458645671499345  x:  [5.0]\n",
      "BOP  fval:  3.4723857534725235  x:  [3.9815642682781744]\n",
      "BOP  fval:  3.4749656375091327  x:  [3.918663035948092]\n",
      "BOP  fval:  3.4692093273591493  x:  [4.180420426729769]\n",
      "BOP  fval:  3.4691866423202904  x:  [4.172268786296309]\n",
      "\u001B[91m Iteration:  1 :  gp_minimize:  fval:  3.4691525239346426  x:  [4.153326647377235] \u001B[0m\n",
      "BOP  fval:  3.469185348126983  x:  [0.0]\n",
      "BOP  fval:  4.496235233962253  x:  [0.2]\n",
      "BOP  fval:  9.516984671615765  x:  [0.4]\n",
      "BOP  fval:  13.363364715737985  x:  [0.6000000000000001]\n",
      "BOP  fval:  12.613718728422093  x:  [0.8]\n",
      "BOP  fval:  9.597619136331044  x:  [1.0]\n",
      "BOP  fval:  9.201970776695818  x:  [1.2000000000000002]\n",
      "BOP  fval:  12.377768700176798  x:  [1.4000000000000001]\n",
      "BOP  fval:  14.641723004052027  x:  [1.6]\n",
      "BOP  fval:  11.78599710276024  x:  [1.8]\n",
      "BOP  fval:  5.760128295342579  x:  [2.0]\n",
      "BOP  fval:  3.0300053877190956  x:  [2.2]\n",
      "BOP  fval:  6.956817478213758  x:  [2.4000000000000004]\n",
      "BOP  fval:  13.51779277988377  x:  [2.6]\n",
      "BOP  fval:  15.946590898240004  x:  [2.8000000000000003]\n",
      "BOP  fval:  13.59781040167646  x:  [2.964223091125092]\n",
      "BOP  fval:  3.5600695547832326  x:  [4.221328742905087]\n",
      "BOP  fval:  2.8574089873369206  x:  [4.289728088113785]\n",
      "BOP  fval:  3.3204773311096853  x:  [4.236258693920628]\n",
      "BOP  fval:  10.464406087120754  x:  [3.117818483929862]\n",
      "BOP  fval:  8.097608533639855  x:  [1.9219085364634996]\n",
      "BOP  fval:  13.826586133674738  x:  [1.4876730327223617]\n",
      "BOP  fval:  6.361746265506701  x:  [0.28356488658721596]\n",
      "BOP  fval:  11.687456000685641  x:  [1.3632814729005662]\n",
      "BOP  fval:  6.586601900540642  x:  [2.38832558660675]\n",
      "BOP  fval:  18.322621637320324  x:  [4.946329170536221]\n",
      "BOP  fval:  17.467954375731807  x:  [4.999840112910632]\n",
      "BOP  fval:  15.70813259687048  x:  [3.5914876348503793]\n",
      "BOP  fval:  2.8589157983362727  x:  [4.313494897458177]\n",
      "BOP  fval:  17.48431002836354  x:  [4.999021107931687]\n",
      "\u001B[91m Iteration:  2 :  gp_minimize:  fval:  2.841577507323322  x:  [4.301312939326701] \u001B[0m\n",
      "BOP  fval:  2.841925909820969  x:  [0.0]\n",
      "BOP  fval:  2.8263161213859465  x:  [0.2]\n",
      "BOP  fval:  2.811503277977932  x:  [0.4]\n",
      "BOP  fval:  2.7975193601617256  x:  [0.6000000000000001]\n",
      "BOP  fval:  2.7843970102288824  x:  [0.8]\n",
      "BOP  fval:  2.772169528477984  x:  [1.0]\n",
      "BOP  fval:  2.7608708693757076  x:  [1.2000000000000002]\n",
      "BOP  fval:  2.7505356375989805  x:  [1.4000000000000001]\n",
      "BOP  fval:  2.7411990839588194  x:  [1.6]\n",
      "BOP  fval:  2.7328971012060173  x:  [1.8]\n",
      "BOP  fval:  2.7256662197193124  x:  [2.0]\n",
      "BOP  fval:  2.7195436030764575  x:  [2.2]\n",
      "BOP  fval:  2.714567043508459  x:  [2.4000000000000004]\n",
      "BOP  fval:  2.7107749572378146  x:  [2.6]\n",
      "BOP  fval:  2.7082063797008957  x:  [2.8000000000000003]\n",
      "BOP  fval:  2.70703992363773  x:  [2.964223091125092]\n",
      "BOP  fval:  2.7287438376541906  x:  [4.221328742905087]\n",
      "BOP  fval:  2.731598021062167  x:  [4.289728088113785]\n",
      "BOP  fval:  2.7293511887619957  x:  [4.236258693920628]\n",
      "BOP  fval:  2.706739421173101  x:  [3.117818483929862]\n",
      "BOP  fval:  2.728359750324827  x:  [1.9219085364634996]\n",
      "BOP  fval:  2.746317776194613  x:  [1.4876730327223617]\n",
      "BOP  fval:  2.820028203010568  x:  [0.28356488658721596]\n",
      "BOP  fval:  2.752359316833072  x:  [1.3632814729005662]\n",
      "BOP  fval:  2.714825358815546  x:  [2.38832558660675]\n",
      "BOP  fval:  2.70765976814009  x:  [3.335600259628699]\n",
      "BOP  fval:  2.706755294948364  x:  [3.065067533092505]\n",
      "BOP  fval:  2.7073769951138713  x:  [3.296615329153985]\n",
      "BOP  fval:  2.7067847553590862  x:  [3.1555969568457156]\n",
      "BOP  fval:  2.7069085968604676  x:  [2.997713438264227]\n",
      "\u001B[91m Iteration:  3 :  gp_minimize:  fval:  2.7067295076388564  x:  [3.100230398690936] \u001B[0m\n",
      "BOP  fval:  2.7067344894754917  x:  [0.0]\n",
      "BOP  fval:  5.375576451099394  x:  [0.2]\n",
      "BOP  fval:  13.463562212219136  x:  [0.4]\n",
      "BOP  fval:  21.337423541087787  x:  [0.6000000000000001]\n",
      "BOP  fval:  23.746087680934075  x:  [0.8]\n",
      "BOP  fval:  19.847515647252028  x:  [1.0]\n",
      "BOP  fval:  13.756872200137616  x:  [1.2000000000000002]\n",
      "BOP  fval:  11.139684814570494  x:  [1.4000000000000001]\n",
      "BOP  fval:  14.539252120373801  x:  [1.6]\n",
      "BOP  fval:  21.197660340616018  x:  [1.8]\n",
      "BOP  fval:  25.19561328033042  x:  [2.0]\n",
      "BOP  fval:  22.285067957731087  x:  [2.2]\n",
      "BOP  fval:  13.564000426619724  x:  [2.4000000000000004]\n",
      "BOP  fval:  4.9668737244997985  x:  [2.6]\n",
      "BOP  fval:  2.830256616641867  x:  [2.8000000000000003]\n",
      "BOP  fval:  7.377410115440289  x:  [2.964223091125092]\n",
      "BOP  fval:  12.919110553251162  x:  [4.221328742905087]\n",
      "BOP  fval:  14.696845940354992  x:  [4.289728088113785]\n",
      "BOP  fval:  13.245487392279713  x:  [4.236258693920628]\n",
      "BOP  fval:  14.90499377948352  x:  [3.117818483929862]\n",
      "BOP  fval:  24.31714124360877  x:  [1.9219085364634996]\n",
      "BOP  fval:  11.93340267730661  x:  [1.4876730327223617]\n",
      "BOP  fval:  8.369471990698585  x:  [0.28356488658721596]\n",
      "BOP  fval:  11.174471898505125  x:  [1.3632814729005662]\n",
      "BOP  fval:  14.140006502661317  x:  [2.38832558660675]\n",
      "BOP  fval:  2.5511511279541694  x:  [2.748605522256016]\n",
      "BOP  fval:  21.80563390031312  x:  [5.0]\n",
      "BOP  fval:  21.882843542249365  x:  [4.998425013195886]\n",
      "BOP  fval:  2.6556815424638893  x:  [0.04370791284772485]\n"
     ]
    },
    {
     "name": "stderr",
     "output_type": "stream",
     "text": [
      "C:\\Users\\Dennis\\SynologyDrive\\Development\\Bachelorarbeit\\squlearn\\venv\\lib\\site-packages\\skopt\\optimizer\\optimizer.py:449: UserWarning: The objective has been evaluated at this point before.\n",
      "  warnings.warn(\"The objective has been evaluated \"\n"
     ]
    },
    {
     "name": "stdout",
     "output_type": "stream",
     "text": [
      "BOP  fval:  2.7067344894754917  x:  [0.0]\n",
      "\u001B[91m Iteration:  4 :  gp_minimize:  fval:  2.5517228840681145  x:  [2.749785066485595] \u001B[0m\n",
      "BOP  fval:  2.55091989818695  x:  [0.0]\n",
      "BOP  fval:  2.5466102611913  x:  [0.2]\n",
      "BOP  fval:  2.54285571092189  x:  [0.4]\n",
      "BOP  fval:  2.539669326637472  x:  [0.6000000000000001]\n",
      "BOP  fval:  2.5370642900070455  x:  [0.8]\n",
      "BOP  fval:  2.535053884188544  x:  [1.0]\n",
      "BOP  fval:  2.533651492895322  x:  [1.2000000000000002]\n",
      "BOP  fval:  2.532870599450372  x:  [1.4000000000000001]\n",
      "BOP  fval:  2.5327247858284228  x:  [1.6]\n",
      "BOP  fval:  2.5332277316859226  x:  [1.8]\n",
      "BOP  fval:  2.5343932133790235  x:  [2.0]\n",
      "BOP  fval:  2.536235102969563  x:  [2.2]\n",
      "BOP  fval:  2.538767367219152  x:  [2.4000000000000004]\n",
      "BOP  fval:  2.5420040665714168  x:  [2.6]\n",
      "BOP  fval:  2.5459593541224343  x:  [2.8000000000000003]\n",
      "BOP  fval:  2.5497543833383536  x:  [2.964223091125092]\n",
      "BOP  fval:  2.596024983366633  x:  [4.221328742905087]\n",
      "BOP  fval:  2.5994575233630703  x:  [4.289728088113785]\n",
      "BOP  fval:  2.5967658563701956  x:  [4.236258693920628]\n",
      "BOP  fval:  2.5537580084367253  x:  [3.117818483929862]\n",
      "BOP  fval:  2.53385841707263  x:  [1.9219085364634996]\n",
      "BOP  fval:  2.5327276959979277  x:  [1.4876730327223617]\n",
      "BOP  fval:  2.544973257254143  x:  [0.28356488658721596]\n",
      "BOP  fval:  2.5329667737292016  x:  [1.3632814729005662]\n",
      "BOP  fval:  2.5386003309260374  x:  [2.38832558660675]\n",
      "BOP  fval:  2.532756256849547  x:  [1.4624350364916208]\n",
      "BOP  fval:  2.544406963193557  x:  [2.7257884294374364]\n",
      "BOP  fval:  2.5385342031260323  x:  [0.6816984971174002]\n",
      "BOP  fval:  2.5327013112337147  x:  [1.553533012755365]\n",
      "BOP  fval:  2.5479012004600117  x:  [2.886715904970453]\n",
      "\u001B[91m Iteration:  5 :  gp_minimize:  fval:  2.532700786263286  x:  [1.5455441314522802] \u001B[0m\n",
      "BOP  fval:  2.5327007907148262  x:  [0.0]\n",
      "BOP  fval:  3.4270743199271756  x:  [0.2]\n",
      "BOP  fval:  6.478280408420516  x:  [0.4]\n",
      "BOP  fval:  11.165428785927565  x:  [0.6000000000000001]\n",
      "BOP  fval:  16.66074090262762  x:  [0.8]\n",
      "BOP  fval:  21.989050864523144  x:  [1.0]\n",
      "BOP  fval:  26.21820033905002  x:  [1.2000000000000002]\n",
      "BOP  fval:  28.64239281347684  x:  [1.4000000000000001]\n",
      "BOP  fval:  28.92147833376292  x:  [1.6]\n",
      "BOP  fval:  27.147569438210656  x:  [1.8]\n",
      "BOP  fval:  23.82474282791554  x:  [2.0]\n",
      "BOP  fval:  19.76503130848789  x:  [2.2]\n",
      "BOP  fval:  15.920956496000311  x:  [2.4000000000000004]\n",
      "BOP  fval:  13.188023974923604  x:  [2.6]\n",
      "BOP  fval:  12.217164055111924  x:  [2.8000000000000003]\n",
      "BOP  fval:  12.939296354626164  x:  [2.964223091125092]\n",
      "BOP  fval:  31.10467501171381  x:  [4.221328742905087]\n",
      "BOP  fval:  30.50529393918361  x:  [4.289728088113785]\n",
      "BOP  fval:  30.99799871442423  x:  [4.236258693920628]\n",
      "BOP  fval:  14.795344074511753  x:  [3.117818483929862]\n",
      "BOP  fval:  25.25976037847178  x:  [1.9219085364634996]\n",
      "BOP  fval:  29.03352213964205  x:  [1.4876730327223617]\n",
      "BOP  fval:  4.461086959896046  x:  [0.28356488658721596]\n",
      "BOP  fval:  28.35367734130623  x:  [1.3632814729005662]\n",
      "BOP  fval:  16.12266972188334  x:  [2.38832558660675]\n",
      "BOP  fval:  2.5190078992284417  x:  [0.017133259357970745]\n"
     ]
    },
    {
     "name": "stderr",
     "output_type": "stream",
     "text": [
      "C:\\Users\\Dennis\\SynologyDrive\\Development\\Bachelorarbeit\\squlearn\\venv\\lib\\site-packages\\skopt\\optimizer\\optimizer.py:449: UserWarning: The objective has been evaluated at this point before.\n",
      "  warnings.warn(\"The objective has been evaluated \"\n"
     ]
    },
    {
     "name": "stdout",
     "output_type": "stream",
     "text": [
      "BOP  fval:  2.5327007907148262  x:  [0.0]\n",
      "BOP  fval:  2.5191852056448094  x:  [0.028165430204863954]\n",
      "BOP  fval:  2.51855774582815  x:  [0.025823284090979018]\n"
     ]
    },
    {
     "name": "stderr",
     "output_type": "stream",
     "text": [
      "C:\\Users\\Dennis\\SynologyDrive\\Development\\Bachelorarbeit\\squlearn\\venv\\lib\\site-packages\\skopt\\optimizer\\optimizer.py:449: UserWarning: The objective has been evaluated at this point before.\n",
      "  warnings.warn(\"The objective has been evaluated \"\n"
     ]
    },
    {
     "name": "stdout",
     "output_type": "stream",
     "text": [
      "BOP  fval:  2.5327007907148262  x:  [0.0]\n",
      "\u001B[91m Iteration:  6 :  gp_minimize:  fval:  2.5219522352816792  x:  [0.015629648414748225] \u001B[0m\n",
      "BOP  fval:  2.5195297435831936  x:  [0.0]\n",
      "BOP  fval:  2.594392472897336  x:  [0.2]\n",
      "BOP  fval:  2.8710939776290254  x:  [0.4]\n",
      "BOP  fval:  3.349697614851531  x:  [0.6000000000000001]\n",
      "BOP  fval:  4.026931591644856  x:  [0.8]\n",
      "BOP  fval:  4.896195507466608  x:  [1.0]\n",
      "BOP  fval:  5.947625807136478  x:  [1.2000000000000002]\n",
      "BOP  fval:  7.168219874798255  x:  [1.4000000000000001]\n",
      "BOP  fval:  8.54201743648527  x:  [1.6]\n",
      "BOP  fval:  10.050336884264272  x:  [1.8]\n",
      "BOP  fval:  11.672063107706977  x:  [2.0]\n",
      "BOP  fval:  13.383982437760608  x:  [2.2]\n",
      "BOP  fval:  15.161159392504203  x:  [2.4000000000000004]\n",
      "BOP  fval:  16.97734908143002  x:  [2.6]\n",
      "BOP  fval:  18.80543839114665  x:  [2.8000000000000003]\n",
      "BOP  fval:  20.296060907462923  x:  [2.964223091125092]\n",
      "BOP  fval:  29.807723089959445  x:  [4.221328742905087]\n",
      "BOP  fval:  30.163342978334043  x:  [4.289728088113785]\n",
      "BOP  fval:  29.88718413711983  x:  [4.236258693920628]\n",
      "BOP  fval:  21.667204843443052  x:  [3.117818483929862]\n",
      "BOP  fval:  11.026792501454352  x:  [1.9219085364634996]\n",
      "BOP  fval:  7.752628331117138  x:  [1.4876730327223617]\n",
      "BOP  fval:  2.6853776304343597  x:  [0.28356488658721596]\n",
      "BOP  fval:  6.9321362600005125  x:  [1.3632814729005662]\n",
      "BOP  fval:  15.05609031491198  x:  [2.38832558660675]\n"
     ]
    },
    {
     "name": "stderr",
     "output_type": "stream",
     "text": [
      "C:\\Users\\Dennis\\SynologyDrive\\Development\\Bachelorarbeit\\squlearn\\venv\\lib\\site-packages\\skopt\\optimizer\\optimizer.py:449: UserWarning: The objective has been evaluated at this point before.\n",
      "  warnings.warn(\"The objective has been evaluated \"\n"
     ]
    },
    {
     "name": "stdout",
     "output_type": "stream",
     "text": [
      "BOP  fval:  2.5195297435831936  x:  [0.0]\n",
      "BOP  fval:  2.5195272162010682  x:  [2.005842783037171e-05]\n"
     ]
    },
    {
     "name": "stderr",
     "output_type": "stream",
     "text": [
      "C:\\Users\\Dennis\\SynologyDrive\\Development\\Bachelorarbeit\\squlearn\\venv\\lib\\site-packages\\skopt\\optimizer\\optimizer.py:449: UserWarning: The objective has been evaluated at this point before.\n",
      "  warnings.warn(\"The objective has been evaluated \"\n"
     ]
    },
    {
     "name": "stdout",
     "output_type": "stream",
     "text": [
      "BOP  fval:  2.5195297435831936  x:  [0.0]\n"
     ]
    },
    {
     "name": "stderr",
     "output_type": "stream",
     "text": [
      "C:\\Users\\Dennis\\SynologyDrive\\Development\\Bachelorarbeit\\squlearn\\venv\\lib\\site-packages\\skopt\\optimizer\\optimizer.py:449: UserWarning: The objective has been evaluated at this point before.\n",
      "  warnings.warn(\"The objective has been evaluated \"\n"
     ]
    },
    {
     "name": "stdout",
     "output_type": "stream",
     "text": [
      "BOP  fval:  2.5195297435831936  x:  [0.0]\n"
     ]
    },
    {
     "name": "stderr",
     "output_type": "stream",
     "text": [
      "C:\\Users\\Dennis\\SynologyDrive\\Development\\Bachelorarbeit\\squlearn\\venv\\lib\\site-packages\\skopt\\optimizer\\optimizer.py:449: UserWarning: The objective has been evaluated at this point before.\n",
      "  warnings.warn(\"The objective has been evaluated \"\n"
     ]
    },
    {
     "name": "stdout",
     "output_type": "stream",
     "text": [
      "BOP  fval:  2.5195297435831936  x:  [0.0]\n",
      "\u001B[91m Iteration:  7 :  gp_minimize:  fval:  2.5182794790734775  x:  [0.008175144548544679] \u001B[0m\n",
      "BOP  fval:  2.518665360037115  x:  [0.0]\n",
      "BOP  fval:  2.546470127431194  x:  [0.2]\n",
      "BOP  fval:  2.654816687968538  x:  [0.4]\n",
      "BOP  fval:  2.8448302191105594  x:  [0.6000000000000001]\n",
      "BOP  fval:  3.1171083052029744  x:  [0.8]\n",
      "BOP  fval:  3.47170874631616  x:  [1.0]\n",
      "BOP  fval:  3.9081410737009366  x:  [1.2000000000000002]\n",
      "BOP  fval:  4.425361889062546  x:  [1.4000000000000001]\n",
      "BOP  fval:  5.021774118218601  x:  [1.6]\n",
      "BOP  fval:  5.6952302420184395  x:  [1.8]\n",
      "BOP  fval:  6.443039538851504  x:  [2.0]\n",
      "BOP  fval:  7.2619793438695375  x:  [2.2]\n",
      "BOP  fval:  8.148310300395208  x:  [2.4000000000000004]\n",
      "BOP  fval:  9.097795549109206  x:  [2.6]\n",
      "BOP  fval:  10.105723770720866  x:  [2.8000000000000003]\n",
      "BOP  fval:  10.973431566140132  x:  [2.964223091125092]\n",
      "BOP  fval:  18.4502789128306  x:  [4.221328742905087]\n",
      "BOP  fval:  18.880701927106088  x:  [4.289728088113785]\n",
      "BOP  fval:  18.54417218451897  x:  [4.236258693920628]\n",
      "BOP  fval:  11.81479196942775  x:  [3.117818483929862]\n",
      "BOP  fval:  6.142397988817443  x:  [1.9219085364634996]\n",
      "BOP  fval:  4.677173852694967  x:  [1.4876730327223617]\n",
      "BOP  fval:  2.5818676833999366  x:  [0.28356488658721596]\n",
      "BOP  fval:  4.324414457371254  x:  [1.3632814729005662]\n",
      "BOP  fval:  8.094794340129667  x:  [2.38832558660675]\n",
      "BOP  fval:  2.51802832544646  x:  [0.013790044656195601]\n",
      "BOP  fval:  2.5185257627962376  x:  [0.0024315282513423806]\n",
      "BOP  fval:  2.518241875080092  x:  [0.008186479748594438]\n",
      "BOP  fval:  2.517765813404943  x:  [0.03264010145195361]\n",
      "BOP  fval:  2.517774561297717  x:  [0.026437084463119546]\n",
      "\u001B[91m Iteration:  8 :  gp_minimize:  fval:  2.517488848949616  x:  [0.01931869926572659] \u001B[0m\n",
      "BOP  fval:  2.517878464914189  x:  [0.0]\n",
      "BOP  fval:  2.515158027313016  x:  [0.2]\n",
      "BOP  fval:  2.5137604961601268  x:  [0.4]\n",
      "BOP  fval:  2.513714585993603  x:  [0.6000000000000001]\n",
      "BOP  fval:  2.5150490979338405  x:  [0.8]\n",
      "BOP  fval:  2.5177929145997515  x:  [1.0]\n",
      "BOP  fval:  2.5219749949805426  x:  [1.2000000000000002]\n",
      "BOP  fval:  2.5276243692638456  x:  [1.4000000000000001]\n",
      "BOP  fval:  2.53477013362096  x:  [1.6]\n",
      "BOP  fval:  2.5434414449501057  x:  [1.8]\n",
      "BOP  fval:  2.553667515578423  x:  [2.0]\n",
      "BOP  fval:  2.5654776079235657  x:  [2.2]\n",
      "BOP  fval:  2.578901029115718  x:  [2.4000000000000004]\n",
      "BOP  fval:  2.5939671255809693  x:  [2.6]\n",
      "BOP  fval:  2.6107052775866637  x:  [2.8000000000000003]\n",
      "BOP  fval:  2.62572005988334  x:  [2.964223091125092]\n",
      "BOP  fval:  2.7803955697970504  x:  [4.221328742905087]\n",
      "BOP  fval:  2.7909108435583834  x:  [4.289728088113785]\n",
      "BOP  fval:  2.782671696086458  x:  [4.236258693920628]\n",
      "BOP  fval:  2.6408158092053555  x:  [3.117818483929862]\n",
      "BOP  fval:  2.5494877875840443  x:  [1.9219085364634996]\n",
      "BOP  fval:  2.530570897414222  x:  [1.4876730327223617]\n",
      "BOP  fval:  2.514411559530299  x:  [0.28356488658721596]\n",
      "BOP  fval:  2.526475902649379  x:  [1.3632814729005662]\n",
      "BOP  fval:  2.578072616340721  x:  [2.38832558660675]\n",
      "BOP  fval:  2.513627964068597  x:  [0.4466018974291986]\n",
      "BOP  fval:  2.5136423013656293  x:  [0.5736495619121674]\n",
      "BOP  fval:  2.5138819045368828  x:  [0.6425455847551405]\n",
      "BOP  fval:  2.5145250071198038  x:  [0.7428253380658635]\n",
      "BOP  fval:  2.5135662596174937  x:  [0.5109530321169954]\n",
      "\u001B[91m Iteration:  9 :  gp_minimize:  fval:  2.5135686175909213  x:  [0.5079771628944556] \u001B[0m\n",
      "BOP  fval:  2.5135659982009027  x:  [0.0]\n",
      "BOP  fval:  2.7602797315881786  x:  [0.2]\n",
      "BOP  fval:  3.638678818855494  x:  [0.4]\n",
      "BOP  fval:  5.117539708656783  x:  [0.6000000000000001]\n",
      "BOP  fval:  7.134652969790386  x:  [0.8]\n",
      "BOP  fval:  9.599745556430552  x:  [1.0]\n",
      "BOP  fval:  12.398964180535097  x:  [1.2000000000000002]\n",
      "BOP  fval:  15.400695653876626  x:  [1.4000000000000001]\n",
      "BOP  fval:  18.462423080572705  x:  [1.6]\n",
      "BOP  fval:  21.43825535860511  x:  [1.8]\n",
      "BOP  fval:  24.186725219878227  x:  [2.0]\n",
      "BOP  fval:  26.57843062333325  x:  [2.2]\n",
      "BOP  fval:  28.503097160717726  x:  [2.4000000000000004]\n",
      "BOP  fval:  29.875665414419714  x:  [2.6]\n",
      "BOP  fval:  30.641055796367894  x:  [2.8000000000000003]\n",
      "BOP  fval:  30.799052007432948  x:  [2.964223091125092]\n",
      "BOP  fval:  21.037267157982267  x:  [4.221328742905087]\n",
      "BOP  fval:  20.250991040002184  x:  [4.289728088113785]\n",
      "BOP  fval:  20.864963463857485  x:  [4.236258693920628]\n",
      "BOP  fval:  30.56679692093973  x:  [3.117818483929862]\n",
      "BOP  fval:  23.14923616222048  x:  [1.9219085364634996]\n",
      "BOP  fval:  16.74408501076152  x:  [1.4876730327223617]\n",
      "BOP  fval:  3.051536122031301  x:  [0.28356488658721596]\n",
      "BOP  fval:  14.840799000229792  x:  [1.3632814729005662]\n",
      "BOP  fval:  28.40523196109907  x:  [2.38832558660675]\n"
     ]
    },
    {
     "name": "stderr",
     "output_type": "stream",
     "text": [
      "C:\\Users\\Dennis\\SynologyDrive\\Development\\Bachelorarbeit\\squlearn\\venv\\lib\\site-packages\\skopt\\optimizer\\optimizer.py:449: UserWarning: The objective has been evaluated at this point before.\n",
      "  warnings.warn(\"The objective has been evaluated \"\n"
     ]
    },
    {
     "name": "stdout",
     "output_type": "stream",
     "text": [
      "BOP  fval:  2.5135659982009027  x:  [0.0]\n"
     ]
    },
    {
     "name": "stderr",
     "output_type": "stream",
     "text": [
      "C:\\Users\\Dennis\\SynologyDrive\\Development\\Bachelorarbeit\\squlearn\\venv\\lib\\site-packages\\skopt\\optimizer\\optimizer.py:449: UserWarning: The objective has been evaluated at this point before.\n",
      "  warnings.warn(\"The objective has been evaluated \"\n"
     ]
    },
    {
     "name": "stdout",
     "output_type": "stream",
     "text": [
      "BOP  fval:  2.5135659982009027  x:  [0.0]\n"
     ]
    },
    {
     "name": "stderr",
     "output_type": "stream",
     "text": [
      "C:\\Users\\Dennis\\SynologyDrive\\Development\\Bachelorarbeit\\squlearn\\venv\\lib\\site-packages\\skopt\\optimizer\\optimizer.py:449: UserWarning: The objective has been evaluated at this point before.\n",
      "  warnings.warn(\"The objective has been evaluated \"\n"
     ]
    },
    {
     "name": "stdout",
     "output_type": "stream",
     "text": [
      "BOP  fval:  2.5135659982009027  x:  [0.0]\n",
      "BOP  fval:  2.5135229237094174  x:  [0.0001208331231968454]\n",
      "BOP  fval:  2.513464097616782  x:  [0.00028691110329820483]\n",
      "\u001B[91m Iteration:  10 :  gp_minimize:  fval:  2.5122155628282403  x:  [0.007358551761154949] \u001B[0m\n",
      "BOP  fval:  2.5113646192441905  x:  [0.0]\n",
      "BOP  fval:  2.617468361935487  x:  [0.2]\n",
      "BOP  fval:  3.0027267536976687  x:  [0.4]\n",
      "BOP  fval:  3.664527129154703  x:  [0.6000000000000001]\n",
      "BOP  fval:  4.594032123111142  x:  [0.8]\n",
      "BOP  fval:  5.776300325922171  x:  [1.0]\n",
      "BOP  fval:  7.190554270239036  x:  [1.2000000000000002]\n",
      "BOP  fval:  8.81059139441598  x:  [1.4000000000000001]\n",
      "BOP  fval:  10.605330087088028  x:  [1.6]\n",
      "BOP  fval:  12.53947951854906  x:  [1.8]\n",
      "BOP  fval:  14.57431879291799  x:  [2.0]\n",
      "BOP  fval:  16.66856809164448  x:  [2.2]\n",
      "BOP  fval:  18.779331998221572  x:  [2.4000000000000004]\n",
      "BOP  fval:  20.863093162219403  x:  [2.6]\n",
      "BOP  fval:  22.87673293403666  x:  [2.8000000000000003]\n",
      "BOP  fval:  24.448350295159425  x:  [2.964223091125092]\n",
      "BOP  fval:  31.96721776777194  x:  [4.221328742905087]\n",
      "BOP  fval:  32.079837426320026  x:  [4.289728088113785]\n",
      "BOP  fval:  31.99469342034203  x:  [4.236258693920628]\n",
      "BOP  fval:  25.83057163502349  x:  [3.117818483929862]\n",
      "BOP  fval:  13.770408170922028  x:  [1.9219085364634996]\n",
      "BOP  fval:  9.577830637193548  x:  [1.4876730327223617]\n",
      "BOP  fval:  2.7444952176687565  x:  [0.28356488658721596]\n",
      "BOP  fval:  8.499092049849345  x:  [1.3632814729005662]\n",
      "BOP  fval:  18.656442408351857  x:  [2.38832558660675]\n"
     ]
    },
    {
     "name": "stderr",
     "output_type": "stream",
     "text": [
      "C:\\Users\\Dennis\\SynologyDrive\\Development\\Bachelorarbeit\\squlearn\\venv\\lib\\site-packages\\skopt\\optimizer\\optimizer.py:449: UserWarning: The objective has been evaluated at this point before.\n",
      "  warnings.warn(\"The objective has been evaluated \"\n"
     ]
    },
    {
     "name": "stdout",
     "output_type": "stream",
     "text": [
      "BOP  fval:  2.5113646192441905  x:  [0.0]\n",
      "BOP  fval:  2.511361332164516  x:  [2.005842783037171e-05]\n"
     ]
    },
    {
     "name": "stderr",
     "output_type": "stream",
     "text": [
      "C:\\Users\\Dennis\\SynologyDrive\\Development\\Bachelorarbeit\\squlearn\\venv\\lib\\site-packages\\skopt\\optimizer\\optimizer.py:449: UserWarning: The objective has been evaluated at this point before.\n",
      "  warnings.warn(\"The objective has been evaluated \"\n"
     ]
    },
    {
     "name": "stdout",
     "output_type": "stream",
     "text": [
      "BOP  fval:  2.5113646192441905  x:  [0.0]\n"
     ]
    },
    {
     "name": "stderr",
     "output_type": "stream",
     "text": [
      "C:\\Users\\Dennis\\SynologyDrive\\Development\\Bachelorarbeit\\squlearn\\venv\\lib\\site-packages\\skopt\\optimizer\\optimizer.py:449: UserWarning: The objective has been evaluated at this point before.\n",
      "  warnings.warn(\"The objective has been evaluated \"\n"
     ]
    },
    {
     "name": "stdout",
     "output_type": "stream",
     "text": [
      "BOP  fval:  2.5113646192441905  x:  [0.0]\n"
     ]
    },
    {
     "name": "stderr",
     "output_type": "stream",
     "text": [
      "C:\\Users\\Dennis\\SynologyDrive\\Development\\Bachelorarbeit\\squlearn\\venv\\lib\\site-packages\\skopt\\optimizer\\optimizer.py:449: UserWarning: The objective has been evaluated at this point before.\n",
      "  warnings.warn(\"The objective has been evaluated \"\n"
     ]
    },
    {
     "name": "stdout",
     "output_type": "stream",
     "text": [
      "BOP  fval:  2.5113646192441905  x:  [0.0]\n",
      "\u001B[91m Iteration:  11 :  gp_minimize:  fval:  2.510111030698173  x:  [0.005636960198174984] \u001B[0m\n",
      "BOP  fval:  2.510550149640545  x:  [0.0]\n",
      "BOP  fval:  2.567323315107481  x:  [0.2]\n",
      "BOP  fval:  2.777550490719055  x:  [0.4]\n",
      "BOP  fval:  3.1419443687654707  x:  [0.6000000000000001]\n",
      "BOP  fval:  3.6593275116475485  x:  [0.8]\n",
      "BOP  fval:  4.326620757424849  x:  [1.0]\n",
      "BOP  fval:  5.138856540491592  x:  [1.2000000000000002]\n",
      "BOP  fval:  6.0892173065047555  x:  [1.4000000000000001]\n",
      "BOP  fval:  7.169098864820061  x:  [1.6]\n",
      "BOP  fval:  8.368198183217755  x:  [1.8]\n",
      "BOP  fval:  9.674624793195603  x:  [2.0]\n",
      "BOP  fval:  11.07503464418605  x:  [2.2]\n",
      "BOP  fval:  12.55478492629302  x:  [2.4000000000000004]\n",
      "BOP  fval:  14.098108078037729  x:  [2.6]\n",
      "BOP  fval:  15.688302912495026  x:  [2.8000000000000003]\n",
      "BOP  fval:  17.01684475748471  x:  [2.964223091125092]\n",
      "BOP  fval:  26.778921893709022  x:  [4.221328742905087]\n",
      "BOP  fval:  27.239567765986884  x:  [4.289728088113785]\n",
      "BOP  fval:  26.880444623251954  x:  [4.236258693920628]\n",
      "BOP  fval:  18.26860596977163  x:  [3.117818483929862]\n",
      "BOP  fval:  9.152570389390714  x:  [1.9219085364634996]\n",
      "BOP  fval:  6.547225771567391  x:  [1.4876730327223617]\n",
      "BOP  fval:  2.636414107414983  x:  [0.28356488658721596]\n",
      "BOP  fval:  5.904753573194237  x:  [1.3632814729005662]\n",
      "BOP  fval:  12.466504055573116  x:  [2.38832558660675]\n",
      "BOP  fval:  2.510526171013021  x:  [0.0002503561344821653]\n"
     ]
    },
    {
     "name": "stderr",
     "output_type": "stream",
     "text": [
      "C:\\Users\\Dennis\\SynologyDrive\\Development\\Bachelorarbeit\\squlearn\\venv\\lib\\site-packages\\skopt\\optimizer\\optimizer.py:449: UserWarning: The objective has been evaluated at this point before.\n",
      "  warnings.warn(\"The objective has been evaluated \"\n"
     ]
    },
    {
     "name": "stdout",
     "output_type": "stream",
     "text": [
      "BOP  fval:  2.510550149640545  x:  [0.0]\n"
     ]
    },
    {
     "name": "stderr",
     "output_type": "stream",
     "text": [
      "C:\\Users\\Dennis\\SynologyDrive\\Development\\Bachelorarbeit\\squlearn\\venv\\lib\\site-packages\\skopt\\optimizer\\optimizer.py:449: UserWarning: The objective has been evaluated at this point before.\n",
      "  warnings.warn(\"The objective has been evaluated \"\n"
     ]
    },
    {
     "name": "stdout",
     "output_type": "stream",
     "text": [
      "BOP  fval:  2.510550149640545  x:  [0.0]\n"
     ]
    },
    {
     "name": "stderr",
     "output_type": "stream",
     "text": [
      "C:\\Users\\Dennis\\SynologyDrive\\Development\\Bachelorarbeit\\squlearn\\venv\\lib\\site-packages\\skopt\\optimizer\\optimizer.py:449: UserWarning: The objective has been evaluated at this point before.\n",
      "  warnings.warn(\"The objective has been evaluated \"\n"
     ]
    },
    {
     "name": "stdout",
     "output_type": "stream",
     "text": [
      "BOP  fval:  2.510550149640545  x:  [0.0]\n",
      "BOP  fval:  2.5104279188593397  x:  [0.0013032368255294637]\n",
      "\u001B[91m Iteration:  12 :  gp_minimize:  fval:  2.5093922062140965  x:  [0.009671540845782603] \u001B[0m\n",
      "BOP  fval:  2.509795919454103  x:  [0.0]\n",
      "BOP  fval:  2.5251683892373675  x:  [0.2]\n",
      "BOP  fval:  2.5876905930252994  x:  [0.4]\n",
      "BOP  fval:  2.6981334478516543  x:  [0.6000000000000001]\n",
      "BOP  fval:  2.857093187838333  x:  [0.8]\n",
      "BOP  fval:  3.0649864632047357  x:  [1.0]\n",
      "BOP  fval:  3.322046129027589  x:  [1.2000000000000002]\n",
      "BOP  fval:  3.6283177511360165  x:  [1.4000000000000001]\n",
      "BOP  fval:  3.98365685376022  x:  [1.6]\n",
      "BOP  fval:  4.387726930644481  x:  [1.8]\n",
      "BOP  fval:  4.839998238295371  x:  [2.0]\n",
      "BOP  fval:  5.3397473868771765  x:  [2.2]\n",
      "BOP  fval:  5.886057740998529  x:  [2.4000000000000004]\n",
      "BOP  fval:  6.477820639276253  x:  [2.6]\n",
      "BOP  fval:  7.1137374381191  x:  [2.8000000000000003]\n",
      "BOP  fval:  7.667872407915149  x:  [2.964223091125092]\n",
      "BOP  fval:  12.751137783136413  x:  [4.221328742905087]\n",
      "BOP  fval:  13.064119152552724  x:  [4.289728088113785]\n",
      "BOP  fval:  12.819186940060987  x:  [4.236258693920628]\n",
      "BOP  fval:  8.211376146641367  x:  [3.117818483929862]\n",
      "BOP  fval:  4.657711528749365  x:  [1.9219085364634996]\n",
      "BOP  fval:  3.778061218812045  x:  [1.4876730327223617]\n",
      "BOP  fval:  2.5455089518723373  x:  [0.28356488658721596]\n",
      "BOP  fval:  3.5684044227864953  x:  [1.3632814729005662]\n",
      "BOP  fval:  5.852907684221367  x:  [2.38832558660675]\n",
      "BOP  fval:  2.50916628864179  x:  [0.0253100268359624]\n",
      "BOP  fval:  2.509186677560911  x:  [0.0447551933226742]\n",
      "BOP  fval:  2.509658440207814  x:  [0.003676955280602635]\n",
      "BOP  fval:  2.509126272915793  x:  [0.03709230424607719]\n",
      "BOP  fval:  2.5091886509718666  x:  [0.04491404651936114]\n",
      "\u001B[91m Iteration:  13 :  gp_minimize:  fval:  2.508923649934904  x:  [0.0266357153158189] \u001B[0m\n",
      "BOP  fval:  2.5091537508167794  x:  [0.0]\n",
      "BOP  fval:  2.507276709258983  x:  [0.2]\n",
      "BOP  fval:  2.5080122396370736  x:  [0.4]\n",
      "BOP  fval:  2.5114145178033174  x:  [0.6000000000000001]\n",
      "BOP  fval:  2.5175375737612105  x:  [0.8]\n",
      "BOP  fval:  2.5264352726091164  x:  [1.0]\n",
      "BOP  fval:  2.5381612953950405  x:  [1.2000000000000002]\n",
      "BOP  fval:  2.552769119888333  x:  [1.4000000000000001]\n",
      "BOP  fval:  2.570312001274182  x:  [1.6]\n",
      "BOP  fval:  2.5908429527769212  x:  [1.8]\n",
      "BOP  fval:  2.6144147262182136  x:  [2.0]\n",
      "BOP  fval:  2.6410797925159115  x:  [2.2]\n",
      "BOP  fval:  2.6708903221301252  x:  [2.4000000000000004]\n",
      "BOP  fval:  2.703898165462221  x:  [2.6]\n",
      "BOP  fval:  2.7401548332132775  x:  [2.8000000000000003]\n",
      "BOP  fval:  2.7723907776404  x:  [2.964223091125092]\n",
      "BOP  fval:  3.0958215150168487  x:  [4.221328742905087]\n",
      "BOP  fval:  3.117448604325287  x:  [4.289728088113785]\n",
      "BOP  fval:  3.10050569157122  x:  [4.236258693920628]\n",
      "BOP  fval:  2.8045791118034096  x:  [3.117818483929862]\n",
      "BOP  fval:  2.604845739885281  x:  [1.9219085364634996]\n",
      "BOP  fval:  2.560094866073386  x:  [1.4876730327223617]\n",
      "BOP  fval:  2.507263164312076  x:  [0.28356488658721596]\n",
      "BOP  fval:  2.5498688398474285  x:  [1.3632814729005662]\n",
      "BOP  fval:  2.669062851251051  x:  [2.38832558660675]\n",
      "BOP  fval:  2.507394647964605  x:  [0.3187055867784789]\n",
      "BOP  fval:  2.507256534503433  x:  [0.20761219164575742]\n",
      "BOP  fval:  2.507223647509058  x:  [0.22582101827508363]\n",
      "BOP  fval:  2.507212623469769  x:  [0.24213601792001666]\n",
      "BOP  fval:  2.507229729086962  x:  [0.22133926293113396]\n",
      "\u001B[91m Iteration:  14 :  gp_minimize:  fval:  2.507222032946193  x:  [0.2435235446000626] \u001B[0m\n",
      "BOP  fval:  2.5072124911641867  x:  [0.0]\n",
      "BOP  fval:  2.611896710732088  x:  [0.2]\n",
      "BOP  fval:  2.990871168474411  x:  [0.4]\n",
      "BOP  fval:  3.6415978355485628  x:  [0.6000000000000001]\n",
      "BOP  fval:  4.555588621927947  x:  [0.8]\n",
      "BOP  fval:  5.718518878593618  x:  [1.0]\n",
      "BOP  fval:  7.110477845559324  x:  [1.2000000000000002]\n",
      "BOP  fval:  8.706352070220433  x:  [1.4000000000000001]\n",
      "BOP  fval:  10.476334620564327  x:  [1.6]\n",
      "BOP  fval:  12.386549843592139  x:  [1.8]\n",
      "BOP  fval:  14.399780545868975  x:  [2.0]\n",
      "BOP  fval:  16.476281871660678  x:  [2.2]\n",
      "BOP  fval:  18.574663890343132  x:  [2.4000000000000004]\n",
      "BOP  fval:  20.652823037212084  x:  [2.6]\n",
      "BOP  fval:  22.66890113037182  x:  [2.8000000000000003]\n",
      "BOP  fval:  24.24927720806174  x:  [2.964223091125092]\n",
      "BOP  fval:  32.05888996241551  x:  [4.221328742905087]\n",
      "BOP  fval:  32.197523672666804  x:  [4.289728088113785]\n",
      "BOP  fval:  32.09197759694702  x:  [4.236258693920628]\n",
      "BOP  fval:  25.645639628808997  x:  [3.117818483929862]\n",
      "BOP  fval:  13.60393239930889  x:  [1.9219085364634996]\n",
      "BOP  fval:  9.462731268679912  x:  [1.4876730327223617]\n",
      "BOP  fval:  2.7368915770090902  x:  [0.28356488658721596]\n",
      "BOP  fval:  8.399373176055644  x:  [1.3632814729005662]\n",
      "BOP  fval:  18.45232383335904  x:  [2.38832558660675]\n"
     ]
    },
    {
     "name": "stderr",
     "output_type": "stream",
     "text": [
      "C:\\Users\\Dennis\\SynologyDrive\\Development\\Bachelorarbeit\\squlearn\\venv\\lib\\site-packages\\skopt\\optimizer\\optimizer.py:449: UserWarning: The objective has been evaluated at this point before.\n",
      "  warnings.warn(\"The objective has been evaluated \"\n"
     ]
    },
    {
     "name": "stdout",
     "output_type": "stream",
     "text": [
      "BOP  fval:  2.5072124911641867  x:  [0.0]\n",
      "BOP  fval:  2.50720930126534  x:  [2.005842783037171e-05]\n"
     ]
    },
    {
     "name": "stderr",
     "output_type": "stream",
     "text": [
      "C:\\Users\\Dennis\\SynologyDrive\\Development\\Bachelorarbeit\\squlearn\\venv\\lib\\site-packages\\skopt\\optimizer\\optimizer.py:449: UserWarning: The objective has been evaluated at this point before.\n",
      "  warnings.warn(\"The objective has been evaluated \"\n"
     ]
    },
    {
     "name": "stdout",
     "output_type": "stream",
     "text": [
      "BOP  fval:  2.5072124911641867  x:  [0.0]\n"
     ]
    },
    {
     "name": "stderr",
     "output_type": "stream",
     "text": [
      "C:\\Users\\Dennis\\SynologyDrive\\Development\\Bachelorarbeit\\squlearn\\venv\\lib\\site-packages\\skopt\\optimizer\\optimizer.py:449: UserWarning: The objective has been evaluated at this point before.\n",
      "  warnings.warn(\"The objective has been evaluated \"\n"
     ]
    },
    {
     "name": "stdout",
     "output_type": "stream",
     "text": [
      "BOP  fval:  2.5072124911641867  x:  [0.0]\n"
     ]
    },
    {
     "name": "stderr",
     "output_type": "stream",
     "text": [
      "C:\\Users\\Dennis\\SynologyDrive\\Development\\Bachelorarbeit\\squlearn\\venv\\lib\\site-packages\\skopt\\optimizer\\optimizer.py:449: UserWarning: The objective has been evaluated at this point before.\n",
      "  warnings.warn(\"The objective has been evaluated \"\n"
     ]
    },
    {
     "name": "stdout",
     "output_type": "stream",
     "text": [
      "BOP  fval:  2.5072124911641867  x:  [0.0]\n",
      "\u001B[91m Iteration:  15 :  gp_minimize:  fval:  2.5059594214234107  x:  [0.005168683713574359] \u001B[0m\n",
      "BOP  fval:  2.506480806372119  x:  [0.0]\n",
      "BOP  fval:  2.565629733205651  x:  [0.2]\n",
      "BOP  fval:  2.783401233029575  x:  [0.4]\n",
      "BOP  fval:  3.1603538999719043  x:  [0.6000000000000001]\n",
      "BOP  fval:  3.6950469365799212  x:  [0.8]\n",
      "BOP  fval:  4.384031773937341  x:  [1.0]\n",
      "BOP  fval:  5.221870635016955  x:  [1.2000000000000002]\n",
      "BOP  fval:  6.2011821621627945  x:  [1.4000000000000001]\n",
      "BOP  fval:  7.312713858505365  x:  [1.6]\n",
      "BOP  fval:  8.545440720409834  x:  [1.8]\n",
      "BOP  fval:  9.886689068896898  x:  [2.0]\n",
      "BOP  fval:  11.322284227544886  x:  [2.2]\n",
      "BOP  fval:  12.836720347800766  x:  [2.4000000000000004]\n",
      "BOP  fval:  14.413350354906427  x:  [2.6]\n",
      "BOP  fval:  16.03459368357967  x:  [2.8000000000000003]\n",
      "BOP  fval:  17.386334225799025  x:  [2.964223091125092]\n",
      "BOP  fval:  27.21222771366432  x:  [4.221328742905087]\n",
      "BOP  fval:  27.668942613606355  x:  [4.289728088113785]\n",
      "BOP  fval:  27.312965926786205  x:  [4.236258693920628]\n",
      "BOP  fval:  18.657479701306755  x:  [3.117818483929862]\n",
      "BOP  fval:  9.350948301164618  x:  [1.9219085364634996]\n",
      "BOP  fval:  6.672773696940964  x:  [1.4876730327223617]\n",
      "BOP  fval:  2.637250459403158  x:  [0.28356488658721596]\n",
      "BOP  fval:  6.011180756456048  x:  [1.3632814729005662]\n",
      "BOP  fval:  12.74644413136623  x:  [2.38832558660675]\n",
      "BOP  fval:  2.5064719599702205  x:  [9.09801846101687e-05]\n"
     ]
    },
    {
     "name": "stderr",
     "output_type": "stream",
     "text": [
      "C:\\Users\\Dennis\\SynologyDrive\\Development\\Bachelorarbeit\\squlearn\\venv\\lib\\site-packages\\skopt\\optimizer\\optimizer.py:449: UserWarning: The objective has been evaluated at this point before.\n",
      "  warnings.warn(\"The objective has been evaluated \"\n"
     ]
    },
    {
     "name": "stdout",
     "output_type": "stream",
     "text": [
      "BOP  fval:  2.506480806372119  x:  [0.0]\n"
     ]
    },
    {
     "name": "stderr",
     "output_type": "stream",
     "text": [
      "C:\\Users\\Dennis\\SynologyDrive\\Development\\Bachelorarbeit\\squlearn\\venv\\lib\\site-packages\\skopt\\optimizer\\optimizer.py:449: UserWarning: The objective has been evaluated at this point before.\n",
      "  warnings.warn(\"The objective has been evaluated \"\n"
     ]
    },
    {
     "name": "stdout",
     "output_type": "stream",
     "text": [
      "BOP  fval:  2.506480806372119  x:  [0.0]\n"
     ]
    },
    {
     "name": "stderr",
     "output_type": "stream",
     "text": [
      "C:\\Users\\Dennis\\SynologyDrive\\Development\\Bachelorarbeit\\squlearn\\venv\\lib\\site-packages\\skopt\\optimizer\\optimizer.py:449: UserWarning: The objective has been evaluated at this point before.\n",
      "  warnings.warn(\"The objective has been evaluated \"\n"
     ]
    },
    {
     "name": "stdout",
     "output_type": "stream",
     "text": [
      "BOP  fval:  2.506480806372119  x:  [0.0]\n",
      "BOP  fval:  2.506410897031505  x:  [0.0007283019037185313]\n",
      "\u001B[91m Iteration:  16 :  gp_minimize:  fval:  2.5053262347443326  x:  [0.008772431815958893] \u001B[0m\n",
      "BOP  fval:  2.5057766262064765  x:  [0.0]\n",
      "BOP  fval:  2.5246302000004226  x:  [0.2]\n",
      "BOP  fval:  2.5990135203182336  x:  [0.4]\n",
      "BOP  fval:  2.7297477795144145  x:  [0.6000000000000001]\n",
      "BOP  fval:  2.917412570662595  x:  [0.8]\n",
      "BOP  fval:  3.1623398332676262  x:  [1.0]\n",
      "BOP  fval:  3.46460892152813  x:  [1.2000000000000002]\n",
      "BOP  fval:  3.824042834460113  x:  [1.4000000000000001]\n",
      "BOP  fval:  4.240205641879045  x:  [1.6]\n",
      "BOP  fval:  4.712401134686592  x:  [1.8]\n",
      "BOP  fval:  5.23967272214481  x:  [2.0]\n",
      "BOP  fval:  5.82080459287027  x:  [2.2]\n",
      "BOP  fval:  6.454324150173443  x:  [2.4000000000000004]\n",
      "BOP  fval:  7.1385057261310525  x:  [2.6]\n",
      "BOP  fval:  7.871375572444788  x:  [2.8000000000000003]\n",
      "BOP  fval:  8.507998919335378  x:  [2.964223091125092]\n",
      "BOP  fval:  14.258405606506098  x:  [4.221328742905087]\n",
      "BOP  fval:  14.606931283572436  x:  [4.289728088113785]\n",
      "BOP  fval:  14.33424027103001  x:  [4.236258693920628]\n",
      "BOP  fval:  9.130594812560316  x:  [3.117818483929862]\n",
      "BOP  fval:  5.027313499246375  x:  [1.9219085364634996]\n",
      "BOP  fval:  3.999525838640506  x:  [1.4876730327223617]\n",
      "BOP  fval:  2.5489030249959033  x:  [0.28356488658721596]\n",
      "BOP  fval:  3.75378559130841  x:  [1.3632814729005662]\n",
      "BOP  fval:  6.415934081401632  x:  [2.38832558660675]\n",
      "BOP  fval:  2.505380272167351  x:  [0.011251967213425494]\n",
      "BOP  fval:  2.5057757661183464  x:  [2.005842783037171e-05]\n",
      "BOP  fval:  2.505528094224538  x:  [0.0064563926815253145]\n",
      "BOP  fval:  2.5051240363211287  x:  [0.037092304246085235]\n",
      "BOP  fval:  2.505370420335403  x:  [0.05123866295316471]\n",
      "\u001B[91m Iteration:  17 :  gp_minimize:  fval:  2.504914563780535  x:  [0.023067174763449588] \u001B[0m\n",
      "BOP  fval:  2.5051499507523625  x:  [0.0]\n",
      "BOP  fval:  2.5025705649645205  x:  [0.2]\n",
      "BOP  fval:  2.500386401178875  x:  [0.4]\n",
      "BOP  fval:  2.4986045497750733  x:  [0.6000000000000001]\n",
      "BOP  fval:  2.4972321406818856  x:  [0.8]\n",
      "BOP  fval:  2.4962763430468393  x:  [1.0]\n",
      "BOP  fval:  2.4957443649025577  x:  [1.2000000000000002]\n",
      "BOP  fval:  2.4956434528299694  x:  [1.4000000000000001]\n",
      "BOP  fval:  2.4959808916182564  x:  [1.6]\n",
      "BOP  fval:  2.496764003921609  x:  [1.8]\n",
      "BOP  fval:  2.4980001499128868  x:  [2.0]\n",
      "BOP  fval:  2.499696726934018  x:  [2.2]\n",
      "BOP  fval:  2.5018611691433286  x:  [2.4000000000000004]\n",
      "BOP  fval:  2.504500947159738  x:  [2.6]\n",
      "BOP  fval:  2.5076235677038126  x:  [2.8000000000000003]\n",
      "BOP  fval:  2.5105539099453074  x:  [2.964223091125092]\n",
      "BOP  fval:  2.5443876350599757  x:  [4.221328742905087]\n",
      "BOP  fval:  2.5468287583563396  x:  [4.289728088113785]\n",
      "BOP  fval:  2.5449150252283483  x:  [4.236258693920628]\n",
      "BOP  fval:  2.5135975571860545  x:  [3.117818483929862]\n",
      "BOP  fval:  2.4974631051005525  x:  [1.9219085364634996]\n",
      "BOP  fval:  2.49573698167409  x:  [1.4876730327223617]\n",
      "BOP  fval:  2.501609492997247  x:  [0.28356488658721596]\n",
      "BOP  fval:  2.495629344034259  x:  [1.3632814729005662]\n",
      "BOP  fval:  2.501721835418587  x:  [2.38832558660675]\n",
      "BOP  fval:  2.538909720144941  x:  [4.060843643877467]\n",
      "BOP  fval:  2.506408076293236  x:  [2.7257884294374364]\n",
      "BOP  fval:  2.4979940591795127  x:  [0.6816984971174002]\n",
      "BOP  fval:  2.495863017512147  x:  [1.553533012755365]\n",
      "BOP  fval:  2.50912943266641  x:  [2.886715904970453]\n",
      "\u001B[91m Iteration:  18 :  gp_minimize:  fval:  2.4956278989498117  x:  [1.3463859428798275] \u001B[0m\n",
      "BOP  fval:  2.4956278030183148  x:  [0.0]\n",
      "BOP  fval:  3.0816348344731384  x:  [0.2]\n",
      "BOP  fval:  5.091535760599498  x:  [0.4]\n",
      "BOP  fval:  8.326443672138625  x:  [0.6000000000000001]\n",
      "BOP  fval:  12.450155359250887  x:  [0.8]\n",
      "BOP  fval:  17.02719207033368  x:  [1.0]\n",
      "BOP  fval:  21.57290243553632  x:  [1.2000000000000002]\n",
      "BOP  fval:  25.609767257853527  x:  [1.4000000000000001]\n",
      "BOP  fval:  28.723237495551835  x:  [1.6]\n",
      "BOP  fval:  30.61042163886804  x:  [1.8]\n",
      "BOP  fval:  31.115727903148212  x:  [2.0]\n",
      "BOP  fval:  30.249074424516323  x:  [2.2]\n",
      "BOP  fval:  28.184333484896523  x:  [2.4000000000000004]\n",
      "BOP  fval:  25.238032467229413  x:  [2.6]\n",
      "BOP  fval:  21.8307140432452  x:  [2.8000000000000003]\n",
      "BOP  fval:  19.02058747423875  x:  [2.964223091125092]\n",
      "BOP  fval:  17.98236852413073  x:  [4.221328742905087]\n",
      "BOP  fval:  19.158662154253378  x:  [4.289728088113785]\n",
      "BOP  fval:  18.232733019231652  x:  [4.236258693920628]\n",
      "BOP  fval:  16.631848733487935  x:  [3.117818483929862]\n",
      "BOP  fval:  31.085986739780925  x:  [1.9219085364634996]\n",
      "BOP  fval:  27.10919977883701  x:  [1.4876730327223617]\n",
      "BOP  fval:  3.756212017543328  x:  [0.28356488658721596]\n",
      "BOP  fval:  24.92681654576162  x:  [1.3632814729005662]\n",
      "BOP  fval:  28.332731781856893  x:  [2.38832558660675]\n",
      "BOP  fval:  2.4946322981178146  x:  [0.0013453061883200552]\n",
      "BOP  fval:  2.4910601928611884  x:  [0.00723731642616832]\n"
     ]
    },
    {
     "name": "stderr",
     "output_type": "stream",
     "text": [
      "C:\\Users\\Dennis\\SynologyDrive\\Development\\Bachelorarbeit\\squlearn\\venv\\lib\\site-packages\\skopt\\optimizer\\optimizer.py:449: UserWarning: The objective has been evaluated at this point before.\n",
      "  warnings.warn(\"The objective has been evaluated \"\n"
     ]
    },
    {
     "name": "stdout",
     "output_type": "stream",
     "text": [
      "BOP  fval:  2.4956278030183148  x:  [0.0]\n",
      "BOP  fval:  2.487716998461301  x:  [0.020565970349781068]\n"
     ]
    },
    {
     "name": "stderr",
     "output_type": "stream",
     "text": [
      "C:\\Users\\Dennis\\SynologyDrive\\Development\\Bachelorarbeit\\squlearn\\venv\\lib\\site-packages\\skopt\\optimizer\\optimizer.py:449: UserWarning: The objective has been evaluated at this point before.\n",
      "  warnings.warn(\"The objective has been evaluated \"\n"
     ]
    },
    {
     "name": "stdout",
     "output_type": "stream",
     "text": [
      "BOP  fval:  2.4956278030183148  x:  [0.0]\n",
      "\u001B[91m Iteration:  19 :  gp_minimize:  fval:  2.4918847041419223  x:  [0.008670710176889362] \u001B[0m\n",
      "BOP  fval:  2.49038526224714  x:  [0.0]\n",
      "BOP  fval:  2.684065997479418  x:  [0.2]\n",
      "BOP  fval:  3.3670131429467873  x:  [0.4]\n",
      "BOP  fval:  4.522401152179888  x:  [0.6000000000000001]\n",
      "BOP  fval:  6.11565219935234  x:  [0.8]\n",
      "BOP  fval:  8.095591154836786  x:  [1.0]\n",
      "BOP  fval:  10.396269009938802  x:  [1.2000000000000002]\n",
      "BOP  fval:  12.939389622849003  x:  [1.4000000000000001]\n",
      "BOP  fval:  15.637249658037527  x:  [1.6]\n",
      "BOP  fval:  18.39607992689178  x:  [1.8]\n",
      "BOP  fval:  21.119658922989686  x:  [2.0]\n",
      "BOP  fval:  23.713056934656052  x:  [2.2]\n",
      "BOP  fval:  26.086362270610504  x:  [2.4000000000000004]\n",
      "BOP  fval:  28.15824019345061  x:  [2.6]\n",
      "BOP  fval:  29.85918022750431  x:  [2.8000000000000003]\n",
      "BOP  fval:  30.939403035420163  x:  [2.964223091125092]\n",
      "BOP  fval:  28.861137957170662  x:  [4.221328742905087]\n",
      "BOP  fval:  28.29244934409405  x:  [4.289728088113785]\n",
      "BOP  fval:  28.739832799989102  x:  [4.236258693920628]\n",
      "BOP  fval:  31.670041252522125  x:  [3.117818483929862]\n",
      "BOP  fval:  20.06654556877008  x:  [1.9219085364634996]\n",
      "BOP  fval:  14.108423187962744  x:  [1.4876730327223617]\n",
      "BOP  fval:  2.9104665242430214  x:  [0.28356488658721596]\n",
      "BOP  fval:  12.458199625287273  x:  [1.3632814729005662]\n",
      "BOP  fval:  25.955372620285303  x:  [2.38832558660675]\n"
     ]
    },
    {
     "name": "stderr",
     "output_type": "stream",
     "text": [
      "C:\\Users\\Dennis\\SynologyDrive\\Development\\Bachelorarbeit\\squlearn\\venv\\lib\\site-packages\\skopt\\optimizer\\optimizer.py:449: UserWarning: The objective has been evaluated at this point before.\n",
      "  warnings.warn(\"The objective has been evaluated \"\n"
     ]
    },
    {
     "name": "stdout",
     "output_type": "stream",
     "text": [
      "BOP  fval:  2.49038526224714  x:  [0.0]\n"
     ]
    },
    {
     "name": "stderr",
     "output_type": "stream",
     "text": [
      "C:\\Users\\Dennis\\SynologyDrive\\Development\\Bachelorarbeit\\squlearn\\venv\\lib\\site-packages\\skopt\\optimizer\\optimizer.py:449: UserWarning: The objective has been evaluated at this point before.\n",
      "  warnings.warn(\"The objective has been evaluated \"\n"
     ]
    },
    {
     "name": "stdout",
     "output_type": "stream",
     "text": [
      "BOP  fval:  2.49038526224714  x:  [0.0]\n"
     ]
    },
    {
     "name": "stderr",
     "output_type": "stream",
     "text": [
      "C:\\Users\\Dennis\\SynologyDrive\\Development\\Bachelorarbeit\\squlearn\\venv\\lib\\site-packages\\skopt\\optimizer\\optimizer.py:449: UserWarning: The objective has been evaluated at this point before.\n",
      "  warnings.warn(\"The objective has been evaluated \"\n"
     ]
    },
    {
     "name": "stdout",
     "output_type": "stream",
     "text": [
      "BOP  fval:  2.49038526224714  x:  [0.0]\n"
     ]
    },
    {
     "name": "stderr",
     "output_type": "stream",
     "text": [
      "C:\\Users\\Dennis\\SynologyDrive\\Development\\Bachelorarbeit\\squlearn\\venv\\lib\\site-packages\\skopt\\optimizer\\optimizer.py:449: UserWarning: The objective has been evaluated at this point before.\n",
      "  warnings.warn(\"The objective has been evaluated \"\n"
     ]
    },
    {
     "name": "stdout",
     "output_type": "stream",
     "text": [
      "BOP  fval:  2.49038526224714  x:  [0.0]\n"
     ]
    },
    {
     "name": "stderr",
     "output_type": "stream",
     "text": [
      "C:\\Users\\Dennis\\SynologyDrive\\Development\\Bachelorarbeit\\squlearn\\venv\\lib\\site-packages\\skopt\\optimizer\\optimizer.py:449: UserWarning: The objective has been evaluated at this point before.\n",
      "  warnings.warn(\"The objective has been evaluated \"\n"
     ]
    },
    {
     "name": "stdout",
     "output_type": "stream",
     "text": [
      "BOP  fval:  2.49038526224714  x:  [0.0]\n",
      "\u001B[91m Iteration:  20 :  gp_minimize:  fval:  2.4891708681408353  x:  [0.004876932080315992] \u001B[0m\n",
      "BOP  fval:  2.4892625591702675  x:  [0.0]\n",
      "BOP  fval:  2.6007282159701886  x:  [0.2]\n",
      "BOP  fval:  2.9978084666476366  x:  [0.4]\n",
      "BOP  fval:  3.676933328910657  x:  [0.6000000000000001]\n",
      "BOP  fval:  4.628389565502276  x:  [0.8]\n",
      "BOP  fval:  5.83647126034313  x:  [1.0]\n",
      "BOP  fval:  7.27976993740998  x:  [1.2000000000000002]\n",
      "BOP  fval:  8.931599112895244  x:  [1.4000000000000001]\n",
      "BOP  fval:  10.760544963553803  x:  [1.6]\n",
      "BOP  fval:  12.731131743884122  x:  [1.8]\n",
      "BOP  fval:  14.804587765658596  x:  [2.0]\n",
      "BOP  fval:  16.939695234454184  x:  [2.2]\n",
      "BOP  fval:  19.093705082103522  x:  [2.4000000000000004]\n",
      "BOP  fval:  21.223296196435122  x:  [2.6]\n",
      "BOP  fval:  23.285557176084662  x:  [2.8000000000000003]\n",
      "BOP  fval:  24.899311285241545  x:  [2.964223091125092]\n",
      "BOP  fval:  32.802354732075024  x:  [4.221328742905087]\n",
      "BOP  fval:  32.93774443811585  x:  [4.289728088113785]\n",
      "BOP  fval:  32.83480186047881  x:  [4.236258693920628]\n",
      "BOP  fval:  26.322810966092714  x:  [3.117818483929862]\n",
      "BOP  fval:  13.98533784749044  x:  [1.9219085364634996]\n",
      "BOP  fval:  9.713550481947149  x:  [1.4876730327223617]\n",
      "BOP  fval:  2.7319653286803316  x:  [0.28356488658721596]\n",
      "BOP  fval:  8.614074191637366  x:  [1.3632814729005662]\n",
      "BOP  fval:  18.96822215565678  x:  [2.38832558660675]\n"
     ]
    },
    {
     "name": "stderr",
     "output_type": "stream",
     "text": [
      "C:\\Users\\Dennis\\SynologyDrive\\Development\\Bachelorarbeit\\squlearn\\venv\\lib\\site-packages\\skopt\\optimizer\\optimizer.py:449: UserWarning: The objective has been evaluated at this point before.\n",
      "  warnings.warn(\"The objective has been evaluated \"\n"
     ]
    },
    {
     "name": "stdout",
     "output_type": "stream",
     "text": [
      "BOP  fval:  2.4892625591702675  x:  [0.0]\n",
      "BOP  fval:  2.4892594526149088  x:  [2.005842783037171e-05]\n"
     ]
    },
    {
     "name": "stderr",
     "output_type": "stream",
     "text": [
      "C:\\Users\\Dennis\\SynologyDrive\\Development\\Bachelorarbeit\\squlearn\\venv\\lib\\site-packages\\skopt\\optimizer\\optimizer.py:449: UserWarning: The objective has been evaluated at this point before.\n",
      "  warnings.warn(\"The objective has been evaluated \"\n"
     ]
    },
    {
     "name": "stdout",
     "output_type": "stream",
     "text": [
      "BOP  fval:  2.4892625591702675  x:  [0.0]\n"
     ]
    },
    {
     "name": "stderr",
     "output_type": "stream",
     "text": [
      "C:\\Users\\Dennis\\SynologyDrive\\Development\\Bachelorarbeit\\squlearn\\venv\\lib\\site-packages\\skopt\\optimizer\\optimizer.py:449: UserWarning: The objective has been evaluated at this point before.\n",
      "  warnings.warn(\"The objective has been evaluated \"\n"
     ]
    },
    {
     "name": "stdout",
     "output_type": "stream",
     "text": [
      "BOP  fval:  2.4892625591702675  x:  [0.0]\n"
     ]
    },
    {
     "name": "stderr",
     "output_type": "stream",
     "text": [
      "C:\\Users\\Dennis\\SynologyDrive\\Development\\Bachelorarbeit\\squlearn\\venv\\lib\\site-packages\\skopt\\optimizer\\optimizer.py:449: UserWarning: The objective has been evaluated at this point before.\n",
      "  warnings.warn(\"The objective has been evaluated \"\n"
     ]
    },
    {
     "name": "stdout",
     "output_type": "stream",
     "text": [
      "BOP  fval:  2.4892625591702675  x:  [0.0]\n",
      "\u001B[91m Iteration:  21 :  gp_minimize:  fval:  2.488002420041113  x:  [0.0028912232169213204] \u001B[0m\n",
      "BOP  fval:  2.48884420386677  x:  [0.0]\n",
      "BOP  fval:  2.5704687905719195  x:  [0.2]\n",
      "BOP  fval:  2.863121216205594  x:  [0.4]\n",
      "BOP  fval:  3.3658368962584326  x:  [0.6000000000000001]\n",
      "BOP  fval:  4.0742828333400976  x:  [0.8]\n",
      "BOP  fval:  4.980791478018593  x:  [1.0]\n",
      "BOP  fval:  6.0744516784634826  x:  [1.2000000000000002]\n",
      "BOP  fval:  7.341255827450792  x:  [1.4000000000000001]\n",
      "BOP  fval:  8.764301331131518  x:  [1.6]\n",
      "BOP  fval:  10.324043560829747  x:  [1.8]\n",
      "BOP  fval:  11.998596524061973  x:  [2.0]\n",
      "BOP  fval:  13.764076620560797  x:  [2.2]\n",
      "BOP  fval:  15.594984049155029  x:  [2.4000000000000004]\n",
      "BOP  fval:  17.464615716687387  x:  [2.6]\n",
      "BOP  fval:  19.34550288419176  x:  [2.8000000000000003]\n",
      "BOP  fval:  20.878811108540905  x:  [2.964223091125092]\n",
      "BOP  fval:  30.690839419944965  x:  [4.221328742905087]\n",
      "BOP  fval:  31.06138213245835  x:  [4.289728088113785]\n",
      "BOP  fval:  30.773570668300426  x:  [4.236258693920628]\n",
      "BOP  fval:  22.28923505050854  x:  [3.117818483929862]\n",
      "BOP  fval:  11.332577345116293  x:  [1.9219085364634996]\n",
      "BOP  fval:  7.946931830420163  x:  [1.4876730327223617]\n",
      "BOP  fval:  2.6670590253744444  x:  [0.28356488658721596]\n",
      "BOP  fval:  7.09643383038869  x:  [1.3632814729005662]\n",
      "BOP  fval:  15.486782592121932  x:  [2.38832558660675]\n"
     ]
    },
    {
     "name": "stderr",
     "output_type": "stream",
     "text": [
      "C:\\Users\\Dennis\\SynologyDrive\\Development\\Bachelorarbeit\\squlearn\\venv\\lib\\site-packages\\skopt\\optimizer\\optimizer.py:449: UserWarning: The objective has been evaluated at this point before.\n",
      "  warnings.warn(\"The objective has been evaluated \"\n"
     ]
    },
    {
     "name": "stdout",
     "output_type": "stream",
     "text": [
      "BOP  fval:  2.48884420386677  x:  [0.0]\n",
      "BOP  fval:  2.488841860939346  x:  [2.005842783037171e-05]\n"
     ]
    },
    {
     "name": "stderr",
     "output_type": "stream",
     "text": [
      "C:\\Users\\Dennis\\SynologyDrive\\Development\\Bachelorarbeit\\squlearn\\venv\\lib\\site-packages\\skopt\\optimizer\\optimizer.py:449: UserWarning: The objective has been evaluated at this point before.\n",
      "  warnings.warn(\"The objective has been evaluated \"\n"
     ]
    },
    {
     "name": "stdout",
     "output_type": "stream",
     "text": [
      "BOP  fval:  2.48884420386677  x:  [0.0]\n"
     ]
    },
    {
     "name": "stderr",
     "output_type": "stream",
     "text": [
      "C:\\Users\\Dennis\\SynologyDrive\\Development\\Bachelorarbeit\\squlearn\\venv\\lib\\site-packages\\skopt\\optimizer\\optimizer.py:449: UserWarning: The objective has been evaluated at this point before.\n",
      "  warnings.warn(\"The objective has been evaluated \"\n"
     ]
    },
    {
     "name": "stdout",
     "output_type": "stream",
     "text": [
      "BOP  fval:  2.48884420386677  x:  [0.0]\n"
     ]
    },
    {
     "name": "stderr",
     "output_type": "stream",
     "text": [
      "C:\\Users\\Dennis\\SynologyDrive\\Development\\Bachelorarbeit\\squlearn\\venv\\lib\\site-packages\\skopt\\optimizer\\optimizer.py:449: UserWarning: The objective has been evaluated at this point before.\n",
      "  warnings.warn(\"The objective has been evaluated \"\n"
     ]
    },
    {
     "name": "stdout",
     "output_type": "stream",
     "text": [
      "BOP  fval:  2.48884420386677  x:  [0.0]\n",
      "\u001B[91m Iteration:  22 :  gp_minimize:  fval:  2.48761106593118  x:  [0.003996365571416527] \u001B[0m\n",
      "BOP  fval:  2.4884189119364333  x:  [0.0]\n",
      "BOP  fval:  2.5405107856059104  x:  [0.2]\n",
      "BOP  fval:  2.729464358129946  x:  [0.4]\n",
      "BOP  fval:  3.0557264356818052  x:  [0.6000000000000001]\n",
      "BOP  fval:  3.5183237211601712  x:  [0.8]\n",
      "BOP  fval:  4.114856902287178  x:  [1.0]\n",
      "BOP  fval:  4.841510453859338  x:  [1.2000000000000002]\n",
      "BOP  fval:  5.693078229414178  x:  [1.4000000000000001]\n",
      "BOP  fval:  6.66300474004898  x:  [1.6]\n",
      "BOP  fval:  7.743441839698781  x:  [1.8]\n",
      "BOP  fval:  8.925320358867307  x:  [2.0]\n",
      "BOP  fval:  10.198436054647425  x:  [2.2]\n",
      "BOP  fval:  11.551549075879201  x:  [2.4000000000000004]\n",
      "BOP  fval:  12.972495980468679  x:  [2.6]\n",
      "BOP  fval:  14.448313189146763  x:  [2.8000000000000003]\n",
      "BOP  fval:  15.691588941924278  x:  [2.964223091125092]\n",
      "BOP  fval:  25.276078263725857  x:  [4.221328742905087]\n",
      "BOP  fval:  25.759857473088612  x:  [4.289728088113785]\n",
      "BOP  fval:  25.38231007257413  x:  [4.236258693920628]\n",
      "BOP  fval:  16.872660335252615  x:  [3.117818483929862]\n",
      "BOP  fval:  8.452403086721917  x:  [1.9219085364634996]\n",
      "BOP  fval:  6.104124350358061  x:  [1.4876730327223617]\n",
      "BOP  fval:  2.6027568026827996  x:  [0.28356488658721596]\n",
      "BOP  fval:  5.5276549170522395  x:  [1.3632814729005662]\n",
      "BOP  fval:  11.4705788890529  x:  [2.38832558660675]\n",
      "BOP  fval:  2.488413242969297  x:  [7.169299491089453e-05]\n",
      "BOP  fval:  2.488406994877463  x:  [0.00015096557682443373]\n",
      "BOP  fval:  2.4883478529349246  x:  [0.0009151417098583778]\n"
     ]
    },
    {
     "name": "stderr",
     "output_type": "stream",
     "text": [
      "C:\\Users\\Dennis\\SynologyDrive\\Development\\Bachelorarbeit\\squlearn\\venv\\lib\\site-packages\\skopt\\optimizer\\optimizer.py:449: UserWarning: The objective has been evaluated at this point before.\n",
      "  warnings.warn(\"The objective has been evaluated \"\n"
     ]
    },
    {
     "name": "stdout",
     "output_type": "stream",
     "text": [
      "BOP  fval:  2.4884189119364333  x:  [0.0]\n",
      "BOP  fval:  2.488339708863792  x:  [0.001022412044135005]\n",
      "\u001B[91m Iteration:  23 :  gp_minimize:  fval:  2.4873671602654106  x:  [0.0077871863897211535] \u001B[0m\n",
      "BOP  fval:  2.487904667868548  x:  [0.0]\n",
      "BOP  fval:  2.5065757473883052  x:  [0.2]\n",
      "BOP  fval:  2.5777579807332964  x:  [0.4]\n",
      "BOP  fval:  2.702087241170538  x:  [0.6000000000000001]\n",
      "BOP  fval:  2.8799924809619233  x:  [0.8]\n",
      "BOP  fval:  3.1116915038114614  x:  [1.0]\n",
      "BOP  fval:  3.397187606295448  x:  [1.2000000000000002]\n",
      "BOP  fval:  3.736267113014449  x:  [1.4000000000000001]\n",
      "BOP  fval:  4.128497826487745  x:  [1.6]\n",
      "BOP  fval:  4.5732284089614055  x:  [1.8]\n",
      "BOP  fval:  5.069588709328531  x:  [2.0]\n",
      "BOP  fval:  5.616491044289787  x:  [2.2]\n",
      "BOP  fval:  6.212632438722403  x:  [2.4000000000000004]\n",
      "BOP  fval:  6.856497826004295  x:  [2.6]\n",
      "BOP  fval:  7.546364204763616  x:  [2.8000000000000003]\n",
      "BOP  fval:  8.145870054227304  x:  [2.964223091125092]\n",
      "BOP  fval:  13.58044777531638  x:  [4.221328742905087]\n",
      "BOP  fval:  13.911405014962568  x:  [4.289728088113785]\n",
      "BOP  fval:  13.652440822436308  x:  [4.236258693920628]\n",
      "BOP  fval:  8.732445542747183  x:  [3.117818483929862]\n",
      "BOP  fval:  4.869701888243488  x:  [1.9219085364634996]\n",
      "BOP  fval:  3.9016978421968105  x:  [1.4876730327223617]\n",
      "BOP  fval:  2.5298896295958984  x:  [0.28356488658721596]\n",
      "BOP  fval:  3.6700155715239258  x:  [1.3632814729005662]\n",
      "BOP  fval:  6.176507187279301  x:  [2.38832558660675]\n",
      "BOP  fval:  2.487392312306854  x:  [0.025310026835960783]\n",
      "BOP  fval:  2.487388346728921  x:  [0.029961222125915794]\n",
      "BOP  fval:  2.487738648779359  x:  [0.051600625021369646]\n",
      "BOP  fval:  2.487422603180341  x:  [0.03575393590360521]\n",
      "BOP  fval:  2.4878269577217447  x:  [0.0022088220336735635]\n",
      "\u001B[91m Iteration:  24 :  gp_minimize:  fval:  2.487079254389621  x:  [0.01888472886127576] \u001B[0m\n",
      "BOP  fval:  2.48744387654355  x:  [0.0]\n",
      "BOP  fval:  2.485530033234026  x:  [0.2]\n",
      "BOP  fval:  2.4839417394003527  x:  [0.4]\n",
      "BOP  fval:  2.482684002850206  x:  [0.6000000000000001]\n",
      "BOP  fval:  2.481761854362921  x:  [0.8]\n",
      "BOP  fval:  2.481180347503269  x:  [1.0]\n",
      "BOP  fval:  2.480944558433813  x:  [1.2000000000000002]\n",
      "BOP  fval:  2.481059585725717  x:  [1.4000000000000001]\n",
      "BOP  fval:  2.481530550167945  x:  [1.6]\n",
      "BOP  fval:  2.482362594575126  x:  [1.8]\n",
      "BOP  fval:  2.4835608835938077  x:  [2.0]\n",
      "BOP  fval:  2.4851306035071796  x:  [2.2]\n",
      "BOP  fval:  2.48707696203844  x:  [2.4000000000000004]\n",
      "BOP  fval:  2.48940518815257  x:  [2.6]\n",
      "BOP  fval:  2.4921205318566644  x:  [2.8000000000000003]\n",
      "BOP  fval:  2.494643285151903  x:  [2.964223091125092]\n",
      "BOP  fval:  2.5230322461949855  x:  [4.221328742905087]\n",
      "BOP  fval:  2.525052589641879  x:  [4.289728088113785]\n",
      "BOP  fval:  2.5234689365208567  x:  [4.236258693920628]\n",
      "BOP  fval:  2.4972448038812423  x:  [3.117818483929862]\n",
      "BOP  fval:  2.4830490890537185  x:  [1.9219085364634996]\n",
      "BOP  fval:  2.4812219210334634  x:  [1.4876730327223617]\n",
      "BOP  fval:  2.4848265234424654  x:  [0.28356488658721596]\n",
      "BOP  fval:  2.4810119442018994  x:  [1.3632814729005662]\n",
      "BOP  fval:  2.486952905233214  x:  [2.38832558660675]\n",
      "BOP  fval:  2.518489174614939  x:  [4.060843643877467]\n",
      "BOP  fval:  2.491067477172759  x:  [2.7257884294374364]\n",
      "BOP  fval:  2.4822664825255027  x:  [0.6816984971174002]\n",
      "BOP  fval:  2.481389117138833  x:  [1.553533012755365]\n",
      "BOP  fval:  2.4934194878495064  x:  [2.886715904970453]\n",
      "\u001B[91m Iteration:  25 :  gp_minimize:  fval:  2.480939162900648  x:  [1.2346518143442746] \u001B[0m\n",
      "BOP  fval:  2.480939219275166  x:  [0.0]\n",
      "BOP  fval:  2.92571531375434  x:  [0.2]\n",
      "BOP  fval:  4.453591786428479  x:  [0.4]\n",
      "BOP  fval:  6.957336480553588  x:  [0.6000000000000001]\n",
      "BOP  fval:  10.250259598638763  x:  [0.8]\n",
      "BOP  fval:  14.081382837797417  x:  [1.0]\n",
      "BOP  fval:  18.156237673371724  x:  [1.2000000000000002]\n",
      "BOP  fval:  22.161543516581453  x:  [1.4000000000000001]\n",
      "BOP  fval:  25.791662183846682  x:  [1.6]\n",
      "BOP  fval:  28.774550778570372  x:  [1.8]\n",
      "BOP  fval:  30.89495775004754  x:  [2.0]\n",
      "BOP  fval:  32.01282656074777  x:  [2.2]\n",
      "BOP  fval:  32.07527084199771  x:  [2.4000000000000004]\n",
      "BOP  fval:  31.12103103645679  x:  [2.6]\n",
      "BOP  fval:  29.276969043514086  x:  [2.8000000000000003]\n",
      "BOP  fval:  27.23873686170387  x:  [2.964223091125092]\n",
      "BOP  fval:  12.83774010019805  x:  [4.221328742905087]\n",
      "BOP  fval:  12.81984494933078  x:  [4.289728088113785]\n",
      "BOP  fval:  12.823808443366985  x:  [4.236258693920628]\n",
      "BOP  fval:  25.039578549403195  x:  [3.117818483929862]\n",
      "BOP  fval:  30.18044719546789  x:  [1.9219085364634996]\n",
      "BOP  fval:  23.816156258418363  x:  [1.4876730327223617]\n",
      "BOP  fval:  3.4365939430034604  x:  [0.28356488658721596]\n",
      "BOP  fval:  21.445583392205123  x:  [1.3632814729005662]\n",
      "BOP  fval:  32.100371440476515  x:  [2.38832558660675]\n"
     ]
    },
    {
     "name": "stderr",
     "output_type": "stream",
     "text": [
      "C:\\Users\\Dennis\\SynologyDrive\\Development\\Bachelorarbeit\\squlearn\\venv\\lib\\site-packages\\skopt\\optimizer\\optimizer.py:449: UserWarning: The objective has been evaluated at this point before.\n",
      "  warnings.warn(\"The objective has been evaluated \"\n"
     ]
    },
    {
     "name": "stdout",
     "output_type": "stream",
     "text": [
      "BOP  fval:  2.480939219275166  x:  [0.0]\n"
     ]
    },
    {
     "name": "stderr",
     "output_type": "stream",
     "text": [
      "C:\\Users\\Dennis\\SynologyDrive\\Development\\Bachelorarbeit\\squlearn\\venv\\lib\\site-packages\\skopt\\optimizer\\optimizer.py:449: UserWarning: The objective has been evaluated at this point before.\n",
      "  warnings.warn(\"The objective has been evaluated \"\n"
     ]
    },
    {
     "name": "stdout",
     "output_type": "stream",
     "text": [
      "BOP  fval:  2.480939219275166  x:  [0.0]\n"
     ]
    },
    {
     "name": "stderr",
     "output_type": "stream",
     "text": [
      "C:\\Users\\Dennis\\SynologyDrive\\Development\\Bachelorarbeit\\squlearn\\venv\\lib\\site-packages\\skopt\\optimizer\\optimizer.py:449: UserWarning: The objective has been evaluated at this point before.\n",
      "  warnings.warn(\"The objective has been evaluated \"\n"
     ]
    },
    {
     "name": "stdout",
     "output_type": "stream",
     "text": [
      "BOP  fval:  2.480939219275166  x:  [0.0]\n"
     ]
    },
    {
     "name": "stderr",
     "output_type": "stream",
     "text": [
      "C:\\Users\\Dennis\\SynologyDrive\\Development\\Bachelorarbeit\\squlearn\\venv\\lib\\site-packages\\skopt\\optimizer\\optimizer.py:449: UserWarning: The objective has been evaluated at this point before.\n",
      "  warnings.warn(\"The objective has been evaluated \"\n"
     ]
    },
    {
     "name": "stdout",
     "output_type": "stream",
     "text": [
      "BOP  fval:  2.480939219275166  x:  [0.0]\n"
     ]
    },
    {
     "name": "stderr",
     "output_type": "stream",
     "text": [
      "C:\\Users\\Dennis\\SynologyDrive\\Development\\Bachelorarbeit\\squlearn\\venv\\lib\\site-packages\\skopt\\optimizer\\optimizer.py:449: UserWarning: The objective has been evaluated at this point before.\n",
      "  warnings.warn(\"The objective has been evaluated \"\n"
     ]
    },
    {
     "name": "stdout",
     "output_type": "stream",
     "text": [
      "BOP  fval:  2.480939219275166  x:  [0.0]\n",
      "\u001B[91m Iteration:  26 :  gp_minimize:  fval:  2.4799823968593735  x:  [0.0035893860175621652] \u001B[0m\n",
      "BOP  fval:  2.4791304459525128  x:  [0.0]\n",
      "BOP  fval:  2.77644195733509  x:  [0.2]\n",
      "BOP  fval:  3.8074066606749413  x:  [0.4]\n",
      "BOP  fval:  5.527195903349856  x:  [0.6000000000000001]\n",
      "BOP  fval:  7.853321860151444  x:  [0.8]\n",
      "BOP  fval:  10.669988985564942  x:  [1.0]\n",
      "BOP  fval:  13.834397020256512  x:  [1.2000000000000002]\n",
      "BOP  fval:  17.18464835319069  x:  [1.4000000000000001]\n",
      "BOP  fval:  20.54881551324637  x:  [1.6]\n",
      "BOP  fval:  23.75465254307752  x:  [1.8]\n",
      "BOP  fval:  26.639391469189288  x:  [2.0]\n",
      "BOP  fval:  29.059054818373927  x:  [2.2]\n",
      "BOP  fval:  30.89673806985406  x:  [2.4000000000000004]\n",
      "BOP  fval:  32.06937106469036  x:  [2.6]\n",
      "BOP  fval:  32.53255181060101  x:  [2.8000000000000003]\n",
      "BOP  fval:  32.3789265771098  x:  [2.964223091125092]\n",
      "BOP  fval:  20.14722128772198  x:  [4.221328742905087]\n",
      "BOP  fval:  19.312399651027928  x:  [4.289728088113785]\n",
      "BOP  fval:  19.96300167957067  x:  [4.236258693920628]\n",
      "BOP  fval:  31.816532917804853  x:  [3.117818483929862]\n",
      "BOP  fval:  25.56094602644867  x:  [1.9219085364634996]\n",
      "BOP  fval:  18.667938841059424  x:  [1.4876730327223617]\n",
      "BOP  fval:  3.119659033690337  x:  [0.28356488658721596]\n",
      "BOP  fval:  16.56337836685526  x:  [1.3632814729005662]\n",
      "BOP  fval:  30.80711509031975  x:  [2.38832558660675]\n"
     ]
    },
    {
     "name": "stderr",
     "output_type": "stream",
     "text": [
      "C:\\Users\\Dennis\\SynologyDrive\\Development\\Bachelorarbeit\\squlearn\\venv\\lib\\site-packages\\skopt\\optimizer\\optimizer.py:449: UserWarning: The objective has been evaluated at this point before.\n",
      "  warnings.warn(\"The objective has been evaluated \"\n"
     ]
    },
    {
     "name": "stdout",
     "output_type": "stream",
     "text": [
      "BOP  fval:  2.4791304459525128  x:  [0.0]\n",
      "BOP  fval:  2.479122974568523  x:  [2.005842783037171e-05]\n"
     ]
    },
    {
     "name": "stderr",
     "output_type": "stream",
     "text": [
      "C:\\Users\\Dennis\\SynologyDrive\\Development\\Bachelorarbeit\\squlearn\\venv\\lib\\site-packages\\skopt\\optimizer\\optimizer.py:449: UserWarning: The objective has been evaluated at this point before.\n",
      "  warnings.warn(\"The objective has been evaluated \"\n"
     ]
    },
    {
     "name": "stdout",
     "output_type": "stream",
     "text": [
      "BOP  fval:  2.4791304459525128  x:  [0.0]\n",
      "BOP  fval:  2.4791111454462693  x:  [5.185713774863021e-05]\n"
     ]
    },
    {
     "name": "stderr",
     "output_type": "stream",
     "text": [
      "C:\\Users\\Dennis\\SynologyDrive\\Development\\Bachelorarbeit\\squlearn\\venv\\lib\\site-packages\\skopt\\optimizer\\optimizer.py:449: UserWarning: The objective has been evaluated at this point before.\n",
      "  warnings.warn(\"The objective has been evaluated \"\n"
     ]
    },
    {
     "name": "stdout",
     "output_type": "stream",
     "text": [
      "BOP  fval:  2.4791304459525128  x:  [0.0]\n",
      "\u001B[91m Iteration:  27 :  gp_minimize:  fval:  2.4779572954543987  x:  [0.003733487159176933] \u001B[0m\n",
      "BOP  fval:  2.4778683959793035  x:  [0.0]\n",
      "BOP  fval:  2.67273293451379  x:  [0.2]\n",
      "BOP  fval:  3.353608671094625  x:  [0.4]\n",
      "BOP  fval:  4.503544208105837  x:  [0.6000000000000001]\n",
      "BOP  fval:  6.0887118867368795  x:  [0.8]\n",
      "BOP  fval:  8.059514287815439  x:  [1.0]\n",
      "BOP  fval:  10.352297363708521  x:  [1.2000000000000002]\n",
      "BOP  fval:  12.891610723474647  x:  [1.4000000000000001]\n",
      "BOP  fval:  15.592933973341323  x:  [1.6]\n",
      "BOP  fval:  18.365769298739146  x:  [1.8]\n",
      "BOP  fval:  21.11698541494056  x:  [2.0]\n",
      "BOP  fval:  23.754287229604774  x:  [2.2]\n",
      "BOP  fval:  26.189679512077845  x:  [2.4000000000000004]\n",
      "BOP  fval:  28.342791832647954  x:  [2.6]\n",
      "BOP  fval:  30.14393611057147  x:  [2.8000000000000003]\n",
      "BOP  fval:  31.319642963614  x:  [2.964223091125092]\n",
      "BOP  fval:  30.108605267358346  x:  [4.221328742905087]\n",
      "BOP  fval:  29.57599612312816  x:  [4.289728088113785]\n",
      "BOP  fval:  29.995431387578584  x:  [4.236258693920628]\n",
      "BOP  fval:  32.14899898323762  x:  [3.117818483929862]\n",
      "BOP  fval:  20.051277270847276  x:  [1.9219085364634996]\n",
      "BOP  fval:  14.061073434030794  x:  [1.4876730327223617]\n",
      "BOP  fval:  2.8986911591225413  x:  [0.28356488658721596]\n",
      "BOP  fval:  12.410671671255008  x:  [1.3632814729005662]\n",
      "BOP  fval:  26.054543793828888  x:  [2.38832558660675]\n"
     ]
    },
    {
     "name": "stderr",
     "output_type": "stream",
     "text": [
      "C:\\Users\\Dennis\\SynologyDrive\\Development\\Bachelorarbeit\\squlearn\\venv\\lib\\site-packages\\skopt\\optimizer\\optimizer.py:449: UserWarning: The objective has been evaluated at this point before.\n",
      "  warnings.warn(\"The objective has been evaluated \"\n"
     ]
    },
    {
     "name": "stdout",
     "output_type": "stream",
     "text": [
      "BOP  fval:  2.4778683959793035  x:  [0.0]\n",
      "BOP  fval:  2.4778634381980287  x:  [2.005842783037171e-05]\n"
     ]
    },
    {
     "name": "stderr",
     "output_type": "stream",
     "text": [
      "C:\\Users\\Dennis\\SynologyDrive\\Development\\Bachelorarbeit\\squlearn\\venv\\lib\\site-packages\\skopt\\optimizer\\optimizer.py:449: UserWarning: The objective has been evaluated at this point before.\n",
      "  warnings.warn(\"The objective has been evaluated \"\n"
     ]
    },
    {
     "name": "stdout",
     "output_type": "stream",
     "text": [
      "BOP  fval:  2.4778683959793035  x:  [0.0]\n"
     ]
    },
    {
     "name": "stderr",
     "output_type": "stream",
     "text": [
      "C:\\Users\\Dennis\\SynologyDrive\\Development\\Bachelorarbeit\\squlearn\\venv\\lib\\site-packages\\skopt\\optimizer\\optimizer.py:449: UserWarning: The objective has been evaluated at this point before.\n",
      "  warnings.warn(\"The objective has been evaluated \"\n"
     ]
    },
    {
     "name": "stdout",
     "output_type": "stream",
     "text": [
      "BOP  fval:  2.4778683959793035  x:  [0.0]\n"
     ]
    },
    {
     "name": "stderr",
     "output_type": "stream",
     "text": [
      "C:\\Users\\Dennis\\SynologyDrive\\Development\\Bachelorarbeit\\squlearn\\venv\\lib\\site-packages\\skopt\\optimizer\\optimizer.py:449: UserWarning: The objective has been evaluated at this point before.\n",
      "  warnings.warn(\"The objective has been evaluated \"\n"
     ]
    },
    {
     "name": "stdout",
     "output_type": "stream",
     "text": [
      "BOP  fval:  2.4778683959793035  x:  [0.0]\n",
      "\u001B[91m Iteration:  28 :  gp_minimize:  fval:  2.4766692821664797  x:  [0.0032666322822380873] \u001B[0m\n",
      "BOP  fval:  2.477125566778952  x:  [0.0]\n",
      "BOP  fval:  2.6122534268713444  x:  [0.2]\n",
      "BOP  fval:  3.0871476340772324  x:  [0.4]\n",
      "BOP  fval:  3.895139313307799  x:  [0.6000000000000001]\n",
      "BOP  fval:  5.021218327795531  x:  [0.8]\n",
      "BOP  fval:  6.442343815667293  x:  [1.0]\n",
      "BOP  fval:  8.127969414862445  x:  [1.2000000000000002]\n",
      "BOP  fval:  10.040771336274775  x:  [1.4000000000000001]\n",
      "BOP  fval:  12.137561888691522  x:  [1.6]\n",
      "BOP  fval:  14.370365913597162  x:  [1.8]\n",
      "BOP  fval:  16.687632996081714  x:  [2.0]\n",
      "BOP  fval:  19.035554409314575  x:  [2.2]\n",
      "BOP  fval:  21.35945063658797  x:  [2.4000000000000004]\n",
      "BOP  fval:  23.605193088763258  x:  [2.6]\n",
      "BOP  fval:  25.72062236499196  x:  [2.8000000000000003]\n",
      "BOP  fval:  27.325745299984888  x:  [2.964223091125092]\n",
      "BOP  fval:  33.49884728706188  x:  [4.221328742905087]\n",
      "BOP  fval:  33.467374801286965  x:  [4.289728088113785]\n",
      "BOP  fval:  33.495319860708314  x:  [4.236258693920628]\n",
      "BOP  fval:  28.6956732089221  x:  [3.117818483929862]\n",
      "BOP  fval:  15.776189131100908  x:  [1.9219085364634996]\n",
      "BOP  fval:  10.940016440069126  x:  [1.4876730327223617]\n",
      "BOP  fval:  2.7695438042393827  x:  [0.28356488658721596]\n",
      "BOP  fval:  9.674458346066547  x:  [1.3632814729005662]\n",
      "BOP  fval:  21.225429600509425  x:  [2.38832558660675]\n"
     ]
    },
    {
     "name": "stderr",
     "output_type": "stream",
     "text": [
      "C:\\Users\\Dennis\\SynologyDrive\\Development\\Bachelorarbeit\\squlearn\\venv\\lib\\site-packages\\skopt\\optimizer\\optimizer.py:449: UserWarning: The objective has been evaluated at this point before.\n",
      "  warnings.warn(\"The objective has been evaluated \"\n"
     ]
    },
    {
     "name": "stdout",
     "output_type": "stream",
     "text": [
      "BOP  fval:  2.477125566778952  x:  [0.0]\n"
     ]
    },
    {
     "name": "stderr",
     "output_type": "stream",
     "text": [
      "C:\\Users\\Dennis\\SynologyDrive\\Development\\Bachelorarbeit\\squlearn\\venv\\lib\\site-packages\\skopt\\optimizer\\optimizer.py:449: UserWarning: The objective has been evaluated at this point before.\n",
      "  warnings.warn(\"The objective has been evaluated \"\n"
     ]
    },
    {
     "name": "stdout",
     "output_type": "stream",
     "text": [
      "BOP  fval:  2.477125566778952  x:  [0.0]\n"
     ]
    },
    {
     "name": "stderr",
     "output_type": "stream",
     "text": [
      "C:\\Users\\Dennis\\SynologyDrive\\Development\\Bachelorarbeit\\squlearn\\venv\\lib\\site-packages\\skopt\\optimizer\\optimizer.py:449: UserWarning: The objective has been evaluated at this point before.\n",
      "  warnings.warn(\"The objective has been evaluated \"\n"
     ]
    },
    {
     "name": "stdout",
     "output_type": "stream",
     "text": [
      "BOP  fval:  2.477125566778952  x:  [0.0]\n"
     ]
    },
    {
     "name": "stderr",
     "output_type": "stream",
     "text": [
      "C:\\Users\\Dennis\\SynologyDrive\\Development\\Bachelorarbeit\\squlearn\\venv\\lib\\site-packages\\skopt\\optimizer\\optimizer.py:449: UserWarning: The objective has been evaluated at this point before.\n",
      "  warnings.warn(\"The objective has been evaluated \"\n"
     ]
    },
    {
     "name": "stdout",
     "output_type": "stream",
     "text": [
      "BOP  fval:  2.477125566778952  x:  [0.0]\n"
     ]
    },
    {
     "name": "stderr",
     "output_type": "stream",
     "text": [
      "C:\\Users\\Dennis\\SynologyDrive\\Development\\Bachelorarbeit\\squlearn\\venv\\lib\\site-packages\\skopt\\optimizer\\optimizer.py:449: UserWarning: The objective has been evaluated at this point before.\n",
      "  warnings.warn(\"The objective has been evaluated \"\n"
     ]
    },
    {
     "name": "stdout",
     "output_type": "stream",
     "text": [
      "BOP  fval:  2.477125566778952  x:  [0.0]\n",
      "\u001B[91m Iteration:  29 :  gp_minimize:  fval:  2.475866623315742  x:  [0.0014063215754265255] \u001B[0m\n",
      "BOP  fval:  2.4768887650690394  x:  [0.0]\n",
      "BOP  fval:  2.593192103457669  x:  [0.2]\n",
      "BOP  fval:  3.0028945107807274  x:  [0.4]\n",
      "BOP  fval:  3.7016453223322907  x:  [0.6000000000000001]\n",
      "BOP  fval:  4.67885350296095  x:  [0.8]\n",
      "BOP  fval:  5.91786495955253  x:  [1.0]\n",
      "BOP  fval:  7.396279517973644  x:  [1.2000000000000002]\n",
      "BOP  fval:  9.086401682558591  x:  [1.4000000000000001]\n",
      "BOP  fval:  10.955816141208365  x:  [1.6]\n",
      "BOP  fval:  12.968076001631484  x:  [1.8]\n",
      "BOP  fval:  15.083489015293061  x:  [2.0]\n",
      "BOP  fval:  17.25998463128116  x:  [2.2]\n",
      "BOP  fval:  19.45404268193322  x:  [2.4000000000000004]\n",
      "BOP  fval:  21.6216628869375  x:  [2.6]\n",
      "BOP  fval:  23.71935321461671  x:  [2.8000000000000003]\n",
      "BOP  fval:  25.359915092613022  x:  [2.964223091125092]\n",
      "BOP  fval:  33.38388534005717  x:  [4.221328742905087]\n",
      "BOP  fval:  33.521312309230616  x:  [4.289728088113785]\n",
      "BOP  fval:  33.416816715065465  x:  [4.236258693920628]\n",
      "BOP  fval:  26.806416984024555  x:  [3.117818483929862]\n",
      "BOP  fval:  14.24787902297848  x:  [1.9219085364634996]\n",
      "BOP  fval:  9.88588351805932  x:  [1.4876730327223617]\n",
      "BOP  fval:  2.728798642251793  x:  [0.28356488658721596]\n",
      "BOP  fval:  8.76165407130344  x:  [1.3632814729005662]\n",
      "BOP  fval:  19.326271418662273  x:  [2.38832558660675]\n"
     ]
    },
    {
     "name": "stderr",
     "output_type": "stream",
     "text": [
      "C:\\Users\\Dennis\\SynologyDrive\\Development\\Bachelorarbeit\\squlearn\\venv\\lib\\site-packages\\skopt\\optimizer\\optimizer.py:449: UserWarning: The objective has been evaluated at this point before.\n",
      "  warnings.warn(\"The objective has been evaluated \"\n"
     ]
    },
    {
     "name": "stdout",
     "output_type": "stream",
     "text": [
      "BOP  fval:  2.4768887650690394  x:  [0.0]\n"
     ]
    },
    {
     "name": "stderr",
     "output_type": "stream",
     "text": [
      "C:\\Users\\Dennis\\SynologyDrive\\Development\\Bachelorarbeit\\squlearn\\venv\\lib\\site-packages\\skopt\\optimizer\\optimizer.py:449: UserWarning: The objective has been evaluated at this point before.\n",
      "  warnings.warn(\"The objective has been evaluated \"\n"
     ]
    },
    {
     "name": "stdout",
     "output_type": "stream",
     "text": [
      "BOP  fval:  2.4768887650690394  x:  [0.0]\n"
     ]
    },
    {
     "name": "stderr",
     "output_type": "stream",
     "text": [
      "C:\\Users\\Dennis\\SynologyDrive\\Development\\Bachelorarbeit\\squlearn\\venv\\lib\\site-packages\\skopt\\optimizer\\optimizer.py:449: UserWarning: The objective has been evaluated at this point before.\n",
      "  warnings.warn(\"The objective has been evaluated \"\n"
     ]
    },
    {
     "name": "stdout",
     "output_type": "stream",
     "text": [
      "BOP  fval:  2.4768887650690394  x:  [0.0]\n"
     ]
    },
    {
     "name": "stderr",
     "output_type": "stream",
     "text": [
      "C:\\Users\\Dennis\\SynologyDrive\\Development\\Bachelorarbeit\\squlearn\\venv\\lib\\site-packages\\skopt\\optimizer\\optimizer.py:449: UserWarning: The objective has been evaluated at this point before.\n",
      "  warnings.warn(\"The objective has been evaluated \"\n"
     ]
    },
    {
     "name": "stdout",
     "output_type": "stream",
     "text": [
      "BOP  fval:  2.4768887650690394  x:  [0.0]\n"
     ]
    },
    {
     "name": "stderr",
     "output_type": "stream",
     "text": [
      "C:\\Users\\Dennis\\SynologyDrive\\Development\\Bachelorarbeit\\squlearn\\venv\\lib\\site-packages\\skopt\\optimizer\\optimizer.py:449: UserWarning: The objective has been evaluated at this point before.\n",
      "  warnings.warn(\"The objective has been evaluated \"\n"
     ]
    },
    {
     "name": "stdout",
     "output_type": "stream",
     "text": [
      "BOP  fval:  2.4768887650690394  x:  [0.0]\n",
      "\u001B[91m Iteration:  30 :  gp_minimize:  fval:  2.475602564702667  x:  [0.0012500633914688628] \u001B[0m\n",
      "BOP  fval:  2.476705243100777  x:  [0.0]\n",
      "BOP  fval:  2.578517428466482  x:  [0.2]\n",
      "BOP  fval:  2.9379431091629664  x:  [0.4]\n",
      "BOP  fval:  3.55211344373514  x:  [0.6000000000000001]\n",
      "BOP  fval:  4.413337228624167  x:  [0.8]\n",
      "BOP  fval:  5.5092053643359264  x:  [1.0]\n",
      "BOP  fval:  6.8227905689089985  x:  [1.2000000000000002]\n",
      "BOP  fval:  8.332939269580466  x:  [1.4000000000000001]\n",
      "BOP  fval:  10.014650699616721  x:  [1.6]\n",
      "BOP  fval:  11.839536405253012  x:  [1.8]\n",
      "BOP  fval:  13.776351665635152  x:  [2.0]\n",
      "BOP  fval:  15.791588782592845  x:  [2.2]\n",
      "BOP  fval:  17.850120840181305  x:  [2.4000000000000004]\n",
      "BOP  fval:  19.915883395833713  x:  [2.6]\n",
      "BOP  fval:  21.952580671155605  x:  [2.8000000000000003]\n",
      "BOP  fval:  23.578002489934452  x:  [2.964223091125092]\n",
      "BOP  fval:  32.709095117510756  x:  [4.221328742905087]\n",
      "BOP  fval:  32.96695765334483  x:  [4.289728088113785]\n",
      "BOP  fval:  32.767868736417896  x:  [4.236258693920628]\n",
      "BOP  fval:  25.04156910289067  x:  [3.117818483929862]\n",
      "BOP  fval:  13.008884672925774  x:  [1.9219085364634996]\n",
      "BOP  fval:  9.050626614146191  x:  [1.4876730327223617]\n",
      "BOP  fval:  2.6974170917272247  x:  [0.28356488658721596]\n",
      "BOP  fval:  8.042042034612598  x:  [1.3632814729005662]\n",
      "BOP  fval:  17.729409221084577  x:  [2.38832558660675]\n"
     ]
    },
    {
     "name": "stderr",
     "output_type": "stream",
     "text": [
      "C:\\Users\\Dennis\\SynologyDrive\\Development\\Bachelorarbeit\\squlearn\\venv\\lib\\site-packages\\skopt\\optimizer\\optimizer.py:449: UserWarning: The objective has been evaluated at this point before.\n",
      "  warnings.warn(\"The objective has been evaluated \"\n"
     ]
    },
    {
     "name": "stdout",
     "output_type": "stream",
     "text": [
      "BOP  fval:  2.476705243100777  x:  [0.0]\n"
     ]
    },
    {
     "name": "stderr",
     "output_type": "stream",
     "text": [
      "C:\\Users\\Dennis\\SynologyDrive\\Development\\Bachelorarbeit\\squlearn\\venv\\lib\\site-packages\\skopt\\optimizer\\optimizer.py:449: UserWarning: The objective has been evaluated at this point before.\n",
      "  warnings.warn(\"The objective has been evaluated \"\n"
     ]
    },
    {
     "name": "stdout",
     "output_type": "stream",
     "text": [
      "BOP  fval:  2.476705243100777  x:  [0.0]\n"
     ]
    },
    {
     "name": "stderr",
     "output_type": "stream",
     "text": [
      "C:\\Users\\Dennis\\SynologyDrive\\Development\\Bachelorarbeit\\squlearn\\venv\\lib\\site-packages\\skopt\\optimizer\\optimizer.py:449: UserWarning: The objective has been evaluated at this point before.\n",
      "  warnings.warn(\"The objective has been evaluated \"\n"
     ]
    },
    {
     "name": "stdout",
     "output_type": "stream",
     "text": [
      "BOP  fval:  2.476705243100777  x:  [0.0]\n"
     ]
    },
    {
     "name": "stderr",
     "output_type": "stream",
     "text": [
      "C:\\Users\\Dennis\\SynologyDrive\\Development\\Bachelorarbeit\\squlearn\\venv\\lib\\site-packages\\skopt\\optimizer\\optimizer.py:449: UserWarning: The objective has been evaluated at this point before.\n",
      "  warnings.warn(\"The objective has been evaluated \"\n"
     ]
    },
    {
     "name": "stdout",
     "output_type": "stream",
     "text": [
      "BOP  fval:  2.476705243100777  x:  [0.0]\n"
     ]
    },
    {
     "name": "stderr",
     "output_type": "stream",
     "text": [
      "C:\\Users\\Dennis\\SynologyDrive\\Development\\Bachelorarbeit\\squlearn\\venv\\lib\\site-packages\\skopt\\optimizer\\optimizer.py:449: UserWarning: The objective has been evaluated at this point before.\n",
      "  warnings.warn(\"The objective has been evaluated \"\n"
     ]
    },
    {
     "name": "stdout",
     "output_type": "stream",
     "text": [
      "BOP  fval:  2.476705243100777  x:  [0.0]\n",
      "\u001B[91m Iteration:  31 :  gp_minimize:  fval:  2.475416897688776  x:  [0.0014535965540399239] \u001B[0m\n",
      "BOP  fval:  2.476517657092946  x:  [0.0]\n",
      "BOP  fval:  2.5636265942769736  x:  [0.2]\n",
      "BOP  fval:  2.871957962996055  x:  [0.4]\n",
      "BOP  fval:  3.399876476824745  x:  [0.6000000000000001]\n",
      "BOP  fval:  4.1421828200119  x:  [0.8]\n",
      "BOP  fval:  5.0901665466095665  x:  [1.0]\n",
      "BOP  fval:  6.231719722227033  x:  [1.2000000000000002]\n",
      "BOP  fval:  7.551509953645554  x:  [1.4000000000000001]\n",
      "BOP  fval:  9.031210401162081  x:  [1.6]\n",
      "BOP  fval:  10.649783349566768  x:  [1.8]\n",
      "BOP  fval:  12.383812944315887  x:  [2.0]\n",
      "BOP  fval:  14.207881797268316  x:  [2.2]\n",
      "BOP  fval:  16.094985347840993  x:  [2.4000000000000004]\n",
      "BOP  fval:  18.016977145821315  x:  [2.6]\n",
      "BOP  fval:  19.94503761498636  x:  [2.8000000000000003]\n",
      "BOP  fval:  21.512333856346686  x:  [2.964223091125092]\n",
      "BOP  fval:  31.39140772605708  x:  [4.221328742905087]\n",
      "BOP  fval:  31.75460612041755  x:  [4.289728088113785]\n",
      "BOP  fval:  31.472633285765355  x:  [4.236258693920628]\n",
      "BOP  fval:  22.950090510012263  x:  [3.117818483929862]\n",
      "BOP  fval:  11.694592036488316  x:  [1.9219085364634996]\n",
      "BOP  fval:  8.181656763805492  x:  [1.4876730327223617]\n",
      "BOP  fval:  2.6655618802304546  x:  [0.28356488658721596]\n",
      "BOP  fval:  7.296641926010131  x:  [1.3632814729005662]\n",
      "BOP  fval:  15.98359541178003  x:  [2.38832558660675]\n"
     ]
    },
    {
     "name": "stderr",
     "output_type": "stream",
     "text": [
      "C:\\Users\\Dennis\\SynologyDrive\\Development\\Bachelorarbeit\\squlearn\\venv\\lib\\site-packages\\skopt\\optimizer\\optimizer.py:449: UserWarning: The objective has been evaluated at this point before.\n",
      "  warnings.warn(\"The objective has been evaluated \"\n"
     ]
    },
    {
     "name": "stdout",
     "output_type": "stream",
     "text": [
      "BOP  fval:  2.476517657092946  x:  [0.0]\n"
     ]
    },
    {
     "name": "stderr",
     "output_type": "stream",
     "text": [
      "C:\\Users\\Dennis\\SynologyDrive\\Development\\Bachelorarbeit\\squlearn\\venv\\lib\\site-packages\\skopt\\optimizer\\optimizer.py:449: UserWarning: The objective has been evaluated at this point before.\n",
      "  warnings.warn(\"The objective has been evaluated \"\n"
     ]
    },
    {
     "name": "stdout",
     "output_type": "stream",
     "text": [
      "BOP  fval:  2.476517657092946  x:  [0.0]\n"
     ]
    },
    {
     "name": "stderr",
     "output_type": "stream",
     "text": [
      "C:\\Users\\Dennis\\SynologyDrive\\Development\\Bachelorarbeit\\squlearn\\venv\\lib\\site-packages\\skopt\\optimizer\\optimizer.py:449: UserWarning: The objective has been evaluated at this point before.\n",
      "  warnings.warn(\"The objective has been evaluated \"\n"
     ]
    },
    {
     "name": "stdout",
     "output_type": "stream",
     "text": [
      "BOP  fval:  2.476517657092946  x:  [0.0]\n"
     ]
    },
    {
     "name": "stderr",
     "output_type": "stream",
     "text": [
      "C:\\Users\\Dennis\\SynologyDrive\\Development\\Bachelorarbeit\\squlearn\\venv\\lib\\site-packages\\skopt\\optimizer\\optimizer.py:449: UserWarning: The objective has been evaluated at this point before.\n",
      "  warnings.warn(\"The objective has been evaluated \"\n"
     ]
    },
    {
     "name": "stdout",
     "output_type": "stream",
     "text": [
      "BOP  fval:  2.476517657092946  x:  [0.0]\n"
     ]
    },
    {
     "name": "stderr",
     "output_type": "stream",
     "text": [
      "C:\\Users\\Dennis\\SynologyDrive\\Development\\Bachelorarbeit\\squlearn\\venv\\lib\\site-packages\\skopt\\optimizer\\optimizer.py:449: UserWarning: The objective has been evaluated at this point before.\n",
      "  warnings.warn(\"The objective has been evaluated \"\n"
     ]
    },
    {
     "name": "stdout",
     "output_type": "stream",
     "text": [
      "BOP  fval:  2.476517657092946  x:  [0.0]\n",
      "\u001B[91m Iteration:  32 :  gp_minimize:  fval:  2.4752580443739003  x:  [0.0020689755044653035] \u001B[0m\n",
      "BOP  fval:  2.476289862126557  x:  [0.0]\n",
      "BOP  fval:  2.545734230061721  x:  [0.2]\n",
      "BOP  fval:  2.792571771713758  x:  [0.4]\n",
      "BOP  fval:  3.2162886099764934  x:  [0.6000000000000001]\n",
      "BOP  fval:  3.8140740251343868  x:  [0.8]\n",
      "BOP  fval:  4.580835806044339  x:  [1.0]\n",
      "BOP  fval:  5.509247153788299  x:  [1.2000000000000002]\n",
      "BOP  fval:  6.589824805668985  x:  [1.4000000000000001]\n",
      "BOP  fval:  7.811037606468682  x:  [1.6]\n",
      "BOP  fval:  9.159444319326424  x:  [1.8]\n",
      "BOP  fval:  10.61985904661342  x:  [2.0]\n",
      "BOP  fval:  12.175542227881804  x:  [2.2]\n",
      "BOP  fval:  13.808414803203462  x:  [2.4000000000000004]\n",
      "BOP  fval:  15.499292781602271  x:  [2.6]\n",
      "BOP  fval:  17.22813914102896  x:  [2.8000000000000003]\n",
      "BOP  fval:  18.661620741209912  x:  [2.964223091125092]\n",
      "BOP  fval:  28.801919681664575  x:  [4.221328742905087]\n",
      "BOP  fval:  29.256195139709693  x:  [4.289728088113785]\n",
      "BOP  fval:  28.90231417487472  x:  [4.236258693920628]\n",
      "BOP  fval:  20.002663268372427  x:  [3.117818483929862]\n",
      "BOP  fval:  10.037337094304904  x:  [1.9219085364634996]\n",
      "BOP  fval:  7.1086007231737485  x:  [1.4876730327223617]\n",
      "BOP  fval:  2.6272711495259338  x:  [0.28356488658721596]\n",
      "BOP  fval:  6.3805315814483565  x:  [1.3632814729005662]\n",
      "BOP  fval:  13.711316012789162  x:  [2.38832558660675]\n"
     ]
    },
    {
     "name": "stderr",
     "output_type": "stream",
     "text": [
      "C:\\Users\\Dennis\\SynologyDrive\\Development\\Bachelorarbeit\\squlearn\\venv\\lib\\site-packages\\skopt\\optimizer\\optimizer.py:449: UserWarning: The objective has been evaluated at this point before.\n",
      "  warnings.warn(\"The objective has been evaluated \"\n"
     ]
    },
    {
     "name": "stdout",
     "output_type": "stream",
     "text": [
      "BOP  fval:  2.476289862126557  x:  [0.0]\n"
     ]
    },
    {
     "name": "stderr",
     "output_type": "stream",
     "text": [
      "C:\\Users\\Dennis\\SynologyDrive\\Development\\Bachelorarbeit\\squlearn\\venv\\lib\\site-packages\\skopt\\optimizer\\optimizer.py:449: UserWarning: The objective has been evaluated at this point before.\n",
      "  warnings.warn(\"The objective has been evaluated \"\n"
     ]
    },
    {
     "name": "stdout",
     "output_type": "stream",
     "text": [
      "BOP  fval:  2.476289862126557  x:  [0.0]\n"
     ]
    },
    {
     "name": "stderr",
     "output_type": "stream",
     "text": [
      "C:\\Users\\Dennis\\SynologyDrive\\Development\\Bachelorarbeit\\squlearn\\venv\\lib\\site-packages\\skopt\\optimizer\\optimizer.py:449: UserWarning: The objective has been evaluated at this point before.\n",
      "  warnings.warn(\"The objective has been evaluated \"\n"
     ]
    },
    {
     "name": "stdout",
     "output_type": "stream",
     "text": [
      "BOP  fval:  2.476289862126557  x:  [0.0]\n"
     ]
    },
    {
     "name": "stderr",
     "output_type": "stream",
     "text": [
      "C:\\Users\\Dennis\\SynologyDrive\\Development\\Bachelorarbeit\\squlearn\\venv\\lib\\site-packages\\skopt\\optimizer\\optimizer.py:449: UserWarning: The objective has been evaluated at this point before.\n",
      "  warnings.warn(\"The objective has been evaluated \"\n"
     ]
    },
    {
     "name": "stdout",
     "output_type": "stream",
     "text": [
      "BOP  fval:  2.476289862126557  x:  [0.0]\n",
      "BOP  fval:  2.476224935163432  x:  [0.0007002594016303211]\n",
      "\u001B[91m Iteration:  33 :  gp_minimize:  fval:  2.475113441570654  x:  [0.003535234400126894] \u001B[0m\n",
      "BOP  fval:  2.475984108851568  x:  [0.0]\n",
      "BOP  fval:  2.522200441905718  x:  [0.2]\n",
      "BOP  fval:  2.687995925618914  x:  [0.4]\n",
      "BOP  fval:  2.9737302815989843  x:  [0.6000000000000001]\n",
      "BOP  fval:  3.3787179651179438  x:  [0.8]\n",
      "BOP  fval:  3.901223979022288  x:  [1.0]\n",
      "BOP  fval:  4.538469412406902  x:  [1.2000000000000002]\n",
      "BOP  fval:  5.286646750706174  x:  [1.4000000000000001]\n",
      "BOP  fval:  6.140944911570144  x:  [1.6]\n",
      "BOP  fval:  7.095583868114133  x:  [1.8]\n",
      "BOP  fval:  8.143858628740048  x:  [2.0]\n",
      "BOP  fval:  9.278192251615623  x:  [2.2]\n",
      "BOP  fval:  10.490197482947568  x:  [2.4000000000000004]\n",
      "BOP  fval:  11.770746522269883  x:  [2.6]\n",
      "BOP  fval:  13.11004833594107  x:  [2.8000000000000003]\n",
      "BOP  fval:  14.246422587744144  x:  [2.964223091125092]\n",
      "BOP  fval:  23.36183450882437  x:  [4.221328742905087]\n",
      "BOP  fval:  23.846137244805814  x:  [4.289728088113785]\n",
      "BOP  fval:  23.467896677501397  x:  [4.236258693920628]\n",
      "BOP  fval:  15.33348443372297  x:  [3.117818483929862]\n",
      "BOP  fval:  7.723874473785241  x:  [1.9219085364634996]\n",
      "BOP  fval:  5.648397036916588  x:  [1.4876730327223617]\n",
      "BOP  fval:  2.576885875263501  x:  [0.28356488658721596]\n",
      "BOP  fval:  5.141178378430494  x:  [1.3632814729005662]\n",
      "BOP  fval:  10.417474708300537  x:  [2.38832558660675]\n"
     ]
    },
    {
     "name": "stderr",
     "output_type": "stream",
     "text": [
      "C:\\Users\\Dennis\\SynologyDrive\\Development\\Bachelorarbeit\\squlearn\\venv\\lib\\site-packages\\skopt\\optimizer\\optimizer.py:449: UserWarning: The objective has been evaluated at this point before.\n",
      "  warnings.warn(\"The objective has been evaluated \"\n"
     ]
    },
    {
     "name": "stdout",
     "output_type": "stream",
     "text": [
      "BOP  fval:  2.475984108851568  x:  [0.0]\n",
      "BOP  fval:  2.4759312921107317  x:  [0.0008154929844439441]\n",
      "BOP  fval:  2.4759171393960795  x:  [0.0010393219902617972]\n"
     ]
    },
    {
     "name": "stderr",
     "output_type": "stream",
     "text": [
      "C:\\Users\\Dennis\\SynologyDrive\\Development\\Bachelorarbeit\\squlearn\\venv\\lib\\site-packages\\skopt\\optimizer\\optimizer.py:449: UserWarning: The objective has been evaluated at this point before.\n",
      "  warnings.warn(\"The objective has been evaluated \"\n"
     ]
    },
    {
     "name": "stdout",
     "output_type": "stream",
     "text": [
      "BOP  fval:  2.475984108851568  x:  [0.0]\n",
      "BOP  fval:  2.475738749103792  x:  [0.004094949236853052]\n",
      "\u001B[91m Iteration:  34 :  gp_minimize:  fval:  2.475011544165139  x:  [0.007199694422211321] \u001B[0m\n",
      "BOP  fval:  2.4755857770211214  x:  [0.0]\n",
      "BOP  fval:  2.493217138665755  x:  [0.2]\n",
      "BOP  fval:  2.5589983519683566  x:  [0.4]\n",
      "BOP  fval:  2.673423419334598  x:  [0.6000000000000001]\n",
      "BOP  fval:  2.8368182607534393  x:  [0.8]\n",
      "BOP  fval:  3.0493378085638794  x:  [1.0]\n",
      "BOP  fval:  3.3109637263777816  x:  [1.2000000000000002]\n",
      "BOP  fval:  3.6215027671851208  x:  [1.4000000000000001]\n",
      "BOP  fval:  3.9805857833083222  x:  [1.6]\n",
      "BOP  fval:  4.387667398441315  x:  [1.8]\n",
      "BOP  fval:  4.842026349514557  x:  [2.0]\n",
      "BOP  fval:  5.342766503576678  x:  [2.2]\n",
      "BOP  fval:  5.888818552291221  x:  [2.4000000000000004]\n",
      "BOP  fval:  6.478942384018812  x:  [2.6]\n",
      "BOP  fval:  7.111730130800997  x:  [2.8000000000000003]\n",
      "BOP  fval:  7.662120450351616  x:  [2.964223091125092]\n",
      "BOP  fval:  12.679665656535546  x:  [4.221328742905087]\n",
      "BOP  fval:  12.987246411129638  x:  [4.289728088113785]\n",
      "BOP  fval:  12.746550705126989  x:  [4.236258693920628]\n",
      "BOP  fval:  8.201127922545712  x:  [3.117818483929862]\n",
      "BOP  fval:  4.659045909156764  x:  [1.9219085364634996]\n",
      "BOP  fval:  3.7729645897427417  x:  [1.4876730327223617]\n",
      "BOP  fval:  2.5148138005742755  x:  [0.28356488658721596]\n",
      "BOP  fval:  3.560838765096901  x:  [1.3632814729005662]\n",
      "BOP  fval:  5.855720348266676  x:  [2.38832558660675]\n",
      "BOP  fval:  2.4754071230632073  x:  [0.045915050740732995]\n",
      "BOP  fval:  2.4753032470204053  x:  [0.040824182511731706]\n",
      "BOP  fval:  2.4761430524314436  x:  [0.06651758499676426]\n",
      "BOP  fval:  2.475241609677416  x:  [0.015775779469003885]\n",
      "BOP  fval:  2.4778889349149487  x:  [0.09369557894790914]\n",
      "\u001B[91m Iteration:  35 :  gp_minimize:  fval:  2.4746730266302945  x:  [0.015843173109984444] \u001B[0m\n",
      "BOP  fval:  2.4752407739485833  x:  [0.0]\n",
      "BOP  fval:  2.474405057138597  x:  [0.2]\n",
      "BOP  fval:  2.4754021155713413  x:  [0.4]\n",
      "BOP  fval:  2.4782588586479366  x:  [0.6000000000000001]\n",
      "BOP  fval:  2.4830020909334234  x:  [0.8]\n",
      "BOP  fval:  2.4896585060707097  x:  [1.0]\n",
      "BOP  fval:  2.4982546806817396  x:  [1.2000000000000002]\n",
      "BOP  fval:  2.5088170682571604  x:  [1.4000000000000001]\n",
      "BOP  fval:  2.5213719930353857  x:  [1.6]\n",
      "BOP  fval:  2.5359456438726147  x:  [1.8]\n",
      "BOP  fval:  2.5525640681048154  x:  [2.0]\n",
      "BOP  fval:  2.5712531654029553  x:  [2.2]\n",
      "BOP  fval:  2.5920386816226824  x:  [2.4000000000000004]\n",
      "BOP  fval:  2.6149462026497607  x:  [2.6]\n",
      "BOP  fval:  2.6400011482423777  x:  [2.8000000000000003]\n",
      "BOP  fval:  2.662197479552041  x:  [2.964223091125092]\n",
      "BOP  fval:  2.882098380099837  x:  [4.221328742905087]\n",
      "BOP  fval:  2.8966685830610808  x:  [4.289728088113785]\n",
      "BOP  fval:  2.885255260022001  x:  [4.236258693920628]\n",
      "BOP  fval:  2.684295426643456  x:  [3.117818483929862]\n",
      "BOP  fval:  2.545830297390571  x:  [1.9219085364634996]\n",
      "BOP  fval:  2.5140738785533903  x:  [1.4876730327223617]\n",
      "BOP  fval:  2.4745971947391014  x:  [0.28356488658721596]\n",
      "BOP  fval:  2.5067293411487857  x:  [1.3632814729005662]\n",
      "BOP  fval:  2.590767317625002  x:  [2.38832558660675]\n",
      "BOP  fval:  2.4744039023863693  x:  [0.19601150379497503]\n",
      "BOP  fval:  2.4758289925972363  x:  [0.4404494980738089]\n",
      "BOP  fval:  2.4745406616933328  x:  [0.1142039715565918]\n",
      "BOP  fval:  2.4744116881577654  x:  [0.2106216768278946]\n",
      "BOP  fval:  2.4752164193521615  x:  [0.0028149077745998068]\n",
      "\u001B[91m Iteration:  36 :  gp_minimize:  fval:  2.474415341688914  x:  [0.19041790979596326] \u001B[0m\n",
      "BOP  fval:  2.4744035104430235  x:  [0.0]\n",
      "BOP  fval:  2.5280471847661374  x:  [0.2]\n",
      "BOP  fval:  2.7194087083469323  x:  [0.4]\n",
      "BOP  fval:  3.0486075705732962  x:  [0.6000000000000001]\n",
      "BOP  fval:  3.5143845149126567  x:  [0.8]\n",
      "BOP  fval:  4.114101298030034  x:  [1.0]\n",
      "BOP  fval:  4.84375512138695  x:  [1.2000000000000002]\n",
      "BOP  fval:  5.698007725732439  x:  [1.4000000000000001]\n",
      "BOP  fval:  6.670228979775427  x:  [1.6]\n",
      "BOP  fval:  7.752554635469815  x:  [1.8]\n",
      "BOP  fval:  8.935957765486755  x:  [2.0]\n",
      "BOP  fval:  10.210333245331634  x:  [2.2]\n",
      "BOP  fval:  11.56459449488844  x:  [2.4000000000000004]\n",
      "BOP  fval:  12.986781553615112  x:  [2.6]\n",
      "BOP  fval:  14.464179431770992  x:  [2.8000000000000003]\n",
      "BOP  fval:  15.709208782556004  x:  [2.964223091125092]\n",
      "BOP  fval:  25.34120714944689  x:  [4.221328742905087]\n",
      "BOP  fval:  25.83029327032352  x:  [4.289728088113785]\n",
      "BOP  fval:  25.448566264273733  x:  [4.236258693920628]\n",
      "BOP  fval:  16.892458242823484  x:  [3.117818483929862]\n",
      "BOP  fval:  8.462483415650754  x:  [1.9219085364634996]\n",
      "BOP  fval:  6.110110105153617  x:  [1.4876730327223617]\n",
      "BOP  fval:  2.5912148556659935  x:  [0.28356488658721596]\n",
      "BOP  fval:  5.532119309028138  x:  [1.3632814729005662]\n",
      "BOP  fval:  11.4835569533633  x:  [2.38832558660675]\n"
     ]
    },
    {
     "name": "stderr",
     "output_type": "stream",
     "text": [
      "C:\\Users\\Dennis\\SynologyDrive\\Development\\Bachelorarbeit\\squlearn\\venv\\lib\\site-packages\\skopt\\optimizer\\optimizer.py:449: UserWarning: The objective has been evaluated at this point before.\n",
      "  warnings.warn(\"The objective has been evaluated \"\n"
     ]
    },
    {
     "name": "stdout",
     "output_type": "stream",
     "text": [
      "BOP  fval:  2.4744035104430235  x:  [0.0]\n"
     ]
    },
    {
     "name": "stderr",
     "output_type": "stream",
     "text": [
      "C:\\Users\\Dennis\\SynologyDrive\\Development\\Bachelorarbeit\\squlearn\\venv\\lib\\site-packages\\skopt\\optimizer\\optimizer.py:449: UserWarning: The objective has been evaluated at this point before.\n",
      "  warnings.warn(\"The objective has been evaluated \"\n"
     ]
    },
    {
     "name": "stdout",
     "output_type": "stream",
     "text": [
      "BOP  fval:  2.4744035104430235  x:  [0.0]\n",
      "BOP  fval:  2.4743282690829647  x:  [0.0010393219902621322]\n",
      "BOP  fval:  2.4743947849231285  x:  [0.00011796824328665305]\n",
      "BOP  fval:  2.4743103404723286  x:  [0.0012947595703118506]\n",
      "\u001B[91m Iteration:  37 :  gp_minimize:  fval:  2.4733645738694143  x:  [0.005533082056855338] \u001B[0m\n",
      "BOP  fval:  2.4740453290349183  x:  [0.0]\n",
      "BOP  fval:  2.5009023621819635  x:  [0.2]\n",
      "BOP  fval:  2.5987262136942055  x:  [0.4]\n",
      "BOP  fval:  2.768058206482299  x:  [0.6000000000000001]\n",
      "BOP  fval:  3.0090743179783774  x:  [0.8]\n",
      "BOP  fval:  3.3215806346439276  x:  [1.0]\n",
      "BOP  fval:  3.705010809671933  x:  [1.2000000000000002]\n",
      "BOP  fval:  4.158425557854202  x:  [1.4000000000000001]\n",
      "BOP  fval:  4.680514210380143  x:  [1.6]\n",
      "BOP  fval:  5.269598340892147  x:  [1.8]\n",
      "BOP  fval:  5.92363746250688  x:  [2.0]\n",
      "BOP  fval:  6.640236783787359  x:  [2.2]\n",
      "BOP  fval:  7.41665699988284  x:  [2.4000000000000004]\n",
      "BOP  fval:  8.249826083309538  x:  [2.6]\n",
      "BOP  fval:  9.13635302719263  x:  [2.8000000000000003]\n",
      "BOP  fval:  9.901599899907898  x:  [2.964223091125092]\n",
      "BOP  fval:  16.615154076384556  x:  [4.221328742905087]\n",
      "BOP  fval:  17.010460417941353  x:  [4.289728088113785]\n",
      "BOP  fval:  16.701283517672223  x:  [4.236258693920628]\n",
      "BOP  fval:  10.645695226842426  x:  [3.117818483929862]\n",
      "BOP  fval:  5.660678581463136  x:  [1.9219085364634996]\n",
      "BOP  fval:  4.378927881242716  x:  [1.4876730327223617]\n",
      "BOP  fval:  2.5331049637158274  x:  [0.28356488658721596]\n",
      "BOP  fval:  4.0699915900319885  x:  [1.3632814729005662]\n",
      "BOP  fval:  7.369744838259141  x:  [2.38832558660675]\n",
      "BOP  fval:  2.4738728821088514  x:  [0.004564597704347918]\n",
      "BOP  fval:  2.4735606417193936  x:  [0.027674339758655967]\n",
      "BOP  fval:  2.473570993665734  x:  [0.028982019707249344]\n",
      "BOP  fval:  4.553172879688918  x:  [1.553533012755365]\n",
      "BOP  fval:  2.473818788523468  x:  [0.006238733980162282]\n",
      "\u001B[91m Iteration:  38 :  gp_minimize:  fval:  2.473068292671156  x:  [0.01172464894100675] \u001B[0m\n",
      "BOP  fval:  2.4736759675829294  x:  [0.0]\n",
      "BOP  fval:  2.476721302092758  x:  [0.2]\n",
      "BOP  fval:  2.491166102658144  x:  [0.4]\n",
      "BOP  fval:  2.517165304098225  x:  [0.6000000000000001]\n",
      "BOP  fval:  2.5548651063478838  x:  [0.8]\n",
      "BOP  fval:  2.604402755405761  x:  [1.0]\n",
      "BOP  fval:  2.6659063311247206  x:  [1.2000000000000002]\n",
      "BOP  fval:  2.739494542114518  x:  [1.4000000000000001]\n",
      "BOP  fval:  2.825276528021092  x:  [1.6]\n",
      "BOP  fval:  2.9233516694415926  x:  [1.8]\n",
      "BOP  fval:  3.033809405728453  x:  [2.0]\n",
      "BOP  fval:  3.1567290609298695  x:  [2.2]\n",
      "BOP  fval:  3.292179678107495  x:  [2.4000000000000004]\n",
      "BOP  fval:  3.4402198622662126  x:  [2.6]\n",
      "BOP  fval:  3.6008976321227935  x:  [2.8000000000000003]\n",
      "BOP  fval:  3.7423079751831017  x:  [2.964223091125092]\n",
      "BOP  fval:  5.108605781011136  x:  [4.221328742905087]\n",
      "BOP  fval:  5.197317578405685  x:  [4.289728088113785]\n",
      "BOP  fval:  5.127843575625148  x:  [4.236258693920628]\n",
      "BOP  fval:  3.8823147644212983  x:  [3.117818483929862]\n",
      "BOP  fval:  2.9892015521099027  x:  [1.9219085364634996]\n",
      "BOP  fval:  2.7755912231974538  x:  [1.4876730327223617]\n",
      "BOP  fval:  2.481361147056864  x:  [0.28356488658721596]\n",
      "BOP  fval:  2.7250735451669335  x:  [1.3632814729005662]\n",
      "BOP  fval:  3.2839276729551914  x:  [2.38832558660675]\n",
      "BOP  fval:  2.4744086728791137  x:  [0.1317435498332919]\n",
      "BOP  fval:  2.476103382577105  x:  [0.1850996167429642]\n",
      "BOP  fval:  2.474229129211013  x:  [0.12396538485189515]\n",
      "BOP  fval:  2.47362637677975  x:  [0.003985361325172244]\n",
      "BOP  fval:  2.473527947323494  x:  [0.07909765173786559]\n",
      "\u001B[91m Iteration:  39 :  gp_minimize:  fval:  2.4732927161410445  x:  [0.03908792687829605] \u001B[0m\n",
      "BOP  fval:  2.473382514835496  x:  [0.0]\n",
      "BOP  fval:  2.4764688178575396  x:  [0.2]\n",
      "BOP  fval:  2.4910254109654857  x:  [0.4]\n",
      "BOP  fval:  2.5172074032659166  x:  [0.6000000000000001]\n",
      "BOP  fval:  2.5551610571327577  x:  [0.8]\n",
      "BOP  fval:  2.6050235677554188  x:  [1.0]\n",
      "BOP  fval:  2.66692284966835  x:  [1.2000000000000002]\n",
      "BOP  fval:  2.7409773305346232  x:  [1.4000000000000001]\n",
      "BOP  fval:  2.8272957524511186  x:  [1.6]\n",
      "BOP  fval:  2.9259769810371834  x:  [1.8]\n",
      "BOP  fval:  3.0371098225628055  x:  [2.0]\n",
      "BOP  fval:  3.160772849365983  x:  [2.2]\n",
      "BOP  fval:  3.2970342338030783  x:  [2.4000000000000004]\n",
      "BOP  fval:  3.4459515909680514  x:  [2.6]\n",
      "BOP  fval:  3.607571830410508  x:  [2.8000000000000003]\n",
      "BOP  fval:  3.7498040104305024  x:  [2.964223091125092]\n",
      "BOP  fval:  5.1237354787092  x:  [4.221328742905087]\n",
      "BOP  fval:  5.212925856982383  x:  [4.289728088113785]\n",
      "BOP  fval:  5.1430772205789195  x:  [4.236258693920628]\n",
      "BOP  fval:  3.8906178929708344  x:  [3.117818483929862]\n",
      "BOP  fval:  2.9922302013544426  x:  [1.9219085364634996]\n",
      "BOP  fval:  2.7773005566659905  x:  [1.4876730327223617]\n",
      "BOP  fval:  2.481146746060966  x:  [0.28356488658721596]\n",
      "BOP  fval:  2.7264654580709924  x:  [1.3632814729005662]\n",
      "BOP  fval:  3.2887330673427453  x:  [2.38832558660675]\n",
      "BOP  fval:  2.473215734701744  x:  [0.015458111786524346]\n",
      "BOP  fval:  2.473356854495417  x:  [0.0020222472158513195]\n",
      "BOP  fval:  2.473110548869203  x:  [0.059219490009499456]\n",
      "BOP  fval:  2.806141940773258  x:  [1.553533012755365]\n",
      "BOP  fval:  2.473100138311581  x:  [0.056123465989831874]\n",
      "\u001B[91m Iteration:  40 :  gp_minimize:  fval:  2.4730613438865827  x:  [0.03886010223137386] \u001B[0m\n",
      "BOP  fval:  2.473091954956125  x:  [0.0]\n",
      "BOP  fval:  2.476130198213958  x:  [0.2]\n",
      "BOP  fval:  2.4904869946729735  x:  [0.4]\n",
      "BOP  fval:  2.5163148761630985  x:  [0.6000000000000001]\n",
      "BOP  fval:  2.5537577738050965  x:  [0.8]\n",
      "BOP  fval:  2.602950804278958  x:  [1.0]\n",
      "BOP  fval:  2.664020062775472  x:  [1.2000000000000002]\n",
      "BOP  fval:  2.7370824228918202  x:  [1.4000000000000001]\n",
      "BOP  fval:  2.8222453437267037  x:  [1.6]\n",
      "BOP  fval:  2.91960668442565  x:  [1.8]\n",
      "BOP  fval:  3.0292545264214743  x:  [2.0]\n",
      "BOP  fval:  3.15126700360872  x:  [2.2]\n",
      "BOP  fval:  3.285712140685456  x:  [2.4000000000000004]\n",
      "BOP  fval:  3.432647699888768  x:  [2.6]\n",
      "BOP  fval:  3.592121036343906  x:  [2.8000000000000003]\n",
      "BOP  fval:  3.732467432391152  x:  [2.964223091125092]\n",
      "BOP  fval:  5.088377754201196  x:  [4.221328742905087]\n",
      "BOP  fval:  5.176411522625412  x:  [4.289728088113785]\n",
      "BOP  fval:  5.107468530012849  x:  [4.236258693920628]\n",
      "BOP  fval:  3.871417774590884  x:  [3.117818483929862]\n",
      "BOP  fval:  2.984974416866066  x:  [1.9219085364634996]\n",
      "BOP  fval:  2.772919295649201  x:  [1.4876730327223617]\n",
      "BOP  fval:  2.4807432549354904  x:  [0.28356488658721596]\n",
      "BOP  fval:  2.722764906481399  x:  [1.3632814729005662]\n",
      "BOP  fval:  3.277521544887398  x:  [2.38832558660675]\n",
      "BOP  fval:  2.4728892282368653  x:  [0.020240531842131707]\n",
      "BOP  fval:  2.4729047063311986  x:  [0.01817099430846403]\n",
      "BOP  fval:  2.4727968468404873  x:  [0.045196085531257764]\n",
      "BOP  fval:  2.4731764837192896  x:  [0.09800797896558912]\n",
      "BOP  fval:  2.4728469530717967  x:  [0.06488453057561697]\n",
      "\u001B[91m Iteration:  41 :  gp_minimize:  fval:  2.4727578449767593  x:  [0.03878820876106203] \u001B[0m\n",
      "BOP  fval:  2.4728039480999913  x:  [0.0]\n",
      "BOP  fval:  2.4757787763962775  x:  [0.2]\n",
      "BOP  fval:  2.489882345581846  x:  [0.4]\n",
      "BOP  fval:  2.5152641582151753  x:  [0.6000000000000001]\n",
      "BOP  fval:  2.5520654181764497  x:  [0.8]\n",
      "BOP  fval:  2.600418824873139  x:  [1.0]\n",
      "BOP  fval:  2.6604483737687845  x:  [1.2000000000000002]\n",
      "BOP  fval:  2.7322691634811793  x:  [1.4000000000000001]\n",
      "BOP  fval:  2.815987209692385  x:  [1.6]\n",
      "BOP  fval:  2.9116992661072705  x:  [1.8]\n",
      "BOP  fval:  3.0194926526930495  x:  [2.0]\n",
      "BOP  fval:  3.1394450914256433  x:  [2.2]\n",
      "BOP  fval:  3.271624549764768  x:  [2.4000000000000004]\n",
      "BOP  fval:  3.416089092071558  x:  [2.6]\n",
      "BOP  fval:  3.572886739178737  x:  [2.8000000000000003]\n",
      "BOP  fval:  3.7108837719666528  x:  [2.964223091125092]\n",
      "BOP  fval:  5.044372723272366  x:  [4.221328742905087]\n",
      "BOP  fval:  5.130968871828672  x:  [4.289728088113785]\n",
      "BOP  fval:  5.06315154673838  x:  [4.236258693920628]\n",
      "BOP  fval:  3.847513193757618  x:  [3.117818483929862]\n",
      "BOP  fval:  2.9759610783461605  x:  [1.9219085364634996]\n",
      "BOP  fval:  2.7674977535054155  x:  [1.4876730327223617]\n",
      "BOP  fval:  2.4803092951250547  x:  [0.28356488658721596]\n",
      "BOP  fval:  2.718194788343429  x:  [1.3632814729005662]\n",
      "BOP  fval:  3.2635718541325627  x:  [2.38832558660675]\n",
      "BOP  fval:  2.47428705004322  x:  [0.15963732939092537]\n",
      "BOP  fval:  2.4726947037832088  x:  [0.009607797838481204]\n",
      "BOP  fval:  2.472745792915371  x:  [0.08748230539856351]\n",
      "BOP  fval:  2.4725174141578785  x:  [0.03925137796993217]\n",
      "BOP  fval:  2.472562997640341  x:  [0.06564951006741478]\n",
      "\u001B[91m Iteration:  42 :  gp_minimize:  fval:  2.4724552283318117  x:  [0.03906061296277067] \u001B[0m\n",
      "BOP  fval:  2.4725177828384255  x:  [0.0]\n",
      "BOP  fval:  2.4755714475236146  x:  [0.2]\n",
      "BOP  fval:  2.4899201878570385  x:  [0.4]\n",
      "BOP  fval:  2.515714870167245  x:  [0.6000000000000001]\n",
      "BOP  fval:  2.5530978019943382  x:  [0.8]\n",
      "BOP  fval:  2.6022025215161575  x:  [1.0]\n",
      "BOP  fval:  2.6631535936106117  x:  [1.2000000000000002]\n",
      "BOP  fval:  2.7360664128100143  x:  [1.4000000000000001]\n",
      "BOP  fval:  2.8210470133982524  x:  [1.6]\n",
      "BOP  fval:  2.91819188689644  x:  [1.8]\n",
      "BOP  fval:  3.02758780717751  x:  [2.0]\n",
      "BOP  fval:  3.1493116634436884  x:  [2.2]\n",
      "BOP  fval:  3.283430301295973  x:  [2.4000000000000004]\n",
      "BOP  fval:  3.4300003721169117  x:  [2.6]\n",
      "BOP  fval:  3.589068190982506  x:  [2.8000000000000003]\n",
      "BOP  fval:  3.729050999422466  x:  [2.964223091125092]\n",
      "BOP  fval:  5.081215844704857  x:  [4.221328742905087]\n",
      "BOP  fval:  5.168995249323888  x:  [4.289728088113785]\n",
      "BOP  fval:  5.100251554117383  x:  [4.236258693920628]\n",
      "BOP  fval:  3.867635826108116  x:  [3.117818483929862]\n",
      "BOP  fval:  2.983410362288341  x:  [1.9219085364634996]\n",
      "BOP  fval:  2.7718274799461873  x:  [1.4876730327223617]\n",
      "BOP  fval:  2.4801840902725036  x:  [0.28356488658721596]\n",
      "BOP  fval:  2.7217787662209196  x:  [1.3632814729005662]\n",
      "BOP  fval:  3.275259825005579  x:  [2.38832558660675]\n",
      "BOP  fval:  2.4722387036110396  x:  [0.03685493634443094]\n",
      "BOP  fval:  2.4722337727336368  x:  [0.03919644914059551]\n",
      "BOP  fval:  2.4722756442934197  x:  [0.064011271400624]\n",
      "BOP  fval:  2.4723131124043034  x:  [0.07022947789914276]\n",
      "BOP  fval:  2.472346017384905  x:  [0.07461174014428505]\n",
      "\u001B[91m Iteration:  43 :  gp_minimize:  fval:  2.47216923339351  x:  [0.037795528151696456] \u001B[0m\n",
      "BOP  fval:  2.472236538924603  x:  [0.0]\n",
      "BOP  fval:  2.4748139444046724  x:  [0.2]\n",
      "BOP  fval:  2.487464889270944  x:  [0.4]\n",
      "BOP  fval:  2.5103245228691744  x:  [0.6000000000000001]\n",
      "BOP  fval:  2.5435212678020656  x:  [0.8]\n",
      "BOP  fval:  2.587176651798353  x:  [1.0]\n",
      "BOP  fval:  2.641405144140135  x:  [1.2000000000000002]\n",
      "BOP  fval:  2.7063139968305663  x:  [1.4000000000000001]\n",
      "BOP  fval:  2.7820030906809037  x:  [1.6]\n",
      "BOP  fval:  2.8685647864931445  x:  [1.8]\n",
      "BOP  fval:  2.966083781510717  x:  [2.0]\n",
      "BOP  fval:  3.074636971306634  x:  [2.2]\n",
      "BOP  fval:  3.1942933172751498  x:  [2.4000000000000004]\n",
      "BOP  fval:  3.3251137198879004  x:  [2.6]\n",
      "BOP  fval:  3.467150897873685  x:  [2.8000000000000003]\n",
      "BOP  fval:  3.5921977967154572  x:  [2.964223091125092]\n",
      "BOP  fval:  4.802412488874067  x:  [4.221328742905087]\n",
      "BOP  fval:  4.881118106817887  x:  [4.289728088113785]\n",
      "BOP  fval:  4.8194790265367775  x:  [4.236258693920628]\n",
      "BOP  fval:  3.7160420146567925  x:  [3.117818483929862]\n",
      "BOP  fval:  2.9266977713632993  x:  [1.9219085364634996]\n",
      "BOP  fval:  2.738160778808569  x:  [1.4876730327223617]\n",
      "BOP  fval:  2.478866718906072  x:  [0.28356488658721596]\n",
      "BOP  fval:  2.6935921569444385  x:  [1.3632814729005662]\n",
      "BOP  fval:  3.1870024663244974  x:  [2.38832558660675]\n",
      "BOP  fval:  2.4719921911652283  x:  [0.06818873867853328]\n",
      "BOP  fval:  2.4719768241492677  x:  [0.06476073951295512]\n",
      "BOP  fval:  2.4724809527658254  x:  [0.11410233699024443]\n",
      "BOP  fval:  2.47249551954459  x:  [0.11498534326815425]\n",
      "BOP  fval:  2.4721416607188447  x:  [0.08832273848897455]\n",
      "\u001B[91m Iteration:  44 :  gp_minimize:  fval:  2.471855685132319  x:  [0.040241345653711964] \u001B[0m\n",
      "BOP  fval:  2.471952342114068  x:  [0.0]\n",
      "BOP  fval:  2.475141957641182  x:  [0.2]\n",
      "BOP  fval:  2.489905461710464  x:  [0.4]\n",
      "BOP  fval:  2.5163957320956047  x:  [0.6000000000000001]\n",
      "BOP  fval:  2.5547566443021257  x:  [0.8]\n",
      "BOP  fval:  2.6051228533329613  x:  [1.0]\n",
      "BOP  fval:  2.6676195826358087  x:  [1.2000000000000002]\n",
      "BOP  fval:  2.7423624205033112  x:  [1.4000000000000001]\n",
      "BOP  fval:  2.8294571241919035  x:  [1.6]\n",
      "BOP  fval:  2.928999432018933  x:  [1.8]\n",
      "BOP  fval:  3.0410748836920902  x:  [2.0]\n",
      "BOP  fval:  3.165758649118103  x:  [2.2]\n",
      "BOP  fval:  3.3031153659314847  x:  [2.4000000000000004]\n",
      "BOP  fval:  3.453198985976831  x:  [2.6]\n",
      "BOP  fval:  3.6160526309708234  x:  [2.8000000000000003]\n",
      "BOP  fval:  3.759345035915927  x:  [2.964223091125092]\n",
      "BOP  fval:  5.142559105758477  x:  [4.221328742905087]\n",
      "BOP  fval:  5.232301445393674  x:  [4.289728088113785]\n",
      "BOP  fval:  5.162021010907781  x:  [4.236258693920628]\n",
      "BOP  fval:  3.9011871507690223  x:  [3.117818483929862]\n",
      "BOP  fval:  2.9958177255141085  x:  [1.9219085364634996]\n",
      "BOP  fval:  2.7790152992604855  x:  [1.4876730327223617]\n",
      "BOP  fval:  2.479893862980524  x:  [0.28356488658721596]\n",
      "BOP  fval:  2.7277174912159476  x:  [1.3632814729005662]\n",
      "BOP  fval:  3.29474827720568  x:  [2.38832558660675]\n",
      "BOP  fval:  2.4717471211937068  x:  [0.06785748168838869]\n",
      "BOP  fval:  2.471923839487339  x:  [0.08668164527856571]\n",
      "BOP  fval:  2.4716853287700316  x:  [0.055167275739035355]\n",
      "BOP  fval:  2.471804235954961  x:  [0.07523155737928779]\n",
      "BOP  fval:  2.471743796716661  x:  [0.02165665723467825]\n",
      "\u001B[91m Iteration:  45 :  gp_minimize:  fval:  2.4716023072302464  x:  [0.03671492133903263] \u001B[0m\n",
      "BOP  fval:  2.471677775058497  x:  [0.0]\n",
      "BOP  fval:  2.4739369071240316  x:  [0.2]\n",
      "BOP  fval:  2.4854141737002466  x:  [0.4]\n",
      "BOP  fval:  2.5062329086104866  x:  [0.6000000000000001]\n",
      "BOP  fval:  2.5365108707589297  x:  [0.8]\n",
      "BOP  fval:  2.5763601039589297  x:  [1.0]\n",
      "BOP  fval:  2.6258868001592077  x:  [1.2000000000000002]\n",
      "BOP  fval:  2.685191166206619  x:  [1.4000000000000001]\n",
      "BOP  fval:  2.7543672942819035  x:  [1.6]\n",
      "BOP  fval:  2.833503036143213  x:  [1.8]\n",
      "BOP  fval:  2.9226798813100783  x:  [2.0]\n",
      "BOP  fval:  3.0219728393175536  x:  [2.2]\n",
      "BOP  fval:  3.1314503261684816  x:  [2.4000000000000004]\n",
      "BOP  fval:  3.2511740551094537  x:  [2.6]\n",
      "BOP  fval:  3.381198931852257  x:  [2.8000000000000003]\n",
      "BOP  fval:  3.4957002245224245  x:  [2.964223091125092]\n",
      "BOP  fval:  4.605219442091756  x:  [4.221328742905087]\n",
      "BOP  fval:  4.6774602914835475  x:  [4.289728088113785]\n",
      "BOP  fval:  4.620883294603859  x:  [4.236258693920628]\n",
      "BOP  fval:  3.609127113199905  x:  [3.117818483929862]\n",
      "BOP  fval:  2.886660302086478  x:  [1.9219085364634996]\n",
      "BOP  fval:  2.7142950210437595  x:  [1.4876730327223617]\n",
      "BOP  fval:  2.4776040325810307  x:  [0.28356488658721596]\n",
      "BOP  fval:  2.6735661990120954  x:  [1.3632814729005662]\n",
      "BOP  fval:  3.124778874314292  x:  [2.38832558660675]\n",
      "BOP  fval:  2.471820286446315  x:  [0.11239685733303308]\n",
      "BOP  fval:  2.4714398372516477  x:  [0.07254960274306889]\n",
      "BOP  fval:  2.47142693911487  x:  [0.0697920319402079]\n",
      "BOP  fval:  2.471393529323589  x:  [0.0421592295088775]\n",
      "BOP  fval:  2.4717548240929808  x:  [0.10756720294074319]\n",
      "\u001B[91m Iteration:  46 :  gp_minimize:  fval:  2.4713217848466345  x:  [0.04283342990625076] \u001B[0m\n",
      "BOP  fval:  2.471392271662861  x:  [0.0]\n",
      "BOP  fval:  2.4753684883851412  x:  [0.2]\n",
      "BOP  fval:  2.4928234586511233  x:  [0.4]\n",
      "BOP  fval:  2.5239310715783976  x:  [0.6000000000000001]\n",
      "BOP  fval:  2.56885285756905  x:  [0.8]\n",
      "BOP  fval:  2.627737699926802  x:  [1.0]\n",
      "BOP  fval:  2.700721558204056  x:  [1.2000000000000002]\n",
      "BOP  fval:  2.7879272036953315  x:  [1.4000000000000001]\n",
      "BOP  fval:  2.889463967482677  x:  [1.6]\n",
      "BOP  fval:  3.005427501427198  x:  [1.8]\n",
      "BOP  fval:  3.1358995524886737  x:  [2.0]\n",
      "BOP  fval:  3.2809477507432994  x:  [2.2]\n",
      "BOP  fval:  3.4406254114554007  x:  [2.4000000000000004]\n",
      "BOP  fval:  3.614971351546996  x:  [2.6]\n",
      "BOP  fval:  3.804009720793349  x:  [2.8000000000000003]\n",
      "BOP  fval:  3.9702242088684554  x:  [2.964223091125092]\n",
      "BOP  fval:  5.56946455731922  x:  [4.221328742905087]\n",
      "BOP  fval:  5.672907517320133  x:  [4.289728088113785]\n",
      "BOP  fval:  5.591900827259668  x:  [4.236258693920628]\n",
      "BOP  fval:  4.134651284461465  x:  [3.117818483929862]\n",
      "BOP  fval:  3.083224635430144  x:  [1.9219085364634996]\n",
      "BOP  fval:  2.8306672515952345  x:  [1.4876730327223617]\n",
      "BOP  fval:  2.481011994350004  x:  [0.28356488658721596]\n",
      "BOP  fval:  2.7708459200259936  x:  [1.3632814729005662]\n",
      "BOP  fval:  3.430901884695016  x:  [2.38832558660675]\n",
      "BOP  fval:  2.4711208298009035  x:  [0.04477913373919107]\n",
      "BOP  fval:  2.4713404494156315  x:  [0.004035968099711577]\n",
      "BOP  fval:  2.6316058346525533  x:  [1.0116643544242463]\n",
      "BOP  fval:  2.4811274749052603  x:  [0.2849748100112626]\n",
      "BOP  fval:  2.471118841037731  x:  [0.038230563448323214]\n",
      "\u001B[91m Iteration:  47 :  gp_minimize:  fval:  2.4710574116379465  x:  [0.03364125641522812] \u001B[0m\n",
      "BOP  fval:  2.4711259649077033  x:  [0.0]\n",
      "BOP  fval:  2.4726539966849796  x:  [0.2]\n",
      "BOP  fval:  2.4815146790691194  x:  [0.4]\n",
      "BOP  fval:  2.4978065634396454  x:  [0.6000000000000001]\n",
      "BOP  fval:  2.5216247798673677  x:  [0.8]\n",
      "BOP  fval:  2.5530609481671513  x:  [1.0]\n",
      "BOP  fval:  2.5922030905185065  x:  [1.2000000000000002]\n",
      "BOP  fval:  2.6391355457239154  x:  [1.4000000000000001]\n",
      "BOP  fval:  2.6939388851739694  x:  [1.6]\n",
      "BOP  fval:  2.756689830588156  x:  [1.8]\n",
      "BOP  fval:  2.8274611735983983  x:  [2.0]\n",
      "BOP  fval:  2.9063216972433725  x:  [2.2]\n",
      "BOP  fval:  2.9933360994386704  x:  [2.4000000000000004]\n",
      "BOP  fval:  3.0885649184891815  x:  [2.6]\n",
      "BOP  fval:  3.1920644607071247  x:  [2.8000000000000003]\n",
      "BOP  fval:  3.283270031589791  x:  [2.964223091125092]\n",
      "BOP  fval:  4.169796413927907  x:  [4.221328742905087]\n",
      "BOP  fval:  4.227681660097037  x:  [4.289728088113785]\n",
      "BOP  fval:  4.182345914803804  x:  [4.236258693920628]\n",
      "BOP  fval:  3.373675351900312  x:  [3.117818483929862]\n",
      "BOP  fval:  2.7988690745824236  x:  [1.9219085364634996]\n",
      "BOP  fval:  2.6621858923985515  x:  [1.4876730327223617]\n",
      "BOP  fval:  2.47545864150611  x:  [0.28356488658721596]\n",
      "BOP  fval:  2.629931554486258  x:  [1.3632814729005662]\n",
      "BOP  fval:  2.9880317043373728  x:  [2.38832558660675]\n",
      "BOP  fval:  2.4708203574721854  x:  [0.056450411681433506]\n",
      "BOP  fval:  2.4708846501877404  x:  [0.08474714326734635]\n",
      "BOP  fval:  2.470825169943316  x:  [0.05062530077424244]\n",
      "BOP  fval:  2.471202564585723  x:  [0.12295412469234095]\n",
      "BOP  fval:  2.471068657068836  x:  [0.005727785262982233]\n",
      "\u001B[91m Iteration:  48 :  gp_minimize:  fval:  2.4708012421867758  x:  [0.051472902500560185] \u001B[0m\n",
      "BOP  fval:  2.4708240869103935  x:  [0.0]\n",
      "BOP  fval:  2.4775092908600813  x:  [0.2]\n",
      "BOP  fval:  2.5043742085604705  x:  [0.4]\n",
      "BOP  fval:  2.551663249177528  x:  [0.6000000000000001]\n",
      "BOP  fval:  2.6195924551251366  x:  [0.8]\n",
      "BOP  fval:  2.708348898102483  x:  [1.0]\n",
      "BOP  fval:  2.818090117022986  x:  [1.2000000000000002]\n",
      "BOP  fval:  2.948943599136215  x:  [1.4000000000000001]\n",
      "BOP  fval:  3.1010063055822106  x:  [1.6]\n",
      "BOP  fval:  3.2743442425535254  x:  [1.8]\n",
      "BOP  fval:  3.468992079172625  x:  [2.0]\n",
      "BOP  fval:  3.684952813123403  x:  [2.2]\n",
      "BOP  fval:  3.922197485003386  x:  [2.4000000000000004]\n",
      "BOP  fval:  4.180664942289475  x:  [2.6]\n",
      "BOP  fval:  4.460261653733846  x:  [2.8000000000000003]\n",
      "BOP  fval:  4.70555301208431  x:  [2.964223091125092]\n",
      "BOP  fval:  7.040523069123499  x:  [4.221328742905087]\n",
      "BOP  fval:  7.190020947425398  x:  [4.289728088113785]\n",
      "BOP  fval:  7.072964096650163  x:  [4.236258693920628]\n",
      "BOP  fval:  4.94771076734116  x:  [3.117818483929862]\n",
      "BOP  fval:  3.3904536268404613  x:  [1.9219085364634996]\n",
      "BOP  fval:  3.0129871110877224  x:  [1.4876730327223617]\n",
      "BOP  fval:  2.486265094392486  x:  [0.28356488658721596]\n",
      "BOP  fval:  2.92333283022175  x:  [1.3632814729005662]\n",
      "BOP  fval:  3.907765025404744  x:  [2.38832558660675]\n",
      "BOP  fval:  2.4705746846170955  x:  [0.02295387387980852]\n",
      "BOP  fval:  2.471391724676037  x:  [0.09138546818520554]\n",
      "BOP  fval:  2.4705614740210624  x:  [0.025957907066876954]\n",
      "BOP  fval:  2.4725713281241677  x:  [0.12323568756564465]\n",
      "BOP  fval:  2.4707859794123483  x:  [0.0023835261637683573]\n",
      "\u001B[91m Iteration:  49 :  gp_minimize:  fval:  2.4704331626677694  x:  [0.02553556743884399] \u001B[0m\n",
      "BOP  fval:  2.470563059470687  x:  [0.0]\n",
      "BOP  fval:  2.4700203321014724  x:  [0.2]\n",
      "BOP  fval:  2.4715784332095065  x:  [0.4]\n",
      "BOP  fval:  2.4752661769131783  x:  [0.6000000000000001]\n",
      "BOP  fval:  2.481112199601316  x:  [0.8]\n",
      "BOP  fval:  2.489144952547354  x:  [1.0]\n",
      "BOP  fval:  2.499392694520664  x:  [1.2000000000000002]\n",
      "BOP  fval:  2.511883484396718  x:  [1.4000000000000001]\n",
      "BOP  fval:  2.526645173767748  x:  [1.6]\n",
      "BOP  fval:  2.5437053995555434  x:  [1.8]\n",
      "BOP  fval:  2.5630915766280555  x:  [2.0]\n",
      "BOP  fval:  2.5848308904214248  x:  [2.2]\n",
      "BOP  fval:  2.6089502895692873  x:  [2.4000000000000004]\n",
      "BOP  fval:  2.635476478540763  x:  [2.6]\n",
      "BOP  fval:  2.6644359102891224  x:  [2.8000000000000003]\n",
      "BOP  fval:  2.6900526424083777  x:  [2.964223091125092]\n",
      "BOP  fval:  2.9425849811807723  x:  [4.221328742905087]\n",
      "BOP  fval:  2.95925945231438  x:  [4.289728088113785]\n",
      "BOP  fval:  2.9461982696159543  x:  [4.236258693920628]\n",
      "BOP  fval:  2.7155250479796127  x:  [3.117818483929862]\n",
      "BOP  fval:  2.5552435724195925  x:  [1.9219085364634996]\n",
      "BOP  fval:  2.5180733095493286  x:  [1.4876730327223617]\n",
      "BOP  fval:  2.470414174317756  x:  [0.28356488658721596]\n",
      "BOP  fval:  2.509420899572216  x:  [1.3632814729005662]\n",
      "BOP  fval:  2.607476503808472  x:  [2.38832558660675]\n",
      "BOP  fval:  2.4699620408495426  x:  [0.16070031789952424]\n",
      "BOP  fval:  2.469963588276184  x:  [0.16362215885646017]\n",
      "BOP  fval:  2.4702458828846257  x:  [0.2564181913866332]\n",
      "BOP  fval:  2.469985847648443  x:  [0.18341227096783266]\n",
      "BOP  fval:  2.4700260339138644  x:  [0.10182095864149922]\n",
      "\u001B[91m Iteration:  50 :  gp_minimize:  fval:  2.4699634270862076  x:  [0.14839376512173205] \u001B[0m\n",
      "BOP  fval:  2.469960430305733  x:  [0.0]\n",
      "BOP  fval:  2.506020894806835  x:  [0.2]\n",
      "BOP  fval:  2.6352416446662397  x:  [0.4]\n",
      "BOP  fval:  2.85804913042005  x:  [0.6000000000000001]\n",
      "BOP  fval:  3.1742475624826354  x:  [0.8]\n",
      "BOP  fval:  3.583014558669205  x:  [1.0]\n",
      "BOP  fval:  4.082901213317123  x:  [1.2000000000000002]\n",
      "BOP  fval:  4.671836628652409  x:  [1.4000000000000001]\n",
      "BOP  fval:  5.347136917001825  x:  [1.6]\n",
      "BOP  fval:  6.10551865005106  x:  [1.8]\n",
      "BOP  fval:  6.943116698822886  x:  [2.0]\n",
      "BOP  fval:  7.8555063756393135  x:  [2.2]\n",
      "BOP  fval:  8.83772975727552  x:  [2.4000000000000004]\n",
      "BOP  fval:  9.88432603704395  x:  [2.6]\n",
      "BOP  fval:  10.98936572290931  x:  [2.8000000000000003]\n",
      "BOP  fval:  11.935968118556433  x:  [2.964223091125092]\n",
      "BOP  fval:  19.9241147194289  x:  [4.221328742905087]\n",
      "BOP  fval:  20.374850675856518  x:  [4.289728088113785]\n",
      "BOP  fval:  20.02252632683529  x:  [4.236258693920628]\n",
      "BOP  fval:  12.849806972086272  x:  [3.117818483929862]\n",
      "BOP  fval:  6.6069140168217  x:  [1.9219085364634996]\n",
      "BOP  fval:  4.957413341232647  x:  [1.4876730327223617]\n",
      "BOP  fval:  2.548643415237575  x:  [0.28356488658721596]\n",
      "BOP  fval:  4.557152468115789  x:  [1.3632814729005662]\n",
      "BOP  fval:  8.778571006559053  x:  [2.38832558660675]\n",
      "BOP  fval:  2.4699553230544433  x:  [0.00010013735844962765]\n",
      "BOP  fval:  2.469926350556359  x:  [0.0006770210437450233]\n",
      "BOP  fval:  2.469748484135127  x:  [0.004629295175210269]\n",
      "BOP  fval:  2.469745299639209  x:  [0.004708201373285204]\n",
      "BOP  fval:  2.4694038638958293  x:  [0.025129559652424253]\n",
      "\u001B[91m Iteration:  51 :  gp_minimize:  fval:  2.4690257458838483  x:  [0.008442223916240141] \u001B[0m\n",
      "BOP  fval:  2.469611012538215  x:  [0.0]\n",
      "BOP  fval:  2.4800885228421214  x:  [0.2]\n",
      "BOP  fval:  2.5200568590282093  x:  [0.4]\n",
      "BOP  fval:  2.589838006361342  x:  [0.6000000000000001]\n",
      "BOP  fval:  2.6896926616484316  x:  [0.8]\n",
      "BOP  fval:  2.819819081380016  x:  [1.0]\n",
      "BOP  fval:  2.9803520646737893  x:  [1.2000000000000002]\n",
      "BOP  fval:  3.171362074622343  x:  [1.4000000000000001]\n",
      "BOP  fval:  3.392854501347269  x:  [1.6]\n",
      "BOP  fval:  3.644769069751194  x:  [1.8]\n",
      "BOP  fval:  3.9269793946390665  x:  [2.0]\n",
      "BOP  fval:  4.2392926855511135  x:  [2.2]\n",
      "BOP  fval:  4.581449603311108  x:  [2.4000000000000004]\n",
      "BOP  fval:  4.953124269949214  x:  [2.6]\n",
      "BOP  fval:  5.353924433305801  x:  [2.8000000000000003]\n",
      "BOP  fval:  5.704483825733004  x:  [2.964223091125092]\n",
      "BOP  fval:  8.992515551298032  x:  [4.221328742905087]\n",
      "BOP  fval:  9.200021503453701  x:  [4.289728088113785]\n",
      "BOP  fval:  9.037575224120836  x:  [4.236258693920628]\n",
      "BOP  fval:  6.0495968282239705  x:  [3.117818483929862]\n",
      "BOP  fval:  3.813193939699742  x:  [1.9219085364634996]\n",
      "BOP  fval:  3.264706274229074  x:  [1.4876730327223617]\n",
      "BOP  fval:  2.49318160337495  x:  [0.28356488658721596]\n",
      "BOP  fval:  3.1340088747229222  x:  [1.3632814729005662]\n",
      "BOP  fval:  4.560662506272719  x:  [2.38832558660675]\n",
      "BOP  fval:  2.4723930240064793  x:  [0.12021390038887414]\n",
      "BOP  fval:  2.4719865492880997  x:  [0.11394409554584929]\n",
      "BOP  fval:  2.504665762287069  x:  [0.3387610751013915]\n",
      "BOP  fval:  2.4693796403621784  x:  [0.015244003797487141]\n",
      "BOP  fval:  2.469441787548684  x:  [0.04701351473123193]\n",
      "\u001B[91m Iteration:  52 :  gp_minimize:  fval:  2.468989185992707  x:  [0.01981079131108844] \u001B[0m\n",
      "BOP  fval:  2.4693432777125057  x:  [0.0]\n",
      "BOP  fval:  2.4680277118031144  x:  [0.2]\n",
      "BOP  fval:  2.466762819229242  x:  [0.4]\n",
      "BOP  fval:  2.465548938783833  x:  [0.6000000000000001]\n",
      "BOP  fval:  2.464386410773806  x:  [0.8]\n",
      "BOP  fval:  2.4632755770189974  x:  [1.0]\n",
      "BOP  fval:  2.4622167808511803  x:  [1.2000000000000002]\n",
      "BOP  fval:  2.4612103671129937  x:  [1.4000000000000001]\n",
      "BOP  fval:  2.460256682156893  x:  [1.6]\n",
      "BOP  fval:  2.4593560738441442  x:  [1.8]\n",
      "BOP  fval:  2.4585088915436946  x:  [2.0]\n",
      "BOP  fval:  2.457715486131159  x:  [2.2]\n",
      "BOP  fval:  2.456976209987742  x:  [2.4000000000000004]\n",
      "BOP  fval:  2.4562914169991616  x:  [2.6]\n",
      "BOP  fval:  2.4556614625545143  x:  [2.8000000000000003]\n",
      "BOP  fval:  2.4551854494034533  x:  [2.964223091125092]\n",
      "BOP  fval:  2.4527956602430177  x:  [4.221328742905087]\n",
      "BOP  fval:  2.452730285716337  x:  [4.289728088113785]\n",
      "BOP  fval:  2.4527808135105142  x:  [4.236258693920628]\n",
      "BOP  fval:  2.454774096919559  x:  [3.117818483929862]\n",
      "BOP  fval:  2.4588332999978113  x:  [1.9219085364634996]\n",
      "BOP  fval:  2.460785793411434  x:  [1.4876730327223617]\n",
      "BOP  fval:  2.4674930262683445  x:  [0.28356488658721596]\n",
      "BOP  fval:  2.461391195861464  x:  [1.3632814729005662]\n",
      "BOP  fval:  2.4570178691754774  x:  [2.38832558660675]\n",
      "BOP  fval:  2.4529755499843127  x:  [4.060843643877467]\n",
      "BOP  fval:  2.4558887905754663  x:  [2.7257884294374364]\n",
      "BOP  fval:  2.4650678314216563  x:  [0.6816984971174002]\n",
      "BOP  fval:  2.4604735360043675  x:  [1.553533012755365]\n",
      "BOP  fval:  2.455405460143817  x:  [2.886715904970453]\n",
      "\u001B[91m Iteration:  53 :  gp_minimize:  fval:  2.452368828175848  x:  [5.0] \u001B[0m\n",
      "BOP  fval:  2.452454450447334  x:  [0.0]\n",
      "BOP  fval:  3.384490274448475  x:  [0.2]\n",
      "BOP  fval:  6.437514802263795  x:  [0.4]\n",
      "BOP  fval:  11.18672621084691  x:  [0.6000000000000001]\n",
      "BOP  fval:  16.965548699915153  x:  [0.8]\n",
      "BOP  fval:  22.965481165880966  x:  [1.0]\n",
      "BOP  fval:  28.357529007681315  x:  [1.2000000000000002]\n",
      "BOP  fval:  32.41666211890477  x:  [1.4000000000000001]\n",
      "BOP  fval:  34.630218998086285  x:  [1.6]\n",
      "BOP  fval:  34.77359438162046  x:  [1.8]\n",
      "BOP  fval:  32.94154448944832  x:  [2.0]\n",
      "BOP  fval:  29.530258579061503  x:  [2.2]\n",
      "BOP  fval:  25.172932722039064  x:  [2.4000000000000004]\n",
      "BOP  fval:  20.638772519222158  x:  [2.6]\n",
      "BOP  fval:  16.71103320681294  x:  [2.8000000000000003]\n",
      "BOP  fval:  14.418850821299543  x:  [2.964223091125092]\n",
      "BOP  fval:  30.588519636588458  x:  [4.221328742905087]\n",
      "BOP  fval:  31.915564700404722  x:  [4.289728088113785]\n",
      "BOP  fval:  30.889545943146558  x:  [4.236258693920628]\n",
      "BOP  fval:  13.297898696987767  x:  [3.117818483929862]\n",
      "BOP  fval:  33.87280423719539  x:  [1.9219085364634996]\n",
      "BOP  fval:  33.63467777089108  x:  [1.4876730327223617]\n",
      "BOP  fval:  4.420132517422486  x:  [0.28356488658721596]\n",
      "BOP  fval:  31.798125533757897  x:  [1.3632814729005662]\n",
      "BOP  fval:  25.439909100060344  x:  [2.38832558660675]\n"
     ]
    },
    {
     "name": "stderr",
     "output_type": "stream",
     "text": [
      "C:\\Users\\Dennis\\SynologyDrive\\Development\\Bachelorarbeit\\squlearn\\venv\\lib\\site-packages\\skopt\\optimizer\\optimizer.py:449: UserWarning: The objective has been evaluated at this point before.\n",
      "  warnings.warn(\"The objective has been evaluated \"\n"
     ]
    },
    {
     "name": "stdout",
     "output_type": "stream",
     "text": [
      "BOP  fval:  2.452454450447334  x:  [0.0]\n",
      "BOP  fval:  2.452434854027858  x:  [2.005842783037171e-05]\n"
     ]
    },
    {
     "name": "stderr",
     "output_type": "stream",
     "text": [
      "C:\\Users\\Dennis\\SynologyDrive\\Development\\Bachelorarbeit\\squlearn\\venv\\lib\\site-packages\\skopt\\optimizer\\optimizer.py:449: UserWarning: The objective has been evaluated at this point before.\n",
      "  warnings.warn(\"The objective has been evaluated \"\n"
     ]
    },
    {
     "name": "stdout",
     "output_type": "stream",
     "text": [
      "BOP  fval:  2.452454450447334  x:  [0.0]\n"
     ]
    },
    {
     "name": "stderr",
     "output_type": "stream",
     "text": [
      "C:\\Users\\Dennis\\SynologyDrive\\Development\\Bachelorarbeit\\squlearn\\venv\\lib\\site-packages\\skopt\\optimizer\\optimizer.py:449: UserWarning: The objective has been evaluated at this point before.\n",
      "  warnings.warn(\"The objective has been evaluated \"\n"
     ]
    },
    {
     "name": "stdout",
     "output_type": "stream",
     "text": [
      "BOP  fval:  2.452454450447334  x:  [0.0]\n",
      "BOP  fval:  2.4440433970590174  x:  [0.01783928737051157]\n",
      "\u001B[91m Iteration:  54 :  gp_minimize:  fval:  2.4496400762405273  x:  [0.003293471831935508] \u001B[0m\n",
      "BOP  fval:  2.4495425467755605  x:  [0.0]\n",
      "BOP  fval:  3.0610094419663336  x:  [0.2]\n",
      "BOP  fval:  5.095790232244299  x:  [0.4]\n",
      "BOP  fval:  8.371050682371628  x:  [0.6000000000000001]\n",
      "BOP  fval:  12.58704028556651  x:  [0.8]\n",
      "BOP  fval:  17.356408219658196  x:  [1.0]\n",
      "BOP  fval:  22.24230566713274  x:  [1.2000000000000002]\n",
      "BOP  fval:  26.801467352644814  x:  [1.4000000000000001]\n",
      "BOP  fval:  30.62794816150787  x:  [1.6]\n",
      "BOP  fval:  33.39310963119203  x:  [1.8]\n",
      "BOP  fval:  34.87781602225454  x:  [2.0]\n",
      "BOP  fval:  34.99357543624042  x:  [2.2]\n",
      "BOP  fval:  33.790471076746115  x:  [2.4000000000000004]\n",
      "BOP  fval:  31.451060055260342  x:  [2.6]\n",
      "BOP  fval:  28.270837858391147  x:  [2.8000000000000003]\n",
      "BOP  fval:  25.29456439139328  x:  [2.964223091125092]\n",
      "BOP  fval:  14.369998419314767  x:  [4.221328742905087]\n",
      "BOP  fval:  15.014265213805938  x:  [4.289728088113785]\n",
      "BOP  fval:  14.499331972811868  x:  [4.236258693920628]\n",
      "BOP  fval:  22.433109238330523  x:  [3.117818483929862]\n",
      "BOP  fval:  34.45918140690402  x:  [1.9219085364634996]\n",
      "BOP  fval:  28.5906425078487  x:  [1.4876730327223617]\n",
      "BOP  fval:  3.7456654387643473  x:  [0.28356488658721596]\n",
      "BOP  fval:  26.0081657840188  x:  [1.3632814729005662]\n",
      "BOP  fval:  33.894278511999254  x:  [2.38832558660675]\n"
     ]
    },
    {
     "name": "stderr",
     "output_type": "stream",
     "text": [
      "C:\\Users\\Dennis\\SynologyDrive\\Development\\Bachelorarbeit\\squlearn\\venv\\lib\\site-packages\\skopt\\optimizer\\optimizer.py:449: UserWarning: The objective has been evaluated at this point before.\n",
      "  warnings.warn(\"The objective has been evaluated \"\n"
     ]
    },
    {
     "name": "stdout",
     "output_type": "stream",
     "text": [
      "BOP  fval:  2.4495425467755605  x:  [0.0]\n"
     ]
    },
    {
     "name": "stderr",
     "output_type": "stream",
     "text": [
      "C:\\Users\\Dennis\\SynologyDrive\\Development\\Bachelorarbeit\\squlearn\\venv\\lib\\site-packages\\skopt\\optimizer\\optimizer.py:449: UserWarning: The objective has been evaluated at this point before.\n",
      "  warnings.warn(\"The objective has been evaluated \"\n"
     ]
    },
    {
     "name": "stdout",
     "output_type": "stream",
     "text": [
      "BOP  fval:  2.4495425467755605  x:  [0.0]\n"
     ]
    },
    {
     "name": "stderr",
     "output_type": "stream",
     "text": [
      "C:\\Users\\Dennis\\SynologyDrive\\Development\\Bachelorarbeit\\squlearn\\venv\\lib\\site-packages\\skopt\\optimizer\\optimizer.py:449: UserWarning: The objective has been evaluated at this point before.\n",
      "  warnings.warn(\"The objective has been evaluated \"\n"
     ]
    },
    {
     "name": "stdout",
     "output_type": "stream",
     "text": [
      "BOP  fval:  2.4495425467755605  x:  [0.0]\n"
     ]
    },
    {
     "name": "stderr",
     "output_type": "stream",
     "text": [
      "C:\\Users\\Dennis\\SynologyDrive\\Development\\Bachelorarbeit\\squlearn\\venv\\lib\\site-packages\\skopt\\optimizer\\optimizer.py:449: UserWarning: The objective has been evaluated at this point before.\n",
      "  warnings.warn(\"The objective has been evaluated \"\n"
     ]
    },
    {
     "name": "stdout",
     "output_type": "stream",
     "text": [
      "BOP  fval:  2.4495425467755605  x:  [0.0]\n"
     ]
    },
    {
     "name": "stderr",
     "output_type": "stream",
     "text": [
      "C:\\Users\\Dennis\\SynologyDrive\\Development\\Bachelorarbeit\\squlearn\\venv\\lib\\site-packages\\skopt\\optimizer\\optimizer.py:449: UserWarning: The objective has been evaluated at this point before.\n",
      "  warnings.warn(\"The objective has been evaluated \"\n"
     ]
    },
    {
     "name": "stdout",
     "output_type": "stream",
     "text": [
      "BOP  fval:  2.4495425467755605  x:  [0.0]\n",
      "\u001B[91m Iteration:  55 :  gp_minimize:  fval:  2.4487146358867165  x:  [0.0008917457540263691] \u001B[0m\n",
      "BOP  fval:  2.4489868293499626  x:  [0.0]\n",
      "BOP  fval:  2.9990540334003466  x:  [0.2]\n",
      "BOP  fval:  4.835038227941742  x:  [0.4]\n",
      "BOP  fval:  7.809339729222485  x:  [0.6000000000000001]\n",
      "BOP  fval:  11.677711194316837  x:  [0.8]\n",
      "BOP  fval:  16.120706895869773  x:  [1.0]\n",
      "BOP  fval:  20.771922365433472  x:  [1.2000000000000002]\n",
      "BOP  fval:  25.25048937689063  x:  [1.4000000000000001]\n",
      "BOP  fval:  29.194894843822045  x:  [1.6]\n",
      "BOP  fval:  32.29506136970849  x:  [1.8]\n",
      "BOP  fval:  34.31977499148465  x:  [2.0]\n",
      "BOP  fval:  35.13695978718243  x:  [2.2]\n",
      "BOP  fval:  34.72494279854358  x:  [2.4000000000000004]\n",
      "BOP  fval:  33.17366834199932  x:  [2.6]\n",
      "BOP  fval:  30.675734496236373  x:  [2.8000000000000003]\n",
      "BOP  fval:  28.109490784766468  x:  [2.964223091125092]\n",
      "BOP  fval:  13.260775003580214  x:  [4.221328742905087]\n",
      "BOP  fval:  13.442008604928574  x:  [4.289728088113785]\n",
      "BOP  fval:  13.288945367602036  x:  [4.236258693920628]\n",
      "BOP  fval:  25.46239930817248  x:  [3.117818483929862]\n",
      "BOP  fval:  33.66799793154417  x:  [1.9219085364634996]\n",
      "BOP  fval:  27.065158244616818  x:  [1.4876730327223617]\n",
      "BOP  fval:  3.6158674947112828  x:  [0.28356488658721596]\n",
      "BOP  fval:  24.458112055948614  x:  [1.3632814729005662]\n",
      "BOP  fval:  34.78168455953925  x:  [2.38832558660675]\n"
     ]
    },
    {
     "name": "stderr",
     "output_type": "stream",
     "text": [
      "C:\\Users\\Dennis\\SynologyDrive\\Development\\Bachelorarbeit\\squlearn\\venv\\lib\\site-packages\\skopt\\optimizer\\optimizer.py:449: UserWarning: The objective has been evaluated at this point before.\n",
      "  warnings.warn(\"The objective has been evaluated \"\n"
     ]
    },
    {
     "name": "stdout",
     "output_type": "stream",
     "text": [
      "BOP  fval:  2.4489868293499626  x:  [0.0]\n"
     ]
    },
    {
     "name": "stderr",
     "output_type": "stream",
     "text": [
      "C:\\Users\\Dennis\\SynologyDrive\\Development\\Bachelorarbeit\\squlearn\\venv\\lib\\site-packages\\skopt\\optimizer\\optimizer.py:449: UserWarning: The objective has been evaluated at this point before.\n",
      "  warnings.warn(\"The objective has been evaluated \"\n"
     ]
    },
    {
     "name": "stdout",
     "output_type": "stream",
     "text": [
      "BOP  fval:  2.4489868293499626  x:  [0.0]\n"
     ]
    },
    {
     "name": "stderr",
     "output_type": "stream",
     "text": [
      "C:\\Users\\Dennis\\SynologyDrive\\Development\\Bachelorarbeit\\squlearn\\venv\\lib\\site-packages\\skopt\\optimizer\\optimizer.py:449: UserWarning: The objective has been evaluated at this point before.\n",
      "  warnings.warn(\"The objective has been evaluated \"\n"
     ]
    },
    {
     "name": "stdout",
     "output_type": "stream",
     "text": [
      "BOP  fval:  2.4489868293499626  x:  [0.0]\n"
     ]
    },
    {
     "name": "stderr",
     "output_type": "stream",
     "text": [
      "C:\\Users\\Dennis\\SynologyDrive\\Development\\Bachelorarbeit\\squlearn\\venv\\lib\\site-packages\\skopt\\optimizer\\optimizer.py:449: UserWarning: The objective has been evaluated at this point before.\n",
      "  warnings.warn(\"The objective has been evaluated \"\n"
     ]
    },
    {
     "name": "stdout",
     "output_type": "stream",
     "text": [
      "BOP  fval:  2.4489868293499626  x:  [0.0]\n"
     ]
    },
    {
     "name": "stderr",
     "output_type": "stream",
     "text": [
      "C:\\Users\\Dennis\\SynologyDrive\\Development\\Bachelorarbeit\\squlearn\\venv\\lib\\site-packages\\skopt\\optimizer\\optimizer.py:449: UserWarning: The objective has been evaluated at this point before.\n",
      "  warnings.warn(\"The objective has been evaluated \"\n"
     ]
    },
    {
     "name": "stdout",
     "output_type": "stream",
     "text": [
      "BOP  fval:  2.4489868293499626  x:  [0.0]\n",
      "\u001B[91m Iteration:  56 :  gp_minimize:  fval:  2.448091637942227  x:  [0.0] \u001B[0m\n"
     ]
    }
   ],
   "source": [
    "qnn_simulator.fit(x_train, y_train)"
   ]
  },
  {
   "cell_type": "code",
   "execution_count": 32,
   "metadata": {
    "ExecuteTime": {
     "end_time": "2023-11-28T14:50:55.145254200Z",
     "start_time": "2023-11-28T14:50:55.058263600Z"
    }
   },
   "outputs": [
    {
     "data": {
      "text/plain": "array([18.83653157])"
     },
     "execution_count": 32,
     "metadata": {},
     "output_type": "execute_result"
    }
   ],
   "source": [
    "qnn_simulator.param"
   ]
  },
  {
   "cell_type": "code",
   "execution_count": 33,
   "metadata": {
    "ExecuteTime": {
     "end_time": "2023-11-28T14:50:55.147275100Z",
     "start_time": "2023-11-28T14:50:55.062258800Z"
    }
   },
   "outputs": [
    {
     "data": {
      "text/plain": "array([7.12549012])"
     },
     "execution_count": 33,
     "metadata": {},
     "output_type": "execute_result"
    }
   ],
   "source": [
    "qnn_simulator.param_op"
   ]
  },
  {
   "cell_type": "code",
   "execution_count": 34,
   "metadata": {
    "ExecuteTime": {
     "end_time": "2023-11-28T14:50:55.190263700Z",
     "start_time": "2023-11-28T14:50:55.068262300Z"
    }
   },
   "outputs": [
    {
     "data": {
      "text/plain": "2.4489868293499626"
     },
     "execution_count": 34,
     "metadata": {},
     "output_type": "execute_result"
    }
   ],
   "source": [
    "evaluate_loss([qnn_simulator.param,qnn_simulator.param_op], qnn_simulator, x_train, y_train)"
   ]
  },
  {
   "cell_type": "code",
   "execution_count": 35,
   "metadata": {
    "ExecuteTime": {
     "end_time": "2023-11-28T14:51:00.457726800Z",
     "start_time": "2023-11-28T14:50:55.125261900Z"
    }
   },
   "outputs": [
    {
     "data": {
      "text/plain": "<Figure size 640x480 with 1 Axes>",
      "image/png": "[encoded data removed]"
     },
     "metadata": {},
     "output_type": "display_data"
    }
   ],
   "source": [
    "x = np.arange(np.min(x_train), np.max(x_train) + 0.01, 0.01)\n",
    "y = qnn_simulator.predict(x)  # function for evaluating the prediction of the QNN\n",
    "plt.plot(x, np.sin(6.0*x), label=\"Parabola function\")\n",
    "plt.plot(x, y, label=\"QNN inference\")\n",
    "plt.plot(x_train, y_train, \"x\", label=\"training data\")\n",
    "plt.legend()\n",
    "plt.title(\"QNN inference of a parabola function\")\n",
    "plt.show()"
   ]
  },
  {
   "cell_type": "code",
   "execution_count": 36,
   "metadata": {
    "ExecuteTime": {
     "end_time": "2023-11-28T15:12:44.744337200Z",
     "start_time": "2023-11-28T14:51:00.488724600Z"
    }
   },
   "outputs": [
    {
     "data": {
      "text/plain": "<Figure size 640x480 with 1 Axes>",
      "image/png": "[encoded data removed]"
     },
     "metadata": {},
     "output_type": "display_data"
    }
   ],
   "source": [
    "# Lese die Optimierungskoordinaten aus der Datei \"params.log\"\n",
    "optimization_data = np.loadtxt(\"sglbo_noiseless_params2.log\")\n",
    "optimization_x = optimization_data[:, 0]\n",
    "optimization_y = optimization_data[:, 1]\n",
    "\n",
    "# plot the decision function for each datapoint on the grid\n",
    "xx, yy = np.meshgrid(np.linspace(-3, 3, 50), np.linspace(-1, 15, 50))\n",
    "Z = []\n",
    "for i in range(len(xx)):\n",
    "    for j in range(len(xx[i])):\n",
    "        param = np.array([xx[i][j], yy[i][j]])\n",
    "        Z.append(evaluate_loss(param, qnn_simulator, x_train, y_train))\n",
    "\n",
    "Z = np.array(Z)\n",
    "Z = Z.reshape(xx.shape)\n",
    "#norm = mpl.colors.Normalize(vmin=-max(abs(np.min(Z)),abs(np.max(Z))), vmax=max(abs(np.min(Z)),abs(np.max(Z))))\n",
    "im = plt.imshow(\n",
    "    Z,\n",
    "    interpolation=\"bilinear\",\n",
    "    extent=(xx.min(), xx.max(), yy.min(), yy.max()),\n",
    "    aspect=\"auto\",\n",
    "    origin=\"lower\",\n",
    "    cmap=plt.cm.PuOr_r,\n",
    "    #norm=norm\n",
    ")\n",
    "\n",
    "# Verbinde die Punkte im Scatter Plot mit einer Linie\n",
    "plt.plot(optimization_x, optimization_y, c='red', linestyle='-', linewidth=2, label='Convergence Line')\n",
    "\n",
    "# Plot backtransformed hyperplane\n",
    "contours = plt.contour(xx, yy, Z, levels=[0,0.5,1,2,3,4,5,6,7], linewidths=2, linestyles=\"dashed\")\n",
    "\n",
    "# Plot training data\n",
    "plt.axis([-3, 3, -1, 15])\n",
    "plt.xlabel('X-Axis')\n",
    "plt.ylabel('Y-Axis')\n",
    "plt.title('Contour Plot with Optimization Path')\n",
    "plt.legend()\n",
    "plt.show()"
   ]
  }
 ],
 "metadata": {
  "interpreter": {
   "hash": "26de051ba29f2982a8de78e945f0abaf191376122a1563185a90213a26c5da77"
  },
  "kernelspec": {
   "display_name": "Python 3.10.2 64-bit",
   "language": "python",
   "name": "python3"
  },
  "language_info": {
   "codemirror_mode": {
    "name": "ipython",
    "version": 3
   },
   "file_extension": ".py",
   "mimetype": "text/x-python",
   "name": "python",
   "nbconvert_exporter": "python",
   "pygments_lexer": "ipython3",
   "version": "3.10.2"
  },
  "orig_nbformat": 4
 },
 "nbformat": 4,
 "nbformat_minor": 2
}
